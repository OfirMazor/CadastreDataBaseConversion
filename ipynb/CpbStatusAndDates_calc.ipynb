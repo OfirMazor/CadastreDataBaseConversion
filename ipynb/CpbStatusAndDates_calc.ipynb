{
 "cells": [
  {
   "cell_type": "markdown",
   "id": "18a60219-1056-49d5-8d09-0d390ac361c2",
   "metadata": {},
   "source": [
    "<h1 style=\"background-color:#1c6ce6;\n",
    "           font-family:segoe ui;\n",
    "                color:#FFF9ED;\n",
    "           font-size:300%;\n",
    "           text-align:center;\n",
    "           border-radius:10px 10px;\"> \n",
    "📅⏱️ הסבת טבלת סטאטוסים ותאריכים לבנק\"ל מודרני ⏱️📅 "
   ]
  },
  {
   "cell_type": "code",
   "execution_count": null,
   "id": "94f2049b-e49a-4100-bac4-5f38c1e115e6",
   "metadata": {},
   "outputs": [],
   "source": [
    "print('Status & Dates Table:')"
   ]
  },
  {
   "cell_type": "markdown",
   "id": "299ffdce-9a3d-4bd2-a9cd-f3dfa3dc3120",
   "metadata": {},
   "source": [
    "<h1 style=\"text-align:right; font-size:150%; color:#1c6ce6;\">\n",
    "ספריות 📚"
   ]
  },
  {
   "cell_type": "code",
   "execution_count": null,
   "id": "acac4996-3604-4832-85cb-4c5d2ade95f8",
   "metadata": {
    "tags": []
   },
   "outputs": [],
   "source": [
    "import warnings\n",
    "warnings.filterwarnings('ignore')\n",
    "\n",
    "import numpy as np\n",
    "import pandas as pd\n",
    "import geopandas as gpd\n",
    "from configs import CNFG\n",
    "import dask_geopandas as daskgpd"
   ]
  },
  {
   "cell_type": "markdown",
   "id": "5236c09d-dc7a-4c5a-8e25-689f5c14682e",
   "metadata": {},
   "source": [
    "<h1 style=\"text-align:right; font-size:150%; color:#1c6ce6;\">קריאת נתונים 📑 "
   ]
  },
  {
   "cell_type": "code",
   "execution_count": null,
   "id": "6db02b1c-300e-46a7-99b1-e38ef4e77d40",
   "metadata": {},
   "outputs": [],
   "source": [
    "print('  Reading inputs')"
   ]
  },
  {
   "cell_type": "markdown",
   "id": "7c0ed634-c2c1-4e79-8a63-c1f90f4e809f",
   "metadata": {},
   "source": [
    "<h1 style=\"text-align:right;font-size:125%\">\n",
    "שכבת גבולות תהליכי קדסטר מודרנית"
   ]
  },
  {
   "cell_type": "code",
   "execution_count": null,
   "id": "d5fe3997-9796-4659-a049-8863db514c88",
   "metadata": {},
   "outputs": [],
   "source": [
    "CadasterProcessBorders_cols = ['GlobalID', 'ProcessName', 'ProcessType', 'Status', 'ORACLE_ID']\n",
    "\n",
    "CadasterProcessBorders = daskgpd.read_file(CNFG.ProductPath, layer = 'CadasterProcessBorders', columns = CadasterProcessBorders_cols, npartitions = 8).compute()\n",
    "CadasterProcessBorders.rename(columns = {'GlobalID' : 'CPBUniqueID'}, inplace = True)\n",
    "\n",
    "del CadasterProcessBorders_cols"
   ]
  },
  {
   "cell_type": "markdown",
   "id": "f8e33f5c-bc8d-4b76-96a2-d3d32e7321b4",
   "metadata": {},
   "source": [
    "<h1 style=\"text-align:right;font-size:125%\">\n",
    ":נתוני תצ\"ר\n",
    "<h1 style=\"text-align:right;font-size:100%\">\n",
    "טבלת סטאטוסים של תצ\"ר מאורקל\n",
    "<h1 style=\"text-align:right;font-size:100%\">\n",
    "טבלת תצ\"ר מאורקל\n",
    "<h1 style=\"text-align:right;font-size:100%\">\n",
    "טבלת סטאטוסים של תצ\"ר ממערכת ניהול קדסטר\n",
    "<h1 style=\"text-align:right;font-size:100%\">\n",
    "שכבת גבולות תצ\"ר משכבה מודרנית\n",
    "<h1 style=\"text-align:right;font-size:100%\">"
   ]
  },
  {
   "cell_type": "code",
   "execution_count": null,
   "id": "cf543fd4-febc-4aee-bee1-39e354d84506",
   "metadata": {},
   "outputs": [],
   "source": [
    "Tazar_status_oracle = pd.read_csv(CNFG.Oracle + 'talar_status.csv', encoding = 'cp1255', parse_dates = ['STATUS_DATE'], dayfirst = True,\n",
    "                                  usecols = ['TALAR_ID','STATUS_ID','STATUS_DATE'])\n",
    "\n",
    "Tazar_oracle = pd.read_excel(CNFG.Oracle + 'TALAR.xlsx', usecols = ['TALAR_ID','TALAR_NUM','TALAR_YEAR', 'UPDATE_REGISTER_DATE', 'VALID_TO_DATE'])\n",
    "\n",
    "tazar_status_hagi = pd.read_csv(CNFG.Local + 'hagi_status&dates_tazar.csv', parse_dates = ['StatusDate'], dayfirst = True).rename(columns={'StatusDate':'StatusDate_Oracle'})\n",
    "\n",
    "tazar_validity_extension = pd.read_csv(CNFG.Oracle + 'register_date_history.csv', usecols = ['TALAR_ID'])['TALAR_ID'].to_list()\n",
    "\n",
    "Tazar_product = CadasterProcessBorders[CadasterProcessBorders['ProcessType'].isin([1,11])]"
   ]
  },
  {
   "cell_type": "markdown",
   "id": "1c8b722b-4337-43ba-a054-fc7c2199d066",
   "metadata": {},
   "source": [
    "<h1 style=\"text-align:right;font-size:125%\">\n",
    ":נתוני תת\"ג\n",
    "<h1 style=\"text-align:right;font-size:100%\">\n",
    "טבלת סטאטוסים של תת\"ג מאורקל\n",
    "<h1 style=\"text-align:right;font-size:100%\">\n",
    "טבלת סטאטוסים של תצ\"ר ממערכת ניהול קדסטר\n",
    "<h1 style=\"text-align:right;font-size:100%\">\n",
    "שכבת גבולות תת\"ג משכבה מודרנית"
   ]
  },
  {
   "cell_type": "code",
   "execution_count": null,
   "id": "404ab727-57ad-4724-9b7d-6ae959183f21",
   "metadata": {},
   "outputs": [],
   "source": [
    "Tatag_status_oracle = pd.read_csv(CNFG.Oracle + 'tatag_status.csv',\n",
    "                                  usecols  = ['TATAG_NUM', 'TATAG_YEAR', 'STATUS_ID', 'STATUS_DATE'],\n",
    "                                  encoding = 'cp1255')\n",
    "\n",
    "\n",
    "\n",
    "tatag_status_hagi = pd.read_csv(CNFG.Local + 'hagi_status&dates_tatag.csv',\n",
    "                                parse_dates = ['StatusDate'],\n",
    "                                dayfirst    = True)\n",
    "\n",
    "\n",
    "Tatag_product = CadasterProcessBorders[CadasterProcessBorders['ProcessType'] == 4].sort_values('Status')"
   ]
  },
  {
   "cell_type": "markdown",
   "id": "beaab25b-a1f6-44e2-85ac-daa36afcec76",
   "metadata": {},
   "source": [
    "<h1 style=\"text-align:right;font-size:125%\">\n",
    ":נתוני פס\"ד\n",
    "<h1 style=\"text-align:right;font-size:100%\">\n",
    "טבלת סטאטוסים של פס\"ד\n",
    "<h1 style=\"text-align:right;font-size:100%\">\n",
    "(תיקון קצר של ערכי הטבלה)\n",
    "<h1 style=\"text-align:right;font-size:100%\">\n",
    "שכבת גבולות פס\"ד משכבה מודרנית"
   ]
  },
  {
   "cell_type": "code",
   "execution_count": null,
   "id": "1764bb7e-e66b-4a7e-8b6f-dead31ea9fb8",
   "metadata": {},
   "outputs": [],
   "source": [
    "Judgments_table_cols = ['PSAK_DIN_NUM', 'PSAK_DIN_YEAR', 'STATUS', 'STATUS_DATE', 'START_DATE', 'TO_PKID_HESDER', 'FROM_PKID_HESDER']\n",
    "Judgments_table_dates = ['STATUS_DATE', 'START_DATE', 'TO_PKID_HESDER', 'FROM_PKID_HESDER']\n",
    "\n",
    "Judgments_table = pd.read_csv(CNFG.Oracle + 'psak_din.csv',\n",
    "                              usecols     = Judgments_table_cols,\n",
    "                              parse_dates = Judgments_table_dates,\n",
    "                              encoding    = 'cp1255')\n",
    "\n",
    "for column in Judgments_table_dates: \n",
    "    Judgments_table[column] = pd.to_datetime(Judgments_table[column], format = '%d/%m/%Y %H:%M:%S')\n",
    "\n",
    "Judgments_table['STATUS_DATE'].fillna(Judgments_table[['START_DATE', 'TO_PKID_HESDER', 'FROM_PKID_HESDER']].max(axis=1))\n",
    "Judgments_table['ProcessName'] = Judgments_table['PSAK_DIN_NUM'].astype(str) + '-' + Judgments_table['PSAK_DIN_YEAR'].astype(str)\n",
    "Judgments_table.drop(columns = ['PSAK_DIN_NUM', 'PSAK_DIN_YEAR'], inplace=True)\n",
    "del [Judgments_table_cols, Judgments_table_dates]\n",
    "\n",
    "\n",
    "Judgments_product = CadasterProcessBorders[CadasterProcessBorders['ProcessType'] == 3].sort_values('Status')"
   ]
  },
  {
   "cell_type": "markdown",
   "id": "a48be041-db4f-4fc8-9be5-09a3ebe688a0",
   "metadata": {},
   "source": [
    "<h1 style=\"text-align:right;font-size:125%\">\n",
    ":נתוני תיקון 97 ב\n",
    "<h1 style=\"text-align:right;font-size:100%\">\n",
    "טבלת סטאטוסים של תיקון 97 ב\n",
    "<h1 style=\"text-align:right;font-size:100%\">\n",
    "שכבת גבולות תיקון 97 ב משכבה מודרנית\n",
    "<h1 style=\"text-align:right;font-size:100%\">"
   ]
  },
  {
   "cell_type": "code",
   "execution_count": null,
   "id": "2684bb80-9f7a-4a1b-8e55-7bdcf4460729",
   "metadata": {},
   "outputs": [],
   "source": [
    "B97_cols = ['מספר פניה', 'תאריך בקשה', 'תאריך שליחה לפקיד הסדר', 'תאריך אישור הממונה על המרשם', 'תאריך אישור הרשם', 'תאריך התחלה', 'תאריך סיום בפועל']\n",
    "\n",
    "B97_table = pd.read_csv(CNFG.Local + '97b_nuhil_tahalichim.csv', usecols = B97_cols, encoding = 'cp1255')\\\n",
    "              .sort_values(by='מספר פניה')\n",
    "\n",
    "del B97_cols\n",
    "\n",
    "\n",
    "B97_product = CadasterProcessBorders[CadasterProcessBorders['ProcessType'] == 6].sort_values('Status')"
   ]
  },
  {
   "cell_type": "code",
   "execution_count": null,
   "id": "edd5c260-9d74-4d3a-aefe-c51f804359e9",
   "metadata": {},
   "outputs": [],
   "source": [
    "del CadasterProcessBorders"
   ]
  },
  {
   "cell_type": "markdown",
   "id": "0f15a5a5-37f9-4d27-aa69-7445233a3921",
   "metadata": {},
   "source": [
    "<h1 style=\"text-align:right; font-size:150%; color:#1c6ce6;\">\n",
    "עיבוד נתונים 🛠️"
   ]
  },
  {
   "cell_type": "code",
   "execution_count": null,
   "id": "f9443d44-5673-4831-a717-bfcccfd1725c",
   "metadata": {},
   "outputs": [],
   "source": [
    "print('  Cleaning data')"
   ]
  },
  {
   "cell_type": "code",
   "execution_count": null,
   "id": "1bbabd40-eb6a-4bca-a4ba-af546ecdadf2",
   "metadata": {},
   "outputs": [],
   "source": [
    "print('  Data conversion')"
   ]
  },
  {
   "cell_type": "markdown",
   "id": "42aa93bf-c97d-4882-9ce2-d2083478afab",
   "metadata": {},
   "source": [
    "<h1 style=\"text-align:right;font-size:150%;color:green\">\n",
    ":סטאטוסים של תכניות לצרכי רישום"
   ]
  },
  {
   "cell_type": "markdown",
   "id": "a41750b5-8066-43f8-8823-5841c2916a3a",
   "metadata": {},
   "source": [
    "<h1 style=\"text-align:right;font-size:125%\">\n",
    "עיבוד טבלת סטאטוסים של תצ\"ר מאורקל \n",
    "<h1 style=\"text-align:right;font-size:100%\">\n",
    "הוספת 1,000,000 למספר מזהה של התצ\"ר לצורך התאמה במיזוג עם גבולות תצ\"ר מודרניים\n",
    "<h1 style=\"text-align:right;font-size:100%\">\n",
    "שינוי שמות של שדות (זמני בשביל איחוד)\n",
    "<h1 style=\"text-align:right;font-size:100%\">\n",
    "מיזוג הטבלה עם גבולות תצ\"ר מודרניים, על בסיס מספר מזהה, לצורך קבלת שם המפה\n",
    "<h1 style=\"text-align:right;font-size:100%\">\n",
    "הסרת רשומות בתוצאות שלא נמצאו להם מספר מזהה תואם\n",
    "<h1 style=\"text-align:right;font-size:100%\">\n",
    "שינוי שמות של שדות בחזרה "
   ]
  },
  {
   "cell_type": "code",
   "execution_count": null,
   "id": "96cc844a-0e49-4872-a666-a92da086868d",
   "metadata": {},
   "outputs": [],
   "source": [
    "Tazar_oracle['ProcessName'] = Tazar_oracle['TALAR_NUM'].astype(str) + '/' + Tazar_oracle['TALAR_YEAR'].astype(str)\n",
    "\n",
    "Tazar_status_oracle = Tazar_status_oracle.merge(Tazar_oracle, how = 'left', on = 'TALAR_ID')\\\n",
    "                                         .drop(columns = ['TALAR_ID', 'TALAR_NUM', 'TALAR_YEAR'])\\\n",
    "                                         .rename(columns = {'STATUS_ID'           : 'Status_Oracle',\n",
    "                                                            'STATUS_DATE'         : 'StatusDate_Oracle',\n",
    "                                                            'UPDATE_REGISTER_DATE': 'KosherDate',\n",
    "                                                            'VALID_TO_DATE'       : 'ExtensionDate'})\n",
    "\n",
    "\n",
    "Tazar_status_oracle = Tazar_status_oracle.merge(Tazar_product[['ProcessName', 'ProcessType', 'CPBUniqueID', 'ORACLE_ID']],\n",
    "                                                on = 'ProcessName', how = 'left')\n",
    "\n",
    "Tazar_status_oracle = Tazar_status_oracle[~Tazar_status_oracle['CPBUniqueID'].isna()]\n",
    "\n",
    "Tazar_status_oracle.rename(columns = {'Status_Oracle' : 'Status'}, inplace = True)"
   ]
  },
  {
   "cell_type": "markdown",
   "id": "4cb38ad5-5da8-446b-b4cc-b80303092d6b",
   "metadata": {},
   "source": [
    "<h1 style=\"text-align:right;font-size:125%\">\n",
    "עיבוד טבלת סטאטוסים של תצ\"ר ממערכת ניהול קדסטר\n",
    "<h1 style=\"text-align:right;font-size:100%\">\n",
    "מיזוג הטבלה על גבולות תצ\"ר מודרניים, על בסיס שם המפה, לצורך קבלת מספר מזהה של התהליך\n",
    "<h1 style=\"text-align:right;font-size:100%\">\n",
    "הסרת רשומות בתוצאות שלא נמצאו להם מספר מזהה תואם\n",
    "<h1 style=\"text-align:right;font-size:100%\">\n",
    "שמירת רשומות של תצ\"ר לא נמצאים בנתוני בנק\"ל קיים"
   ]
  },
  {
   "cell_type": "code",
   "execution_count": null,
   "id": "4f5e72ef-96d6-47cd-ac36-36a0b9b58797",
   "metadata": {},
   "outputs": [],
   "source": [
    "tazar_status_hagi = tazar_status_hagi.merge(right = Tazar_product[['ProcessName', 'CPBUniqueID', 'ORACLE_ID', 'ProcessType']], on = 'ProcessName', how = 'left')\n",
    "\n",
    "tazar_status_hagi = tazar_status_hagi[tazar_status_hagi['CPBUniqueID'].notna()]\n",
    "\n",
    "tazar_status_hagi = tazar_status_hagi[~tazar_status_hagi['CPBUniqueID'].isin(Tazar_status_oracle['CPBUniqueID'])]"
   ]
  },
  {
   "cell_type": "markdown",
   "id": "b1666882-6fe3-475b-8269-aa3252bffa1b",
   "metadata": {},
   "source": [
    "<h1 style=\"text-align:right;font-size:125%\">\n",
    "איחוד נתוני תצ\"ר\n",
    "<h1 style=\"text-align:right;font-size:100%\">\n",
    "איחוד הטבלאות ומיון לפי מספר מזהה, סטאטוס ותאריך סטאטוס\n",
    "<h1 style=\"text-align:right;font-size:100%\">\n",
    "תיקון תאריכים שגויים והגדרת שדה תאריך סטאטוס לשדה מסוג תאריך\n",
    "<h1 style=\"text-align:right;font-size:100%\">\n",
    "עדכון תאריכים של כשרות לרישום לפי שנת 2012\n",
    "<h1 style=\"text-align:right;font-size:100%\">\n",
    "מיפוי ערכי סטאטוס לפי קודים של סכימה חדשה, רשומות שנשארו ללא מספר סטאטוס ידוע יקבלו 1 (בביקורת)\n",
    "<h1 style=\"text-align:right;font-size:100%\">\n",
    "הגדרת שדה לסוג תהליך של תצ\"ר"
   ]
  },
  {
   "cell_type": "code",
   "execution_count": null,
   "id": "97dba085-8b39-428b-9285-48de78bf71b8",
   "metadata": {},
   "outputs": [],
   "source": [
    "Tazar_status_dates_table = pd.concat([Tazar_status_oracle, tazar_status_hagi], ignore_index = True)\\\n",
    "                             .sort_values(['CPBUniqueID', 'Status', 'StatusDate_Oracle'])\\\n",
    "                             .drop(columns = 'ProcessName')"
   ]
  },
  {
   "cell_type": "code",
   "execution_count": null,
   "id": "f56e9dfd-cb39-4482-97e4-b6cf23068ad8",
   "metadata": {},
   "outputs": [],
   "source": [
    "Tazar_status_dates_table['StatusDate_Oracle'] = Tazar_status_dates_table['StatusDate_Oracle'].str.replace('/1001', '/2001')\n",
    "Tazar_status_dates_table['StatusDate_Oracle'] = pd.to_datetime(Tazar_status_dates_table['StatusDate_Oracle'], format='mixed', dayfirst=True)\n",
    "\n",
    "Tazar_status_dates_table['KosherDate'] = Tazar_status_dates_table['KosherDate'].str.replace('/0015', '/2015')\n",
    "Tazar_status_dates_table['KosherDate'] = Tazar_status_dates_table['KosherDate'].str.replace('/0129', '/2019')\n",
    "Tazar_status_dates_table['KosherDate'] = Tazar_status_dates_table['KosherDate'].str.replace('/1011', '/2011')\n",
    "Tazar_status_dates_table['KosherDate'] = Tazar_status_dates_table['KosherDate'].str.replace('/0017', '/2107')\n",
    "\n",
    "Tazar_status_dates_table['KosherDate'] = pd.to_datetime(Tazar_status_dates_table['KosherDate'], format='mixed', dayfirst=True)\n",
    "\n",
    "\n",
    "Tazar_status_dates_table['ExtensionDate'] = Tazar_status_dates_table['ExtensionDate'].str.replace('/0022', '/2022')\n",
    "Tazar_status_dates_table['ExtensionDate'] = Tazar_status_dates_table['ExtensionDate'].str.replace('/6018', '/2018')\n",
    "\n",
    "Tazar_status_dates_table['ExtensionDate'] = pd.to_datetime(Tazar_status_dates_table['ExtensionDate'], format='mixed', dayfirst=True)"
   ]
  },
  {
   "cell_type": "code",
   "execution_count": null,
   "id": "bc64c40b-2a96-40b8-b040-9b51aa9a2623",
   "metadata": {
    "tags": []
   },
   "outputs": [],
   "source": [
    "kosher_date = Tazar_status_dates_table['Status'] == 3 # כשל\"ר\n",
    "\n",
    "Tazar_status_dates_table['StatusDate'] = np.where(kosher_date,\n",
    "                                                  pd.to_datetime(Tazar_status_dates_table['KosherDate']),\n",
    "                                                  pd.to_datetime(Tazar_status_dates_table['StatusDate_Oracle']))\n",
    "\n",
    "Tazar_status_dates_table['StatusDate'] = Tazar_status_dates_table['StatusDate'].fillna(pd.to_datetime(Tazar_status_dates_table['StatusDate_Oracle']))\n",
    "Tazar_status_dates_table.drop(columns = ['StatusDate_Oracle', 'KosherDate'], inplace=True)\n",
    "\n",
    "del kosher_date"
   ]
  },
  {
   "cell_type": "code",
   "execution_count": null,
   "id": "93e0b8aa-a84f-4043-947c-20dbe1a8481f",
   "metadata": {},
   "outputs": [],
   "source": [
    "Tazar_status_clf = {0 : 1,  #לא ידוע - קליטת קבצים\n",
    "                    1 : 1,  #קליטת קבצים - קליטת קבצים\n",
    "                    2 : 2,  #בביקורת - בביקורת\n",
    "                    3 : 4,  #כשרה לרישום - כשרה לרישום\n",
    "                    4 : 5,  #רשומה - רשומה\n",
    "                    5 : 9,  #תצ\"ר מבוטל - מבטל\n",
    "                    6 : 3,  # בתיקונים - הוחזר למודד\n",
    "                    None : 1} #ללא ערך - קליטת קבצים\n",
    "\n",
    "Tazar_status_dates_table['Status'] = Tazar_status_dates_table['Status'].map(Tazar_status_clf)\n",
    "Tazar_status_dates_table['Status'] = Tazar_status_dates_table['Status'].fillna(1)"
   ]
  },
  {
   "cell_type": "code",
   "execution_count": null,
   "id": "4046b093-d01b-4086-9abe-63273358642e",
   "metadata": {
    "tags": []
   },
   "outputs": [],
   "source": [
    "Extension = Tazar_status_dates_table[(Tazar_status_dates_table['ORACLE_ID'].isin(tazar_validity_extension))\n",
    "                                                             &\n",
    "                                     (Tazar_status_dates_table['ExtensionDate'].notna())]\n",
    "\n",
    "Extension = Extension.drop(columns = 'StatusDate')\\\n",
    "                     .groupby(by = 'CPBUniqueID', as_index=False)\\\n",
    "                     .first()\\\n",
    "                     .rename(columns = {'ExtensionDate':'StatusDate'})\\\n",
    "\n",
    "Extension['StatusDate'] = Extension['StatusDate'] - pd.DateOffset(years = 2)\n",
    "\n",
    "Extension['Status'] = 10\n",
    "\n",
    "\n",
    "Tazar_status_dates_table = pd.concat([Tazar_status_dates_table, Extension], ignore_index=True)\\\n",
    "                             .drop(columns = 'ExtensionDate')"
   ]
  },
  {
   "cell_type": "markdown",
   "id": "b89f3e91-3371-44ca-ad5c-3a4c1bc48bf8",
   "metadata": {},
   "source": [
    "<h1 style=\"text-align:right;font-size:100%\">\n",
    "עדכון תאריכים של תצ\"ר כשרות לרישום אם הן מופיעות בטבלת הארכות תוקף"
   ]
  },
  {
   "cell_type": "code",
   "execution_count": null,
   "id": "b1af745f-0a3d-4b47-850b-d42fc21e1116",
   "metadata": {},
   "outputs": [],
   "source": [
    "Tazar_status_dates_table['ORACLE_ID'] = Tazar_status_dates_table['ORACLE_ID'].astype('Int64')"
   ]
  },
  {
   "cell_type": "code",
   "execution_count": null,
   "id": "7bf5dba4-3014-4221-8b03-07d18e6d8efa",
   "metadata": {},
   "outputs": [],
   "source": [
    "del [Tazar_status_oracle, Tazar_oracle, tazar_status_hagi, Tazar_product, Tazar_status_clf, tazar_validity_extension, Extension]"
   ]
  },
  {
   "cell_type": "markdown",
   "id": "cc5031c3-8714-4ffe-9ab8-651e22d90df5",
   "metadata": {},
   "source": [
    "<h1 style=\"text-align:right;font-size:150%;color:green\">\n",
    ":סטאטוסים של תשריטי תיעוד גבולות"
   ]
  },
  {
   "cell_type": "markdown",
   "id": "0eeb75da-f631-449e-86b1-5b3ec8084d18",
   "metadata": {},
   "source": [
    "<h1 style=\"text-align:right;font-size:125%\">\n",
    "עיבוד טבלת סטאטוסים של תת\"ג מאורקל \n",
    "<h1 style=\"text-align:right;font-size:100%\">\n",
    "יצירת שדה של שם התהליך לפי מספר מלבן\n",
    "<h1 style=\"text-align:right;font-size:100%\">\n",
    "שינוי שמות של שדות סטאטוס ותאריך סטאטוס\n",
    "<h1 style=\"text-align:right;font-size:100%\">\n",
    "הגדרת שדה תאריך סטאטוס כשדה מסוג תאריך\n",
    "<h1 style=\"text-align:right;font-size:100%\">\n",
    "מיפוי ערכי סטאטוס לפי סכימה חדשה, ערכים ריקים יקבלו סטאטוס - בביקורת"
   ]
  },
  {
   "cell_type": "markdown",
   "id": "56cc01d9-8b79-4e79-aa8e-4a7dd539f02d",
   "metadata": {},
   "source": [
    " "
   ]
  },
  {
   "cell_type": "code",
   "execution_count": null,
   "id": "0f559ae5-485c-45a8-a466-6fe0e7179151",
   "metadata": {},
   "outputs": [],
   "source": [
    "Tatag_status_oracle.rename(columns = {'STATUS_ID'   : 'Status',  'STATUS_DATE' : 'StatusDate'}, inplace = True)\n",
    "\n",
    "Tatag_status_oracle['ProcessName'] = Tatag_status_oracle['TATAG_NUM'].astype(str) + '/' + Tatag_status_oracle['TATAG_YEAR'].astype(str)\n",
    "Tatag_status_oracle.drop(columns = ['TATAG_NUM', 'TATAG_YEAR'], inplace = True)\n",
    "\n",
    "Tatag_status_oracle['StatusDate'] = pd.to_datetime(Tatag_status_oracle['StatusDate'], errors = 'ignore')\n",
    "\n",
    "tatag_status_oracle_clf = {0 : 2,     #לא ידוע = בביקורת\n",
    "                           1 : 2,     #בביקורת = בביקורת\n",
    "                           2 : 13,    #מאושר = מאושר\n",
    "                           3 : 9,     #מחיקת תת\"ג = מבוטל\n",
    "                           None : 2}  #לא ידוע = בביקרות\n",
    "\n",
    "Tatag_status_oracle['Status'] = Tatag_status_oracle['Status'].map(tatag_status_oracle_clf)\n",
    "Tatag_status_oracle['Status'] = Tatag_status_oracle['Status'].fillna(2)"
   ]
  },
  {
   "cell_type": "markdown",
   "id": "72985842-3b90-4afe-9a7b-72155ad6106a",
   "metadata": {},
   "source": [
    "<h1 style=\"text-align:right;font-size:125%\">\n",
    "עיבוד טבלת סטאטוסים של תת\"ג ממערכת ניהול קדסטר \n",
    "<h1 style=\"text-align:right;font-size:100%\">\n",
    "מיפוי ערכי סטאטוס לפי סכימה חדשה, ערכים ריקים יקבלו סטאטוס - בביקורת"
   ]
  },
  {
   "cell_type": "code",
   "execution_count": null,
   "id": "d505e0d4-1435-4653-88da-d50ba2929c91",
   "metadata": {},
   "outputs": [],
   "source": [
    "tatag_status_hagi_clf = {1 : 2, #קליטת קבצים = בביקורת\n",
    "                         2 : 2, #בביקורת = בביקורת\n",
    "                         4 : 13}   # מאושר = מאושר\n",
    "\n",
    "tatag_status_hagi['Status'] = tatag_status_hagi['Status'].map(tatag_status_hagi_clf)\n",
    "tatag_status_hagi['Status'] = tatag_status_hagi['Status'].fillna(2)"
   ]
  },
  {
   "cell_type": "markdown",
   "id": "2dedd1c4-d92e-42fd-89fd-9087bd7f98ea",
   "metadata": {},
   "source": [
    "<h1 style=\"text-align:right;font-size:125%\">\n",
    "איחוד נתוני תת\"ג\n",
    "<h1 style=\"text-align:right;font-size:100%\">\n",
    "איחוד הטבלאות ומיון לפי מספר מזהה, סטאטוס ותאריך סטאטוס\n",
    "<h1 style=\"text-align:right;font-size:100%\">\n",
    "קיבוץ טבלה מאוחד כאשר התאריך סטאטוס האחרון שנרשם הינו קובע\n",
    "<h1 style=\"text-align:right;font-size:100%\">\n",
    "איחוג עם נתוני גבולות תת\"ג מודרניים לקבלת מספר מזהה לתהליך\n",
    "<h1 style=\"text-align:right;font-size:100%\">\n",
    "הסרת מקרים בהם לא נמצא מספר מזהה תואם של התהליך (אלו תת\"גים שהוכנסו כטסטים בעבר)\n",
    "<h1 style=\"text-align:right;font-size:100%\">\n",
    "הגדרת שדה לסוג תהליך של תת\"ג"
   ]
  },
  {
   "cell_type": "code",
   "execution_count": null,
   "id": "c9ffc2f3-703a-4e95-84c4-b264e4a584c7",
   "metadata": {},
   "outputs": [],
   "source": [
    "Tatag_status_dates_table = pd.concat([tatag_status_hagi, Tatag_status_oracle],  ignore_index = True)\\\n",
    "                             .sort_values(['ProcessName', 'Status', 'StatusDate'])\n",
    "\n",
    "Tatag_status_dates_table = Tatag_status_dates_table[~Tatag_status_dates_table['ProcessName'].isna()]\n",
    "\n",
    "Tatag_status_dates_table['StatusDate'] = pd.to_datetime(Tatag_status_dates_table['StatusDate'], errors = 'ignore')\n",
    "Tatag_status_dates_table.groupby(by = ['ProcessName', 'Status'], as_index = False).agg({'StatusDate' : 'max'})\n",
    "\n",
    "del [tatag_status_hagi, Tatag_status_oracle]\n",
    "\n",
    "Tatag_status_dates_table = Tatag_status_dates_table.merge(right = Tatag_product[['CPBUniqueID', 'ProcessName']],\n",
    "                                                          on    = 'ProcessName',\n",
    "                                                          how   = 'left')\n",
    "\n",
    "Tatag_status_dates_table = Tatag_status_dates_table[~Tatag_status_dates_table['CPBUniqueID'].isna()]\n",
    "Tatag_status_dates_table.drop(columns = 'ProcessName', inplace = True)\n",
    "\n",
    "Tatag_status_dates_table['ProcessType'] = 4"
   ]
  },
  {
   "cell_type": "markdown",
   "id": "7fee8e97-74fc-4c58-aa09-298dd1e3ccf7",
   "metadata": {},
   "source": [
    "<h1 style=\"text-align:right;font-size:150%;color:green\">\n",
    ":'סטאטוסים של תיקוני 97ב"
   ]
  },
  {
   "cell_type": "markdown",
   "id": "53918c09-d00b-48ba-8f23-3e525903b1ae",
   "metadata": {},
   "source": [
    "<h1 style=\"text-align:right;font-size:100%\">\n",
    "סינון לרשומות מטבלת תיקוני 97 ב' שקיימות בשכבת גבולות תיקוני 97 מודרנית\n",
    "<h1 style=\"text-align:right;font-size:100%\">\n",
    "הסרת רשומות כפולות, השארת רשומה בעלת תאריך סטאטוס אחרון\n",
    "<h1 style=\"text-align:right;font-size:100%\">\n",
    "המרת הטבלה כך שכל שורה תהיה סטאטוס בפני עצמה\n",
    "<h1 style=\"text-align:right;font-size:100%\">\n",
    "שינוי שמות של שדות    \n",
    "<h1 style=\"text-align:right;font-size:100%\">\n",
    "הסרת רשומות בעלות תאריך סטאטוס ריק\n",
    "<h1 style=\"text-align:right;font-size:100%\">\n",
    "מיפוי ערכי סטאטוס לפי אפיון חדש\n",
    "<h1 style=\"text-align:right;font-size:100%\">    \n",
    "הגדרת שדה תאריך סטאטוס לסוג שדה תאריך \n",
    "<h1 style=\"text-align:right;font-size:100%\">\n",
    "מיזוג טבלת הסטאטוסים אל שכבת גבולות תיקוני 97 ב' ומודרנית בחירת שדות רלונטיים\n",
    "<h1 style=\"text-align:right;font-size:100%\">\n",
    "מיון ערכים לפי שדות\n",
    "<h1 style=\"text-align:right;font-size:100%\">    \n",
    "הסרת רשומות ללא תאריך לסטאטוס"
   ]
  },
  {
   "cell_type": "code",
   "execution_count": null,
   "id": "aaf5bb49-4ac8-4a46-82ba-cbc6640e8aa7",
   "metadata": {},
   "outputs": [],
   "source": [
    "B97_product['PniyaNumber'] = B97_product['ProcessName'].str.split('/', expand = True)[0].astype(int)\n",
    "B97_table = B97_table[B97_table['מספר פניה'].isin(B97_product['PniyaNumber'])]\n",
    "\n",
    "B97_table.drop_duplicates(keep = 'last', inplace = True)\n",
    "\n",
    "B97_stack = B97_table.set_index('מספר פניה').stack(level = -1, dropna = False).sort_index().to_frame().reset_index()\n",
    "\n",
    "B97_stack.rename(columns = {'מספר פניה':'ProcessName', 'level_1':'status_name', 0:'StatusDate'}, inplace=True)\n",
    "B97_stack.dropna(subset=['StatusDate'], inplace=True)\n",
    "\n",
    "B97_status_clf = {'תאריך בקשה': 14,\n",
    "                  'תאריך התחלה': 14,\n",
    "                  'תאריך שליחה לפקיד הסדר': 13,\n",
    "                  'תאריך אישור הממונה על המרשם': 13,\n",
    "                  'תאריך אישור הרשם': 13,\n",
    "                  'תאריך סיום בפועל': 13}\n",
    "\n",
    "B97_stack['Status'] = B97_stack['status_name'].map(B97_status_clf)\n",
    "\n",
    "B97_stack['StatusDate'] = pd.to_datetime(B97_stack['StatusDate'], errors = 'ignore')"
   ]
  },
  {
   "cell_type": "code",
   "execution_count": null,
   "id": "f6a7ff46-ce8a-462e-91ca-b7626829cd24",
   "metadata": {},
   "outputs": [],
   "source": [
    "B97_status_table = B97_stack.merge(B97_product[['CPBUniqueID', 'ProcessType', 'PniyaNumber']],\n",
    "                                   left_on = 'ProcessName',\n",
    "                                   right_on = 'PniyaNumber', \n",
    "                                   how = 'outer',\n",
    "                                   validate = 'many_to_many')\n",
    "\n",
    "B97_status_table.drop(columns=['status_name', 'ProcessName', 'PniyaNumber'], inplace=True)\n",
    "B97_status_table.sort_values(['CPBUniqueID', 'Status', 'StatusDate'], inplace=True)\n",
    "B97_status_table.dropna(subset = ['Status'], inplace = True)\n",
    "B97_status_table['Status'] = B97_status_table['Status'].astype(int)"
   ]
  },
  {
   "cell_type": "markdown",
   "id": "c5d919dd-1f84-4394-a4f1-c3ce395522c8",
   "metadata": {},
   "source": [
    "<h1 style=\"text-align:right;font-size:150%;color:green\">\n",
    ":סטאטוסים של פסקי דין"
   ]
  },
  {
   "cell_type": "markdown",
   "id": "a927504d-7cd0-4ee2-8ac6-165071982277",
   "metadata": {},
   "source": [
    "<h1 style=\"text-align:right;font-size:100%\">\n",
    "סינון לרשומות שקיימות בשכבת פסקי דין מודרני\n",
    "<h1 style=\"text-align:right;font-size:100%\">\n",
    "המרת הטבלה כך שכל שורה תהיה סטאטוס בפני עצמה\n",
    "<h1 style=\"text-align:right;font-size:100%\">\n",
    "שינוי שמות של שדות\n",
    "<h1 style=\"text-align:right;font-size:100%\">\n",
    "מיון לפי שדות\n",
    "<h1 style=\"text-align:right;font-size:100%\">\n",
    "מיפוי ערכי סטאטוס לפי אפיון חדש\n",
    "<h1 style=\"text-align:right;font-size:100%\">\n",
    "הסרת שדות שאינם רלונטיים\n",
    "<h1 style=\"text-align:right;font-size:100%\">    \n",
    "מיזוג נתוני גבולות פס\"ד עם סטאטוסים של פס\"ד\n",
    "<h1 style=\"text-align:right;font-size:100%\">\n",
    "הסרת רשומות ללא תאריך סטאטוס\n",
    "<h1 style=\"text-align:right;font-size:100%\">\n",
    "מיון לפי שדות\n",
    "<h1 style=\"text-align:right;font-size:100%\">    \n",
    "הסרת שדות שאינם רלונטיים"
   ]
  },
  {
   "cell_type": "markdown",
   "id": "e3816972-44bc-4d8b-a81a-e0120921dd10",
   "metadata": {},
   "source": [
    " "
   ]
  },
  {
   "cell_type": "code",
   "execution_count": null,
   "id": "39b0ac07-bb2e-4c15-bd00-dff31bd9c0d8",
   "metadata": {},
   "outputs": [],
   "source": [
    "Judgments_table = Judgments_table[Judgments_table['ProcessName'].isin(Judgments_product['ProcessName'])]\n",
    "\n",
    "Judgments_table_stack = Judgments_table.set_index(['ProcessName', 'STATUS'])\\\n",
    "                                       .stack(level = -1, dropna = False)\\\n",
    "                                       .sort_index().to_frame().reset_index()\n",
    "\n",
    "Judgments_table_stack.rename(columns = {'level_2' : 'statusName', 0 : 'StatusDate'}, inplace=True)\n",
    "Judgments_table_stack.sort_values(['ProcessName','StatusDate'] , inplace = True)\n",
    "\n",
    "\n",
    "Judgments_status_clf = {'START_DATE'       : 11,\n",
    "                        'TO_PKID_HESDER'   : 12,\n",
    "                        'FROM_PKID_HESDER' : 13}\n",
    "\n",
    "Judgments_table_stack = Judgments_table_stack[Judgments_table_stack['statusName'] != 'STATUS_DATE']\n",
    "Judgments_table_stack['Status'] = Judgments_table_stack['statusName'].map(Judgments_status_clf)\n",
    "\n",
    "Judgments_table_stack.drop(columns = ['STATUS', 'statusName'], inplace = True)"
   ]
  },
  {
   "cell_type": "code",
   "execution_count": null,
   "id": "d38c44ef-7f86-4040-8350-d4213e4be366",
   "metadata": {},
   "outputs": [],
   "source": [
    "Judgments_status_table = Judgments_table_stack.merge(right = Judgments_product[['CPBUniqueID', 'ProcessType', 'ProcessName']],\n",
    "                                                     on    = 'ProcessName',\n",
    "                                                     how   = 'outer',\n",
    "                                                     validate = 'many_to_many')\n",
    "\n",
    "Judgments_status_table['Status'] = Judgments_status_table['Status'].fillna(31)\n",
    "Judgments_status_table['Status'] = Judgments_status_table['Status'].astype('Int64')\n",
    "\n",
    "\n",
    "Judgments_status_table.sort_values(['CPBUniqueID','StatusDate'], inplace = True)\n",
    "Judgments_status_table.drop(columns = 'ProcessName', inplace = True)"
   ]
  },
  {
   "cell_type": "markdown",
   "id": "0aecd852-4c3f-42b0-8dbf-fd76b678b62f",
   "metadata": {
    "tags": []
   },
   "source": [
    "<h1 style=\"text-align:right; font-size:150%; color:#1c6ce6;\"> \n",
    "יצירת שכבה חדשה בהתאם לאפיון ✨"
   ]
  },
  {
   "cell_type": "code",
   "execution_count": null,
   "id": "8d4899f8-46f5-417e-a2d3-1a90a6a2f9f3",
   "metadata": {},
   "outputs": [],
   "source": [
    "print('  Defining new Layer')"
   ]
  },
  {
   "cell_type": "markdown",
   "id": "4f5e0f46-ec80-43e3-9628-b7a318e2c886",
   "metadata": {},
   "source": [
    "<h1 style=\"text-align:right;font-size:125%\">\n",
    ":איחוד כל טבלאות הסטאטוסים \n",
    "<h1 style=\"text-align:right;font-size:100%\">\n",
    "איחוד כל טבלה של תהליך קדסטרי\n",
    "<h1 style=\"text-align:right;font-size:100%\">\n",
    "שינוי שם של שדה התאריך\n",
    "<h1 style=\"text-align:right;font-size:100%\">\n",
    "הגדרת שדות של מספרים למספרים שלמים    \n",
    "<h1 style=\"text-align:right;font-size:100%\">\n",
    "מיון רשומות    \n",
    "<h1 style=\"text-align:right;font-size:100%\">\n",
    "הסרת כפילויות    \n",
    "<h1 style=\"text-align:right;font-size:100%\">\n",
    "תיקון ערגים לא חוקיים בשדה התאריך והגדרת השדה לשדה מסוג תאריך\n",
    "<h1 style=\"text-align:right;font-size:100%\">\n",
    "שינוי הסדר של עמודות הטבלה\n",
    "<h1 style=\"text-align:right;font-size:100%\">\n",
    "יצירת שדה גיאומטרי ריק (שדה טכני בכדי להכניס לטבלה במוצר)"
   ]
  },
  {
   "cell_type": "markdown",
   "id": "90af4431-77c3-481e-ae51-b1e3bef73ae7",
   "metadata": {},
   "source": [
    " "
   ]
  },
  {
   "cell_type": "code",
   "execution_count": null,
   "id": "4f9c6131-6fc4-4a55-b44f-44655dbedc49",
   "metadata": {},
   "outputs": [],
   "source": [
    "CpbStatusAndDates = pd.concat(objs = [Tazar_status_dates_table, Tatag_status_dates_table, B97_status_table, Judgments_status_table], axis = 0)\n",
    "\n",
    "CpbStatusAndDates.rename(columns = {'StatusDate' :'DateStatus'}, inplace = True)\n",
    "\n",
    "int_cols = ['ProcessType', 'Status']\n",
    "CpbStatusAndDates[int_cols] = CpbStatusAndDates[int_cols].astype(int)\n",
    "\n",
    "CpbStatusAndDates.sort_values(['CPBUniqueID', 'Status', 'DateStatus'], inplace = True)\n",
    "\n",
    "CpbStatusAndDates = CpbStatusAndDates.drop_duplicates(keep = 'last')\n",
    "\n",
    "CpbStatusAndDates['DateStatus'] = CpbStatusAndDates['DateStatus'].astype(str)\n",
    "CpbStatusAndDates['DateStatus'] = CpbStatusAndDates['DateStatus'].str.replace('1001', '2001')\n",
    "CpbStatusAndDates['DateStatus'] = pd.to_datetime(CpbStatusAndDates['DateStatus'], format = 'mixed')\n",
    "\n",
    "CpbStatusAndDates = CpbStatusAndDates[['CPBUniqueID', 'ProcessType', 'Status', 'DateStatus']]\n",
    "\n",
    "CpbStatusAndDates['geometry'] = None #שדה טכני בשביל הוספה למוצר\n",
    "\n",
    "CpbStatusAndDates = gpd.GeoDataFrame(CpbStatusAndDates, geometry = 'geometry')"
   ]
  },
  {
   "cell_type": "markdown",
   "id": "be3de832-edf2-45cf-a683-bd0b39986c45",
   "metadata": {},
   "source": [
    "<h1 style=\"text-align:right; font-size:150%; color:#1c6ce6;\"> \n",
    "שמירת תוצאות 💾"
   ]
  },
  {
   "cell_type": "code",
   "execution_count": null,
   "id": "95b79577-6b88-4b18-a266-71eeb6d70921",
   "metadata": {},
   "outputs": [],
   "source": [
    "print('  Loading results to CPBStatusAndDates')"
   ]
  },
  {
   "cell_type": "code",
   "execution_count": null,
   "id": "d7ce1501-d04f-4ceb-9363-30ce5d16b04e",
   "metadata": {
    "tags": []
   },
   "outputs": [],
   "source": [
    "CpbStatusAndDates.to_file(CNFG.ProductPath, layer = 'CPBStatusAndDates', driver = 'OpenFileGDB', engine = 'pyogrio', mode = 'a')"
   ]
  }
 ],
 "metadata": {
  "kernelspec": {
   "display_name": "Python 3 (ipykernel)",
   "language": "python",
   "name": "python3"
  },
  "language_info": {
   "codemirror_mode": {
    "name": "ipython",
    "version": 3
   },
   "file_extension": ".py",
   "mimetype": "text/x-python",
   "name": "python",
   "nbconvert_exporter": "python",
   "pygments_lexer": "ipython3",
   "version": "3.11.3"
  },
  "toc-autonumbering": false,
  "toc-showcode": false,
  "toc-showmarkdowntxt": true,
  "toc-showtags": false
 },
 "nbformat": 4,
 "nbformat_minor": 5
}
