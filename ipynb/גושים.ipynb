{
 "cells": [
  {
   "cell_type": "markdown",
   "id": "4989df7e-5d34-4152-9669-ca309fb69ec0",
   "metadata": {},
   "source": [
    "<h1 style=\"background-color:black;\n",
    "           font-family:segoe ui;\n",
    "                color:#FFF9ED;\n",
    "           font-size:300%;\n",
    "           text-align:center;\n",
    "           border-radius:10px 10px;\"> \n",
    "    🌐 תהליך הסבת גושים מוסדרים/לא מוסדרים/מבוטלים לבנק\"ל מודרני 🌐"
   ]
  },
  {
   "cell_type": "code",
   "execution_count": 1,
   "id": "692c4398-e122-4ea5-bd25-4eb13bba9cd9",
   "metadata": {},
   "outputs": [
    {
     "name": "stdout",
     "output_type": "stream",
     "text": [
      "1. Blocks Borders:\n"
     ]
    }
   ],
   "source": [
    "print('1. Blocks Borders:')"
   ]
  },
  {
   "cell_type": "markdown",
   "id": "42c10adb-8e2f-492f-83fb-cbf3c199882e",
   "metadata": {},
   "source": [
    "<h1 style=\"text-align:right; font-size:150%; color:#1c6ce6;\">\n",
    "ספריות 📚"
   ]
  },
  {
   "cell_type": "code",
   "execution_count": 2,
   "id": "11194afb-04a1-47ac-8803-867948bc614d",
   "metadata": {},
   "outputs": [],
   "source": [
    "import warnings\n",
    "warnings.filterwarnings('ignore')\n",
    "\n",
    "import numpy as np\n",
    "import pandas as pd\n",
    "import geopandas as gpd\n",
    "import subprocess"
   ]
  },
  {
   "cell_type": "markdown",
   "id": "3c73379b-202a-4193-be77-bde3345b337a",
   "metadata": {},
   "source": [
    "<h1 style=\"text-align:right; font-size:150%; color:#1c6ce6;\">קריאת נתונים 📑 "
   ]
  },
  {
   "cell_type": "code",
   "execution_count": 3,
   "id": "6c4e2e42-aabd-4bfe-bc49-bc9b0bff65e4",
   "metadata": {},
   "outputs": [
    {
     "name": "stdout",
     "output_type": "stream",
     "text": [
      "  1.a Reading inputs\n"
     ]
    }
   ],
   "source": [
    "print('  1.a Reading inputs')"
   ]
  },
  {
   "cell_type": "code",
   "execution_count": 4,
   "id": "bcba1713-0b86-4822-81b6-4fb584d52350",
   "metadata": {},
   "outputs": [],
   "source": [
    "RawData_folder = r'\\\\mapi_shares\\MNCDB\\צוות מידע\\RawData/'"
   ]
  },
  {
   "cell_type": "markdown",
   "id": "b93ef886-2dcf-477f-88bd-917f99fc0505",
   "metadata": {},
   "source": [
    "<h1 style=\"text-align:right;font-size:100%\">\n",
    "נתוני שכבת גושים\n",
    "<h1 style=\"text-align:right;font-size:100%\">\n",
    "טבלת גושים\n",
    "<h1 style=\"text-align:right;font-size:100%\">\n",
    "שכבת מפתח גליונות גושים\n",
    "<h1 style=\"text-align:right;font-size:100%\">\n",
    "טבלת גושי ממ\"ג מאורקל"
   ]
  },
  {
   "cell_type": "code",
   "execution_count": 6,
   "id": "068bebb2-cf44-423f-b238-f1f1082834f8",
   "metadata": {},
   "outputs": [],
   "source": [
    "SubGush_layer_cols = ['SUB_GUSH_ID', 'GUSH_NUM', 'GUSH_SUFFIX', 'STATUS', 'geometry']\n",
    "SubGush_layer = gpd.read_file(RawData_folder + 'CADSDE\\sub_gush_all.gdb', layer = 'sub_gush_all', driver = 'FileGDB', include_fields = SubGush_layer_cols)\n",
    "\n",
    "\n",
    "SubGush_table_cols = ['SUB_GUSH_ID', 'GUSH_NUM', 'GUSH_SUFFIX', 'STATUS', 'STATUS_DATE', 'HESDER_LAST_PARCEL']\n",
    "SubGush_table = pd.read_csv(RawData_folder + 'Oracle\\sub_gush.csv', usecols=SubGush_table_cols, encoding='cp1255')\n",
    "\n",
    "\n",
    "SheetKey_cols = ['GUSH_NUM', 'GUSH_SUFFIX', 'STATUS', 'geometry']\n",
    "SheetKey = gpd.read_file(RawData_folder + 'CADSDE\\SHEET_K.gdb', layer = 'SHEET_K', driver = 'FileGDB', include_fields = SheetKey_cols)\n",
    "\n",
    "\n",
    "SubMMG_cols = ['SUB_GUSH_ID', 'LAST_PARCEL', 'MMG_LAST_PARCEL', 'COURT_LAST_PARCEL', 'FINAL_CONFIRMATION_DATE']\n",
    "SubMMG = pd.read_csv(RawData_folder + 'Oracle\\sub_gush_mmg.csv', usecols = SubMMG_cols, encoding='cp1255')\n",
    "\n",
    "\n",
    "\n",
    "del [RawData_folder, SubGush_layer_cols, SubGush_table_cols, SheetKey_cols, SubMMG_cols]"
   ]
  },
  {
   "cell_type": "markdown",
   "id": "daa70a7f-4205-4099-aff0-6264172ccba0",
   "metadata": {},
   "source": [
    "<h1 style=\"text-align:right; font-size:150%; color:#1c6ce6;\">\n",
    "עיבוד נתונים 🛠️"
   ]
  },
  {
   "cell_type": "code",
   "execution_count": null,
   "id": "a6791791-1ea7-4951-9611-b27f0e4b57a0",
   "metadata": {},
   "outputs": [],
   "source": [
    "print('  1.b Cleaning data')"
   ]
  },
  {
   "cell_type": "markdown",
   "id": "a7f3b8e0-981f-4d2c-b64d-b9a1baf436e9",
   "metadata": {},
   "source": [
    "<h1 style=\"text-align:right;font-size:125%\">\n",
    "סינון גושים לפי סטאטוסים מוסדרים/לא מוסדרים/מבוטלים למשתנים שונים\n",
    "<h1 style=\"text-align:right;font-size:100%\">\n",
    "הגדרת מספרי סטאטוס\n",
    "<h1 style=\"text-align:right;font-size:100%\">\n",
    "גושים מוסדרים\n",
    "<h1 style=\"text-align:right;font-size:100%\">\n",
    "גושים לא מוסדרים\n",
    "<h1 style=\"text-align:right;font-size:100%\">\n",
    "גושים מבוטלים"
   ]
  },
  {
   "cell_type": "code",
   "execution_count": 7,
   "id": "12dd6dfc-6013-4eef-9ab8-c20a9fa847a2",
   "metadata": {},
   "outputs": [],
   "source": [
    "register_status   = [1, 3, 6, 16]\n",
    "unregister_status = [4, 9, 10, 11, 13, 15, 17, 18]\n",
    "cancel_status     = [5, 51, 56, 57, 58]\n",
    "\n",
    "Reg_SubGush_layer = SubGush_layer[SubGush_layer['STATUS'].isin(register_status)]\n",
    "Reg_SubGush_table = SubGush_table[SubGush_table['STATUS'].isin(register_status)]\n",
    "\n",
    "\n",
    "Unreg_SheetKey = SheetKey[SheetKey['STATUS'].isin(unregister_status)]\n",
    "Unreg_SubGush_table = SubGush_table[SubGush_table['STATUS'].isin(unregister_status)]\n",
    "\n",
    "\n",
    "cancel_SubGush_table = SubGush_table[SubGush_table['STATUS'].isin(cancel_status)]"
   ]
  },
  {
   "cell_type": "markdown",
   "id": "207015d2-a976-426e-8d70-eeb36d50ab21",
   "metadata": {},
   "source": [
    "<h1 style=\"text-align:right;font-size:100%\">\n",
    "מיזוג נתונים של גושים מוסדרים לשכבת אחת"
   ]
  },
  {
   "cell_type": "code",
   "execution_count": 8,
   "id": "d9ba95f6-086f-43e9-98f9-cbfcb1f7758e",
   "metadata": {},
   "outputs": [],
   "source": [
    "Reg_merge = Reg_SubGush_table.merge(SubMMG, on = 'SUB_GUSH_ID' , how= 'left' , suffixes = ('','_merge'))\n",
    "Reg_merge = Reg_merge.merge(Reg_SubGush_layer, on = 'SUB_GUSH_ID' , how= 'left' , suffixes = ('','_merge'))\n",
    "Reg_merge.drop(Reg_merge.filter(regex='_merge$').columns.tolist(),axis=1, inplace=True)"
   ]
  },
  {
   "cell_type": "markdown",
   "id": "98d4ef5d-d25a-4a04-91df-4593ae807e70",
   "metadata": {},
   "source": [
    "<h1 style=\"text-align:right;font-size:100%\">\n",
    "מיזוג נתונים של גושים לא מוסדרים לשכבת אחת"
   ]
  },
  {
   "cell_type": "code",
   "execution_count": 9,
   "id": "764fd0e3-819f-485b-9e73-4c71ac4c7a17",
   "metadata": {},
   "outputs": [],
   "source": [
    "Unreg_merge = Unreg_SubGush_table.merge(SubMMG, on = 'SUB_GUSH_ID' , how= 'left' , suffixes = ('','_merge'))\n",
    "\n",
    "Unreg_merge['GUSH_SUFFIX'].fillna(0, inplace=True)\n",
    "Unreg_merge['GUSH_SUFFIX'] = Unreg_merge['GUSH_SUFFIX'].astype(int)\n",
    "Unreg_merge['key_id'] = Unreg_merge['GUSH_NUM'].astype(str) + '_' + Unreg_merge['GUSH_SUFFIX'].astype(str)\n",
    "Unreg_SheetKey['key_id'] = Unreg_SheetKey['GUSH_NUM'].astype(str) + '_' + Unreg_SheetKey['GUSH_SUFFIX'].astype(str)\n",
    "\n",
    "Unreg_merge = Unreg_merge.merge(Unreg_SheetKey, on = 'key_id' , how= 'left' , suffixes = ('','_merge'))\n",
    "Unreg_merge.drop(Unreg_merge.filter(regex='_merge$').columns.tolist(),axis=1, inplace=True)"
   ]
  },
  {
   "cell_type": "markdown",
   "id": "7a5ab99f-5aab-488d-aae8-e6eaae803d45",
   "metadata": {},
   "source": [
    "<h1 style=\"text-align:right;font-size:100%\">\n",
    "מיזוג נתונים של גושים מבוטלים לשכבת אחת"
   ]
  },
  {
   "cell_type": "code",
   "execution_count": 10,
   "id": "10a74808-1ab5-464b-877c-906944a04d70",
   "metadata": {},
   "outputs": [],
   "source": [
    "Cancel_merge = cancel_SubGush_table.merge(SubMMG, on = 'SUB_GUSH_ID' , how= 'left' , suffixes = ('','_merge'))\n",
    "Cancel_merge.drop(Cancel_merge.filter(regex='_merge$').columns.tolist(),axis=1, inplace=True)"
   ]
  },
  {
   "cell_type": "markdown",
   "id": "0de6e506-00d7-48fd-8452-9966299a1329",
   "metadata": {},
   "source": [
    "<h1 style=\"text-align:right;font-size:100%\">\n",
    "תיקון שדה של תאריך סטאטוס בגושים מבוטלים"
   ]
  },
  {
   "cell_type": "code",
   "execution_count": 11,
   "id": "62fcf010-d44c-43d6-9dae-3ad43e97698b",
   "metadata": {},
   "outputs": [],
   "source": [
    "Cancel_merge['STATUS_DATE'] = pd.to_datetime(Cancel_merge['STATUS_DATE'], errors='coerce')"
   ]
  },
  {
   "cell_type": "markdown",
   "id": "e8270ee8-ed2f-4c00-b689-a77887d941d4",
   "metadata": {},
   "source": [
    "<h1 style=\"text-align:right;font-size:100%\">\n",
    "הוספת שדה בינארי של סוג מקרקעין לשלושת שכבות הגושים"
   ]
  },
  {
   "cell_type": "code",
   "execution_count": 12,
   "id": "bf6b61e3-b40e-4c04-aa6c-ed4a60573155",
   "metadata": {},
   "outputs": [],
   "source": [
    "RegLandType_cond  = [(Reg_merge['STATUS'].isin(register_status))]\n",
    "Reg_merge['LandType'] = np.select(RegLandType_cond, [1])\n",
    "\n",
    "\n",
    "UnregLandType_cond  = [(Unreg_merge['STATUS'].isin(unregister_status))]\n",
    "Unreg_merge['LandType'] = np.select(UnregLandType_cond, [2])\n",
    "\n",
    "\n",
    "Cancel_merge['LandType'] = 4"
   ]
  },
  {
   "cell_type": "markdown",
   "id": "b494f50d-d25b-4194-877a-5917ba9b76dc",
   "metadata": {},
   "source": [
    "<h1 style=\"text-align:right;font-size:100%\">\n",
    "הוספת שדה בינארי של גוש ירדני לשלושת שכבות הגושים"
   ]
  },
  {
   "cell_type": "code",
   "execution_count": 13,
   "id": "deea766a-5cac-4802-9682-44f3131c2eb1",
   "metadata": {},
   "outputs": [],
   "source": [
    "Reg_Jordanian_cond  = [(Reg_merge['STATUS'].isin([16])),(~Reg_merge['STATUS'].isin([16]))]\n",
    "Reg_merge['IsJordanian'] = np.select(Reg_Jordanian_cond, [1,0])\n",
    "\n",
    "Unreg_Jordanian_cond  = [(Unreg_merge['STATUS'].isin([16])),(~Unreg_merge['STATUS'].isin([16]))]\n",
    "Unreg_merge['IsJordanian'] = np.select(Unreg_Jordanian_cond, [1,0])\n",
    "\n",
    "Cancel_merge['IsJordanian'] = 0"
   ]
  },
  {
   "cell_type": "markdown",
   "id": "414ae384-6498-403e-a7e6-e63f71143c42",
   "metadata": {},
   "source": [
    "<h1 style=\"text-align:right;font-size:100%\">\n",
    "איחד נתוני גושים מוסדרים ולא מוסדרים"
   ]
  },
  {
   "cell_type": "code",
   "execution_count": 14,
   "id": "0257dc55-ec18-4738-970e-cc16bf2b2a19",
   "metadata": {},
   "outputs": [],
   "source": [
    "appended = gpd.GeoDataFrame(Reg_merge.append(Unreg_merge, ignore_index=True),\n",
    "                            crs=2039,\n",
    "                            geometry='geometry')"
   ]
  },
  {
   "cell_type": "markdown",
   "id": "48b96a1f-49e3-4c24-9f27-c0d8223d6d44",
   "metadata": {},
   "source": [
    "<h1 style=\"text-align:right;font-size:100%\">\n",
    "תיקון והגדרת שדות תאריך כתאריך"
   ]
  },
  {
   "cell_type": "code",
   "execution_count": 15,
   "id": "6427f395-23a1-4f20-b8f8-46d47d76cdfd",
   "metadata": {},
   "outputs": [],
   "source": [
    "appended['STATUS_DATE'].fillna(np.nan, inplace=True)\n",
    "appended['STATUS_DATE'] = appended['STATUS_DATE'].astype(np.datetime64)\n",
    "\n",
    "\n",
    "appended['FINAL_CONFIRMATION_DATE'].fillna(np.nan, inplace=True)\n",
    "appended['FINAL_CONFIRMATION_DATE'] = appended['FINAL_CONFIRMATION_DATE'].astype(np.datetime64)"
   ]
  },
  {
   "cell_type": "markdown",
   "id": "80f0d210-bf36-4830-aa58-406d13bcd044",
   "metadata": {
    "tags": []
   },
   "source": [
    "<h1 style=\"text-align:right; font-size:150%; color:#1c6ce6;\"> \n",
    "יצירת שכבה חדשה בהתאם לאפיון ✨"
   ]
  },
  {
   "cell_type": "code",
   "execution_count": 16,
   "id": "d95121ac-fe7a-4ccb-85d5-0c0a60782c52",
   "metadata": {},
   "outputs": [
    {
     "name": "stdout",
     "output_type": "stream",
     "text": [
      "  1.d Defining new Layer\n"
     ]
    }
   ],
   "source": [
    "print('  1.d Defining new Layer')"
   ]
  },
  {
   "cell_type": "code",
   "execution_count": 17,
   "id": "23d01a08-0026-40b1-ade6-001de9f5d3a3",
   "metadata": {},
   "outputs": [],
   "source": [
    "new_columns = np.dtype([\n",
    "                        (\"BlockUniqueID\", int),\n",
    "                        ('BlockNumber', int),\n",
    "                        (\"SubBlockNumber\", int),\n",
    "                        (\"BlockStatus\", int),\n",
    "                        (\"IsJordanian\", int),\n",
    "                        (\"LandType\", int),\n",
    "                        (\"SetteledDate\", np.datetime64),\n",
    "                        (\"UpdateDate\", np.datetime64),\n",
    "                        (\"LastRegisterdParcel\", int),\n",
    "                        (\"LastParcel\", int),\n",
    "                        (\"LastSetteledParcel\", int),\n",
    "                        (\"LastCourtParcel\", int)\n",
    "                        ])\n",
    "\n",
    "\n",
    "Blocks = pd.DataFrame(np.empty(0, dtype=new_columns))\n",
    "\n",
    "CancelBlocks = pd.DataFrame(np.empty(0, dtype=new_columns))"
   ]
  },
  {
   "cell_type": "markdown",
   "id": "090b3dfd-5ab8-483d-aa63-072d83fda65f",
   "metadata": {},
   "source": [
    "<h1 style=\"text-align:right;font-size:100%\">\n",
    "איכלוס שדות לגושים מוסדרים ולא מוסדרים"
   ]
  },
  {
   "cell_type": "code",
   "execution_count": 18,
   "id": "5012c531-5af7-450d-adf0-85407c979514",
   "metadata": {},
   "outputs": [],
   "source": [
    "Blocks['BlockUniqueID'] = appended['SUB_GUSH_ID'].astype(int)\n",
    "\n",
    "\n",
    "Blocks['BlockNumber'] = appended['GUSH_NUM'].astype(int)\n",
    "\n",
    "\n",
    "Blocks['SubBlockNumber'] = appended['GUSH_SUFFIX'].fillna(0)\n",
    "Blocks['SubBlockNumber'] = Blocks['SubBlockNumber'].astype(int)\n",
    "\n",
    "\n",
    "status_clf = {1:12,\n",
    "              3:13,\n",
    "              4:21,\n",
    "              5:41,\n",
    "              6:11,\n",
    "              9:26,\n",
    "              10:22,\n",
    "              11:23,\n",
    "              13:24,\n",
    "              15:25,\n",
    "              16:11,\n",
    "              17:27,\n",
    "              18:28,\n",
    "              51:42,\n",
    "              56:45,\n",
    "              57:43,\n",
    "              58:44}\n",
    "Blocks['BlockStatus'] = appended['STATUS'].map(status_clf)\n",
    "Blocks['BlockStatus'] = Blocks['BlockStatus'].fillna(11)\n",
    "Blocks['BlockStatus'] = Blocks['BlockStatus'].astype(int)\n",
    "\n",
    "\n",
    "Blocks['IsJordanian'] = appended['IsJordanian'].astype(int)\n",
    "\n",
    "\n",
    "Blocks['LandType'] = appended['LandType'].astype(int)\n",
    "\n",
    "\n",
    "Blocks['SetteledDate'] = appended['STATUS_DATE'].astype('datetime64[D]')\n",
    "\n",
    "\n",
    "Blocks['UpdateDate'] = appended['FINAL_CONFIRMATION_DATE'].astype('datetime64[D]')\n",
    "\n",
    "\n",
    "Blocks['LastRegisterdParcel'] = appended['LAST_PARCEL'].astype('Int64')\n",
    "\n",
    "\n",
    "Blocks['LastParcel'] = appended['MMG_LAST_PARCEL'].astype('Int64')\n",
    "\n",
    "\n",
    "Blocks['LastSetteledParcel'] = appended['HESDER_LAST_PARCEL'].astype('Int64')\n",
    "\n",
    "\n",
    "Blocks['LastCourtParcel'] = appended['COURT_LAST_PARCEL'].astype('Int64')\n",
    "\n",
    "\n",
    "Blocks['geometry'] = appended['geometry']\n",
    "\n",
    "\n",
    "Blocks['IsGeom'] = np.where(Blocks['geometry']!= None, 1, 0) #Temporary field for removing duplicates"
   ]
  },
  {
   "cell_type": "markdown",
   "id": "05204c0e-b5ab-4aee-a287-b8a700c92cb8",
   "metadata": {},
   "source": [
    "<h1 style=\"text-align:right;font-size:100%\">\n",
    "תיקון הגדרת סוג שדה לשדות של תאריכים\n",
    "<h1 style=\"text-align:right;font-size:100%\">    \n",
    "מיון הטבלה לפי מספר מזהה גוש"
   ]
  },
  {
   "cell_type": "code",
   "execution_count": 19,
   "id": "10b2bdb6-246a-4f1d-8c63-95c094c979ff",
   "metadata": {},
   "outputs": [],
   "source": [
    "Blocks.sort_values(['BlockUniqueID', 'IsGeom', 'SetteledDate', 'UpdateDate'], inplace=True)"
   ]
  },
  {
   "cell_type": "markdown",
   "id": "3a629425-3b63-4ad0-bf68-4e7b556d3b8c",
   "metadata": {},
   "source": [
    "<h1 style=\"text-align:right;font-size:100%\">\n",
    "קיבוץ שכבה על מנת להסיר כפיוליות"
   ]
  },
  {
   "cell_type": "code",
   "execution_count": 20,
   "id": "81b1f133-3867-465d-892e-dcb5480dd86d",
   "metadata": {},
   "outputs": [],
   "source": [
    "group_agg = {\n",
    "             'BlockNumber':        'max',\n",
    "             'SubBlockNumber':     'max',\n",
    "             'BlockStatus':        'max',\n",
    "             'IsJordanian':        'max',\n",
    "             'LandType':           'max',\n",
    "             'SetteledDate':       'last',\n",
    "             'UpdateDate':         'last',\n",
    "             'LastRegisterdParcel':'max',\n",
    "             'LastParcel':         'max',\n",
    "             'LastSetteledParcel': 'max',\n",
    "             'LastCourtParcel':    'max',\n",
    "             'IsGeom':             'max',\n",
    "             'geometry':           'last'\n",
    "            }\n",
    "\n",
    "Blocks = Blocks.groupby('BlockUniqueID', dropna=True, as_index=False).agg(group_agg)\n",
    "Blocks.drop(columns='IsGeom', inplace=True)"
   ]
  },
  {
   "cell_type": "markdown",
   "id": "b48b76c7-a37f-4185-bf27-fc7a15b62116",
   "metadata": {},
   "source": [
    "<h1 style=\"text-align:right;font-size:150%; color:#1c6ce6;\">\n",
    "איכלוס שדות לגושים מבוטלים"
   ]
  },
  {
   "cell_type": "code",
   "execution_count": 21,
   "id": "3d19c06f-9e2a-4eb5-9ef8-efd344912a1d",
   "metadata": {},
   "outputs": [],
   "source": [
    "CancelBlocks['BlockUniqueID'] = Cancel_merge['SUB_GUSH_ID'].astype(int)\n",
    "\n",
    "\n",
    "CancelBlocks['BlockNumber'] = Cancel_merge['GUSH_NUM'].astype(int)\n",
    "\n",
    "\n",
    "CancelBlocks['SubBlockNumber'] = Cancel_merge['GUSH_SUFFIX'].fillna(0)\n",
    "CancelBlocks['SubBlockNumber'] = CancelBlocks['SubBlockNumber'].astype(int)\n",
    "\n",
    "\n",
    "CancelBlocks['BlockStatus'] = None\n",
    "\n",
    "\n",
    "CancelBlocks['IsJordanian'] = Cancel_merge['IsJordanian']\n",
    "\n",
    "\n",
    "CancelBlocks['LandType'] = Cancel_merge['LandType']\n",
    "\n",
    "\n",
    "CancelBlocks['SetteledDate'] = Cancel_merge['STATUS_DATE'].astype('datetime64[D]')\n",
    "\n",
    "\n",
    "CancelBlocks['UpdateDate'] = Cancel_merge['FINAL_CONFIRMATION_DATE'].astype('datetime64[D]')\n",
    "\n",
    "\n",
    "CancelBlocks['LastRegisterdParcel'] = CancelBlocks['LastRegisterdParcel'].fillna(0)\n",
    "CancelBlocks['LastRegisterdParcel'] = Cancel_merge['LAST_PARCEL'].astype('Int64')\n",
    "\n",
    "\n",
    "CancelBlocks['LastParcel'] = Cancel_merge['MMG_LAST_PARCEL'].astype('Int64')\n",
    "\n",
    "\n",
    "CancelBlocks['LastSetteledParcel'] = Cancel_merge['HESDER_LAST_PARCEL'].astype('Int64')\n",
    "\n",
    "\n",
    "CancelBlocks['LastCourtParcel'] = Cancel_merge['COURT_LAST_PARCEL'].fillna(0)\n",
    "CancelBlocks['LastCourtParcel'] = Cancel_merge['COURT_LAST_PARCEL'].astype('Int64')\n",
    "\n",
    "\n",
    "\n",
    "CancelBlocks[['SetteledDate','UpdateDate']] = CancelBlocks[['SetteledDate','UpdateDate']].astype(np.datetime64)\n",
    "CancelBlocks.sort_values('BlockUniqueID', inplace=True)"
   ]
  },
  {
   "cell_type": "markdown",
   "id": "cb60129f-8ad7-4737-918e-11c87d972025",
   "metadata": {},
   "source": [
    "<h1 style=\"text-align:right; font-size:150%; color:#1c6ce6;\"> \n",
    "שמירת תוצאות לגושים מוסדרים/לא מוסדרים 💾\n",
    "<h1 style=\"text-align:right; font-size:100%;\"> \n",
    "<h1 style=\"text-align:right; font-size:100%;\">     \n",
    "פיצול התוצאות לפי יישויות בעלי גיאומטריה וללא גיאומטריה    \n",
    "<h1 style=\"text-align:right; font-size:100%;\"> \n",
    "בחירת נתיב\n",
    "<h1 style=\"text-align:right; font-size:100%;\"> \n",
    "שמירה כטבלה\n",
    "<h1 style=\"text-align:right; font-size:100%;\"> \n",
    "שמירה כשכבה גיאוגרפית"
   ]
  },
  {
   "cell_type": "code",
   "execution_count": null,
   "id": "3f96c8a1-737b-442b-a3a2-69ecefa52b0b",
   "metadata": {},
   "outputs": [],
   "source": [
    "print('  1.e Exporting results to product folder')"
   ]
  },
  {
   "cell_type": "code",
   "execution_count": null,
   "id": "438fc7d3-7303-4aa4-ba07-c3546fd545e1",
   "metadata": {},
   "outputs": [],
   "source": [
    "Blocks_geom = gpd.GeoDataFrame(Blocks[~Blocks['geometry'].isna()],\n",
    "                               geometry = 'geometry',\n",
    "                               crs = 2039)\n",
    "\n",
    "\n",
    "Blocks_no_geom = Blocks[Blocks['geometry'].isna()]"
   ]
  },
  {
   "cell_type": "code",
   "execution_count": null,
   "id": "fba95cba-d858-4863-9167-1ac20eb6ae83",
   "metadata": {
    "tags": []
   },
   "outputs": [],
   "source": [
    "#geom_csv_dir = r'\\\\mapi_shares\\MNCDB\\צוות מידע\\תוצרים\\csv\\Blocks_geom.csv'\n",
    "no_geom_csv_dir = r'\\\\mapi_shares\\MNCDB\\צוות מידע\\תוצרים\\csv\\Blocks_no_geom.csv'\n",
    "json_dir =  r'\\\\mapi_shares\\MNCDB\\צוות מידע\\תוצרים\\json\\Blocks_geom.geojson'\n",
    "\n",
    "\n",
    "#Blocks_geom.to_csv(geom_csv_dir ,encoding='cp1255', index=False)\n",
    "Blocks_no_geom.drop(columns='geometry').to_csv(no_geom_csv_dir , index=False)\n",
    "\n",
    "\n",
    "Blocks_geom.to_file(json_dir, driver = 'GeoJSON')"
   ]
  },
  {
   "cell_type": "code",
   "execution_count": null,
   "id": "58ae789a-6a4e-4d05-8ad1-2872006f93ec",
   "metadata": {},
   "outputs": [],
   "source": [
    "subprocess.call([r\"M:\\ncdbScripts\\scripts\\arcpyPro\\Blocks-Save as Feature Class.bat\"]);"
   ]
  },
  {
   "cell_type": "markdown",
   "id": "04422255-8eb1-400b-8772-c64b6f2443c3",
   "metadata": {},
   "source": [
    "<h1 style=\"text-align:right;font-size:150%; color:#1c6ce6;\">\n",
    "שמירת תוצאות לגושים מבוטלים\n",
    "<h1 style=\"text-align:right;font-size:100%\">\n",
    "בחירת נתיב\n",
    "<h1 style=\"text-align:right;font-size:100%\">\n",
    "שמירה כטבלה"
   ]
  },
  {
   "cell_type": "code",
   "execution_count": null,
   "id": "3b2bc125-96f0-4438-ac29-9f3237f35366",
   "metadata": {},
   "outputs": [],
   "source": [
    "CancelBlocks_csv_dir = r'\\\\mapi_shares\\MNCDB\\צוות מידע\\תוצרים\\csv\\CancelBlocks.csv'\n",
    "\n",
    "CancelBlocks.to_csv(CancelBlocks_csv_dir, index=False)"
   ]
  },
  {
   "cell_type": "code",
   "execution_count": null,
   "id": "b609dc92-d067-443d-963d-0487d1bcc903",
   "metadata": {},
   "outputs": [],
   "source": [
    "subprocess.call([r\"M:\\ncdbScripts\\scripts\\arcpyPro\\CancelBlocks-Save as Feature Class.bat\"]);"
   ]
  }
 ],
 "metadata": {
  "kernelspec": {
   "display_name": "Python 3",
   "language": "python",
   "name": "python3"
  },
  "language_info": {
   "codemirror_mode": {
    "name": "ipython",
    "version": 3
   },
   "file_extension": ".py",
   "mimetype": "text/x-python",
   "name": "python",
   "nbconvert_exporter": "python",
   "pygments_lexer": "ipython3",
   "version": "3.9.4"
  }
 },
 "nbformat": 4,
 "nbformat_minor": 5
}
