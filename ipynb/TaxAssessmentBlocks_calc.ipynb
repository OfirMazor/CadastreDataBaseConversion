{
 "cells": [
  {
   "cell_type": "markdown",
   "id": "55078d53-435a-40f9-b906-0ab6a41f306b",
   "metadata": {},
   "source": [
    "<h1 style=\"background-color:#1c6ce6;\n",
    "           font-family:segoe ui;\n",
    "                color:#FFF9ED;\n",
    "           font-size:300%;\n",
    "           text-align:center;\n",
    "           border-radius:10px 10px;\"> \n",
    "💰 תהליך הסבת שכבת גושי שומה לבנק\"ל מודרני 💰 "
   ]
  },
  {
   "cell_type": "code",
   "execution_count": 1,
   "id": "4ca99dd7-f377-4bc9-be07-5fb5c47b0f1f",
   "metadata": {},
   "outputs": [
    {
     "name": "stdout",
     "output_type": "stream",
     "text": [
      "2. Tax Assessment Blocks Borders:\n"
     ]
    }
   ],
   "source": [
    "print('2. Tax Assessment Blocks Borders:')"
   ]
  },
  {
   "cell_type": "markdown",
   "id": "bcbc53d2-154a-420b-ab80-1847126b5c64",
   "metadata": {},
   "source": [
    "<h1 style=\"text-align:right; font-size:150%; color:#1c6ce6;\">\n",
    "ספריות 📚"
   ]
  },
  {
   "cell_type": "code",
   "execution_count": 2,
   "id": "9a819565-90e1-4f39-ab4c-eed1b1b85cfb",
   "metadata": {
    "tags": []
   },
   "outputs": [],
   "source": [
    "import warnings\n",
    "warnings.filterwarnings('ignore')\n",
    "\n",
    "import numpy as np\n",
    "import pandas as pd\n",
    "import geopandas as gpd\n",
    "import subprocess\n",
    "from configs import CNFG"
   ]
  },
  {
   "cell_type": "markdown",
   "id": "5fcaa7c6-4337-459c-8915-86151d8f5ad7",
   "metadata": {},
   "source": [
    "<h1 style=\"text-align:right; font-size:150%; color:#1c6ce6;\">קריאת נתונים 📑 "
   ]
  },
  {
   "cell_type": "code",
   "execution_count": 3,
   "id": "c24d8650-4ae4-4814-b3cd-5d15e4614244",
   "metadata": {},
   "outputs": [
    {
     "name": "stdout",
     "output_type": "stream",
     "text": [
      "  2.a Reading inputs\n"
     ]
    }
   ],
   "source": [
    "print('  2.a Reading inputs')"
   ]
  },
  {
   "cell_type": "markdown",
   "id": "9cec6eb8-6237-49e9-9ce5-9c55f230ec00",
   "metadata": {},
   "source": [
    "<h1 style=\"text-align:right;font-size:100%\">\n",
    "רשימת גושי שומה"
   ]
  },
  {
   "cell_type": "code",
   "execution_count": 4,
   "id": "c0aebdd8-0137-467a-8f68-1d1dc71ae2d6",
   "metadata": {
    "tags": []
   },
   "outputs": [],
   "source": [
    "Tax_List = pd.read_csv(CNFG.Local + 'GushShumaList.csv')"
   ]
  },
  {
   "cell_type": "markdown",
   "id": "b912a203-2db3-47e0-a97e-da61048bbe10",
   "metadata": {},
   "source": [
    "<h1 style=\"text-align:right;font-size:100%\">\n",
    "טבלת גושי שומה"
   ]
  },
  {
   "cell_type": "code",
   "execution_count": 5,
   "id": "84a95bc5-ad28-4626-90d1-6a59252a118f",
   "metadata": {
    "tags": []
   },
   "outputs": [],
   "source": [
    "table_cols = ['GUSH_SHUMA_ID', 'GUSH_NUM', 'GUSH_SUFFIX', 'BOOK_COUNTY', 'BOOK_COMMENT', 'LOCALITY_ID']\n",
    "\n",
    "Tax_Table = pd.read_csv(CNFG.Oracle +'gush_shuma.csv', usecols = table_cols, encoding = 'cp1255')"
   ]
  },
  {
   "cell_type": "markdown",
   "id": "3796d64b-4f00-4c09-b094-f72fd4417ee8",
   "metadata": {},
   "source": [
    "<h1 style=\"text-align:right;font-size:100%\">\n",
    "שכבת גושי שומה"
   ]
  },
  {
   "cell_type": "code",
   "execution_count": 6,
   "id": "cf9e0c42-2318-4583-94fc-1a1d90665cec",
   "metadata": {
    "tags": []
   },
   "outputs": [],
   "source": [
    "layer_cols = ['GUSH_NUM', 'GUSH_SUFFIX', 'geometry']\n",
    "\n",
    "Tax_Layer = gpd.read_file(CNFG.CADSDE + 'SUB_GUSH_ALL_SHUMA.gdb',\n",
    "                          layer = 'SUB_GUSH_ALL_SHUMA',\n",
    "                          include_fields = layer_cols)\n",
    "\n",
    "Tax_Layer.rename(columns={'GUSH_NUM':'BlockNumber', 'GUSH_SUFFIX':'SubBlockNumber', 'STATUS':'BlockStatus'}, inplace=True)"
   ]
  },
  {
   "cell_type": "code",
   "execution_count": 7,
   "id": "2dfceb28-018f-40cb-9730-f62e968f958a",
   "metadata": {
    "tags": []
   },
   "outputs": [],
   "source": [
    "del[table_cols, layer_cols]"
   ]
  },
  {
   "cell_type": "markdown",
   "id": "5d4db972-4c86-457b-ab20-272d569d2050",
   "metadata": {},
   "source": [
    "<h1 style=\"text-align:right; font-size:150%; color:#1c6ce6;\">\n",
    "עיבוד נתונים 🛠️\n",
    "<h1 style=\"text-align:right; font-size:125%\">\n",
    "<h1 style=\"text-align:right; font-size:100%\">\n",
    "מילוי ערכי תת-גוש בספרה 0 עבור מקורות המידע\n",
    "<h1 style=\"text-align:right; font-size:100%\">    \n",
    "הוספת שדה מקשר לפי מספר גוש מלא בכל מקורות המידע"
   ]
  },
  {
   "cell_type": "code",
   "execution_count": 8,
   "id": "7462283d-91fd-4b3e-9516-2c67ee5767e7",
   "metadata": {},
   "outputs": [
    {
     "name": "stdout",
     "output_type": "stream",
     "text": [
      "  2.b Cleaning data\n"
     ]
    }
   ],
   "source": [
    "print('  2.b Cleaning data')"
   ]
  },
  {
   "cell_type": "code",
   "execution_count": 9,
   "id": "73153ede-b2b7-4070-a475-89b429f89240",
   "metadata": {
    "tags": []
   },
   "outputs": [],
   "source": [
    "Tax_Table['GUSH_SUFFIX'] = Tax_Table['GUSH_SUFFIX'].fillna(0).astype(int)\n",
    "Tax_Layer['SubBlockNumber'] = Tax_Layer['SubBlockNumber'].fillna(0).astype(int)\n",
    "\n",
    "\n",
    "Tax_Table['BlockName'] = Tax_Table['GUSH_NUM'].astype(str) + '_' + Tax_Table['GUSH_SUFFIX'].astype(str)\n",
    "Tax_Layer['BlockName'] = Tax_Layer['BlockNumber'].astype(str) + '_' + Tax_Layer['SubBlockNumber'].astype(str)\n",
    "Tax_List['BlockName'] = Tax_List['gush_id'] + '0'"
   ]
  },
  {
   "cell_type": "markdown",
   "id": "14462e52-acab-42d8-86a7-1d87ce2b2526",
   "metadata": {},
   "source": [
    "<h1 style=\"text-align:right; font-size:100%\">\n",
    "מיזוג נתוני רשימת שומה עם טבלת שומה\n",
    "שינוי שמות של שדות"
   ]
  },
  {
   "cell_type": "code",
   "execution_count": 10,
   "id": "18b6b8ca-b773-4423-b019-ec990badaca6",
   "metadata": {
    "tags": []
   },
   "outputs": [],
   "source": [
    "Merged_Table = Tax_List.merge(Tax_Table, on = 'BlockName', how = 'left')\n",
    "Merged_Table.rename(columns = {'GUSH_SHUMA_ID' : 'BlockUniqueID'}, inplace = True)"
   ]
  },
  {
   "cell_type": "markdown",
   "id": "7be558fd-f731-485a-b6f3-8639f2bd8671",
   "metadata": {},
   "source": [
    "<h1 style=\"text-align:right; font-size:100%\">\n",
    "מילוי ערכי מספר מזהה של גוש שומה לפי המשכיות של מספר רץ"
   ]
  },
  {
   "cell_type": "code",
   "execution_count": 11,
   "id": "04f41e0c-c897-4894-bb7d-f7390660721a",
   "metadata": {
    "tags": []
   },
   "outputs": [],
   "source": [
    "biggest = Merged_Table['BlockUniqueID'].max() + 1\n",
    "\n",
    "Merged_Table['BlockUniqueID'].loc[Merged_Table['BlockUniqueID'].isnull()] = biggest\n",
    "Merged_Table['rank'] = Merged_Table.groupby('BlockUniqueID')['BlockUniqueID'].rank('first')\n",
    "Merged_Table['rank'] = Merged_Table['rank'] - 1\n",
    "Merged_Table['BlockUniqueID'].loc[Merged_Table['BlockUniqueID'] == biggest] = Merged_Table['rank'] + Merged_Table['BlockUniqueID']\n",
    "Merged_Table = Merged_Table.drop(['rank'],axis = 1)"
   ]
  },
  {
   "cell_type": "code",
   "execution_count": 12,
   "id": "d6be6baa-7b02-4fc1-81eb-5fe58c7dafa8",
   "metadata": {},
   "outputs": [
    {
     "name": "stdout",
     "output_type": "stream",
     "text": [
      "  2.c Data conversion\n"
     ]
    }
   ],
   "source": [
    "print('  2.c Data conversion')"
   ]
  },
  {
   "cell_type": "markdown",
   "id": "dea5d387-3f99-4b72-8770-ec1d25ee66c4",
   "metadata": {},
   "source": [
    "<h1 style=\"text-align:right; font-size:100%\">\n",
    "מיזוג תוצאה קודמת עם שכבת גושי שומה"
   ]
  },
  {
   "cell_type": "code",
   "execution_count": 13,
   "id": "7753b1b4-ac4d-4d53-a2b3-f3c1e6fd950f",
   "metadata": {
    "tags": []
   },
   "outputs": [],
   "source": [
    "Merged_layer = Merged_Table.merge(right = Tax_Layer,\n",
    "                                  on  = 'BlockName',\n",
    "                                  how = 'outer',\n",
    "                                  indicator = True,\n",
    "                                  suffixes = ('','_layer'))"
   ]
  },
  {
   "cell_type": "markdown",
   "id": "0896c1a6-8bd8-4b60-8a03-ccd664906bb9",
   "metadata": {},
   "source": [
    "<h1 style=\"text-align:right; font-size:100%\">\n",
    "תיקון והשלמה של שדה מספר גוש ומספר תת גוש \n",
    "<h1 style=\"text-align:right; font-size:100%\">\n",
    "הסרת שדות שאינם רלוונטיים\n",
    "<h1 style=\"text-align:right; font-size:100%\">\n",
    "מיון רשומות לפי מספר זיהוי והשלמת מספרים מזהים חסרים לפי רציפות מספרית\n",
    "<h1 style=\"text-align:right; font-size:100%\">\n",
    "הסרת גושים כפולים"
   ]
  },
  {
   "cell_type": "code",
   "execution_count": 14,
   "id": "e648071c-afb8-452f-a612-1a3f5f0385c1",
   "metadata": {
    "tags": []
   },
   "outputs": [],
   "source": [
    "Merged_layer['SubBlockNumber'] = Merged_layer['SubBlockNumber'].fillna(Merged_layer['GUSH_SUFFIX'])\n",
    "Merged_layer['SubBlockNumber'] = Merged_layer['SubBlockNumber'].fillna(0)\n",
    "Merged_layer['SubBlockNumber'] = Merged_layer['SubBlockNumber'].astype('Int64')\n",
    "\n",
    "Merged_layer['BlockNumber'] = Merged_layer['BlockNumber'].fillna(Merged_layer['GUSH_NUM'])\n",
    "Merged_layer['BlockNumber'] = Merged_layer['BlockNumber'].fillna(Merged_layer['gush_shuma_num'])\n",
    "Merged_layer['BlockNumber'] = Merged_layer['BlockNumber'].astype('Int64')\n",
    "\n",
    "Merged_layer.drop(columns = ['gush_shuma_num','GUSH_SUFFIX', 'GUSH_NUM', '_merge', 'gush_id'], inplace=True)"
   ]
  },
  {
   "cell_type": "code",
   "execution_count": 15,
   "id": "fe6f77c6-0d61-4346-a4d5-8729043bc4de",
   "metadata": {
    "tags": []
   },
   "outputs": [],
   "source": [
    "Merged_layer['BlockUniqueID'] = Merged_layer['BlockUniqueID'].astype('Int64')\n",
    "Merged_layer.sort_values('BlockUniqueID', inplace=True)\n",
    "Merged_layer['BlockUniqueID'] = Merged_layer['BlockUniqueID'].ffill()+Merged_layer.groupby(Merged_layer.BlockUniqueID.notnull().cumsum()).cumcount()"
   ]
  },
  {
   "cell_type": "code",
   "execution_count": 16,
   "id": "737d458c-bc0a-4d16-91bd-743fc88c197d",
   "metadata": {
    "tags": []
   },
   "outputs": [],
   "source": [
    "Merged_layer.drop_duplicates(subset=['BlockNumber'], keep='first', inplace=True)"
   ]
  },
  {
   "cell_type": "markdown",
   "id": "47b4c034-0f9b-4bfd-b053-dee041fd32a9",
   "metadata": {
    "tags": []
   },
   "source": [
    "<h1 style=\"text-align:right; font-size:150%; color:#1c6ce6;\"> \n",
    "יצירת שכבה חדשה בהתאם לאפיון ✨"
   ]
  },
  {
   "cell_type": "code",
   "execution_count": 17,
   "id": "804be933-8dfa-43d3-9337-a2d8aee53783",
   "metadata": {},
   "outputs": [
    {
     "name": "stdout",
     "output_type": "stream",
     "text": [
      "  2.d Defining new Layer\n"
     ]
    }
   ],
   "source": [
    "print('  2.d Defining new Layer')"
   ]
  },
  {
   "cell_type": "code",
   "execution_count": 18,
   "id": "a423bf26-4f02-43fe-936a-edfcb63a0aae",
   "metadata": {
    "tags": []
   },
   "outputs": [],
   "source": [
    "new_columns = np.dtype([\n",
    "                        (\"BlockUniqueID\", int),\n",
    "                        ('BlockNumber', int),\n",
    "                        (\"SubBlockNumber\", int),\n",
    "                        (\"BlockStatus\", int),\n",
    "                        (\"IsJordanian\", int),\n",
    "                        (\"LandType\", int),\n",
    "                        #(\"SetteledDate\", 'datetime64[D]'),\n",
    "                        #(\"UpdateDate\", 'datetime64[D]'),\n",
    "                        #(\"LastRegisterdParcel\", int),\n",
    "                        #(\"LastParcel\", int),\n",
    "                        #(\"LastSetteledParcel\", int),\n",
    "                        #(\"LastCourtParcel\", int),\n",
    "                        ('County', str),\n",
    "                        ('LocalityID', int),\n",
    "                        ('Remarks', str)\n",
    "                       ])\n",
    "\n",
    "TaxAssassmentBlocks = pd.DataFrame(np.empty(0, dtype=new_columns))"
   ]
  },
  {
   "cell_type": "markdown",
   "id": "6d61c3ed-a5de-416f-af87-6e5e5ba6d956",
   "metadata": {},
   "source": [
    "<h1 style=\"text-align:right; font-size:100%\">\n",
    "איכלוס שדות"
   ]
  },
  {
   "cell_type": "code",
   "execution_count": 19,
   "id": "f6447c80-3378-4db7-a9c5-1fe30790eead",
   "metadata": {},
   "outputs": [],
   "source": [
    "TaxAssassmentBlocks['BlockUniqueID'] = Merged_layer['BlockUniqueID'].astype(int)\n",
    "\n",
    "\n",
    "TaxAssassmentBlocks['BlockNumber'] = Merged_layer['BlockNumber'].astype(int)\n",
    "\n",
    "\n",
    "TaxAssassmentBlocks['SubBlockNumber'] = Merged_layer['SubBlockNumber'].fillna(0)\n",
    "TaxAssassmentBlocks['SubBlockNumber'] = TaxAssassmentBlocks['SubBlockNumber'].astype(int)\n",
    "\n",
    "\n",
    "TaxAssassmentBlocks['BlockStatus'] = 1\n",
    "\n",
    "\n",
    "TaxAssassmentBlocks['IsJordanian'] = 0\n",
    "\n",
    "\n",
    "TaxAssassmentBlocks['LandType'] = 1\n",
    "\n",
    "\n",
    "#TaxAssassmentBlocks['SetteledDate'] = None\n",
    "\n",
    "\n",
    "#TaxAssassmentBlocks['UpdateDate'] = None\n",
    "\n",
    "\n",
    "#TaxAssassmentBlocks['LastRegisterdParcel'] = None\n",
    "\n",
    "\n",
    "#TaxAssassmentBlocks['LastParcel'] = None\n",
    "\n",
    "\n",
    "#TaxAssassmentBlocks['LastSetteledParcel'] = None\n",
    "\n",
    "\n",
    "#TaxAssassmentBlocks['LastCourtParcel'] = None\n",
    "\n",
    "\n",
    "TaxAssassmentBlocks['County'] = Merged_layer['BOOK_COUNTY']\n",
    "\n",
    "\n",
    "TaxAssassmentBlocks['LocalityID'] = Merged_layer['LOCALITY_ID'].astype('Int64')\n",
    "\n",
    "\n",
    "TaxAssassmentBlocks['Remarks'] = Merged_layer['BOOK_COMMENT']\n",
    "\n",
    "\n",
    "TaxAssassmentBlocks['geometry'] = Merged_layer['geometry']\n",
    "\n",
    "\n",
    "TaxAssassmentBlocks.sort_values('BlockUniqueID', inplace=True)"
   ]
  },
  {
   "cell_type": "markdown",
   "id": "f4871b7c-2479-44f6-99ff-6ab72fd90373",
   "metadata": {},
   "source": [
    "<h1 style=\"text-align:right; font-size:150%; color:#1c6ce6;\"> \n",
    "שמירת תוצאות 💾\n",
    "<h1 style=\"text-align:right; font-size:100%;\"> \n",
    "<h1 style=\"text-align:right; font-size:100%;\"> \n",
    "בחירת נתיב\n",
    "<h1 style=\"text-align:right; font-size:100%;\"> \n",
    "שמירה כטבלה\n",
    "<h1 style=\"text-align:right; font-size:100%;\"> \n",
    "שמירה כשכבה גיאוגרפית"
   ]
  },
  {
   "cell_type": "code",
   "execution_count": null,
   "id": "1763aff6-4fb5-4692-bdf2-d1fac654c1e9",
   "metadata": {},
   "outputs": [],
   "source": [
    "print('  2.e Exporting results to product folder')"
   ]
  },
  {
   "cell_type": "code",
   "execution_count": null,
   "id": "db5dc219-195f-4f15-9e93-ac998884ce98",
   "metadata": {},
   "outputs": [],
   "source": [
    "TaxAssassmentBlocks_geom = TaxAssassmentBlocks[~TaxAssassmentBlocks['geometry'].isna()]\n",
    "TaxAssassmentBlocks_no_geom = TaxAssassmentBlocks[TaxAssassmentBlocks['geometry'].isna()]"
   ]
  },
  {
   "cell_type": "code",
   "execution_count": null,
   "id": "16bb5a5c-000b-451d-99f7-86bd8cb407e4",
   "metadata": {
    "tags": []
   },
   "outputs": [],
   "source": [
    "no_geom_csv_dir = CNFG.CSVPath + 'TaxAssessmentBlocks_no_geom.csv'\n",
    "json_dir        = CNFG.JsonPath + 'TaxAssessmentBlocks_geom.geojson'\n",
    "\n",
    "\n",
    "TaxAssassmentBlocks_no_geom.drop(columns='geometry').to_csv(no_geom_csv_dir, index=False, encoding = 'cp1255')\n",
    "\n",
    "gpd.GeoDataFrame(TaxAssassmentBlocks_geom, geometry = 'geometry',  crs = 2039).to_file(json_dir, driver = 'GeoJSON')"
   ]
  },
  {
   "cell_type": "code",
   "execution_count": null,
   "id": "d9c294b1-b43f-4c25-8d3e-178b0fbccbbc",
   "metadata": {},
   "outputs": [],
   "source": [
    "subprocess.call([CNFG.BatchPath + \"Tax Assessment Blocks-Save as Feature Class.bat\"]);"
   ]
  }
 ],
 "metadata": {
  "kernelspec": {
   "display_name": "Python 3 (ipykernel)",
   "language": "python",
   "name": "python3"
  },
  "language_info": {
   "codemirror_mode": {
    "name": "ipython",
    "version": 3
   },
   "file_extension": ".py",
   "mimetype": "text/x-python",
   "name": "python",
   "nbconvert_exporter": "python",
   "pygments_lexer": "ipython3",
   "version": "3.11.3"
  }
 },
 "nbformat": 4,
 "nbformat_minor": 5
}
