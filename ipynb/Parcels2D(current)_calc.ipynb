{
 "cells": [
  {
   "cell_type": "markdown",
   "id": "ebd1d2a2-f408-4e0d-96dc-a28453f746eb",
   "metadata": {},
   "source": [
    "<h1 style=\"background-color:#1c6ce6;\n",
    "           font-family:segoe ui;\n",
    "                color:#FFF9ED;\n",
    "           font-size:250%;\n",
    "           text-align:center;\n",
    "           border-radius:10px 10px;\"> \n",
    "    🌐 תהליך הסבת שכבת חלקות (דו מימדיות) לבנק\"ל מודרני 🌐"
   ]
  },
  {
   "cell_type": "code",
   "execution_count": null,
   "id": "a4cae81b-fe23-48d2-b0d3-83c2e88161ca",
   "metadata": {},
   "outputs": [],
   "source": [
    "print('  Parcels2D(Current):')"
   ]
  },
  {
   "cell_type": "markdown",
   "id": "c48e1834-7bdf-4b53-8a29-63acb6e52dda",
   "metadata": {},
   "source": [
    "<h1 style=\"text-align:right; font-size:150%; color:#1c6ce6;\">\n",
    "ספריות 📚"
   ]
  },
  {
   "cell_type": "code",
   "execution_count": null,
   "id": "9b996ded-864f-47f5-9156-8e5bbbc3aaba",
   "metadata": {
    "tags": [
     "Libraries"
    ]
   },
   "outputs": [],
   "source": [
    "import warnings\n",
    "warnings.filterwarnings('ignore')\n",
    "\n",
    "import subprocess\n",
    "import numpy as np\n",
    "import pandas as pd\n",
    "import geopandas as gpd\n",
    "from configs import CNFG\n",
    "from helpers import assign_BlockName\n",
    "import dask_geopandas as daskgpd"
   ]
  },
  {
   "cell_type": "markdown",
   "id": "41823dce-f257-4e8f-841b-1cf4f0aebfc6",
   "metadata": {},
   "source": [
    "<h1 style=\"text-align:right; font-size:150%; color:#1c6ce6;\">קריאת נתונים 📑 "
   ]
  },
  {
   "cell_type": "markdown",
   "id": "f3f04f17-d855-4d9d-a68e-05a47d9ed1f1",
   "metadata": {},
   "source": [
    "<h1 style=\"text-align:right;font-size:125%\">\n",
    "חלקות פעילות"
   ]
  },
  {
   "cell_type": "code",
   "execution_count": null,
   "id": "e50cca75-2472-40e1-b709-8cfbc9b2d3bc",
   "metadata": {},
   "outputs": [],
   "source": [
    "print('    Reading inputs')"
   ]
  },
  {
   "cell_type": "code",
   "execution_count": null,
   "id": "6179bf3a-1901-4ba3-9c1e-419f76c8da14",
   "metadata": {
    "tags": []
   },
   "outputs": [],
   "source": [
    "parcel_all_cols = ['GUSH_NUM', 'GUSH_SUFFIX', 'PARCEL', 'STATUS', 'LEGAL_AREA', 'TALAR_NUMBER', 'TALAR_YEAR', 'geometry']\n",
    "\n",
    "parcel_all = daskgpd.read_file(CNFG.Arcstorm + 'PARCEL_ALL.gdb', layer = 'PARCEL_ALL', columns = parcel_all_cols, npartitions = 8).compute()\n",
    "\n",
    "del parcel_all_cols\n",
    "\n",
    "print('         input 1/7 read')"
   ]
  },
  {
   "cell_type": "markdown",
   "id": "9a48cde0-0bfa-49fa-8b14-9d5023f3db34",
   "metadata": {},
   "source": [
    "<h1 style=\"text-align:right;font-size:125%\">\n",
    "טבלת מספרי זיהוי של גושים"
   ]
  },
  {
   "cell_type": "code",
   "execution_count": null,
   "id": "6c49858f-d1a1-4710-8be5-73137ee1baee",
   "metadata": {},
   "outputs": [],
   "source": [
    "Blocks = pd.read_csv(CNFG.CSVPath + 'BlockUniqueIDs.csv', usecols = ['Name', 'GlobalID', 'IsTax'])\n",
    "Blocks = Blocks[Blocks['IsTax'] == 0]\n",
    "Blocks.drop(columns = 'IsTax', inplace = True)\n",
    "\n",
    "\n",
    "print('         input 2/7 read')"
   ]
  },
  {
   "cell_type": "markdown",
   "id": "be9563d9-c243-43d8-9cd9-cbb1a1d4b0ee",
   "metadata": {},
   "source": [
    "<h1 style=\"text-align:right;font-size:125%\">\n",
    "נתוני גבולות רישומי ותהליכי קדסטר"
   ]
  },
  {
   "cell_type": "code",
   "execution_count": null,
   "id": "3fbbf907-cc19-407c-bd05-5fd6abeb188c",
   "metadata": {
    "tags": []
   },
   "outputs": [],
   "source": [
    "process_record_cols = ['RecordGUID', 'ProcessGUID', 'ProcessName', 'ProcessType', 'Status']\n",
    "\n",
    "process_record = pd.read_csv(CNFG.CSVPath + 'ProcessesAndRecords.csv', usecols = process_record_cols)\n",
    "\n",
    "del process_record_cols\n",
    "\n",
    "print('         input 3/7 read')"
   ]
  },
  {
   "cell_type": "markdown",
   "id": "e6e5f626-6173-41a8-8649-9376adb05aa7",
   "metadata": {},
   "source": [
    "<h1 style=\"text-align:right;font-size:125%\">\n",
    "נתוני מקרקעי ייעוד"
   ]
  },
  {
   "cell_type": "code",
   "execution_count": null,
   "id": "b6380c45-16d8-4d03-bd71-9b607626e154",
   "metadata": {},
   "outputs": [],
   "source": [
    "SubBlocksList = pd.read_csv(CNFG.Local + 'SubBlocksList.csv')\n",
    "xml_df = pd.read_csv(CNFG.Local + 'KeshetRimonAssets.csv').sort_values(['BlockName', 'ParcelNumber'])\n",
    "\n",
    "xml_df = xml_df.merge(SubBlocksList[['BlockNumber', 'SubBlockNumber', 'BlockName']], on = 'BlockName', how = 'left')\n",
    "\n",
    "del SubBlocksList\n",
    "\n",
    "print('         input 4/7 read')"
   ]
  },
  {
   "cell_type": "markdown",
   "id": "33b17e9c-6f47-4ce5-8e13-8d8e762a0df7",
   "metadata": {},
   "source": [
    "<h1 style=\"text-align:right;font-size:125%\">\n",
    "טבלת סדר פעולות"
   ]
  },
  {
   "cell_type": "code",
   "execution_count": null,
   "id": "57c991cf-496c-4d85-b300-9c4fad45ce94",
   "metadata": {
    "tags": []
   },
   "outputs": [],
   "source": [
    "SequenceActions = pd.read_csv(CNFG.CSVPath + 'SequenceActions.csv')\n",
    "print('         input 5/7 read')"
   ]
  },
  {
   "cell_type": "markdown",
   "id": "76c124e7-70fc-4559-8ed1-23f328896838",
   "metadata": {},
   "source": [
    "<h1 style=\"text-align:right;font-size:125%\">\n",
    "חלקות פסקי דין"
   ]
  },
  {
   "cell_type": "code",
   "execution_count": null,
   "id": "8f12a089-9869-404f-91b7-c8c1b51efde9",
   "metadata": {
    "tags": []
   },
   "outputs": [],
   "source": [
    "Judgments_parcels = pd.read_csv(CNFG.Oracle + 'Psak_din_parcels.csv')\n",
    "print('         input 6/7 read')\n",
    "\n",
    "Judgments = pd.read_csv(CNFG.Oracle + 'psak_din.csv', usecols = ['PSAK_DIN_ID', 'PSAK_DIN_NUM', 'PSAK_DIN_YEAR', 'GUSH_NUM', 'GUSH_SUFFIX'], encoding = 'cp1255')\n",
    "print('         input 7/7 read')"
   ]
  },
  {
   "cell_type": "markdown",
   "id": "387cdf4a-de05-4656-9d77-e08c41b1907e",
   "metadata": {},
   "source": [
    "<h1 style=\"text-align:right;font-size:125%\">\n",
    "חלקות טעות"
   ]
  },
  {
   "cell_type": "code",
   "execution_count": null,
   "id": "bcb8be72-9b95-45a1-a361-04a282ee95d3",
   "metadata": {
    "tags": []
   },
   "outputs": [],
   "source": [
    "error_cols = ['GUSH_NUM', 'GUSH_SUFFIX', 'PARCEL', 'LEGAL_AREA', 'TALAR_NUM', 'TALAR_YEAR', 'handle']\n",
    "ErrorParcels = pd.read_excel(CNFG.Local + 'Parcel_error.xlsx', usecols = error_cols)\n",
    "del error_cols"
   ]
  },
  {
   "cell_type": "markdown",
   "id": "962d6462-d0c7-4f65-a555-a12525c895bf",
   "metadata": {},
   "source": [
    "<h1 style=\"text-align:right; font-size:150%; color:#1c6ce6;\">\n",
    "עיבוד נתונים 🛠️"
   ]
  },
  {
   "cell_type": "markdown",
   "id": "d80968b1-ba57-4c68-a00b-9af038799605",
   "metadata": {},
   "source": [
    "<h1 style=\"text-align:right;font-size:125%;\">\n",
    ":עיבוד נתוני חלקות פעילות"
   ]
  },
  {
   "cell_type": "markdown",
   "id": "15b8b0dc-b167-4bef-8566-e3766bdc8637",
   "metadata": {},
   "source": [
    "<h1 style=\"text-align:right;font-size:100%\">\n",
    "הסרת חלקות עם מספר חלקה 0"
   ]
  },
  {
   "cell_type": "code",
   "execution_count": null,
   "id": "345b38e9-f69d-4788-b814-6ec5ea817576",
   "metadata": {
    "tags": []
   },
   "outputs": [],
   "source": [
    "parcel_all = parcel_all[parcel_all['PARCEL'] != 0]"
   ]
  },
  {
   "cell_type": "markdown",
   "id": "55325aa2-a4a0-4b6d-952e-54c6afdb9b68",
   "metadata": {},
   "source": [
    "<h1 style=\"text-align:right;font-size:100%\">\n",
    "שינוי מרשת קואורדינטות עולמית לרשת ישראל חדשה  "
   ]
  },
  {
   "cell_type": "code",
   "execution_count": null,
   "id": "453d62cf-477f-422f-ac47-f4e04d02ba99",
   "metadata": {
    "tags": []
   },
   "outputs": [],
   "source": [
    "parcel_all = parcel_all.to_crs(2039)"
   ]
  },
  {
   "cell_type": "markdown",
   "id": "b02af4ae-684b-44be-87d5-f2eb55f51cfd",
   "metadata": {},
   "source": [
    "<h1 style=\"text-align:right;font-size:100%\">\n",
    "איחוד עם טבלת גושים לקבלת מספר מזהה לגוש עבור כל חלקה"
   ]
  },
  {
   "cell_type": "code",
   "execution_count": null,
   "id": "fbff762a-0cf3-4181-8b10-862558e39e41",
   "metadata": {
    "tags": []
   },
   "outputs": [],
   "source": [
    "parcel_all['GUSH_SUFFIX'] = parcel_all['GUSH_SUFFIX'].fillna(0)\n",
    "parcel_all[['GUSH_NUM', 'GUSH_SUFFIX']] = parcel_all[['GUSH_NUM', 'GUSH_SUFFIX']].astype(int)\n",
    "parcel_all['BlockName'] = parcel_all['GUSH_NUM'].astype(str) + '/' + parcel_all['GUSH_SUFFIX'].astype(str)\n",
    "\n",
    "parcel_all = parcel_all.merge(Blocks, left_on = 'BlockName', right_on = 'Name', how = 'left')\\\n",
    "                       .drop(columns = 'Name')"
   ]
  },
  {
   "cell_type": "markdown",
   "id": "ed4c521d-1214-4d21-a01c-a9835dd69e54",
   "metadata": {},
   "source": [
    "<h1 style=\"text-align:right;font-size:100%\">\n",
    "שינוי שמות של שדות ישנים לחדשים"
   ]
  },
  {
   "cell_type": "code",
   "execution_count": null,
   "id": "d6ebb022-830c-446b-9c86-3cce0ecee92d",
   "metadata": {
    "tags": []
   },
   "outputs": [],
   "source": [
    "parcel_all.rename(columns = {'PARCEL'      : 'ParcelNumber',\n",
    "                             'GUSH_NUM'    : 'BlockNumber',\n",
    "                             'GUSH_SUFFIX' : 'SubBlockNumber',\n",
    "                             'LEGAL_AREA'  : 'StatedArea',\n",
    "                             'GlobalID'    : 'BlockUniqueID'}, inplace = True)"
   ]
  },
  {
   "cell_type": "markdown",
   "id": "56638041-5b5d-4499-9562-0ca0ec921cf6",
   "metadata": {},
   "source": [
    "<h1 style=\"text-align:right;font-size:100%\">\n",
    "הגדרת שדה של סוג מקרקעין"
   ]
  },
  {
   "cell_type": "code",
   "execution_count": null,
   "id": "1ef10d66-b9fa-4191-b7c1-7a402a6026bd",
   "metadata": {
    "tags": []
   },
   "outputs": [],
   "source": [
    "registered   = 1\n",
    "unregistered = 2\n",
    "\n",
    "registered_cond = parcel_all['STATUS'].isin([1, 3, 6, 16])\n",
    "parcel_all['LandType'] = np.where(registered_cond, registered, unregistered)\n",
    "parcel_all.drop(columns = 'STATUS', inplace = True)"
   ]
  },
  {
   "cell_type": "markdown",
   "id": "5ebf0856-5f2c-400e-9dbc-9501866fe977",
   "metadata": {},
   "source": [
    "<h1 style=\"text-align:right;font-size:100%\">\n",
    "הגדרת שדה של סוג חלקה"
   ]
  },
  {
   "cell_type": "code",
   "execution_count": null,
   "id": "5728e394-e088-4cec-90eb-72c1e27b695b",
   "metadata": {
    "tags": []
   },
   "outputs": [],
   "source": [
    "temporary = 1\n",
    "final     = 2\n",
    "\n",
    "parcel_all['ParcelType'] = parcel_all['LandType'].map({registered : final, unregistered : temporary})\n",
    "\n",
    "del [registered, unregistered, temporary, final]"
   ]
  },
  {
   "cell_type": "markdown",
   "id": "753d2e53-9671-4202-abbc-30b3f7dd1c54",
   "metadata": {},
   "source": [
    "<h1 style=\"text-align:right;font-size:100%\">\n",
    "מיזוג נתוני מקרקעי יעוד"
   ]
  },
  {
   "cell_type": "code",
   "execution_count": null,
   "id": "c689d64a-95b5-4a10-b25a-7dfbd0c824c7",
   "metadata": {
    "tags": []
   },
   "outputs": [],
   "source": [
    "xml_df['BlockNumber'] = xml_df['BlockNumber'].fillna(xml_df['BlockName'])\n",
    "\n",
    "xml_df['SubBlockNumber'] = xml_df['SubBlockNumber'].fillna(0)\n",
    "\n",
    "xml_df = xml_df.drop(columns = 'BlockName')\n",
    "\n",
    "xml_df[['BlockNumber', 'SubBlockNumber', 'ParcelNumber']] = xml_df[['BlockNumber', 'SubBlockNumber', 'ParcelNumber']].astype(int)\n",
    "\n",
    "xml_df['ParcelName'] = xml_df['ParcelNumber'].astype(str) + '/' + xml_df['BlockNumber'].astype(str) + '/' +  xml_df['SubBlockNumber'].astype(str)\n",
    "\n",
    "xml_df = xml_df[['ParcelName', 'LandDesignations']]\n",
    "\n",
    "\n",
    "\n",
    "parcel_all['ParcelName'] = parcel_all['ParcelNumber'].astype(str) + '/' + parcel_all['BlockName']\n",
    "\n",
    "\n",
    "\n",
    "parcel_all = parcel_all.merge(right = xml_df, on = 'ParcelName', how = 'left')\\\n",
    "                       .drop(columns = 'BlockName')\\\n",
    "                       .rename(columns = {'LandDesignations' : 'LandDesignationPlan'})\n",
    "\n",
    "del xml_df"
   ]
  },
  {
   "cell_type": "markdown",
   "id": "fbbba99c-df3b-4bef-90cd-aa1f130be7b5",
   "metadata": {},
   "source": [
    "<h1 style=\"text-align:right;font-size:100%\">\n",
    ":סינון נתוני תהליכי קדסטר לתכניות שאושרו בלבד (חלקות רצף הן חלקות לאחר שאושרו/עודכנו בתכנית) לפי סטאטוס\n",
    "    <h1 style=\"text-align:right;font-size:100%\">\n",
    "    רשומה -\n",
    "        <h1 style=\"text-align:right;font-size:100%\">\n",
    "    מאושרת לתיעוד גבולות -\n",
    "            <h1 style=\"text-align:right;font-size:100%\">\n",
    "    מאושר -\n",
    "                <h1 style=\"text-align:right;font-size:100%\">\n",
    "    פורסם ברשומות - "
   ]
  },
  {
   "cell_type": "code",
   "execution_count": null,
   "id": "57123228-dee8-45a4-a8dd-9f8a2f994fbe",
   "metadata": {
    "tags": []
   },
   "outputs": [],
   "source": [
    "ApprovedStatus = [5, 6, 13, 103]\n",
    "\n",
    "process_record = process_record[process_record['Status'].isin(ApprovedStatus)].drop(columns = 'Status')\n",
    "\n",
    "del ApprovedStatus"
   ]
  },
  {
   "cell_type": "markdown",
   "id": "c6f47dcb-63bf-414a-9d10-e254a29a5ca9",
   "metadata": {},
   "source": [
    "<h1 style=\"text-align:right;font-size:125%\">\n",
    ":תהליכים יוצרים לחלקה"
   ]
  },
  {
   "cell_type": "markdown",
   "id": "c2ba449e-4567-4622-805b-1e2d50f4ef6b",
   "metadata": {},
   "source": [
    "<h1 style=\"text-align:right;font-size:100%\">\n",
    "תהליכים יוצרים של חלקות פעילות - הגדרת שדה של שם תהליך"
   ]
  },
  {
   "cell_type": "code",
   "execution_count": null,
   "id": "f256d6c8-cbbd-4048-adff-ed3208abb55c",
   "metadata": {
    "tags": []
   },
   "outputs": [],
   "source": [
    "parcel_all[['TALAR_NUMBER', 'TALAR_YEAR']] =  parcel_all[['TALAR_NUMBER', 'TALAR_YEAR']].fillna(0)\n",
    "parcel_all[['TALAR_NUMBER', 'TALAR_YEAR']] = parcel_all[['TALAR_NUMBER', 'TALAR_YEAR']].astype(int)\n",
    "parcel_all['ProcessName'] = parcel_all['TALAR_NUMBER'].astype(str) + '/' + parcel_all['TALAR_YEAR'].astype(str)\n",
    "parcel_all.drop(columns = ['TALAR_NUMBER', 'TALAR_YEAR'], inplace = True)\n",
    "parcel_all['ProcessName'] = np.where(parcel_all['ProcessName'] == '0/0', None, parcel_all['ProcessName'])\n",
    "\n",
    "parcel_all = parcel_all.merge(process_record[['RecordGUID', 'ProcessName']], on = 'ProcessName', how = 'left')\\\n",
    "                       .rename(columns = {'RecordGUID' : 'RecordsFromParcel',\n",
    "                                          'ProcessName':'ParcelAllProcessName'})"
   ]
  },
  {
   "cell_type": "markdown",
   "id": "e1c046f1-304b-4a20-8e1f-d2a4d5c6103b",
   "metadata": {},
   "source": [
    "<h1 style=\"text-align:right;font-size:100%\">\n",
    ":חילוץ תהליכים יוצרים של תצ\"ר ותצ\"ר בשטח לא מוסדר עבור חלקות באמצעות טבלת סדר פעולות\n",
    "<h1 style=\"text-align:right;font-size:100%\">\n",
    "סינון טבלת סדר פעולות לתצ\"ר ותצ\"ר לא מוסדר\n",
    "<h1 style=\"text-align:right;font-size:100%\">\n",
    "סיוד שדות של גושי יעד וחלקות סופיות\n",
    "<h1 style=\"text-align:right;font-size:100%\">\n",
    "הגדרת שדה שם מלא של חלקה\n",
    "<h1 style=\"text-align:right;font-size:100%\">\n",
    "צמצום טבלה לשם חלקה ומזהה תהליך קדסטרי\n",
    "<h1 style=\"text-align:right;font-size:100%\">\n",
    "מיזוג עם טבלת תהליכי ורישומי קדסטר לקבלת מזהה רישום קדסטרי"
   ]
  },
  {
   "cell_type": "code",
   "execution_count": null,
   "id": "3d91f64f-6867-4f11-8e1d-6df238aa3f59",
   "metadata": {
    "tags": []
   },
   "outputs": [],
   "source": [
    "SequenceTazar = SequenceActions[SequenceActions['ProcessType'].isin([1,11])][['ToParcelFinal', 'BlockNumber', 'SubBlockNumber', 'ToBlockNumber', 'ToSubBlockNumber', 'CPBUniqueID']]\n",
    "\n",
    "SequenceTazar['ToBlockNumber'] = SequenceTazar['ToBlockNumber'].replace(0, None)\n",
    "SequenceTazar['Block'] = SequenceTazar['ToBlockNumber'].fillna(SequenceTazar['BlockNumber'])\n",
    "SequenceTazar['SubBlock'] = SequenceTazar['ToSubBlockNumber'].fillna(SequenceTazar['SubBlockNumber'])\n",
    "SequenceTazar = SequenceTazar[(SequenceTazar['ToParcelFinal'] != 0) & (~SequenceTazar['ToParcelFinal'].isna())]\n",
    "SequenceTazar['SubBlock'] = SequenceTazar['SubBlock'].fillna(0)\n",
    "SequenceTazar[['ToParcelFinal','Block','SubBlock']] = SequenceTazar[['ToParcelFinal','Block','SubBlock']].astype(int)\n",
    "\n",
    "SequenceTazar['ParcelName'] = SequenceTazar['ToParcelFinal'].astype(str) + '/' + SequenceTazar['Block'].astype(str) + '/' + SequenceTazar['SubBlock'].astype(str)\n",
    "\n",
    "SequenceTazar = SequenceTazar[['ParcelName', 'CPBUniqueID']]\n",
    "\n",
    "                                \n",
    "SequenceTazar = SequenceTazar.merge(process_record[['RecordGUID', 'ProcessGUID', 'ProcessName']], left_on = 'CPBUniqueID', right_on = 'ProcessGUID', how = 'left')\\\n",
    "                             .drop(columns = ['CPBUniqueID', 'ProcessGUID'])\\\n",
    "                             .rename(columns = {'RecordGUID' : 'RecordFromSequence', 'ProcessName' : 'SequenceProcessName'})\n",
    "\n",
    "SequenceTazar = SequenceTazar.drop_duplicates(subset = ['ParcelName'], keep = 'first')\n",
    "parcel_all = parcel_all.merge(SequenceTazar, on ='ParcelName', how = 'left')\n",
    "\n",
    "del SequenceTazar"
   ]
  },
  {
   "cell_type": "markdown",
   "id": "c89ed41d-eda5-4a8d-bf15-fae2e9698ddb",
   "metadata": {},
   "source": [
    "<h1 style=\"text-align:right;font-size:125%\">\n",
    ":חילוץ תהליכים יוצרים של פסקי דין עבור חלקות\n",
    "<h1 style=\"text-align:right;font-size:100%\">\n",
    "סינון חלקות פסקי דין לחלקות יוצאות בלבד\n",
    "<h1 style=\"text-align:right;font-size:100%\">\n",
    "מיזוג חלקות פסקי דין עם טבלת גבולות פסקי דין לקבלת שם מפה\n",
    "<h1 style=\"text-align:right;font-size:100%\">\n",
    "הגדרת שדות לשם חלקה מלא ושם מפה\n",
    "<h1 style=\"text-align:right;font-size:100%\">\n",
    "סינון טבלת רישומי קדסטר לתהליכים מסוג פסקי דין בלבד\n",
    "<h1 style=\"text-align:right;font-size:100%\">\n",
    "הסרת חלקות שנוצרו על ידי יותר מפס\"ד אחד (נשמרת החלקה עם מספר התכנית הגבוה יותר)\n",
    "<h1 style=\"text-align:right;font-size:100%\">\n",
    "מיזוג עם נתוני רישומי קדסטר לקבלת מזהה רישום קדסטר "
   ]
  },
  {
   "cell_type": "code",
   "execution_count": null,
   "id": "f86d855d-5dd5-4f8a-9c8b-440f0dc72c63",
   "metadata": {
    "tags": []
   },
   "outputs": [],
   "source": [
    "Judgments_parcels = Judgments_parcels[Judgments_parcels['TYPE'] == 1].drop(columns = 'TYPE')\n",
    "Judgments_parcels = Judgments_parcels.merge(Judgments, on = 'PSAK_DIN_ID', how = 'left')\n",
    "\n",
    "Judgments_parcels = Judgments_parcels[~Judgments_parcels['GUSH_NUM'].isna()]\n",
    "Judgments_parcels['GUSH_SUFFIX'] = Judgments_parcels['GUSH_SUFFIX'].fillna(0)\n",
    "Judgments_parcels = Judgments_parcels.astype(int)\n",
    "Judgments_parcels['ParcelName'] = Judgments_parcels['PARCEL'].astype(str) + '/' + Judgments_parcels['GUSH_NUM'].astype(str) + '/' + Judgments_parcels['GUSH_SUFFIX'].astype(str)\n",
    "\n",
    "Judgments_parcels = Judgments_parcels.sort_values(['PSAK_DIN_NUM', 'PSAK_DIN_YEAR'])\n",
    "Judgments_parcels['ProcessName'] = Judgments_parcels['PSAK_DIN_NUM'].astype(str) + '-' + Judgments_parcels['PSAK_DIN_YEAR'].astype(str)\n",
    "Judgments_parcels = Judgments_parcels[['ProcessName', 'ParcelName']]\n",
    "\n",
    "\n",
    "Judgments_records = process_record[process_record['ProcessType'] == 3]\n",
    "Judgments_parcels = Judgments_parcels[Judgments_parcels['ParcelName'].isin(parcel_all['ParcelName'])]\n",
    "Judgments_parcels = Judgments_parcels.merge(Judgments_records, on = 'ProcessName' , how = 'left')\\\n",
    "                                     .rename(columns = {'RecordGUID' : 'RecordFromJudgment', 'ProcessName' : 'JudgmentProcessName'})\\\n",
    "                                     .dropna(subset = 'RecordFromJudgment')\n",
    "\n",
    "\n",
    "Judgments_parcels = Judgments_parcels.drop_duplicates(subset = ['ParcelName'], keep = 'last')\n",
    "\n",
    "parcel_all = parcel_all.merge(Judgments_parcels[['ParcelName', 'RecordFromJudgment', 'JudgmentProcessName']], on = 'ParcelName', how = 'left')\n",
    "\n",
    "del [Judgments, Judgments_parcels]"
   ]
  },
  {
   "cell_type": "markdown",
   "id": "a601bb13-911a-4523-8d15-4bcc89be0b7b",
   "metadata": {},
   "source": [
    "<h1 style=\"text-align:right;font-size:100%\">\n",
    "הגדרת שדה של מזהה רישום קדסטרי יוצר\n",
    "ראשית לפי שמות מפה מטבלת חלקות, אח\"כ לפי טבלת סדר פעולות, אח\"כ לפי פסקי דין ולבסוף מילוי כל שאר הריקים עם מזהה רישום קדסטרי כללי\n",
    "<h1 style=\"text-align:right;font-size:100%\">\n",
    "הסרת שדות לא רלוונטיים"
   ]
  },
  {
   "cell_type": "code",
   "execution_count": null,
   "id": "c05c32b2-ab55-42e7-b967-16ed081cfda2",
   "metadata": {
    "tags": []
   },
   "outputs": [],
   "source": [
    "parcel_all['CreatedByRecord'] = parcel_all['RecordsFromParcel'].fillna(parcel_all['RecordFromSequence'])\\\n",
    "                                                               .fillna(parcel_all['RecordFromJudgment'])\\\n",
    "                                                               .fillna(CNFG.FabricatedCreateProcessGUID)\n",
    "\n",
    "parcel_all.drop(columns = ['RecordsFromParcel', 'RecordFromSequence', 'RecordFromJudgment',\n",
    "                           'ParcelAllProcessName', 'SequenceProcessName', 'JudgmentProcessName'],\n",
    "                inplace = True)"
   ]
  },
  {
   "cell_type": "markdown",
   "id": "3faa7565-faa6-4297-a11c-f9769bdf6308",
   "metadata": {},
   "source": [
    "<h1 style=\"text-align:right;font-size:100%\">\n",
    ":הגדרת שדה של סוג תהליך יוצר\n",
    "<h1 style=\"text-align:right;font-size:100%\">\n",
    "יזוג טבלת חלקות עם רישומי קדסטר הכוללים סוג תהליך קדסטרי\n",
    "<h1 style=\"text-align:right;font-size:100%\">\n",
    "מיפוי ערכי סוג התהליך לפי ערכים מותרים לשדה - סוג תהליך יוצר\n",
    "<h1 style=\"text-align:right;font-size:100%\">\n",
    "לחלקות בהן סוג הרישום היוצר אינו ידוע, תקבל הערך \"הסדר מקרקעין\" (3)"
   ]
  },
  {
   "cell_type": "code",
   "execution_count": null,
   "id": "10e6d8b4-5e46-4270-a764-a8cd83b11daa",
   "metadata": {
    "tags": []
   },
   "outputs": [],
   "source": [
    "parcel_all = parcel_all.merge(right = process_record[['RecordGUID', 'ProcessType']],\n",
    "                              left_on = 'CreatedByRecord',\n",
    "                              right_on = 'RecordGUID',\n",
    "                              how = 'left')\\\n",
    "                        .drop(columns = 'RecordGUID')\\\n",
    "                        .rename(columns = {'ProcessType' : 'CreateProcessType'})\n",
    "\n",
    "\n",
    "CreateProcessType_clf = {1 : 1, # תצ\"ר \n",
    "                         3 : 2, # פס\"ד \n",
    "                         11: 4} # תצ\"ר בשטח לא מוסדר\n",
    "\n",
    "parcel_all['CreateProcessType'] = parcel_all['CreateProcessType'].map(CreateProcessType_clf)\n",
    "\n",
    "parcel_all['CreateProcessType'] = parcel_all['CreateProcessType'].fillna(3)"
   ]
  },
  {
   "cell_type": "markdown",
   "id": "5db80aa1-6ce4-4d17-98f4-a8c7a5404e59",
   "metadata": {},
   "source": [
    "<h1 style=\"text-align:right;font-size:100%\">\n",
    "תהליכים מטייבים לחלקה"
   ]
  },
  {
   "cell_type": "markdown",
   "id": "b81633b8-c3d8-4e46-867c-4b12d8fe6a58",
   "metadata": {},
   "source": [
    "<h1 style=\"text-align:right;font-size:100%\">\n",
    ":תת\"ג\n",
    "<h1 style=\"text-align:right;font-size:100%\">\n",
    "סינון טבלת סדר פעולות לתהליכי תת\"ג בלבד-\n",
    "<h1 style=\"text-align:right;font-size:100%\">\n",
    "סינון רישומי קדסטר סוג תהליך תת\"ג בלבד-\n",
    "<h1 style=\"text-align:right;font-size:100%\">\n",
    "סינון טבלת סדר פעולות תת\"ג לתת\"גים שמופיעים ברישומים (כאלו שאושרו)-\n",
    "<h1 style=\"text-align:right;font-size:100%\">\n",
    "הוספת שדה של מספר חלקה מלא-\n",
    "<h1 style=\"text-align:right;font-size:100%\">\n",
    "בחירת שדות של מזהה רישום ומספר חלקה מלא-\n",
    "<h1 style=\"text-align:right;font-size:100%\">\n",
    "בחירת חלקות שמופיעות בשכבת חלקות רצף (אלו שלא מופיעות כנראה מבוטלות)-"
   ]
  },
  {
   "cell_type": "code",
   "execution_count": null,
   "id": "4720532e-99b5-4593-9cc4-a4f4a9fe3579",
   "metadata": {
    "tags": []
   },
   "outputs": [],
   "source": [
    "SequenceTatag = SequenceActions[SequenceActions['ProcessType'] == 4].drop(columns = 'ProcessType')\n",
    "RecordsTatag = process_record[process_record['ProcessType'] == 4]\n",
    "\n",
    "SequenceTatag = SequenceTatag[SequenceTatag['CPBUniqueID'].isin(RecordsTatag['ProcessGUID'])]\n",
    "SequenceTatag = SequenceTatag.merge(RecordsTatag[['ProcessGUID', 'RecordGUID']], left_on = 'CPBUniqueID', right_on = 'ProcessGUID')\\\n",
    "                             .drop(columns = 'ProcessGUID')\n",
    "\n",
    "\n",
    "SequenceTatag[['BlockNumber', 'SubBlockNumber', 'FromParcelFinal', 'ToParcelFinal']] = SequenceTatag[['BlockNumber', 'SubBlockNumber', 'FromParcelFinal', 'ToParcelFinal']].astype('Int64')\n",
    "SequenceTatag['ParcelName'] = SequenceTatag['ToParcelFinal'].astype(str) + '/' + SequenceTatag['BlockNumber'].astype(str) + '/' + SequenceTatag['SubBlockNumber'].astype(str)\n",
    "\n",
    "SequenceTatag = SequenceTatag[['RecordGUID', 'ParcelName']]\n",
    "SequenceTatag = SequenceTatag[SequenceTatag['ParcelName'].isin(parcel_all['ParcelName'])]\n",
    "SequenceTatag.rename(columns ={'RecordGUID' : 'UpdatedByTatag'}, inplace = True)\n",
    "\n",
    "del RecordsTatag"
   ]
  },
  {
   "cell_type": "markdown",
   "id": "83f04cf7-19a9-4fbd-93b2-068ffaaae8a5",
   "metadata": {},
   "source": [
    "<h1 style=\"text-align:right;font-size:100%\">\n",
    ":'תיקון הסדר 97ב\n",
    "<h1 style=\"text-align:right;font-size:100%\">\n",
    "סינון טבלת סדר פעולות לתהליכי 97ב' בלבד-\n",
    "<h1 style=\"text-align:right;font-size:100%\">\n",
    "סינון רישומי קדסטר סוג תהליך 97ב' בלבד-\n",
    "<h1 style=\"text-align:right;font-size:100%\">\n",
    "סינון טבלת סדר פעולות 97ב' שמופיעים ברישומים (כאלו שאושרו)-\n",
    "<h1 style=\"text-align:right;font-size:100%\">\n",
    "הוספת שדה של מספר חלקה מלא-\n",
    "<h1 style=\"text-align:right;font-size:100%\">\n",
    "בחירת שדות של מזהה רישום ומספר חלקה מלא-\n",
    "<h1 style=\"text-align:right;font-size:100%\">\n",
    "בחירת חלקות שמופיעות בשכבת חלקות רצף (אלו שלא מופיעות כנראה מבוטלות)-"
   ]
  },
  {
   "cell_type": "code",
   "execution_count": null,
   "id": "ad12f604-2e89-489e-adef-e874c349add2",
   "metadata": {
    "tags": []
   },
   "outputs": [],
   "source": [
    "Sequence97b = SequenceActions[SequenceActions['ProcessType'] == 6].drop(columns = 'ProcessType')\n",
    "Records97b  = process_record[process_record['ProcessType'] == 6]\n",
    "\n",
    "Sequence97b = Sequence97b[Sequence97b['CPBUniqueID'].isin(Records97b['ProcessGUID'])]\n",
    "Sequence97b = Sequence97b.merge(Records97b[['ProcessGUID', 'RecordGUID']], left_on = 'CPBUniqueID', right_on = 'ProcessGUID')\\\n",
    "                         .drop(columns = 'ProcessGUID')\n",
    "\n",
    "Sequence97b[['BlockNumber', 'SubBlockNumber', 'FromParcelFinal', 'ToParcelFinal']] = Sequence97b[['BlockNumber', 'SubBlockNumber', 'FromParcelFinal', 'ToParcelFinal']].astype('Int64')\n",
    "Sequence97b['ParcelName'] = Sequence97b['ToParcelFinal'].astype(str) + '/' + Sequence97b['BlockNumber'].astype(str) + '/' + Sequence97b['SubBlockNumber'].astype(str)\n",
    "\n",
    "Sequence97b = Sequence97b[['RecordGUID', 'ParcelName']]\n",
    "Sequence97b = Sequence97b[Sequence97b['ParcelName'].isin(parcel_all['ParcelName'])]\n",
    "Sequence97b.rename(columns = {'RecordGUID' : 'UpdatedBy97b'}, inplace = True)\n",
    "\n",
    "del Records97b"
   ]
  },
  {
   "cell_type": "markdown",
   "id": "6779ff05-9bd8-46a7-a00f-e138044315fc",
   "metadata": {},
   "source": [
    "<h1 style=\"text-align:right;font-size:100%\">\n",
    "מיזוג נתוני חלקות שטויובו לטבלה אחת ומיזוג שלה אל טבלת חלקות"
   ]
  },
  {
   "cell_type": "code",
   "execution_count": null,
   "id": "d1b0b17f-9f24-4d3d-b4f1-b840de068c3f",
   "metadata": {
    "tags": []
   },
   "outputs": [],
   "source": [
    "UpdatedByRecord = pd.merge(left = SequenceTatag,\n",
    "                           right = Sequence97b,\n",
    "                           on = 'ParcelName',\n",
    "                           how = 'outer')\n",
    "\n",
    "UpdatedByRecord = UpdatedByRecord.groupby(by = 'ParcelName', as_index = False).last().sort_values('ParcelName')\n",
    "\n",
    "UpdatedByRecord['UpdatedByRecord'] = UpdatedByRecord['UpdatedByTatag'].fillna(UpdatedByRecord['UpdatedBy97b'])\n",
    "UpdatedByRecord = UpdatedByRecord[['ParcelName', 'UpdatedByRecord']]\n",
    "\n",
    "\n",
    "parcel_all = parcel_all.merge(UpdatedByRecord, on = 'ParcelName', how = 'left')\n",
    "\n",
    "del [SequenceTatag, Sequence97b, SequenceActions]"
   ]
  },
  {
   "cell_type": "markdown",
   "id": "5ff6b8fe-a744-472f-9351-de4ea96070bd",
   "metadata": {},
   "source": [
    "<h1 style=\"text-align:right;font-size:100%\">\n",
    "שינוי שם שדה למספר חלקה מלא"
   ]
  },
  {
   "cell_type": "code",
   "execution_count": null,
   "id": "61c3db88-dcf6-43f9-bdbd-1d648e096dab",
   "metadata": {
    "tags": []
   },
   "outputs": [],
   "source": [
    "parcel_all.rename(columns = {'ParcelName' : 'Name'}, inplace = True)"
   ]
  },
  {
   "cell_type": "markdown",
   "id": "44f1a19e-d582-455f-870b-f972a66cde83",
   "metadata": {},
   "source": [
    "<h1 style=\"text-align:right;font-size:100%\">\n",
    "קיבוץ חלקות לפי מספר חלקה (למקרה שנוצר כפל)"
   ]
  },
  {
   "cell_type": "code",
   "execution_count": null,
   "id": "02bef0e5-bfe4-480f-b649-1744409c7482",
   "metadata": {
    "tags": []
   },
   "outputs": [],
   "source": [
    "parcels2D = parcel_all.groupby('Name', as_index = False).first()\n",
    "parcels2D.set_crs(2039, inplace = True);\n",
    "\n",
    "del parcel_all"
   ]
  },
  {
   "cell_type": "markdown",
   "id": "3a689036-92f7-4f31-88de-19865b4c3d42",
   "metadata": {},
   "source": [
    "<h1 style=\"text-align:right;font-size:125%;\">\n",
    ":עיבוד נתוני חלקות טעות"
   ]
  },
  {
   "cell_type": "code",
   "execution_count": null,
   "id": "f9e1ae1c-1f7f-4e43-a631-cc9bf357b1fb",
   "metadata": {
    "tags": []
   },
   "outputs": [],
   "source": [
    "ErrorParcels = ErrorParcels[ErrorParcels['handle'] == 'לשמר'].drop(columns = 'handle')\n",
    "\n",
    "ErrorParcels[['TALAR_NUM', 'TALAR_YEAR']] = ErrorParcels[['TALAR_NUM', 'TALAR_YEAR']].fillna(0)\n",
    "ErrorParcels[['TALAR_NUM', 'TALAR_YEAR']] = ErrorParcels[['TALAR_NUM', 'TALAR_YEAR']].astype(int)\n",
    "ErrorParcels['ProcessName'] = ErrorParcels['TALAR_NUM'].astype(str) + '/' + ErrorParcels['TALAR_YEAR'].astype(str)\n",
    "ErrorParcels['ProcessName'] = ErrorParcels['ProcessName'].replace('0/0', None)\n",
    "\n",
    "ErrorParcels = ErrorParcels.merge(process_record[['ProcessName', 'RecordGUID', 'ProcessType']], on = 'ProcessName', how = 'left')\\\n",
    "                           .drop(columns = ['TALAR_NUM', 'TALAR_YEAR', 'ProcessName'])\\\n",
    "                           .rename(columns = {'RecordGUID':'CreatedByRecord', 'ProcessType':'CreateProcessType'})\n",
    "\n",
    "ErrorParcels['CreatedByRecord'] = ErrorParcels['CreatedByRecord'].fillna(CNFG.FabricatedCreateProcessGUID)\n",
    "ErrorParcels['CreateProcessType'] = ErrorParcels['CreateProcessType'].fillna(16)\n",
    "\n",
    "\n",
    "ErrorParcels = assign_BlockName(ErrorParcels, 'GUSH_NUM', 'GUSH_SUFFIX')\n",
    "\n",
    "ErrorParcels = ErrorParcels.merge(Blocks, left_on = 'BlockName', right_on = 'Name', how = 'left')\\\n",
    "                           .drop(columns = 'Name')\\\n",
    "                           .rename(columns = {'GlobalID':'BlockUniqueID', 'LEGAL_AREA':'StatedArea', 'PARCEL':'ParcelNumber'})\n",
    "\n",
    "del Blocks\n",
    "\n",
    "ErrorParcels['Name'] = ErrorParcels['ParcelNumber'].astype(str) + '/' + ErrorParcels['BlockName']\n",
    "ErrorParcels.drop(columns = 'BlockName', inplace=True)\n",
    "\n",
    "ErrorParcels['ParcelType'] = 3 #פיקטיבית\n",
    "ErrorParcels['LandType'] = 1 #מוסדר\n",
    "\n",
    "to_concat = ErrorParcels[~ErrorParcels['Name'].isin(parcels2D['Name'])]\n",
    "to_join = ErrorParcels[ErrorParcels['Name'].isin(parcels2D['Name'])]\n",
    "\n",
    "del ErrorParcels"
   ]
  },
  {
   "cell_type": "markdown",
   "id": "a76db227-eae9-43e7-a9a7-ea93b03f09b4",
   "metadata": {},
   "source": [
    "<h1 style=\"text-align:right;font-size:100%\">\n",
    "הוספת חלקות טעות והגדרת חלקות קיימות כחלקות טעות"
   ]
  },
  {
   "cell_type": "code",
   "execution_count": null,
   "id": "d01598e7-cbdd-429a-b4c6-874a537a7dab",
   "metadata": {
    "tags": []
   },
   "outputs": [],
   "source": [
    "to_join_cond = parcels2D['Name'].isin(to_join['Name'])\n",
    "\n",
    "parcels2D['ParcelType'] = np.where(to_join_cond, 3, parcels2D['ParcelType'])\n",
    "\n",
    "parcels2D = pd.concat([parcels2D, to_concat], ignore_index=True)\n",
    "\n",
    "del [to_concat, to_join]"
   ]
  },
  {
   "cell_type": "markdown",
   "id": "2f591827-13e4-430b-aea7-5af469f0a0ea",
   "metadata": {},
   "source": [
    "<h1 style=\"text-align:right;font-size:100%\">\n",
    "הגדרת שדה של יחידת שטח למטר מרובע"
   ]
  },
  {
   "cell_type": "code",
   "execution_count": null,
   "id": "f43d3155-89b8-4c77-b18f-0f8f19014412",
   "metadata": {
    "tags": []
   },
   "outputs": [],
   "source": [
    "parcels2D['StatedAreaUnit'] = 109404"
   ]
  },
  {
   "cell_type": "markdown",
   "id": "ea697953-ec03-43e8-a54e-beadebe1ef50",
   "metadata": {},
   "source": [
    "<h1 style=\"text-align:right;font-size:100%\">\n",
    "הגדרת שדה של מזהה רישום מבטל כריק"
   ]
  },
  {
   "cell_type": "code",
   "execution_count": null,
   "id": "57c87e80-407a-496b-bc55-9fe8f98e7b37",
   "metadata": {},
   "outputs": [],
   "source": [
    "parcels2D['RetiredByRecord'] = None"
   ]
  },
  {
   "cell_type": "markdown",
   "id": "077b457b-0bde-46e5-bed0-476b36863be7",
   "metadata": {},
   "source": [
    "<h1 style=\"text-align:right;font-size:100%\">\n",
    "הגדרת החלקות כחלקות שאינן שומא"
   ]
  },
  {
   "cell_type": "code",
   "execution_count": null,
   "id": "d85f95b0-eea0-4bea-9b36-ac1c33e2e90d",
   "metadata": {},
   "outputs": [],
   "source": [
    "parcels2D['IsTax'] = 0 #לא שומא"
   ]
  },
  {
   "cell_type": "markdown",
   "id": "61e08cc7-6207-4f13-9ffe-79ac569f4cc3",
   "metadata": {},
   "source": [
    "<h1 style=\"text-align:right;font-size:100%\">\n",
    "הגדרת שדות של מספרים שלמים כשדות מסוג מספרים שלמים"
   ]
  },
  {
   "cell_type": "code",
   "execution_count": null,
   "id": "ea1914e4-7baf-449f-ae79-9a7ec99050a3",
   "metadata": {
    "tags": []
   },
   "outputs": [],
   "source": [
    "ints = ['BlockNumber', 'SubBlockNumber', 'ParcelNumber', 'LandType', 'ParcelType', 'StatedAreaUnit', 'CreateProcessType', 'IsTax']\n",
    "parcels2D[ints] = parcels2D[ints].astype('Int64')"
   ]
  },
  {
   "cell_type": "markdown",
   "id": "2898df63-b6f0-4326-87c1-66f189f8ae6e",
   "metadata": {},
   "source": [
    "<h1 style=\"text-align:right; font-size:150%; color:#1c6ce6;\"> \n",
    "שמירת תוצאות 💾"
   ]
  },
  {
   "cell_type": "code",
   "execution_count": null,
   "id": "c78a49e3-7658-41bf-bf30-2a92e1cadbf3",
   "metadata": {},
   "outputs": [],
   "source": [
    "print('    Exporting results')"
   ]
  },
  {
   "cell_type": "code",
   "execution_count": null,
   "id": "8fb475c9-9d87-4f30-ad8e-4fdc4e16bc9c",
   "metadata": {},
   "outputs": [],
   "source": [
    "csv_dir = CNFG.CSVPath + 'Parcels2DList.csv'\n",
    "parcels2D[['ParcelNumber', 'BlockNumber', 'SubBlockNumber', 'Name']].to_csv(csv_dir, index = False)\n",
    "\n",
    "parcels2D.to_file(CNFG.Results, layer = 'Parcels2D', driver = 'OpenFileGDB', engine = 'pyogrio', mode = 'w')"
   ]
  }
 ],
 "metadata": {
  "kernelspec": {
   "display_name": "Python 3 (ipykernel)",
   "language": "python",
   "name": "python3"
  },
  "language_info": {
   "codemirror_mode": {
    "name": "ipython",
    "version": 3
   },
   "file_extension": ".py",
   "mimetype": "text/x-python",
   "name": "python",
   "nbconvert_exporter": "python",
   "pygments_lexer": "ipython3",
   "version": "3.11.3"
  }
 },
 "nbformat": 4,
 "nbformat_minor": 5
}
