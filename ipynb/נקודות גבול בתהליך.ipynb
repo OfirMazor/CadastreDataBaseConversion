{
 "cells": [
  {
   "cell_type": "markdown",
   "metadata": {
    "id": "DUN09mLPWCyQ"
   },
   "source": [
    "<h1 style=\"background-color:#1c6ce6;\n",
    "           font-family:segoe ui;\n",
    "                color:#FFF9ED;\n",
    "           font-size:300%;\n",
    "           text-align:center;\n",
    "           border-radius:10px 10px;\"> \n",
    "    🟣 תהליך יצירת נקודות גבול בתהליך לבנק\"ל מודרני 🟣\n",
    "    \n",
    "</h1>\n",
    "\n",
    "\n"
   ]
  },
  {
   "cell_type": "code",
   "execution_count": null,
   "metadata": {
    "id": "H3Hh6_YieoOB"
   },
   "outputs": [],
   "source": [
    "print('12. Parcel Border Points In-Process:')"
   ]
  },
  {
   "cell_type": "markdown",
   "metadata": {
    "id": "czwtSerkV4bm"
   },
   "source": [
    "<h1 style=\"text-align:right;\n",
    "           font-size:150%; color:#1c6ce6;\">\n",
    "ספריות"
   ]
  },
  {
   "cell_type": "code",
   "execution_count": 1,
   "metadata": {
    "colab": {
     "base_uri": "https://localhost:8080/"
    },
    "id": "--pniOvVcA3M",
    "outputId": "c894fcf3-69c8-4735-ce27-a1fb3cf156ba"
   },
   "outputs": [],
   "source": [
    "import warnings\n",
    "warnings.filterwarnings('ignore')\n",
    "\n",
    "import numpy as np\n",
    "import pandas as pd\n",
    "import geopandas as gpd\n",
    "import datetime as dt\n",
    "import subprocess"
   ]
  },
  {
   "cell_type": "markdown",
   "metadata": {
    "id": "IsfOEGNjWO3s"
   },
   "source": [
    "<h1 style=\"text-align:right;\n",
    "           font-size:150%; color:#1c6ce6;\">\n",
    "    קריאת נתונים  "
   ]
  },
  {
   "cell_type": "code",
   "execution_count": null,
   "metadata": {
    "id": "zNbkPWjYe_kK"
   },
   "outputs": [],
   "source": [
    "print('  12.a Reading inputs')"
   ]
  },
  {
   "cell_type": "code",
   "execution_count": 2,
   "metadata": {
    "id": "mbbDm6huOyl8"
   },
   "outputs": [],
   "source": [
    "RawData_folder = r\"\\\\mapi_shares\\MNCDB\\צוות מידע\\RawData\""
   ]
  },
  {
   "cell_type": "markdown",
   "metadata": {
    "id": "z4muO0GFWlmk"
   },
   "source": [
    "<h1 style=\"text-align:right;font-size:125%\">\n",
    "שכבת נקודת גבול בתהליך"
   ]
  },
  {
   "cell_type": "code",
   "execution_count": null,
   "metadata": {
    "id": "AWoz7oromfTJ"
   },
   "outputs": [],
   "source": [
    "points_inprocess_cols = ['POINT_NAME', 'ACCURACY', 'SOURCE_CODE', 'MARK_CODE', 'INSERTDATE', 'TALAR_NUM', 'ENTITY_STATE', 'geometry']\n",
    "points_inprocess = gpd.read_file(RawData_folder + '/CADSDE/Points_InProcess.gdb', layer = 'Points_InProcess', include_fields = points_inprocess_cols)\n",
    "\n",
    "print('         input 1/2 read')"
   ]
  },
  {
   "cell_type": "markdown",
   "metadata": {
    "id": "0ZKQQXrJWgzu"
   },
   "source": [
    "<h1 style=\"text-align:right;font-size:125%\">\n",
    "שכבת נקודת בקרה"
   ]
  },
  {
   "cell_type": "code",
   "execution_count": null,
   "metadata": {
    "id": "5-eJdTKPd7uh"
   },
   "outputs": [],
   "source": [
    "control_points = gpd.read_file(RawData_folder + '/CADSDE/CONTROL_POINTS.gdb', layer = 'CONTROL_POINTS', include_fields=['geometry'])\n",
    "\n",
    "print('         input 2/2 read')"
   ]
  },
  {
   "cell_type": "code",
   "execution_count": null,
   "metadata": {
    "id": "gb2iFjQ5Vt2E"
   },
   "outputs": [],
   "source": [
    "del [RawData_folder, points_inprocess_cols]"
   ]
  },
  {
   "cell_type": "markdown",
   "metadata": {
    "id": "h60plCVyXMQ5",
    "tags": []
   },
   "source": [
    "<h1 style=\"text-align:right; font-size:150%; color:#1c6ce6;\">\n",
    "    עיבוד נתוני נקודות בתהליך  "
   ]
  },
  {
   "cell_type": "markdown",
   "metadata": {
    "id": "h60plCVyXMQ5"
   },
   "source": [
    "<h1 style=\"text-align:right;font-size:100%\">\n",
    "הסרת נקודות שהגיעו מתצ\"ר פיקטיבי על ידי מספרי אליפסה לא תקינים\n",
    "<h1 style=\"text-align:right;font-size:100%\">\n",
    "הסרת שדה של מספר אליפסה כי אין בו עוד צורך\n",
    "<h1 style=\"text-align:right;font-size:100%\">\n",
    "תיקון ערכים של מעמד הנקודה לערכים 1 או 2"
   ]
  },
  {
   "cell_type": "code",
   "execution_count": null,
   "metadata": {
    "id": "CygRRrxHfPVR"
   },
   "outputs": [],
   "source": [
    "print('  12.b Cleaning data')"
   ]
  },
  {
   "cell_type": "code",
   "execution_count": null,
   "metadata": {
    "id": "Z36c0QC0_Of-"
   },
   "outputs": [],
   "source": [
    "points_inprocess = points_inprocess[points_inprocess['TALAR_NUM'] <= 4000]\n",
    "points_inprocess.drop(columns='TALAR_NUM', inplace=True)"
   ]
  },
  {
   "cell_type": "code",
   "execution_count": null,
   "metadata": {},
   "outputs": [],
   "source": [
    "points_inprocess['ENTITY_STATE'] = points_inprocess['ENTITY_STATE'] + 1\n",
    "points_inprocess['ENTITY_STATE'].replace(3, 1, inplace=True)\n",
    "points_inprocess.fillna(1, inplace=True)"
   ]
  },
  {
   "cell_type": "code",
   "execution_count": null,
   "metadata": {
    "id": "4IpdUtgGfV3r"
   },
   "outputs": [],
   "source": [
    "print('  12.c Data conversion')"
   ]
  },
  {
   "cell_type": "markdown",
   "metadata": {
    "id": "SQJVvlFsXiVL"
   },
   "source": [
    "<h1 style=\"text-align:right; font-size:150%; color:#1c6ce6;\"> \n",
    "    מציאת נקודות בקרה אשר משמשות גם כנקודות גבול בתהליך\n",
    "<h1 style=\"text-align:right;font-size:100%\">\n",
    "    הוספת שדה אינדיקציה לנקודת בקרה עם ערך 1\n",
    "<h1 style=\"text-align:right;font-size:100%\">\n",
    "    איחוד מרחבי"
   ]
  },
  {
   "cell_type": "code",
   "execution_count": null,
   "metadata": {},
   "outputs": [],
   "source": [
    "control_points['IsControlBorder'] = 1\n",
    "\n",
    "points_inprocess = gpd.sjoin(left_df = points_inprocess, right_df = control_points,\n",
    "                             how = 'left',\n",
    "                             predicate = 'intersects')"
   ]
  },
  {
   "cell_type": "markdown",
   "metadata": {
    "id": "f0I1NirdYHJx"
   },
   "source": [
    "<h1 style=\"text-align:right; font-size:150%; color:#1c6ce6;\"> \n",
    "    מיפוי חדש לערכי סיווג הנקודה\n",
    "<h1 style=\"text-align:right;font-size:100%\">\n",
    "מילוי ערכים חסרים ב-0\n",
    "<h1 style=\"text-align:right;font-size:100%\">\n",
    "    הגדרת השדה הקיים לשדה מסוג מספרי שלם\n",
    "<h1 style=\"text-align:right;font-size:100%\">\n",
    "הגדרת מילון החלפת ערכים בהתאם לאפיון"
   ]
  },
  {
   "cell_type": "code",
   "execution_count": null,
   "metadata": {
    "id": "COUlwC1BJzIz"
   },
   "outputs": [],
   "source": [
    "points_inprocess['ACCURACY'] = points_inprocess['ACCURACY'].fillna(0)\n",
    "points_inprocess['ACCURACY'] = points_inprocess['ACCURACY'].astype(int)\n",
    "\n",
    "class_clf = {0    : 24,\n",
    "             1    : 1,\n",
    "             2    : 12,\n",
    "             3    : 13,\n",
    "             4    : 13,\n",
    "             5    : 13,\n",
    "             6    : 24,\n",
    "             7    : 24,\n",
    "             8    : 24,\n",
    "             9    : 24,\n",
    "             12   : 12,\n",
    "             13   : 13,\n",
    "             24   : 24,\n",
    "             None : 24}"
   ]
  },
  {
   "cell_type": "markdown",
   "metadata": {
    "id": "1foRluo3Z55p"
   },
   "source": [
    "<h1 style=\"text-align:right; font-size:150%; color:#1c6ce6;\"> \n",
    "    מיפוי חדש לערכי מקור הנקודה\n",
    "<h1 style=\"text-align:right;font-size:100%\">\n",
    "מילוי ערכים חסרים ב-0\n",
    "<h1 style=\"text-align:right;font-size:100%\">\n",
    "הגדרת השדה הקיים לשדה מסוג מספרי שלם\n",
    "<h1 style=\"text-align:right;font-size:100%\">\n",
    "הגדרת מילון החלפת ערכים בהתאם לאפיון"
   ]
  },
  {
   "cell_type": "code",
   "execution_count": null,
   "metadata": {
    "colab": {
     "base_uri": "https://localhost:8080/"
    },
    "id": "VY0tYIwgO7QE",
    "outputId": "cc27281e-4bc7-4a93-c81f-49d67de0354e"
   },
   "outputs": [],
   "source": [
    "points_inprocess['SOURCE_CODE'] = points_inprocess['SOURCE_CODE'].fillna(0)\n",
    "points_inprocess['SOURCE_CODE'] = points_inprocess['SOURCE_CODE'].astype(int)\n",
    "\n",
    "source_clf = {0 : 0,\n",
    "              1 : 0,\n",
    "              2 : 0,\n",
    "              3 : 0,\n",
    "              4 : 0,\n",
    "              5 : 5,\n",
    "              6 : 5,\n",
    "              7 : 5,\n",
    "              8 : 8,\n",
    "              9 : 9,\n",
    "              10 : 10,\n",
    "              11 : 11,\n",
    "              12 : 11,\n",
    "              13 : 13,\n",
    "              14 : 14,\n",
    "              15 : 14,\n",
    "              16 : 16,\n",
    "              17 : 17,\n",
    "              18 : 18,\n",
    "              None : 0\n",
    "              }"
   ]
  },
  {
   "cell_type": "markdown",
   "metadata": {
    "id": "TsiZOI1YZ-y3"
   },
   "source": [
    "<h1 style=\"text-align:right; font-size:150%; color:#1c6ce6;\"> \n",
    "    מיפוי חדש לערכי סימון הנקודה\n",
    "<h1 style=\"text-align:right;font-size:100%\">\n",
    "מילוי ערכים חסרים ב-0\n",
    "<h1 style=\"text-align:right;font-size:100%\">\n",
    "הגדרת השדה הקיים לשדה מסוג מספרי שלם\n",
    "<h1 style=\"text-align:right;font-size:100%\">\n",
    "הגדרת מילון החלפת ערכים בהתאם לאפיון"
   ]
  },
  {
   "cell_type": "code",
   "execution_count": null,
   "metadata": {
    "id": "3ic11s1aXvNU"
   },
   "outputs": [],
   "source": [
    "points_inprocess['MARK_CODE'] = points_inprocess['MARK_CODE'].fillna(0)\n",
    "points_inprocess['MARK_CODE'] = points_inprocess['MARK_CODE'].astype(int)\n",
    "\n",
    "mark_clf = {0    : 0,\n",
    "            1    : 1,\n",
    "            2    : 2,\n",
    "            3    : 3,\n",
    "            4    : 4,\n",
    "            5    : 5,\n",
    "            6    : 6,\n",
    "            7    : 7,\n",
    "            8    : 8,\n",
    "            9    : 9,\n",
    "            10   : 10,\n",
    "            11   : 11,\n",
    "            12   : 12,\n",
    "            13   : 13,\n",
    "            14   : 14,\n",
    "            15   : 0,\n",
    "            16   : 0,\n",
    "            20   : 20,\n",
    "            None : 0}"
   ]
  },
  {
   "cell_type": "markdown",
   "metadata": {
    "id": "vxwk4LFiaFqZ"
   },
   "source": [
    "<h1 style=\"text-align:right; font-size:150%; color:#1c6ce6;\"> \n",
    "    מיפוי חדש לערכי רשת קואורדינטות של הנקודה\n",
    "<h1 style=\"text-align:right;font-size:100%\">\n",
    "מילוי ערכים חסרים בתאריך ראשוני\n",
    "<h1 style=\"text-align:right;font-size:100%\">\n",
    "הגדרת השדה הקיים לשדה מסוג תאריך\n",
    "<h1 style=\"text-align:right;font-size:100%\">\n",
    "יצירת שדה חדש ששומר את השנה בלבד\n",
    "<h1 style=\"text-align:right;font-size:100%\">\n",
    "מחיקת השדה הקודם\n",
    "<h1 style=\"text-align:right;font-size:100%\">\n",
    "הגדרת מילון החלפת ערכים בהתאם לאפיון"
   ]
  },
  {
   "cell_type": "code",
   "execution_count": null,
   "metadata": {
    "id": "eV-xxXCXgu-e"
   },
   "outputs": [],
   "source": [
    "points_inprocess['INSERTDATE'].fillna('01/01/1994', inplace=True)\n",
    "points_inprocess['INSERTDATE'] = pd.to_datetime(points_inprocess['INSERTDATE'], utc=True)\n",
    "points_inprocess['geoYear'] = points_inprocess['INSERTDATE'].dt.year\n",
    "points_inprocess.drop(columns='INSERTDATE', inplace=True)\n",
    "\n",
    "geodetic_clf = {range(0, 1994)    : 0,\n",
    "                range(1994, 1999) : 1,\n",
    "                range(1999, 2009) : 2,\n",
    "                range(2009, 9999) : 3}"
   ]
  },
  {
   "cell_type": "markdown",
   "metadata": {
    "id": "DTQMHCD6dRwR"
   },
   "source": [
    "<h1 style=\"text-align:right; font-size:150%; color:#1c6ce6;\"> \n",
    "   יצירת שכבה חדשה בהתאם לאפיון\n",
    "<h1 style=\"text-align:right;font-size:100%\">\n",
    "יצירת טבלה ריקה עם שדות חדשים וסוגיהם\n",
    "<h1 style=\"text-align:right;font-size:100%\">\n",
    "איכלס שדות\n",
    "מחיקת שכבת נקודות גבול בתהליך קודמת לניקוי זיכרון\n",
    "<h1 style=\"text-align:right;font-size:100%\">\n",
    "וידוא שהשכבה החדשה מוגדרת ברשת קואורדינטות של ישראל התקפה: 2039 "
   ]
  },
  {
   "cell_type": "code",
   "execution_count": null,
   "metadata": {
    "id": "I8U1H2fBfiSb"
   },
   "outputs": [],
   "source": [
    "print('  12.d Defining new Layer')"
   ]
  },
  {
   "cell_type": "code",
   "execution_count": null,
   "metadata": {
    "id": "zioAN5--K0mT"
   },
   "outputs": [],
   "source": [
    "new_columns = np.dtype([\n",
    "                        (\"PointUniqueID\", int),\n",
    "                        (\"PointName\", str),\n",
    "                        (\"IsControlBorder\", int),\n",
    "                        (\"Class\", int), \n",
    "                        (\"SourceCode\", int),\n",
    "                        (\"MarkCode\", int),\n",
    "                        (\"GeodeticNetwork\", int),\n",
    "                        (\"Is3D\", int),\n",
    "                        (\"Connected3DParcelsIds\", int),\n",
    "                        (\"PointStatus\", int),\n",
    "                        (\"geometry\", gpd.array.GeometryDtype)\n",
    "                        ])\n",
    "\n",
    "BorderPoints_InProcess = gpd.GeoDataFrame(np.empty(0, dtype=new_columns),\n",
    "                                          geometry = 'geometry',\n",
    "                                          crs = 2039)"
   ]
  },
  {
   "cell_type": "code",
   "execution_count": null,
   "metadata": {
    "id": "7LD69b3bPJMs"
   },
   "outputs": [],
   "source": [
    "BorderPoints_InProcess['PointUniqueID'] = np.arange(1, len(points_inprocess))\n",
    "BorderPoints_InProcess['PointUniqueID'] = BorderPoints_InProcess['PointUniqueID'].astype(int)\n",
    "\n",
    "BorderPoints_InProcess['PointName'] = points_inprocess['POINT_NAME']\n",
    "\n",
    "BorderPoints_InProcess['IsControlBorder'] = points_inprocess['IsControlBorder']\n",
    "BorderPoints_InProcess['IsControlBorder'] = BorderPoints_InProcess['IsControlBorder'].fillna(0)\n",
    "BorderPoints_InProcess['IsControlBorder'] = BorderPoints_InProcess['IsControlBorder'].astype('Int64')\n",
    "\n",
    "BorderPoints_InProcess['Class'] = points_inprocess['ACCURACY'].map(class_clf)\n",
    "BorderPoints_InProcess['Class'] = BorderPoints_InProcess['Class'].fillna(24)\n",
    "BorderPoints_InProcess['Class'] = BorderPoints_InProcess['Class'].astype('Int64')\n",
    "\n",
    "BorderPoints_InProcess['SourceCode'] = points_inprocess['SOURCE_CODE'].map(source_clf)\n",
    "BorderPoints_InProcess['SourceCode'] = BorderPoints_InProcess['SourceCode'].fillna(0)\n",
    "BorderPoints_InProcess['SourceCode'] = BorderPoints_InProcess['SourceCode'].astype('Int64')\n",
    "\n",
    "BorderPoints_InProcess['MarkCode'] = points_inprocess['MARK_CODE'].map(mark_clf)\n",
    "BorderPoints_InProcess['MarkCode'] = BorderPoints_InProcess['MarkCode'].fillna(0)\n",
    "BorderPoints_InProcess['MarkCode'] = points_inprocess['MARK_CODE'].astype('Int64')\n",
    "\n",
    "BorderPoints_InProcess['GeodeticNetwork'] = points_inprocess['geoYear'].apply(lambda x: next((v for k, v in geodetic_clf.items() if x in k), 0))\n",
    "BorderPoints_InProcess['GeodeticNetwork'] = BorderPoints_InProcess['GeodeticNetwork'].fillna(0)\n",
    "BorderPoints_InProcess['GeodeticNetwork'] =BorderPoints_InProcess['GeodeticNetwork'].astype('Int64')\n",
    "\n",
    "BorderPoints_InProcess['Is3D'] = 0\n",
    "BorderPoints_InProcess['Is3D'] = BorderPoints_InProcess['Is3D'].astype('Int64')\n",
    "\n",
    "BorderPoints_InProcess['Connected3DParcelsIds'] = np.nan\n",
    "\n",
    "BorderPoints_InProcess['PointStatus'] = points_inprocess['ENTITY_STATE']\n",
    "BorderPoints_InProcess['PointStatus'] = BorderPoints_InProcess['PointStatus'].astype('Int64')\n",
    "\n",
    "BorderPoints_InProcess['geometry'] = points_inprocess['geometry']\n",
    "\n",
    "\n",
    "del points_inprocess"
   ]
  },
  {
   "cell_type": "code",
   "execution_count": null,
   "metadata": {
    "id": "b2nFu5IPiOMk"
   },
   "outputs": [],
   "source": [
    "BorderPoints_InProcess.set_geometry('geometry', crs=2039, inplace=True)"
   ]
  },
  {
   "cell_type": "markdown",
   "metadata": {
    "id": "yiS_NEsPeH-j"
   },
   "source": [
    "<h1 style=\"text-align:right; font-size:150%; color:#1c6ce6;\"> \n",
    "שמירת תוצאות\n",
    "<h1 style=\"text-align:right;font-size:100%\">\n",
    "בחירת נתיב\n",
    "<h1 style=\"text-align:right;font-size:100%\">\n",
    "שמירה כטבלה       \n",
    "<h1 style=\"text-align:right;font-size:100%\">\n",
    "שמירה כשכבה גיאוגרפית"
   ]
  },
  {
   "cell_type": "code",
   "execution_count": null,
   "metadata": {
    "id": "O4E6QE8Dfoxp"
   },
   "outputs": [],
   "source": [
    "print('  12.e Exporting results to product folder')"
   ]
  },
  {
   "cell_type": "code",
   "execution_count": null,
   "metadata": {
    "id": "qyADbmlgiA2R"
   },
   "outputs": [],
   "source": [
    "#csv_dir = r'\\\\mapi_shares\\MNCDB\\צוות מידע\\תוצרים\\csv\\BorderPointsInProcess.csv'\n",
    "json_dir = r'\\\\mapi_shares\\MNCDB\\צוות מידע\\תוצרים\\json\\BorderPointsInProcess.geojson'\n",
    "\n",
    "\n",
    "#BorderPoints_InProcess.drop(columns='geometry').to_csv(csv_dir ,encoding='utf8', index=False)\n",
    "BorderPoints_InProcess.to_file(json_dir, driver = 'GeoJSON')"
   ]
  },
  {
   "cell_type": "code",
   "execution_count": null,
   "metadata": {},
   "outputs": [],
   "source": [
    "subprocess.call([r\"M:\\ncdbScripts\\scripts\\arcpyPro\\BorderPoints_InProcess-Save as Feature Class.bat\"])"
   ]
  }
 ],
 "metadata": {
  "colab": {
   "collapsed_sections": [],
   "name": "Points In-Process.ipynb",
   "provenance": []
  },
  "kernelspec": {
   "display_name": "Python 3",
   "language": "python",
   "name": "python3"
  },
  "language_info": {
   "codemirror_mode": {
    "name": "ipython",
    "version": 3
   },
   "file_extension": ".py",
   "mimetype": "text/x-python",
   "name": "python",
   "nbconvert_exporter": "python",
   "pygments_lexer": "ipython3",
   "version": "3.9.4"
  }
 },
 "nbformat": 4,
 "nbformat_minor": 4
}
