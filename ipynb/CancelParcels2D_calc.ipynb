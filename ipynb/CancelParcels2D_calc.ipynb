{
 "cells": [
  {
   "cell_type": "markdown",
   "id": "8e75b312-7b0d-449c-bebb-037f0e646bc2",
   "metadata": {},
   "source": [
    "<h1 style=\"background-color:red;\n",
    "           font-family:segoe ui;\n",
    "                color:#FFF9ED;\n",
    "           font-size:300%;\n",
    "           text-align:center;\n",
    "           border-radius:10px 10px;\"> \n",
    "    🌐 תהליך הסבת שכבת חלקות (דו מימדיות) מבוטלות לבנק\"ל מודרני 🌐"
   ]
  },
  {
   "cell_type": "code",
   "execution_count": null,
   "id": "9a966ebe-33c4-45ec-93be-805af3f7141d",
   "metadata": {},
   "outputs": [],
   "source": [
    "print('15. Canceled parcels borders:')"
   ]
  },
  {
   "cell_type": "markdown",
   "id": "32c3b687-e99e-4d22-b392-9eebba5829f9",
   "metadata": {},
   "source": [
    "<h1 style=\"text-align:right; font-size:150%; color:#1c6ce6;\">\n",
    "ספריות 📚"
   ]
  },
  {
   "cell_type": "code",
   "execution_count": null,
   "id": "ae57e106-8bec-448a-a448-a01640a9f244",
   "metadata": {
    "tags": [
     "Libraries"
    ]
   },
   "outputs": [],
   "source": [
    "import warnings\n",
    "warnings.filterwarnings('ignore')\n",
    "\n",
    "import numpy as np\n",
    "import pandas as pd\n",
    "import geopandas as gpd\n",
    "import datetime as dt\n",
    "import subprocess"
   ]
  },
  {
   "cell_type": "markdown",
   "id": "41b7f28c-b1e8-4922-952c-42b7a3f4765c",
   "metadata": {},
   "source": [
    "<h1 style=\"text-align:right; font-size:150%; color:#1c6ce6;\">קריאת נתונים 📑 "
   ]
  },
  {
   "cell_type": "code",
   "execution_count": null,
   "id": "99459f96-669a-4958-b713-9d9f364d0c50",
   "metadata": {},
   "outputs": [],
   "source": [
    "print('  15.a Reading inputs')"
   ]
  },
  {
   "cell_type": "code",
   "execution_count": null,
   "id": "a0a72451-6a81-497a-bb10-3388e8f9cbb4",
   "metadata": {},
   "outputs": [],
   "source": [
    "RawData_Folder = r'\\\\mapi_shares\\MNCDB\\צוות מידע\\RawData/'\n",
    "\n",
    "today =  dt.date.today()\n",
    "product_name =  str(today.year) + str(today.month) + str(today.day)  + '_ncdb.gdb'\n",
    "product_path = r'\\\\mapi_shares\\MNCDB\\צוות מידע\\תוצרים/' + product_name\n",
    "del [today, product_name]"
   ]
  },
  {
   "cell_type": "markdown",
   "id": "482778ba-ad65-4b17-a3a1-26191b8ac1f4",
   "metadata": {},
   "source": [
    "<h1 style=\"text-align:right;font-size:125%\">\n",
    "נתוני שכבת חלקות היסטוריות"
   ]
  },
  {
   "cell_type": "code",
   "execution_count": null,
   "id": "cf582686-700f-4ec9-aeba-a1dd0d784850",
   "metadata": {},
   "outputs": [],
   "source": [
    "history_parcels_cols = ['GUSH_NUM', 'GUSH_SUFFIX', 'PARCEL', 'PARCEL_TYPE', 'LEGAL_AREA', 'TALAR_NUM', 'TALAR_YEAR', 'geometry']\n",
    "\n",
    "history_parcels = gpd.read_file(RawData_Folder + 'CADSDE\\PARCEL_HISTORY_HASAVA.gdb',\n",
    "                                layer = 'PARCEL_HISTORY_HASAVA',\n",
    "                                include_fields = history_parcels_cols)\n",
    "del history_parcels_cols\n",
    "\n",
    "print('         input 1/7 read')"
   ]
  },
  {
   "cell_type": "markdown",
   "id": "dd6a05a6-5dd6-4ce6-a0b8-3718d041066f",
   "metadata": {},
   "source": [
    "<h1 style=\"text-align:right;font-size:125%\">\n",
    "טבלת חלקות מבוטלות"
   ]
  },
  {
   "cell_type": "code",
   "execution_count": null,
   "id": "12bed885-a980-4236-838b-7167bfcdc74e",
   "metadata": {},
   "outputs": [],
   "source": [
    "cancel_parcel_cols = ['F_GUSH_NUM', 'F_GUSH_SUFFIX', 'F_PARCEL_NUM', 'TALAR_NUMBER', 'TALAR_YEAR']\n",
    "\n",
    "cancel_parcel = pd.read_csv(RawData_Folder + 'Oracle\\CANCEL_PARCEL.csv', usecols = cancel_parcel_cols)\n",
    "del cancel_parcel_cols\n",
    "\n",
    "print('         input 2/7 read')"
   ]
  },
  {
   "cell_type": "markdown",
   "id": "3bcfc8db-28d0-463f-aede-63769c8169e6",
   "metadata": {},
   "source": [
    "<h1 style=\"text-align:right;font-size:125%\">\n",
    "שכבת חלקות מבוטלות מרפליקציות יומיות"
   ]
  },
  {
   "cell_type": "code",
   "execution_count": null,
   "id": "5b6c0cef-1551-4a02-9244-b26506eaefe1",
   "metadata": {},
   "outputs": [],
   "source": [
    "replicated_parcels_cols = ['PARCEL_ID', 'PARCEL', 'GUSH_NUM', 'GUSH_SUFFIX', 'LEGALAREA', 'TALAR_NUMBER', 'TALAR_YEAR', 'geometry']\n",
    "\n",
    "replicated_parcels = gpd.read_file(RawData_Folder + 'Local\\CanceldParcels.gdb',\n",
    "                                   layer = 'CanceledParcels',\n",
    "                                   include_fields = replicated_parcels_cols)\n",
    "del replicated_parcels_cols\n",
    "\n",
    "\n",
    "print('         input 3/7 read')"
   ]
  },
  {
   "cell_type": "markdown",
   "id": "8f53a3de-b520-4e00-9c3b-3fc13ea91f0f",
   "metadata": {},
   "source": [
    "<h1 style=\"text-align:right;font-size:125%\">\n",
    "נתוני גושים מודרניים "
   ]
  },
  {
   "cell_type": "code",
   "execution_count": null,
   "id": "9908b8a9-b402-4e7c-9034-3db6893681cd",
   "metadata": {},
   "outputs": [],
   "source": [
    "blocks_cols = ['BlockUniqueID', 'BlockNumber', 'SubBlockNumber']\n",
    "\n",
    "blocks = gpd.read_file(product_path, layer = 'Blocks', include_fields = blocks_cols, ignore_geometry = True)\n",
    "del blocks_cols\n",
    "\n",
    "print('         input 5/7 read')"
   ]
  },
  {
   "cell_type": "markdown",
   "id": "f15c1a6a-6428-4032-862c-3cb984165eba",
   "metadata": {},
   "source": [
    "<h1 style=\"text-align:right;font-size:125%\">\n",
    "(פיצול לתהליכים יוצרים ותהליכים מעדכנים) נתוני שכבת גבולות תהליכי קדסטר"
   ]
  },
  {
   "cell_type": "code",
   "execution_count": null,
   "id": "4de325fe-7372-4d17-8d0c-7aa80d78b3b9",
   "metadata": {},
   "outputs": [],
   "source": [
    "cpb_cols = ['CPBUniqueID', 'ProcessName', 'ProcessType']\n",
    "\n",
    "cpb_layer = gpd.read_file(product_path, layer = 'CadasterProcessBorders', include_fields = cpb_cols, ignore_geometry = True)\n",
    "\n",
    "\n",
    "createprocess_layer = cpb_layer[cpb_layer['ProcessType'].isin([1,3,9])] #תצ\"ר, פס\"ד והסדר\n",
    "del [cpb_cols, cpb_layer]\n",
    "\n",
    "\n",
    "print('         input 6/7 read')"
   ]
  },
  {
   "cell_type": "markdown",
   "id": "c6c4cccd-f214-4325-bea4-02ca736d63fc",
   "metadata": {},
   "source": [
    "<h1 style=\"text-align:right;font-size:125%\">\n",
    "שכבת חלקות דו-ממדיות מודרנית"
   ]
  },
  {
   "cell_type": "code",
   "execution_count": null,
   "id": "0ca05f94-dfb1-4226-ab0e-4936b6f029e1",
   "metadata": {},
   "outputs": [],
   "source": [
    "Parcels2D_cols = ['ParcelNumber', 'BlockUniqueID']\n",
    "\n",
    "Parcels2D_layer = gpd.read_file(product_path, layer = 'Parcels2D', include_fields = Parcels2D_cols, ignore_geometry = True)\n",
    "\n",
    "del Parcels2D_cols\n",
    "\n",
    "print('         input 7/7 read')"
   ]
  },
  {
   "cell_type": "markdown",
   "id": "13c7c196-b6f5-4a40-96e8-a3086f282fc2",
   "metadata": {},
   "source": [
    "<h1 style=\"text-align:right; font-size:150%; color:#1c6ce6;\">\n",
    "עיבוד נתונים 🛠️"
   ]
  },
  {
   "cell_type": "code",
   "execution_count": null,
   "id": "b5c26930-bb0d-41bd-b73f-33f32a6f3682",
   "metadata": {},
   "outputs": [],
   "source": [
    "print('  15.b Cleaning data')"
   ]
  },
  {
   "cell_type": "markdown",
   "id": "04c700d6-1f1d-4d2d-88d6-ec169288ac7f",
   "metadata": {},
   "source": [
    "<h1 style=\"text-align:right;font-size:125%;\">\n",
    ":עיבוד נתוני שכבת חלקות היסטוריות"
   ]
  },
  {
   "cell_type": "markdown",
   "id": "46b7091e-bbcc-406b-b79f-d1cc6a2d399f",
   "metadata": {},
   "source": [
    "<h1 style=\"text-align:right;font-size:100%\">\n",
    "יצירת שדה של שם תכנית מלא לצורך מיזוג\n",
    "<h1 style=\"text-align:right;font-size:100%\">\n",
    "מיזוג עם שכבת גבולות תהליכי קדסטר יוצרים"
   ]
  },
  {
   "cell_type": "code",
   "execution_count": null,
   "id": "96b10fbe-becc-4b28-8684-b89231304d7a",
   "metadata": {},
   "outputs": [],
   "source": [
    "history_parcels[['TALAR_NUM','TALAR_YEAR']] = history_parcels[['TALAR_NUM','TALAR_YEAR']].fillna(0)\n",
    "history_parcels[['TALAR_NUM','TALAR_YEAR']] = history_parcels[['TALAR_NUM','TALAR_YEAR']].astype(int)\n",
    "history_parcels['ProcessName'] = history_parcels['TALAR_NUM'].astype(str) + '/' + history_parcels['TALAR_YEAR'].astype(str)\n",
    "history_parcels.drop(columns =['TALAR_NUM','TALAR_YEAR'], inplace=True)\n",
    "\n",
    "history_parcels = history_parcels.merge(right = createprocess_layer,\n",
    "                                        on = 'ProcessName',\n",
    "                                        how ='left')\n",
    "\n",
    "history_parcels['CPBUniqueID'] = history_parcels['CPBUniqueID'].astype('Int64')"
   ]
  },
  {
   "cell_type": "markdown",
   "id": "31a6871a-a659-45c7-b90e-dc2669dac930",
   "metadata": {},
   "source": [
    "<h1 style=\"text-align:right;font-size:100%\">\n",
    "הסרת רשומות כפולות"
   ]
  },
  {
   "cell_type": "code",
   "execution_count": null,
   "id": "ddd469ee-35b4-45ac-8dc9-4af5d6a40ef2",
   "metadata": {},
   "outputs": [],
   "source": [
    "history_parcels.drop_duplicates(keep='first', inplace=True)"
   ]
  },
  {
   "cell_type": "markdown",
   "id": "7257d213-47ba-48a8-98ff-651c538de595",
   "metadata": {},
   "source": [
    "<h1 style=\"text-align:right;font-size:100%\">\n",
    "יצירת שדה של מספר גוש מלא לצורך מיזוג\n",
    "<h1 style=\"text-align:right;font-size:100%\">\n",
    "מיזוג עם שכבת גושי קדסטר מודרנית"
   ]
  },
  {
   "cell_type": "code",
   "execution_count": null,
   "id": "46520f35-3c18-49e6-b467-39fb00aaef34",
   "metadata": {},
   "outputs": [],
   "source": [
    "blocks['BlockName'] = blocks['BlockNumber'].astype(str) + '_' + blocks['SubBlockNumber'].astype(str)\n",
    "history_parcels['BlockName'] = history_parcels['GUSH_NUM'].astype(str) + '_' + history_parcels['GUSH_SUFFIX'].astype(str)\n",
    "\n",
    "history_parcels['BlockUniqueID'] = history_parcels.merge(right = blocks[['BlockUniqueID', 'BlockName']],\n",
    "                                                         on = 'BlockName',\n",
    "                                                         how = 'left')['BlockUniqueID']\n",
    "\n",
    "history_parcels.drop(columns=['GUSH_NUM', 'GUSH_SUFFIX', 'BlockName', 'ProcessName'], inplace=True)\n",
    "history_parcels['BlockUniqueID'] = history_parcels['BlockUniqueID'].astype('Int64')"
   ]
  },
  {
   "cell_type": "markdown",
   "id": "879ba3ae-3490-497f-ad81-327bbf3af9b4",
   "metadata": {},
   "source": [
    "<h1 style=\"text-align:right;font-size:100%\">\n",
    "שינוי שמות של שדות קיימים לשדות חדשים"
   ]
  },
  {
   "cell_type": "code",
   "execution_count": null,
   "id": "1218d843-4ee9-4632-90af-1a96fed87856",
   "metadata": {},
   "outputs": [],
   "source": [
    "history_parcels.rename(columns = {'CPBUniqueID' : 'CPBUniqueCancelProcessID',\n",
    "                                  'ProcessType' : 'CancelProcessType',\n",
    "                                  'PARCEL_TYPE' : 'ParcelType',\n",
    "                                  'PARCEL'      : 'ParcelNumber',\n",
    "                                  'LEGAL_AREA'  : 'LegalArea'},\n",
    "                       inplace = True)"
   ]
  },
  {
   "cell_type": "markdown",
   "id": "bbe1d9b5-5927-4c2c-95cb-c367e78a8247",
   "metadata": {},
   "source": [
    "<h1 style=\"text-align:right;font-size:125%;\">\n",
    ":עיבוד נתוני טבלת חלקות מבוטלות"
   ]
  },
  {
   "cell_type": "markdown",
   "id": "33103eae-c07e-4aba-9c7e-558bf5e5fd48",
   "metadata": {},
   "source": [
    "<h1 style=\"text-align:right;font-size:100%\">\n",
    "יצירת שדה של שם תכנית מלא לצורך מיזוג\n",
    "<h1 style=\"text-align:right;font-size:100%\">\n",
    "מיזוג עם שכבת גבולות תהליכי קדסטר יוצרים\n",
    "<h1 style=\"text-align:right;font-size:100%\">\n",
    "שינוי שמות של שדות קיימים לשדות חדשים"
   ]
  },
  {
   "cell_type": "code",
   "execution_count": null,
   "id": "44a8c430-a2c8-4a1a-89d3-12f76c2b4425",
   "metadata": {},
   "outputs": [],
   "source": [
    "cancel_parcel[['TALAR_NUMBER','TALAR_YEAR']] = cancel_parcel[['TALAR_NUMBER','TALAR_YEAR']].fillna(0)\n",
    "cancel_parcel[['TALAR_NUMBER','TALAR_YEAR']] = cancel_parcel[['TALAR_NUMBER','TALAR_YEAR']].astype(int)\n",
    "cancel_parcel['ProcessName'] = cancel_parcel['TALAR_NUMBER'].astype(str) + '/' + cancel_parcel['TALAR_YEAR'].astype(str)\n",
    "cancel_parcel.drop(columns =['TALAR_NUMBER','TALAR_YEAR'], inplace = True)\n",
    "\n",
    "cancel_parcel = cancel_parcel.merge(right = createprocess_layer,\n",
    "                                    on = 'ProcessName',\n",
    "                                    how = 'left')\n",
    "\n",
    "cancel_parcel['CPBUniqueID'] = cancel_parcel['CPBUniqueID'].astype('Int64')\n",
    "\n",
    "cancel_parcel.rename(columns = {'CPBUniqueID'  : 'CPBUniqueCancelProcessID',\n",
    "                                'ProcessType'  : 'CancelProcessType',\n",
    "                                'F_PARCEL_NUM' : 'ParcelNumber'},\n",
    "                     inplace = True)"
   ]
  },
  {
   "cell_type": "markdown",
   "id": "65e3d5d0-acfc-4234-ab35-a9bbb21b266a",
   "metadata": {},
   "source": [
    "<h1 style=\"text-align:right;font-size:100%\">\n",
    "הסרת רשומות כפולות\n",
    "<h1 style=\"text-align:right;font-size:100%\">\n",
    "הסרת מספרי חלקות לא תקינים"
   ]
  },
  {
   "cell_type": "code",
   "execution_count": null,
   "id": "0ce1c61f-6c2e-4874-926b-4fd8e0899bc6",
   "metadata": {},
   "outputs": [],
   "source": [
    "cancel_parcel.drop_duplicates(keep = 'first', inplace = True)\n",
    "cancel_parcel = cancel_parcel[~cancel_parcel['ParcelNumber'].isin([0, 9999])]"
   ]
  },
  {
   "cell_type": "markdown",
   "id": "ebb2c232-c25d-4442-bf7f-d3b6b9bcb4cc",
   "metadata": {},
   "source": [
    "<h1 style=\"text-align:right;font-size:100%\">\n",
    "יצירת שדה של מספר גוש מלא לצורך מיזוג\n",
    "<h1 style=\"text-align:right;font-size:100%\">\n",
    "מיזוג עם שכבת גושי קדסטר מודרנית"
   ]
  },
  {
   "cell_type": "code",
   "execution_count": null,
   "id": "a0450cd1-a1cf-4bf9-9d9b-bb4785dfa427",
   "metadata": {},
   "outputs": [],
   "source": [
    "cancel_parcel[['F_GUSH_NUM', 'F_GUSH_SUFFIX']] = cancel_parcel[['F_GUSH_NUM', 'F_GUSH_SUFFIX']].fillna(0)\n",
    "cancel_parcel[['F_GUSH_NUM', 'F_GUSH_SUFFIX']] = cancel_parcel[['F_GUSH_NUM', 'F_GUSH_SUFFIX']].astype(int)\n",
    "cancel_parcel['BlockName'] = cancel_parcel['F_GUSH_NUM'].astype(str) + '_' + cancel_parcel['F_GUSH_SUFFIX'].astype(str)\n",
    "\n",
    "cancel_parcel = cancel_parcel.merge(right = blocks[['BlockUniqueID', 'BlockName']],\n",
    "                                                     on = 'BlockName',\n",
    "                                                     how = 'left')\n",
    "\n",
    "cancel_parcel['BlockUniqueID'] = cancel_parcel['BlockUniqueID'].astype('Int32')\n",
    "\n",
    "cancel_parcel.drop(columns=['F_GUSH_NUM', 'F_GUSH_SUFFIX', 'BlockName', 'ProcessName'], inplace=True)"
   ]
  },
  {
   "cell_type": "markdown",
   "id": "55490cfc-354b-4930-8454-f348d05947aa",
   "metadata": {},
   "source": [
    "<h1 style=\"text-align:right;font-size:125%;\">\n",
    ":עיבוד נתוני שכבת חלקות מבוטלות מרפליקציות יומיות"
   ]
  },
  {
   "cell_type": "markdown",
   "id": "c10ddcd6-4816-4c40-ab9e-0183f302dc8c",
   "metadata": {},
   "source": [
    "<h1 style=\"text-align:right;font-size:100%\">\n",
    "הסרת כפילויות"
   ]
  },
  {
   "cell_type": "code",
   "execution_count": null,
   "id": "6c75ce81-e9ad-4bae-9c2e-17e2c6391d0c",
   "metadata": {},
   "outputs": [],
   "source": [
    "replicated_parcels.drop_duplicates(keep = 'first', inplace = True)"
   ]
  },
  {
   "cell_type": "markdown",
   "id": "58a9fe7d-d3af-4ebb-9af6-9ab83a73bc13",
   "metadata": {},
   "source": [
    "<h1 style=\"text-align:right;font-size:100%\">\n",
    "יצירת שדה של מספר גוש מלא לצורך קבלת מספר מזהה לגוש"
   ]
  },
  {
   "cell_type": "code",
   "execution_count": null,
   "id": "628de453-d172-4f6c-91a8-8eca14cbbffe",
   "metadata": {},
   "outputs": [],
   "source": [
    "replicated_parcels[['GUSH_NUM', 'GUSH_SUFFIX']] = replicated_parcels[['GUSH_NUM', 'GUSH_SUFFIX']].fillna(0)\n",
    "replicated_parcels[['GUSH_NUM', 'GUSH_SUFFIX']] = replicated_parcels[['GUSH_NUM', 'GUSH_SUFFIX']].astype(int)\n",
    "replicated_parcels['BlockName'] = replicated_parcels['GUSH_NUM'].astype(str) + '_' + replicated_parcels['GUSH_SUFFIX'].astype(str)\n",
    "\n",
    "replicated_parcels['BlockUniqueID'] = replicated_parcels.merge(right = blocks[['BlockUniqueID', 'BlockName']],\n",
    "                                                               on = 'BlockName',\n",
    "                                                               how = 'left')['BlockUniqueID']\n",
    "\n",
    "replicated_parcels.drop(columns = ['GUSH_NUM', 'GUSH_SUFFIX', 'BlockName'], inplace=True)\n",
    "replicated_parcels['BlockUniqueID'] = replicated_parcels['BlockUniqueID'].astype('Int64')"
   ]
  },
  {
   "cell_type": "markdown",
   "id": "b2d538a3-451b-4fe8-bec1-1bd72d6d09f9",
   "metadata": {},
   "source": [
    "<h1 style=\"text-align:right;font-size:100%\">\n",
    "שינוי שמות של שדות קיימים לשדות חדשים"
   ]
  },
  {
   "cell_type": "code",
   "execution_count": null,
   "id": "8d7b89ed-c317-4ed9-8880-ced1cf85cd35",
   "metadata": {},
   "outputs": [],
   "source": [
    "replicated_parcels.rename(columns = {'PARCEL'    : 'ParcelNumber',\n",
    "                                     'PARCEL_ID' : 'ParcelUniqueID'},\n",
    "                          inplace = True)"
   ]
  },
  {
   "cell_type": "markdown",
   "id": "caa936d1-72b7-4033-b841-9ce7cf6cb6f5",
   "metadata": {},
   "source": [
    "<h1 style=\"text-align:right;font-size:125%;\">\n",
    ":איחוד נתונים "
   ]
  },
  {
   "cell_type": "code",
   "execution_count": null,
   "id": "f83ac1ba-f3f7-4302-9356-099af500f12c",
   "metadata": {},
   "outputs": [],
   "source": [
    "print('  15.c Data conversion')"
   ]
  },
  {
   "cell_type": "markdown",
   "id": "d5a3039d-c08e-4c12-a7ee-942c654569ec",
   "metadata": {},
   "source": [
    "<h1 style=\"text-align:right;font-size:100%\">\n",
    "קיבוץ רשומות לפי מספר חלקה ומספר מזהה של גוש\n",
    "<h1 style=\"text-align:right;font-size:100%\">\n",
    "תיקון סוגי שדות ומילוי ערכים חסרים ב-0\n",
    "<h1 style=\"text-align:right;font-size:100%\">\n",
    "הסרת רשומות בהן מספר החלקה הינו 0 \n",
    "<h1 style=\"text-align:right;font-size:100%\">\n",
    "יצירת שדה חדש למספר מזהה של חלקה מבוטל"
   ]
  },
  {
   "cell_type": "code",
   "execution_count": null,
   "id": "61def95a-30f2-4a14-a6f7-e649f2da2c5c",
   "metadata": {},
   "outputs": [],
   "source": [
    "CancelParcels2D =  history_parcels.append(cancel_parcel)\\\n",
    "                                  .append(replicated_parcels)\n",
    "\n",
    "del [history_parcels, cancel_parcel, replicated_parcels]"
   ]
  },
  {
   "cell_type": "code",
   "execution_count": null,
   "id": "7ec49d40-2473-45a2-945b-7d84fb293353",
   "metadata": {},
   "outputs": [],
   "source": [
    "aggs = {'ParcelType' : 'max',\n",
    "        'LegalArea'  : 'max',\n",
    "        'geometry'   : 'first',\n",
    "        'CancelProcessType' : 'max',\n",
    "        'CPBUniqueCancelProcessID' : 'max'}\n",
    "\n",
    "CancelParcels2D = CancelParcels2D.groupby(by = ['ParcelNumber', 'BlockUniqueID'],\n",
    "                                          as_index = False,\n",
    "                                          dropna   = False).agg(aggs)\n",
    "del aggs"
   ]
  },
  {
   "cell_type": "code",
   "execution_count": null,
   "id": "a4d76a18-1502-4b55-b509-641e1440f336",
   "metadata": {},
   "outputs": [],
   "source": [
    "cols_to_fill = ['ParcelType', 'BlockUniqueID','LegalArea', 'CPBUniqueCancelProcessID', 'CancelProcessType']\n",
    "\n",
    "CancelParcels2D[cols_to_fill] = CancelParcels2D[cols_to_fill].fillna(0)\n",
    "\n",
    "del cols_to_fill"
   ]
  },
  {
   "cell_type": "code",
   "execution_count": null,
   "id": "fc017a46-7fba-48a6-8be1-5afc7b9b9f68",
   "metadata": {},
   "outputs": [],
   "source": [
    "types_dict = {'ParcelNumber'      : 'Int64',\n",
    "              'BlockUniqueID'     : 'Int64',\n",
    "              'ParcelType'        : 'Int64',\n",
    "              'LegalArea'         : float,\n",
    "              'CPBUniqueCancelProcessID' : 'Int64',\n",
    "              'CancelProcessType' : 'Int64'}\n",
    "\n",
    "CancelParcels2D = CancelParcels2D.astype(types_dict)\n",
    "del types_dict"
   ]
  },
  {
   "cell_type": "markdown",
   "id": "7b7f97f9-8b55-4a6a-90d0-a79edb7117c4",
   "metadata": {},
   "source": [
    "<h1 style=\"text-align:right;font-size:100%\">\n",
    "הסרת חלקות שמספר הינו 0 או שמספר הגוש שלהן לא נמצא במיזוג"
   ]
  },
  {
   "cell_type": "code",
   "execution_count": null,
   "id": "68972446-a148-4d33-8dff-ee9f930b397e",
   "metadata": {},
   "outputs": [],
   "source": [
    "CancelParcels2D = CancelParcels2D[CancelParcels2D['ParcelNumber'] != 0]\n",
    "CancelParcels2D = CancelParcels2D[CancelParcels2D['BlockUniqueID'] != 0]"
   ]
  },
  {
   "cell_type": "code",
   "execution_count": null,
   "id": "459e5388-34a9-4f7b-9d07-0c0cee17dfce",
   "metadata": {},
   "outputs": [],
   "source": [
    "CancelParcels2D['ParcelUniqueID'] = range(1, len(CancelParcels2D) + 1)\n",
    "CancelParcels2D['ParcelUniqueID'] = CancelParcels2D['ParcelUniqueID'].astype(int)"
   ]
  },
  {
   "cell_type": "markdown",
   "id": "744dd81f-9a15-4c94-a2b7-7c054c5f31ee",
   "metadata": {},
   "source": [
    "<h1 style=\"text-align:right;font-size:100%\">\n",
    "הסרת חלקות מבוטלות שקיימות בשכבת חלקות רצף (עקב בעיות בשכבת רפליקציות)"
   ]
  },
  {
   "cell_type": "code",
   "execution_count": null,
   "id": "d45f2f78-0c6a-43bb-8091-11a3b3cbb4cb",
   "metadata": {},
   "outputs": [],
   "source": [
    "Parcels2D_layer['BlockUniqueID'] = Parcels2D_layer['BlockUniqueID'].fillna(0)\n",
    "\n",
    "Parcels2D_layer['ParcelKey'] = Parcels2D_layer['ParcelNumber'].astype(str) + '-' + Parcels2D_layer['BlockUniqueID'].astype(str)\n",
    "CancelParcels2D['ParcelKey'] = CancelParcels2D['ParcelNumber'].astype(str) + '-' + CancelParcels2D['BlockUniqueID'].astype(str)"
   ]
  },
  {
   "cell_type": "code",
   "execution_count": null,
   "id": "b60920cc-6b19-48a9-bf2b-f62b3f997143",
   "metadata": {},
   "outputs": [],
   "source": [
    "CancelParcels2D = CancelParcels2D[~CancelParcels2D['ParcelKey'].isin(Parcels2D_layer['ParcelKey'])]\n",
    "CancelParcels2D.drop(columns = ['ParcelKey'], inplace=True)\n",
    "del [Parcels2D_layer, blocks]"
   ]
  },
  {
   "cell_type": "markdown",
   "id": "63878969-2f3b-46b2-be6d-ad72cf464254",
   "metadata": {},
   "source": [
    "<h1 style=\"text-align:right;font-size:100%\">\n",
    "המרת שטח רשום מדונם למטר רבוע"
   ]
  },
  {
   "cell_type": "code",
   "execution_count": null,
   "id": "c52fd377-4326-4f82-9a95-75e39eaf482e",
   "metadata": {},
   "outputs": [],
   "source": [
    "CancelParcels2D['LegalArea'] = CancelParcels2D['LegalArea'] * 1000"
   ]
  },
  {
   "cell_type": "markdown",
   "id": "1e8a293e-1fbf-486b-85f7-6b46b03f62e6",
   "metadata": {},
   "source": [
    "<h1 style=\"text-align:right; font-size:150%; color:#1c6ce6;\"> \n",
    "שמירת תוצאות 💾\n",
    "<h1 style=\"text-align:right; font-size:100%;\"> \n",
    "<h1 style=\"text-align:right; font-size:100%;\"> \n",
    "בחירת נתיב\n",
    "<h1 style=\"text-align:right; font-size:100%;\"> \n",
    "שמירה כטבלה\n",
    "<h1 style=\"text-align:right; font-size:100%;\"> \n",
    "שמירה כשכבה גיאוגרפית"
   ]
  },
  {
   "cell_type": "code",
   "execution_count": null,
   "id": "c78a49e3-7658-41bf-bf30-2a92e1cadbf3",
   "metadata": {},
   "outputs": [],
   "source": [
    "print('  15.e Exporting results to product folder')"
   ]
  },
  {
   "cell_type": "code",
   "execution_count": null,
   "id": "5b13cc4f-1116-4b49-9bc0-12cb838d2220",
   "metadata": {},
   "outputs": [],
   "source": [
    "CancelParcels2D_geom = CancelParcels2D[~CancelParcels2D['geometry'].isna()]\n",
    "CancelParcels2D_geom = gpd.GeoDataFrame(CancelParcels2D_geom, geometry = 'geometry', crs = 2039)\n",
    "\n",
    "\n",
    "CancelParcels2D_no_geom = CancelParcels2D[CancelParcels2D['geometry'].isna()]"
   ]
  },
  {
   "cell_type": "code",
   "execution_count": null,
   "id": "8fb475c9-9d87-4f30-ad8e-4fdc4e16bc9c",
   "metadata": {},
   "outputs": [],
   "source": [
    "json_dir = r'\\\\mapi_shares\\MNCDB\\צוות מידע\\תוצרים\\json\\CancelParcels2D.geojson'\n",
    "no_geom_csv_dir = r'\\\\mapi_shares\\MNCDB\\צוות מידע\\תוצרים\\csv\\CancelParcels2D_no_geom.csv'\n",
    "\n",
    "\n",
    "CancelParcels2D_no_geom.to_csv(no_geom_csv_dir, encoding = 'cp1255', index=False)\n",
    "\n",
    "CancelParcels2D_geom.to_file(json_dir, driver = 'GeoJSON')\n",
    "\n",
    "\n",
    "del [json_dir, no_geom_csv_dir, CancelParcels2D_geom, CancelParcels2D_no_geom, CancelParcels2D]"
   ]
  },
  {
   "cell_type": "code",
   "execution_count": null,
   "id": "abd3f8cc-f008-45ac-aba2-7ffaf9f8356c",
   "metadata": {},
   "outputs": [],
   "source": [
    "subprocess.call([r\"M:\\ncdbScripts\\scripts\\arcpyPro\\CancelParcels2D-Save as Feature Class.bat\"]);"
   ]
  }
 ],
 "metadata": {
  "kernelspec": {
   "display_name": "Python 3",
   "language": "python",
   "name": "python3"
  },
  "language_info": {
   "codemirror_mode": {
    "name": "ipython",
    "version": 3
   },
   "file_extension": ".py",
   "mimetype": "text/x-python",
   "name": "python",
   "nbconvert_exporter": "python",
   "pygments_lexer": "ipython3",
   "version": "3.9.4"
  },
  "toc-autonumbering": false,
  "toc-showcode": false,
  "toc-showmarkdowntxt": true,
  "toc-showtags": true
 },
 "nbformat": 4,
 "nbformat_minor": 5
}
