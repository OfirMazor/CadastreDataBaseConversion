{
 "cells": [
  {
   "cell_type": "markdown",
   "id": "fbb26af3-20c8-4fba-98ed-8b76e18b5849",
   "metadata": {},
   "source": [
    "<h1 style=\"background-color:red;\n",
    "           font-family:segoe ui;\n",
    "                color:#FFF9ED;\n",
    "           font-size:300%;\n",
    "           text-align:center;\n",
    "           border-radius:10px 10px;\"> \n",
    "    🌐 תהליך הסבת שכבת חלקות (דו מימדיות) מבוטלות לבנק\"ל מודרני 🌐"
   ]
  },
  {
   "cell_type": "code",
   "execution_count": null,
   "id": "e0fa3a3a-f4a2-4729-9590-d183bc7de1c2",
   "metadata": {},
   "outputs": [],
   "source": [
    "print('19. Canceled parcels borders:')"
   ]
  },
  {
   "cell_type": "markdown",
   "id": "e6353e37-a214-4cc9-97c7-6679adc4a4b1",
   "metadata": {},
   "source": [
    "<h1 style=\"text-align:right; font-size:150%; color:#1c6ce6;\">\n",
    "ספריות 📚"
   ]
  },
  {
   "cell_type": "code",
   "execution_count": null,
   "id": "19accf9a-e905-4bc6-90c3-2273e5e6dbd8",
   "metadata": {
    "tags": [
     "Libraries"
    ]
   },
   "outputs": [],
   "source": [
    "import warnings\n",
    "warnings.filterwarnings('ignore')\n",
    "\n",
    "from configs import CNFG\n",
    "import numpy as np\n",
    "import pandas as pd\n",
    "import geopandas as gpd\n",
    "import dask_geopandas as daskgpd\n",
    "import datetime as dt\n",
    "import subprocess"
   ]
  },
  {
   "cell_type": "markdown",
   "id": "fdd59d20-ebfe-457d-8e91-76e655ebb268",
   "metadata": {},
   "source": [
    "<h1 style=\"text-align:right; font-size:150%; color:#1c6ce6;\">קריאת נתונים 📑 "
   ]
  },
  {
   "cell_type": "code",
   "execution_count": null,
   "id": "2e9dbe01-eab8-4ec1-aafe-f288d7821534",
   "metadata": {},
   "outputs": [],
   "source": [
    "print('  19.a Reading inputs')"
   ]
  },
  {
   "cell_type": "markdown",
   "id": "400f109d-a2a3-4cf7-babf-761db1dd3f07",
   "metadata": {},
   "source": [
    "<h1 style=\"text-align:right;font-size:125%\">\n",
    "נתוני שכבת חלקות היסטוריות"
   ]
  },
  {
   "cell_type": "code",
   "execution_count": null,
   "id": "cf582686-700f-4ec9-aeba-a1dd0d784850",
   "metadata": {
    "tags": []
   },
   "outputs": [],
   "source": [
    "history_parcels_cols = ['GUSH_NUM', 'GUSH_SUFFIX', 'PARCEL', 'LEGAL_AREA', 'TALAR_NUM', 'TALAR_YEAR', 'geometry']\n",
    "\n",
    "history_parcels = daskgpd.read_file(CNFG.CADSDE + 'PARCEL_HISTORY_HASAVA.gdb', layer = 'PARCEL_HISTORY_HASAVA', columns = history_parcels_cols, npartitions = 20).compute()\n",
    "\n",
    "del history_parcels_cols\n",
    "\n",
    "print('         input 1/7 read')"
   ]
  },
  {
   "cell_type": "markdown",
   "id": "213538a5-d73b-418e-b076-e0eb3eaef0a5",
   "metadata": {},
   "source": [
    "<h1 style=\"text-align:right;font-size:125%\">\n",
    "טבלת חלקות מבוטלות"
   ]
  },
  {
   "cell_type": "code",
   "execution_count": null,
   "id": "12bed885-a980-4236-838b-7167bfcdc74e",
   "metadata": {
    "tags": []
   },
   "outputs": [],
   "source": [
    "cancel_parcel_cols = ['F_GUSH_NUM', 'F_GUSH_SUFFIX', 'F_PARCEL_NUM', 'TALAR_NUMBER', 'TALAR_YEAR']\n",
    "\n",
    "cancel_parcel = pd.read_csv(CNFG.Oracle + 'CANCEL_PARCEL.csv', usecols = cancel_parcel_cols)\n",
    "\n",
    "del cancel_parcel_cols\n",
    "\n",
    "print('         input 2/7 read')"
   ]
  },
  {
   "cell_type": "markdown",
   "id": "e9386075-d98e-4def-ab38-fc4abc9d3e46",
   "metadata": {},
   "source": [
    "<h1 style=\"text-align:right;font-size:125%\">\n",
    "שכבת חלקות מבוטלות מרפליקציות יומיות"
   ]
  },
  {
   "cell_type": "code",
   "execution_count": null,
   "id": "5b6c0cef-1551-4a02-9244-b26506eaefe1",
   "metadata": {
    "tags": []
   },
   "outputs": [],
   "source": [
    "replicated_parcels_cols = ['PARCEL', 'GUSH_NUM', 'GUSH_SUFFIX', 'LEGALAREA', 'TALAR_NUMBER', 'TALAR_YEAR', 'geometry']\n",
    "\n",
    "replicated_parcels = daskgpd.read_file(CNFG.Local + 'CanceldParcels.gdb',  layer = 'CanceledParcels', columns = replicated_parcels_cols, npartitions = 20).compute()\n",
    "\n",
    "del replicated_parcels_cols\n",
    "\n",
    "print('         input 3/7 read')"
   ]
  },
  {
   "cell_type": "markdown",
   "id": "1b487ce9-0c22-4b12-b833-e3e9511fe3ad",
   "metadata": {},
   "source": [
    "<h1 style=\"text-align:right;font-size:125%\">\n",
    "שכבת חלקות מבוטלות מרפליקציות יומיות"
   ]
  },
  {
   "cell_type": "code",
   "execution_count": null,
   "id": "1f34a4af-d74a-451a-8fc6-a9b1ef74dabf",
   "metadata": {
    "tags": []
   },
   "outputs": [],
   "source": [
    "sequence_cols = ['CPBUniqueID', 'ProcessType',  'BlockNumber', 'SubBlockNumber', 'FromParcelTemp', 'FromParcelFinal', 'ToBlockNumber', 'ToSubBlockNumber', 'ToParcelTemp', 'ToParcelFinal']\n",
    "\n",
    "SequenceActions = pd.read_csv(CNFG.CSVPath + 'SequenceActions.csv', usecols = sequence_cols)\n",
    "\n",
    "del sequence_cols\n",
    "\n",
    "print('         input 4/7 read')"
   ]
  },
  {
   "cell_type": "markdown",
   "id": "196b9cc9-977c-447c-815b-87b3ba78bb9d",
   "metadata": {},
   "source": [
    "<h1 style=\"text-align:right;font-size:125%\">\n",
    "נתוני גושים מודרניים "
   ]
  },
  {
   "cell_type": "code",
   "execution_count": null,
   "id": "9908b8a9-b402-4e7c-9034-3db6893681cd",
   "metadata": {
    "tags": []
   },
   "outputs": [],
   "source": [
    "blocks_cols = ['BlockUniqueID', 'Name', 'LandType']\n",
    "\n",
    "Blocks = pd.read_csv(CNFG.CSVPath + 'BlockUniqueIDs.csv', usecols = blocks_cols)\n",
    "del blocks_cols\n",
    "\n",
    "print('         input 5/7 read')"
   ]
  },
  {
   "cell_type": "markdown",
   "id": "031aa16a-58b7-427b-a89d-c169bb09504e",
   "metadata": {},
   "source": [
    "<h1 style=\"text-align:right;font-size:125%\">\n",
    "(פיצול לתהליכים יוצרים ותהליכים מעדכנים) נתוני שכבת גבולות תהליכי קדסטר"
   ]
  },
  {
   "cell_type": "code",
   "execution_count": null,
   "id": "4de325fe-7372-4d17-8d0c-7aa80d78b3b9",
   "metadata": {
    "tags": []
   },
   "outputs": [],
   "source": [
    "cpb_cols = ['CPBUniqueID', 'GlobalID', 'ProcessName', 'ProcessType']\n",
    "\n",
    "CancelingProcessTypes = [1, 2, 3, 11, 16] # תצ\"ר, תמ\"ר, פס\"ד, תצ\"ר לא מוסדר, עריכה חופשית\n",
    "\n",
    "cpb_layer = daskgpd.read_file(CNFG.ProductPath, layer = 'CadasterProcessBorders', columns = cpb_cols, npartitions = 10).compute()\n",
    "\n",
    "CancelingProcessLayer = cpb_layer[cpb_layer['ProcessType'].isin(CancelingProcessTypes)]\n",
    "\n",
    "del [cpb_cols, cpb_layer]\n",
    "\n",
    "\n",
    "print('         input 6/7 read')"
   ]
  },
  {
   "cell_type": "markdown",
   "id": "d501b291-e72c-46e6-bd2b-840875ff9c26",
   "metadata": {},
   "source": [
    "<h1 style=\"text-align:right;font-size:125%\">\n",
    "שכבת חלקות דו-ממדיות מודרנית"
   ]
  },
  {
   "cell_type": "code",
   "execution_count": null,
   "id": "0ca05f94-dfb1-4226-ab0e-4936b6f029e1",
   "metadata": {},
   "outputs": [],
   "source": [
    "Parcels2D_List = pd.read_csv(CNFG.CSVPath + 'Parcels2DList.csv')\n",
    "\n",
    "print('         input 7/7 read')"
   ]
  },
  {
   "cell_type": "markdown",
   "id": "4a65da05-85fa-4060-9c2b-b8a1d17dca9c",
   "metadata": {},
   "source": [
    "<h1 style=\"text-align:right; font-size:150%; color:#1c6ce6;\">\n",
    "עיבוד נתונים 🛠️"
   ]
  },
  {
   "cell_type": "code",
   "execution_count": null,
   "id": "b5c26930-bb0d-41bd-b73f-33f32a6f3682",
   "metadata": {},
   "outputs": [],
   "source": [
    "print('  15.b Cleaning data')"
   ]
  },
  {
   "cell_type": "markdown",
   "id": "0afa4b7a-c8a8-481b-b41a-47339306f780",
   "metadata": {},
   "source": [
    "<h1 style=\"text-align:right;font-size:100%\">\n",
    "עיבוד טבלת סדר פעולות לקבלת חלקות מתבטלות בלבד"
   ]
  },
  {
   "cell_type": "code",
   "execution_count": null,
   "id": "cfc042fc-56f1-4f16-bc9d-3c6b8ee86155",
   "metadata": {
    "tags": []
   },
   "outputs": [],
   "source": [
    "SequenceActions = SequenceActions[SequenceActions['ProcessType'].isin(CancelingProcessTypes)]\n",
    "\n",
    "SequenceActions = SequenceActions[~SequenceActions['ToParcelFinal'].isna()]\n",
    "\n",
    "SequenceActions['IsCanceled'] = np.where(SequenceActions['FromParcelFinal'] != SequenceActions['ToParcelFinal'], True, False)\n",
    "\n",
    "SequenceActions = SequenceActions[SequenceActions['IsCanceled'] == True]\n",
    "\n",
    "SequenceActions = SequenceActions[['FromParcelFinal', 'BlockNumber', 'SubBlockNumber', 'CPBUniqueID']]\n",
    "\n",
    "SequenceActions = SequenceActions[(~SequenceActions['FromParcelFinal'].isna()) & (SequenceActions['FromParcelFinal'] != 0)]\n",
    "\n",
    "SequenceActions.rename(columns = {'FromParcelFinal' : 'ParcelNumber'}, inplace = True)\n",
    "\n",
    "\n",
    "del CancelingProcessTypes"
   ]
  },
  {
   "cell_type": "markdown",
   "id": "9220c164-856b-4d5a-888d-4dd35f6b0f0e",
   "metadata": {},
   "source": [
    "<h1 style=\"text-align:right;font-size:100%\">\n",
    "עיבוד טבלת חלקות מבוטלות"
   ]
  },
  {
   "cell_type": "code",
   "execution_count": null,
   "id": "ba9bd570-a20c-4e0b-a5a9-350e100de7fc",
   "metadata": {},
   "outputs": [],
   "source": [
    "cancel_parcel.rename(columns = {'F_GUSH_NUM'    : 'BlockNumber',\n",
    "                                'F_GUSH_SUFFIX' : 'SubBlockNumber',\n",
    "                                'F_PARCEL_NUM'  : 'ParcelNumber'}, inplace = True)\n",
    "\n",
    "cancel_parcel = cancel_parcel[(~cancel_parcel['TALAR_NUMBER'].isna())\n",
    "                                              &\n",
    "                              (~cancel_parcel['TALAR_YEAR'].isna())]\n",
    "\n",
    "\n",
    "cancel_parcel[['TALAR_NUMBER', 'TALAR_YEAR']] = cancel_parcel[['TALAR_NUMBER', 'TALAR_YEAR']].astype(int)\n",
    "cancel_parcel['ProcessName'] = cancel_parcel['TALAR_NUMBER'].astype(str) + '/' + cancel_parcel['TALAR_YEAR'].astype(str)\n",
    "cancel_parcel.drop(columns = ['TALAR_NUMBER', 'TALAR_YEAR'], inplace = True)\n",
    "\n",
    "cancel_parcel = cancel_parcel.merge(CancelingProcessLayer, on = 'ProcessName', how = 'left')\n",
    "cancel_parcel['CPBUniqueID'] = cancel_parcel['CPBUniqueID'].fillna(CNFG.unknown_cancel_process_id)"
   ]
  },
  {
   "cell_type": "markdown",
   "id": "00fb3890-10b8-4a25-87b7-054b33dc070a",
   "metadata": {},
   "source": [
    "<h1 style=\"text-align:right;font-size:100%\">\n",
    "עיבוד נתוני חלקות מבוטלות מרפליקציות יומיות"
   ]
  },
  {
   "cell_type": "code",
   "execution_count": null,
   "id": "84572af8-ee3d-44f6-b421-d82446a80504",
   "metadata": {},
   "outputs": [],
   "source": [
    "replicated_parcels.rename(columns = {'PARCEL'       : 'ParcelNumber',\n",
    "                                     'GUSH_NUM'     : 'BlockNumber',\n",
    "                                     'GUSH_SUFFIX'  : 'SubBlockNumber'}, inplace = True)\n",
    "\n",
    "replicated_parcels = replicated_parcels[(~replicated_parcels['TALAR_NUMBER'].isna())\n",
    "                                              &\n",
    "                                        (~replicated_parcels['TALAR_YEAR'].isna())]\n",
    "\n",
    "replicated_parcels[['TALAR_NUMBER', 'TALAR_YEAR']] = replicated_parcels[['TALAR_NUMBER', 'TALAR_YEAR']].astype(int)\n",
    "replicated_parcels['ProcessName'] = replicated_parcels['TALAR_NUMBER'].astype(str) + '/' + replicated_parcels['TALAR_YEAR'].astype(str)\n",
    "replicated_parcels.drop(columns = ['TALAR_NUMBER', 'TALAR_YEAR'], inplace = True)\n",
    "\n",
    "replicated_parcels = replicated_parcels.merge(CancelingProcessLayer, on = 'ProcessName', how = 'left')\n",
    "replicated_parcels['CPBUniqueID'] = replicated_parcels['CPBUniqueID'].fillna(CNFG.unknown_cancel_process_id)"
   ]
  },
  {
   "cell_type": "markdown",
   "id": "28a9f070-63e8-44f0-b71d-b3535922c877",
   "metadata": {},
   "source": [
    "<h1 style=\"text-align:right;font-size:100%\">\n",
    "עיבוד נתוני חלקות היסטוריות"
   ]
  },
  {
   "cell_type": "code",
   "execution_count": null,
   "id": "f4938303-ed41-412a-aaf3-f7a5cf65c7fb",
   "metadata": {
    "tags": []
   },
   "outputs": [],
   "source": [
    "history_parcels.rename(columns = {'GUSH_NUM'     : 'BlockNumber',\n",
    "                                  'GUSH_SUFFIX'  : 'SubBlockNumber',\n",
    "                                  'PARCEL'       : 'ParcelNumber',\n",
    "                                  'LEGAL_AREA'   : 'StatedArea'}, inplace = True)\n",
    "\n",
    "history_parcels = history_parcels[(~history_parcels['TALAR_NUM'].isna())\n",
    "                                              &\n",
    "                                (~history_parcels['TALAR_YEAR'].isna())]\n",
    "\n",
    "history_parcels[['TALAR_NUM', 'TALAR_YEAR']] = history_parcels[['TALAR_NUM', 'TALAR_YEAR']].astype(int)\n",
    "history_parcels['ProcessName'] = history_parcels['TALAR_NUM'].astype(str) + '/' + history_parcels['TALAR_YEAR'].astype(str)\n",
    "history_parcels.drop(columns = ['TALAR_NUM', 'TALAR_YEAR'], inplace = True)\n",
    "\n",
    "history_parcels = history_parcels.merge(CancelingProcessLayer, on = 'ProcessName', how = 'left')\n",
    "history_parcels['CPBUniqueID'] = history_parcels['CPBUniqueID'].fillna(CNFG.unknown_cancel_process_id)"
   ]
  },
  {
   "cell_type": "markdown",
   "id": "0500cc2e-c98b-43d3-968c-73b849a9b627",
   "metadata": {},
   "source": [
    "<h1 style=\"text-align:right;font-size:100%\">\n",
    "איחוד מקורות מידע של חלקות מבוטלות לטבלה אחת"
   ]
  },
  {
   "cell_type": "code",
   "execution_count": null,
   "id": "a19556e9-5414-48bb-ad44-d99eaccafa40",
   "metadata": {},
   "outputs": [],
   "source": [
    "CancelParcels2D = pd.concat([cancel_parcel, replicated_parcels, history_parcels, SequenceActions])\n",
    "\n",
    "CancelParcels2D['SubBlockNumber'] = CancelParcels2D['SubBlockNumber'].fillna(0)\n",
    "\n",
    "CancelParcels2D = CancelParcels2D[(CancelParcels2D['ParcelNumber'] > 0)\n",
    "                                                  &\n",
    "                                  (~CancelParcels2D['ParcelNumber'].isna())]\n",
    "\n",
    "del [CancelingProcessLayer, cancel_parcel, replicated_parcels, history_parcels, SequenceActions]"
   ]
  },
  {
   "cell_type": "code",
   "execution_count": null,
   "id": "9457d1f8-553d-41c2-a455-8a5cc6824134",
   "metadata": {
    "tags": []
   },
   "outputs": [],
   "source": [
    "aggregation = {'CPBUniqueID' : 'max',\n",
    "               'GlobalID'    : 'first',\n",
    "               'geometry'    : 'first',\n",
    "               'StatedArea'  : 'max'}\n",
    "\n",
    "CancelParcels2D = CancelParcels2D.groupby(by = ['ParcelNumber', 'BlockNumber', 'SubBlockNumber'], as_index = False).agg(aggregation)"
   ]
  },
  {
   "cell_type": "code",
   "execution_count": null,
   "id": "19023a4a-16aa-48fc-a36b-e1aab805c760",
   "metadata": {
    "tags": []
   },
   "outputs": [],
   "source": [
    "CancelParcels2D.rename(columns = {'CPBUniqueID' : 'CPBUniqueCancelProcessID', 'GlobalID' : 'RetiredByRecord', 'ProcessType' : 'CancelProcessType'}, inplace = True)\n",
    "\n",
    "CancelProcessTypeMap = {1 : 1,       # תצ\"ר\n",
    "                        2 : 4,       # תמ\"ר\n",
    "                        3 : 2,       # פס\"ד\n",
    "                        11 :3,       # תצ\"ר לא מוסדר\n",
    "                        16 : None}   # עריכה חופשית\n",
    "\n",
    "CancelParcels2D['CancelProcessType'] = CancelParcels2D['CancelProcessType'].map(CancelProcessTypeMap)\n",
    "\n",
    "del aggregation"
   ]
  },
  {
   "cell_type": "code",
   "execution_count": null,
   "id": "47df11c7-43a9-4354-94c4-9d94b77dbdf1",
   "metadata": {
    "tags": []
   },
   "outputs": [],
   "source": [
    "CancelParcels2D[['BlockNumber', 'SubBlockNumber']] = CancelParcels2D[['BlockNumber', 'SubBlockNumber']].astype(int)\n",
    "\n",
    "CancelParcels2D['BlockName'] = CancelParcels2D['BlockNumber'].astype(str) + '/' +  CancelParcels2D['SubBlockNumber'].astype(str) \n",
    "\n",
    "CancelParcels2D = CancelParcels2D.merge(Blocks, left_on = 'BlockName', right_on = 'Name', how = 'left')\n",
    "\n",
    "del Blocks"
   ]
  },
  {
   "cell_type": "code",
   "execution_count": null,
   "id": "efb90e30-a3d4-4073-9b18-f8f44c4b22ba",
   "metadata": {},
   "outputs": [],
   "source": [
    "CancelParcels2D['ParcelNumber'] = CancelParcels2D['ParcelNumber'].astype(int)\n",
    "\n",
    "CancelParcels2D['Name'] = CancelParcels2D['ParcelNumber'].astype(str) + CancelParcels2D['BlockName']\n",
    "\n",
    "CancelParcels2D.drop(columns = 'BlockName')"
   ]
  },
  {
   "cell_type": "code",
   "execution_count": null,
   "id": "80b637ae-bb1e-43c2-b726-60c5086be439",
   "metadata": {},
   "outputs": [],
   "source": [
    "Parcels2D_List = Parcels2D_List.astype(int)\n",
    "Parcels2D_List['Name'] = Parcels2D_List['ParcelNumber'].astype(str) + Parcels2D_List['BlockNumber'] + Parcels2D_List['SubBlockNumber'].astype(str)\n",
    "\n",
    "CancelParcels2D = CancelParcels2D[~CancelParcels2D['Name'].isin(Parcels2D_List['Name'])]"
   ]
  },
  {
   "cell_type": "code",
   "execution_count": null,
   "id": "0a8cab05-eae1-46b0-a968-7a57a90a781f",
   "metadata": {},
   "outputs": [],
   "source": [
    "CancelParcels2D['ParcelType'] = 2 # סופית"
   ]
  },
  {
   "cell_type": "code",
   "execution_count": null,
   "id": "4a8f02b0-0e98-46a6-add3-92b2c1e24f75",
   "metadata": {},
   "outputs": [],
   "source": [
    "CancelParcels2D['StatedAreaUnit'] = 109404"
   ]
  },
  {
   "cell_type": "markdown",
   "id": "d24b2c15-514f-4494-a18b-5ff9c5c6ee4c",
   "metadata": {},
   "source": [
    "<h1 style=\"text-align:right; font-size:150%; color:#1c6ce6;\"> \n",
    "שמירת תוצאות 💾\n",
    "<h1 style=\"text-align:right; font-size:100%;\"> \n",
    "<h1 style=\"text-align:right; font-size:100%;\"> \n",
    "בחירת נתיב\n",
    "<h1 style=\"text-align:right; font-size:100%;\"> \n",
    "שמירה כטבלה\n",
    "<h1 style=\"text-align:right; font-size:100%;\"> \n",
    "שמירה כשכבה גיאוגרפית"
   ]
  },
  {
   "cell_type": "code",
   "execution_count": null,
   "id": "c78a49e3-7658-41bf-bf30-2a92e1cadbf3",
   "metadata": {},
   "outputs": [],
   "source": [
    "print('  19.e Exporting results to product folder')"
   ]
  },
  {
   "cell_type": "code",
   "execution_count": null,
   "id": "dee8ccf4-c523-4af5-a586-dc007c450e3f",
   "metadata": {},
   "outputs": [],
   "source": [
    "CancelParcels2D_no_geom = CancelParcels2D[CancelParcels2D['geometry'].isna()].drop(columns = 'geometry')\n",
    "CancelParcels2D_geom = CancelParcels2D[~CancelParcels2D['geometry'].isna()]"
   ]
  },
  {
   "cell_type": "code",
   "execution_count": null,
   "id": "8fb475c9-9d87-4f30-ad8e-4fdc4e16bc9c",
   "metadata": {},
   "outputs": [],
   "source": [
    "csv_dir = CNFG.CSVPath + 'CancelParcels2D_no_geom.csv'\n",
    "json_dir = CNFG.JsonPath + 'CancelParcels2D.geojson'\n",
    "\n",
    "\n",
    "CancelParcels2D_no_geom.to_csv(csv_dir, index = False)\n",
    "gpd.GeoDataFrame(CancelParcels2D_geom, geometry = 'geometry', crs = 2039).to_file(json_dir, driver = 'GeoJSON')"
   ]
  },
  {
   "cell_type": "code",
   "execution_count": null,
   "id": "abd3f8cc-f008-45ac-aba2-7ffaf9f8356c",
   "metadata": {},
   "outputs": [],
   "source": [
    "subprocess.call([CNFG.BatchPath + \"CancelParcels2D-Save as Feature Class.bat\"]);"
   ]
  }
 ],
 "metadata": {
  "kernelspec": {
   "display_name": "Python 3 (ipykernel)",
   "language": "python",
   "name": "python3"
  },
  "language_info": {
   "codemirror_mode": {
    "name": "ipython",
    "version": 3
   },
   "file_extension": ".py",
   "mimetype": "text/x-python",
   "name": "python",
   "nbconvert_exporter": "python",
   "pygments_lexer": "ipython3",
   "version": "3.11.3"
  }
 },
 "nbformat": 4,
 "nbformat_minor": 5
}
