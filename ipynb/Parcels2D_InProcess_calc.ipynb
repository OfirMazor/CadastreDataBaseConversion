{
 "cells": [
  {
   "cell_type": "markdown",
   "id": "8e75b312-7b0d-449c-bebb-037f0e646bc2",
   "metadata": {},
   "source": [
    "<h1 style=\"background-color:#FF7733;\n",
    "           font-family:segoe ui;\n",
    "                color:#FFF9ED;\n",
    "           font-size:300%;\n",
    "           text-align:center;\n",
    "           border-radius:10px 10px;\"> \n",
    "    🌐 תהליך הסבת חלקות (דו-ממדיות) בתהליך לבנק\"ל מודרני 🌐"
   ]
  },
  {
   "cell_type": "code",
   "execution_count": null,
   "id": "9a966ebe-33c4-45ec-93be-805af3f7141d",
   "metadata": {},
   "outputs": [],
   "source": [
    "print(' In-Process Parcels Borders:')"
   ]
  },
  {
   "cell_type": "markdown",
   "id": "32c3b687-e99e-4d22-b392-9eebba5829f9",
   "metadata": {},
   "source": [
    "<h1 style=\"text-align:right; font-size:150%; color:#1c6ce6;\">\n",
    "ספריות 📚"
   ]
  },
  {
   "cell_type": "code",
   "execution_count": 1,
   "id": "ae57e106-8bec-448a-a448-a01640a9f244",
   "metadata": {
    "tags": [
     "Libraries"
    ]
   },
   "outputs": [],
   "source": [
    "import warnings\n",
    "warnings.filterwarnings('ignore')\n",
    "\n",
    "import subprocess\n",
    "import numpy as np\n",
    "import pandas as pd\n",
    "import geopandas as gpd\n",
    "from configs import CNFG\n",
    "from threading import Thread\n",
    "import dask_geopandas as daskgpd\n",
    "from helpers import assign_ProcessName, assign_BlockName"
   ]
  },
  {
   "cell_type": "markdown",
   "id": "cd727dec-f9e9-474f-bab7-cb1f23029456",
   "metadata": {},
   "source": [
    "<h1 style=\"text-align:right;font-size:100%\">\n",
    "העתקת שכבת מקור שכוללת גיאומטריה מקורית"
   ]
  },
  {
   "cell_type": "code",
   "execution_count": null,
   "id": "25415f0b-f9f3-4e1e-b93e-9610f4c94985",
   "metadata": {},
   "outputs": [],
   "source": [
    "print('   Preprocess')"
   ]
  },
  {
   "cell_type": "code",
   "execution_count": null,
   "id": "f3307757-c755-4022-aae3-de48bd542df8",
   "metadata": {},
   "outputs": [],
   "source": [
    "Thread(target = subprocess.call, args = [CNFG.BatchPath + \"Parcels2D_InProcess_preprocess_calc.bat\"]).start();"
   ]
  },
  {
   "cell_type": "markdown",
   "id": "41b7f28c-b1e8-4922-952c-42b7a3f4765c",
   "metadata": {},
   "source": [
    "<h1 style=\"text-align:right; font-size:150%; color:#1c6ce6;\">קריאת נתונים 📑 "
   ]
  },
  {
   "cell_type": "code",
   "execution_count": null,
   "id": "99459f96-669a-4958-b713-9d9f364d0c50",
   "metadata": {},
   "outputs": [],
   "source": [
    "print('   Reading inputs')"
   ]
  },
  {
   "cell_type": "markdown",
   "id": "b33bf4ca-a720-4cbd-9608-0f98344ea63f",
   "metadata": {},
   "source": [
    "<h1 style=\"text-align:right;font-size:100%\">\n",
    "שכבת חלקות בתהליך קיימת"
   ]
  },
  {
   "cell_type": "code",
   "execution_count": 2,
   "id": "a0a72451-6a81-497a-bb10-3388e8f9cbb4",
   "metadata": {
    "tags": []
   },
   "outputs": [
    {
     "name": "stdout",
     "output_type": "stream",
     "text": [
      "       Input 1/5 read\n"
     ]
    }
   ],
   "source": [
    "Parcels_InProcess_cols = ['TEMP_ID', 'PARCELNAME', 'GUSHNUM', 'GUSHSUFFIX', 'TALAR_NUM', 'TALAR_YEAR', 'CADASTER_PROCESS', 'ENTITY_STATE', 'TABAYEUD', 'LEGALAREA']\n",
    "\n",
    "Parcels_InProcess = pd.read_csv(CNFG.CADSDE + 'Parcels_InProcess.csv', usecols = Parcels_InProcess_cols)\n",
    "\n",
    "del Parcels_InProcess_cols\n",
    "print('       Input 1/5 read')"
   ]
  },
  {
   "cell_type": "markdown",
   "id": "2c53be88-bda3-452a-8208-332614d3ccc9",
   "metadata": {},
   "source": [
    "<h1 style=\"text-align:right;font-size:100%\">\n",
    "טבלת פעולות של תכניות בתהליך (לחילוץ חלקות ביניים)"
   ]
  },
  {
   "cell_type": "code",
   "execution_count": null,
   "id": "6ed32495-c28d-43af-af07-48c86d269f42",
   "metadata": {},
   "outputs": [],
   "source": [
    "MiddleParcels_cols = ['PARCEL_ID', 'TALAR_NUM', 'TALAR_YEAR', 'GUSHNUM', 'GUSHSUFFIX', 'ACTION_TYPE', 'PARCEL_AREA']\n",
    "\n",
    "MiddleParcels = pd.read_csv(CNFG.Oracle + 'table_inprocess.csv', usecols = MiddleParcels_cols)\n",
    "\n",
    "del MiddleParcels_cols\n",
    "print('       Input 2/5 read')"
   ]
  },
  {
   "cell_type": "markdown",
   "id": "9339b28b-a8d8-4b19-bf82-2903a3f370e8",
   "metadata": {},
   "source": [
    "<h1 style=\"text-align:right;font-size:100%\">\n",
    "שכבת גושי קדסטר מודרנית"
   ]
  },
  {
   "cell_type": "code",
   "execution_count": null,
   "id": "64e67d0d-3af7-42ab-814f-1c833c21938e",
   "metadata": {
    "tags": []
   },
   "outputs": [],
   "source": [
    "Blocks = pd.read_csv(CNFG.CSVPath + 'BlockUniqueIDs.csv', usecols = ['Name', 'GlobalID', 'IsTax'])\n",
    "print('       Input 3/5 read')"
   ]
  },
  {
   "cell_type": "markdown",
   "id": "c1b8860f-48d0-47ab-b472-007d7f2faa5e",
   "metadata": {},
   "source": [
    "<h1 style=\"text-align:right;font-size:100%\">\n",
    "שמות תת\"גים כפולים"
   ]
  },
  {
   "cell_type": "code",
   "execution_count": null,
   "id": "4af3f5eb-b1f8-4145-856e-5fe9d3c74c2b",
   "metadata": {},
   "outputs": [],
   "source": [
    "duplicated_names = pd.read_excel(CNFG.Local + 'tatag_duplicated_names.xlsx')['TatagName']\n",
    "print('       Input 4/5 read')"
   ]
  },
  {
   "cell_type": "markdown",
   "id": "e0f1753c-47ef-48f9-ae9e-0a340059250d",
   "metadata": {},
   "source": [
    "<h1 style=\"text-align:right;font-size:100%\">\n",
    "שכבת גבולות תהליכי קדסטר מודרנית"
   ]
  },
  {
   "cell_type": "code",
   "execution_count": null,
   "id": "b8bb72bc-9c0a-453d-83b5-a6abd72da185",
   "metadata": {
    "tags": []
   },
   "outputs": [],
   "source": [
    "cpb_cols = ['ProcessGUID', 'ProcessName', 'ProcessType']\n",
    "\n",
    "cpb_layer = pd.read_csv(CNFG.CSVPath + 'ProcessesAndRecords.csv', usecols = cpb_cols)\n",
    "\n",
    "del cpb_cols\n",
    "print('       Input 5/5 read')"
   ]
  },
  {
   "cell_type": "markdown",
   "id": "13c7c196-b6f5-4a40-96e8-a3086f282fc2",
   "metadata": {},
   "source": [
    "<h1 style=\"text-align:right; font-size:150%; color:#1c6ce6;\">\n",
    "עיבוד נתונים 🛠️"
   ]
  },
  {
   "cell_type": "code",
   "execution_count": null,
   "id": "b5c26930-bb0d-41bd-b73f-33f32a6f3682",
   "metadata": {},
   "outputs": [],
   "source": [
    "print('   Cleaning data')"
   ]
  },
  {
   "cell_type": "markdown",
   "id": "7744560b-8860-4d3a-a0f8-182fd632eea9",
   "metadata": {},
   "source": [
    "<h1 style=\"text-align:right;font-size:100%\">\n",
    "פיצול טבלת גושים לגושי קדסטר וגושי שומא"
   ]
  },
  {
   "cell_type": "code",
   "execution_count": null,
   "id": "9f178f66-ffc0-4f47-a4cc-0843e2425886",
   "metadata": {
    "tags": []
   },
   "outputs": [],
   "source": [
    "cadaster_Blocks = Blocks[Blocks['IsTax'] == 0].drop(columns = 'IsTax').rename(columns = {'GlobalID' : 'cadasterBlockUniqueID', 'Name' : 'BlockName'})\n",
    "tax_Blocks      = Blocks[Blocks['IsTax'] == 1].rename(columns = {'GlobalID' : 'taxBlockUniqueID', 'Name' : 'BlockName'})"
   ]
  },
  {
   "cell_type": "code",
   "execution_count": null,
   "id": "a6023544-621a-4e8f-b982-18d6480ae716",
   "metadata": {},
   "outputs": [],
   "source": [
    "print('   Data conversion')"
   ]
  },
  {
   "cell_type": "markdown",
   "id": "bca2131d-8c00-4052-9c96-189536db3da5",
   "metadata": {},
   "source": [
    "<h1 style=\"text-align:right;font-size:125%;\">\n",
    ":עיבוד נתוני חלקות בתהליך"
   ]
  },
  {
   "cell_type": "markdown",
   "id": "8c65a6ba-e6d5-4182-838f-e1484ffa4e5d",
   "metadata": {},
   "source": [
    "<h1 style=\"text-align:right;font-size:100%\">\n",
    ".מיזוג עם גושי קדסטר ולאחר מכן עם גושי שומא לקבלת מזהה גוש ושדה של תיאור שומא. במקרים בהם המיזוג תואם לשני סוגי גושים, גוש הקדסטר יקבע"
   ]
  },
  {
   "cell_type": "code",
   "execution_count": null,
   "id": "06b0490d-f0c5-4488-bebb-c075272051e4",
   "metadata": {
    "tags": []
   },
   "outputs": [],
   "source": [
    "Parcels_InProcess = assign_BlockName(Parcels_InProcess, 'GUSHNUM', 'GUSHSUFFIX', drop=False).rename(columns={'GUSHNUM':'BlockNumber', 'GUSHSUFFIX':'SubBlockNumber'})\n",
    "\n",
    "Parcels_InProcess = Parcels_InProcess.merge(cadaster_Blocks, on = 'BlockName', how = 'left')\\\n",
    "                                     .merge(tax_Blocks, on = 'BlockName', how = 'left')\n",
    "\n",
    "Parcels_InProcess['BlockUniqueID'] = Parcels_InProcess['cadasterBlockUniqueID'].fillna(Parcels_InProcess['taxBlockUniqueID'])\n",
    "\n",
    "Parcels_InProcess['IsTax'] = Parcels_InProcess['IsTax'].fillna(0)\n",
    "Parcels_InProcess.drop(columns = ['cadasterBlockUniqueID', 'taxBlockUniqueID'], inplace = True)"
   ]
  },
  {
   "cell_type": "markdown",
   "id": "67dc1fff-b7d8-49ab-90bb-efac34c124d4",
   "metadata": {},
   "source": [
    "<h1 style=\"text-align:right;font-size:100%\">\n",
    "מילוי ערכי סוג תהליך ב-1 (הסדר מקרקעין)"
   ]
  },
  {
   "cell_type": "code",
   "execution_count": null,
   "id": "dc2ad66f-4c0f-4263-b551-a2a0b6e5bae6",
   "metadata": {
    "tags": []
   },
   "outputs": [],
   "source": [
    "Parcels_InProcess['CADASTER_PROCESS'] = Parcels_InProcess['CADASTER_PROCESS'].fillna(1) #הסדר מקרקעין\n",
    "Parcels_InProcess['CADASTER_PROCESS'] = Parcels_InProcess['CADASTER_PROCESS'].astype(int)"
   ]
  },
  {
   "cell_type": "markdown",
   "id": "14da518c-35fb-4db3-98c3-275c438ff9bb",
   "metadata": {},
   "source": [
    "<h1 style=\"text-align:right;font-size:100%\">\n",
    "הגדרת שם מפה לצורך קבלת מזהה תהליך קדסטרי\n",
    "<h1 style=\"text-align:right;font-size:100%\">\n",
    "חלקות ללא שם מפה אשר מגיעות מתהליך מסוג 1 (הסדר) יקבלו שם מפת הסדר לפי מספר גוש מלא\n",
    "<h1 style=\"text-align:right;font-size:100%\">\n",
    "חלקות ללא שם מפה אשר מגיעות מתהליך מסוג 1 (קמ\"ק) יקבלו שם מפת קמ\"ק לפי מספר גוש מלא\n",
    "<h1 style=\"text-align:right;font-size:100%\">\n",
    "תיקון שמות מפה כפולים של תת\"ג עם הוספת קידומת 0 לשם המפה\n",
    "<h1 style=\"text-align:right;font-size:100%\">\n",
    "מיזוג נתונים עם טבלת גבולות תכניות קדסטריות לקבלת מזהה תהליך וסוג תהליך עדכני, הסרת שדות שאינם רלוונטיים יותר"
   ]
  },
  {
   "cell_type": "code",
   "execution_count": null,
   "id": "e2f16c44-cd33-4788-894f-47f11a3b7448",
   "metadata": {
    "tags": []
   },
   "outputs": [],
   "source": [
    "Parcels_InProcess[['TALAR_NUM', 'TALAR_YEAR']] = Parcels_InProcess[['TALAR_NUM', 'TALAR_YEAR']].fillna(0)\n",
    "Parcels_InProcess[['TALAR_NUM', 'TALAR_YEAR']] = Parcels_InProcess[['TALAR_NUM', 'TALAR_YEAR']].astype(int)\n",
    "Parcels_InProcess['ProcessName'] = Parcels_InProcess['TALAR_NUM'].astype(str) + '/' + Parcels_InProcess['TALAR_YEAR'].astype(str)\n",
    "Parcels_InProcess['ProcessName'] = Parcels_InProcess['ProcessName'].replace('0/0', None)\n",
    "\n",
    "#הסדר מקרקעין\n",
    "Parcels_InProcess['ProcessName'] = np.where(Parcels_InProcess['CADASTER_PROCESS'] == 1, #הסדר מקרקעין\n",
    "                                            Parcels_InProcess['BlockName'] + ' הסדר',\n",
    "                                            Parcels_InProcess['ProcessName'])\n",
    "\n",
    "#קמ\"ק\n",
    "Parcels_InProcess['ProcessName'] = np.where(Parcels_InProcess['CADASTER_PROCESS'] == 9, #טיוב גוש אנליטי (קמ\"ק)\n",
    "                                            'קמ\"ק ' + Parcels_InProcess['BlockName'],\n",
    "                                            Parcels_InProcess['ProcessName'])\n",
    "\n",
    "\n",
    "duplicated_cond = (Parcels_InProcess['ProcessName'].isin(duplicated_names)) & (Parcels_InProcess['CADASTER_PROCESS'].isin([3,12])) #תת\"ג\n",
    "\n",
    "Parcels_InProcess['ProcessName'] = np.where(duplicated_cond, '0' + Parcels_InProcess['ProcessName'], Parcels_InProcess['ProcessName'])\n",
    "\n",
    "\n",
    "Parcels_InProcess = Parcels_InProcess.merge(right = cpb_layer, on = 'ProcessName', how = 'left')\\\n",
    "                                     .rename(columns = {'ProcessGUID' : 'CPBUniqueID'})\\\n",
    "                                     .drop(columns = ['ProcessName', 'CADASTER_PROCESS', 'TALAR_NUM', 'TALAR_YEAR'])\n",
    "\n",
    "\n",
    "del [duplicated_names, duplicated_cond]"
   ]
  },
  {
   "cell_type": "markdown",
   "id": "03276b51-bb41-4ac3-abc7-26a587548d6d",
   "metadata": {},
   "source": [
    "<h1 style=\"text-align:right;font-size:100%\">\n",
    ":הגדרת שדה של מעמד החלקה\n",
    "<h1 style=\"text-align:right;font-size:100%\">\n",
    "הסרת חלקות שמשמשות כחלקות רקע \n",
    "<h1 style=\"text-align:right;font-size:100%\">\n",
    "התאמת ערכי מעמד החלקה לערכים חדשים על ידי הוספת 1\n",
    "<h1 style=\"text-align:right;font-size:100%\">\n",
    "חלקות שמגיעות מתהליך מעדכן יקבלו מעמד חלקה 3 (ביסוס וחדשה)\n",
    "<h1 style=\"text-align:right;font-size:100%\">\n",
    "חלקות שמגיעות מתהליך יוצר יקבלו מעמד חלקה 2 (חדשה)"
   ]
  },
  {
   "cell_type": "code",
   "execution_count": null,
   "id": "69867427-2a9b-492c-97fc-3def4c25ab6b",
   "metadata": {},
   "outputs": [],
   "source": [
    "Parcels_InProcess = Parcels_InProcess[Parcels_InProcess['ENTITY_STATE'].isin([0, 1])]\n",
    "Parcels_InProcess.dropna(subset = ['ENTITY_STATE'], inplace = True)\n",
    "Parcels_InProcess['ENTITY_STATE'] = Parcels_InProcess['ENTITY_STATE'] + 1\n",
    "\n",
    "UpdatingProcesses_cond = Parcels_InProcess['ProcessType'].isin([4, 5])\n",
    "CreatingProcesses_cond = Parcels_InProcess['ProcessType'] == 9\n",
    "\n",
    "Parcels_InProcess['ENTITY_STATE'] = np.where(UpdatingProcesses_cond, 3, Parcels_InProcess['ENTITY_STATE'])\n",
    "Parcels_InProcess['ENTITY_STATE'] = np.where(CreatingProcesses_cond, 2, Parcels_InProcess['ENTITY_STATE'])\n",
    "\n",
    "\n",
    "Parcels_InProcess['ENTITY_STATE'] = Parcels_InProcess['ENTITY_STATE'].astype(int)\n",
    "Parcels_InProcess.rename(columns = {'ENTITY_STATE' : 'ParcelRole'}, inplace = True)"
   ]
  },
  {
   "cell_type": "markdown",
   "id": "bc6f699f-e21c-4b34-baa3-fd086cf84537",
   "metadata": {},
   "source": [
    "<h1 style=\"text-align:right;font-size:100%\">\n",
    "הגדרת שדה של סוג חלקה:\n",
    "<h1 style=\"text-align:right;font-size:100%\">\n",
    "שמירת חלקות בתהליך שמכילות מידע רלוונטי לארעיות או סופיות בלבד, ערכים ריקים יוגדרו כחלקות בתהליך סופיות \n",
    "<h1 style=\"text-align:right;font-size:100%\">\n",
    "החלפת ערכי אותיות למספרים התואמים"
   ]
  },
  {
   "cell_type": "code",
   "execution_count": null,
   "id": "a244f483-f290-4f0d-a616-7b49a79366ad",
   "metadata": {
    "tags": []
   },
   "outputs": [],
   "source": [
    "Parcels_InProcess['ParcelType'] = Parcels_InProcess['PARCELNAME'].str.get(0)\n",
    "Parcels_InProcess['ParcelType'] = Parcels_InProcess['ParcelType'].astype(str)\n",
    "\n",
    "\n",
    "unknown_condition = ~Parcels_InProcess['ParcelType'].isin(['T', 'F'])\n",
    "Parcels_InProcess['ParcelType'] = np.where(unknown_condition, 'F', Parcels_InProcess['ParcelType'])\n",
    "\n",
    "\n",
    "Parcels_InProcess['ParcelType'] = Parcels_InProcess['ParcelType'].map({'T' : 1, 'F' : 2})\n",
    "\n",
    "del unknown_condition"
   ]
  },
  {
   "cell_type": "markdown",
   "id": "3204d697-0faf-45d1-8518-69d9c9e39e22",
   "metadata": {},
   "source": [
    "<h1 style=\"text-align:right;font-size:100%\">\n",
    "חילוץ מספר החלקה ללא אותיות"
   ]
  },
  {
   "cell_type": "code",
   "execution_count": null,
   "id": "ea557984-bdce-4615-a22a-4966e7dad955",
   "metadata": {
    "tags": []
   },
   "outputs": [],
   "source": [
    "Parcels_InProcess['ParcelNumber'] = Parcels_InProcess['PARCELNAME'].map(lambda x: x.lstrip('FT'))\n",
    "Parcels_InProcess['ParcelNumber'] = Parcels_InProcess['ParcelNumber'].str.partition(\":\")[0]\n",
    "Parcels_InProcess['ParcelNumber'] = Parcels_InProcess['ParcelNumber'].astype(int)\n",
    "Parcels_InProcess.drop(columns = 'PARCELNAME', inplace = True)"
   ]
  },
  {
   "cell_type": "markdown",
   "id": "5197c690-f9e5-4c72-9e1e-b01091321229",
   "metadata": {},
   "source": [
    "<h1 style=\"text-align:right;font-size:100%\">\n",
    "הכפלת שטח רשום פי 1000\n",
    "<h1 style=\"text-align:right;font-size:100%\">\n",
    "שינוי שם שדה של שטח רשום וייעוד קרקע"
   ]
  },
  {
   "cell_type": "code",
   "execution_count": null,
   "id": "7f5246da-1400-4efd-abf2-c838f2c40929",
   "metadata": {
    "tags": []
   },
   "outputs": [],
   "source": [
    "Parcels_InProcess['LEGALAREA'] = Parcels_InProcess['LEGALAREA'] * 1000\n",
    "Parcels_InProcess.rename(columns = {'LEGALAREA' : 'LegalArea', 'TABAYEUD' : 'LandDesignationPlan'}, inplace = True)"
   ]
  },
  {
   "cell_type": "markdown",
   "id": "b04d1a5e-bdc3-41fc-a8ff-22ba1c0e602a",
   "metadata": {},
   "source": [
    "<h1 style=\"text-align:right;font-size:100%\">\n",
    "הגדרת שדה של סוג מקרקעין לפי סוג תהליך קדסטרי"
   ]
  },
  {
   "cell_type": "code",
   "execution_count": null,
   "id": "b09cea29-992d-480c-9b01-5877ae010ffa",
   "metadata": {
    "tags": []
   },
   "outputs": [],
   "source": [
    "processes_in_registered = Parcels_InProcess['ProcessType'].isin([1, 4, 5])\n",
    "\n",
    "Parcels_InProcess['LandType'] = np.where(processes_in_registered, 1, 2)"
   ]
  },
  {
   "cell_type": "markdown",
   "id": "e37f11a6-6b91-48e5-82a6-9466d74cac1d",
   "metadata": {},
   "source": [
    "<h1 style=\"text-align:right;font-size:125%;\">\n",
    ":עיבוד נתוני חלקות ביניים בתהליך"
   ]
  },
  {
   "cell_type": "markdown",
   "id": "456aa3e6-a3f5-4aab-b217-5a123e59a865",
   "metadata": {},
   "source": [
    "<h1 style=\"text-align:right;font-size:100%;\">\n",
    "חילוץ מספרים מלאים של חלקות בתהליך לצורך סינון בהמשך"
   ]
  },
  {
   "cell_type": "code",
   "execution_count": null,
   "id": "7ebfe841-90e9-4b88-8264-fba8df5ff925",
   "metadata": {
    "tags": []
   },
   "outputs": [],
   "source": [
    "Parcels_InProcess['ParcelNumber'] = Parcels_InProcess['ParcelNumber'].astype(int)\n",
    "Parcels_InProcess['ParcelName'] = Parcels_InProcess['ParcelNumber'].astype(str) + Parcels_InProcess['BlockName']\n",
    "not_middle = list(Parcels_InProcess['ParcelNumber'].astype(str) + '/' + Parcels_InProcess['BlockName'])\n",
    "\n",
    "Parcels_InProcess.drop(columns = ['BlockName', 'ParcelName'], inplace = True)"
   ]
  },
  {
   "cell_type": "markdown",
   "id": "03c24f86-8848-4ed7-b3fb-58e79cf76d44",
   "metadata": {},
   "source": [
    "<h1 style=\"text-align:right;font-size:100%;\">\n",
    "סינון חלקות שמתארות פעולת העברה\n",
    "<h1 style=\"text-align:right;font-size:100%;\">\n",
    "חילוץ מספר חלקה\n",
    "<h1 style=\"text-align:right;font-size:100%;\">\n",
    "הגדרת שדה של שם מפה\n",
    "<h1 style=\"text-align:right;font-size:100%;\">\n",
    "הגדרת שדה של מספר גוש מלא\n",
    "<h1 style=\"text-align:right;font-size:100%;\">\n",
    "הגדרת שדה של שם חלקה מלא בחלקות הביניים\n",
    "<h1 style=\"text-align:right;font-size:100%;\">\n",
    "סינון חלקות ביניים שהן אינן מופיעות בחלקות בתהליך\n",
    "<h1 style=\"text-align:right;font-size:100%;\">\n",
    "שינוי שם שדה של שטח רשום\n",
    "<h1 style=\"text-align:right;font-size:100%;\">\n",
    "הגדרת שדה של סוג חלקה \n",
    "<h1 style=\"text-align:right;font-size:100%;\">\n",
    "הגדרת שדה של מעמד חלקה (ביניים)\n",
    "<h1 style=\"text-align:right;font-size:100%;\">\n",
    "הסרת שדות שאינם רלונטיים יותר"
   ]
  },
  {
   "cell_type": "code",
   "execution_count": null,
   "id": "47408b96-026e-41bc-a79e-5c8a02256934",
   "metadata": {
    "tags": []
   },
   "outputs": [],
   "source": [
    "MiddleParcels = MiddleParcels[MiddleParcels['ACTION_TYPE'] != 'transfer']\n",
    "\n",
    "MiddleParcels['ParcelNumber'] = MiddleParcels['PARCEL_ID'].str.replace(r'\\D', '', regex = True)\n",
    "MiddleParcels['ParcelNumber'] = MiddleParcels['ParcelNumber'].astype(int)\n",
    "MiddleParcels['ParcelMode'] = MiddleParcels['PARCEL_ID'].str.get(0)\n",
    "\n",
    "MiddleParcels = assign_ProcessName(MiddleParcels, 'TALAR_NUM', 'TALAR_YEAR')\n",
    "MiddleParcels = assign_BlockName(MiddleParcels, 'GUSHNUM', 'GUSHSUFFIX', drop=False).rename(columns={'GUSHNUM':'BlockNumber', 'GUSHSUFFIX':'SubBlockNumber'})\n",
    "MiddleParcels['ParcelName'] = MiddleParcels['ParcelNumber'].astype(str) + '/' + MiddleParcels['BlockName']\n",
    "MiddleParcels = MiddleParcels[MiddleParcels['ParcelName'].notna()]\n",
    "MiddleParcels = MiddleParcels[~MiddleParcels['ParcelName'].isin(not_middle)]\n",
    "del not_middle\n",
    "\n",
    "MiddleParcels.rename(columns = {'PARCEL_AREA':'LegalArea'}, inplace = True)\n",
    "\n",
    "MiddleParcels['ParcelType'] = np.where(MiddleParcels['ParcelMode'] == 'T', 1, 2) #T == ארעית, אחרת סופית\n",
    "MiddleParcels['ParcelRole'] = 4 #ביניים\n",
    "\n",
    "MiddleParcels.drop(columns = ['PARCEL_ID','ACTION_TYPE', 'ParcelMode', 'ParcelName'], inplace = True)"
   ]
  },
  {
   "cell_type": "markdown",
   "id": "2876b4d5-108b-45ec-bdf1-20abe52a980c",
   "metadata": {},
   "source": [
    "<h1 style=\"text-align:right;font-size:100%;\">\n",
    "מיזוג חלקות ביניים עם תהליכי קדסטר לקבלת מזהה תהליך וסוג תהליך\n",
    "<h1 style=\"text-align:right;font-size:100%;\">\n",
    "מיזוג עם גושי קדסטר ולאחר מכן עם גושי שומא\n",
    "<h1 style=\"text-align:right;font-size:100%;\">\n",
    "הגדרת שדה סוג מקרקעין לפי סוג התהליך\n",
    "<h1 style=\"text-align:right;font-size:100%;\">\n",
    "הסרת שדות שאין בהם יותר צורך"
   ]
  },
  {
   "cell_type": "code",
   "execution_count": null,
   "id": "2558b7f8-c4a9-4ef6-98f8-453448d432b7",
   "metadata": {
    "tags": []
   },
   "outputs": [],
   "source": [
    "MiddleParcels = MiddleParcels.merge(cpb_layer, on = 'ProcessName', how = 'left')\\\n",
    "                             .rename(columns = {'ProcessGUID' : 'CPBUniqueID'})\n",
    "\n",
    "MiddleParcels = MiddleParcels.merge(cadaster_Blocks, on = 'BlockName', how = 'left')\\\n",
    "                             .merge(tax_Blocks, on = 'BlockName', how = 'left')\n",
    "\n",
    "MiddleParcels['BlockUniqueID'] = MiddleParcels['cadasterBlockUniqueID'].fillna(MiddleParcels['taxBlockUniqueID'])\n",
    "\n",
    "MiddleParcels['IsTax'] = MiddleParcels['IsTax'].fillna(0)\n",
    "\n",
    "MiddleParcels['LandType'] = np.where(MiddleParcels['ProcessType']==1, 1, 2)\n",
    "\n",
    "\n",
    "MiddleParcels.drop(columns = ['cadasterBlockUniqueID', 'taxBlockUniqueID', 'BlockName', 'ProcessName'], inplace = True)\n",
    "\n",
    "del [Blocks, cpb_layer, cadaster_Blocks, tax_Blocks]"
   ]
  },
  {
   "cell_type": "markdown",
   "id": "1e96623d-e7d3-40e6-801b-2bbe0bb56198",
   "metadata": {},
   "source": [
    "<h1 style=\"text-align:right;font-size:125%;\">\n",
    "הגדרות שדות של מספרים שלמלים כמספרים שלמים לשתי הטבלאות"
   ]
  },
  {
   "cell_type": "code",
   "execution_count": null,
   "id": "516acf22-ca92-4f9f-980b-8fd0b11457ed",
   "metadata": {
    "tags": []
   },
   "outputs": [],
   "source": [
    "int1_cols = ['ProcessType', 'ParcelRole', 'TEMP_ID', 'ParcelType', 'ParcelNumber', 'LandType', 'IsTax', 'BlockNumber', 'SubBlockNumber']\n",
    "int2_cols = ['ProcessType', 'ParcelRole', 'ParcelType', 'ParcelNumber', 'LandType', 'IsTax', 'BlockNumber', 'SubBlockNumber']\n",
    "\n",
    "Parcels_InProcess[int1_cols] = Parcels_InProcess[int1_cols].astype('Int64')\n",
    "MiddleParcels[int2_cols] = MiddleParcels[int2_cols].astype('Int64')\n",
    "\n",
    "del [int1_cols, int2_cols]"
   ]
  },
  {
   "cell_type": "markdown",
   "id": "1e8a293e-1fbf-486b-85f7-6b46b03f62e6",
   "metadata": {},
   "source": [
    "<h1 style=\"text-align:right; font-size:150%; color:#1c6ce6;\"> \n",
    "שמירת תוצאות 💾"
   ]
  },
  {
   "cell_type": "code",
   "execution_count": null,
   "id": "c78a49e3-7658-41bf-bf30-2a92e1cadbf3",
   "metadata": {},
   "outputs": [],
   "source": [
    "print('   Exporting results')"
   ]
  },
  {
   "cell_type": "code",
   "execution_count": null,
   "id": "8fb475c9-9d87-4f30-ad8e-4fdc4e16bc9c",
   "metadata": {},
   "outputs": [],
   "source": [
    "Parcels_InProcess.to_excel(CNFG.CSVPath + 'InProcessParcels2D_data_join.xlsx', index = False)\n",
    "\n",
    "MiddleParcels.to_excel(CNFG.CSVPath + 'InProcessParcels2D_data_append.xlsx', index = False)"
   ]
  },
  {
   "cell_type": "code",
   "execution_count": null,
   "id": "abd3f8cc-f008-45ac-aba2-7ffaf9f8356c",
   "metadata": {},
   "outputs": [],
   "source": [
    "subprocess.call([CNFG.BatchPath + \"Parcels2D In-Process-Save as Feature Class.bat\"]);"
   ]
  }
 ],
 "metadata": {
  "kernelspec": {
   "display_name": "Python 3 (ipykernel)",
   "language": "python",
   "name": "python3"
  },
  "language_info": {
   "codemirror_mode": {
    "name": "ipython",
    "version": 3
   },
   "file_extension": ".py",
   "mimetype": "text/x-python",
   "name": "python",
   "nbconvert_exporter": "python",
   "pygments_lexer": "ipython3",
   "version": "3.11.3"
  },
  "toc-autonumbering": false,
  "toc-showcode": false,
  "toc-showmarkdowntxt": true,
  "toc-showtags": true
 },
 "nbformat": 4,
 "nbformat_minor": 5
}
