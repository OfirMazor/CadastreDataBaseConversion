{
 "cells": [
  {
   "cell_type": "markdown",
   "id": "e5e1745e-9666-4332-9677-09726ce0a4d2",
   "metadata": {},
   "source": [
    "<h1 style=\"background-color: green;\n",
    "           font-family:segoe ui;\n",
    "                color:#FFF9ED;\n",
    "           font-size:300%;\n",
    "           text-align:center;\n",
    "           border-radius:10px 10px;\"> \n",
    "    🌐תהליך הסבת חלקות (דו-ממדיות) בשטח לא-מוסדר לבנק\"ל מודרני🌐"
   ]
  },
  {
   "cell_type": "code",
   "execution_count": null,
   "id": "199dd4c1-00a7-4312-9483-a5321e2b3d2b",
   "metadata": {},
   "outputs": [],
   "source": [
    "print('14. Unregistered Parcels Borders:')"
   ]
  },
  {
   "cell_type": "markdown",
   "id": "d4d3ddb0-c888-4aba-904c-916e53ae926b",
   "metadata": {},
   "source": [
    "<h1 style=\"text-align:right; font-size:150%; color:#1c6ce6;\">\n",
    "ספריות 📚"
   ]
  },
  {
   "cell_type": "code",
   "execution_count": null,
   "id": "5382a86d-8202-4337-aad3-2559c48211fa",
   "metadata": {
    "tags": [
     "Libraries"
    ]
   },
   "outputs": [],
   "source": [
    "import warnings\n",
    "warnings.filterwarnings('ignore')\n",
    "\n",
    "import numpy as np\n",
    "import datetime as dt\n",
    "import pandas as pd\n",
    "import geopandas as gpd\n",
    "import subprocess"
   ]
  },
  {
   "cell_type": "markdown",
   "id": "63df4355-bc19-4e5a-b8d7-4324cead6999",
   "metadata": {},
   "source": [
    "<h1 style=\"text-align:right; font-size:150%; color:#1c6ce6;\">קריאת נתונים 📑 "
   ]
  },
  {
   "cell_type": "code",
   "execution_count": null,
   "id": "7e5be94a-f963-405f-8976-0853936323fd",
   "metadata": {},
   "outputs": [],
   "source": [
    "RawData_Folder = r'\\\\mapi_shares\\MNCDB\\צוות מידע\\RawData/'\n",
    "\n",
    "today = dt.date.today()\n",
    "product_name = str(today.year) + str(today.month) + str(today.day) + '_ncdb.gdb'\n",
    "product_path = r'\\\\mapi_shares\\MNCDB\\צוות מידע\\תוצרים/' + product_name\n",
    "del [today, product_name]"
   ]
  },
  {
   "cell_type": "markdown",
   "id": "f964b138-136b-404a-b047-deb281f5a6b0",
   "metadata": {},
   "source": [
    "<h1 style=\"text-align:right;font-size:100%\">\n",
    "שכבת חלקות קיימת"
   ]
  },
  {
   "cell_type": "code",
   "execution_count": null,
   "id": "1975eefb-9ab8-47a4-8f33-c387d418fae6",
   "metadata": {},
   "outputs": [],
   "source": [
    "parcel_all_cols = ['Identifier', 'GUSH_NUM', 'GUSH_SUFFIX', 'PARCEL', 'STATUS', 'LEGAL_AREA', 'TALAR_NUMBER', 'TALAR_YEAR', 'geometry']\n",
    "\n",
    "parcel_all = gpd.read_file(RawData_Folder + 'ArcStorm\\PARCEL_ALL.gdb',\n",
    "                           layer          = 'PARCEL_ALL',\n",
    "                           include_fields = parcel_all_cols)\n",
    "\n",
    "parcel_all = parcel_all.to_crs(2039)\n",
    "\n",
    "del [parcel_all_cols]\n",
    "\n",
    "print('         input 1/3 read')"
   ]
  },
  {
   "cell_type": "markdown",
   "id": "278fc18b-3a47-4506-9115-7a5ef1d855fb",
   "metadata": {},
   "source": [
    "<h1 style=\"text-align:right;font-size:100%\">\n",
    "רשומות של תצ\"ר בשטח לא מוסדר משכבת גבולות תהליכי קדסטר"
   ]
  },
  {
   "cell_type": "code",
   "execution_count": null,
   "id": "99678c70-2378-49d2-90b1-638f70bff448",
   "metadata": {},
   "outputs": [],
   "source": [
    "cpb_cols = ['CPBUniqueID', 'ProcessName', 'ProcessType']\n",
    "\n",
    "cpb_layer = gpd.read_file(product_path,\n",
    "                          layer = 'CadasterProcessBorders',\n",
    "                          include_fields = cpb_cols,\n",
    "                          ignore_geometry = True)\n",
    "\n",
    "unreg_tazars = cpb_layer[cpb_layer['ProcessType'] == 11]\n",
    "\n",
    "\n",
    "del [cpb_cols, cpb_layer]\n",
    "\n",
    "print('         input 2/3 read')"
   ]
  },
  {
   "cell_type": "markdown",
   "id": "b7785d45-5e6c-4182-ab17-c0c941a2857d",
   "metadata": {},
   "source": [
    "<h1 style=\"text-align:right;font-size:100%\">\n",
    "שכבת גושי קדסטר מודרנית"
   ]
  },
  {
   "cell_type": "code",
   "execution_count": null,
   "id": "d71a0751-1b96-48d8-aed8-22c4e2af2d41",
   "metadata": {},
   "outputs": [],
   "source": [
    "Blocks_cols = ['BlockNumber', 'SubBlockNumber', 'BlockUniqueID']\n",
    "\n",
    "Blocks = gpd.read_file(product_path,\n",
    "                       layer = 'Blocks',\n",
    "                       include_fields = Blocks_cols,\n",
    "                       ignore_geometry = True)\n",
    "\n",
    "Blocks = Blocks.astype(int)\n",
    "\n",
    "\n",
    "del[Blocks_cols, RawData_Folder, product_path]\n",
    "\n",
    "print('         input 3/3 read')"
   ]
  },
  {
   "cell_type": "markdown",
   "id": "09473db5-584c-491d-b45d-757f61d15bb9",
   "metadata": {},
   "source": [
    "<h1 style=\"text-align:right; font-size:150%; color:#1c6ce6;\">\n",
    "עיבוד נתונים 🛠️"
   ]
  },
  {
   "cell_type": "code",
   "execution_count": null,
   "id": "5161daf0-1502-44c0-9732-8f484668b666",
   "metadata": {},
   "outputs": [],
   "source": [
    "print('  14.b Cleaning data')"
   ]
  },
  {
   "cell_type": "markdown",
   "id": "53455f31-d12a-4c57-aadc-0d2bc6e49b7e",
   "metadata": {},
   "source": [
    "<h1 style=\"text-align:right;font-size:100%\">\n",
    "הסרת חלקות שמספרן הוא 0 או ריק וחלקות שמספר הגוש שלהן הוא 0 או ריק"
   ]
  },
  {
   "cell_type": "code",
   "execution_count": null,
   "id": "be4bee6a-6973-4c0d-8454-87e817cbff8b",
   "metadata": {},
   "outputs": [],
   "source": [
    "parcel_all = parcel_all[(parcel_all['PARCEL'] != 0)\n",
    "                                    |\n",
    "                        (~parcel_all['PARCEL'].isna())\n",
    "                                    |\n",
    "                        (parcel_all['GUSH_NUM'] != 0)\n",
    "                                    |\n",
    "                       (~parcel_all['GUSH_NUM'].isna())]"
   ]
  },
  {
   "cell_type": "markdown",
   "id": "c377ddde-6db1-4537-b872-f5d723852138",
   "metadata": {},
   "source": [
    "<h1 style=\"text-align:right;font-size:100%\">\n",
    "סינון שכבת חלקות לחלקות לא מוסדרות לפי שדה של סטאטוס"
   ]
  },
  {
   "cell_type": "code",
   "execution_count": null,
   "id": "ee60e617-7340-425d-857a-7fa4ca0b6715",
   "metadata": {},
   "outputs": [],
   "source": [
    "registered_status = [1, 3, 6, 16]\n",
    "\n",
    "unreg_parcels = parcel_all[~parcel_all['STATUS'].isin(registered_status)]\n",
    "unreg_parcels.drop(columns = 'STATUS', inplace = True)\n",
    "\n",
    "del [registered_status, parcel_all]"
   ]
  },
  {
   "cell_type": "code",
   "execution_count": null,
   "id": "27b72db3-2838-4526-bff4-68ddccdd9cac",
   "metadata": {},
   "outputs": [],
   "source": [
    "print('  14.c Data conversion')"
   ]
  },
  {
   "cell_type": "markdown",
   "id": "c2563168-5b62-4d45-978b-7aaa5631b8c6",
   "metadata": {},
   "source": [
    "<h1 style=\"text-align:right;font-size:100%\">\n",
    "יצירת שדה של שם תהליך ואיחוד מידע עם שכבת תצ\"ר בשטח לא מוסדר"
   ]
  },
  {
   "cell_type": "code",
   "execution_count": null,
   "id": "de410080-d781-475b-b8ce-a60626820d54",
   "metadata": {},
   "outputs": [],
   "source": [
    "unreg_parcels[['TALAR_NUMBER', 'TALAR_YEAR']] = unreg_parcels[['TALAR_NUMBER', 'TALAR_YEAR']].fillna(0)\n",
    "unreg_parcels[['TALAR_NUMBER', 'TALAR_YEAR']] = unreg_parcels[['TALAR_NUMBER', 'TALAR_YEAR']].astype(int)\n",
    "\n",
    "unreg_parcels['ProcessName'] = unreg_parcels['TALAR_NUMBER'].astype(str) + '/' + unreg_parcels['TALAR_YEAR'].astype(str)\n",
    "unreg_parcels['ProcessName'] = unreg_parcels['ProcessName'].replace('0/0', np.nan)\n",
    "\n",
    "unreg_parcels.drop(columns=['TALAR_NUMBER', 'TALAR_YEAR'], inplace = True)\n",
    "\n",
    "unreg_parcels = unreg_parcels.merge(unreg_tazars, on = 'ProcessName', how = 'left')"
   ]
  },
  {
   "cell_type": "markdown",
   "id": "67938a8a-7f16-4ffb-85fa-88d924f8c88b",
   "metadata": {},
   "source": [
    "<h1 style=\"text-align:right;font-size:100%\">\n",
    "יצירת שדה של מספר גוש מלא ואיחוד מידע עם שכבת גושי קדסטר מודרנית"
   ]
  },
  {
   "cell_type": "code",
   "execution_count": null,
   "id": "02cc06f8-19c4-4fc9-ad75-bd90079eed49",
   "metadata": {},
   "outputs": [],
   "source": [
    "unreg_parcels[['GUSH_SUFFIX', 'GUSH_NUM']] = unreg_parcels[['GUSH_SUFFIX', 'GUSH_NUM']].fillna(0)\n",
    "unreg_parcels[['GUSH_SUFFIX', 'GUSH_NUM']] = unreg_parcels[['GUSH_SUFFIX', 'GUSH_NUM']].astype(int)\n",
    "unreg_parcels['BlockName'] = unreg_parcels['GUSH_NUM'].astype(str) + '_' + unreg_parcels['GUSH_SUFFIX'].astype(str)\n",
    "\n",
    "Blocks['BlockName'] = Blocks['BlockNumber'].astype(str) + '_' + Blocks['SubBlockNumber'].astype(str)\n",
    "\n",
    "unreg_parcels = unreg_parcels.merge(Blocks, on = 'BlockName', how = 'left')\n",
    "unreg_parcels['BlockUniqueID'] = unreg_parcels['BlockUniqueID'].astype('Int64')\n",
    "\n",
    "unreg_parcels.drop(columns=['GUSH_NUM', 'GUSH_SUFFIX', 'BlockName', 'BlockNumber', 'SubBlockNumber'], inplace = True)"
   ]
  },
  {
   "cell_type": "markdown",
   "id": "983b0cf2-614a-4f07-82d3-98c12cf1942e",
   "metadata": {},
   "source": [
    "<h1 style=\"text-align:right;font-size:100%\">\n",
    "הגדרת שדה של תהליך יוצר לפי תצ\"ר בשטח לא מוסדר (4)\n",
    "<h1 style=\"text-align:right;font-size:100%\">\n",
    "במקרים לא ידועים, התהליך היוצר הינו הסדר מקרקעין (1)"
   ]
  },
  {
   "cell_type": "code",
   "execution_count": null,
   "id": "00693c06-8787-494c-9d3d-e36f719421de",
   "metadata": {},
   "outputs": [],
   "source": [
    "unreg_parcels['CreateProcessType'] = unreg_parcels['ProcessType'].replace(11, 4)\n",
    "\n",
    "unreg_parcels['CreateProcessType'] = unreg_parcels['CreateProcessType'].fillna(1)"
   ]
  },
  {
   "cell_type": "markdown",
   "id": "aaefd30e-3fdc-4880-93ae-fcf62753ebcf",
   "metadata": {},
   "source": [
    "<h1 style=\"text-align:right; font-size:150%; color:#1c6ce6;\"> \n",
    "יצירת שכבה חדשה בהתאם לאפיון ✨"
   ]
  },
  {
   "cell_type": "code",
   "execution_count": null,
   "id": "5cbc8515-b352-4b9d-b85a-635600b67d0e",
   "metadata": {},
   "outputs": [],
   "source": [
    "print('  14.d Defining new Layer')"
   ]
  },
  {
   "cell_type": "code",
   "execution_count": null,
   "id": "73f49b7b-bcdf-4c40-be31-f17ad77472fa",
   "metadata": {},
   "outputs": [],
   "source": [
    "new_columns = np.dtype([\n",
    "                        (\"ParcelUniqueID\", int),\n",
    "                        (\"BlockUniqueID\", int),\n",
    "                        (\"ParcelNumber\", int),\n",
    "                        (\"ParcelType\", int),\n",
    "                        (\"CreateProcessType\", str),\n",
    "                        (\"LegalArea\", int),\n",
    "                        (\"LandDesignationPlan\", int),\n",
    "                        (\"CPBUniqueCreateProcessID\", int),\n",
    "                        (\"CPBUniqueUpdateProcessID\", int),\n",
    "                        (\"CPBUniqueCancelProcessID\", int),\n",
    "                        (\"geometry\", gpd.array.GeometryDtype)\n",
    "                        ])\n",
    "\n",
    "\n",
    "UnregisteredParcels2D = gpd.GeoDataFrame(np.empty(0, dtype=new_columns),\n",
    "                                         geometry = 'geometry',\n",
    "                                         crs = 2039)\n",
    "\n",
    "del new_columns"
   ]
  },
  {
   "cell_type": "code",
   "execution_count": null,
   "id": "633c1063-ce56-4d44-b7c7-8d4169bc753f",
   "metadata": {},
   "outputs": [],
   "source": [
    "UnregisteredParcels2D['ParcelUniqueID'] = unreg_parcels['Identifier'] + 5000000\n",
    "UnregisteredParcels2D['ParcelUniqueID'] = unreg_parcels['Identifier'].astype(int)\n",
    "\n",
    "UnregisteredParcels2D['BlockUniqueID'] = unreg_parcels['BlockUniqueID'].astype('Int64')\n",
    "\n",
    "UnregisteredParcels2D['ParcelNumber'] = unreg_parcels['PARCEL'].astype(int)\n",
    "\n",
    "UnregisteredParcels2D['ParcelType'] = 1 # ארעית\n",
    "\n",
    "UnregisteredParcels2D['CreateProcessType'] = unreg_parcels['CreateProcessType'].astype(int)\n",
    "\n",
    "UnregisteredParcels2D['LegalArea'] = unreg_parcels['LEGAL_AREA'] * 1000\n",
    "UnregisteredParcels2D['LegalArea'] = unreg_parcels['LEGAL_AREA'].astype(float)\n",
    "\n",
    "UnregisteredParcels2D['LandDesignationPlan'] = None\n",
    "\n",
    "UnregisteredParcels2D['CPBUniqueCreateProcessID'] = unreg_parcels['CPBUniqueID'].fillna(0)\n",
    "UnregisteredParcels2D['CPBUniqueCreateProcessID'] = UnregisteredParcels2D['CPBUniqueCreateProcessID'].astype('Int64')\n",
    "\n",
    "UnregisteredParcels2D['CPBUniqueUpdateProcessID'] = 0\n",
    "\n",
    "UnregisteredParcels2D['CPBUniqueCancelProcessID'] = 0\n",
    "\n",
    "UnregisteredParcels2D['geometry'] = unreg_parcels['geometry']"
   ]
  },
  {
   "cell_type": "code",
   "execution_count": null,
   "id": "5c9d1aae-acf0-46a5-bb30-d2cdce899875",
   "metadata": {},
   "outputs": [],
   "source": [
    "UnregisteredParcels2D.sort_values('ParcelUniqueID', inplace=True)"
   ]
  },
  {
   "cell_type": "markdown",
   "id": "5613d9bc-eb7c-4ab4-90e1-ebb9e4421590",
   "metadata": {},
   "source": [
    "<h1 style=\"text-align:right; font-size:150%; color:#1c6ce6;\"> \n",
    "שמירת תוצאות 💾\n",
    "<h1 style=\"text-align:right; font-size:100%;\"> \n",
    "<h1 style=\"text-align:right; font-size:100%;\"> \n",
    "בחירת נתיב\n",
    "<h1 style=\"text-align:right; font-size:100%;\"> \n",
    "שמירה כטבלה\n",
    "<h1 style=\"text-align:right; font-size:100%;\"> \n",
    "שמירה כשכבה גיאוגרפית"
   ]
  },
  {
   "cell_type": "code",
   "execution_count": null,
   "id": "ea243c41-ffbc-425b-9208-132e3d424f54",
   "metadata": {},
   "outputs": [],
   "source": [
    "print('  14.e Exporting results to product folder')"
   ]
  },
  {
   "cell_type": "code",
   "execution_count": null,
   "id": "652fa929-17c3-4401-ba0c-ee3f66f79989",
   "metadata": {},
   "outputs": [],
   "source": [
    "#csv_dir  = r'\\\\mapi_shares\\MNCDB\\צוות מידע\\תוצרים\\csv\\UnregisteredParcels2D.csv'\n",
    "json_dir =  r'\\\\mapi_shares\\MNCDB\\צוות מידע\\תוצרים\\json\\UnregisteredParcels2D.geojson'\n",
    "\n",
    "\n",
    "#UnregisteredParcels2D.drop(columns='geometry').to_csv(csv_dir ,encoding='cp1255', index=False)\n",
    "UnregisteredParcels2D.to_file(json_dir, driver = 'GeoJSON')"
   ]
  },
  {
   "cell_type": "code",
   "execution_count": null,
   "id": "8177b0e2-a1c6-4814-8b24-f12fdb757b8a",
   "metadata": {},
   "outputs": [],
   "source": [
    "subprocess.call([r\"M:\\ncdbScripts\\scripts\\arcpyPro\\UnregisteredParcels2D-Save as Feature Class.bat\"]);"
   ]
  }
 ],
 "metadata": {
  "kernelspec": {
   "display_name": "Python 3",
   "language": "python",
   "name": "python3"
  },
  "language_info": {
   "codemirror_mode": {
    "name": "ipython",
    "version": 3
   },
   "file_extension": ".py",
   "mimetype": "text/x-python",
   "name": "python",
   "nbconvert_exporter": "python",
   "pygments_lexer": "ipython3",
   "version": "3.9.4"
  }
 },
 "nbformat": 4,
 "nbformat_minor": 5
}
