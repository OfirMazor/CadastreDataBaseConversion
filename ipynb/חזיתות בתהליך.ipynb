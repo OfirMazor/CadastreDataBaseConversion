{
 "cells": [
  {
   "cell_type": "markdown",
   "id": "14ee86a2-05be-4dd0-839e-0baf3810363d",
   "metadata": {},
   "source": [
    "<h1 style=\"background-color:#FF7733;\n",
    "           font-family:segoe ui;\n",
    "                color:#FFF9ED;\n",
    "           font-size:300%;\n",
    "           text-align:center;\n",
    "           border-radius:10px 10px;\"> \n",
    "📐 תהליך הסבת שכבת חזיתות בתהליך לבנק\"ל מודרני 📐 "
   ]
  },
  {
   "cell_type": "code",
   "execution_count": null,
   "id": "c6eefbf6-f225-4aeb-94f3-697b7c93632c",
   "metadata": {},
   "outputs": [],
   "source": [
    "print('13. Fronts In-Process:')"
   ]
  },
  {
   "cell_type": "markdown",
   "id": "f8107f39-08d1-46c9-a080-1b9b874ccddd",
   "metadata": {},
   "source": [
    "<h1 style=\"text-align:right; font-size:150%; color:#1c6ce6;\">\n",
    "ספריות 📚"
   ]
  },
  {
   "cell_type": "code",
   "execution_count": null,
   "id": "f32bbd84-ea5b-408b-b70b-6eab97efc34c",
   "metadata": {},
   "outputs": [],
   "source": [
    "import warnings\n",
    "warnings.filterwarnings('ignore')\n",
    "\n",
    "import numpy as np\n",
    "import pandas as pd\n",
    "import geopandas as gpd\n",
    "import subprocess"
   ]
  },
  {
   "cell_type": "code",
   "execution_count": null,
   "id": "2be5761c-d6da-4424-b646-5e462cf279e1",
   "metadata": {},
   "outputs": [],
   "source": [
    "print('  13.a Reading inputs')"
   ]
  },
  {
   "cell_type": "markdown",
   "id": "4ead183d-f24a-47f0-b620-9b4fba11d080",
   "metadata": {},
   "source": [
    "<h1 style=\"text-align:right; font-size:150%; color:#1c6ce6;\">קריאת נתונים 📑 "
   ]
  },
  {
   "cell_type": "code",
   "execution_count": null,
   "id": "40bdae4c-235c-4890-b9b2-6dae3c46426a",
   "metadata": {},
   "outputs": [],
   "source": [
    "RawData_folder = r\"\\\\mapi_shares\\MNCDB\\צוות מידע\\RawData\""
   ]
  },
  {
   "cell_type": "markdown",
   "id": "bca5405f-e638-467c-96a7-8394ff02109d",
   "metadata": {},
   "source": [
    "<h1 style=\"text-align:right;font-size:100%\">\n",
    "שכבת חזיתות בתהליך קיימת"
   ]
  },
  {
   "cell_type": "code",
   "execution_count": null,
   "id": "85092844-51d8-4afd-a8f3-e2933facd2d5",
   "metadata": {},
   "outputs": [],
   "source": [
    "fronts_inprocess_cols = ['FRONT_LEGAL_LENGTH', 'CUR_RADIUS', 'ENTITY_STATE', 'geometry']\n",
    "\n",
    "fronts_inprocess = gpd.read_file(RawData_folder + '\\CADSDE\\Lines_InProcess.gdb',\n",
    "                                 layer = 'Lines_InProcess',\n",
    "                                 include_fields = fronts_inprocess_cols)\n",
    "\n",
    "del fronts_inprocess_cols"
   ]
  },
  {
   "cell_type": "markdown",
   "id": "e730b794-cf0c-4e86-b5ea-9c2171521095",
   "metadata": {},
   "source": [
    "<h1 style=\"text-align:right; font-size:150%; color:#1c6ce6;\">\n",
    "עיבוד נתונים 🛠️"
   ]
  },
  {
   "cell_type": "code",
   "execution_count": null,
   "id": "cbb9ffff-4419-4594-8455-4a4dd83fd34e",
   "metadata": {},
   "outputs": [],
   "source": [
    "print('  13.b Cleaning data')"
   ]
  },
  {
   "cell_type": "code",
   "execution_count": null,
   "id": "c8cdcf56-93e2-4d16-8c72-1aa1b806be8d",
   "metadata": {},
   "outputs": [],
   "source": [
    "print('  13.c Data conversion')"
   ]
  },
  {
   "cell_type": "code",
   "execution_count": null,
   "id": "5dc88d61-58fc-4e9b-8fd3-eb76bbcff495",
   "metadata": {},
   "outputs": [],
   "source": [
    "LegalLength_condition = (fronts_inprocess['FRONT_LEGAL_LENGTH'].isnull()\n",
    "                                             |\n",
    "                         fronts_inprocess['FRONT_LEGAL_LENGTH'] == 0)\n",
    "\n",
    "fronts_inprocess['LegalLength'] = np.where(LegalLength_condition,\n",
    "                                           np.nan,\n",
    "                                           fronts_inprocess['FRONT_LEGAL_LENGTH'])\n",
    "\n",
    "\n",
    "fronts_inprocess.drop(columns='FRONT_LEGAL_LENGTH', inplace=True)"
   ]
  },
  {
   "cell_type": "code",
   "execution_count": null,
   "id": "659ebe32-7444-4276-96ed-a664d0964aa4",
   "metadata": {},
   "outputs": [],
   "source": [
    "Radius_condition = (fronts_inprocess['CUR_RADIUS'].isnull()\n",
    "                                    |\n",
    "                    fronts_inprocess['CUR_RADIUS'] == 0)\n",
    "\n",
    "fronts_inprocess['Radius']  = np.where(Radius_condition,\n",
    "                                       0,\n",
    "                                       fronts_inprocess['CUR_RADIUS'])"
   ]
  },
  {
   "cell_type": "code",
   "execution_count": null,
   "id": "9a238523-d50b-4409-9a5b-a6c349ab9afd",
   "metadata": {},
   "outputs": [],
   "source": [
    "fronts_inprocess['LineType'] = np.where(Radius_condition,\n",
    "                                         1,\n",
    "                                         2)\n",
    "\n",
    "\n",
    "fronts_inprocess.drop(columns='CUR_RADIUS', inplace=True)\n",
    "del [LegalLength_condition, Radius_condition]"
   ]
  },
  {
   "cell_type": "code",
   "execution_count": null,
   "id": "b14c7adc-0465-4372-af0a-d54b3b18342c",
   "metadata": {},
   "outputs": [],
   "source": [
    "fronts_inprocess['LineStatus'] = np.nan\n",
    "fronts_inprocess.loc[fronts_inprocess['ENTITY_STATE'] == 0, 'LineStatus'] = 1\n",
    "fronts_inprocess.loc[fronts_inprocess['ENTITY_STATE'] == 1, 'LineStatus'] = 2\n",
    "\n",
    "fronts_inprocess.drop(columns='ENTITY_STATE', inplace=True)"
   ]
  },
  {
   "cell_type": "code",
   "execution_count": null,
   "id": "3d06053b-1d94-4fd5-afc4-bca1530a27d8",
   "metadata": {},
   "outputs": [],
   "source": [
    "fronts_inprocess['FrontUniqueID'] = range(1, 1 + len(fronts_inprocess))\n",
    "\n",
    "\n",
    "fronts_inprocess['StartPointUniqueID'] = 0\n",
    "\n",
    "\n",
    "fronts_inprocess['EndPointUniqueID'] = 0\n",
    "\n",
    "\n",
    "fronts_inprocess['LeftParcelUniqueID'] = 0\n",
    "\n",
    "\n",
    "fronts_inprocess['RightParcelUniqueID'] = 0"
   ]
  },
  {
   "cell_type": "markdown",
   "id": "008b5b22-2bea-4842-a6e4-4d8a34684b32",
   "metadata": {},
   "source": [
    "<h1 style=\"text-align:right; font-size:150%; color:#1c6ce6;\"> \n",
    "יצירת שכבה חדשה בהתאם לאפיון ✨"
   ]
  },
  {
   "cell_type": "code",
   "execution_count": null,
   "id": "437d08ef-2c53-4a3b-b983-6bc9dc0dd40e",
   "metadata": {},
   "outputs": [],
   "source": [
    " print('  13.d Defining new Layer')"
   ]
  },
  {
   "cell_type": "code",
   "execution_count": null,
   "id": "3282185a-8f72-4bfa-a943-d40d99e3bc08",
   "metadata": {},
   "outputs": [],
   "source": [
    "fronts_inprocess = fronts_inprocess.astype({'FrontUniqueID'       : int,\n",
    "                                            'LineType'            : int,\n",
    "                                            'LineStatus'          : 'Int64',\n",
    "                                            'Radius'              : float,\n",
    "                                            'LegalLength'         : float,\n",
    "                                            'StartPointUniqueID'  : int,\n",
    "                                            'EndPointUniqueID'    : int,\n",
    "                                            'LeftParcelUniqueID'  : int,\n",
    "                                            'RightParcelUniqueID' : int,\n",
    "                                            'geometry'            : 'geometry'})"
   ]
  },
  {
   "cell_type": "markdown",
   "id": "b977339d-ef5a-4b7e-9dde-e065cf8b3ee8",
   "metadata": {},
   "source": [
    "<h1 style=\"text-align:right; font-size:150%; color:#1c6ce6;\"> \n",
    "שמירת תוצאות 💾\n",
    "<h1 style=\"text-align:right; font-size:100%;\"> \n",
    "<h1 style=\"text-align:right; font-size:100%;\"> \n",
    "בחירת נתיב\n",
    "<h1 style=\"text-align:right; font-size:100%;\"> \n",
    "שמירה כטבלה\n",
    "<h1 style=\"text-align:right; font-size:100%;\"> \n",
    "שמירה כשכבה גיאוגרפית"
   ]
  },
  {
   "cell_type": "code",
   "execution_count": null,
   "id": "24343bc5-4605-43f7-bbb5-51dc5a368481",
   "metadata": {},
   "outputs": [],
   "source": [
    "print('  13.e Exporting results to product folder')"
   ]
  },
  {
   "cell_type": "code",
   "execution_count": null,
   "id": "5310e184-e6d4-4481-a7f8-73d5f4cda21b",
   "metadata": {},
   "outputs": [],
   "source": [
    "#csv_dir = r'\\\\mapi_shares\\MNCDB\\צוות מידע\\תוצרים\\csv\\FrontsInProcess.csv'\n",
    "json_dir = r'\\\\mapi_shares\\MNCDB\\צוות מידע\\תוצרים\\json\\InProcessFronts.geojson'\n",
    "\n",
    "\n",
    "#fronts_inprocess.drop(columns='geometry').to_csv(csv_dir ,encoding='utf8', index=False)\n",
    "fronts_inprocess.to_file(json_dir, driver = 'GeoJSON')"
   ]
  },
  {
   "cell_type": "code",
   "execution_count": null,
   "id": "cdf8f390-c817-4335-b109-e73100e9ee53",
   "metadata": {},
   "outputs": [],
   "source": [
    "subprocess.call([r\"M:\\ncdbScripts\\scripts\\arcpyPro\\Fronts In-Process-Save as Feature Class.bat\"]);"
   ]
  }
 ],
 "metadata": {
  "kernelspec": {
   "display_name": "Python 3",
   "language": "python",
   "name": "python3"
  },
  "language_info": {
   "codemirror_mode": {
    "name": "ipython",
    "version": 3
   },
   "file_extension": ".py",
   "mimetype": "text/x-python",
   "name": "python",
   "nbconvert_exporter": "python",
   "pygments_lexer": "ipython3",
   "version": "3.9.4"
  }
 },
 "nbformat": 4,
 "nbformat_minor": 5
}
