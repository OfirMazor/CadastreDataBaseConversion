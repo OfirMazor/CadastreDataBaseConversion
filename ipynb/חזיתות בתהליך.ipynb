{
 "cells": [
  {
   "cell_type": "markdown",
   "id": "14ee86a2-05be-4dd0-839e-0baf3810363d",
   "metadata": {},
   "source": [
    "<h1 style=\"background-color:#FF7733;\n",
    "           font-family:segoe ui;\n",
    "                color:#FFF9ED;\n",
    "           font-size:300%;\n",
    "           text-align:center;\n",
    "           border-radius:10px 10px;\"> \n",
    "📐 תהליך הסבת שכבת חזיתות בתהליך לבנק\"ל מודרני 📐 "
   ]
  },
  {
   "cell_type": "code",
   "execution_count": null,
   "id": "c6eefbf6-f225-4aeb-94f3-697b7c93632c",
   "metadata": {},
   "outputs": [],
   "source": [
    "print('13. Fronts In-Process:')"
   ]
  },
  {
   "cell_type": "markdown",
   "id": "f8107f39-08d1-46c9-a080-1b9b874ccddd",
   "metadata": {},
   "source": [
    "<h1 style=\"text-align:right; font-size:150%; color:#1c6ce6;\">\n",
    "ספריות 📚"
   ]
  },
  {
   "cell_type": "code",
   "execution_count": null,
   "id": "f32bbd84-ea5b-408b-b70b-6eab97efc34c",
   "metadata": {},
   "outputs": [],
   "source": [
    "import warnings\n",
    "warnings.filterwarnings('ignore')\n",
    "\n",
    "import numpy as np\n",
    "import pandas as pd\n",
    "import geopandas as gpd\n",
    "import subprocess"
   ]
  },
  {
   "cell_type": "code",
   "execution_count": null,
   "id": "2be5761c-d6da-4424-b646-5e462cf279e1",
   "metadata": {},
   "outputs": [],
   "source": [
    "print('  13.a Reading inputs')"
   ]
  },
  {
   "cell_type": "markdown",
   "id": "4ead183d-f24a-47f0-b620-9b4fba11d080",
   "metadata": {},
   "source": [
    "<h1 style=\"text-align:right; font-size:150%; color:#1c6ce6;\">קריאת נתונים 📑 "
   ]
  },
  {
   "cell_type": "code",
   "execution_count": null,
   "id": "40bdae4c-235c-4890-b9b2-6dae3c46426a",
   "metadata": {},
   "outputs": [],
   "source": [
    "Results_gdb = r\"\\\\mapi_shares\\MNCDB\\צוות מידע\\תוצרים\\Results.gdb\""
   ]
  },
  {
   "cell_type": "markdown",
   "id": "ccd80047-af13-4733-b10d-e7f3bc352c82",
   "metadata": {},
   "source": [
    "<h1 style=\"text-align:right;font-size:100%\">\n",
    "כדי לשחזר גיאומטריה מקורית בסיום הסבה (TEMP_ID) הוספת שדה של מספר מזהה זמני לחלקות בתהליך"
   ]
  },
  {
   "cell_type": "code",
   "execution_count": null,
   "id": "09cb5628-31a2-46d4-875a-d5195ba06486",
   "metadata": {},
   "outputs": [],
   "source": [
    "subprocess.call([r\"M:\\ncdbScripts\\scripts\\arcpyPro\\Fronts_InProcessp-pre_calc.bat\"]);"
   ]
  },
  {
   "cell_type": "markdown",
   "id": "bca5405f-e638-467c-96a7-8394ff02109d",
   "metadata": {},
   "source": [
    "<h1 style=\"text-align:right;font-size:100%\">\n",
    "שכבת חזיתות בתהליך קיימת"
   ]
  },
  {
   "cell_type": "code",
   "execution_count": null,
   "id": "85092844-51d8-4afd-a8f3-e2933facd2d5",
   "metadata": {},
   "outputs": [],
   "source": [
    "fronts_inprocess_cols = ['TEMP_ID', 'FRONT_LEGAL_LENGTH', 'CUR_RADIUS', 'ENTITY_STATE']\n",
    "\n",
    "fronts_inprocess = gpd.read_file(Results_gdb,\n",
    "                                 layer = 'CADSDE_Lines_InProcess',\n",
    "                                 include_fields = fronts_inprocess_cols,\n",
    "                                 ignore_geometry = True)\n",
    "\n",
    "del fronts_inprocess_cols"
   ]
  },
  {
   "cell_type": "markdown",
   "id": "e730b794-cf0c-4e86-b5ea-9c2171521095",
   "metadata": {},
   "source": [
    "<h1 style=\"text-align:right; font-size:150%; color:#1c6ce6;\">\n",
    "עיבוד נתונים 🛠️"
   ]
  },
  {
   "cell_type": "code",
   "execution_count": null,
   "id": "cbb9ffff-4419-4594-8455-4a4dd83fd34e",
   "metadata": {},
   "outputs": [],
   "source": [
    "print('  13.b Cleaning data')"
   ]
  },
  {
   "cell_type": "code",
   "execution_count": null,
   "id": "c8cdcf56-93e2-4d16-8c72-1aa1b806be8d",
   "metadata": {},
   "outputs": [],
   "source": [
    "print('  13.c Data conversion')"
   ]
  },
  {
   "cell_type": "markdown",
   "id": "d7d1042c-714a-4232-af43-2415536be977",
   "metadata": {},
   "source": [
    "<h1 style=\"text-align:right;font-size:100%\">\n",
    "חזיתות בעלות שטח רשום ריק יקבלו את הערך 0\n",
    "<h1 style=\"text-align:right;font-size:100%\">\n",
    " חזיתות בעלות רדיוס ריק יקבלו את הערך 0"
   ]
  },
  {
   "cell_type": "code",
   "execution_count": null,
   "id": "c21d55c8-14d0-44b4-b5df-d0dc7ad129af",
   "metadata": {},
   "outputs": [],
   "source": [
    "fronts_inprocess['FRONT_LEGAL_LENGTH'] = fronts_inprocess['FRONT_LEGAL_LENGTH'].fillna(0.0)\n",
    "fronts_inprocess['CUR_RADIUS'] = fronts_inprocess['CUR_RADIUS'].fillna(0.0)\n",
    "\n",
    "\n",
    "fronts_inprocess.rename(columns = {'FRONT_LEGAL_LENGTH' : 'LegalLength',\n",
    "                                   'CUR_RADIUS'         : 'Radius'},\n",
    "                        inplace=True)"
   ]
  },
  {
   "cell_type": "markdown",
   "id": "d59a1b7f-291f-4b7d-a0e1-4f674acba1cc",
   "metadata": {},
   "source": [
    "<h1 style=\"text-align:right;font-size:100%\">\n",
    "סוג החזית יקבע לפי קיום של רדיוס"
   ]
  },
  {
   "cell_type": "code",
   "execution_count": null,
   "id": "9a238523-d50b-4409-9a5b-a6c349ab9afd",
   "metadata": {},
   "outputs": [],
   "source": [
    "fronts_inprocess['LineType'] = np.where(fronts_inprocess['Radius'] == 0.0, 1, 2)"
   ]
  },
  {
   "cell_type": "markdown",
   "id": "063ac6d4-36f9-446e-a93b-e8c29548a199",
   "metadata": {},
   "source": [
    "<h1 style=\"text-align:right;font-size:100%\">\n",
    "ENTITY_STATE סטאטוס החזית תקבע לפי שדה"
   ]
  },
  {
   "cell_type": "code",
   "execution_count": null,
   "id": "b14c7adc-0465-4372-af0a-d54b3b18342c",
   "metadata": {},
   "outputs": [],
   "source": [
    "fronts_inprocess['LineStatus'] = np.nan\n",
    "fronts_inprocess.loc[fronts_inprocess['ENTITY_STATE'] == 0, 'LineStatus'] = 1\n",
    "fronts_inprocess.loc[fronts_inprocess['ENTITY_STATE'] == 1, 'LineStatus'] = 2\n",
    "\n",
    "fronts_inprocess.drop(columns='ENTITY_STATE', inplace=True)"
   ]
  },
  {
   "cell_type": "code",
   "execution_count": null,
   "id": "3d06053b-1d94-4fd5-afc4-bca1530a27d8",
   "metadata": {},
   "outputs": [],
   "source": [
    "fronts_inprocess['FrontUniqueID'] = range(1, 1 + len(fronts_inprocess))\n",
    "\n",
    "\n",
    "fronts_inprocess['StartPointUniqueID'] = 0\n",
    "\n",
    "\n",
    "fronts_inprocess['EndPointUniqueID'] = 0\n",
    "\n",
    "\n",
    "fronts_inprocess['LeftParcelUniqueID'] = 0\n",
    "\n",
    "\n",
    "fronts_inprocess['RightParcelUniqueID'] = 0"
   ]
  },
  {
   "cell_type": "markdown",
   "id": "008b5b22-2bea-4842-a6e4-4d8a34684b32",
   "metadata": {},
   "source": [
    "<h1 style=\"text-align:right; font-size:150%; color:#1c6ce6;\"> \n",
    "יצירת שכבה חדשה בהתאם לאפיון ✨"
   ]
  },
  {
   "cell_type": "code",
   "execution_count": null,
   "id": "437d08ef-2c53-4a3b-b983-6bc9dc0dd40e",
   "metadata": {},
   "outputs": [],
   "source": [
    " print('  13.d Defining new Layer')"
   ]
  },
  {
   "cell_type": "markdown",
   "id": "670ba4ee-fd77-4eed-a90c-49b55ac0e156",
   "metadata": {},
   "source": [
    "<h1 style=\"text-align:right;font-size:100%\">\n",
    "הגדרת סוגי שדות נתונים"
   ]
  },
  {
   "cell_type": "code",
   "execution_count": null,
   "id": "3282185a-8f72-4bfa-a943-d40d99e3bc08",
   "metadata": {},
   "outputs": [],
   "source": [
    "fronts_inprocess = fronts_inprocess.astype({'FrontUniqueID'       : int,\n",
    "                                            'LineType'            : int,\n",
    "                                            'LineStatus'          : 'Int64',\n",
    "                                            'Radius'              : float,\n",
    "                                            'LegalLength'         : float,\n",
    "                                            'StartPointUniqueID'  : int,\n",
    "                                            'EndPointUniqueID'    : int,\n",
    "                                            'LeftParcelUniqueID'  : int,\n",
    "                                            'RightParcelUniqueID' : int,\n",
    "                                            'TEMP_ID'             : int})"
   ]
  },
  {
   "cell_type": "markdown",
   "id": "b977339d-ef5a-4b7e-9dde-e065cf8b3ee8",
   "metadata": {},
   "source": [
    "<h1 style=\"text-align:right; font-size:150%; color:#1c6ce6;\"> \n",
    "שמירת תוצאות 💾\n",
    "<h1 style=\"text-align:right; font-size:100%;\"> \n",
    "<h1 style=\"text-align:right; font-size:100%;\"> \n",
    "בחירת נתיב\n",
    "<h1 style=\"text-align:right; font-size:100%;\"> \n",
    "שמירה כטבלה\n",
    "<h1 style=\"text-align:right; font-size:100%;\"> \n",
    "שמירה כשכבה גיאוגרפית"
   ]
  },
  {
   "cell_type": "code",
   "execution_count": null,
   "id": "24343bc5-4605-43f7-bbb5-51dc5a368481",
   "metadata": {},
   "outputs": [],
   "source": [
    "print('  13.e Exporting results to product folder')"
   ]
  },
  {
   "cell_type": "code",
   "execution_count": null,
   "id": "5310e184-e6d4-4481-a7f8-73d5f4cda21b",
   "metadata": {},
   "outputs": [],
   "source": [
    "csv_dir = r'\\\\mapi_shares\\MNCDB\\צוות מידע\\תוצרים\\csv\\InProcessFronts_data.csv'\n",
    "\n",
    "fronts_inprocess.to_csv(csv_dir, index=False)"
   ]
  },
  {
   "cell_type": "code",
   "execution_count": null,
   "id": "cdf8f390-c817-4335-b109-e73100e9ee53",
   "metadata": {},
   "outputs": [],
   "source": [
    "subprocess.call([r\"M:\\ncdbScripts\\scripts\\arcpyPro\\Fronts In-Process-Save as Feature Class.bat\"]);"
   ]
  }
 ],
 "metadata": {
  "kernelspec": {
   "display_name": "Python 3",
   "language": "python",
   "name": "python3"
  },
  "language_info": {
   "codemirror_mode": {
    "name": "ipython",
    "version": 3
   },
   "file_extension": ".py",
   "mimetype": "text/x-python",
   "name": "python",
   "nbconvert_exporter": "python",
   "pygments_lexer": "ipython3",
   "version": "3.9.4"
  }
 },
 "nbformat": 4,
 "nbformat_minor": 5
}
