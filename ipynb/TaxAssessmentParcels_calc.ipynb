{
 "cells": [
  {
   "cell_type": "markdown",
   "id": "6fe34da5-072e-43f1-9ed0-b940147db092",
   "metadata": {},
   "source": [
    "<h1 style=\"background-color:green;\n",
    "           font-family:segoe ui;\n",
    "                color:#FFF9ED;\n",
    "           font-size:300%;\n",
    "           text-align:center;\n",
    "           border-radius:10px 10px;\"> \n",
    "    🌐 תהליך הסבת חלקות שומא לבנק\"ל מודרני 🌐"
   ]
  },
  {
   "cell_type": "code",
   "execution_count": null,
   "id": "2aab78bd-07b5-4e9a-b083-4757b2be8cf8",
   "metadata": {},
   "outputs": [],
   "source": [
    "print('3. Tax Assessment Parcels:')"
   ]
  },
  {
   "cell_type": "markdown",
   "id": "05d1e0fb-ed58-4183-98b7-5db22cb3c0f1",
   "metadata": {},
   "source": [
    "<h1 style=\"text-align:right; font-size:150%; color:#1c6ce6;\">\n",
    "ספריות 📚"
   ]
  },
  {
   "cell_type": "code",
   "execution_count": null,
   "id": "fe51a453-9fe4-4eaa-9b39-f7884f4d5895",
   "metadata": {
    "tags": [
     "Libraries"
    ]
   },
   "outputs": [],
   "source": [
    "import warnings\n",
    "warnings.filterwarnings('ignore')\n",
    "\n",
    "from configs import CNFG\n",
    "import numpy as np\n",
    "import pandas as pd\n",
    "import geopandas as gpd\n",
    "import subprocess"
   ]
  },
  {
   "cell_type": "markdown",
   "id": "4a20caee-2cd5-43f6-ba99-cf4abda21ebd",
   "metadata": {},
   "source": [
    "<h1 style=\"text-align:right; font-size:150%; color:#1c6ce6;\">קריאת נתונים 📑 "
   ]
  },
  {
   "cell_type": "code",
   "execution_count": null,
   "id": "88c95565-b5cc-471f-b1b0-af68e6181ffa",
   "metadata": {},
   "outputs": [],
   "source": [
    "print('  3.a Reading inputs')"
   ]
  },
  {
   "cell_type": "markdown",
   "id": "f92e38d6-7a48-4801-9cb5-5e4e035d801c",
   "metadata": {},
   "source": [
    "<h1 style=\"text-align:right;font-size:100%\">\n",
    "שכבת חלקות שומא קיימת"
   ]
  },
  {
   "cell_type": "code",
   "execution_count": null,
   "id": "c9595ecc-6e67-434e-b2d5-b67d58331b8f",
   "metadata": {
    "tags": []
   },
   "outputs": [],
   "source": [
    "parcels_shuma_cols = ['PARCEL', 'GUSH_NUM', 'GUSH_SUFFIX', 'LEGAL_AREA', 'geometry']\n",
    "\n",
    "parcels_shuma = gpd.read_file(CNFG.CADSDE + 'PARCEL_ALL_SHUMA.gdb',\n",
    "                              layer          = 'PARCEL_ALL_SHUMA',\n",
    "                              include_fields = parcels_shuma_cols)\n",
    "\n",
    "\n",
    "del parcels_shuma_cols"
   ]
  },
  {
   "cell_type": "markdown",
   "id": "d23dce31-ddde-4171-955f-3fa2dc755873",
   "metadata": {},
   "source": [
    "<h1 style=\"text-align:right;font-size:100%\">\n",
    "שכבת גושי שומא מודרנית"
   ]
  },
  {
   "cell_type": "code",
   "execution_count": null,
   "id": "582a622d-9bc5-429a-a8d9-5b9c89aa4e33",
   "metadata": {
    "tags": []
   },
   "outputs": [],
   "source": [
    "TaxAssasmentBlocks_cols = ['BlockUniqueID', 'BlockNumber', 'SubBlockNumber']\n",
    "\n",
    "TaxAssasmentBlocks = gpd.read_file(CNFG.ProductPath,\n",
    "                                   layer = 'TaxAssessmentBlocks',\n",
    "                                   include_fields = TaxAssasmentBlocks_cols,\n",
    "                                   ignore_geometry = True)\n",
    "\n",
    "\n",
    "del TaxAssasmentBlocks_cols"
   ]
  },
  {
   "cell_type": "markdown",
   "id": "218a6669-19da-4b1f-93e3-532727c3c8f1",
   "metadata": {},
   "source": [
    "<h1 style=\"text-align:right; font-size:150%; color:#1c6ce6;\">\n",
    "עיבוד נתונים 🛠️"
   ]
  },
  {
   "cell_type": "code",
   "execution_count": null,
   "id": "d4d263fe-e562-4765-b76b-fc0c0c570cd3",
   "metadata": {},
   "outputs": [],
   "source": [
    "print('  3.b Cleaning data')"
   ]
  },
  {
   "cell_type": "code",
   "execution_count": null,
   "id": "62f25a6c-8864-48b2-9899-5c4a12e5a3f9",
   "metadata": {},
   "outputs": [],
   "source": [
    "print('  3.c Data conversion')"
   ]
  },
  {
   "cell_type": "markdown",
   "id": "01e56daf-b891-4c8f-a8f6-80425a62b8a0",
   "metadata": {},
   "source": [
    "<h1 style=\"text-align:right;font-size:125%;\">\n",
    "מיזוג חלקות שומא עם נתוני גושי שומא לקבלת מספר זיהוי של גוש השומא"
   ]
  },
  {
   "cell_type": "code",
   "execution_count": null,
   "id": "539451f5-ba45-43d2-9169-27ba31901763",
   "metadata": {
    "tags": []
   },
   "outputs": [],
   "source": [
    "parcels_shuma['GUSH_NUM'] = parcels_shuma['GUSH_NUM'].astype(int)\n",
    "\n",
    "parcels_shuma['GUSH_SUFFIX'] = parcels_shuma['GUSH_SUFFIX'].fillna(0)\n",
    "parcels_shuma['GUSH_SUFFIX'] = parcels_shuma['GUSH_SUFFIX'].astype(int)\n",
    "\n",
    "parcels_shuma['BlockName'] = parcels_shuma['GUSH_NUM'].astype(str) + '_' + parcels_shuma['GUSH_SUFFIX'].astype(str)\n",
    "parcels_shuma.rename(columns = {'GUSH_NUM' : 'BlockNumber', 'GUSH_SUFFIX' : 'SubBlockNumber'}, inplace = True)"
   ]
  },
  {
   "cell_type": "code",
   "execution_count": null,
   "id": "1f0aaa4c-91f8-4874-aeaf-a88bd4ab2a70",
   "metadata": {
    "tags": []
   },
   "outputs": [],
   "source": [
    "TaxAssasmentBlocks['BlockNumber'] = TaxAssasmentBlocks['BlockNumber'].astype(int)\n",
    "TaxAssasmentBlocks['SubBlockNumber'] = TaxAssasmentBlocks['SubBlockNumber'].astype(int)\n",
    "\n",
    "TaxAssasmentBlocks['BlockName'] = TaxAssasmentBlocks['BlockNumber'].astype(str) + '_' + TaxAssasmentBlocks['SubBlockNumber'].astype(str)\n",
    "TaxAssasmentBlocks.drop(columns = ['BlockNumber', 'SubBlockNumber'], inplace = True)"
   ]
  },
  {
   "cell_type": "code",
   "execution_count": null,
   "id": "1f184d8d-b3a7-4d22-af88-7ab79cff7aa9",
   "metadata": {},
   "outputs": [],
   "source": [
    "parcels_shuma = parcels_shuma.merge(TaxAssasmentBlocks, on = 'BlockName', how = 'left')\n",
    "\n",
    "del TaxAssasmentBlocks"
   ]
  },
  {
   "cell_type": "markdown",
   "id": "a64cf777-9bb8-429c-a73c-bdaf5eb71b88",
   "metadata": {},
   "source": [
    "<h1 style=\"text-align:right; font-size:150%; color:#1c6ce6;\"> \n",
    "יצירת שכבה חדשה בהתאם לאפיון ✨"
   ]
  },
  {
   "cell_type": "code",
   "execution_count": null,
   "id": "8a33b0ae-fe0b-4072-8785-379ae44122f1",
   "metadata": {},
   "outputs": [],
   "source": [
    "print('  3.d Defining new Layer')"
   ]
  },
  {
   "cell_type": "code",
   "execution_count": null,
   "id": "d1228476-8eb8-48d1-a35a-f14f3a88110a",
   "metadata": {},
   "outputs": [],
   "source": [
    "new_columns = np.dtype([\n",
    "                        (\"ParcelUniqueID\", int),\n",
    "                        (\"ParcelNumber\", int),\n",
    "                        (\"BlockNumber\", int),\n",
    "                        (\"SubBlockNumber\", int),\n",
    "                        (\"ParcelType\", int),\n",
    "                        (\"LegalArea\", float),\n",
    "                        (\"BlockUniqueID\", int),\n",
    "                        (\"geometry\", gpd.array.GeometryDtype)\n",
    "                        ])\n",
    "\n",
    "\n",
    "TaxAssessmentParcels = gpd.GeoDataFrame(data = np.empty(0, dtype=new_columns), crs = 2039, geometry = 'geometry')\n",
    "\n",
    "del new_columns"
   ]
  },
  {
   "cell_type": "markdown",
   "id": "820e459d-123b-45a5-87e7-f99a032d2082",
   "metadata": {},
   "source": [
    "<h1 style=\"text-align:right;font-size:100%\">\n",
    "איכלוס שדות"
   ]
  },
  {
   "cell_type": "code",
   "execution_count": null,
   "id": "696efadf-c5c9-4d63-a151-d876583b6e86",
   "metadata": {},
   "outputs": [],
   "source": [
    "TaxAssessmentParcels['ParcelNumber'] = parcels_shuma['PARCEL'].astype(int)\n",
    "\n",
    "TaxAssessmentParcels['BlockNumber'] = parcels_shuma['BlockNumber'].astype(int)\n",
    "\n",
    "TaxAssessmentParcels['SubBlockNumber'] = parcels_shuma['SubBlockNumber'].astype(int)\n",
    "\n",
    "TaxAssessmentParcels['ParcelType'] = 3 #שומא\n",
    "\n",
    "TaxAssessmentParcels['LegalArea'] = parcels_shuma['LEGAL_AREA'].astype(int)\n",
    "\n",
    "TaxAssessmentParcels['BlockUniqueID'] = parcels_shuma['BlockUniqueID'].astype(int)\n",
    "\n",
    "TaxAssessmentParcels['geometry'] = parcels_shuma['geometry']\n",
    "\n",
    "TaxAssessmentParcels.sort_values(by = ['BlockNumber', 'ParcelNumber'], inplace = True)\n",
    "\n",
    "TaxAssessmentParcels['ParcelUniqueID'] = np.arange(1, len(TaxAssessmentParcels) + 1)\n",
    "TaxAssessmentParcels['ParcelUniqueID'] = TaxAssessmentParcels['ParcelUniqueID'].astype(int)"
   ]
  },
  {
   "cell_type": "markdown",
   "id": "eb4aaa5f-b9dd-4527-8d84-bad53373f3d9",
   "metadata": {},
   "source": [
    "<h1 style=\"text-align:right; font-size:150%; color:#1c6ce6;\"> \n",
    "שמירת תוצאות 💾\n",
    "<h1 style=\"text-align:right; font-size:100%;\"> \n",
    "<h1 style=\"text-align:right; font-size:100%;\"> \n",
    "בחירת נתיב\n",
    "<h1 style=\"text-align:right; font-size:100%;\"> \n",
    "שמירה כטבלה\n",
    "<h1 style=\"text-align:right; font-size:100%;\"> \n",
    "שמירה כשכבה גיאוגרפית"
   ]
  },
  {
   "cell_type": "code",
   "execution_count": null,
   "id": "eda57e7e-b8c2-4c96-ada5-2e0a87e38555",
   "metadata": {},
   "outputs": [],
   "source": [
    "print('  3.e Exporting results to product folder')"
   ]
  },
  {
   "cell_type": "code",
   "execution_count": null,
   "id": "2f80b4d3-0f01-4af0-80fd-1942ec87c0cc",
   "metadata": {},
   "outputs": [],
   "source": [
    "json_dir = CNFG.JsonPath + 'TaxAssessmentParcels.geojson'\n",
    "TaxAssessmentParcels.to_file(json_dir, driver = 'GeoJSON')"
   ]
  },
  {
   "cell_type": "code",
   "execution_count": null,
   "id": "f46e48b1-0154-4938-ac16-887e91acfca2",
   "metadata": {},
   "outputs": [],
   "source": [
    "subprocess.call([CNFG.BatchPath + 'Tax Assessment Parcels-Save as Feature Class.bat']);"
   ]
  }
 ],
 "metadata": {
  "kernelspec": {
   "display_name": "Python 3 (ipykernel)",
   "language": "python",
   "name": "python3"
  },
  "language_info": {
   "codemirror_mode": {
    "name": "ipython",
    "version": 3
   },
   "file_extension": ".py",
   "mimetype": "text/x-python",
   "name": "python",
   "nbconvert_exporter": "python",
   "pygments_lexer": "ipython3",
   "version": "3.11.3"
  }
 },
 "nbformat": 4,
 "nbformat_minor": 5
}
