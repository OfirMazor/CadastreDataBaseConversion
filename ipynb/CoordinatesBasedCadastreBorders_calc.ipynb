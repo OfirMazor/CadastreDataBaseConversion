{
 "cells": [
  {
   "cell_type": "markdown",
   "id": "9ba3c59c-0a00-4eee-a4e6-96f4dc7e424b",
   "metadata": {},
   "source": [
    "<h1 style=\"background-color:#1c6ce6;\n",
    "           font-family:segoe ui;\n",
    "                color:#FFF9ED;\n",
    "           font-size:300%;\n",
    "           text-align:center;\n",
    "           border-radius:10px 10px;\"> \n",
    "🗺️ תהליך הסבת שכבת קדסטר מבוסס קואורדינטות לבנק\"ל מודרני 🗺️ "
   ]
  },
  {
   "cell_type": "code",
   "execution_count": null,
   "id": "9ad6eccf-379b-4f26-8972-d93108b0bd56",
   "metadata": {},
   "outputs": [],
   "source": [
    "print('7. Coordinates Based Cadastre Borders:')"
   ]
  },
  {
   "cell_type": "markdown",
   "id": "af1e292b-600e-4b59-b941-37e886fcc988",
   "metadata": {},
   "source": [
    "<h1 style=\"text-align:right; font-size:150%; color:#1c6ce6;\">\n",
    "ספריות 📚"
   ]
  },
  {
   "cell_type": "code",
   "execution_count": 1,
   "id": "4997c9cf-8b05-44cc-a536-64dddd61b09e",
   "metadata": {
    "tags": [
     "Libraries"
    ]
   },
   "outputs": [],
   "source": [
    "import warnings\n",
    "warnings.filterwarnings('ignore')\n",
    "\n",
    "from configs import CNFG\n",
    "import numpy as np\n",
    "import pandas as pd\n",
    "import geopandas as gpd\n",
    "import dask_geopandas as daskgpd"
   ]
  },
  {
   "cell_type": "markdown",
   "id": "c105c867-5281-4dee-aa07-bb3debf6d009",
   "metadata": {},
   "source": [
    "<h1 style=\"text-align:right; font-size:150%; color:#1c6ce6;\">קריאת נתונים 📑 "
   ]
  },
  {
   "cell_type": "code",
   "execution_count": null,
   "id": "aed20d73-ef47-43bb-ba82-ef46223a0734",
   "metadata": {},
   "outputs": [],
   "source": [
    "print('  7.a Reading inputs')"
   ]
  },
  {
   "cell_type": "markdown",
   "id": "3dfa029e-298b-4183-98d5-da70333e4c69",
   "metadata": {},
   "source": [
    "<h1 style=\"text-align:right;font-size:100%\">\n",
    "טבלת מספרי גושים של קמ\"ק"
   ]
  },
  {
   "cell_type": "code",
   "execution_count": 2,
   "id": "e881ea4f-9e5e-42c1-8eb4-1ed8248ed915",
   "metadata": {
    "tags": []
   },
   "outputs": [],
   "source": [
    "CBC_list = pd.read_excel(CNFG.Local + 'CoordBasedCadstreBlocksList.xlsx', usecols = ['BlockNumber','SubBlockNumber'])"
   ]
  },
  {
   "cell_type": "markdown",
   "id": "9b218f9d-af54-4611-87cb-03b650cf4c21",
   "metadata": {},
   "source": [
    "<h1 style=\"text-align:right;font-size:100%\">\n",
    "שכבת גושי קדסטר"
   ]
  },
  {
   "cell_type": "code",
   "execution_count": 4,
   "id": "f6f6356d-b2b0-42ef-a3ed-5a6b6c323840",
   "metadata": {
    "tags": []
   },
   "outputs": [],
   "source": [
    "Blocks_layer = daskgpd.read_file(CNFG.Results, layer = 'Blocks', columns = ['Name', 'geometry'], npartitions = 4).compute()"
   ]
  },
  {
   "cell_type": "markdown",
   "id": "3009f48e-d32c-4d4e-b03d-bef7729a7b47",
   "metadata": {},
   "source": [
    "<h1 style=\"text-align:right;font-size:100%\">\n",
    "טבלת מזהי גושי קדסטר"
   ]
  },
  {
   "cell_type": "code",
   "execution_count": null,
   "id": "65b9367e-9b18-4c13-a64b-ec8e67f37a59",
   "metadata": {
    "tags": []
   },
   "outputs": [],
   "source": [
    "Blocks_IDs = pd.read_csv(CNFG.CSVPath + 'BlockUniqueIDs.csv', usecols = ['Name', 'GlobalID', 'IsTax'])\n",
    "Blocks_IDs = Blocks_IDs[Blocks_IDs['IsTax'] == 0].drop(columns = 'IsTax')"
   ]
  },
  {
   "cell_type": "markdown",
   "id": "d1d647a8-40e3-4d12-9c63-07b283361b86",
   "metadata": {},
   "source": [
    "<h1 style=\"text-align:right; font-size:150%; color:#1c6ce6;\">\n",
    "עיבוד נתונים 🛠️"
   ]
  },
  {
   "cell_type": "code",
   "execution_count": null,
   "id": "baedbfb8-cce2-4fc7-bcab-12eb1e040f11",
   "metadata": {},
   "outputs": [],
   "source": [
    "print('  7.b Cleaning data')"
   ]
  },
  {
   "cell_type": "code",
   "execution_count": null,
   "id": "3f4653be-5f44-4f5b-b358-26108f2dde38",
   "metadata": {},
   "outputs": [],
   "source": [
    "Blocks_IDs.rename(columns = {'GlobalID' : 'BlockUniqueID'}, inplace = True)\n",
    "Blocks = Blocks_layer.merge(Blocks_IDs, how = 'left', on = 'Name')\n",
    "\n",
    "del [Blocks_IDs, Blocks_layer]"
   ]
  },
  {
   "cell_type": "code",
   "execution_count": null,
   "id": "a08e7e6e-1b8c-4753-859f-aab5702b100b",
   "metadata": {},
   "outputs": [],
   "source": [
    "print('  7.c Data conversion')"
   ]
  },
  {
   "cell_type": "code",
   "execution_count": null,
   "id": "2d9aa13b-d832-4ce3-a8d0-ec4920859d22",
   "metadata": {
    "tags": []
   },
   "outputs": [],
   "source": [
    "CBC_list['Name'] = CBC_list['BlockNumber'].astype(str) + '/' + CBC_list['SubBlockNumber'].astype(str)"
   ]
  },
  {
   "cell_type": "markdown",
   "id": "379f7825-b750-4e65-92d0-ec1d7c92cc83",
   "metadata": {},
   "source": [
    "<h1 style=\"text-align:right;font-size:100%\">\n",
    "מיזוג מידע"
   ]
  },
  {
   "cell_type": "code",
   "execution_count": null,
   "id": "624d9991-0ca3-4b9c-a032-13f85099d851",
   "metadata": {},
   "outputs": [],
   "source": [
    "merge = Blocks.merge(CBC_list, on = 'Name', how = 'right')\n",
    "merge = merge.drop_duplicates(keep = 'first')\n",
    "merge = merge[~merge['geometry'].isna()]\n",
    "merge = merge.groupby(['Name'], as_index = False).first()\n",
    "\n",
    "del[CBC_list, Blocks]"
   ]
  },
  {
   "cell_type": "markdown",
   "id": "7a880ad0-4a6c-4bb4-a5e9-7c1b55abbe60",
   "metadata": {},
   "source": [
    "<h1 style=\"text-align:right; font-size:150%; color:#1c6ce6;\"> \n",
    "יצירת שכבה חדשה בהתאם לאפיון ✨"
   ]
  },
  {
   "cell_type": "code",
   "execution_count": null,
   "id": "6bc4d1ef-f458-499d-a219-c5c2b3f51f7b",
   "metadata": {},
   "outputs": [],
   "source": [
    "print('  7.d Defining new Layer')"
   ]
  },
  {
   "cell_type": "code",
   "execution_count": null,
   "id": "fbca251d-7196-48da-a69b-70941478d682",
   "metadata": {},
   "outputs": [],
   "source": [
    "new_columns =np.dtype([\n",
    "                        (\"geometry\", gpd.array.GeometryDtype),       \n",
    "                       #(\"GlobalID\", str),\n",
    "                        (\"ProcessName\", str),\n",
    "                        (\"ProcessType\", int),\n",
    "                        (\"Status\", int),\n",
    "                        (\"BlockUniqueID\", str),\n",
    "                        (\"GeodeticNetwork\", int),\n",
    "                       #(\"SurveyorLicenseID\", int),\n",
    "                        (\"DataSource\", int),\n",
    "                       #(\"PlanName\", str),  \n",
    "                       #(\"ORACLE_ID\", int),\n",
    "                       #(\"Shape_Length\", float),\n",
    "                       #(\"Shape_Area\", float),\n",
    "                        ])\n",
    "\n",
    "CBC_Blocks = gpd.GeoDataFrame(data     = np.empty(0, dtype = new_columns),\n",
    "                              geometry = 'geometry',\n",
    "                              crs      = 2039)"
   ]
  },
  {
   "cell_type": "markdown",
   "id": "22a2f046-a1a8-44ee-abb2-8fcedb7184f6",
   "metadata": {},
   "source": [
    "<h1 style=\"text-align:right;font-size:100%\">\n",
    "איכלוס שדות"
   ]
  },
  {
   "cell_type": "code",
   "execution_count": null,
   "id": "cfd28616-f11c-473a-a27a-40483914753c",
   "metadata": {},
   "outputs": [],
   "source": [
    "CBC_Blocks['BlockUniqueID'] = merge['BlockUniqueID']\n",
    "\n",
    "CBC_Blocks['ProcessType'] = 5\n",
    "\n",
    "CBC_Blocks['ProcessName'] = 'קמ\"ק ' + merge['Name']\n",
    "\n",
    "CBC_Blocks['GeodeticNetwork'] = 3\n",
    "\n",
    "CBC_Blocks['Status'] = 13   #מאושר\n",
    "\n",
    "#CBC_Blocks['PlanName'] = None\n",
    "\n",
    "#CBC_Blocks['SurveyorLicenseID'] = None\n",
    "\n",
    "CBC_Blocks['DataSource'] = 5 #CAD\n",
    "\n",
    "CBC_Blocks['geometry'] = merge['geometry']"
   ]
  },
  {
   "cell_type": "markdown",
   "id": "b4a02fb6-ac9e-480c-bf8d-9dc5ac4a72ad",
   "metadata": {},
   "source": [
    "<h1 style=\"text-align:right; font-size:150%; color:#1c6ce6;\"> \n",
    "שמירת תוצאות 💾"
   ]
  },
  {
   "cell_type": "code",
   "execution_count": null,
   "id": "0941b22c-ae30-4325-b2c2-271d3665d621",
   "metadata": {},
   "outputs": [],
   "source": [
    "print('  7.e Exporting results')"
   ]
  },
  {
   "cell_type": "code",
   "execution_count": null,
   "id": "df2b5902-07ad-4f5b-a6a9-6ddf77be0ed3",
   "metadata": {
    "tags": []
   },
   "outputs": [],
   "source": [
    "CBC_Blocks.to_file(CNFG.Results, layer = 'PT5', driver = 'OpenFileGDB', engine = 'pyogrio', mode = 'w')"
   ]
  }
 ],
 "metadata": {
  "kernelspec": {
   "display_name": "Python 3 (ipykernel)",
   "language": "python",
   "name": "python3"
  },
  "language_info": {
   "codemirror_mode": {
    "name": "ipython",
    "version": 3
   },
   "file_extension": ".py",
   "mimetype": "text/x-python",
   "name": "python",
   "nbconvert_exporter": "python",
   "pygments_lexer": "ipython3",
   "version": "3.11.3"
  }
 },
 "nbformat": 4,
 "nbformat_minor": 5
}
