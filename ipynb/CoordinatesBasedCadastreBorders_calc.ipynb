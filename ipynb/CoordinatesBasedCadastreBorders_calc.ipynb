{
 "cells": [
  {
   "cell_type": "markdown",
   "id": "9ba3c59c-0a00-4eee-a4e6-96f4dc7e424b",
   "metadata": {},
   "source": [
    "<h1 style=\"background-color:#1c6ce6;\n",
    "           font-family:segoe ui;\n",
    "                color:#FFF9ED;\n",
    "           font-size:300%;\n",
    "           text-align:center;\n",
    "           border-radius:10px 10px;\"> \n",
    "🗺️ תהליך הסבת שכבת קדסטר מבוסס קואורדינטות לבנק\"ל מודרני 🗺️ "
   ]
  },
  {
   "cell_type": "code",
   "execution_count": null,
   "id": "9ad6eccf-379b-4f26-8972-d93108b0bd56",
   "metadata": {},
   "outputs": [],
   "source": [
    "print('9. Coordinates Based Cadastre Borders:')"
   ]
  },
  {
   "cell_type": "markdown",
   "id": "af1e292b-600e-4b59-b941-37e886fcc988",
   "metadata": {},
   "source": [
    "<h1 style=\"text-align:right; font-size:150%; color:#1c6ce6;\">\n",
    "ספריות 📚"
   ]
  },
  {
   "cell_type": "code",
   "execution_count": null,
   "id": "4997c9cf-8b05-44cc-a536-64dddd61b09e",
   "metadata": {
    "tags": [
     "Libraries"
    ]
   },
   "outputs": [],
   "source": [
    "import warnings\n",
    "warnings.filterwarnings('ignore')\n",
    "\n",
    "from configs import CNFG\n",
    "import numpy as np\n",
    "import pandas as pd\n",
    "import geopandas as gpd\n",
    "import dask_geopandas as daskgpd\n",
    "import subprocess"
   ]
  },
  {
   "cell_type": "markdown",
   "id": "c105c867-5281-4dee-aa07-bb3debf6d009",
   "metadata": {},
   "source": [
    "<h1 style=\"text-align:right; font-size:150%; color:#1c6ce6;\">קריאת נתונים 📑 "
   ]
  },
  {
   "cell_type": "code",
   "execution_count": null,
   "id": "aed20d73-ef47-43bb-ba82-ef46223a0734",
   "metadata": {},
   "outputs": [],
   "source": [
    "print('  9.a Reading inputs')"
   ]
  },
  {
   "cell_type": "markdown",
   "id": "3dfa029e-298b-4183-98d5-da70333e4c69",
   "metadata": {},
   "source": [
    "<h1 style=\"text-align:right;font-size:100%\">\n",
    "טבלת מספרי גושים של קמ\"ק"
   ]
  },
  {
   "cell_type": "code",
   "execution_count": null,
   "id": "e881ea4f-9e5e-42c1-8eb4-1ed8248ed915",
   "metadata": {
    "tags": []
   },
   "outputs": [],
   "source": [
    "CBC_list = pd.read_excel(CNFG.Local + 'CoordBasedCadstreBlocksList.xlsx', usecols = ['BlockNumber','SubBlockNumber'])"
   ]
  },
  {
   "cell_type": "markdown",
   "id": "9b218f9d-af54-4611-87cb-03b650cf4c21",
   "metadata": {},
   "source": [
    "<h1 style=\"text-align:right;font-size:100%\">\n",
    "שכבת גושי קדסטר"
   ]
  },
  {
   "cell_type": "code",
   "execution_count": null,
   "id": "f6f6356d-b2b0-42ef-a3ed-5a6b6c323840",
   "metadata": {
    "tags": []
   },
   "outputs": [],
   "source": [
    "blocks_columns = ['BlockNumber','SubBlockNumber', 'BlockUniqueID', 'geometry']\n",
    "\n",
    "Blocks = daskgpd.read_file(CNFG.Results, layer = 'Blocks', columns = blocks_columns, npartitions = 16).compute()\n",
    "\n",
    "Blocks[['BlockNumber','SubBlockNumber', 'BlockUniqueID']] = Blocks[['BlockNumber','SubBlockNumber', 'BlockUniqueID']].astype(int)\n",
    "\n",
    "del blocks_columns"
   ]
  },
  {
   "cell_type": "markdown",
   "id": "d1d647a8-40e3-4d12-9c63-07b283361b86",
   "metadata": {},
   "source": [
    "<h1 style=\"text-align:right; font-size:150%; color:#1c6ce6;\">\n",
    "עיבוד נתונים 🛠️"
   ]
  },
  {
   "cell_type": "code",
   "execution_count": null,
   "id": "baedbfb8-cce2-4fc7-bcab-12eb1e040f11",
   "metadata": {},
   "outputs": [],
   "source": [
    "print('  9.b Cleaning data')"
   ]
  },
  {
   "cell_type": "code",
   "execution_count": null,
   "id": "a08e7e6e-1b8c-4753-859f-aab5702b100b",
   "metadata": {},
   "outputs": [],
   "source": [
    "print('  9.c Data conversion')"
   ]
  },
  {
   "cell_type": "markdown",
   "id": "379f7825-b750-4e65-92d0-ec1d7c92cc83",
   "metadata": {},
   "source": [
    "<h1 style=\"text-align:right;font-size:100%\">\n",
    "מיזוג מידע"
   ]
  },
  {
   "cell_type": "code",
   "execution_count": null,
   "id": "624d9991-0ca3-4b9c-a032-13f85099d851",
   "metadata": {},
   "outputs": [],
   "source": [
    "merge = Blocks.merge(CBC_list, on = ['BlockNumber','SubBlockNumber'], how = 'right')\n",
    "merge = merge.drop_duplicates(keep = 'first')\n",
    "merge = merge[~merge['geometry'].isna()]\n",
    "\n",
    "del[CBC_list, Blocks]"
   ]
  },
  {
   "cell_type": "markdown",
   "id": "7a880ad0-4a6c-4bb4-a5e9-7c1b55abbe60",
   "metadata": {},
   "source": [
    "<h1 style=\"text-align:right; font-size:150%; color:#1c6ce6;\"> \n",
    "יצירת שכבה חדשה בהתאם לאפיון ✨"
   ]
  },
  {
   "cell_type": "code",
   "execution_count": null,
   "id": "6bc4d1ef-f458-499d-a219-c5c2b3f51f7b",
   "metadata": {},
   "outputs": [],
   "source": [
    "print('  9.d Defining new Layer')"
   ]
  },
  {
   "cell_type": "code",
   "execution_count": null,
   "id": "fbca251d-7196-48da-a69b-70941478d682",
   "metadata": {},
   "outputs": [],
   "source": [
    "new_columns = np.dtype([\n",
    "                        (\"CPBUniqueID\", int),\n",
    "                        (\"BlockUniqueID\", int),\n",
    "                        (\"ProcessType\", int),\n",
    "                        (\"MapYear\", int),\n",
    "                        (\"ProcessName\", str),\n",
    "                        (\"GeodeticNetwork\", int),\n",
    "                        (\"Status\", int),\n",
    "                        #(\"PlanName\", str),\n",
    "                        #(\"SurveyorLicenseID\", int),\n",
    "                        (\"DataSource\", int),\n",
    "                        (\"geometry\", gpd.array.GeometryDtype)\n",
    "                        ])\n",
    "\n",
    "CBC_Blocks = gpd.GeoDataFrame(data     = np.empty(0, dtype = new_columns),\n",
    "                              geometry = 'geometry',\n",
    "                              crs      = 2039)"
   ]
  },
  {
   "cell_type": "markdown",
   "id": "22a2f046-a1a8-44ee-abb2-8fcedb7184f6",
   "metadata": {},
   "source": [
    "<h1 style=\"text-align:right;font-size:100%\">\n",
    "איכלוס שדות"
   ]
  },
  {
   "cell_type": "code",
   "execution_count": null,
   "id": "cfd28616-f11c-473a-a27a-40483914753c",
   "metadata": {},
   "outputs": [],
   "source": [
    "CBC_Blocks['BlockUniqueID'] = merge['BlockUniqueID'].astype('Int64')\n",
    "\n",
    "CBC_Blocks['ProcessType'] = 5\n",
    "\n",
    "CBC_Blocks['MapYear'] = 2013\n",
    "\n",
    "CBC_Blocks['ProcessName'] = 'קמ\"ק ' + merge['BlockNumber'].astype(str) + '/' + merge['SubBlockNumber'].astype(str)\n",
    "\n",
    "CBC_Blocks['GeodeticNetwork'] = 3\n",
    "\n",
    "CBC_Blocks['Status'] = 13 #מאושר\n",
    "\n",
    "#CBC_Blocks['PlanName'] = None\n",
    "\n",
    "#CBC_Blocks['SurveyorLicenseID'] = None\n",
    "\n",
    "CBC_Blocks['DataSource'] = 5 #CAD\n",
    "\n",
    "CBC_Blocks['geometry'] = merge['geometry']\n",
    "\n",
    "CBC_Blocks['CPBUniqueID'] = range(5000000, 5000000+len(CBC_Blocks))"
   ]
  },
  {
   "cell_type": "markdown",
   "id": "b4a02fb6-ac9e-480c-bf8d-9dc5ac4a72ad",
   "metadata": {},
   "source": [
    "<h1 style=\"text-align:right; font-size:150%; color:#1c6ce6;\"> \n",
    "שמירת תוצאות 💾\n",
    "<h1 style=\"text-align:right; font-size:100%;\"> \n",
    "<h1 style=\"text-align:right; font-size:100%;\"> \n",
    "בחירת נתיב\n",
    "<h1 style=\"text-align:right; font-size:100%;\"> \n",
    "שמירה כטבלה\n",
    "<h1 style=\"text-align:right; font-size:100%;\"> \n",
    "שמירה כשכבה גיאוגרפית"
   ]
  },
  {
   "cell_type": "code",
   "execution_count": null,
   "id": "0941b22c-ae30-4325-b2c2-271d3665d621",
   "metadata": {},
   "outputs": [],
   "source": [
    "print('  9.e Exporting results to product folder')"
   ]
  },
  {
   "cell_type": "code",
   "execution_count": null,
   "id": "d57be281-0de1-4b5a-81da-17cae2659ac9",
   "metadata": {},
   "outputs": [],
   "source": [
    "json_dir = CNFG.JsonPath + 'CoordinatesBasedCadastreBorders.geojson'\n",
    "\n",
    "CBC_Blocks.to_file(json_dir, driver = 'GeoJSON')"
   ]
  },
  {
   "cell_type": "code",
   "execution_count": null,
   "id": "778ae29b-cbfd-490f-a1db-c11a5d84fd98",
   "metadata": {},
   "outputs": [],
   "source": [
    "subprocess.call([CNFG.BatchPath + \"CoordinatesBasedCadastreBorders - Save as Feature Class.bat\"]);"
   ]
  }
 ],
 "metadata": {
  "kernelspec": {
   "display_name": "Python 3 (ipykernel)",
   "language": "python",
   "name": "python3"
  },
  "language_info": {
   "codemirror_mode": {
    "name": "ipython",
    "version": 3
   },
   "file_extension": ".py",
   "mimetype": "text/x-python",
   "name": "python",
   "nbconvert_exporter": "python",
   "pygments_lexer": "ipython3",
   "version": "3.11.3"
  }
 },
 "nbformat": 4,
 "nbformat_minor": 5
}
