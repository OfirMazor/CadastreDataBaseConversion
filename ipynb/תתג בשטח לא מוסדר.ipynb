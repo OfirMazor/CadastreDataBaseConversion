{
 "cells": [
  {
   "cell_type": "markdown",
   "id": "c6439b15-3449-4c0e-a683-b447687478d0",
   "metadata": {},
   "source": [
    "<h1 style=\"background-color:#239B56;\n",
    "           font-family:segoe ui;\n",
    "                color:#FFF9ED;\n",
    "           font-size:300%;\n",
    "           text-align:center;\n",
    "           border-radius:10px 10px;\"> \n",
    "🗺️ תהליך הסבת שכבת תשריטי תיעוד גבולות בשטח לא מוסדר לבנק\"ל מודרני 🗺️ "
   ]
  },
  {
   "cell_type": "code",
   "execution_count": null,
   "id": "91f731da-e547-4b73-b9cd-b255931c9ff2",
   "metadata": {},
   "outputs": [],
   "source": [
    "print('16. Unregistered Tazar borders:')"
   ]
  },
  {
   "cell_type": "markdown",
   "id": "e0ad268a-bf97-476c-8d33-0f48d7a3c49a",
   "metadata": {},
   "source": [
    "<h1 style=\"text-align:right; font-size:150%; color:#1c6ce6;\">\n",
    "ספריות 📚"
   ]
  },
  {
   "cell_type": "code",
   "execution_count": 1,
   "id": "77ca15fc-5cfb-4362-a142-d6c26fbd1ee2",
   "metadata": {},
   "outputs": [],
   "source": [
    "import warnings\n",
    "warnings.filterwarnings('ignore')\n",
    "\n",
    "import numpy as np\n",
    "import pandas as pd\n",
    "import geopandas as gpd\n",
    "import datetime as dt\n",
    "import subprocess"
   ]
  },
  {
   "cell_type": "markdown",
   "id": "33802549-c14f-478d-bb32-c24206f2c7db",
   "metadata": {},
   "source": [
    "<h1 style=\"text-align:right; font-size:150%; color:#1c6ce6;\">קריאת נתונים 📑 "
   ]
  },
  {
   "cell_type": "code",
   "execution_count": null,
   "id": "45ce1c59-fded-423b-9fc0-c11d14b78a87",
   "metadata": {},
   "outputs": [],
   "source": [
    "print('  17.a Reading inputs')"
   ]
  },
  {
   "cell_type": "code",
   "execution_count": null,
   "id": "34f36e2b-c1cd-4829-b28e-a5f59ec86c2d",
   "metadata": {},
   "outputs": [],
   "source": [
    "RawData_folder = r'\\\\mapi_shares\\MNCDB\\צוות מידע\\RawData/'"
   ]
  },
  {
   "cell_type": "code",
   "execution_count": null,
   "id": "ddacb94e-3ac3-48e2-a81a-d26fbb832a7a",
   "metadata": {},
   "outputs": [],
   "source": [
    "today =  dt.date.today()\n",
    "date_name =  str(today.year) + str(today.month) + str(today.day) + '_ncdb.gdb'\n",
    "product_path = r'\\\\mapi_shares\\MNCDB\\צוות מידע\\תוצרים/' + date_name\n",
    "\n",
    "del [today, date_name]"
   ]
  },
  {
   "cell_type": "code",
   "execution_count": null,
   "id": "6342a95d-a0e4-42e4-a7bf-70fc899b9723",
   "metadata": {},
   "outputs": [],
   "source": [
    "unreg_tatag_cols = []\n",
    "\n",
    "unreg_tatag_borders = gdp.read_file(RawData_folder + '\\Local\\xxxxx.gdb',\n",
    "                                    layer = ,\n",
    "                                    include_fields = unreg_tatag_cols)\n",
    "\n",
    "del unreg_tatag_cols"
   ]
  },
  {
   "cell_type": "markdown",
   "id": "fb61731c-df36-4b15-81ee-a55de2080518",
   "metadata": {},
   "source": [
    "<h1 style=\"text-align:right;font-size:100%\">\n",
    "שכבת גבולות תצ\"ר בשטח לא מוסדר"
   ]
  },
  {
   "cell_type": "markdown",
   "id": "e5d3c3b0-7166-4bad-82e7-619e00dcef7a",
   "metadata": {},
   "source": [
    "<h1 style=\"text-align:right;font-size:100%\">\n",
    "שכבת גבולות גושי קדסטר מודרניים"
   ]
  },
  {
   "cell_type": "code",
   "execution_count": null,
   "id": "3bcb4f65-7e4c-4dc5-ba1e-f1a7014640cc",
   "metadata": {},
   "outputs": [],
   "source": [
    "Blocks_cols = ['BlockNumber', 'SubBlockNumber', 'BlockUniqueID']\n",
    "\n",
    "Blocks = gpd.read_file(product_path,\n",
    "                       layer = 'Blocks',\n",
    "                       include_fields = Blocks_cols,\n",
    "                       ignore_geometry = True)\n",
    "\n",
    "Blocks = Blocks.astype(int)\n",
    "\n",
    "\n",
    "del[Blocks_cols, RawData_folder, today, date_name, product_path]"
   ]
  },
  {
   "cell_type": "markdown",
   "id": "307dbee5-6e8d-4ac6-8e05-91fbf5b27870",
   "metadata": {},
   "source": [
    "<h1 style=\"text-align:right; font-size:150%; color:#1c6ce6;\">\n",
    "עיבוד נתונים 🛠️"
   ]
  },
  {
   "cell_type": "code",
   "execution_count": null,
   "id": "230f6d87-9fd2-4330-965b-73145c0380bf",
   "metadata": {},
   "outputs": [],
   "source": [
    "print('  17.b Cleaning data')"
   ]
  },
  {
   "cell_type": "markdown",
   "id": "eedadb91-fa3f-441c-adcf-b28fbd50602c",
   "metadata": {},
   "source": [
    "<h1 style=\"text-align:right; font-size:150%; color:#1c6ce6;\"> \n",
    "יצירת שכבה חדשה בהתאם לאפיון ✨"
   ]
  },
  {
   "cell_type": "code",
   "execution_count": null,
   "id": "7e9c38a8-da67-49aa-92f3-904e2af1fd54",
   "metadata": {},
   "outputs": [],
   "source": [
    "print('  17.d Defining new Layer')"
   ]
  },
  {
   "cell_type": "code",
   "execution_count": null,
   "id": "48875fb4-dd3d-4595-9032-fc4daff6c6d7",
   "metadata": {},
   "outputs": [],
   "source": [
    "new_columns = np.dtype([\n",
    "                        (\"CPBUniqueID\", int),\n",
    "                        #(\"BlockUniqueID\", int), יאוחד בהמשך התהליך\n",
    "                        (\"ProcessType\", int),\n",
    "                        (\"MapYear\", int),\n",
    "                        (\"ProcessName\", str),\n",
    "                        (\"GeodeticNetwork\", int),\n",
    "                        (\"Status\", int),\n",
    "                        (\"PlanName\", str),\n",
    "                        (\"SurveyorLicenseID\", int),\n",
    "                        (\"DataSource\", int),\n",
    "                        (\"geometry\", gpd.array.GeometryDtype)\n",
    "                        ])\n",
    "\n",
    "uunreg_tatag_borders_new = gpd.GeoDataFrame(np.empty(0, dtype=new_columns),\n",
    "                                            geometry = 'geometry',\n",
    "                                            crs = 2039)\n",
    "\n",
    "del new_columns"
   ]
  },
  {
   "cell_type": "code",
   "execution_count": null,
   "id": "99576bb4-a95d-4184-8bac-ab39acac7d54",
   "metadata": {},
   "outputs": [],
   "source": []
  },
  {
   "cell_type": "markdown",
   "id": "a7631d9a-241d-47cf-9cb1-1183bd17fcfc",
   "metadata": {},
   "source": [
    "<h1 style=\"text-align:right; font-size:100%\">\n",
    "איכלוס שדות"
   ]
  },
  {
   "cell_type": "markdown",
   "id": "3e8079e1-ae3c-465f-878b-0310dd57615a",
   "metadata": {},
   "source": [
    "<h1 style=\"text-align:right; font-size:150%; color:#1c6ce6;\"> \n",
    "שמירת תוצאות 💾\n",
    "<h1 style=\"text-align:right; font-size:100%;\"> \n",
    "<h1 style=\"text-align:right; font-size:100%;\"> \n",
    "בחירת נתיב\n",
    "<h1 style=\"text-align:right; font-size:100%;\"> \n",
    "שמירה כטבלה\n",
    "<h1 style=\"text-align:right; font-size:100%;\"> \n",
    "שמירה כשכבה גיאוגרפית"
   ]
  },
  {
   "cell_type": "code",
   "execution_count": null,
   "id": "b76b802a-0433-4191-bff5-345113b701d1",
   "metadata": {},
   "outputs": [],
   "source": [
    "print('  17.e Exporting results to product folder')"
   ]
  },
  {
   "cell_type": "code",
   "execution_count": null,
   "id": "652e9163-0bd2-42b5-b746-3f6639527836",
   "metadata": {},
   "outputs": [],
   "source": [
    "#csv_dir = r'\\\\mapi_shares\\MNCDB\\צוות מידע\\תוצרים\\csv\\UnregisteredTazar.csv'\n",
    "json_dir = r'\\\\mapi_shares\\MNCDB\\צוות מידע\\תוצרים\\json\\UnregisteredTatag.geojson'\n",
    "\n",
    "\n",
    "#unreg_tazar_layer_new.to_csv(csv_dir, index=False)\n",
    "unreg_tazar_layer_new.to_file(json_dir, driver = 'GeoJSON')"
   ]
  },
  {
   "cell_type": "code",
   "execution_count": null,
   "id": "e60abc9f-d3aa-4ec4-b2c6-59a7c256c109",
   "metadata": {},
   "outputs": [],
   "source": [
    "subprocess.call([r'M:\\ncdbScripts\\scripts\\arcpyPro\\UnregisteredTatag-Save as Feature Class.bat']);"
   ]
  }
 ],
 "metadata": {
  "kernelspec": {
   "display_name": "Python 3",
   "language": "python",
   "name": "python3"
  },
  "language_info": {
   "codemirror_mode": {
    "name": "ipython",
    "version": 3
   },
   "file_extension": ".py",
   "mimetype": "text/x-python",
   "name": "python",
   "nbconvert_exporter": "python",
   "pygments_lexer": "ipython3",
   "version": "3.9.4"
  }
 },
 "nbformat": 4,
 "nbformat_minor": 5
}
