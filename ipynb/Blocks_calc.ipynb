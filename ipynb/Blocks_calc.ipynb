{
 "cells": [
  {
   "cell_type": "markdown",
   "id": "4989df7e-5d34-4152-9669-ca309fb69ec0",
   "metadata": {},
   "source": [
    "<h1 style=\"background-color:black;font-family:segoe ui;color:#FFF9ED;font-size:300%;text-align:center;border-radius:10px 10px;\"> \n",
    "🌐 הסבת גושי קדסטר לבנק\"ל מודרני 🌐"
   ]
  },
  {
   "cell_type": "code",
   "execution_count": null,
   "id": "692c4398-e122-4ea5-bd25-4eb13bba9cd9",
   "metadata": {},
   "outputs": [],
   "source": [
    "print(' Cadaster Blocks Borders:')"
   ]
  },
  {
   "cell_type": "markdown",
   "id": "42c10adb-8e2f-492f-83fb-cbf3c199882e",
   "metadata": {},
   "source": [
    "<h1 style=\"text-align:right; font-size:150%; color:#1c6ce6;\">\n",
    "ספריות 📚"
   ]
  },
  {
   "cell_type": "code",
   "execution_count": null,
   "id": "11194afb-04a1-47ac-8803-867948bc614d",
   "metadata": {
    "tags": []
   },
   "outputs": [],
   "source": [
    "import warnings\n",
    "warnings.filterwarnings('ignore')\n",
    "\n",
    "import numpy as np\n",
    "import pandas as pd\n",
    "import geopandas as gpd\n",
    "from configs import CNFG\n",
    "import dask_geopandas as daskgpd"
   ]
  },
  {
   "cell_type": "markdown",
   "id": "3c73379b-202a-4193-be77-bde3345b337a",
   "metadata": {},
   "source": [
    "<h1 style=\"text-align:right; font-size:150%; color:#1c6ce6;\">קריאת נתונים 📑 "
   ]
  },
  {
   "cell_type": "code",
   "execution_count": null,
   "id": "6c4e2e42-aabd-4bfe-bc49-bc9b0bff65e4",
   "metadata": {},
   "outputs": [],
   "source": [
    "print('   Reading inputs')"
   ]
  },
  {
   "cell_type": "markdown",
   "id": "171ba370-0334-45f0-a795-fc23189e6a0b",
   "metadata": {},
   "source": [
    "<h1 style=\"text-align:right;font-size:100%\">\n",
    "טבלת גושים מאורקל"
   ]
  },
  {
   "cell_type": "code",
   "execution_count": null,
   "id": "d5cc2a03-8f6b-4437-9bbb-d4ab658e2a2a",
   "metadata": {},
   "outputs": [],
   "source": [
    "SubGush_table_cols = ['SUB_GUSH_ID', 'GUSH_NUM', 'GUSH_SUFFIX', 'STATUS', 'STATUS_DATE', 'HESDER_LAST_PARCEL']\n",
    "SubGush_table = pd.read_csv(CNFG.Oracle + 'sub_gush.csv', usecols = SubGush_table_cols, encoding = 'cp1255')"
   ]
  },
  {
   "cell_type": "markdown",
   "id": "d4d0fb76-fa1c-4849-9715-03b81b4fc3e8",
   "metadata": {},
   "source": [
    "<h1 style=\"text-align:right;font-size:100%\">\n",
    "נתוני שכבת גושים"
   ]
  },
  {
   "cell_type": "code",
   "execution_count": null,
   "id": "992071aa-0cda-4f39-b468-458df87050d6",
   "metadata": {},
   "outputs": [],
   "source": [
    "SubGush_layer_cols = ['SUB_GUSH_ID_1', 'GUSH_NUM', 'GUSH_SUFFIX', 'geometry']\n",
    "\n",
    "SubGush_layer = daskgpd.read_file(CNFG.Arcstorm + 'SUB_GUSH_ALL.gdb', layer = 'SUB_GUSH_ALL', columns = SubGush_layer_cols, npartitions = 5).compute()\n",
    "\n",
    "SubGush_layer.rename(columns = {'SUB_GUSH_ID_1' : 'SUB_GUSH_ID'}, inplace = True)"
   ]
  },
  {
   "cell_type": "markdown",
   "id": "b1337dfb-2735-4448-ae73-49344bcc3486",
   "metadata": {},
   "source": [
    "<h1 style=\"text-align:right;font-size:100%\">\n",
    "שכבת מפתח גליונות גושים (לאחר שנחתכו בעיבוד מקדים לפי גבולות שכבת גושים)"
   ]
  },
  {
   "cell_type": "code",
   "execution_count": null,
   "id": "5f23216e-19d1-4568-a748-29a84993a03d",
   "metadata": {
    "tags": []
   },
   "outputs": [],
   "source": [
    "SheetKey_cols = ['GUSH_NUM', 'GUSH_SUFFIX', 'STATUS', 'geometry']\n",
    "SheetKey = daskgpd.read_file(CNFG.Arcstorm + 'SHEET_K.gdb', layer = 'SHEET_K_processed', columns = SheetKey_cols, npartitions = 5).compute()\n",
    "SheetKey.rename(columns = {'geometry' : 'Sheet_geometry'}, inplace = True)"
   ]
  },
  {
   "cell_type": "markdown",
   "id": "7d79d606-d6ea-4b38-a9f2-87ecb72938f3",
   "metadata": {},
   "source": [
    "<h1 style=\"text-align:right;font-size:100%\">\n",
    "טבלת חלקות אחרונות בגושים מאורקל"
   ]
  },
  {
   "cell_type": "code",
   "execution_count": null,
   "id": "7497f9d3-4400-4242-8b10-46f6e1d713df",
   "metadata": {},
   "outputs": [],
   "source": [
    "SubMMG_cols = ['SUB_GUSH_ID', 'LAST_PARCEL', 'MMG_LAST_PARCEL', 'COURT_LAST_PARCEL']\n",
    "SubMMG = pd.read_csv(CNFG.Oracle + 'sub_gush_mmg.csv', usecols = SubMMG_cols, encoding = 'cp1255')"
   ]
  },
  {
   "cell_type": "markdown",
   "id": "b6d7fa43-fe6a-45f6-a5bf-87c0efcb68e7",
   "metadata": {},
   "source": [
    "<h1 style=\"text-align:right;font-size:100%\">\n",
    "טבלת גושים שעודכנו בבנק\"ל קיים"
   ]
  },
  {
   "cell_type": "code",
   "execution_count": null,
   "id": "dfb8905a-9f56-4c0f-82e2-888feb464477",
   "metadata": {},
   "outputs": [],
   "source": [
    "edit_dates_cols = ['STATUS_DATE', 'EDIT_ID']\n",
    "edit_dates = pd.read_csv(CNFG.Oracle + 'PARCEL_EDIT.csv', usecols = edit_dates_cols, parse_dates = ['STATUS_DATE'], encoding = 'cp1255')\n",
    "edit_dates.rename(columns = {'STATUS_DATE' : 'UpdateDate'}, inplace = True)"
   ]
  },
  {
   "cell_type": "markdown",
   "id": "14a69ce2-cb6a-45b9-a6a5-61680a61c003",
   "metadata": {},
   "source": [
    "<h1 style=\"text-align:right;font-size:100%\">\n",
    "טבלת תאריכי עדכון בבנק\"ל"
   ]
  },
  {
   "cell_type": "code",
   "execution_count": null,
   "id": "5bca7011-ded6-484a-b668-1bde7d895c3e",
   "metadata": {},
   "outputs": [],
   "source": [
    "edit_blocks_cols = ['SUB_GUSH_ID', 'EDIT_ID']\n",
    "edit_blocks = pd.read_csv(CNFG.Oracle + 'PARCEL_EDIT_GUSH.csv', usecols = edit_blocks_cols)"
   ]
  },
  {
   "cell_type": "code",
   "execution_count": null,
   "id": "34f83395-90d2-4519-ae5e-12727609b670",
   "metadata": {},
   "outputs": [],
   "source": [
    "del [SubGush_layer_cols, SubGush_table_cols, SheetKey_cols, SubMMG_cols, edit_dates_cols, edit_blocks_cols]"
   ]
  },
  {
   "cell_type": "markdown",
   "id": "daa70a7f-4205-4099-aff0-6264172ccba0",
   "metadata": {},
   "source": [
    "<h1 style=\"text-align:right; font-size:150%; color:#1c6ce6;\">\n",
    "עיבוד נתונים 🛠️"
   ]
  },
  {
   "cell_type": "code",
   "execution_count": null,
   "id": "a6791791-1ea7-4951-9611-b27f0e4b57a0",
   "metadata": {},
   "outputs": [],
   "source": [
    "print('   Cleaning data')"
   ]
  },
  {
   "cell_type": "markdown",
   "id": "4e6dd8c5-5b7c-4139-81c9-0239fc38b195",
   "metadata": {},
   "source": [
    "<h1 style=\"text-align:right;font-size:100%\">\n",
    "הסרת גושים מכל מקורות המידע שמספר הגוש שלהם הוא 0 או ריק"
   ]
  },
  {
   "cell_type": "code",
   "execution_count": null,
   "id": "9ed7215c-7ecd-4e15-b29c-42ceb7dd4b75",
   "metadata": {},
   "outputs": [],
   "source": [
    "SubGush_layer = SubGush_layer[(SubGush_layer['GUSH_NUM'] != 0) | (~SubGush_layer['GUSH_NUM'].isna())]\n",
    "SubGush_table = SubGush_table[(SubGush_table['GUSH_NUM'] != 0) | (~SubGush_table['GUSH_NUM'].isna())]\n",
    "SheetKey      = SheetKey     [(SheetKey['GUSH_NUM'] != 0)      | (~SheetKey['GUSH_NUM'].isna())]"
   ]
  },
  {
   "cell_type": "markdown",
   "id": "85189258-5827-474b-ad4e-4b21075abb76",
   "metadata": {},
   "source": [
    "<h1 style=\"text-align:right;font-size:100%\">\n",
    "מילוי ערכים ריקים של שדה תת-גוש בערך 0 לכל מקורות המידע"
   ]
  },
  {
   "cell_type": "code",
   "execution_count": null,
   "id": "24984a93-2e46-4f71-8657-4c20e649ee84",
   "metadata": {},
   "outputs": [],
   "source": [
    "SubGush_layer['GUSH_SUFFIX'] = SubGush_layer['GUSH_SUFFIX'].fillna(0)\n",
    "SubGush_table['GUSH_SUFFIX'] = SubGush_table['GUSH_SUFFIX'].fillna(0)\n",
    "SheetKey['GUSH_SUFFIX']      = SheetKey['GUSH_SUFFIX'].fillna(0)"
   ]
  },
  {
   "cell_type": "markdown",
   "id": "950c5ed2-312c-4f7d-8591-f62c9009676f",
   "metadata": {},
   "source": [
    "<h1 style=\"text-align:right;font-size:100%\">\n",
    "הסרת סטאטוסים לא ידועים או גושי איו\"ש מטבלת גושים באורקל "
   ]
  },
  {
   "cell_type": "code",
   "execution_count": null,
   "id": "0a9512f2-2bc1-4719-8537-d714afc744fd",
   "metadata": {},
   "outputs": [],
   "source": [
    "SubGush_table = SubGush_table[~SubGush_table['STATUS'].isin([0, 99, None, np.nan])]"
   ]
  },
  {
   "cell_type": "markdown",
   "id": "4ac4bbb2-9b39-4fd9-b32a-f3e20fdaf610",
   "metadata": {},
   "source": [
    "<h1 style=\"text-align:right;font-size:100%\">\n",
    "הסרת גושים ממפתח גליונות שכבר נמצאים בשכבת גושים"
   ]
  },
  {
   "cell_type": "code",
   "execution_count": null,
   "id": "3b0d2b54-7b6f-4fa7-8b7a-9737b104bb0c",
   "metadata": {
    "tags": []
   },
   "outputs": [],
   "source": [
    "SubGush_layer['Name'] = SubGush_layer['GUSH_NUM'].astype(str) + '/' + SubGush_layer['GUSH_SUFFIX'].astype(str)\n",
    "SheetKey['Name']      = SheetKey['GUSH_NUM'].astype(str) + '/' + SheetKey['GUSH_SUFFIX'].astype(str)\n",
    "\n",
    "SheetKey = SheetKey[~SheetKey['Name'].isin(SubGush_layer['Name'])]"
   ]
  },
  {
   "cell_type": "markdown",
   "id": "3d6e0c47-06ce-4673-9902-3d81106b72f3",
   "metadata": {},
   "source": [
    "<h1 style=\"text-align:right;font-size:100%\">\n",
    "הסרת גושים ממפתח גליונות שמוגדרים כשומא"
   ]
  },
  {
   "cell_type": "code",
   "execution_count": null,
   "id": "5d8d3e30-283b-428e-b1c4-2458444ac6d7",
   "metadata": {},
   "outputs": [],
   "source": [
    "SheetKey = SheetKey[SheetKey['STATUS'] != 8]\n",
    "\n",
    "SheetKey.drop(columns = ['Name', 'STATUS'], inplace = True)"
   ]
  },
  {
   "cell_type": "markdown",
   "id": "12a16860-7e6a-47bd-a6bf-25f11d067f09",
   "metadata": {},
   "source": [
    "<h1 style=\"text-align:right;font-size:100%\">\n",
    "הגדרות שדות של תאריכים לסוג תאריך"
   ]
  },
  {
   "cell_type": "code",
   "execution_count": null,
   "id": "07a9dbeb-9d2d-41bc-8711-3a37e4764b39",
   "metadata": {},
   "outputs": [],
   "source": [
    "SubGush_table['STATUS_DATE'] = SubGush_table['STATUS_DATE'].str.replace('/1023', '/2023')\n",
    "SubGush_table['STATUS_DATE'] = SubGush_table['STATUS_DATE'].str.replace('/0996', '/1996')\n",
    "\n",
    "SubGush_table['STATUS_DATE'] = pd.to_datetime(SubGush_table['STATUS_DATE'], format='mixed', dayfirst=True)"
   ]
  },
  {
   "cell_type": "markdown",
   "id": "6ce727f7-4844-489c-93dc-78b7bce50a0a",
   "metadata": {},
   "source": [
    "<h1 style=\"text-align:right;font-size:100%\">\n",
    "יצירת שדה מקשר של שם גוש מלא לכל מקורות המידע על מנת להוציא גושים משכבת מפתח גליונות שכבר נמצאים בשכבת גושים"
   ]
  },
  {
   "cell_type": "code",
   "execution_count": null,
   "id": "e38374b5-7436-44d4-8933-10d2518001e4",
   "metadata": {},
   "outputs": [],
   "source": [
    "SubGush_table[['GUSH_NUM', 'GUSH_SUFFIX']] = SubGush_table[['GUSH_NUM', 'GUSH_SUFFIX']].astype(int)\n",
    "SubGush_layer[['GUSH_NUM', 'GUSH_SUFFIX']] = SubGush_layer[['GUSH_NUM', 'GUSH_SUFFIX']].astype(int)\n",
    "SheetKey[['GUSH_NUM', 'GUSH_SUFFIX']] = SheetKey[['GUSH_NUM', 'GUSH_SUFFIX']].astype(int)\n",
    "\n",
    "SheetKey['BlockName'] = SheetKey['GUSH_NUM'].astype(str) + '-' + SheetKey['GUSH_SUFFIX'].astype(str)\n",
    "SubGush_layer['BlockName'] = SubGush_layer['GUSH_NUM'].astype(str) + '-' + SubGush_layer['GUSH_SUFFIX'].astype(str)\n",
    "\n",
    "SheetKey = SheetKey[~SheetKey['BlockName'].isin(SubGush_layer['BlockName'])]\n",
    "\n",
    "SheetKey.drop(columns = 'BlockName', inplace = True)\n",
    "SubGush_layer.drop(columns = 'BlockName', inplace = True)"
   ]
  },
  {
   "cell_type": "code",
   "execution_count": null,
   "id": "5a16d08d-de90-42e2-84be-d4d977e14f99",
   "metadata": {},
   "outputs": [],
   "source": [
    "print('   Data conversion')"
   ]
  },
  {
   "cell_type": "markdown",
   "id": "2d54c7c5-7483-43ca-a54c-18111f3515dc",
   "metadata": {},
   "source": [
    "<h1 style=\"text-align:right;font-size:100%\">\n",
    "מיזוג כל הנתונים\n",
    "<h1 style=\"text-align:right;font-size:75%\">\n",
    "(ישנם מספרי מזהה של גושים בטבלת גושים של אורקל שלא קיים להם מידע במקורות אחרים, גושים אלו יושמטו באיחוד"
   ]
  },
  {
   "cell_type": "code",
   "execution_count": null,
   "id": "1d4512db-4e6c-4367-90f0-efbae8dda3ab",
   "metadata": {},
   "outputs": [],
   "source": [
    "Blocks_all = SubGush_table.merge(right = SubGush_layer, on = ['SUB_GUSH_ID' , 'GUSH_NUM', 'GUSH_SUFFIX'], how = 'left')\\\n",
    "                          .merge(right = SheetKey, on = ['GUSH_NUM', 'GUSH_SUFFIX'], how = 'outer')\\\n",
    "                          .merge(right = SubMMG, on = 'SUB_GUSH_ID', how = 'left')\n",
    "\n",
    "del [SubGush_table, SubMMG, SheetKey]"
   ]
  },
  {
   "cell_type": "markdown",
   "id": "155d91cd-4ae1-4565-9016-56181498d939",
   "metadata": {},
   "source": [
    "<h1 style=\"text-align:right;font-size:100%\">\n",
    "מילוי ערכי ריקים של שדה גיאומטריה בעזרת גיאומטריה שמגיעה ממפתח גליונות\n",
    "<h1 style=\"text-align:right;font-size:100%\">\n",
    "קיבוץ מרחבי לפי שדה של מספר מזהה לגוש בכדי למנוע יישויות גושים מפוצלים (מולטי-פארטס)"
   ]
  },
  {
   "cell_type": "code",
   "execution_count": null,
   "id": "83597e62-f1fb-4222-b30b-6cfe484e71b2",
   "metadata": {
    "tags": []
   },
   "outputs": [],
   "source": [
    "Blocks_all['geometry'] = np.where(Blocks_all['geometry'].isna(),\n",
    "                                  Blocks_all['Sheet_geometry'],\n",
    "                                  Blocks_all['geometry'])\n",
    "\n",
    "Blocks_all.drop(columns = ['Sheet_geometry'], inplace = True)\n",
    "\n",
    "Blocks_all = gpd.GeoDataFrame(data = Blocks_all, geometry = 'geometry', crs = 2039)\n",
    "Blocks_all = Blocks_all.dissolve(by = 'SUB_GUSH_ID', as_index = False, dropna = False)"
   ]
  },
  {
   "cell_type": "markdown",
   "id": "70822d4c-a281-4a57-af36-295369024b8f",
   "metadata": {},
   "source": [
    "<h1 style=\"text-align:right;font-size:100%\">\n",
    "    הגדרת שדה סטאטוס חדש לגוש בעזרת מיפוי ערכים "
   ]
  },
  {
   "cell_type": "code",
   "execution_count": null,
   "id": "5ab854fb-6c37-453e-84ff-ee5168ee6083",
   "metadata": {
    "tags": []
   },
   "outputs": [],
   "source": [
    "Status_classifier = {\n",
    "                     1    : 12, # חדש רשום = נוצר בתצ\"ר\n",
    "                     2    : 21,  # סטאטוס לא ידוע = לא מוסדר\n",
    "                     3    : 13, # לא רשום = טרום תצ\"ר  \n",
    "                     4    : 27, # לא מוסדר = זמני\n",
    "                     5    : 11, # מבוטל = נוצר בהסדר \n",
    "                     6    : 11, # מוסדר = נוצר בהסדר\n",
    "                     7    : 22, # בהסדר = בהסדר חלוקה\n",
    "#                    8    : __  #שומא - הוסרו \n",
    "                     9    : 27, # רישום ראשון = זמני\n",
    "                     10   : 22, # חלוקה = בהסדר חלוקה\n",
    "                     11   : 23, # מוקדמת = בהסדר מוקדמת\n",
    "                     13   : 24, # ארעית = בהסדר ארעית\n",
    "                     15   : 25, # סופית = בהסדר סופית\n",
    "                     16   : 11, # ירדני = נוצר בהסדר\n",
    "                     17   : 21, # ירדני בהסדר = לא מוסדר\n",
    "                     18   : 21, # רישום בשטח לא מוסדר = לא מוסדר\n",
    "                     51   : 21, # חדש מבוטל = לא מוסדר\n",
    "                     56   : 21, # הסדר מבוטל = לא מוסדר\n",
    "                     57   : 21, # מתבטל הסדר = לא מוסדר\n",
    "                     58   : 21, # גוש בשטח לא מוסדר - מבוטל = לא מוסדר\n",
    "                     None : 22 # ללא ערך = זמני\n",
    "                    }\n",
    "\n",
    "\n",
    "Blocks_all['BlockStatus'] = Blocks_all['STATUS'].map(Status_classifier)"
   ]
  },
  {
   "cell_type": "code",
   "execution_count": null,
   "id": "e6d0b58f-38b7-4e29-8f0c-10302b769a26",
   "metadata": {
    "tags": []
   },
   "outputs": [],
   "source": [
    "setteled_cond = (Blocks_all['STATUS_DATE'].notna()) | (Blocks_all['HESDER_LAST_PARCEL'].notna())\n",
    "Blocks_all['BlockStatus'] = np.where(setteled_cond & (Blocks_all['BlockStatus'] == 21), 11, Blocks_all['BlockStatus'])\n",
    "\n",
    "Blocks_all['BlockStatus'] = Blocks_all['BlockStatus'].astype(int)\n",
    "\n",
    "del Status_classifier"
   ]
  },
  {
   "cell_type": "markdown",
   "id": "c968cd5e-feaa-4e3d-9c1a-96ed028ca3f7",
   "metadata": {},
   "source": [
    "<h1 style=\"text-align:right;font-size:100%\">\n",
    "STATUS הגדרת שדה סוג מקרקעין  לגוש בעזרת מיפוי ערכי שדה"
   ]
  },
  {
   "cell_type": "code",
   "execution_count": null,
   "id": "e79c1fcf-598f-4f1f-a851-8036748f2c52",
   "metadata": {
    "tags": []
   },
   "outputs": [],
   "source": [
    "registered_LandTypes   = [11, 12] # or by STATUS [1,3,6,16] = [חדש רשום, לא רשום, מוסדר, ירדני]\n",
    "\n",
    "register_code   = 1\n",
    "unregister_code = 2\n",
    "\n",
    "registered_cond = Blocks_all['BlockStatus'].isin(registered_LandTypes)\n",
    "\n",
    "Blocks_all['LandType'] = np.where(registered_cond,\n",
    "                                  register_code,\n",
    "                                  unregister_code)\n",
    "\n",
    "del [registered_LandTypes, register_code, unregister_code]"
   ]
  },
  {
   "cell_type": "markdown",
   "id": "bf35a1e9-44d2-4cc4-9408-d48e394d5c21",
   "metadata": {},
   "source": [
    "<h1 style=\"text-align:right;font-size:100%\">\n",
    "STATUS הגדרת שדה בינארי לגוש ירדני בעזרת מיפוי ערך 16 בשדה"
   ]
  },
  {
   "cell_type": "code",
   "execution_count": null,
   "id": "91a883e0-1ae1-4988-b5ed-b7934df7ad77",
   "metadata": {},
   "outputs": [],
   "source": [
    "IsJordanian_code    = 1\n",
    "IsNotJordanian_code = 0\n",
    "\n",
    "Blocks_all['IsJordanian'] = np.where(Blocks_all['STATUS'] == 16, IsJordanian_code, IsNotJordanian_code)\n",
    "\n",
    "del [IsJordanian_code, IsNotJordanian_code]"
   ]
  },
  {
   "cell_type": "markdown",
   "id": "83605e7c-3684-4bf6-ae8f-7cb0c28fbb5c",
   "metadata": {},
   "source": [
    "<h1 style=\"text-align:right;font-size:100%\">\n",
    "מיזוג טבלאות של עדכנוי גושים בבנק\"ל והסרת כפילויות כאשר הרשומה בעלת התאריך המקסימלי תישאר"
   ]
  },
  {
   "cell_type": "code",
   "execution_count": null,
   "id": "6ba41221-8456-4c07-b367-baf788459a68",
   "metadata": {},
   "outputs": [],
   "source": [
    "edit_dates['UpdateDate'] = pd.to_datetime(edit_dates['UpdateDate'], errors = 'coerce')\n",
    "\n",
    "update_dates = edit_dates.merge(right = edit_blocks,\n",
    "                                on    = 'EDIT_ID',\n",
    "                                how   = 'inner')\\\n",
    "                         .drop(columns = 'EDIT_ID')\\\n",
    "                         .sort_values(by = 'UpdateDate')\n",
    "\n",
    "update_dates = update_dates.groupby(by = 'SUB_GUSH_ID',\n",
    "                                    as_index = False,\n",
    "                                    dropna = True).max()\n",
    "\n",
    "\n",
    "del [edit_dates, edit_blocks]"
   ]
  },
  {
   "cell_type": "markdown",
   "id": "676a3762-d7f5-42c0-ab09-db713c71708a",
   "metadata": {},
   "source": [
    "<h1 style=\"text-align:right;font-size:100%\">\n",
    "מיזוג עם נתוני גושים לקבלת תאריכי עדכון אחרון של הגוש"
   ]
  },
  {
   "cell_type": "code",
   "execution_count": null,
   "id": "93164898-dc0a-4a36-a316-308783969e51",
   "metadata": {},
   "outputs": [],
   "source": [
    "Blocks_all = Blocks_all.merge(right = update_dates,\n",
    "                              how   = 'left',\n",
    "                              on    = 'SUB_GUSH_ID')\n",
    "\n",
    "del update_dates"
   ]
  },
  {
   "cell_type": "markdown",
   "id": "c8f1080a-cd35-4408-aec0-78f99a1b7185",
   "metadata": {},
   "source": [
    "<h1 style=\"text-align:right;font-size:100%\">\n",
    "תיקון חלקות אחרונות שקיבלו מספר 0 יקבלו ערך ריק"
   ]
  },
  {
   "cell_type": "code",
   "execution_count": null,
   "id": "626085df-5248-4cf0-a4ab-08262c28d9cc",
   "metadata": {
    "tags": []
   },
   "outputs": [],
   "source": [
    "for column in ['LAST_PARCEL', 'MMG_LAST_PARCEL', 'HESDER_LAST_PARCEL', 'COURT_LAST_PARCEL']:\n",
    "    Blocks_all[column] = Blocks_all[column].fillna(0)\n",
    "    \n",
    "    Blocks_all[column] = np.where(Blocks_all[column] == 0,\n",
    "                                  None,\n",
    "                                  Blocks_all[column])"
   ]
  },
  {
   "cell_type": "markdown",
   "id": "f153cd6e-213a-4f6e-b980-acc4a6c12ed8",
   "metadata": {},
   "source": [
    "<h1 style=\"text-align:right;font-size:100%\">\n",
    "הסרת גיאומטריה לגושים בסטאטוס של הסדר ובסטאטוס של טרום תצ\"ר"
   ]
  },
  {
   "cell_type": "code",
   "execution_count": null,
   "id": "9c63e49a-ea9f-4f7f-b209-3a06ec1e4e52",
   "metadata": {},
   "outputs": [],
   "source": [
    "inregulate_cond = (Blocks_all['BlockStatus'].isin([13, 22, 23, 24, 25]))\n",
    "\n",
    "Blocks_all['geometry'] = np.where(inregulate_cond, None, Blocks_all['geometry'])\n",
    "\n",
    "del inregulate_cond"
   ]
  },
  {
   "cell_type": "markdown",
   "id": "01402b12-dd23-4b85-96dd-9d491c72f8ad",
   "metadata": {},
   "source": [
    "<h1 style=\"text-align:right;font-size:100%\">\n",
    "הגדרת גושים מבוטלים\n",
    "<h1 style=\"text-align:right;font-size:100%\">\n",
    "כל גוש ללא גיאומטריה יוגדר כמבוטל למעט גושים בתהליך הסדר או טרום תצ\"ר"
   ]
  },
  {
   "cell_type": "code",
   "execution_count": null,
   "id": "1501d68b-f5af-41f3-843c-1ed807acfc7d",
   "metadata": {},
   "outputs": [],
   "source": [
    "retired_cond = ((Blocks_all['geometry'].isna()) & (~Blocks_all['BlockStatus'].isin([13, 22, 23, 24, 25])))\n",
    "\n",
    "Blocks_all['RetiredByRecord'] = np.where(retired_cond, CNFG.FabricatedCancelProcessGUID, None)\n",
    "\n",
    "Blocks_all.drop(columns = 'STATUS', inplace = True)"
   ]
  },
  {
   "cell_type": "markdown",
   "id": "80f0d210-bf36-4830-aa58-406d13bcd044",
   "metadata": {
    "tags": []
   },
   "source": [
    "<h1 style=\"text-align:right; font-size:150%; color:#1c6ce6;\"> \n",
    "יצירת שכבה חדשה בהתאם לאפיון ✨"
   ]
  },
  {
   "cell_type": "code",
   "execution_count": null,
   "id": "d95121ac-fe7a-4ccb-85d5-0c0a60782c52",
   "metadata": {},
   "outputs": [],
   "source": [
    "print('   Defining new Layer')"
   ]
  },
  {
   "cell_type": "code",
   "execution_count": null,
   "id": "23d01a08-0026-40b1-ade6-001de9f5d3a3",
   "metadata": {},
   "outputs": [],
   "source": [
    "new_columns = np.dtype([\n",
    "                        ('BlockNumber', int),\n",
    "                        (\"SubBlockNumber\", int),\n",
    "                        (\"Name\", str),\n",
    "                        (\"BlockStatus\", int),\n",
    "                        (\"StatedAreaUnit\", int),\n",
    "                        (\"IsJordanian\", int),\n",
    "                        (\"LandType\", int),\n",
    "                        (\"SetteledDate\", 'datetime64[D]'),\n",
    "                        (\"UpdateDate\", 'datetime64[D]'),\n",
    "                        (\"LastRegisterdParcel\", int),\n",
    "                        (\"LastParcel\", int),\n",
    "                        (\"LastSetteledParcel\", int),\n",
    "                        (\"LastCourtParcel\", int),\n",
    "                        (\"CreatedByRecord\", str),\n",
    "                        (\"RetiredByRecord\", str),\n",
    "                        (\"IsTax\", int),\n",
    "                        (\"ORACLE_ID\", int),\n",
    "                        (\"geometry\", gpd.array.GeometryDtype)\n",
    "                        ])\n",
    "\n",
    "\n",
    "Blocks = gpd.GeoDataFrame(np.empty(0, dtype = new_columns), geometry = 'geometry', crs = 2039)"
   ]
  },
  {
   "cell_type": "markdown",
   "id": "090b3dfd-5ab8-483d-aa63-072d83fda65f",
   "metadata": {},
   "source": [
    "<h1 style=\"text-align:right;font-size:100%\">\n",
    "איכלוס שדות לגושים מוסדרים ולא מוסדרים"
   ]
  },
  {
   "cell_type": "code",
   "execution_count": null,
   "id": "5012c531-5af7-450d-adf0-85407c979514",
   "metadata": {},
   "outputs": [],
   "source": [
    "Blocks['ORACLE_ID'] = Blocks_all['SUB_GUSH_ID'].astype('Int64')\n",
    "\n",
    "Blocks['BlockNumber'] = Blocks_all['GUSH_NUM'].astype(int)\n",
    "\n",
    "\n",
    "Blocks['SubBlockNumber'] = Blocks_all['GUSH_SUFFIX'].fillna(0)\n",
    "Blocks['SubBlockNumber'] = Blocks['SubBlockNumber'].astype(int)\n",
    "\n",
    "\n",
    "Blocks['Name'] = Blocks['BlockNumber'].astype(str) + '/' + Blocks['SubBlockNumber'].astype(str)\n",
    "\n",
    "\n",
    "Blocks['BlockStatus'] = Blocks_all['BlockStatus'].astype(int)\n",
    "\n",
    "\n",
    "Blocks['StatedAreaUnit'] = 109404 #Square Meter\n",
    "\n",
    "\n",
    "Blocks['IsJordanian'] = Blocks_all['IsJordanian'].astype(int)\n",
    "\n",
    "Blocks['IsTax'] = 0   # לא\n",
    "\n",
    "\n",
    "Blocks['LandType'] = Blocks_all['LandType'].astype(int)\n",
    "\n",
    "\n",
    "Blocks['SetteledDate'] = Blocks_all['STATUS_DATE']\n",
    "\n",
    "\n",
    "Blocks['UpdateDate'] = Blocks_all['UpdateDate']\n",
    "\n",
    "\n",
    "Blocks['LastRegisterdParcel'] = Blocks_all['LAST_PARCEL']\n",
    "\n",
    "\n",
    "Blocks['LastParcel'] = Blocks_all['MMG_LAST_PARCEL']\n",
    "\n",
    "\n",
    "Blocks['LastSetteledParcel'] = Blocks_all['HESDER_LAST_PARCEL']\n",
    "\n",
    "\n",
    "Blocks['LastCourtParcel'] = Blocks_all['COURT_LAST_PARCEL']\n",
    "\n",
    "Blocks[['LastParcel', 'LastRegisterdParcel', 'LastSetteledParcel', 'LastCourtParcel']] = Blocks[['LastParcel', 'LastRegisterdParcel', 'LastSetteledParcel', 'LastCourtParcel']].astype('Int64')\n",
    "\n",
    "\n",
    "Blocks['geometry'] = Blocks_all['geometry']\n",
    "\n",
    "\n",
    "Blocks['RetiredByRecord'] = Blocks_all['RetiredByRecord']\n",
    "\n",
    "\n",
    "Blocks['CreatedByRecord'] = CNFG.FabricatedCreateProcessGUID"
   ]
  },
  {
   "cell_type": "code",
   "execution_count": null,
   "id": "10b2bdb6-246a-4f1d-8c63-95c094c979ff",
   "metadata": {},
   "outputs": [],
   "source": [
    "del Blocks_all"
   ]
  },
  {
   "cell_type": "markdown",
   "id": "cb60129f-8ad7-4737-918e-11c87d972025",
   "metadata": {},
   "source": [
    "<h1 style=\"text-align:right; font-size:150%; color:#1c6ce6;\"> \n",
    "שמירת תוצאות 💾\n",
    "<h1 style=\"text-align:right; font-size:100%;\">\n",
    "\n",
    "<h1 style=\"text-align:right; font-size:100%;\">     \n",
    "פיצול התוצאות לפי סוגי גיאומטריה שונים (פעולה טכנית כי לא ניתן לכתוב קובץ סוגי גיאומטריה שונים באותה שכבה)    \n",
    "<h1 style=\"text-align:right; font-size:100%;\"> \n",
    "שמירת שכבה גיאוגרפית של כל הגושים "
   ]
  },
  {
   "cell_type": "code",
   "execution_count": null,
   "id": "3f96c8a1-737b-442b-a3a2-69ecefa52b0b",
   "metadata": {},
   "outputs": [],
   "source": [
    "print('   Exporting results')"
   ]
  },
  {
   "cell_type": "code",
   "execution_count": null,
   "id": "438fc7d3-7303-4aa4-ba07-c3546fd545e1",
   "metadata": {},
   "outputs": [],
   "source": [
    "Polygons      = Blocks[(~Blocks['geometry'].isna()) & (Blocks['geometry'].geom_type == 'Polygon')]\n",
    "\n",
    "MultiPolygons = Blocks[(~Blocks['geometry'].isna()) & (Blocks['geometry'].geom_type == 'MultiPolygon')]\n",
    "\n",
    "EmptyGeometry = Blocks[Blocks['geometry'].isna()]"
   ]
  },
  {
   "cell_type": "code",
   "execution_count": null,
   "id": "5504c8a1-1dbf-4ab1-86eb-c63fe172aa64",
   "metadata": {
    "tags": []
   },
   "outputs": [],
   "source": [
    "Polygons.to_file(CNFG.Results, layer = 'Blocks', driver = 'OpenFileGDB', engine = 'pyogrio', mode = 'w')\n",
    "MultiPolygons.to_file(CNFG.Results, layer = 'Blocks', driver = 'OpenFileGDB', engine = 'pyogrio', mode = 'a')\n",
    "EmptyGeometry.to_file(CNFG.Results, layer = 'Blocks', driver = 'OpenFileGDB', engine = 'pyogrio', mode = 'a')"
   ]
  }
 ],
 "metadata": {
  "kernelspec": {
   "display_name": "Python 3 (ipykernel)",
   "language": "python",
   "name": "python3"
  },
  "language_info": {
   "codemirror_mode": {
    "name": "ipython",
    "version": 3
   },
   "file_extension": ".py",
   "mimetype": "text/x-python",
   "name": "python",
   "nbconvert_exporter": "python",
   "pygments_lexer": "ipython3",
   "version": "3.11.3"
  }
 },
 "nbformat": 4,
 "nbformat_minor": 5
}
