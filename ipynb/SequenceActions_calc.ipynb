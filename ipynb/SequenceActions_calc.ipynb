{
 "cells": [
  {
   "cell_type": "markdown",
   "id": "943546e8-d8f2-4297-8dad-f3e1a39b5536",
   "metadata": {},
   "source": [
    "<h1 style=\"background-color:#1c6ce6;\n",
    "           font-family:segoe ui;\n",
    "                color:#FFF9ED;\n",
    "           font-size:300%;\n",
    "           text-align:center;\n",
    "           border-radius:10px 10px;\"> \n",
    "🔀 תהליך הסבת טבלת סדר פעולות לבנק\"ל מודרני 🔀 "
   ]
  },
  {
   "cell_type": "code",
   "execution_count": null,
   "id": "90cac2cb-e8f4-4581-9d5c-7e6f8d48cdf5",
   "metadata": {},
   "outputs": [],
   "source": [
    "print(' Sequence Actions Table:')"
   ]
  },
  {
   "cell_type": "markdown",
   "id": "36e6ebb3-1da0-4c9f-87a1-7d7b5e4f8317",
   "metadata": {},
   "source": [
    "<h1 style=\"text-align:right; font-size:150%; color:#1c6ce6;\">\n",
    "ספריות 📚"
   ]
  },
  {
   "cell_type": "code",
   "execution_count": null,
   "id": "b4fab528-6884-4d4f-8e10-d36c4d9dcaac",
   "metadata": {
    "tags": []
   },
   "outputs": [],
   "source": [
    "import warnings\n",
    "warnings.filterwarnings('ignore')\n",
    "\n",
    "import numpy as np\n",
    "import pandas as pd\n",
    "import geopandas as gpd\n",
    "from configs import CNFG"
   ]
  },
  {
   "cell_type": "code",
   "execution_count": null,
   "id": "4213fbae-da1c-4a1b-bf64-6dd94c104e49",
   "metadata": {},
   "outputs": [],
   "source": [
    "print('   Reading inputs')"
   ]
  },
  {
   "cell_type": "markdown",
   "id": "ea134cf1-4726-4eeb-9605-5ff95f273cfd",
   "metadata": {},
   "source": [
    "<h1 style=\"text-align:right; font-size:150%; color:#1c6ce6;\">קריאת נתונים 📑 "
   ]
  },
  {
   "cell_type": "markdown",
   "id": "bd412897-9d81-4d26-9cdf-8c7816875c9e",
   "metadata": {
    "tags": []
   },
   "source": [
    "<h1 style=\"text-align:right;font-size:100%\">\n",
    "שכבת גבולות תהליכי קדסטר"
   ]
  },
  {
   "cell_type": "code",
   "execution_count": null,
   "id": "e0dd59a6-68c7-4b20-8668-5bc41f32a65c",
   "metadata": {},
   "outputs": [],
   "source": [
    "cpb_cols = ['GlobalID', 'ProcessName', 'ProcessType', 'ORACLE_ID']\n",
    "CPB_layer = gpd.read_file(CNFG.ProductPath, layer = 'CadasterProcessBorders', include_fields = cpb_cols, ignore_geometry = True)"
   ]
  },
  {
   "cell_type": "markdown",
   "id": "df0557eb-e0a7-4e56-816b-32b5aa8be67f",
   "metadata": {
    "tags": []
   },
   "source": [
    "<h1 style=\"text-align:right;font-size:150%\">\n",
    ":נתוני פעולות של תצ\"ר\n",
    "<h1 style=\"text-align:right;font-size:100%\">\n",
    "טבלת סדר פעולות תצ\"ר קיימת"
   ]
  },
  {
   "cell_type": "code",
   "execution_count": null,
   "id": "b222950c-d5e6-49c2-bce0-9d14563af237",
   "metadata": {
    "tags": []
   },
   "outputs": [],
   "source": [
    "action_parcel_cols = ['GUSH_NUM', 'GUSH_SUFFIX', 'ACTION_NUM', 'LINE', 'TALAR_ID', 'FROM_PARCEL_TMP','FROM_PARCEL_FINAL', 'TO_GUSH_NUM', 'TO_GUSH_SUFFIX', 'TO_PARCEL_TMP', 'TO_PARCEL_FINAL']\n",
    "\n",
    "action_parcel = pd.read_csv(CNFG.Oracle + 'action_parcel.csv', usecols = action_parcel_cols)"
   ]
  },
  {
   "cell_type": "markdown",
   "id": "592d383c-68d7-44ac-8477-0499a6990ee6",
   "metadata": {},
   "source": [
    "<h1 style=\"text-align:right;font-size:100%\">\n",
    "טבלת עדכון חלקות תצ\"ר קיימת"
   ]
  },
  {
   "cell_type": "code",
   "execution_count": null,
   "id": "7fb41482-c151-46f2-a043-b7d7dde56f1e",
   "metadata": {
    "tags": []
   },
   "outputs": [],
   "source": [
    "revision_action_cols = ['ACTION_TYPE', 'TALAR_ID', 'ACTION_NUM', 'ACTION_TYPE']\n",
    "\n",
    "revision_action = pd.read_csv(CNFG.Oracle + 'REV_ACTION.csv', usecols = revision_action_cols)"
   ]
  },
  {
   "cell_type": "markdown",
   "id": "2097487a-60cb-41f0-b824-ab9e3c035624",
   "metadata": {},
   "source": [
    "<h1 style=\"text-align:right;font-size:100%\"> \n",
    "טבלת פעולות של תצ\"ר"
   ]
  },
  {
   "cell_type": "code",
   "execution_count": null,
   "id": "5966b77d-f597-4210-9546-bc591c75e876",
   "metadata": {
    "tags": []
   },
   "outputs": [],
   "source": [
    "talar_actions = pd.read_csv(CNFG.Oracle + 'TALAR_ACTIONS.csv')"
   ]
  },
  {
   "cell_type": "markdown",
   "id": "cd3593d8-1a28-425a-8f17-a33747cbd64d",
   "metadata": {},
   "source": [
    "<h1 style=\"text-align:right;font-size:100%\"> \n",
    "טבלת פעולות של תצ\"ר כרטסת"
   ]
  },
  {
   "cell_type": "code",
   "execution_count": null,
   "id": "042c754f-9059-49fb-b817-9bbe67f7fc84",
   "metadata": {
    "tags": []
   },
   "outputs": [],
   "source": [
    "talar_card_origin = pd.read_csv(CNFG.Oracle + 'talar_card_origin.csv')\n",
    "\n",
    "talar_card_dest = pd.read_csv(CNFG.Oracle + 'talar_card_dest.csv')\n",
    "\n",
    "talar_card = pd.concat([talar_card_origin, talar_card_dest], ignore_index=True).sort_values('TALAR_ID')\n",
    "columns_order = ['TALAR_ID', 'REVISION_NUM', 'GUSH_NUM', 'GUSH_SUFFIX', 'TEMP_PARCEL', 'FINAL_PARCEL', 'TO_GUSH_NUM', 'TO_GUSH_SUFFIX', 'TO_TEMP_PARCEL', 'TO_FINAL_PARCEL']\n",
    "talar_card = talar_card[columns_order]"
   ]
  },
  {
   "cell_type": "markdown",
   "id": "a1e1740e-fea4-4dae-93e2-726174b03784",
   "metadata": {},
   "source": [
    "<h1 style=\"text-align:right;font-size:100%\"> \n",
    "נתוני חלקות ארעיות מתצ\"ר מקור"
   ]
  },
  {
   "cell_type": "code",
   "execution_count": null,
   "id": "cb5c86f1-9654-44be-80fe-11307b544a0b",
   "metadata": {
    "tags": []
   },
   "outputs": [],
   "source": [
    "ParcelSources_cols = ['TALAR_NUM', 'TALAR_YEAR', 'GUSHNUM', 'GUSHSUFFIX', 'TEMP_PARCELS']\n",
    "\n",
    "ParcelSources = pd.read_csv(CNFG.Oracle + 'general_inProcess.csv', usecols = ParcelSources_cols, encoding = 'utf-8')"
   ]
  },
  {
   "cell_type": "markdown",
   "id": "4f7a55d9-d055-488c-8283-dda8a9dcf24c",
   "metadata": {},
   "source": [
    "<h1 style=\"text-align:right;font-size:150%\">\n",
    ":נתונים לפעולות של תת\"ג"
   ]
  },
  {
   "cell_type": "code",
   "execution_count": null,
   "id": "31b6c4b6-d23f-4d25-872c-4c95ae4110d8",
   "metadata": {
    "tags": []
   },
   "outputs": [],
   "source": [
    "parcel_inprocess_cols = ['GUSHNUM', 'GUSHSUFFIX', 'PARCELNAME', 'TALAR_NUM', 'TALAR_YEAR', 'CADASTER_PROCESS']\n",
    "parcel_inprocess = pd.read_csv(CNFG.Oracle + 'PARCELS_INPROCESS.csv', usecols = parcel_inprocess_cols, encoding = 'cp1256')\n",
    "\n",
    "parcel_inprocess_tatag = parcel_inprocess[parcel_inprocess['CADASTER_PROCESS'] == 12].drop(columns = 'CADASTER_PROCESS')\\\n",
    "                                                                                     .rename(columns={'TALAR_NUM' : 'TATAG_NUM',\n",
    "                                                                                                      'TALAR_YEAR' : 'TATAG_YEAR'})"
   ]
  },
  {
   "cell_type": "code",
   "execution_count": null,
   "id": "a1c6a22f-fad5-4914-9e10-b47d330b7914",
   "metadata": {
    "tags": []
   },
   "outputs": [],
   "source": [
    "tatag_table_cols = ['TATAG_NUM', 'TATAG_YEAR', 'TATAG_STATUS']\n",
    "tatag_table = pd.read_csv(CNFG.Oracle + 'TATAG.csv', usecols = tatag_table_cols)"
   ]
  },
  {
   "cell_type": "markdown",
   "id": "fecf3543-ad3e-4b77-975c-bb7932a4be63",
   "metadata": {},
   "source": [
    "<h1 style=\"text-align:right;font-size:150%\">\n",
    ":'נתונים לפעולות תיקוני 97 ב"
   ]
  },
  {
   "cell_type": "code",
   "execution_count": null,
   "id": "dd687b93-6438-4aec-aa31-aec228e83c6b",
   "metadata": {
    "tags": []
   },
   "outputs": [],
   "source": [
    "tikun_hesder_97b_cols = ['MISPAR_PNIA', 'GUSH_NUM', 'GUSH_SUFFIX', 'PARCELS', 'CODE_STEP']\n",
    "\n",
    "tikun_hesder_97b = pd.read_csv(CNFG.Oracle + 'TIKUN_HESDER_97B.csv', usecols = tikun_hesder_97b_cols)"
   ]
  },
  {
   "cell_type": "markdown",
   "id": "564450a6-4856-48e6-9b0c-974ff221b519",
   "metadata": {},
   "source": [
    "<h1 style=\"text-align:right;font-size:150%\">\n",
    "נתונים לפעולות פסדקי דין"
   ]
  },
  {
   "cell_type": "markdown",
   "id": "4bbca41a-8f86-4942-86db-7a21bd767781",
   "metadata": {
    "tags": []
   },
   "source": [
    "<h1 style=\"text-align:right;font-size:100%\">\n",
    "טבלת פסק דין"
   ]
  },
  {
   "cell_type": "code",
   "execution_count": null,
   "id": "d72211ac-8cf2-4bbe-bbce-5b5ca5dd4b69",
   "metadata": {
    "tags": []
   },
   "outputs": [],
   "source": [
    "judgements_cols = ['PSAK_DIN_ID', 'STATUS', 'GUSH_NUM', 'GUSH_SUFFIX']\n",
    "\n",
    "judgements = pd.read_csv(CNFG.Oracle + 'psak_din.csv', usecols = judgements_cols, encoding = 'cp1255')"
   ]
  },
  {
   "cell_type": "markdown",
   "id": "eda8f4d6-dd54-4b87-9100-9498cd547a08",
   "metadata": {},
   "source": [
    "<h1 style=\"text-align:right;font-size:100%\">\n",
    "טבלת חלקות פסקי דין"
   ]
  },
  {
   "cell_type": "code",
   "execution_count": null,
   "id": "6ad9d8c8-6fc6-447d-8cc9-de2ee03361bd",
   "metadata": {
    "tags": []
   },
   "outputs": [],
   "source": [
    "judgements_parcels_cols = ['PSAK_DIN_ID', 'PARCEL', 'TYPE']\n",
    "\n",
    "judgements_parcels = pd.read_csv(CNFG.Oracle + 'psak_din_parcels.csv', usecols = judgements_parcels_cols)"
   ]
  },
  {
   "cell_type": "code",
   "execution_count": null,
   "id": "00641d39-3837-490b-b086-91f26669dc3d",
   "metadata": {},
   "outputs": [],
   "source": [
    "del [cpb_cols, revision_action_cols, action_parcel_cols, talar_card_origin, talar_card_dest, columns_order,\n",
    "     parcel_inprocess_cols, parcel_inprocess, tatag_table_cols, tikun_hesder_97b_cols,\n",
    "     judgements_cols, judgements_parcels_cols, ParcelSources_cols]"
   ]
  },
  {
   "cell_type": "markdown",
   "id": "9868465d-39c3-4ad9-9835-be7e82f7cc24",
   "metadata": {},
   "source": [
    "\n",
    "\n",
    "\n",
    "\n",
    "\n",
    "\n",
    "\n",
    "\n",
    "\n",
    "\n",
    "\n",
    "\n",
    "\n",
    "\n",
    "\n",
    "\n",
    "\n",
    "\n",
    "\n",
    "\n",
    "\n",
    "\n",
    "\n",
    "\n",
    "\n",
    "\n",
    "\n",
    "\n",
    "\n",
    "\n",
    "\n",
    "\n"
   ]
  },
  {
   "cell_type": "code",
   "execution_count": null,
   "id": "b37d0988-c853-4755-b3d4-9cb560e6d5ad",
   "metadata": {},
   "outputs": [],
   "source": [
    "print('   Cleaning data')"
   ]
  },
  {
   "cell_type": "code",
   "execution_count": null,
   "id": "b21b7ccb-7e0f-4b8d-9400-27627b783320",
   "metadata": {},
   "outputs": [],
   "source": [
    "print('   Data conversion')"
   ]
  },
  {
   "cell_type": "markdown",
   "id": "bf7cce93-5b3d-43ba-984b-88bc412f663a",
   "metadata": {},
   "source": [
    "<h1 style=\"text-align:right; font-size:150%; color:#1c6ce6;\">\n",
    "עיבוד נתונים 🛠️"
   ]
  },
  {
   "cell_type": "markdown",
   "id": "a0fa9556-d51a-49d5-9328-6221ddc1c817",
   "metadata": {
    "tags": []
   },
   "source": [
    "<h1 style=\"text-align:right;font-size:150%\">\n",
    ":עיבוד נתוני תצ\"ר"
   ]
  },
  {
   "cell_type": "code",
   "execution_count": null,
   "id": "1a883bb2-a755-4e9a-9f7e-73fa67c443fa",
   "metadata": {},
   "outputs": [],
   "source": [
    "CPB_tazar = CPB_layer[CPB_layer['ProcessType'].isin([1, 11])]\n",
    "CPB_tazar['ORACLE_ID'] = CPB_tazar['ORACLE_ID'].astype('Int64')"
   ]
  },
  {
   "cell_type": "code",
   "execution_count": null,
   "id": "3ca14f7c-b1cc-43c9-a528-04a498699442",
   "metadata": {},
   "outputs": [],
   "source": [
    "ParcelSources = ParcelSources[(ParcelSources['TALAR_NUM'].notna())\n",
    "                                               &\n",
    "                              (ParcelSources['TALAR_YEAR'].notna())\n",
    "                                               &\n",
    "                              (ParcelSources['GUSHNUM'].notna())\n",
    "                                               &\n",
    "                              (ParcelSources['GUSHNUM'] != 0)\n",
    "                                               &\n",
    "                              (ParcelSources['TEMP_PARCELS'].notna())]\n",
    "\n",
    "ParcelSources[['TALAR_NUM', 'TALAR_YEAR']] = ParcelSources[['TALAR_NUM', 'TALAR_YEAR']].astype(int)\n",
    "ParcelSources['CurrentProcessName'] = ParcelSources['TALAR_NUM'].astype(str) + '/' + ParcelSources['TALAR_YEAR'].astype(str)\n",
    "\n",
    "ParcelSources['GUSHSUFFIX'] = ParcelSources['GUSHSUFFIX'].fillna(0)\n",
    "ParcelSources[['GUSHNUM', 'GUSHSUFFIX']] = ParcelSources[['GUSHNUM', 'GUSHSUFFIX']].astype(int)\n",
    "ParcelSources['BlockName'] = ParcelSources['GUSHNUM'].astype(str) + '/' + ParcelSources['GUSHSUFFIX'].astype(str)\n",
    "\n",
    "\n",
    "ParcelSources.drop(columns = ['TALAR_NUM', 'TALAR_YEAR', 'GUSHNUM', 'GUSHSUFFIX'], inplace = True)\n",
    "\n",
    "\n",
    "ParcelSources['TEMP_PARCELS'] = ParcelSources['TEMP_PARCELS'].str.split(',')\n",
    "ParcelSources = ParcelSources.explode('TEMP_PARCELS', ignore_index = True)\n",
    "ParcelSources[['ParcelNumber', 'SourceProcessName']] = ParcelSources['TEMP_PARCELS'].str.split(':', expand = True)\n",
    "ParcelSources.drop(columns=['TEMP_PARCELS'], inplace = True)\n",
    "\n",
    "ParcelSources = ParcelSources[ParcelSources['ParcelNumber'].notna()]\n",
    "ParcelSources['ParcelNumber'] = ParcelSources['ParcelNumber'].astype(int)\n",
    "ParcelSources['TempParcelName'] = ParcelSources['ParcelNumber'].astype(str) + '/' + ParcelSources['BlockName']\n",
    "ParcelSources = ParcelSources.drop_duplicates(keep = 'first')\n",
    "\n",
    "ParcelSources = ParcelSources.merge(right = CPB_tazar[['GlobalID', 'ProcessName']],\n",
    "                                    left_on = 'SourceProcessName',\n",
    "                                    right_on = 'ProcessName',\n",
    "                                    how = 'left')\\\n",
    "                             .rename(columns = {'GlobalID' : 'CPBTempSourceID'})\\\n",
    "                             .drop(columns = 'ProcessName')\n",
    "\n",
    "ParcelSources = ParcelSources.merge(right = CPB_tazar[['GlobalID', 'ProcessName']],\n",
    "                                    left_on = 'CurrentProcessName',\n",
    "                                    right_on = 'ProcessName',\n",
    "                                    how = 'left')\\\n",
    "                             .rename(columns = {'GlobalID' : 'CurrentCPBID'})\\\n",
    "                             .drop(columns = 'ProcessName')"
   ]
  },
  {
   "cell_type": "markdown",
   "id": "5eb5f43f-6ccb-41d5-b506-2df5dfcd3931",
   "metadata": {},
   "source": [
    "<h1 style=\"text-align:right;font-size:100%\">\n",
    "הוספת שדה של סוג פעולה אל טבלת סדר פעולות תצ\"ר על ידי מיזוג"
   ]
  },
  {
   "cell_type": "code",
   "execution_count": null,
   "id": "c610981b-daa5-4f68-9912-fdf8be6b69c9",
   "metadata": {},
   "outputs": [],
   "source": [
    "tazar_sequence = action_parcel.merge(revision_action, on = ['TALAR_ID', 'ACTION_NUM'], how = 'left')\n",
    "tazar_sequence = tazar_sequence.astype('Int64')"
   ]
  },
  {
   "cell_type": "markdown",
   "id": "48abb057-772a-4554-8252-47d39797b742",
   "metadata": {},
   "source": [
    "<h1 style=\"text-align:right;font-size:100%\">\n",
    "שינוי שמות של שדות\n",
    "<h1 style=\"text-align:right;font-size:100%\">\n",
    "הסרת פעולות של תצ\"ר כרטסת שכבר קיימים בטבלת פעולות תצ\"ר\n",
    "<h1 style=\"text-align:right;font-size:100%\">\n",
    "חיבור שלושת הטבלאות של פעולות תצ\"ר"
   ]
  },
  {
   "cell_type": "code",
   "execution_count": null,
   "id": "35192065-ce1b-4609-8de6-1c2b1e0f6e15",
   "metadata": {},
   "outputs": [],
   "source": [
    "tazar_sequence.rename(columns = {'TALAR_ID'          : 'ORACLE_ID',\n",
    "                                 'GUSH_NUM'          : 'BlockNumber',\n",
    "                                 'GUSH_SUFFIX'       : 'SubBlockNumber',\n",
    "                                 'ACTION_NUM'        : 'ActionNumber',\n",
    "                                 'ACTION_TYPE'       : 'ActionType',\n",
    "                                 'LINE'              : 'LineNumber',\n",
    "                                 'FROM_PARCEL_TMP'   : 'FromParcelTemp',\n",
    "                                 'FROM_PARCEL_FINAL' : 'FromParcelFinal',\n",
    "                                 'TO_GUSH_NUM'       : 'ToBlockNumber',\n",
    "                                 'TO_GUSH_SUFFIX'    : 'ToSubBlockNumber',\n",
    "                                 'TO_PARCEL_TMP'     : 'ToParcelTemp',\n",
    "                                 'TO_PARCEL_FINAL'   : 'ToParcelFinal'},\n",
    "                      inplace = True)\n",
    "\n",
    "\n",
    "talar_actions.rename(columns = {'TALARID'             : 'ORACLE_ID',\n",
    "                                'BLOCKNUMBER'         : 'BlockNumber',\n",
    "                                'BLOCKSUFFIXNUMBER'   : 'SubBlockNumber',\n",
    "                                'ACTIONNUMBER'        : 'ActionNumber',\n",
    "                                'ACTIONTYPE'          : 'ActionType',\n",
    "                                'LINENUMBER'          : 'LineNumber',\n",
    "                                'FROMPARCELTEMP'      : 'FromParcelTemp',\n",
    "                                'FROMPARCELFINAL'     : 'FromParcelFinal',\n",
    "                                'TOBLOCKNUMBER'       : 'ToBlockNumber',\n",
    "                                'TOBLOCKSUFFIXNUMBER' : 'ToSubBlockNumber',\n",
    "                                'TOPARCELTEMP'        : 'ToParcelTemp',\n",
    "                                'TOPARCELFINAL'       : 'ToParcelFinal'},\n",
    "                      inplace = True)\n",
    "\n",
    "\n",
    "talar_card.rename(columns = {'TALAR_ID'        : 'ORACLE_ID',\n",
    "                             'REVISION_NUM'    : 'ActionNumber',\n",
    "                             'GUSH_NUM'        : 'BlockNumber',\n",
    "                             'GUSH_SUFFIX'     : 'SubBlockNumber',\n",
    "                             'TEMP_PARCEL'     : 'FromParcelTemp',\n",
    "                             'FINAL_PARCEL'    : 'FromParcelFinal',\n",
    "                             'TO_GUSH_NUM'     : 'ToBlockNumber',\n",
    "                             'TO_GUSH_SUFFIX'  : 'ToSubBlockNumber',\n",
    "                             'TO_TEMP_PARCEL'  : 'ToParcelTemp',\n",
    "                             'TO_FINAL_PARCEL' : 'ToParcelFinal'},\n",
    "                   inplace = True)\n",
    "\n",
    "\n",
    "talar_card = talar_card[~talar_card['ORACLE_ID'].isin(talar_actions['ORACLE_ID'])]\n",
    "talar_card = talar_card[~talar_card['ORACLE_ID'].isin(tazar_sequence['ORACLE_ID'])]\n",
    "talar_card.drop_duplicates(keep='first', inplace = True)\n",
    "\n",
    "tazar_sequence = pd.concat([tazar_sequence, talar_card, talar_actions], ignore_index = True)"
   ]
  },
  {
   "cell_type": "code",
   "execution_count": null,
   "id": "a3e0adac-678f-452e-871c-ac9f3be960d6",
   "metadata": {
    "tags": []
   },
   "outputs": [],
   "source": [
    "tazar_sequence = tazar_sequence.merge(CPB_tazar[['GlobalID', 'ORACLE_ID']], on = 'ORACLE_ID', how = 'left')\\\n",
    "                               .drop(columns = 'ORACLE_ID')\\\n",
    "                               .rename(columns = {'GlobalID' : 'CPBUniqueID'})"
   ]
  },
  {
   "cell_type": "code",
   "execution_count": null,
   "id": "4e5c1a82-4c7f-44b9-b3e9-acf20ea4222a",
   "metadata": {
    "tags": []
   },
   "outputs": [],
   "source": [
    "tazar_sequence[['FromParcelFinal', 'ToBlockNumber', 'ToParcelTemp', 'ToParcelFinal']] = tazar_sequence[['FromParcelFinal', 'ToBlockNumber', 'ToParcelTemp', 'ToParcelFinal']].replace(0, np.nan)\n",
    "tazar_sequence['TempBlockNumber'] = tazar_sequence['ToBlockNumber'].fillna(tazar_sequence['BlockNumber'])\n",
    "\n",
    "int_cols = ['BlockNumber', 'SubBlockNumber', 'ActionNumber', 'LineNumber', 'FromParcelTemp', 'FromParcelFinal',\n",
    "            'ToBlockNumber', 'ToSubBlockNumber', 'ToParcelTemp', 'ToParcelFinal', 'ActionType', 'TempBlockNumber']\n",
    "\n",
    "tazar_sequence[int_cols] = tazar_sequence[int_cols].astype('Int64')\n",
    "\n",
    "tazar_sequence['TempParcelName'] = tazar_sequence['FromParcelTemp'].fillna(tazar_sequence['ToParcelTemp'])\n",
    "tazar_sequence['TempParcelName'] = tazar_sequence['TempParcelName'].astype(str) + '/' + tazar_sequence['BlockNumber'].astype(str) + '/' + tazar_sequence['SubBlockNumber'].astype(str)\n",
    "\n",
    "tazar_sequence['joined_col'] = tazar_sequence['TempParcelName'] + '-' + tazar_sequence['CPBUniqueID']\n",
    "\n",
    "ParcelSources['joined_col'] = ParcelSources['TempParcelName'] + '-' + ParcelSources['CurrentCPBID']\n",
    "\n",
    "tazar_sequence = tazar_sequence.merge(ParcelSources[['joined_col', 'CPBTempSourceID']],\n",
    "                                      on = 'joined_col',\n",
    "                                      how = 'left')\\\n",
    "                               .drop(columns = ['TempBlockNumber', 'TempParcelName', 'joined_col'])\n",
    "\n",
    "tazar_sequence = tazar_sequence[tazar_sequence['CPBUniqueID'].notna()]\n",
    "\n",
    "del [ParcelSources, int_cols]"
   ]
  },
  {
   "cell_type": "code",
   "execution_count": null,
   "id": "82d0ceac-d8e5-405c-8176-2bac454954e5",
   "metadata": {},
   "outputs": [],
   "source": [
    "tazar_sequence = tazar_sequence.merge(CPB_tazar[['GlobalID', 'ProcessType']],\n",
    "                                    left_on = 'CPBUniqueID', right_on = 'GlobalID',\n",
    "                                    how = 'left')\\\n",
    "                               .drop(columns = 'GlobalID')\n",
    "\n",
    "tazar_sequence['ProcessType'] = tazar_sequence['ProcessType'].fillna(1)"
   ]
  },
  {
   "cell_type": "code",
   "execution_count": null,
   "id": "2272d213",
   "metadata": {
    "tags": []
   },
   "outputs": [],
   "source": [
    "tazar_sequence['ActionType'] = np.where(tazar_sequence['ToBlockNumber'].notna(), 3, tazar_sequence['ActionType'])"
   ]
  },
  {
   "cell_type": "code",
   "execution_count": null,
   "id": "01fb624d-4df3-472d-94d5-98c7ffdfc293",
   "metadata": {},
   "outputs": [],
   "source": [
    "del [action_parcel, revision_action, talar_actions, CPB_tazar]"
   ]
  },
  {
   "cell_type": "markdown",
   "id": "451fb6b1-c09d-40ee-81c7-b562d60d4ddc",
   "metadata": {
    "tags": []
   },
   "source": [
    "<h1 style=\"text-align:right;font-size:150%\">\n",
    ":עיבוד נתוני תת\"ג"
   ]
  },
  {
   "cell_type": "markdown",
   "id": "a0cdd524-2b57-4655-adfe-2b8ae39e57bc",
   "metadata": {},
   "source": [
    "<h1 style=\"text-align:right;font-size:100%\">\n",
    "סינון רשומות מטבלת תת\"ג לסטאטוס מספר 2 (מאושר)\n",
    "<h1 style=\"text-align:right;font-size:100%\">\n",
    "יצירת שדה מקשר לפי שם מפה לצורך מיזוג בהמשך\n",
    "<h1 style=\"text-align:right;font-size:100%\">\n",
    "הסרת שדות לא רלונטיים"
   ]
  },
  {
   "cell_type": "code",
   "execution_count": null,
   "id": "4e2daa5d-3c2e-44f6-8792-f45ce9086f2c",
   "metadata": {},
   "outputs": [],
   "source": [
    "tatag_table = tatag_table[tatag_table['TATAG_STATUS'] == 2]\n",
    "\n",
    "parcel_inprocess_tatag[['TATAG_NUM', 'TATAG_YEAR']] = parcel_inprocess_tatag[['TATAG_NUM', 'TATAG_YEAR']].astype(int)\n",
    "tatag_table[['TATAG_NUM', 'TATAG_YEAR']] = tatag_table[['TATAG_NUM', 'TATAG_YEAR']].astype(int)\n",
    "\n",
    "parcel_inprocess_tatag['ProcessName'] = parcel_inprocess_tatag['TATAG_NUM'].astype(str) + '/' + parcel_inprocess_tatag['TATAG_YEAR'].astype(str)\n",
    "tatag_table['ProcessName'] = tatag_table['TATAG_NUM'].astype(str) + '/' + tatag_table['TATAG_YEAR'].astype(str)\n",
    "\n",
    "parcel_inprocess_tatag.drop(columns = ['TATAG_NUM', 'TATAG_YEAR'], inplace=True)\n",
    "tatag_table.drop(columns = ['TATAG_NUM', 'TATAG_YEAR'], inplace=True)"
   ]
  },
  {
   "cell_type": "markdown",
   "id": "027aff19-c994-4a3d-9c4c-4100329790d6",
   "metadata": {},
   "source": [
    "<h1 style=\"text-align:right;font-size:100%\">\n",
    "פירוק שדה שם חלקה לשני שדות: סטאטוס חלקה ומספר חלקה\n",
    "<h1 style=\"text-align:right;font-size:100%\">\n",
    "מילוי ערכים חסרים במפר חלקה"
   ]
  },
  {
   "cell_type": "code",
   "execution_count": null,
   "id": "f4468f62-e4ef-4493-bccc-87f7784187f5",
   "metadata": {},
   "outputs": [],
   "source": [
    "parcel_inprocess_tatag[['ParcelStatus', 'ParcelNumber']] = parcel_inprocess_tatag['PARCELNAME'].str.extract('([a-zA-Z]+)([^a-zA-Z]+)', expand=True)\n",
    "parcel_inprocess_tatag.drop(columns='PARCELNAME', inplace=True)\n",
    "parcel_inprocess_tatag['ParcelNumber'] = parcel_inprocess_tatag['ParcelNumber'].fillna(0)\n",
    "parcel_inprocess_tatag['ParcelNumber'] = parcel_inprocess_tatag['ParcelNumber'].astype(int)"
   ]
  },
  {
   "cell_type": "markdown",
   "id": "ee0af560-2abb-4b46-9025-f47457860b08",
   "metadata": {},
   "source": [
    "<h1 style=\"text-align:right;font-size:100%\">\n",
    "מיזוג טבלאות"
   ]
  },
  {
   "cell_type": "code",
   "execution_count": null,
   "id": "c80752a2-5a34-4cf5-8ac3-4bbbc2c473bd",
   "metadata": {},
   "outputs": [],
   "source": [
    "tatag_sequence = parcel_inprocess_tatag.merge(tatag_table, on='ProcessName', how='left')\n",
    "\n",
    "del [parcel_inprocess_tatag, tatag_table]"
   ]
  },
  {
   "cell_type": "markdown",
   "id": "296a853f-33cb-4f04-b871-74ea087b78eb",
   "metadata": {},
   "source": [
    "<h1 style=\"text-align:right;font-size:100%\">\n",
    "הגדרת ערכי שדות של קישורי חלקות"
   ]
  },
  {
   "cell_type": "code",
   "execution_count": null,
   "id": "9c7fb76b-1837-4afd-9b9b-fe0911248c73",
   "metadata": {},
   "outputs": [],
   "source": [
    "tatag_sequence['FromParcelFinal'] = np.where(tatag_sequence['ParcelStatus']=='F',\n",
    "                                             tatag_sequence['ParcelNumber'],\n",
    "                                             None)\n",
    "\n",
    "\n",
    "tatag_sequence['ToParcelTemp'] = np.where(tatag_sequence['ParcelStatus']=='T',\n",
    "                                          tatag_sequence['ParcelNumber'].astype('Int64'),\n",
    "                                          None)\n",
    "\n",
    "\n",
    "tatag_sequence['ToParcelFinal'] = np.where(tatag_sequence['ParcelStatus']=='F',\n",
    "                                           tatag_sequence['ParcelNumber'].astype('Int64'),\n",
    "                                            None)                                          # equals to 'FromParcelFinal'\n",
    "\n",
    "\n",
    "tatag_sequence.drop(columns = ['ParcelStatus', 'ParcelNumber', 'TATAG_STATUS'], inplace=True)"
   ]
  },
  {
   "cell_type": "markdown",
   "id": "8c64639c-6783-4a97-b57f-f80bcbf16219",
   "metadata": {},
   "source": [
    "<h1 style=\"text-align:right;font-size:100%\">\n",
    "הגדרת שדות לטבלה"
   ]
  },
  {
   "cell_type": "code",
   "execution_count": null,
   "id": "6b7bd153-8690-461f-9063-11388d64a466",
   "metadata": {},
   "outputs": [],
   "source": [
    "CPB_tatag = CPB_layer[CPB_layer['ProcessType'] == 4]\n",
    "\n",
    "tatag_sequence = tatag_sequence.merge(CPB_tatag[['ProcessName', 'GlobalID']], on = 'ProcessName', how = 'left')\n",
    "tatag_sequence.drop(columns='ProcessName', inplace=True)\n",
    "\n",
    "del CPB_tatag\n",
    "\n",
    "\n",
    "tatag_sequence.rename(columns = {'GUSHNUM'    : 'BlockNumber',\n",
    "                                 'GUSHSUFFIX' : 'SubBlockNumber',\n",
    "                                 'GlobalID'   : 'CPBUniqueID'},\n",
    "                      inplace = True)\n",
    "\n",
    "\n",
    "tatag_sequence['ProcessType'] = 4\n",
    "\n",
    "\n",
    "tatag_sequence['ActionNumber'] = None\n",
    "\n",
    "\n",
    "tatag_sequence['ActionType'] = 4\n",
    "\n",
    "\n",
    "tatag_sequence['LineNumber'] = None\n",
    "\n",
    "\n",
    "tatag_sequence['FromParcelTemp'] = None\n",
    "\n",
    "\n",
    "tatag_sequence['ToBlockNumber'] = None\n",
    "\n",
    "tatag_sequence['ToSubBlockNumber'] = None"
   ]
  },
  {
   "cell_type": "markdown",
   "id": "e6256fa1-81a2-48c5-9aa8-0fdb6293dc09",
   "metadata": {},
   "source": [
    "<h1 style=\"text-align:right;font-size:150%\">\n",
    ":'עיבוד נתוני תיקון 97 ב"
   ]
  },
  {
   "cell_type": "markdown",
   "id": "d5dd2dd1-ef24-4c6a-b5c2-a8510b7697d7",
   "metadata": {},
   "source": [
    "<h1 style=\"text-align:right;font-size:100%\">\n",
    "סינון רשומות של 97ב' לפי סטאטוס"
   ]
  },
  {
   "cell_type": "code",
   "execution_count": null,
   "id": "cc13b278-4136-46ac-95f5-9dfdbb92d307",
   "metadata": {},
   "outputs": [],
   "source": [
    "tikun_hesder_97b = tikun_hesder_97b[tikun_hesder_97b['CODE_STEP'].isin([5, 6])]"
   ]
  },
  {
   "cell_type": "markdown",
   "id": "2d903e7f-8682-4c88-ba82-a458079342cf",
   "metadata": {},
   "source": [
    "<h1 style=\"text-align:right;font-size:100%\">\n",
    "הוספת 5,000,000 למספרי מזהה של תהליך\n",
    "<h1 style=\"text-align:right;font-size:100%\">\n",
    "פיזור הטבלה לפי חלקות ולא לפי מספר פניה\n",
    "<h1 style=\"text-align:right;font-size:100%\">\n",
    "הגדרת שדה סוג תהליך לתיקון 97 ב\n",
    "<h1 style=\"text-align:right;font-size:100%\">\n",
    "הגדרת שדות אחרים"
   ]
  },
  {
   "cell_type": "code",
   "execution_count": null,
   "id": "1964f7a1-c904-456b-9a8d-9f45cd487b77",
   "metadata": {},
   "outputs": [],
   "source": [
    "tikun_hesder_97b.rename(columns = {'MISPAR_PNIA' : 'ORACLE_ID'}, inplace = True)\n",
    "\n",
    "\n",
    "tikun_hesder_97b = tikun_hesder_97b.assign(PARCELS = tikun_hesder_97b.PARCELS.str.split(',')).explode('PARCELS').reset_index(drop=True)\n",
    "tikun_hesder_97b['PARCELS'] = tikun_hesder_97b['PARCELS'].astype(int)\n",
    "tikun_hesder_97b.sort_values(['ORACLE_ID', 'PARCELS'], inplace=True)\n",
    "\n",
    "\n",
    "CPB_97b = CPB_layer[CPB_layer['ProcessType'] == 6]\n",
    "tikun_hesder_97b = tikun_hesder_97b.merge(CPB_97b[['ORACLE_ID', 'GlobalID']], on = 'ORACLE_ID')\n",
    "tikun_hesder_97b.rename(columns = {'GlobalID' : 'CPBUniqueID'}, inplace = True)\n",
    "tikun_hesder_97b.drop(columns = 'ORACLE_ID', inplace = True)\n",
    "del CPB_97b"
   ]
  },
  {
   "cell_type": "code",
   "execution_count": null,
   "id": "5ea4a72c-2a8a-458b-894c-34f4a1238a43",
   "metadata": {},
   "outputs": [],
   "source": [
    "tikun_hesder_97b['ProcessType'] = 6\n",
    "\n",
    "\n",
    "tikun_hesder_97b['BlockNumber'] = tikun_hesder_97b['GUSH_NUM'].astype(int)\n",
    "\n",
    "\n",
    "tikun_hesder_97b['SubBlockNumber'] = tikun_hesder_97b['GUSH_SUFFIX'].astype(int)\n",
    "\n",
    "\n",
    "tikun_hesder_97b['ActionNumber'] = np.nan\n",
    "\n",
    "\n",
    "tikun_hesder_97b['ActionType'] = 4\n",
    "\n",
    "\n",
    "tikun_hesder_97b['LineNumber'] = np.nan\n",
    "\n",
    "\n",
    "tikun_hesder_97b['FromParcelTemp'] = np.nan\n",
    "\n",
    "\n",
    "tikun_hesder_97b['FromParcelFinal'] = tikun_hesder_97b['PARCELS']\n",
    "\n",
    "\n",
    "tikun_hesder_97b['ToBlockNumber'] = np.nan\n",
    "\n",
    "\n",
    "tikun_hesder_97b['ToSubBlockNumber'] = np.nan\n",
    "\n",
    "\n",
    "tikun_hesder_97b['ToParcelTemp'] = np.nan\n",
    "\n",
    "\n",
    "tikun_hesder_97b['ToParcelFinal'] = tikun_hesder_97b['PARCELS']\n",
    "\n",
    "\n",
    "\n",
    "tikun_hesder_97b.sort_values(['CPBUniqueID', 'FromParcelFinal'], inplace=True)\n",
    "tikun_hesder_97b.drop(columns=['GUSH_NUM', 'GUSH_SUFFIX', 'PARCELS', 'CODE_STEP'], inplace=True)"
   ]
  },
  {
   "cell_type": "code",
   "execution_count": null,
   "id": "f3d80ee4-087e-4131-843b-086a860dab17",
   "metadata": {},
   "outputs": [],
   "source": [
    "ammendment_97b_sequence = tikun_hesder_97b.drop_duplicates(['CPBUniqueID', 'FromParcelFinal'], keep='last')\n",
    "\n",
    "del tikun_hesder_97b"
   ]
  },
  {
   "cell_type": "markdown",
   "id": "adcc3232-9772-4f5f-b9d0-12dba90bf618",
   "metadata": {},
   "source": [
    "<h1 style=\"text-align:right;font-size:150%\">\n",
    ":נתוני פסקי דין\n",
    "<h1 style=\"text-align:right;font-size:100%\">    \n",
    "סינון פסקי דין לפי סטאטוס 1 ו-3\n",
    "<h1 style=\"text-align:right;font-size:100%\">\n",
    "מיזוג פסקי דין עם חלקות של פסקי דין\n",
    "<h1 style=\"text-align:right;font-size:100%\">\n",
    "הגדרת ואיכלוס שדות"
   ]
  },
  {
   "cell_type": "code",
   "execution_count": null,
   "id": "fe74b96f-8e42-4708-8cb6-992b1b3db0b3",
   "metadata": {},
   "outputs": [],
   "source": [
    "judgements = judgements[judgements['STATUS'].isin([1,3])]"
   ]
  },
  {
   "cell_type": "code",
   "execution_count": null,
   "id": "39b3fc1b-e4af-400e-81db-af3b348539e8",
   "metadata": {},
   "outputs": [],
   "source": [
    "judgements_sequence = judgements.merge(judgements_parcels, on = 'PSAK_DIN_ID', how = 'left').astype('Int32')\n",
    "judgements_sequence.dropna(subset=['TYPE'], inplace=True)\n",
    "judgements_sequence.reset_index(inplace=True, drop=True)\n",
    "\n",
    "del judgements"
   ]
  },
  {
   "cell_type": "code",
   "execution_count": null,
   "id": "5e8d4f67-00a7-47b1-a7e2-13af97b1e00a",
   "metadata": {
    "tags": []
   },
   "outputs": [],
   "source": [
    "judgements_sequence.rename(columns = {'PSAK_DIN_ID' : 'ORACLE_ID'}, inplace = True)\n",
    "\n",
    "CPB_judgements = CPB_layer[CPB_layer['ProcessType'] == 3]\n",
    "CPB_judgements = CPB_judgements[CPB_judgements['ORACLE_ID'] != 0]\n",
    "CPB_judgements['ORACLE_ID'] = CPB_judgements['ORACLE_ID'].astype('Int64')\n",
    "\n",
    "judgements_sequence = judgements_sequence.merge(CPB_judgements[['GlobalID', 'ORACLE_ID']], on = 'ORACLE_ID', how = 'left')\n",
    "judgements_sequence.rename(columns = {'GlobalID' : 'CPBUniqueID'}, inplace = True)\n",
    "judgements_sequence.drop(columns = 'ORACLE_ID', inplace = True)\n",
    "judgements_sequence = judgements_sequence[~judgements_sequence['CPBUniqueID'].isna()]\n",
    "\n",
    "del CPB_judgements"
   ]
  },
  {
   "cell_type": "code",
   "execution_count": null,
   "id": "08bcbc56-8e6a-4c3c-b899-e1e8c77731f0",
   "metadata": {},
   "outputs": [],
   "source": [
    "judgements_sequence['FromParcelFinal'] = np.where(judgements_sequence['TYPE'] == 0,\n",
    "                                                  judgements_sequence['PARCEL'],\n",
    "                                                  None)\n",
    "\n",
    "\n",
    "judgements_sequence['ToParcelFinal'] = np.where(judgements_sequence['TYPE'] == 1,\n",
    "                                                judgements_sequence['PARCEL'],\n",
    "                                                None)\n",
    "\n",
    "\n",
    "judgements_sequence['ProcessType'] = 3\n",
    "\n",
    "\n",
    "judgements_sequence['BlockNumber'] = judgements_sequence['GUSH_NUM']\n",
    "\n",
    "\n",
    "judgements_sequence['SubBlockNumber'] = judgements_sequence['GUSH_SUFFIX'].fillna(0)\n",
    "\n",
    "\n",
    "\n",
    "judgements_sequence['ActionType'] = np.where(~judgements_sequence['ToParcelFinal'].isna(),\n",
    "                                              5, #פעולת יצירה\n",
    "                                              6) # פעולת ביטול\n",
    "\n",
    "judgements_sequence['ActionNumber'] = np.where(judgements_sequence['ActionType'] == 6,\n",
    "                                                1, #פעולה ראשונה היא ביטול\n",
    "                                                2) # פעולה שניה היא יצירה\n",
    "\n",
    "\n",
    "judgements_sequence['LineNumber'] = None\n",
    "\n",
    "\n",
    "judgements_sequence['FromParcelTemp'] = None\n",
    "\n",
    "\n",
    "judgements_sequence['ToBlockNumber'] = None\n",
    "\n",
    "\n",
    "judgements_sequence['ToSubBlockNumber'] = None\n",
    "\n",
    "\n",
    "judgements_sequence['ToParcelTemp'] = None"
   ]
  },
  {
   "cell_type": "code",
   "execution_count": null,
   "id": "b0ef12b5-271f-46bf-ae9f-4ff041d1670b",
   "metadata": {},
   "outputs": [],
   "source": [
    "judgements_sequence.drop(columns=['GUSH_NUM', 'GUSH_SUFFIX', 'STATUS', 'PARCEL', 'TYPE'], inplace=True)"
   ]
  },
  {
   "cell_type": "markdown",
   "id": "71920a73-97f0-4cb2-ab4f-8fc213bd142d",
   "metadata": {
    "tags": []
   },
   "source": [
    "## איחוד תוצאות"
   ]
  },
  {
   "cell_type": "code",
   "execution_count": null,
   "id": "6a9ef388-cadb-4bb3-877d-9631db28c15c",
   "metadata": {},
   "outputs": [],
   "source": [
    "print('   Defining new Layer')"
   ]
  },
  {
   "cell_type": "markdown",
   "id": "fd2e520d-e4bf-46e0-9365-e36a4864879a",
   "metadata": {},
   "source": [
    "<h1 style=\"text-align:right; font-size:150%; color:#1c6ce6;\"> \n",
    "יצירת שכבה חדשה בהתאם לאפיון ✨\n",
    "<h1 style=\"text-align:right;font-size:100%\">\n",
    "איחוד של 4 טבלאות פעולה לטבלת סדר פעולות אחת"
   ]
  },
  {
   "cell_type": "code",
   "execution_count": null,
   "id": "c243e07d-d5f2-4927-a71d-761656ae2709",
   "metadata": {},
   "outputs": [],
   "source": [
    "sequences_list = [tazar_sequence, tatag_sequence, ammendment_97b_sequence, judgements_sequence]\n",
    "\n",
    "SequenceActionsTable = pd.concat(sequences_list, ignore_index = True)\n",
    "\n",
    "\n",
    "\n",
    "SequenceActionsTable.dropna(subset=['CPBUniqueID'], inplace=True)\n",
    "SequenceActionsTable.drop_duplicates(keep = 'first', inplace = True)\n",
    "\n",
    "int_cols = ['BlockNumber','SubBlockNumber','ActionNumber','LineNumber','FromParcelTemp','FromParcelFinal',\n",
    "            'ToBlockNumber','ToSubBlockNumber','ToParcelTemp','ToParcelFinal','ActionType','ProcessType']\n",
    "SequenceActionsTable[int_cols] = SequenceActionsTable[int_cols].astype('Int64')\n",
    "\n",
    "del [sequences_list, tazar_sequence, tatag_sequence, ammendment_97b_sequence, judgements_sequence, CPB_layer, int_cols]"
   ]
  },
  {
   "cell_type": "markdown",
   "id": "dafcdf45-406c-4de8-9f37-301dc8456bde",
   "metadata": {},
   "source": [
    "<h1 style=\"text-align:right;font-size:100%\">\n",
    "שינוי הסדר של העמודות בטבלה\n",
    "<h1 style=\"text-align:right;font-size:100%\">\n",
    "יצירת שדה גיאומטרי ריק (שדה טכני בכדי להכניס לטבלה במוצר)"
   ]
  },
  {
   "cell_type": "code",
   "execution_count": null,
   "id": "e59dadb3-8950-4a34-b031-ef6b3e11c753",
   "metadata": {
    "tags": []
   },
   "outputs": [],
   "source": [
    "columns_by_order = ['CPBUniqueID', 'ProcessType', 'BlockNumber', 'SubBlockNumber', 'ActionNumber', 'ActionType', 'LineNumber',\n",
    "                    'FromParcelTemp', 'FromParcelFinal', 'ToBlockNumber', 'ToSubBlockNumber', 'ToParcelTemp', 'ToParcelFinal', 'CPBTempSourceID']\n",
    "\n",
    "SequenceActionsTable = SequenceActionsTable[columns_by_order]\n",
    "\n",
    "del columns_by_order"
   ]
  },
  {
   "cell_type": "code",
   "execution_count": null,
   "id": "c9e6a2a3-301a-4c78-9739-e6c4eb636959",
   "metadata": {
    "tags": []
   },
   "outputs": [],
   "source": [
    "SequenceActionsTable['geometry'] = None #שדה טכני בשביל לשמור כקובץ\n",
    "\n",
    "SequenceActionsTable = gpd.GeoDataFrame(SequenceActionsTable, geometry = 'geometry')"
   ]
  },
  {
   "cell_type": "code",
   "execution_count": null,
   "id": "216701f0-9863-4f80-88d5-1b17afa05083",
   "metadata": {},
   "outputs": [],
   "source": [
    "print('    Loading results to SequenceActions')"
   ]
  },
  {
   "cell_type": "markdown",
   "id": "d124876b-e1e2-4c6b-878e-0b49a9e8c7a2",
   "metadata": {},
   "source": [
    "<h1 style=\"text-align:right; font-size:150%; color:#1c6ce6;\"> \n",
    "שמירת תוצאות 💾"
   ]
  },
  {
   "cell_type": "code",
   "execution_count": null,
   "id": "e876cb93-6b92-4aad-bcf7-18b3b83493d6",
   "metadata": {
    "tags": []
   },
   "outputs": [],
   "source": [
    "SequenceActionsTable.drop(columns = 'geometry').to_csv(CNFG.CSVPath + 'SequenceActions.csv', index = False)"
   ]
  },
  {
   "cell_type": "code",
   "execution_count": null,
   "id": "ddab4145-a1a3-41fa-b59f-11129bd88e69",
   "metadata": {
    "tags": []
   },
   "outputs": [],
   "source": [
    "SequenceActionsTable.to_file(CNFG.ProductPath, layer = 'SequenceActions', driver = 'OpenFileGDB', engine = 'pyogrio', mode = 'a')"
   ]
  }
 ],
 "metadata": {
  "kernelspec": {
   "display_name": "Python 3 (ipykernel)",
   "language": "python",
   "name": "python3"
  },
  "language_info": {
   "codemirror_mode": {
    "name": "ipython",
    "version": 3
   },
   "file_extension": ".py",
   "mimetype": "text/x-python",
   "name": "python",
   "nbconvert_exporter": "python",
   "pygments_lexer": "ipython3",
   "version": "3.11.3"
  },
  "toc-autonumbering": false,
  "toc-showcode": false,
  "toc-showmarkdowntxt": false,
  "toc-showtags": true
 },
 "nbformat": 4,
 "nbformat_minor": 5
}
