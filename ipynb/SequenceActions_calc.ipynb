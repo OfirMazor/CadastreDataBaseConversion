{
 "cells": [
  {
   "cell_type": "markdown",
   "id": "943546e8-d8f2-4297-8dad-f3e1a39b5536",
   "metadata": {},
   "source": [
    "<h1 style=\"background-color:#1c6ce6;\n",
    "           font-family:segoe ui;\n",
    "                color:#FFF9ED;\n",
    "           font-size:300%;\n",
    "           text-align:center;\n",
    "           border-radius:10px 10px;\"> \n",
    "🔀 תהליך הסבת טבלת סדר פעולות לבנק\"ל מודרני 🔀 "
   ]
  },
  {
   "cell_type": "code",
   "execution_count": null,
   "id": "90cac2cb-e8f4-4581-9d5c-7e6f8d48cdf5",
   "metadata": {},
   "outputs": [],
   "source": [
    "print('10. Sequence Actions Table:')"
   ]
  },
  {
   "cell_type": "markdown",
   "id": "36e6ebb3-1da0-4c9f-87a1-7d7b5e4f8317",
   "metadata": {},
   "source": [
    "<h1 style=\"text-align:right; font-size:150%; color:#1c6ce6;\">\n",
    "ספריות 📚"
   ]
  },
  {
   "cell_type": "code",
   "execution_count": null,
   "id": "b4fab528-6884-4d4f-8e10-d36c4d9dcaac",
   "metadata": {},
   "outputs": [],
   "source": [
    "import warnings\n",
    "warnings.filterwarnings('ignore')\n",
    "\n",
    "import numpy as np\n",
    "import pandas as pd\n",
    "import geopandas as gpd\n",
    "import datetime as dt\n",
    "import subprocess"
   ]
  },
  {
   "cell_type": "code",
   "execution_count": null,
   "id": "4213fbae-da1c-4a1b-bf64-6dd94c104e49",
   "metadata": {},
   "outputs": [],
   "source": [
    "print('  10.a Reading inputs')"
   ]
  },
  {
   "cell_type": "markdown",
   "id": "ea134cf1-4726-4eeb-9605-5ff95f273cfd",
   "metadata": {},
   "source": [
    "<h1 style=\"text-align:right; font-size:150%; color:#1c6ce6;\">קריאת נתונים 📑 "
   ]
  },
  {
   "cell_type": "code",
   "execution_count": null,
   "id": "d7b2856c-cad5-49ed-b809-356862fc3c67",
   "metadata": {},
   "outputs": [],
   "source": [
    "RawData_folder = r\"\\\\mapi_shares\\MNCDB\\צוות מידע\\RawData\"\n",
    "\n",
    "today =  dt.date.today()\n",
    "date_name =  str(today.year) + str(today.month) + str(today.day)\n",
    "product_path = r'\\\\mapi_shares\\MNCDB\\צוות מידע\\תוצרים/' + date_name + '_ncdb.gdb'"
   ]
  },
  {
   "cell_type": "markdown",
   "id": "bd412897-9d81-4d26-9cdf-8c7816875c9e",
   "metadata": {
    "tags": []
   },
   "source": [
    "<h1 style=\"text-align:right;font-size:100%\">\n",
    "שכבת גבולות תהליכי קדסטר מודרניים"
   ]
  },
  {
   "cell_type": "code",
   "execution_count": null,
   "id": "e0dd59a6-68c7-4b20-8668-5bc41f32a65c",
   "metadata": {},
   "outputs": [],
   "source": [
    "CPB_layer = gpd.read_file(product_path, layer = 'CadasterProcessBorders',\n",
    "                          include_fields = ['CPBUniqueID', 'ProcessName', 'ProcessType'],\n",
    "                          ignore_geometry = True)\n",
    "\n",
    "CPB_layer = CPB_layer.astype({'CPBUniqueID' : int, 'ProcessName' : str})\n",
    "\n",
    "CPB_tatag = CPB_layer[CPB_layer['ProcessType'] == 4]"
   ]
  },
  {
   "cell_type": "markdown",
   "id": "fa18069f-4679-4dae-9686-6dca404e77c1",
   "metadata": {
    "tags": []
   },
   "source": [
    "<h1 style=\"text-align:right;font-size:150%\">\n",
    ":נתונים לפעולות של תצ\"ר"
   ]
  },
  {
   "cell_type": "markdown",
   "id": "df0557eb-e0a7-4e56-816b-32b5aa8be67f",
   "metadata": {
    "tags": []
   },
   "source": [
    "<h1 style=\"text-align:right;font-size:100%\">\n",
    "טבלת סדר פעולות תצ\"ר קיימת"
   ]
  },
  {
   "cell_type": "code",
   "execution_count": null,
   "id": "b222950c-d5e6-49c2-bce0-9d14563af237",
   "metadata": {},
   "outputs": [],
   "source": [
    "action_parcel_cols = ['GUSH_NUM', 'GUSH_SUFFIX', 'ACTION_NUM', 'LINE', 'TALAR_ID',\n",
    "                      'FROM_PARCEL_TMP','FROM_PARCEL_FINAL', 'TO_GUSH_NUM', 'TO_GUSH_SUFFIX', 'TO_PARCEL_TMP', 'TO_PARCEL_FINAL']\n",
    "\n",
    "action_parcel = pd.read_csv(RawData_folder + '/Oracle/action_parcel.csv', usecols = action_parcel_cols)"
   ]
  },
  {
   "cell_type": "markdown",
   "id": "592d383c-68d7-44ac-8477-0499a6990ee6",
   "metadata": {},
   "source": [
    "<h1 style=\"text-align:right;font-size:100%\">\n",
    "טבלת עדכון חלקות תצ\"ר קיימת"
   ]
  },
  {
   "cell_type": "code",
   "execution_count": null,
   "id": "7fb41482-c151-46f2-a043-b7d7dde56f1e",
   "metadata": {},
   "outputs": [],
   "source": [
    "revision_action_cols = ['ACTION_TYPE', 'TALAR_ID', 'ACTION_NUM', 'ACTION_TYPE']\n",
    "\n",
    "revision_action = pd.read_csv(RawData_folder + '/Oracle/REV_ACTION.csv', usecols = revision_action_cols)"
   ]
  },
  {
   "cell_type": "markdown",
   "id": "2097487a-60cb-41f0-b824-ab9e3c035624",
   "metadata": {},
   "source": [
    "<h1 style=\"text-align:right;font-size:100%\"> \n",
    "טבלת פעולות של תצ\"ר כרסטת"
   ]
  },
  {
   "cell_type": "code",
   "execution_count": null,
   "id": "5966b77d-f597-4210-9546-bc591c75e876",
   "metadata": {},
   "outputs": [],
   "source": [
    "talar_card = pd.read_csv(RawData_folder + '/Oracle/TALAR_ACTIONS.csv')"
   ]
  },
  {
   "cell_type": "markdown",
   "id": "4f7a55d9-d055-488c-8283-dda8a9dcf24c",
   "metadata": {},
   "source": [
    "<h1 style=\"text-align:right;font-size:150%\">\n",
    ":נתונים לפעולות של תת\"ג"
   ]
  },
  {
   "cell_type": "code",
   "execution_count": null,
   "id": "31b6c4b6-d23f-4d25-872c-4c95ae4110d8",
   "metadata": {},
   "outputs": [],
   "source": [
    "parcel_inprocess_cols = ['GUSHNUM', 'GUSHSUFFIX', 'PARCELNAME', 'TALAR_NUM', 'TALAR_YEAR', 'CADASTER_PROCESS']\n",
    "parcel_inprocess = pd.read_csv(RawData_folder + '/Oracle/PARCELS_INPROCESS.csv', usecols = parcel_inprocess_cols, encoding = 'cp1256')\n",
    "\n",
    "parcel_inprocess_tatag = parcel_inprocess[parcel_inprocess['CADASTER_PROCESS'] == 12]\n",
    "parcel_inprocess_tatag.drop(columns = 'CADASTER_PROCESS', inplace=True)\n",
    "parcel_inprocess_tatag.rename(columns={'TALAR_NUM' : 'TATAG_NUM',\n",
    "                                       'TALAR_YEAR' : 'TATAG_YEAR'}, inplace=True)"
   ]
  },
  {
   "cell_type": "code",
   "execution_count": null,
   "id": "a1c6a22f-fad5-4914-9e10-b47d330b7914",
   "metadata": {},
   "outputs": [],
   "source": [
    "tatag_table_cols = ['TATAG_NUM', 'TATAG_YEAR', 'TATAG_STATUS']\n",
    "tatag_table = pd.read_csv(RawData_folder + '/Oracle/TATAG.csv', usecols = tatag_table_cols)"
   ]
  },
  {
   "cell_type": "markdown",
   "id": "fecf3543-ad3e-4b77-975c-bb7932a4be63",
   "metadata": {},
   "source": [
    "<h1 style=\"text-align:right;font-size:150%\">\n",
    ":'נתונים לפעולות תיקוני 97 ב"
   ]
  },
  {
   "cell_type": "code",
   "execution_count": null,
   "id": "dd687b93-6438-4aec-aa31-aec228e83c6b",
   "metadata": {},
   "outputs": [],
   "source": [
    "tikun_hesder_97b_cols = ['MISPAR_PNIA', 'GUSH_NUM', 'GUSH_SUFFIX', 'PARCELS', 'CODE_STEP']\n",
    "\n",
    "tikun_hesder_97b = pd.read_csv(RawData_folder + '/Oracle/TIKUN_HESDER_97B.csv', usecols = tikun_hesder_97b_cols)"
   ]
  },
  {
   "cell_type": "markdown",
   "id": "564450a6-4856-48e6-9b0c-974ff221b519",
   "metadata": {},
   "source": [
    "<h1 style=\"text-align:right;font-size:150%\">\n",
    "נתונים לפעולות פסדקי דין"
   ]
  },
  {
   "cell_type": "markdown",
   "id": "4bbca41a-8f86-4942-86db-7a21bd767781",
   "metadata": {
    "tags": []
   },
   "source": [
    "<h1 style=\"text-align:right;font-size:100%\">\n",
    "טבלת פסק דין"
   ]
  },
  {
   "cell_type": "code",
   "execution_count": null,
   "id": "d72211ac-8cf2-4bbe-bbce-5b5ca5dd4b69",
   "metadata": {},
   "outputs": [],
   "source": [
    "judgements_cols = ['PSAK_DIN_ID', 'STATUS', 'GUSH_NUM', 'GUSH_SUFFIX']\n",
    "\n",
    "judgements = pd.read_csv(RawData_folder + '/Oracle/psak_din.csv', usecols = judgements_cols, encoding = 'cp1255')"
   ]
  },
  {
   "cell_type": "markdown",
   "id": "eda8f4d6-dd54-4b87-9100-9498cd547a08",
   "metadata": {},
   "source": [
    "<h1 style=\"text-align:right;font-size:100%\">\n",
    "טבלת חלקות פסקי דין"
   ]
  },
  {
   "cell_type": "code",
   "execution_count": null,
   "id": "6ad9d8c8-6fc6-447d-8cc9-de2ee03361bd",
   "metadata": {},
   "outputs": [],
   "source": [
    "judgements_parcels_cols = ['PSAK_DIN_ID', 'PARCEL', 'TYPE']\n",
    "\n",
    "judgements_parcels = pd.read_csv(RawData_folder + '/Oracle/psak_din_parcels.csv', usecols = judgements_parcels_cols)"
   ]
  },
  {
   "cell_type": "code",
   "execution_count": null,
   "id": "00641d39-3837-490b-b086-91f26669dc3d",
   "metadata": {},
   "outputs": [],
   "source": [
    "del [RawData_folder, product_path, revision_action_cols, action_parcel_cols, parcel_inprocess_cols, parcel_inprocess, tatag_table_cols, CPB_layer, tikun_hesder_97b_cols, judgements_cols, judgements_parcels_cols]"
   ]
  },
  {
   "cell_type": "markdown",
   "id": "9868465d-39c3-4ad9-9835-be7e82f7cc24",
   "metadata": {},
   "source": [
    "\n",
    "\n",
    "\n",
    "\n",
    "\n",
    "\n",
    "\n",
    "\n",
    "\n",
    "\n",
    "\n",
    "\n",
    "\n",
    "\n",
    "\n",
    "\n",
    "\n",
    "\n",
    "\n",
    "\n",
    "\n",
    "\n",
    "\n",
    "\n",
    "\n",
    "\n",
    "\n",
    "\n",
    "\n",
    "\n",
    "\n",
    "\n"
   ]
  },
  {
   "cell_type": "code",
   "execution_count": null,
   "id": "b37d0988-c853-4755-b3d4-9cb560e6d5ad",
   "metadata": {},
   "outputs": [],
   "source": [
    "print('  10.b Cleaning data')"
   ]
  },
  {
   "cell_type": "code",
   "execution_count": null,
   "id": "b21b7ccb-7e0f-4b8d-9400-27627b783320",
   "metadata": {},
   "outputs": [],
   "source": [
    "print('  10.c Data conversion')"
   ]
  },
  {
   "cell_type": "markdown",
   "id": "bf7cce93-5b3d-43ba-984b-88bc412f663a",
   "metadata": {},
   "source": [
    "<h1 style=\"text-align:right; font-size:150%; color:#1c6ce6;\">\n",
    "עיבוד נתונים 🛠️"
   ]
  },
  {
   "cell_type": "markdown",
   "id": "a0fa9556-d51a-49d5-9328-6221ddc1c817",
   "metadata": {
    "tags": []
   },
   "source": [
    "<h1 style=\"text-align:right;font-size:150%\">\n",
    ":עיבוד נתוני תצ\"ר"
   ]
  },
  {
   "cell_type": "markdown",
   "id": "6011de76-c967-46f2-94b0-ea12bb1d963d",
   "metadata": {
    "tags": []
   },
   "source": [
    "<h1 style=\"text-align:right;font-size:100%\">\n",
    "הוספת 1,000,000 למספר מזהה של כל התצ\"ר לפי סכימה חדשה"
   ]
  },
  {
   "cell_type": "code",
   "execution_count": null,
   "id": "9989098f-964a-4d57-8cb5-524f26d5bfa3",
   "metadata": {},
   "outputs": [],
   "source": [
    "action_parcel['TALAR_ID']   = action_parcel['TALAR_ID'] + 1000000\n",
    "revision_action['TALAR_ID'] = revision_action['TALAR_ID'] + 1000000\n",
    "talar_card['TALARID']       = talar_card['TALARID'] + 1000000"
   ]
  },
  {
   "cell_type": "markdown",
   "id": "5eb5f43f-6ccb-41d5-b506-2df5dfcd3931",
   "metadata": {},
   "source": [
    "<h1 style=\"text-align:right;font-size:100%\">\n",
    "הוספת שדה של סוג פעולה אל טבלת סדר פעולות תצ\"ר על ידי מיזוג"
   ]
  },
  {
   "cell_type": "code",
   "execution_count": null,
   "id": "c610981b-daa5-4f68-9912-fdf8be6b69c9",
   "metadata": {},
   "outputs": [],
   "source": [
    "tazar_sequence = action_parcel.merge(revision_action, on=['TALAR_ID', 'ACTION_NUM'], how = 'left')\n",
    "tazar_sequence = tazar_sequence.astype('Int64')"
   ]
  },
  {
   "cell_type": "markdown",
   "id": "48abb057-772a-4554-8252-47d39797b742",
   "metadata": {},
   "source": [
    "<h1 style=\"text-align:right;font-size:100%\">\n",
    "שינוי שמות של שדות\n",
    "<h1 style=\"text-align:right;font-size:100%\">\n",
    "הוספת רשומות של תצ\"ר כרטסת לטבלת סדר פעולות תצ\"ר\n",
    "<h1 style=\"text-align:right;font-size:100%\">\n",
    "הוספת שדה של סוג התהליך עם הערך 1 (תצ\"ר)"
   ]
  },
  {
   "cell_type": "code",
   "execution_count": null,
   "id": "35192065-ce1b-4609-8de6-1c2b1e0f6e15",
   "metadata": {},
   "outputs": [],
   "source": [
    "tazar_sequence.rename(columns = {'TALAR_ID'          : 'CPBUniqueID',\n",
    "                                 'GUSH_NUM'          : 'BlockNumber',\n",
    "                                 'GUSH_SUFFIX'       : 'SubBlockNumber',\n",
    "                                 'ACTION_NUM'        : 'ActionNumber',\n",
    "                                 'ACTION_TYPE'       : 'ActionType',\n",
    "                                 'LINE'              : 'LineNumber',\n",
    "                                 'FROM_PARCEL_TMP'   : 'FromParcelTemp',\n",
    "                                 'FROM_PARCEL_FINAL' : 'FromParcelFinal',\n",
    "                                 'TO_GUSH_NUM'       : 'ToBlockNumber',\n",
    "                                 'TO_GUSH_SUFFIX'    : 'ToSubBlockNumber',\n",
    "                                 'TO_PARCEL_TMP'     : 'ToParcelTemp',\n",
    "                                 'TO_PARCEL_FINAL'   : 'ToParcelFinal'},\n",
    "                      inplace = True)\n",
    "\n",
    "\n",
    "talar_card.rename(columns = {'TALARID'             : 'CPBUniqueID',\n",
    "                             'BLOCKNUMBER'         : 'BlockNumber',\n",
    "                             'BLOCKSUFFIXNUMBER'   : 'SubBlockNumber',\n",
    "                             'ACTIONNUMBER'        : 'ActionNumber',\n",
    "                             'ACTIONTYPE'          : 'ActionType',\n",
    "                             'LINENUMBER'          : 'LineNumber',\n",
    "                             'FROMPARCELTEMP'      : 'FromParcelTemp',\n",
    "                             'FROMPARCELFINAL'     : 'FromParcelFinal',\n",
    "                             'TOBLOCKNUMBER'       : 'ToBlockNumber',\n",
    "                             'TOBLOCKSUFFIXNUMBER' : 'ToSubBlockNumber',\n",
    "                             'TOPARCELTEMP'        : 'ToParcelTemp',\n",
    "                             'TOPARCELFINAL'       : 'ToParcelFinal'},\n",
    "                      inplace = True)\n",
    "\n",
    "\n",
    "tazar_sequence = tazar_sequence.append(talar_card)\n",
    "\n",
    "tazar_sequence['ProcessType'] = 1"
   ]
  },
  {
   "cell_type": "code",
   "execution_count": null,
   "id": "01fb624d-4df3-472d-94d5-98c7ffdfc293",
   "metadata": {},
   "outputs": [],
   "source": [
    "del [action_parcel, revision_action, talar_card]"
   ]
  },
  {
   "cell_type": "markdown",
   "id": "451fb6b1-c09d-40ee-81c7-b562d60d4ddc",
   "metadata": {
    "tags": []
   },
   "source": [
    "<h1 style=\"text-align:right;font-size:150%\">\n",
    ":עיבוד נתוני תת\"ג"
   ]
  },
  {
   "cell_type": "markdown",
   "id": "a0cdd524-2b57-4655-adfe-2b8ae39e57bc",
   "metadata": {},
   "source": [
    "<h1 style=\"text-align:right;font-size:100%\">\n",
    "סינון רשומות מטבלת תת\"ג לסטאטוס מספר 2 (מאושר)\n",
    "<h1 style=\"text-align:right;font-size:100%\">\n",
    "יצירת שדה מקשר לפי שם מפה לצורך מיזוג בהמשך\n",
    "<h1 style=\"text-align:right;font-size:100%\">\n",
    "הסרת שדות לא רלונטיים"
   ]
  },
  {
   "cell_type": "code",
   "execution_count": null,
   "id": "4e2daa5d-3c2e-44f6-8792-f45ce9086f2c",
   "metadata": {},
   "outputs": [],
   "source": [
    "tatag_table = tatag_table[tatag_table['TATAG_STATUS'] == 2]\n",
    "\n",
    "parcel_inprocess_tatag[['TATAG_NUM', 'TATAG_YEAR']] = parcel_inprocess_tatag[['TATAG_NUM', 'TATAG_YEAR']].astype(int)\n",
    "tatag_table[['TATAG_NUM', 'TATAG_YEAR']] = tatag_table[['TATAG_NUM', 'TATAG_YEAR']].astype(int)\n",
    "\n",
    "parcel_inprocess_tatag['ProcessName'] = parcel_inprocess_tatag['TATAG_NUM'].astype(str) + '/' + parcel_inprocess_tatag['TATAG_YEAR'].astype(str)\n",
    "tatag_table['ProcessName'] = tatag_table['TATAG_NUM'].astype(str) + '/' + tatag_table['TATAG_YEAR'].astype(str)\n",
    "\n",
    "parcel_inprocess_tatag.drop(columns = ['TATAG_NUM', 'TATAG_YEAR'], inplace=True)\n",
    "tatag_table.drop(columns = ['TATAG_NUM', 'TATAG_YEAR'], inplace=True)"
   ]
  },
  {
   "cell_type": "markdown",
   "id": "027aff19-c994-4a3d-9c4c-4100329790d6",
   "metadata": {},
   "source": [
    "<h1 style=\"text-align:right;font-size:100%\">\n",
    "פירוק שדה שם חלקה לשני שדות: סטאטוס חלקה ומספר חלקה\n",
    "<h1 style=\"text-align:right;font-size:100%\">\n",
    "מילוי ערכים חסרים במפר חלקה"
   ]
  },
  {
   "cell_type": "code",
   "execution_count": null,
   "id": "f4468f62-e4ef-4493-bccc-87f7784187f5",
   "metadata": {},
   "outputs": [],
   "source": [
    "parcel_inprocess_tatag[['ParcelStatus', 'ParcelNumber']] = parcel_inprocess_tatag['PARCELNAME'].str.extract('([a-zA-Z]+)([^a-zA-Z]+)', expand=True)\n",
    "parcel_inprocess_tatag.drop(columns='PARCELNAME', inplace=True)\n",
    "parcel_inprocess_tatag['ParcelNumber'] = parcel_inprocess_tatag['ParcelNumber'].fillna(0)\n",
    "parcel_inprocess_tatag['ParcelNumber'] = parcel_inprocess_tatag['ParcelNumber'].astype(int)"
   ]
  },
  {
   "cell_type": "markdown",
   "id": "ee0af560-2abb-4b46-9025-f47457860b08",
   "metadata": {},
   "source": [
    "<h1 style=\"text-align:right;font-size:100%\">\n",
    "מיזוג טבלאות"
   ]
  },
  {
   "cell_type": "code",
   "execution_count": null,
   "id": "c80752a2-5a34-4cf5-8ac3-4bbbc2c473bd",
   "metadata": {},
   "outputs": [],
   "source": [
    "tatag_sequence = parcel_inprocess_tatag.merge(tatag_table, on='ProcessName', how='left')\n",
    "\n",
    "del [parcel_inprocess_tatag, tatag_table]"
   ]
  },
  {
   "cell_type": "markdown",
   "id": "296a853f-33cb-4f04-b871-74ea087b78eb",
   "metadata": {},
   "source": [
    "<h1 style=\"text-align:right;font-size:100%\">\n",
    "הגדרת ערכי שדות של קישורי חלקות"
   ]
  },
  {
   "cell_type": "code",
   "execution_count": null,
   "id": "9c7fb76b-1837-4afd-9b9b-fe0911248c73",
   "metadata": {},
   "outputs": [],
   "source": [
    "tatag_sequence['FromParcelFinal'] = np.where(tatag_sequence['ParcelStatus']=='F',\n",
    "                                             tatag_sequence['ParcelNumber'],\n",
    "                                             None)\n",
    "\n",
    "\n",
    "tatag_sequence['ToParcelTemp'] = np.where(tatag_sequence['ParcelStatus']=='T',\n",
    "                                          tatag_sequence['ParcelNumber'].astype('Int64'),\n",
    "                                          None)\n",
    "\n",
    "\n",
    "tatag_sequence['ToParcelFinal'] = np.where(tatag_sequence['ParcelStatus']=='F',\n",
    "                                           tatag_sequence['ParcelNumber'].astype('Int64'),\n",
    "                                            None)                                          # equals to 'FromParcelFinal'\n",
    "\n",
    "\n",
    "tatag_sequence.drop(columns = ['ParcelStatus', 'ParcelNumber', 'TATAG_STATUS'], inplace=True)"
   ]
  },
  {
   "cell_type": "markdown",
   "id": "8c64639c-6783-4a97-b57f-f80bcbf16219",
   "metadata": {},
   "source": [
    "<h1 style=\"text-align:right;font-size:100%\">\n",
    "הגדרת שדות לטבלה"
   ]
  },
  {
   "cell_type": "code",
   "execution_count": null,
   "id": "6b7bd153-8690-461f-9063-11388d64a466",
   "metadata": {},
   "outputs": [],
   "source": [
    "tatag_sequence = tatag_sequence.merge(CPB_tatag, on = 'ProcessName', how = 'left')\n",
    "tatag_sequence.drop(columns='ProcessName', inplace=True)\n",
    "\n",
    "del CPB_tatag\n",
    "\n",
    "\n",
    "tatag_sequence.rename(columns = {'GUSHNUM'    : 'BlockNumber',\n",
    "                                 'GUSHSUFFIX' : 'SubBlockNumber'},\n",
    "                      inplace = True)\n",
    "\n",
    "\n",
    "tatag_sequence['ProcessType'] = 4\n",
    "\n",
    "\n",
    "tatag_sequence['ActionNumber'] = None\n",
    "\n",
    "\n",
    "tatag_sequence['ActionType'] = 4\n",
    "\n",
    "\n",
    "tatag_sequence['LineNumber'] = None\n",
    "\n",
    "\n",
    "tatag_sequence['FromParcelTemp'] = None\n",
    "\n",
    "\n",
    "tatag_sequence['ToBlockNumber'] = None\n",
    "\n",
    "tatag_sequence['ToSubBlockNumber'] = None"
   ]
  },
  {
   "cell_type": "markdown",
   "id": "e6256fa1-81a2-48c5-9aa8-0fdb6293dc09",
   "metadata": {},
   "source": [
    "<h1 style=\"text-align:right;font-size:150%\">\n",
    ":'עיבוד נתוני תיקון 97 ב"
   ]
  },
  {
   "cell_type": "markdown",
   "id": "d5dd2dd1-ef24-4c6a-b5c2-a8510b7697d7",
   "metadata": {},
   "source": [
    "<h1 style=\"text-align:right;font-size:100%\">\n",
    "סינון רשומות של 97ב' לפי סטאטוס"
   ]
  },
  {
   "cell_type": "code",
   "execution_count": null,
   "id": "cc13b278-4136-46ac-95f5-9dfdbb92d307",
   "metadata": {},
   "outputs": [],
   "source": [
    "tikun_hesder_97b = tikun_hesder_97b[tikun_hesder_97b['CODE_STEP'].isin([5, 6])]"
   ]
  },
  {
   "cell_type": "markdown",
   "id": "2d903e7f-8682-4c88-ba82-a458079342cf",
   "metadata": {},
   "source": [
    "<h1 style=\"text-align:right;font-size:100%\">\n",
    "הוספת 5,000,000 למספרי מזהה של תהליך\n",
    "<h1 style=\"text-align:right;font-size:100%\">\n",
    "פיזור הטבלה לפי חלקות ולא לפי מספר פניה\n",
    "<h1 style=\"text-align:right;font-size:100%\">\n",
    "הגדרת שדה סוג תהליך לתיקון 97 ב\n",
    "<h1 style=\"text-align:right;font-size:100%\">\n",
    "הגדרת שדות אחרים"
   ]
  },
  {
   "cell_type": "code",
   "execution_count": null,
   "id": "670e5bd3-d145-49b1-a8ae-60071dcec560",
   "metadata": {},
   "outputs": [],
   "source": [
    "tikun_hesder_97b['CPBUniqueID'] = tikun_hesder_97b['MISPAR_PNIA'] + 6000000\n",
    "\n",
    "\n",
    "tikun_hesder_97b = tikun_hesder_97b.assign(PARCELS = tikun_hesder_97b.PARCELS.str.split(',')).explode('PARCELS').reset_index(drop=True)\n",
    "tikun_hesder_97b['PARCELS'] = tikun_hesder_97b['PARCELS'].astype(int)\n",
    "tikun_hesder_97b.sort_values(['MISPAR_PNIA', 'PARCELS'], inplace=True)\n",
    "\n",
    "\n",
    "tikun_hesder_97b['ProcessType'] = 6\n",
    "\n",
    "\n",
    "tikun_hesder_97b['BlockNumber'] = tikun_hesder_97b['GUSH_NUM'].astype(int)\n",
    "\n",
    "\n",
    "tikun_hesder_97b['SubBlockNumber'] = tikun_hesder_97b['GUSH_SUFFIX'].astype(int)\n",
    "\n",
    "\n",
    "tikun_hesder_97b['ActionNumber'] = np.nan\n",
    "\n",
    "\n",
    "tikun_hesder_97b['ActionType'] = 4\n",
    "\n",
    "\n",
    "tikun_hesder_97b['LineNumber'] = np.nan\n",
    "\n",
    "\n",
    "tikun_hesder_97b['FromParcelTemp'] = np.nan\n",
    "\n",
    "\n",
    "tikun_hesder_97b['FromParcelFinal'] = tikun_hesder_97b['PARCELS']\n",
    "\n",
    "\n",
    "tikun_hesder_97b['ToBlockNumber'] = np.nan\n",
    "\n",
    "\n",
    "tikun_hesder_97b['ToSubBlockNumber'] = np.nan\n",
    "\n",
    "\n",
    "tikun_hesder_97b['ToParcelTemp'] = np.nan\n",
    "\n",
    "\n",
    "tikun_hesder_97b['ToParcelFinal'] = tikun_hesder_97b['PARCELS']\n",
    "\n",
    "\n",
    "\n",
    "tikun_hesder_97b.sort_values(['CPBUniqueID', 'FromParcelFinal'], inplace=True)\n",
    "tikun_hesder_97b.drop(columns=['MISPAR_PNIA', 'GUSH_NUM', 'GUSH_SUFFIX', 'PARCELS', 'CODE_STEP'], inplace=True)"
   ]
  },
  {
   "cell_type": "code",
   "execution_count": null,
   "id": "f3d80ee4-087e-4131-843b-086a860dab17",
   "metadata": {},
   "outputs": [],
   "source": [
    "ammendment_97b_sequence = tikun_hesder_97b.drop_duplicates(['CPBUniqueID', 'FromParcelFinal'], keep='last')\n",
    "\n",
    "del tikun_hesder_97b"
   ]
  },
  {
   "cell_type": "markdown",
   "id": "adcc3232-9772-4f5f-b9d0-12dba90bf618",
   "metadata": {},
   "source": [
    "<h1 style=\"text-align:right;font-size:150%\">\n",
    ":נתוני פסקי דין\n",
    "<h1 style=\"text-align:right;font-size:100%\">    \n",
    "סינון פסקי דין לפי סטאטוס 1 ו-3\n",
    "<h1 style=\"text-align:right;font-size:100%\">\n",
    "מיזוג פסקי דין עם חלקות של פסקי דין\n",
    "<h1 style=\"text-align:right;font-size:100%\">\n",
    "הגדרת ואיכלוס שדות"
   ]
  },
  {
   "cell_type": "code",
   "execution_count": null,
   "id": "fe74b96f-8e42-4708-8cb6-992b1b3db0b3",
   "metadata": {},
   "outputs": [],
   "source": [
    "judgements = judgements[judgements['STATUS'].isin([1,3])]"
   ]
  },
  {
   "cell_type": "code",
   "execution_count": null,
   "id": "39b3fc1b-e4af-400e-81db-af3b348539e8",
   "metadata": {},
   "outputs": [],
   "source": [
    "judgements_sequence = judgements.merge(judgements_parcels, on='PSAK_DIN_ID', how='left').astype('Int32')\n",
    "judgements_sequence.dropna(subset=['TYPE'], inplace=True)\n",
    "judgements_sequence.reset_index(inplace=True, drop=True)\n",
    "\n",
    "del judgements"
   ]
  },
  {
   "cell_type": "code",
   "execution_count": null,
   "id": "08bcbc56-8e6a-4c3c-b899-e1e8c77731f0",
   "metadata": {},
   "outputs": [],
   "source": [
    "judgements_sequence['FromParcelFinal'] = np.where(judgements_sequence['TYPE'] == 0,\n",
    "                                                  judgements_sequence['PARCEL'],\n",
    "                                                  None)\n",
    "\n",
    "\n",
    "judgements_sequence['ToParcelFinal'] = np.where(judgements_sequence['TYPE'] == 1,\n",
    "                                                judgements_sequence['PARCEL'],\n",
    "                                                None)\n",
    "\n",
    "\n",
    "judgements_sequence['CPBUniqueID'] = judgements_sequence['PSAK_DIN_ID'] + 4000000\n",
    "\n",
    "\n",
    "judgements_sequence['ProcessType'] = 3\n",
    "\n",
    "\n",
    "judgements_sequence['BlockNumber'] = judgements_sequence['GUSH_NUM']\n",
    "\n",
    "\n",
    "judgements_sequence['SubBlockNumber'] = judgements_sequence['GUSH_SUFFIX'].fillna(0)\n",
    "\n",
    "\n",
    "judgements_sequence['ActionNumber'] = None\n",
    "\n",
    "\n",
    "judgements_sequence['ActionType'] = 0\n",
    "\n",
    "\n",
    "judgements_sequence['LineNumber'] = None\n",
    "\n",
    "\n",
    "judgements_sequence['FromParcelTemp'] = None\n",
    "\n",
    "\n",
    "judgements_sequence['ToBlockNumber'] = None\n",
    "\n",
    "\n",
    "judgements_sequence['ToSubBlockNumber'] = None\n",
    "\n",
    "\n",
    "judgements_sequence['ToParcelTemp'] = None"
   ]
  },
  {
   "cell_type": "code",
   "execution_count": null,
   "id": "b0ef12b5-271f-46bf-ae9f-4ff041d1670b",
   "metadata": {},
   "outputs": [],
   "source": [
    "judgements_sequence.drop(columns=['PSAK_DIN_ID', 'GUSH_NUM', 'GUSH_SUFFIX', 'STATUS', 'PARCEL', 'TYPE'], inplace=True)"
   ]
  },
  {
   "cell_type": "markdown",
   "id": "71920a73-97f0-4cb2-ab4f-8fc213bd142d",
   "metadata": {
    "tags": []
   },
   "source": [
    "## איחוד תוצאות"
   ]
  },
  {
   "cell_type": "code",
   "execution_count": null,
   "id": "6a9ef388-cadb-4bb3-877d-9631db28c15c",
   "metadata": {},
   "outputs": [],
   "source": [
    "print('  10.d Defining new Layer')"
   ]
  },
  {
   "cell_type": "markdown",
   "id": "fd2e520d-e4bf-46e0-9365-e36a4864879a",
   "metadata": {},
   "source": [
    "<h1 style=\"text-align:right; font-size:150%; color:#1c6ce6;\"> \n",
    "יצירת שכבה חדשה בהתאם לאפיון ✨\n",
    "<h1 style=\"text-align:right;font-size:100%\">\n",
    "איחוד של 4 טבלאות פעולה לטבלת סדר פעולות אחת"
   ]
  },
  {
   "cell_type": "code",
   "execution_count": null,
   "id": "c243e07d-d5f2-4927-a71d-761656ae2709",
   "metadata": {},
   "outputs": [],
   "source": [
    "sequences_list = [tazar_sequence, tatag_sequence, ammendment_97b_sequence, judgements_sequence]\n",
    "\n",
    "for table in sequences_list:\n",
    "    table = table.astype('Int64')\n",
    "\n",
    "SequenceActionsTable = tazar_sequence.append(tatag_sequence)\\\n",
    "                                         .append(ammendment_97b_sequence)\\\n",
    "                                             .append(judgements_sequence)\n",
    "\n",
    "\n",
    "\n",
    "del [tazar_sequence, tatag_sequence, ammendment_97b_sequence, judgements_sequence]\n",
    "\n",
    "\n",
    "SequenceActionsTable.dropna(subset=['CPBUniqueID'], inplace=True)\n",
    "\n",
    "SequenceActionsTable = SequenceActionsTable.astype('Int64')"
   ]
  },
  {
   "cell_type": "code",
   "execution_count": null,
   "id": "216701f0-9863-4f80-88d5-1b17afa05083",
   "metadata": {},
   "outputs": [],
   "source": [
    "print('  10.e Exporting results to product folder')"
   ]
  },
  {
   "cell_type": "markdown",
   "id": "d124876b-e1e2-4c6b-878e-0b49a9e8c7a2",
   "metadata": {},
   "source": [
    "<h1 style=\"text-align:right; font-size:150%; color:#1c6ce6;\"> \n",
    "שמירת תוצאות 💾\n",
    "<h1 style=\"text-align:right; font-size:100%;\"> \n",
    "<h1 style=\"text-align:right; font-size:100%;\"> \n",
    "בחירת נתיב\n",
    "<h1 style=\"text-align:right; font-size:100%;\"> \n",
    "שמירה כטבלה"
   ]
  },
  {
   "cell_type": "code",
   "execution_count": null,
   "id": "ddab4145-a1a3-41fa-b59f-11129bd88e69",
   "metadata": {},
   "outputs": [],
   "source": [
    "csv_dir = r'\\\\mapi_shares\\MNCDB\\צוות מידע\\תוצרים\\csv\\SequenceActions.csv'\n",
    "SequenceActionsTable.to_csv(csv_dir, index=False)"
   ]
  },
  {
   "cell_type": "code",
   "execution_count": null,
   "id": "e3dd5268-f9ec-4671-bf31-5664a22a9f82",
   "metadata": {},
   "outputs": [],
   "source": [
    "subprocess.call([r\"M:\\ncdbScripts\\scripts\\arcpyPro\\SequenceActions-Save as DB Table.bat\"]);"
   ]
  }
 ],
 "metadata": {
  "kernelspec": {
   "display_name": "Python 3",
   "language": "python",
   "name": "python3"
  },
  "language_info": {
   "codemirror_mode": {
    "name": "ipython",
    "version": 3
   },
   "file_extension": ".py",
   "mimetype": "text/x-python",
   "name": "python",
   "nbconvert_exporter": "python",
   "pygments_lexer": "ipython3",
   "version": "3.9.4"
  },
  "toc-autonumbering": false,
  "toc-showcode": false,
  "toc-showmarkdowntxt": false,
  "toc-showtags": true
 },
 "nbformat": 4,
 "nbformat_minor": 5
}
