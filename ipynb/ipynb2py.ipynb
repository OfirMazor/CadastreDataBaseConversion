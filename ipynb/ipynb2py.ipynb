{
 "cells": [
  {
   "cell_type": "markdown",
   "id": "1613697b-18d2-4740-9385-2cb23b009c36",
   "metadata": {},
   "source": [
    "<h1 style=\"background-color:#1c6ce6;\n",
    "           font-family:segoe ui;\n",
    "                color:#FFF9ED;\n",
    "           font-size:300%;\n",
    "           text-align:center;\n",
    "           border-radius:10px 10px;\"> \n",
    "📜 Batch Export All .ipynb files to .py files 📜 "
   ]
  },
  {
   "cell_type": "code",
   "execution_count": null,
   "id": "d2451096-ce5d-4d34-ba32-69d0e9c1c7e2",
   "metadata": {},
   "outputs": [],
   "source": [
    "# Libraries\n",
    "import os, nbconvert, nbformat"
   ]
  },
  {
   "cell_type": "code",
   "execution_count": null,
   "id": "bd1aa0e3-a08d-480c-bc7d-7b7302449d27",
   "metadata": {},
   "outputs": [],
   "source": [
    "# Paths configurations\n",
    "\n",
    "input_path = r\"M:\\Apps\\WPy64-3940\\notebooks\\docs\\Cadastre\\Modern Bankal\\Database_Integration\\ipynb\"\n",
    "output_path = r\"M:\\Apps\\WPy64-3940\\notebooks\\docs\\Cadastre\\Modern Bankal\\Database_Integration\\py scripts/\"\n",
    "\n",
    "ipynb_files_list = []\n",
    "\n",
    "for root, dirs, files in os.walk(input_path):\n",
    "    for file in files:\n",
    "        if file.endswith(\".ipynb\") and not file.endswith(\"-checkpoint.ipynb\") and not file.endswith(\"ipynb2py.ipynb\") and not file.endswith(\"general_checks.ipynb\"):\n",
    "            ipynb_files_list.append(os.path.join(root, file))"
   ]
  },
  {
   "cell_type": "code",
   "execution_count": null,
   "id": "d461634b-41e8-43a4-940f-0fa3e3cee57e",
   "metadata": {},
   "outputs": [],
   "source": [
    "# Export loop\n",
    "exporter = nbconvert.PythonExporter()\n",
    "\n",
    "for file in ipynb_files_list:\n",
    "    ipynb_name  = file.split('\\\\')[-1]\n",
    "    script_name = ipynb_name.replace('ipynb', 'py')\n",
    "    \n",
    "    ipynb = nbformat.read(fp         = open(file, 'r', encoding = 'utf-8'),\n",
    "                          as_version = 4)\n",
    "    \n",
    "    (body, resources) = exporter.from_notebook_node(ipynb)\n",
    "    \n",
    "    open(output_path + script_name, 'w', encoding = 'utf-8').write(body)\n",
    "    \n",
    "    if os.path.exists(output_path + script_name):\n",
    "        print(f\"V  The file {script_name} was successfully created.\")\n",
    "    else:\n",
    "        print(f\"X  There was an error creating the file {script_name}.\")"
   ]
  }
 ],
 "metadata": {
  "kernelspec": {
   "display_name": "Python 3",
   "language": "python",
   "name": "python3"
  },
  "language_info": {
   "codemirror_mode": {
    "name": "ipython",
    "version": 3
   },
   "file_extension": ".py",
   "mimetype": "text/x-python",
   "name": "python",
   "nbconvert_exporter": "python",
   "pygments_lexer": "ipython3",
   "version": "3.9.4"
  }
 },
 "nbformat": 4,
 "nbformat_minor": 5
}
