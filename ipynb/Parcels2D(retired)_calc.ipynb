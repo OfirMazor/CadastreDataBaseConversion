{
 "cells": [
  {
   "cell_type": "markdown",
   "id": "fbb26af3-20c8-4fba-98ed-8b76e18b5849",
   "metadata": {},
   "source": [
    "<h1 style=\"background-color:red;\n",
    "           font-family:segoe ui;\n",
    "                color:#FFF9ED;\n",
    "           font-size:300%;\n",
    "           text-align:center;\n",
    "           border-radius:10px 10px;\"> \n",
    "    🌐 הסבת שכבת חלקות (דו מימדיות) מבוטלות לבנק\"ל מודרני 🌐"
   ]
  },
  {
   "cell_type": "code",
   "execution_count": null,
   "id": "e0fa3a3a-f4a2-4729-9590-d183bc7de1c2",
   "metadata": {},
   "outputs": [],
   "source": [
    "print(' Retired Parcels:')"
   ]
  },
  {
   "cell_type": "markdown",
   "id": "e6353e37-a214-4cc9-97c7-6679adc4a4b1",
   "metadata": {},
   "source": [
    "<h1 style=\"text-align:right; font-size:150%; color:#1c6ce6;\">\n",
    "ספריות 📚"
   ]
  },
  {
   "cell_type": "code",
   "execution_count": null,
   "id": "19accf9a-e905-4bc6-90c3-2273e5e6dbd8",
   "metadata": {
    "tags": [
     "Libraries"
    ]
   },
   "outputs": [],
   "source": [
    "import warnings\n",
    "warnings.filterwarnings('ignore')\n",
    "\n",
    "import subprocess\n",
    "import numpy as np\n",
    "import pandas as pd\n",
    "import geopandas as gpd\n",
    "from configs import CNFG\n",
    "import dask_geopandas as daskgpd"
   ]
  },
  {
   "cell_type": "markdown",
   "id": "fdd59d20-ebfe-457d-8e91-76e655ebb268",
   "metadata": {},
   "source": [
    "<h1 style=\"text-align:right; font-size:150%; color:#1c6ce6;\">קריאת נתונים 📑 "
   ]
  },
  {
   "cell_type": "code",
   "execution_count": null,
   "id": "2e9dbe01-eab8-4ec1-aafe-f288d7821534",
   "metadata": {},
   "outputs": [],
   "source": [
    "print('   Reading inputs')"
   ]
  },
  {
   "cell_type": "markdown",
   "id": "400f109d-a2a3-4cf7-babf-761db1dd3f07",
   "metadata": {},
   "source": [
    "<h1 style=\"text-align:right;font-size:125%\">\n",
    "נתוני שכבת חלקות היסטוריות"
   ]
  },
  {
   "cell_type": "code",
   "execution_count": null,
   "id": "cf582686-700f-4ec9-aeba-a1dd0d784850",
   "metadata": {
    "tags": []
   },
   "outputs": [],
   "source": [
    "#שדות אליפסה מתארים מה ביטל את החלקה\n",
    "\n",
    "history_parcels_cols = ['GUSH_NUM', 'GUSH_SUFFIX', 'PARCEL', 'LEGAL_AREA', 'TALAR_NUM', 'TALAR_YEAR', 'geometry']\n",
    "\n",
    "history_parcels = daskgpd.read_file(CNFG.CADSDE + 'PARCEL_HISTORY_HASAVA.gdb', layer = 'PARCEL_HISTORY_HASAVA', columns = history_parcels_cols, npartitions = 8).compute()\n",
    "\n",
    "del history_parcels_cols\n",
    "\n",
    "print('         input 1/8 read')"
   ]
  },
  {
   "cell_type": "markdown",
   "id": "213538a5-d73b-418e-b076-e0eb3eaef0a5",
   "metadata": {},
   "source": [
    "<h1 style=\"text-align:right;font-size:125%\">\n",
    "טבלת חלקות מבוטלות"
   ]
  },
  {
   "cell_type": "code",
   "execution_count": null,
   "id": "12bed885-a980-4236-838b-7167bfcdc74e",
   "metadata": {
    "tags": []
   },
   "outputs": [],
   "source": [
    "#שדות אליפסה מתארים מה ביטל את החלקה\n",
    "\n",
    "cancel_parcel_cols = ['F_GUSH_NUM', 'F_GUSH_SUFFIX', 'F_PARCEL_NUM', 'TALAR_NUMBER', 'TALAR_YEAR']\n",
    "\n",
    "cancel_parcel = pd.read_csv(CNFG.Oracle + 'CANCEL_PARCEL.csv', usecols = cancel_parcel_cols)\n",
    "\n",
    "del cancel_parcel_cols\n",
    "\n",
    "print('         input 2/8 read')"
   ]
  },
  {
   "cell_type": "markdown",
   "id": "e9386075-d98e-4def-ab38-fc4abc9d3e46",
   "metadata": {},
   "source": [
    "<h1 style=\"text-align:right;font-size:125%\">\n",
    "שכבת חלקות מבוטלות מרפליקציות יומיות"
   ]
  },
  {
   "cell_type": "code",
   "execution_count": null,
   "id": "5b6c0cef-1551-4a02-9244-b26506eaefe1",
   "metadata": {
    "tags": []
   },
   "outputs": [],
   "source": [
    "#שדות אליפסה מתארים מה יצר את החלקה\n",
    "replicated_parcels_cols = ['PARCEL', 'GUSH_NUM', 'GUSH_SUFFIX', 'LEGALAREA', 'TALAR_NUMBER', 'TALAR_YEAR', 'geometry']\n",
    "\n",
    "replicated_parcels = daskgpd.read_file(CNFG.Local + 'CanceldParcels.gdb',  layer = 'CanceledParcels', columns = replicated_parcels_cols, npartitions = 10).compute()\n",
    "\n",
    "del replicated_parcels_cols\n",
    "\n",
    "print('         input 3/8 read')"
   ]
  },
  {
   "cell_type": "markdown",
   "id": "1b487ce9-0c22-4b12-b833-e3e9511fe3ad",
   "metadata": {},
   "source": [
    "<h1 style=\"text-align:right;font-size:125%\">\n",
    "נתוני טבלת סדר פעולות"
   ]
  },
  {
   "cell_type": "code",
   "execution_count": null,
   "id": "1f34a4af-d74a-451a-8fc6-a9b1ef74dabf",
   "metadata": {
    "tags": []
   },
   "outputs": [],
   "source": [
    "sequence_cols = ['CPBUniqueID', 'ProcessType', 'BlockNumber', 'SubBlockNumber', 'FromParcelFinal', 'ToParcelFinal', 'ToBlockNumber', 'ToSubBlockNumber']\n",
    "\n",
    "SequenceActions = pd.read_csv(CNFG.CSVPath + 'SequenceActions.csv', usecols = sequence_cols)\n",
    "\n",
    "del sequence_cols\n",
    "\n",
    "print('         input 4/8 read')"
   ]
  },
  {
   "cell_type": "markdown",
   "id": "196b9cc9-977c-447c-815b-87b3ba78bb9d",
   "metadata": {},
   "source": [
    "<h1 style=\"text-align:right;font-size:125%\">\n",
    "נתוני גושים מודרניים "
   ]
  },
  {
   "cell_type": "code",
   "execution_count": null,
   "id": "9908b8a9-b402-4e7c-9034-3db6893681cd",
   "metadata": {
    "tags": []
   },
   "outputs": [],
   "source": [
    "blocks_cols = ['GlobalID', 'Name', 'LandType', 'IsTax']\n",
    "\n",
    "Blocks = pd.read_csv(CNFG.CSVPath + 'BlockUniqueIDs.csv', usecols = blocks_cols)\n",
    "del blocks_cols\n",
    "\n",
    "print('         input 5/8 read')"
   ]
  },
  {
   "cell_type": "markdown",
   "id": "031aa16a-58b7-427b-a89d-c169bb09504e",
   "metadata": {},
   "source": [
    "<h1 style=\"text-align:right;font-size:125%\">\n",
    "נתוני גבולות תהליכי ורישומי קדסטר"
   ]
  },
  {
   "cell_type": "code",
   "execution_count": null,
   "id": "4de325fe-7372-4d17-8d0c-7aa80d78b3b9",
   "metadata": {
    "tags": []
   },
   "outputs": [],
   "source": [
    "Process_Records_cols = ['ProcessGUID', 'RecordGUID', 'ProcessName', 'ProcessType']\n",
    "\n",
    "Process_Records = pd.read_csv(CNFG.CSVPath + 'ProcessesAndRecords.csv', usecols = Process_Records_cols)\n",
    "\n",
    "del Process_Records_cols\n",
    "print('         input 6/8 read')"
   ]
  },
  {
   "cell_type": "markdown",
   "id": "d501b291-e72c-46e6-bd2b-840875ff9c26",
   "metadata": {},
   "source": [
    "<h1 style=\"text-align:right;font-size:125%\">\n",
    "רשימת מספרי חלקות רצף"
   ]
  },
  {
   "cell_type": "code",
   "execution_count": null,
   "id": "0ca05f94-dfb1-4226-ab0e-4936b6f029e1",
   "metadata": {},
   "outputs": [],
   "source": [
    "Parcels2D_List = pd.read_csv(CNFG.CSVPath + 'Parcels2DList.csv', usecols = ['Name'])\n",
    "\n",
    "print('         input 7/8 read')"
   ]
  },
  {
   "cell_type": "markdown",
   "id": "8ded6b84-f469-43bf-b216-2007f92d6ebc",
   "metadata": {},
   "source": [
    "<h1 style=\"text-align:right;font-size:125%\">\n",
    "שכבת חלקות דו-ממדיות מודרנית"
   ]
  },
  {
   "cell_type": "code",
   "execution_count": null,
   "id": "4a244be4-1e85-4faf-b090-7bd77979db23",
   "metadata": {
    "tags": []
   },
   "outputs": [],
   "source": [
    "Outliers_List = pd.read_csv(CNFG.Local + 'OutliersCanceledParcels2D.csv')['Name'].to_list()\n",
    "\n",
    "print('         input 8/8 read')"
   ]
  },
  {
   "cell_type": "markdown",
   "id": "4a65da05-85fa-4060-9c2b-b8a1d17dca9c",
   "metadata": {},
   "source": [
    "<h1 style=\"text-align:right; font-size:150%; color:#1c6ce6;\">\n",
    "עיבוד נתונים 🛠️"
   ]
  },
  {
   "cell_type": "code",
   "execution_count": null,
   "id": "b5c26930-bb0d-41bd-b73f-33f32a6f3682",
   "metadata": {},
   "outputs": [],
   "source": [
    "print('   Cleaning data')"
   ]
  },
  {
   "cell_type": "markdown",
   "id": "83d89754-a4e6-4cdc-9936-d913cf4864a0",
   "metadata": {},
   "source": [
    "<h1 style=\"text-align:right;font-size:100%\">\n",
    "סינון טבלת תהליכים ורישומי קדסטר לרישומי קדסטר בלבד (תהליכים מאושרים)"
   ]
  },
  {
   "cell_type": "code",
   "execution_count": null,
   "id": "64b4c688-5154-481d-8ab0-cd6cc548d954",
   "metadata": {
    "tags": []
   },
   "outputs": [],
   "source": [
    "Process_Records = Process_Records[Process_Records['RecordGUID'].notna()]"
   ]
  },
  {
   "cell_type": "markdown",
   "id": "0afa4b7a-c8a8-481b-b41a-47339306f780",
   "metadata": {},
   "source": [
    "<h1 style=\"text-align:right;font-size:125%\">\n",
    ":עיבוד טבלת סדר פעולות לקבלת חלקות מתבטלות בלבד\n",
    "<h1 style=\"text-align:right;font-size:100%\">\n",
    "סינון רישומי קדסטר לפי סוגי תהליכים מבטלים בלבד-\n",
    "<h1 style=\"text-align:right;font-size:100%\">\n",
    "סינון טבלת סדר פעולות לפי סוגי תהליכים מבטלים בלבד-\n",
    "<h1 style=\"text-align:right;font-size:100%\">\n",
    "סינון לפי הסרת חלקות שאין להן מספר סופי, כלומר שהתהליך הקדסטרי לא נרשם-\n",
    "<h1 style=\"text-align:right;font-size:100%\">\n",
    "סינון לפי הסרת חלקות שמספרן הסופי זהה למספר הביסוס לפי התהליך (טעויות שקיימות בבסנ\"ת נוכחי)-\n",
    "<h1 style=\"text-align:right;font-size:100%\">\n",
    "הגדרת שדה של חלקה מבוטלת או כאשר חלקת ביסוס סופית לא זהה לחלקת סופית יוצאת-\n",
    "<h1 style=\"text-align:right;font-size:100%\">\n",
    "שמירת שדות רלונטיים להמשך ושינוי השם שלהם-\n",
    "<h1 style=\"text-align:right;font-size:100%\">\n",
    "הגדרת שדה לסוג תהליך מבטל כתצ\"ר בלבד-"
   ]
  },
  {
   "cell_type": "code",
   "execution_count": null,
   "id": "5c663440-90ce-4f44-a2e8-a43623dc4cd5",
   "metadata": {
    "tags": []
   },
   "outputs": [],
   "source": [
    "CancelingProcessTypes = [1, 3, 11] # תצ\"ר, פס\"ד, תצ\"ר לא מוסדר\n",
    "CancelingProcessLayer = Process_Records[Process_Records['ProcessType'].isin(CancelingProcessTypes)]\n",
    "\n",
    "SequenceActions_cancel = SequenceActions[SequenceActions['ProcessType'].isin(CancelingProcessTypes)]\n",
    "\n",
    "SequenceActions_cancel = SequenceActions_cancel[(SequenceActions_cancel['FromParcelFinal'].notna()) & (SequenceActions_cancel['FromParcelFinal'] != 0)]\n",
    "SequenceActions_cancel = SequenceActions_cancel[(SequenceActions_cancel['ToParcelFinal'].notna()) & (SequenceActions_cancel['ToParcelFinal'] != 0)]\n",
    "\n",
    "SequenceActions_cancel[['BlockNumber', 'SubBlockNumber', 'FromParcelFinal']] = SequenceActions_cancel[['BlockNumber', 'SubBlockNumber', 'FromParcelFinal']].astype(int)\n",
    "SequenceActions_cancel['Name'] = SequenceActions_cancel['FromParcelFinal'].astype(str) + '/' + SequenceActions_cancel['BlockNumber'].astype(str) + '/' + SequenceActions_cancel['SubBlockNumber'].astype(str)\n",
    "\n",
    "SequenceActions_cancel = SequenceActions_cancel.merge(Process_Records[['ProcessGUID', 'ProcessName', 'RecordGUID']],\n",
    "                                                      left_on = 'CPBUniqueID',\n",
    "                                                      right_on = 'ProcessGUID',\n",
    "                                                      how = 'left')\\\n",
    "                                                .drop(columns = 'ProcessGUID')\\\n",
    "                                                .rename(columns = {'RecordGUID' : 'RetiredByRecord',\n",
    "                                                                   'ProcessType' : 'CancelProcessType'})\n",
    "\n",
    "SequenceActions_cancel = SequenceActions_cancel[SequenceActions_cancel['ProcessName'].notna()]\n",
    "\n",
    "SequenceActions_cancel = SequenceActions_cancel[['Name', 'CancelProcessType', 'RetiredByRecord', 'BlockNumber', 'SubBlockNumber']]"
   ]
  },
  {
   "cell_type": "markdown",
   "id": "9220c164-856b-4d5a-888d-4dd35f6b0f0e",
   "metadata": {},
   "source": [
    "<h1 style=\"text-align:right;font-size:125%\">\n",
    ":עיבוד טבלת חלקות מבוטלות\n",
    "<h1 style=\"text-align:right;font-size:100%\">\n",
    "שינוי שמות שדות-\n",
    "<h1 style=\"text-align:right;font-size:100%\">\n",
    "הגדרת שדה של שם התכנית המבטלת-\n",
    "<h1 style=\"text-align:right;font-size:100%\">\n",
    "מיזוג טבלת חלקות מבוטלות עם גבולות רישומי קדסטר מסוג תכניות מבטלות בלבד לקבלת מזהה תהליך מבטל-\n",
    "<h1 style=\"text-align:right;font-size:100%\">\n",
    "הגדרת שדה של חלקה מבוטלת או כאשר חלקת ביסוס סופית לא זהה לחלקת סופית יוצאת-\n",
    "<h1 style=\"text-align:right;font-size:100%\">\n",
    "שינוי שם השדה של התהליך המבטל-"
   ]
  },
  {
   "cell_type": "code",
   "execution_count": null,
   "id": "ba9bd570-a20c-4e0b-a5a9-350e100de7fc",
   "metadata": {},
   "outputs": [],
   "source": [
    "cancel_parcel.rename(columns = {'F_GUSH_NUM'    : 'BlockNumber',\n",
    "                                'F_GUSH_SUFFIX' : 'SubBlockNumber',\n",
    "                                'F_PARCEL_NUM'  : 'ParcelNumber'},\n",
    "                     inplace = True)\n",
    "\n",
    "\n",
    "cancel_parcel[['TALAR_NUMBER', 'TALAR_YEAR']] = cancel_parcel[['TALAR_NUMBER', 'TALAR_YEAR']].astype('Int64')\n",
    "cancel_parcel['ProcessName'] = cancel_parcel['TALAR_NUMBER'].astype(str) + '/' + cancel_parcel['TALAR_YEAR'].astype(str)\n",
    "\n",
    "\n",
    "cancel_parcel = cancel_parcel.merge(CancelingProcessLayer, on = 'ProcessName', how = 'left')\\\n",
    "                             .drop(columns = ['TALAR_NUMBER', 'TALAR_YEAR', 'ProcessName', 'ProcessGUID'])\\\n",
    "                             .rename(columns = {'RecordGUID' : 'RetiredByRecord',\n",
    "                                                'ProcessType' : 'CancelProcessType'})\n",
    "\n",
    "\n",
    "del CancelingProcessTypes"
   ]
  },
  {
   "cell_type": "markdown",
   "id": "00fb3890-10b8-4a25-87b7-054b33dc070a",
   "metadata": {},
   "source": [
    "<h1 style=\"text-align:right;font-size:125%\">\n",
    ":עיבוד שכבת חלקות מבוטלות מרפליקציה יומית\n",
    "<h1 style=\"text-align:right;font-size:100%\">\n",
    "שינוי שמות שדות-\n",
    "<h1 style=\"text-align:right;font-size:100%\">\n",
    "הסרת חלקות שלא ידוע מה התכנית שביטלה אותן-\n",
    "<h1 style=\"text-align:right;font-size:100%\">\n",
    "הגדרת שדה של שם התכנית המבטלת-\n",
    "<h1 style=\"text-align:right;font-size:100%\">\n",
    "מיזוג טבלת חלקות מבוטלות עם גבולות רישומי קדסטר מסוג תכניות מבטלות בלבד לקבלת מזהה תהליך מבטל-\n",
    "<h1 style=\"text-align:right;font-size:100%\">\n",
    "הגדרת שדה של חלקה מבוטלת או כאשר חלקת ביסוס סופית לא זהה לחלקת סופית יוצאת-\n",
    "<h1 style=\"text-align:right;font-size:100%\">\n",
    "שינוי שם השדה של התהליך המבטל-"
   ]
  },
  {
   "cell_type": "code",
   "execution_count": null,
   "id": "84572af8-ee3d-44f6-b421-d82446a80504",
   "metadata": {},
   "outputs": [],
   "source": [
    "replicated_parcels.rename(columns = {'PARCEL'      : 'ParcelNumber',\n",
    "                                     'GUSH_NUM'    : 'BlockNumber',\n",
    "                                     'GUSH_SUFFIX' : 'SubBlockNumber'}, inplace = True)\n",
    "\n",
    "replicated_parcels = replicated_parcels[(~replicated_parcels['TALAR_NUMBER'].isna())\n",
    "                                                          &\n",
    "                                        (~replicated_parcels['TALAR_YEAR'].isna())]\n",
    "\n",
    "replicated_parcels[['TALAR_NUMBER', 'TALAR_YEAR']] = replicated_parcels[['TALAR_NUMBER', 'TALAR_YEAR']].astype(int)\n",
    "replicated_parcels['ProcessName'] = replicated_parcels['TALAR_NUMBER'].astype(str) + '/' + replicated_parcels['TALAR_YEAR'].astype(str)\n",
    "\n",
    "replicated_parcels = replicated_parcels.merge(CancelingProcessLayer, on = 'ProcessName', how = 'left')\\\n",
    "                                       .drop(columns = ['TALAR_NUMBER', 'TALAR_YEAR', 'ProcessName', 'ProcessGUID'])\\\n",
    "                                       .rename(columns = {'RecordGUID' : 'CreatedByRecord',\n",
    "                                                          'ProcessType' : 'CreateProcessType'})"
   ]
  },
  {
   "cell_type": "markdown",
   "id": "28a9f070-63e8-44f0-b71d-b3535922c877",
   "metadata": {},
   "source": [
    "<h1 style=\"text-align:right;font-size:100%\">\n",
    "עיבוד נתוני חלקות היסטוריות"
   ]
  },
  {
   "cell_type": "code",
   "execution_count": null,
   "id": "f4938303-ed41-412a-aaf3-f7a5cf65c7fb",
   "metadata": {
    "tags": []
   },
   "outputs": [],
   "source": [
    "history_parcels.rename(columns = {'GUSH_NUM'     : 'BlockNumber',\n",
    "                                  'GUSH_SUFFIX'  : 'SubBlockNumber',\n",
    "                                  'PARCEL'       : 'ParcelNumber',\n",
    "                                  'LEGAL_AREA'   : 'StatedArea'}, inplace = True)\n",
    "\n",
    "history_parcels = history_parcels[(~history_parcels['TALAR_NUM'].isna())\n",
    "                                                &\n",
    "                                  (~history_parcels['TALAR_YEAR'].isna())]\n",
    "\n",
    "history_parcels[['TALAR_NUM', 'TALAR_YEAR']] = history_parcels[['TALAR_NUM', 'TALAR_YEAR']].astype(int)\n",
    "history_parcels['ProcessName'] = history_parcels['TALAR_NUM'].astype(str) + '/' + history_parcels['TALAR_YEAR'].astype(str)\n",
    "\n",
    "history_parcels = history_parcels.merge(CancelingProcessLayer, on = 'ProcessName', how = 'left')\\\n",
    "                                 .drop(columns = ['TALAR_NUM', 'TALAR_YEAR', 'ProcessName', 'ProcessGUID'])\\\n",
    "                                 .rename(columns = {'RecordGUID' : 'RetiredByRecord',\n",
    "                                                    'ProcessType' : 'CancelProcessType'})"
   ]
  },
  {
   "cell_type": "code",
   "execution_count": null,
   "id": "586855d5-14c6-4e13-8e98-e1bd85968940",
   "metadata": {
    "tags": []
   },
   "outputs": [],
   "source": [
    "print('   Data conversion')"
   ]
  },
  {
   "cell_type": "markdown",
   "id": "0500cc2e-c98b-43d3-968c-73b849a9b627",
   "metadata": {},
   "source": [
    "<h1 style=\"text-align:right;font-size:100%\">\n",
    "איחוד מקורות מידע של חלקות מבוטלות לטבלה אחת"
   ]
  },
  {
   "cell_type": "code",
   "execution_count": null,
   "id": "a19556e9-5414-48bb-ad44-d99eaccafa40",
   "metadata": {},
   "outputs": [],
   "source": [
    "CancelParcels2D = pd.concat([cancel_parcel, replicated_parcels, history_parcels, SequenceActions_cancel], ignore_index = True)\n",
    "\n",
    "CancelParcels2D['SubBlockNumber'] = CancelParcels2D['SubBlockNumber'].fillna(0)\n",
    "\n",
    "CancelParcels2D = CancelParcels2D[(CancelParcels2D['ParcelNumber'] > 0) & (CancelParcels2D['ParcelNumber'].notna())]\n",
    "\n",
    "del [cancel_parcel, replicated_parcels, history_parcels, SequenceActions_cancel]"
   ]
  },
  {
   "cell_type": "markdown",
   "id": "7c8b856f-7e24-4e2e-9124-974a78a2b31e",
   "metadata": {},
   "source": [
    "<h1 style=\"text-align:right;font-size:100%\">\n",
    "הסרת חלקות מבוטלות אם הן מופיעות גם כחלקות רצף וקיבוץ הרשומות והסרת כפילויות"
   ]
  },
  {
   "cell_type": "code",
   "execution_count": null,
   "id": "9457d1f8-553d-41c2-a455-8a5cc6824134",
   "metadata": {
    "tags": []
   },
   "outputs": [],
   "source": [
    "CancelParcels2D[['BlockNumber', 'SubBlockNumber', 'ParcelNumber']] = CancelParcels2D[['BlockNumber', 'SubBlockNumber', 'ParcelNumber']].astype(int)\n",
    "CancelParcels2D['Name'] = CancelParcels2D['ParcelNumber'].astype(str) + '/' + CancelParcels2D['BlockNumber'].astype(str) + '/' + CancelParcels2D['SubBlockNumber'].astype(str)\n",
    "\n",
    "CancelParcels2D = CancelParcels2D[~CancelParcels2D['Name'].isin(Parcels2D_List['Name'])]\n",
    "\n",
    "CancelParcels2D = CancelParcels2D.groupby(by = ['Name'], as_index = False).first()\n",
    "\n",
    "del Parcels2D_List"
   ]
  },
  {
   "cell_type": "markdown",
   "id": "368caf8d-ad0c-4fcd-b352-47e75cae603a",
   "metadata": {},
   "source": [
    "<h1 style=\"text-align:right;font-size:100%\">\n",
    "מיפוי ערכי שדה סוג תהליך מבטל, ערכים ריקים יוגדרו כתהליך מבטל גנרי"
   ]
  },
  {
   "cell_type": "code",
   "execution_count": null,
   "id": "19023a4a-16aa-48fc-a36b-e1aab805c760",
   "metadata": {
    "tags": []
   },
   "outputs": [],
   "source": [
    "CancelProcessTypeMap = {1 : 1,       # תצ\"ר\n",
    "                        #2 : 4,       # תמ\"ר\n",
    "                        3 : 2,       # פס\"ד\n",
    "                        11 :3,       # תצ\"ר לא מוסדר\n",
    "                        16 : 16}\n",
    "                        \n",
    "CancelParcels2D['CancelProcessType'] = CancelParcels2D['CancelProcessType'].fillna(16)\n",
    "CancelParcels2D['CancelProcessType'] = CancelParcels2D['CancelProcessType'].map(CancelProcessTypeMap)\n",
    "\n",
    "CancelParcels2D['RetiredByRecord'] = np.where(CancelParcels2D['CancelProcessType'] == 16,\n",
    "                                              CNFG.FabricatedCancelProcessGUID,\n",
    "                                              CancelParcels2D['RetiredByRecord'])"
   ]
  },
  {
   "cell_type": "markdown",
   "id": "3cd6a466-faf1-403c-9555-96069855f4e9",
   "metadata": {},
   "source": [
    "<h1 style=\"text-align:right;font-size:100%\">\n",
    "מיזוג עם טבלת גושים לקבלת מספר מזהה לגוש, סוג מקרקעין ומאפיין שומא"
   ]
  },
  {
   "cell_type": "code",
   "execution_count": null,
   "id": "47df11c7-43a9-4354-94c4-9d94b77dbdf1",
   "metadata": {
    "tags": []
   },
   "outputs": [],
   "source": [
    "CadasterBlocks = Blocks[Blocks['IsTax'] == 0].rename(columns = {'GlobalID' : 'CadasterBlockUniqueID',\n",
    "                                                                'Name'     : 'BlockName',\n",
    "                                                                'LandType' : 'CadasterLandType',\n",
    "                                                                'IsTax'    : 'IsTax_0'})\n",
    "\n",
    "TaxBlocks = Blocks[Blocks['IsTax'] == 1].drop_duplicates('Name', keep = False)\\\n",
    "                                        .rename(columns = {'GlobalID' : 'TaxBlockUniqueID',\n",
    "                                                           'Name'     : 'BlockName',\n",
    "                                                           'LandType' : 'TaxLandType',\n",
    "                                                           'IsTax'    : 'IsTax_1'})\n",
    "\n",
    "\n",
    "CancelParcels2D[['BlockNumber', 'SubBlockNumber']] = CancelParcels2D[['BlockNumber', 'SubBlockNumber']].astype(int)\n",
    "CancelParcels2D['BlockName'] = CancelParcels2D['BlockNumber'].astype(str) + '/' +  CancelParcels2D['SubBlockNumber'].astype(str) \n",
    "\n",
    "\n",
    "CancelParcels2D = CancelParcels2D.merge(CadasterBlocks, on = 'BlockName', how = 'left')\\\n",
    "                                 .merge(TaxBlocks, on = 'BlockName', how = 'left')\\\n",
    "                                 .drop(columns = 'BlockName')\n",
    "\n",
    "\n",
    "CancelParcels2D['BlockUniqueID'] = CancelParcels2D['CadasterBlockUniqueID'].fillna(CancelParcels2D['TaxBlockUniqueID'])\n",
    "\n",
    "CancelParcels2D['LandType'] = CancelParcels2D['CadasterLandType'].fillna(CancelParcels2D['TaxLandType'])\n",
    "\n",
    "CancelParcels2D['IsTax'] = CancelParcels2D['IsTax_0'].fillna(CancelParcels2D['IsTax_1'])\n",
    "\n",
    "\n",
    "CancelParcels2D.drop(columns = ['CadasterBlockUniqueID', 'TaxBlockUniqueID', 'CadasterLandType', 'TaxLandType', 'IsTax_0', 'IsTax_1'], inplace = True)\n",
    "\n",
    "\n",
    "del [Blocks, CadasterBlocks, TaxBlocks]"
   ]
  },
  {
   "cell_type": "markdown",
   "id": "3f984f33-ddfe-4700-a8f8-d3b818201ea7",
   "metadata": {},
   "source": [
    "<h1 style=\"text-align:right;font-size:125%\">\n",
    "עיבוד לטבלת סדר פעולות לקבלת מידע של תהליכים יוצרים"
   ]
  },
  {
   "cell_type": "code",
   "execution_count": null,
   "id": "f7873499-260d-40d5-8ba6-65a93f65f50d",
   "metadata": {
    "tags": []
   },
   "outputs": [],
   "source": [
    "SequenceActions_created = SequenceActions[(SequenceActions['ToParcelFinal'].notna())\n",
    "                                                          &\n",
    "                                          (SequenceActions['ToParcelFinal'] != 0)\n",
    "                                                          &\n",
    "                                          (~SequenceActions['ProcessType'].isin([4, 6]))] #תת\"ג, 97ב\n",
    "\n",
    "\n",
    "SequenceActions_created = SequenceActions_created.merge(Process_Records[['ProcessGUID', 'RecordGUID']],\n",
    "                                                        left_on = 'CPBUniqueID', right_on = 'ProcessGUID',\n",
    "                                                        how = 'inner')\\\n",
    "                                                 .drop(columns = ['ProcessGUID', 'CPBUniqueID'])\\\n",
    "                                                 .dropna(subset = 'RecordGUID')\\\n",
    "                                                 .rename(columns = {'RecordGUID' : 'CreatedByRecord', 'ProcessType' : 'CreateProcessType'})\n",
    "\n",
    "\n",
    "SequenceActions_created['ToParcelFinal'] = SequenceActions_created['ToParcelFinal'].astype(int)\n",
    "\n",
    "SequenceActions_created['ToBlockNumber'] = SequenceActions_created['ToBlockNumber'].replace(0, None)\n",
    "SequenceActions_created['ToBlockNumber'] = SequenceActions_created['ToBlockNumber'].fillna(SequenceActions_created['BlockNumber'])\n",
    "\n",
    "SequenceActions_created['ToSubBlockNumber'] = SequenceActions_created['ToSubBlockNumber'].replace(0, None)\n",
    "SequenceActions_created['ToSubBlockNumber'] = SequenceActions_created['ToSubBlockNumber'].fillna(SequenceActions_created['SubBlockNumber'])\n",
    "SequenceActions_created['ToSubBlockNumber'] = SequenceActions_created['ToSubBlockNumber'].fillna(0)\n",
    "\n",
    "SequenceActions_created[['ToBlockNumber', 'ToSubBlockNumber']] = SequenceActions_created[['ToBlockNumber', 'ToSubBlockNumber']].astype(int)\n",
    "\n",
    "\n",
    "SequenceActions_created['Name'] = SequenceActions_created['ToParcelFinal'].astype(str) + '/' +\\\n",
    "                                  SequenceActions_created['ToBlockNumber'].astype(str) + '/' +\\\n",
    "                                  SequenceActions_created['ToSubBlockNumber'].astype(str)\n",
    "\n",
    "SequenceActions_created = SequenceActions_created[SequenceActions_created['Name'].isin(CancelParcels2D['Name'])][['Name', 'CreatedByRecord', 'CreateProcessType']]\n",
    "\n",
    "SequenceActions_created = SequenceActions_created.drop_duplicates(keep = 'first')\n",
    "\n",
    "CancelParcels2D = CancelParcels2D.merge(SequenceActions_created, on = 'Name', how = 'left')\n",
    "\n",
    "CancelParcels2D = CancelParcels2D.drop_duplicates(keep = 'first')\n",
    "\n",
    "CancelParcels2D['CreateProcessType'] = CancelParcels2D['CreateProcessType_x'].fillna(CancelParcels2D['CreateProcessType_y'])\n",
    "CancelParcels2D['CreatedByRecord'] = CancelParcels2D['CreatedByRecord_x'].fillna(CancelParcels2D['CreatedByRecord_y'])\n",
    "CancelParcels2D.drop(columns = ['CreateProcessType_x', 'CreateProcessType_y', 'CreatedByRecord_x', 'CreatedByRecord_y'], inplace = True)\n",
    "\n",
    "CreateProcessTypeMap = {1  : 1,      # תצ\"ר\n",
    "                        3  : 2,      # פס\"ד\n",
    "                        11 : 4,      # תצ\"ר לא מוסדר\n",
    "                        16 : 16}      \n",
    "\n",
    "CancelParcels2D['CreateProcessType'] = CancelParcels2D['CreateProcessType'].fillna(16)\n",
    "CancelParcels2D['CreateProcessType'] = CancelParcels2D['CreateProcessType'].map(CreateProcessTypeMap)\n",
    "\n",
    "CancelParcels2D['CreatedByRecord'] = CancelParcels2D['CreatedByRecord'].fillna(CNFG.FabricatedCreateProcessGUID)\n",
    "\n",
    "del [SequenceActions, SequenceActions_created, CreateProcessTypeMap, Process_Records]"
   ]
  },
  {
   "cell_type": "markdown",
   "id": "379b8235-53df-467b-aed1-b6db0697812e",
   "metadata": {},
   "source": [
    "<h1 style=\"text-align:right;font-size:100%\">\n",
    "הגדרת שדות מספרים שלמים"
   ]
  },
  {
   "cell_type": "code",
   "execution_count": null,
   "id": "12624ef0-c845-45d1-abd5-40fe024f3e39",
   "metadata": {
    "tags": []
   },
   "outputs": [],
   "source": [
    "int_cols = ['ParcelNumber','BlockNumber','SubBlockNumber','CancelProcessType','CreateProcessType', 'LandType']\n",
    "\n",
    "CancelParcels2D[int_cols] = CancelParcels2D[int_cols].astype('Int64')"
   ]
  },
  {
   "cell_type": "markdown",
   "id": "3311a7b7-c99b-4a28-ae24-22de053b6f56",
   "metadata": {},
   "source": [
    "<h1 style=\"text-align:right;font-size:100%\">\n",
    "הסרת גיאומטריה לחלקות מבוטלות שמחוץ לגבולות ארץ ישראל"
   ]
  },
  {
   "cell_type": "code",
   "execution_count": null,
   "id": "b441d040-24c2-4400-96b2-2656b067e434",
   "metadata": {
    "tags": []
   },
   "outputs": [],
   "source": [
    "CancelParcels2D.loc[CancelParcels2D['Name'].isin(Outliers_List), 'geometry'] = None\n",
    "del Outliers_List"
   ]
  },
  {
   "cell_type": "code",
   "execution_count": null,
   "id": "da015363-b791-4e8a-a70b-9f5f607233d5",
   "metadata": {
    "tags": []
   },
   "outputs": [],
   "source": [
    "CancelParcels2D = CancelParcels2D.groupby(by = 'Name', as_index = False).last()"
   ]
  },
  {
   "cell_type": "markdown",
   "id": "1d73211e-ffc2-4af3-a39e-c2a68ddb2c93",
   "metadata": {},
   "source": [
    "<h1 style=\"text-align:right;font-size:100%\">\n",
    "איכלוס שדה סוג חלקה"
   ]
  },
  {
   "cell_type": "code",
   "execution_count": null,
   "id": "0a8cab05-eae1-46b0-a968-7a57a90a781f",
   "metadata": {},
   "outputs": [],
   "source": [
    "CancelParcels2D['ParcelType'] = 2 # סופית"
   ]
  },
  {
   "cell_type": "markdown",
   "id": "47222276-5c7d-45c9-9b37-77eeb2b624d7",
   "metadata": {},
   "source": [
    "<h1 style=\"text-align:right;font-size:100%\">\n",
    "איכלוס שדה יחדית שטח"
   ]
  },
  {
   "cell_type": "code",
   "execution_count": null,
   "id": "4a8f02b0-0e98-46a6-add3-92b2c1e24f75",
   "metadata": {},
   "outputs": [],
   "source": [
    "CancelParcels2D['StatedAreaUnit'] = 109404 #מטר מרובע"
   ]
  },
  {
   "cell_type": "markdown",
   "id": "e38bfdcf-d44c-41a3-84d2-037ae27c55ef",
   "metadata": {},
   "source": [
    "<h1 style=\"text-align:right;font-size:100%\">\n",
    "הגדרת התוצאות כטבלה גיאוגרפית"
   ]
  },
  {
   "cell_type": "code",
   "execution_count": null,
   "id": "efd40a98-d859-4f28-bccc-f490c2eb6445",
   "metadata": {
    "tags": []
   },
   "outputs": [],
   "source": [
    "CancelParcels2D = gpd.GeoDataFrame(CancelParcels2D, crs = 2039, geometry = 'geometry')"
   ]
  },
  {
   "cell_type": "markdown",
   "id": "d24b2c15-514f-4494-a18b-5ff9c5c6ee4c",
   "metadata": {},
   "source": [
    "<h1 style=\"text-align:right; font-size:150%; color:#1c6ce6;\"> \n",
    "שמירת תוצאות 💾"
   ]
  },
  {
   "cell_type": "code",
   "execution_count": null,
   "id": "c78a49e3-7658-41bf-bf30-2a92e1cadbf3",
   "metadata": {},
   "outputs": [],
   "source": [
    "print('   Exporting results')"
   ]
  },
  {
   "cell_type": "code",
   "execution_count": null,
   "id": "1ac45a10-53d4-4aa9-8661-38a51d0673c4",
   "metadata": {
    "tags": []
   },
   "outputs": [],
   "source": [
    "CancelParcels2D.to_file(CNFG.Results, layer = 'CancelParcels2D', driver = 'OpenFileGDB', engine = 'pyogrio', mode = 'w')"
   ]
  },
  {
   "cell_type": "code",
   "execution_count": null,
   "id": "96e082f1-ad58-42a4-87b0-3de997786f1b",
   "metadata": {
    "tags": []
   },
   "outputs": [],
   "source": [
    "print('   Appending results to product')"
   ]
  },
  {
   "cell_type": "code",
   "execution_count": null,
   "id": "abd3f8cc-f008-45ac-aba2-7ffaf9f8356c",
   "metadata": {},
   "outputs": [],
   "source": [
    "subprocess.call([CNFG.BatchPath + \"Parcels2D(retired)-Save as Feature Class.bat\"]);"
   ]
  }
 ],
 "metadata": {
  "kernelspec": {
   "display_name": "Python 3 (ipykernel)",
   "language": "python",
   "name": "python3"
  },
  "language_info": {
   "codemirror_mode": {
    "name": "ipython",
    "version": 3
   },
   "file_extension": ".py",
   "mimetype": "text/x-python",
   "name": "python",
   "nbconvert_exporter": "python",
   "pygments_lexer": "ipython3",
   "version": "3.11.3"
  }
 },
 "nbformat": 4,
 "nbformat_minor": 5
}
