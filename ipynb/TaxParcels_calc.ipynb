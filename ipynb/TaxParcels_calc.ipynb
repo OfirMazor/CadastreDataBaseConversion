{
 "cells": [
  {
   "cell_type": "markdown",
   "id": "6fe34da5-072e-43f1-9ed0-b940147db092",
   "metadata": {},
   "source": [
    "<h1 style=\"background-color:green;\n",
    "           font-family:segoe ui;\n",
    "                color:#FFF9ED;\n",
    "           font-size:300%;\n",
    "           text-align:center;\n",
    "           border-radius:10px 10px;\"> \n",
    "    🌐 תהליך הסבת חלקות שומא לבנק\"ל מודרני 🌐"
   ]
  },
  {
   "cell_type": "code",
   "execution_count": null,
   "id": "2aab78bd-07b5-4e9a-b083-4757b2be8cf8",
   "metadata": {},
   "outputs": [],
   "source": [
    "print(' Tax Assessment Parcels:')"
   ]
  },
  {
   "cell_type": "markdown",
   "id": "05d1e0fb-ed58-4183-98b7-5db22cb3c0f1",
   "metadata": {},
   "source": [
    "<h1 style=\"text-align:right; font-size:150%; color:#1c6ce6;\">\n",
    "ספריות 📚"
   ]
  },
  {
   "cell_type": "code",
   "execution_count": null,
   "id": "fe51a453-9fe4-4eaa-9b39-f7884f4d5895",
   "metadata": {
    "tags": [
     "Libraries"
    ]
   },
   "outputs": [],
   "source": [
    "import warnings\n",
    "warnings.filterwarnings('ignore')\n",
    "\n",
    "from configs import CNFG\n",
    "import numpy as np\n",
    "import pandas as pd\n",
    "import geopandas as gpd\n",
    "import dask_geopandas as dask_gpd\n",
    "import subprocess"
   ]
  },
  {
   "cell_type": "markdown",
   "id": "4a20caee-2cd5-43f6-ba99-cf4abda21ebd",
   "metadata": {},
   "source": [
    "<h1 style=\"text-align:right; font-size:150%; color:#1c6ce6;\">קריאת נתונים 📑 "
   ]
  },
  {
   "cell_type": "code",
   "execution_count": null,
   "id": "88c95565-b5cc-471f-b1b0-af68e6181ffa",
   "metadata": {},
   "outputs": [],
   "source": [
    "print('   Reading inputs')"
   ]
  },
  {
   "cell_type": "markdown",
   "id": "f92e38d6-7a48-4801-9cb5-5e4e035d801c",
   "metadata": {},
   "source": [
    "<h1 style=\"text-align:right;font-size:100%\">\n",
    "שכבת חלקות שומא (לאחר עיבוד מקדים)"
   ]
  },
  {
   "cell_type": "code",
   "execution_count": null,
   "id": "9e514e65-0923-4be5-a19a-59537587798f",
   "metadata": {
    "tags": []
   },
   "outputs": [],
   "source": [
    "parcels_shuma_cols = ['PARCEL', 'GUSH_NUM', 'GUSH_SUFFIX', 'LEGAL_AREA', 'geometry']\n",
    "\n",
    "parcels_shuma = dask_gpd.read_file(CNFG.CADSDE + 'PARCEL_ALL_SHUMA.gdb', layer = 'PARCEL_ALL_SHUMA_remains', columns = parcels_shuma_cols, npartitions = 3).compute()"
   ]
  },
  {
   "cell_type": "markdown",
   "id": "672d0c20-4c48-44bf-8a8e-29a302d8e07e",
   "metadata": {},
   "source": [
    "<h1 style=\"text-align:right;font-size:100%\">\n",
    "שכבת חלקות שומא מבוטלות (לאחר עיבוד מקדים)"
   ]
  },
  {
   "cell_type": "code",
   "execution_count": null,
   "id": "421ccc36-076c-40de-b1fd-a212702ab1e4",
   "metadata": {
    "tags": []
   },
   "outputs": [],
   "source": [
    "PARCEL_ALL_SHUMA_cancel_cols = ['PARCEL', 'GUSH_NUM', 'GUSH_SUFFIX', 'LEGAL_AREA', 'geometry']\n",
    "\n",
    "parcels_shuma_cancel = dask_gpd.read_file(CNFG.CADSDE + 'PARCEL_ALL_SHUMA.gdb', layer = 'PARCEL_ALL_SHUMA_cancel', columns = parcels_shuma_cols, npartitions = 3).compute() "
   ]
  },
  {
   "cell_type": "markdown",
   "id": "d23dce31-ddde-4171-955f-3fa2dc755873",
   "metadata": {},
   "source": [
    "<h1 style=\"text-align:right;font-size:100%\">\n",
    "נתוני גושי שומא לאחר הסבה"
   ]
  },
  {
   "cell_type": "code",
   "execution_count": null,
   "id": "57e525a8-0842-46ee-ae8c-66d33e4af2c3",
   "metadata": {
    "tags": []
   },
   "outputs": [],
   "source": [
    "TaxAssasmentBlocks = pd.read_csv(CNFG.CSVPath + 'BlockUniqueIDs.csv', usecols = ['Name', 'BlockUniqueID', 'GlobalID', 'IsTax'])\n",
    "TaxAssasmentBlocks = TaxAssasmentBlocks[TaxAssasmentBlocks['IsTax'] == 1]\n",
    "TaxAssasmentBlocks.drop(columns = 'IsTax', inplace = True)"
   ]
  },
  {
   "cell_type": "code",
   "execution_count": null,
   "id": "94a7732d-c94b-4717-9595-93fda555d499",
   "metadata": {
    "tags": []
   },
   "outputs": [],
   "source": [
    "del [parcels_shuma_cols, PARCEL_ALL_SHUMA_cancel_cols]"
   ]
  },
  {
   "cell_type": "markdown",
   "id": "218a6669-19da-4b1f-93e3-532727c3c8f1",
   "metadata": {},
   "source": [
    "<h1 style=\"text-align:right; font-size:150%; color:#1c6ce6;\">\n",
    "עיבוד נתונים 🛠️"
   ]
  },
  {
   "cell_type": "code",
   "execution_count": null,
   "id": "d4d263fe-e562-4765-b76b-fc0c0c570cd3",
   "metadata": {},
   "outputs": [],
   "source": [
    "print('   Cleaning data')"
   ]
  },
  {
   "cell_type": "markdown",
   "id": "0abe7cf3-3a2a-4871-88a8-e4628e307e2d",
   "metadata": {},
   "source": [
    "<h1 style=\"text-align:right;font-size:100%\">\n",
    "הסרת חלקות טעות שקיבלו מספר 0"
   ]
  },
  {
   "cell_type": "code",
   "execution_count": null,
   "id": "39645459-7ca2-4f94-9fc6-893e1423cb71",
   "metadata": {
    "tags": []
   },
   "outputs": [],
   "source": [
    "parcels_shuma = parcels_shuma[parcels_shuma['PARCEL'] != 0]\n",
    "parcels_shuma_cancel = parcels_shuma_cancel[parcels_shuma_cancel['PARCEL'] != 0]"
   ]
  },
  {
   "cell_type": "code",
   "execution_count": null,
   "id": "62f25a6c-8864-48b2-9899-5c4a12e5a3f9",
   "metadata": {},
   "outputs": [],
   "source": [
    "print('   Data conversion')"
   ]
  },
  {
   "cell_type": "markdown",
   "id": "7e111119-d4a3-4dfa-9c8c-62decd927d0d",
   "metadata": {},
   "source": [
    "<h1 style=\"text-align:right;font-size:100%\">\n",
    "הגדרת שדות של תהליכים יוצרים ומבטלים"
   ]
  },
  {
   "cell_type": "code",
   "execution_count": null,
   "id": "0cdd16d4-e449-436e-ba65-d07c40a77596",
   "metadata": {},
   "outputs": [],
   "source": [
    "parcels_shuma_cancel['CreatedByRecord'] = CNFG.FabricatedCreateProcessGUID\n",
    "parcels_shuma_cancel['RetiredByRecord'] = CNFG.FabricatedCancelProcessGUID\n",
    "parcels_shuma_cancel['CreateProcessType'] = 16\n",
    "parcels_shuma_cancel['CancelProcessType'] = 16\n",
    "\n",
    "\n",
    "parcels_shuma['CreatedByRecord'] = CNFG.FabricatedCreateProcessGUID\n",
    "parcels_shuma['CreateProcessType'] = 16"
   ]
  },
  {
   "cell_type": "markdown",
   "id": "50abeca0-31a8-4324-b8ba-4ddb3e133ebb",
   "metadata": {},
   "source": [
    "<h1 style=\"text-align:right;font-size:100%\">\n",
    "מיזוג חלקות שומא מבוטלות עם רציפות"
   ]
  },
  {
   "cell_type": "code",
   "execution_count": null,
   "id": "f3061a7d-b1b0-4ca7-b079-e7897f031feb",
   "metadata": {},
   "outputs": [],
   "source": [
    "parcels_shuma = pd.concat([parcels_shuma, parcels_shuma_cancel], ignore_index = True)"
   ]
  },
  {
   "cell_type": "markdown",
   "id": "84ee2339-1d0b-4432-a48b-9c729bb1b026",
   "metadata": {},
   "source": [
    "<h1 style=\"text-align:right;font-size:100%\">\n",
    "הגדרת שדה מספר מלא של גוש"
   ]
  },
  {
   "cell_type": "code",
   "execution_count": null,
   "id": "539451f5-ba45-43d2-9169-27ba31901763",
   "metadata": {
    "tags": []
   },
   "outputs": [],
   "source": [
    "parcels_shuma['GUSH_NUM'] = parcels_shuma['GUSH_NUM'].astype(int)\n",
    "\n",
    "parcels_shuma['GUSH_SUFFIX'] = parcels_shuma['GUSH_SUFFIX'].fillna(0)\n",
    "parcels_shuma['GUSH_SUFFIX'] = parcels_shuma['GUSH_SUFFIX'].astype(int)\n",
    "\n",
    "parcels_shuma['BlockName'] = parcels_shuma['GUSH_NUM'].astype(str) + '/' + parcels_shuma['GUSH_SUFFIX'].astype(str)\n",
    "parcels_shuma.rename(columns = {'GUSH_NUM' : 'BlockNumber', 'GUSH_SUFFIX' : 'SubBlockNumber'}, inplace = True)"
   ]
  },
  {
   "cell_type": "markdown",
   "id": "01e56daf-b891-4c8f-a8f6-80425a62b8a0",
   "metadata": {},
   "source": [
    "<h1 style=\"text-align:right;font-size:100%;\">\n",
    "מיזוג חלקות שומא עם נתוני גושי שומא לקבלת מספר זיהוי של גוש השומא"
   ]
  },
  {
   "cell_type": "code",
   "execution_count": null,
   "id": "bd5f93df-45b3-443f-9492-709b69c487b4",
   "metadata": {},
   "outputs": [],
   "source": [
    "parcels_shuma = parcels_shuma.merge(TaxAssasmentBlocks, left_on = 'BlockName', right_on = 'Name', how = 'left')\n",
    "parcels_shuma.rename(columns = {'GlobalID' : 'BlockGlobalID'}, inplace = True)\n",
    "del TaxAssasmentBlocks"
   ]
  },
  {
   "cell_type": "markdown",
   "id": "89162c7b-ece1-4dc8-b106-371f4a6ed633",
   "metadata": {},
   "source": [
    "<h1 style=\"text-align:right;font-size:100%\">\n",
    "הגדרת מספר מלא שלא חלקה"
   ]
  },
  {
   "cell_type": "code",
   "execution_count": null,
   "id": "4741309b-3feb-42ef-ba02-f087b98320ca",
   "metadata": {},
   "outputs": [],
   "source": [
    "parcels_shuma['Name'] = parcels_shuma['PARCEL'].astype(str) + '/' + parcels_shuma['BlockName']\n",
    "parcels_shuma.drop(columns = 'BlockName', inplace = True)"
   ]
  },
  {
   "cell_type": "markdown",
   "id": "aa4b6621-b64f-4224-8230-59b51470ec84",
   "metadata": {},
   "source": [
    "<h1 style=\"text-align:right;font-size:100%\">\n",
    "הסרת כפילויות של חלקות שומא, השארת הגיאומטריות שהוגדרו כשארית"
   ]
  },
  {
   "cell_type": "code",
   "execution_count": null,
   "id": "62c4e2b7-89d0-4093-9d1b-979fe17d9987",
   "metadata": {
    "tags": []
   },
   "outputs": [],
   "source": [
    "parcels_shuma = parcels_shuma.sort_values(['Name', 'RetiredByRecord'], na_position = 'first')\n",
    "parcels_shuma = parcels_shuma.drop_duplicates(['Name'])"
   ]
  },
  {
   "cell_type": "markdown",
   "id": "a64cf777-9bb8-429c-a73c-bdaf5eb71b88",
   "metadata": {},
   "source": [
    "<h1 style=\"text-align:right; font-size:150%; color:#1c6ce6;\"> \n",
    "יצירת שכבה חדשה בהתאם לאפיון ✨"
   ]
  },
  {
   "cell_type": "code",
   "execution_count": null,
   "id": "8a33b0ae-fe0b-4072-8785-379ae44122f1",
   "metadata": {},
   "outputs": [],
   "source": [
    "print('   Defining new Layer')"
   ]
  },
  {
   "cell_type": "code",
   "execution_count": null,
   "id": "d1228476-8eb8-48d1-a35a-f14f3a88110a",
   "metadata": {},
   "outputs": [],
   "source": [
    "new_columns = np.dtype([\n",
    "                        (\"geometry\", gpd.array.GeometryDtype),\n",
    "                        (\"Name\", str),\n",
    "                        (\"BlockNumber\", int),\n",
    "                        (\"SubBlockNumber\", int),\n",
    "                        (\"StatedArea\", float),\n",
    "                        (\"ParcelNumber\", int),\n",
    "                        (\"BlockUniqueID\", str),\n",
    "                        (\"LandType\", int),\n",
    "                        (\"ParcelType\", int),\n",
    "                        (\"StatedAreaUnit\", int),\n",
    "                        (\"LandDesignationPlan\", str),\n",
    "                        (\"CreatedByRecord\", str),\n",
    "                        (\"UpdatedByRecord\", str),\n",
    "                        (\"RetiredByRecord\", str),\n",
    "                        (\"IsTax\", int),\n",
    "                        (\"CreateProcessType\", int),\n",
    "                        (\"CancelProcessType\", int)\n",
    "                        ])\n",
    "\n",
    "\n",
    "TaxAssessmentParcels = gpd.GeoDataFrame(data = np.empty(0, dtype=new_columns), crs = 2039, geometry = 'geometry')\n",
    "\n",
    "del new_columns"
   ]
  },
  {
   "cell_type": "markdown",
   "id": "820e459d-123b-45a5-87e7-f99a032d2082",
   "metadata": {},
   "source": [
    "<h1 style=\"text-align:right;font-size:100%\">\n",
    "איכלוס שדות"
   ]
  },
  {
   "cell_type": "code",
   "execution_count": null,
   "id": "696efadf-c5c9-4d63-a151-d876583b6e86",
   "metadata": {},
   "outputs": [],
   "source": [
    "TaxAssessmentParcels['ParcelNumber'] = parcels_shuma['PARCEL'].astype(int)\n",
    "\n",
    "TaxAssessmentParcels['BlockNumber'] = parcels_shuma['BlockNumber'].astype(int)\n",
    "\n",
    "TaxAssessmentParcels['SubBlockNumber'] = 0\n",
    "\n",
    "TaxAssessmentParcels['Name'] = parcels_shuma['Name']\n",
    "\n",
    "TaxAssessmentParcels['CreatedByRecord'] = parcels_shuma['CreatedByRecord']\n",
    "\n",
    "TaxAssessmentParcels['RetiredByRecord'] = parcels_shuma['RetiredByRecord']\n",
    "\n",
    "TaxAssessmentParcels['StatedAreaUnit'] = 109404 #Square Meter\n",
    "\n",
    "TaxAssessmentParcels['ParcelType'] = 2 # סופית\n",
    "\n",
    "TaxAssessmentParcels['LandType']   = 2 # לא מוסדר\n",
    "\n",
    "TaxAssessmentParcels['StatedArea'] = parcels_shuma['LEGAL_AREA']\n",
    "\n",
    "TaxAssessmentParcels['BlockUniqueID'] = parcels_shuma['BlockGlobalID']\n",
    "\n",
    "TaxAssessmentParcels['CreateProcessType'] = parcels_shuma['CreateProcessType']\n",
    "\n",
    "TaxAssessmentParcels['CancelProcessType'] = parcels_shuma['CancelProcessType'].astype('Int64')\n",
    "\n",
    "TaxAssessmentParcels['geometry'] = parcels_shuma['geometry']\n",
    "\n",
    "TaxAssessmentParcels.sort_values(by = ['BlockNumber', 'ParcelNumber'], inplace = True)\n",
    "\n",
    "TaxAssessmentParcels['IsTax'] = 1   #שומא"
   ]
  },
  {
   "cell_type": "code",
   "execution_count": null,
   "id": "f0736020-fbee-4d6a-b33c-ddb4b58d4ec1",
   "metadata": {},
   "outputs": [],
   "source": [
    "del parcels_shuma"
   ]
  },
  {
   "cell_type": "markdown",
   "id": "eb4aaa5f-b9dd-4527-8d84-bad53373f3d9",
   "metadata": {},
   "source": [
    "<h1 style=\"text-align:right; font-size:150%; color:#1c6ce6;\"> \n",
    "שמירת תוצאות 💾"
   ]
  },
  {
   "cell_type": "code",
   "execution_count": null,
   "id": "eda57e7e-b8c2-4c96-ada5-2e0a87e38555",
   "metadata": {},
   "outputs": [],
   "source": [
    "print('   Exporting results')"
   ]
  },
  {
   "cell_type": "code",
   "execution_count": null,
   "id": "172706b4-5964-43f0-92db-146c3faa039a",
   "metadata": {
    "tags": []
   },
   "outputs": [],
   "source": [
    "TaxAssessmentParcels.to_file(CNFG.Results, layer = 'TaxParcels', driver = 'OpenFileGDB', engine = 'pyogrio', mode = 'w')"
   ]
  },
  {
   "cell_type": "code",
   "execution_count": null,
   "id": "3d388b88-c582-4702-a05c-71e3c75baa94",
   "metadata": {},
   "outputs": [],
   "source": [
    "print('   Appending results to Parcels2D')"
   ]
  },
  {
   "cell_type": "code",
   "execution_count": null,
   "id": "cca047d3-bb82-44b9-8238-f207fd973596",
   "metadata": {},
   "outputs": [],
   "source": [
    "subprocess.call([CNFG.BatchPath + \"Parcels2D(current)-Save as Feature Class.bat\"]);"
   ]
  }
 ],
 "metadata": {
  "kernelspec": {
   "display_name": "Python 3 (ipykernel)",
   "language": "python",
   "name": "python3"
  },
  "language_info": {
   "codemirror_mode": {
    "name": "ipython",
    "version": 3
   },
   "file_extension": ".py",
   "mimetype": "text/x-python",
   "name": "python",
   "nbconvert_exporter": "python",
   "pygments_lexer": "ipython3",
   "version": "3.11.3"
  }
 },
 "nbformat": 4,
 "nbformat_minor": 5
}
