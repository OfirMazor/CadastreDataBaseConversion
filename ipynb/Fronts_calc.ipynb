{
 "cells": [
  {
   "cell_type": "markdown",
   "id": "5e9bcae4-3de7-4b03-81aa-891d0048d8b7",
   "metadata": {},
   "source": [
    "<h1 style=\"background-color:#1c6ce6;\n",
    "           font-family:segoe ui;\n",
    "                color:#FFF9ED;\n",
    "           font-size:300%;\n",
    "           text-align:center;\n",
    "           border-radius:10px 10px;\"> \n",
    "📏 תהליך הסבת שכבת חזיתות לבנק\"ל מודרני 📏 "
   ]
  },
  {
   "cell_type": "markdown",
   "id": "9b3d66fb-f8b6-4ec6-b0f7-f2d4619bf08a",
   "metadata": {},
   "source": [
    "<h1 style=\"text-align:right; font-size:150%; color:#1c6ce6;\">\n",
    "ספריות 📚"
   ]
  },
  {
   "cell_type": "code",
   "execution_count": null,
   "id": "8c86d8bb-2ab8-4b66-ab04-8a6d0d13009f",
   "metadata": {},
   "outputs": [],
   "source": [
    "print('13. Parcels2DFronts:')"
   ]
  },
  {
   "cell_type": "code",
   "execution_count": null,
   "id": "9dac561c-685c-4942-8962-97b87e87f5e5",
   "metadata": {},
   "outputs": [],
   "source": [
    "import warnings\n",
    "warnings.filterwarnings('ignore')\n",
    "\n",
    "from configs import CNFG\n",
    "import re\n",
    "import subprocess\n",
    "import numpy as np\n",
    "import pandas as pd\n",
    "import geopandas as gpd\n",
    "import dask_geopandas as daskgpd"
   ]
  },
  {
   "cell_type": "markdown",
   "id": "146704b1-71d3-4542-ac32-7b66192fe3af",
   "metadata": {},
   "source": [
    "<h1 style=\"text-align:right; font-size:150%; color:#1c6ce6;\">קריאת נתונים 📑 "
   ]
  },
  {
   "cell_type": "code",
   "execution_count": null,
   "id": "bafa1bb9-ae53-4902-9fad-7f0921abf336",
   "metadata": {},
   "outputs": [],
   "source": [
    "print('   Reading inputs')"
   ]
  },
  {
   "cell_type": "markdown",
   "id": "cb6f12ae-72b6-42ac-8e09-7f10a242d336",
   "metadata": {},
   "source": [
    "<h1 style=\"text-align:right;font-size:125%\">\n",
    "נתוני חזיתות ברצף"
   ]
  },
  {
   "cell_type": "code",
   "execution_count": null,
   "id": "b34cea26-ae36-42d7-bb16-918e3a9a27ff",
   "metadata": {},
   "outputs": [],
   "source": [
    "arc_cols = ['RADIUS', 'FNODE_', 'TNODE_', 'LENGTH', 'LPOLY_', 'RPOLY_', 'geometry']\n",
    "\n",
    "arc = daskgpd.read_file(path = CNFG.Arcstorm + 'PARCEL_ARC.gdb', layer = 'PARCEL_ARC', columns = arc_cols, npartitions = 8).compute()\n",
    "\n",
    "del arc_cols\n",
    "\n",
    "print('         input 1/6 read')"
   ]
  },
  {
   "cell_type": "markdown",
   "id": "af82aeda-960f-4079-8194-4d9c1295920b",
   "metadata": {},
   "source": [
    "<h1 style=\"text-align:right;font-size:125%\">\n",
    "נתוני זיהוי של נקודות גבול"
   ]
  },
  {
   "cell_type": "code",
   "execution_count": null,
   "id": "458ee4b4-7220-4495-ad89-e41a1218e9f0",
   "metadata": {},
   "outputs": [],
   "source": [
    "BorderPoints_cols = ['PARCEL_SDE', 'GlobalID']\n",
    "\n",
    "BorderPoints = daskgpd.read_file(CNFG.ProductPath, layer = 'BorderPoints', columns = BorderPoints_cols, npartitions = 8).compute()\n",
    "\n",
    "del BorderPoints_cols\n",
    "\n",
    "print('         input 2/6 read')"
   ]
  },
  {
   "cell_type": "markdown",
   "id": "95c46804-358e-487a-b907-e7be2640ade8",
   "metadata": {},
   "source": [
    "<h1 style=\"text-align:right;font-size:125%\">\n",
    "נתוני חזיתות של חלקות שומא ברצף"
   ]
  },
  {
   "cell_type": "code",
   "execution_count": null,
   "id": "82f15e0f-a007-4ee5-8cc5-e295e53d08c0",
   "metadata": {
    "tags": []
   },
   "outputs": [],
   "source": [
    "TaxFronts = daskgpd.read_file(path = CNFG.CADSDE + 'PARCEL_ALL_SHUMA.gdb', layer = 'PARCEL_ALL_SHUMA_remains_Fronts', columns = ['geometry'], npartitions = 8).compute()\n",
    "\n",
    "print('         input 3/6 read')"
   ]
  },
  {
   "cell_type": "markdown",
   "id": "a03bc125-a560-4edf-b449-0411528aef31",
   "metadata": {},
   "source": [
    "<h1 style=\"text-align:right;font-size:125%\">\n",
    "נתוני תהליכים יוצרים של חלקות"
   ]
  },
  {
   "cell_type": "code",
   "execution_count": null,
   "id": "60dabfef-66eb-4799-afc9-538c0858a8bc",
   "metadata": {},
   "outputs": [],
   "source": [
    "Parcels_cols = ['PARCEL_SDE_', 'TALAR_NUMBER', 'TALAR_YEAR']\n",
    "\n",
    "Parcels = daskgpd.read_file(path = CNFG.Arcstorm + 'PARCEL_POLYGON_SJOIN.gdb', layer = 'PARCEL_POLYGON_SJOIN', columns = Parcels_cols, npartitions = 8).compute()\n",
    "\n",
    "del Parcels_cols\n",
    "\n",
    "print('         input 4/6 read')"
   ]
  },
  {
   "cell_type": "markdown",
   "id": "5051eb99-a2bf-4ec0-845d-cbdeaaf26bf3",
   "metadata": {},
   "source": [
    "<h1 style=\"text-align:right;font-size:125%\">\n",
    "נתוני רישומי קדסטר"
   ]
  },
  {
   "cell_type": "code",
   "execution_count": null,
   "id": "83d21b0e-f420-449f-b375-a72da4aed681",
   "metadata": {},
   "outputs": [],
   "source": [
    "Records_cols = ['ProcessName', 'ProcessType', 'DataSource', 'RecordGUID', 'ProcessGUID']\n",
    "\n",
    "Records = pd.read_csv(CNFG.CSVPath + 'ProcessesAndRecords.csv', usecols = Records_cols)\n",
    "\n",
    "del Records_cols\n",
    "\n",
    "print('         input 5/6 read')"
   ]
  },
  {
   "cell_type": "markdown",
   "id": "6b0203f8-64e9-4a21-915a-0d38b1ec062e",
   "metadata": {},
   "source": [
    "<h1 style=\"text-align:right;font-size:125%\">\n",
    "נתוני תאריכי סטאטוס של תהליכי קדסטר"
   ]
  },
  {
   "cell_type": "code",
   "execution_count": null,
   "id": "68f8d754-9b90-4454-9376-38c0895b5fef",
   "metadata": {
    "tags": []
   },
   "outputs": [],
   "source": [
    "Dates_cols = ['CPBUniqueID', 'DateStatus']\n",
    "\n",
    "Dates = daskgpd.read_file(path = CNFG.ProductPath, layer = 'CPBStatusAndDates', columns = Dates_cols, npartitions = 8).compute()\n",
    "\n",
    "del Dates_cols\n",
    "\n",
    "print('         input 6/6 read')"
   ]
  },
  {
   "cell_type": "markdown",
   "id": "b0436eb4-108d-434a-9133-a96694dc7ece",
   "metadata": {},
   "source": [
    "<h1 style=\"text-align:right; font-size:150%; color:#1c6ce6;\">\n",
    "עיבוד נתונים 🛠️ "
   ]
  },
  {
   "cell_type": "code",
   "execution_count": null,
   "id": "b03cf7ed-166f-4400-b17c-bcf0a16a953a",
   "metadata": {},
   "outputs": [],
   "source": [
    "print('   Cleaning data')"
   ]
  },
  {
   "cell_type": "markdown",
   "id": "cb3c63a4-941d-43d9-b3f2-d812a7ec00b9",
   "metadata": {},
   "source": [
    "<h1 style=\"text-align:right; font-size:125%\">\n",
    ":עיבוד נתוני רישומי קדסטר\n",
    "<h1 style=\"text-align:right; font-size:100%\">\n",
    "סינון לרישומים יוצרים של תצ\"ר ופסק דין בלבד"
   ]
  },
  {
   "cell_type": "code",
   "execution_count": null,
   "id": "39504f39-ea90-4718-874a-de95746d6aa6",
   "metadata": {
    "tags": []
   },
   "outputs": [],
   "source": [
    "Records = Records[Records['RecordGUID'].notna()]\n",
    "\n",
    "Records = Records[Records['ProcessType'].isin([1, 3])]\n",
    "\n",
    "Records['ProcessYear'] = Records['ProcessName'].apply(lambda x: re.split('/|-', x)[1])\n",
    "\n",
    "Records = Records.merge(Dates, left_on = 'ProcessGUID', right_on = 'CPBUniqueID', how = 'left')\\\n",
    "                 .drop(columns = ['CPBUniqueID', 'ProcessGUID', 'ProcessType'])\\\n",
    "                 .sort_values(['ProcessName', 'RecordGUID', 'DateStatus'])\n",
    "\n",
    "Records = Records.groupby(by = 'ProcessName', as_index = False, dropna = False).max()\n",
    "\n",
    "Records.rename(columns = {'RecordGUID' : 'CreatedByRecord'}, inplace = True)\n",
    "\n",
    "del Dates"
   ]
  },
  {
   "cell_type": "markdown",
   "id": "389d27dc-ce60-42fa-8ad7-92a4b46de5c9",
   "metadata": {},
   "source": [
    "<h1 style=\"text-align:right; font-size:125%\">\n",
    "עיבוד נתוני חלקות\n",
    "<h1 style=\"text-align:right; font-size:100%\">\n",
    "יצירת שדה של שם מפה מלא\n",
    "מיזוג נתוני החלקות עם רישומי קדסטר לקבלת מזהה תהליך יוצר"
   ]
  },
  {
   "cell_type": "code",
   "execution_count": null,
   "id": "1d88922d-de48-4c27-a804-d5365499505a",
   "metadata": {
    "tags": []
   },
   "outputs": [],
   "source": [
    "Parcels[['TALAR_NUMBER', 'TALAR_YEAR']] = Parcels[['TALAR_NUMBER', 'TALAR_YEAR']].fillna(0)\n",
    "Parcels[['TALAR_NUMBER', 'TALAR_YEAR']] = Parcels[['TALAR_NUMBER', 'TALAR_YEAR']].astype(int)\n",
    "Parcels['ProcessName'] = Parcels['TALAR_NUMBER'].astype(str) + '/' + Parcels['TALAR_YEAR'].astype(str)\n",
    "\n",
    "Parcels = Parcels.merge(right = Records, on = 'ProcessName', how = 'left')\n",
    "Parcels = Parcels[~Parcels['CreatedByRecord'].isna()]\n",
    "\n",
    "Parcels.drop(columns = ['TALAR_NUMBER', 'TALAR_YEAR', 'ProcessName'], inplace = True)\n",
    "\n",
    "del Records"
   ]
  },
  {
   "cell_type": "markdown",
   "id": "123da592-7770-4337-bb04-cc038d99e1a9",
   "metadata": {},
   "source": [
    "<h1 style=\"text-align:right; font-size:125%\">\n",
    ":עיבוד נתוני חזיתות\n",
    "<h1 style=\"text-align:right; font-size:100%\">\n",
    "הסרת חזיתות שגויות בעלות אורך מחושב אפסי   "
   ]
  },
  {
   "cell_type": "code",
   "execution_count": null,
   "id": "73e14391-d112-4e63-82ce-37640a25e62c",
   "metadata": {},
   "outputs": [],
   "source": [
    "arc = arc[arc['LENGTH'] != 0.000000]"
   ]
  },
  {
   "cell_type": "markdown",
   "id": "a38c95ab-7759-45ac-b085-0d5afd86a9fe",
   "metadata": {},
   "source": [
    "<h1 style=\"text-align:right; font-size:100%\">    \n",
    "תיקון ערכים שגויים בשדה רדיוס\n",
    "ומילוי ערכים חסרים ברדיוס עם 0"
   ]
  },
  {
   "cell_type": "code",
   "execution_count": null,
   "id": "97a8b66b-1186-4d5b-9478-f9879dca927b",
   "metadata": {},
   "outputs": [],
   "source": [
    "arc['RADIUS'].replace(['', ' ',' 0.000 0', ' 0.000 1', ' 0.000 2', ' 0.000 3'], 0.00, inplace = True)\n",
    "arc['RADIUS'].fillna(0.0, inplace = True)"
   ]
  },
  {
   "cell_type": "markdown",
   "id": "9ccad248-4795-4574-a8c9-07d70dea20d2",
   "metadata": {},
   "source": [
    "<h1 style=\"text-align:right; font-size:100%\">    \n",
    "תיקון רשת קואורדינטות לרשת ישראל התקפה"
   ]
  },
  {
   "cell_type": "code",
   "execution_count": null,
   "id": "5ca5bc2a-3675-4564-b013-8be514c44a8e",
   "metadata": {},
   "outputs": [],
   "source": [
    "arc.to_crs(2039, inplace = True)"
   ]
  },
  {
   "cell_type": "markdown",
   "id": "f5a30d87-cb7f-4028-9a90-452331042573",
   "metadata": {
    "tags": []
   },
   "source": [
    "<h1 style=\"text-align:right; font-size:100%\">\n",
    "תיקון סוגי שדות"
   ]
  },
  {
   "cell_type": "code",
   "execution_count": null,
   "id": "6222f1ce-0cad-4adf-82ba-dcbdc4b303a8",
   "metadata": {},
   "outputs": [],
   "source": [
    "arc = arc.astype({'RADIUS' : float,\n",
    "                  'FNODE_' : int,\n",
    "                  'TNODE_' : int,\n",
    "                  'LENGTH' : float,\n",
    "                  'LPOLY_' : 'Int64',\n",
    "                  'RPOLY_' : 'Int64'})"
   ]
  },
  {
   "cell_type": "markdown",
   "id": "ea30ab4d-5d7b-4fca-9db2-aa94353f741f",
   "metadata": {
    "tags": []
   },
   "source": [
    "<h1 style=\"text-align:right; font-size:100%\">\n",
    "צירוף חזיתות שומא לחזיתות רצף"
   ]
  },
  {
   "cell_type": "code",
   "execution_count": null,
   "id": "5911a210-f844-473d-906f-c64618830ac8",
   "metadata": {
    "tags": []
   },
   "outputs": [],
   "source": [
    "arc = pd.concat([arc, TaxFronts], ignore_index = True).reset_index(drop = True)\n",
    "del TaxFronts"
   ]
  },
  {
   "cell_type": "markdown",
   "id": "d9562301-a6c5-4588-b417-ccd089ea7843",
   "metadata": {},
   "source": [
    "<h1 style=\"text-align:right; font-size:100%\">\n",
    "הגדרת שד של סוג הקו  כאשר רדיוס אפסי או ריק יהיה קו ישר, אחרת קשת\n",
    "    <h1 style=\"text-align:right; font-size:100%\">\n",
    "לקוים ישרים בעלי רדיוס אפסי, ערך הרדיוס יוחלף לריק"
   ]
  },
  {
   "cell_type": "code",
   "execution_count": null,
   "id": "51b1b154-e122-4e39-b274-be27ad93b9dd",
   "metadata": {},
   "outputs": [],
   "source": [
    "straight = 1\n",
    "curved   = 2\n",
    "\n",
    "arc['LineType'] = np.where((arc['RADIUS'] == 0) | (arc['RADIUS'].isna()), straight, curved)\n",
    "\n",
    "arc['RADIUS'] = np.where((arc['LineType'] == straight) & (arc['RADIUS'] == 0.0), np.nan, arc['RADIUS'])\n",
    "arc['RADIUS'] = arc['RADIUS'].astype('float64')"
   ]
  },
  {
   "cell_type": "code",
   "execution_count": null,
   "id": "7093bdcb-ddb6-405d-9e7f-f48530efcae7",
   "metadata": {},
   "outputs": [],
   "source": [
    "print('   Data conversion')"
   ]
  },
  {
   "cell_type": "markdown",
   "id": "a7de174b-b967-4024-b4bd-5345516d8c64",
   "metadata": {},
   "source": [
    "<h1 style=\"text-align:right; font-size:125%\">\n",
    ":מיזוג נתונים מול נקודות גבול"
   ]
  },
  {
   "cell_type": "markdown",
   "id": "67bd24f6-9288-4c09-a2ac-4e42cb87c013",
   "metadata": {
    "tags": []
   },
   "source": [
    "<h1 style=\"text-align:right; font-size:100%\">\n",
    "מיזוג ראשון לקבלת מזהה של נקודת התחלה\n",
    "<h1 style=\"text-align:right; font-size:100%\">\n",
    "מיזוג שני לקבלת מזהה של נקודת סוף\n",
    "<h1 style=\"text-align:right; font-size:100%\">\n",
    "הסרת חזיתות כפולות שנוצאו במיזוג"
   ]
  },
  {
   "cell_type": "code",
   "execution_count": null,
   "id": "ba625eb1-a31a-4e45-9fa2-5da004c6ee7c",
   "metadata": {
    "tags": []
   },
   "outputs": [],
   "source": [
    "BorderPoints = BorderPoints[BorderPoints['PARCEL_SDE'].notna()]\n",
    "BorderPoints['PARCEL_SDE'] = BorderPoints['PARCEL_SDE'].astype('Int64')\n",
    "arc[['FNODE_', 'TNODE_']] = arc[['FNODE_', 'TNODE_']].astype('Int64')\n",
    "\n",
    "\n",
    "arc = arc.merge(BorderPoints, left_on = 'FNODE_', right_on = 'PARCEL_SDE', how = 'left')\\\n",
    "         .rename(columns = {'GlobalID' : 'StartPointUniqueID'})\\\n",
    "         .drop(columns =['PARCEL_SDE', 'FNODE_'])\n",
    "\n",
    "arc = arc.merge(BorderPoints, left_on = 'TNODE_', right_on = 'PARCEL_SDE', how = 'left')\\\n",
    "         .rename(columns = {'GlobalID' : 'EndPointUniqueID'})\\\n",
    "         .drop(columns = ['PARCEL_SDE', 'TNODE_'])\n",
    "\n",
    "del BorderPoints\n",
    "\n",
    "arc = arc.drop_duplicates(subset = ['geometry'], keep = 'first')"
   ]
  },
  {
   "cell_type": "markdown",
   "id": "96eba48b-061e-439c-b75a-757a36e56c44",
   "metadata": {},
   "source": [
    "<h1 style=\"text-align:right; font-size:125%\">\n",
    ":מיזוג נתונים מול חלקות ונתוני תהליכי יוצרים"
   ]
  },
  {
   "cell_type": "markdown",
   "id": "0a132673-2462-4c4f-ae9a-c29bce37f7e7",
   "metadata": {
    "tags": []
   },
   "source": [
    "<h1 style=\"text-align:right; font-size:100%\">\n",
    "מיזוג ראשון לפי חלקה משמאל לחזית\n",
    "<h1 style=\"text-align:right; font-size:100%\">\n",
    "מיזוג שני לפי חלקה מימין לחזית\n",
    "<h1 style=\"text-align:right; font-size:100%\">\n",
    "כיוון שיש חזיתות שנמצאו להן יותר מתהליך אחד - השדה לתהליך היוצר יתאכלס על ידי התהליך עם התאריך המאוחר יותר. חזיתות ללא מזהה תהליך כלל יקבלו תהליך יוצר פיקטיבי"
   ]
  },
  {
   "cell_type": "code",
   "execution_count": null,
   "id": "bc990812-d4a4-4aa3-bae4-55ab99cc37fd",
   "metadata": {
    "tags": []
   },
   "outputs": [],
   "source": [
    "arc = arc.merge(Parcels, left_on = 'LPOLY_', right_on = 'PARCEL_SDE_', how = 'left')\\\n",
    "         .drop(columns = ['LPOLY_'])\\\n",
    "         .merge(Parcels, left_on = 'RPOLY_', right_on = 'PARCEL_SDE_', how = 'left', suffixes = ('_L', '_R'))\\\n",
    "         .drop(columns = ['RPOLY_', 'PARCEL_SDE__L', 'PARCEL_SDE__R'])\n",
    "\n",
    "\n",
    "arc['DataSource'] = arc[['DataSource_L', 'DataSource_R']].max(axis = 1)\n",
    "\n",
    "arc['CreatedByRecord'] = np.where(arc['DateStatus_L'] > arc['DateStatus_R'], arc['CreatedByRecord_L'], arc['CreatedByRecord_R'])\n",
    "arc['CreatedByRecord'] = arc['CreatedByRecord'].fillna(CNFG.FabricatedCreateProcessGUID)\n",
    "\n",
    "arc = arc.drop(columns = ['DataSource_L', 'DataSource_R', 'DateStatus_L', 'DateStatus_R', 'CreatedByRecord_L', 'CreatedByRecord_R'])\n",
    "\n",
    "\n",
    "del Parcels"
   ]
  },
  {
   "cell_type": "markdown",
   "id": "8b0d1ace-2175-4517-9d29-9af956336c57",
   "metadata": {
    "tags": []
   },
   "source": [
    "<h1 style=\"text-align:right; font-size:100%\">\n",
    "הגדרת שדה לאורך רשום\n",
    "<h1 style=\"text-align:right; font-size:100%\">\n",
    "SRV-ניקוי ערכי אורך רשום של חזיתות שנוצרו מ"
   ]
  },
  {
   "cell_type": "code",
   "execution_count": null,
   "id": "73a6fa8b-bfa9-49ec-8a6f-4f277c9b5a95",
   "metadata": {
    "tags": []
   },
   "outputs": [],
   "source": [
    "clear_distance_condition = (arc['DataSource'] == 4) & (arc['ProcessYear'] < 2015)\n",
    "arc['LENGTH'] = np.where(clear_distance_condition, None, arc['LENGTH'])\n",
    "\n",
    "arc = arc.drop(columns = ['DataSource', 'ProcessYear'])\\\n",
    "         .rename(columns = {'LENGTH' : 'Distance'})\n",
    "\n",
    "del clear_distance_condition"
   ]
  },
  {
   "cell_type": "markdown",
   "id": "7f57f180-17e7-4524-906a-3b1676d4a42d",
   "metadata": {
    "tags": []
   },
   "source": [
    "<h1 style=\"text-align:right; font-size:150%; color:#1c6ce6;\"> \n",
    "יצירת שכבה חדשה בהתאם לאפיון ✨"
   ]
  },
  {
   "cell_type": "code",
   "execution_count": null,
   "id": "7d2554d6-ae18-47fd-909d-d1b777960ce2",
   "metadata": {},
   "outputs": [],
   "source": [
    "print('   Defining new Layer')"
   ]
  },
  {
   "cell_type": "code",
   "execution_count": null,
   "id": "d96fa106-6764-4c71-b181-78b5fbdc0103",
   "metadata": {},
   "outputs": [],
   "source": [
    "new_columns = np.dtype([\n",
    "                        (\"StartPointUniqueID\", str), \n",
    "                        (\"EndPointUniqueID\", str),\n",
    "                        (\"Distance\", float),\n",
    "                        (\"LineType\", int),\n",
    "                        (\"Radius\", float),\n",
    "                        (\"CreatedByRecord\", int),\n",
    "                        (\"geometry\", gpd.array.GeometryDtype)\n",
    "                        ])\n",
    "\n",
    "Fronts = gpd.GeoDataFrame(np.empty(0, dtype = new_columns), geometry = 'geometry', crs = 2039)"
   ]
  },
  {
   "cell_type": "markdown",
   "id": "ac5f67e3-ff2d-40df-9942-05a966b5fa6a",
   "metadata": {},
   "source": [
    "<h1 style=\"text-align:right; font-size:100%\">\n",
    "איכלוס שדות"
   ]
  },
  {
   "cell_type": "code",
   "execution_count": null,
   "id": "14a32a91-1c20-41e0-b03a-561c71904395",
   "metadata": {},
   "outputs": [],
   "source": [
    "Fronts['StartPointUniqueID'] = arc['StartPointUniqueID']\n",
    "\n",
    "Fronts['EndPointUniqueID'] = arc['EndPointUniqueID']\n",
    "\n",
    "Fronts['Distance'] = arc['Distance'].astype(np.float64)\n",
    "\n",
    "Fronts['LineType'] = arc['LineType'].astype('Int32')\n",
    "\n",
    "Fronts['Radius'] = arc['RADIUS'].astype(np.float64)\n",
    "\n",
    "Fronts['CreatedByRecord'] = arc['CreatedByRecord']\n",
    "\n",
    "Fronts['geometry'] = arc['geometry']"
   ]
  },
  {
   "cell_type": "code",
   "execution_count": null,
   "id": "d02ec16f-959e-404a-8e21-a8cbbf045880",
   "metadata": {},
   "outputs": [],
   "source": [
    "del [new_columns, arc]"
   ]
  },
  {
   "cell_type": "markdown",
   "id": "df25972b-8f7f-4710-ad52-65adacfc5415",
   "metadata": {},
   "source": [
    "<h1 style=\"text-align:right; font-size:100%\">\n",
    "איחוד חזיתות רצף עם חזיתות שומא"
   ]
  },
  {
   "cell_type": "markdown",
   "id": "dc7abcef-1241-4c83-9320-4a5a7780fd7b",
   "metadata": {},
   "source": [
    "<h1 style=\"text-align:right; font-size:150%; color:#1c6ce6;\"> \n",
    "שמירת תוצאות 💾"
   ]
  },
  {
   "cell_type": "code",
   "execution_count": null,
   "id": "bf046279-f826-4a96-aa7d-ebba67597d91",
   "metadata": {},
   "outputs": [],
   "source": [
    "print('   Exporting results')"
   ]
  },
  {
   "cell_type": "code",
   "execution_count": null,
   "id": "5c2a9073-6aa9-4d43-80ed-0bab70436216",
   "metadata": {
    "tags": []
   },
   "outputs": [],
   "source": [
    "Fronts.to_file(CNFG.Results, layer = 'Parcels2DFronts', driver = 'OpenFileGDB', engine = 'pyogrio', mode = 'w')"
   ]
  },
  {
   "cell_type": "code",
   "execution_count": null,
   "id": "fa56b4b1-ad2e-455f-bd3d-d1dce718068b",
   "metadata": {},
   "outputs": [],
   "source": [
    "print('   Appending results to Parcels2DFronts ')"
   ]
  },
  {
   "cell_type": "code",
   "execution_count": null,
   "id": "70f29c32-dd82-4fd4-ac0a-b4708015063d",
   "metadata": {},
   "outputs": [],
   "source": [
    "subprocess.call([CNFG.BatchPath + 'Fronts-Save as Feature Class.bat']);"
   ]
  }
 ],
 "metadata": {
  "kernelspec": {
   "display_name": "Python 3 (ipykernel)",
   "language": "python",
   "name": "python3"
  },
  "language_info": {
   "codemirror_mode": {
    "name": "ipython",
    "version": 3
   },
   "file_extension": ".py",
   "mimetype": "text/x-python",
   "name": "python",
   "nbconvert_exporter": "python",
   "pygments_lexer": "ipython3",
   "version": "3.11.3"
  }
 },
 "nbformat": 4,
 "nbformat_minor": 5
}
