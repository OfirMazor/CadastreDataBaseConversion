{
 "cells": [
  {
   "cell_type": "markdown",
   "id": "5e9bcae4-3de7-4b03-81aa-891d0048d8b7",
   "metadata": {},
   "source": [
    "<h1 style=\"background-color:#1c6ce6;\n",
    "           font-family:segoe ui;\n",
    "                color:#FFF9ED;\n",
    "           font-size:300%;\n",
    "           text-align:center;\n",
    "           border-radius:10px 10px;\"> \n",
    "📏 תהליך הסבת שכבת חזיתות לבנק\"ל מודרני 📏 "
   ]
  },
  {
   "cell_type": "markdown",
   "id": "9b3d66fb-f8b6-4ec6-b0f7-f2d4619bf08a",
   "metadata": {},
   "source": [
    "<h1 style=\"text-align:right; font-size:150%; color:#1c6ce6;\">\n",
    "ספריות 📚"
   ]
  },
  {
   "cell_type": "code",
   "execution_count": null,
   "id": "8c86d8bb-2ab8-4b66-ab04-8a6d0d13009f",
   "metadata": {},
   "outputs": [],
   "source": [
    "print('14. Fronts:')"
   ]
  },
  {
   "cell_type": "code",
   "execution_count": null,
   "id": "9dac561c-685c-4942-8962-97b87e87f5e5",
   "metadata": {},
   "outputs": [],
   "source": [
    "import warnings\n",
    "warnings.filterwarnings('ignore')\n",
    "\n",
    "from configs import CNFG\n",
    "import subprocess\n",
    "import numpy as np\n",
    "import pandas as pd\n",
    "import geopandas as gpd\n",
    "import dask_geopandas as daskgpd"
   ]
  },
  {
   "cell_type": "markdown",
   "id": "146704b1-71d3-4542-ac32-7b66192fe3af",
   "metadata": {},
   "source": [
    "<h1 style=\"text-align:right; font-size:150%; color:#1c6ce6;\">קריאת נתונים 📑 "
   ]
  },
  {
   "cell_type": "code",
   "execution_count": null,
   "id": "bafa1bb9-ae53-4902-9fad-7f0921abf336",
   "metadata": {},
   "outputs": [],
   "source": [
    "print('  14.a Reading inputs')"
   ]
  },
  {
   "cell_type": "markdown",
   "id": "cb6f12ae-72b6-42ac-8e09-7f10a242d336",
   "metadata": {},
   "source": [
    "<h1 style=\"text-align:right;font-size:125%\">\n",
    "שכבת חזיתות"
   ]
  },
  {
   "cell_type": "code",
   "execution_count": null,
   "id": "b34cea26-ae36-42d7-bb16-918e3a9a27ff",
   "metadata": {},
   "outputs": [],
   "source": [
    "arc_cols = ['LPOLY_', 'RPOLY_', 'RADIUS', 'FNODE_', 'TNODE_', 'LENGTH', 'geometry']\n",
    "\n",
    "arc = daskgpd.read_file(CNFG.Arcstorm + 'PARCEL_ARC.gdb', layer = 'PARCEL_ARC', columns = arc_cols, npartitions = 50).compute()\n",
    "\n",
    "del arc_cols\n",
    "\n",
    "print('         input 1/2 read')"
   ]
  },
  {
   "cell_type": "markdown",
   "id": "af82aeda-960f-4079-8194-4d9c1295920b",
   "metadata": {},
   "source": [
    "<h1 style=\"text-align:right;font-size:125%\">\n",
    "נתוני חלקות (לאחר חישוב שדה מספר מזהה ואיחוד מרחבי)"
   ]
  },
  {
   "cell_type": "code",
   "execution_count": null,
   "id": "458ee4b4-7220-4495-ad89-e41a1218e9f0",
   "metadata": {},
   "outputs": [],
   "source": [
    "parcels_cols = ['PARCEL_SDE_', 'Identifier']\n",
    "\n",
    "parcels = daskgpd.read_file(CNFG.Arcstorm + 'PARCEL_POLYGON_SJOIN.gdb', layer = 'PARCEL_POLYGON_SJOIN', columns = parcels_cols, npartitions = 20).compute()\n",
    "\n",
    "parcels = parcels.astype(int)\n",
    "\n",
    "del parcels_cols\n",
    "\n",
    "print('         input 2/2 read')"
   ]
  },
  {
   "cell_type": "markdown",
   "id": "b0436eb4-108d-434a-9133-a96694dc7ece",
   "metadata": {},
   "source": [
    "<h1 style=\"text-align:right; font-size:150%; color:#1c6ce6;\">\n",
    "עיבוד נתונים 🛠️\n",
    "<h1 style=\"text-align:right; font-size:125%\">\n",
    "<h1 style=\"text-align:right; font-size:125%\">\n",
    ":עיבוד נתוני חזיתות\n",
    "<h1 style=\"text-align:right; font-size:100%\">\n",
    "הסרת חזיתות שגויות בעלות אורך מחושב אפסי    \n",
    "<h1 style=\"text-align:right; font-size:100%\">    \n",
    "תיקון ערכים שגויים בשדה רדיוס\n",
    "<h1 style=\"text-align:right; font-size:100%\">\n",
    "מילוי ערכים חסרים ברדיוס עם 0\n",
    "<h1 style=\"text-align:right; font-size:100%\">\n",
    "הגדרת שדה כמספר צף עם שני נקודות עשרוניות\n",
    "<h1 style=\"text-align:right; font-size:100%\"> \n",
    "תיקון סוגי שדות\n",
    "<h1 style=\"text-align:right; font-size:100%\">\n",
    "הגדרת שדה של סוג הקו\n",
    "<h1 style=\"text-align:right; font-size:100%\">\n",
    "הגדרת שדה לאורך רשום"
   ]
  },
  {
   "cell_type": "code",
   "execution_count": null,
   "id": "b03cf7ed-166f-4400-b17c-bcf0a16a953a",
   "metadata": {},
   "outputs": [],
   "source": [
    "print('  14.b Cleaning data')"
   ]
  },
  {
   "cell_type": "code",
   "execution_count": null,
   "id": "73e14391-d112-4e63-82ce-37640a25e62c",
   "metadata": {},
   "outputs": [],
   "source": [
    "arc = arc[arc['LENGTH'] != 0.000000]"
   ]
  },
  {
   "cell_type": "code",
   "execution_count": null,
   "id": "97a8b66b-1186-4d5b-9478-f9879dca927b",
   "metadata": {},
   "outputs": [],
   "source": [
    "arc['RADIUS'].replace(['', ' ',' 0.000 0', ' 0.000 1', ' 0.000 2', ' 0.000 3'], 0.00, inplace = True)\n",
    "arc['RADIUS'].fillna(0.0, inplace = True)"
   ]
  },
  {
   "cell_type": "code",
   "execution_count": null,
   "id": "6222f1ce-0cad-4adf-82ba-dcbdc4b303a8",
   "metadata": {},
   "outputs": [],
   "source": [
    "arc = arc.astype({'LPOLY_' : int,\n",
    "                  'RPOLY_' : int,\n",
    "                  'RADIUS' : float,\n",
    "                  'FNODE_' : int,\n",
    "                  'TNODE_' : int,\n",
    "                  'LENGTH' : float})"
   ]
  },
  {
   "cell_type": "code",
   "execution_count": null,
   "id": "51b1b154-e122-4e39-b274-be27ad93b9dd",
   "metadata": {},
   "outputs": [],
   "source": [
    "straight = 1\n",
    "curved   = 2\n",
    "\n",
    "arc['LineType'] = np.where(arc['RADIUS'] == 0, straight, curved)"
   ]
  },
  {
   "cell_type": "code",
   "execution_count": null,
   "id": "73a6fa8b-bfa9-49ec-8a6f-4f277c9b5a95",
   "metadata": {},
   "outputs": [],
   "source": [
    "arc.rename(columns = {'LENGTH':'Distance'}, inplace = True)"
   ]
  },
  {
   "cell_type": "code",
   "execution_count": null,
   "id": "7093bdcb-ddb6-405d-9e7f-f48530efcae7",
   "metadata": {},
   "outputs": [],
   "source": [
    "print('  14.c Data conversion')"
   ]
  },
  {
   "cell_type": "markdown",
   "id": "a7de174b-b967-4024-b4bd-5345516d8c64",
   "metadata": {},
   "source": [
    "<h1 style=\"text-align:right; font-size:125%\">\n",
    ":מיזוג נתונים\n",
    "<h1 style=\"text-align:right; font-size:100%\">    \n",
    "מיזוג פעם ראשונה לקבלת שדה המתאר חלקה שמאלית"
   ]
  },
  {
   "cell_type": "code",
   "execution_count": null,
   "id": "a119b05a-0934-4bdb-b315-5e5754e7486d",
   "metadata": {},
   "outputs": [],
   "source": [
    "merge = pd.merge(arc, parcels, how = 'left', left_on = 'LPOLY_', right_on = 'PARCEL_SDE_')\n",
    "\n",
    "merge.rename(columns={'Identifier' : 'LeftParcelUniqueID'}, inplace=True)\n",
    "\n",
    "merge.drop(columns = 'LPOLY_', inplace=True)\n",
    "\n",
    "merge['LeftParcelUniqueID'] = merge['LeftParcelUniqueID'].fillna(0)\n",
    "merge['LeftParcelUniqueID'] = merge['LeftParcelUniqueID'].astype(np.int32)\n",
    "\n",
    "merge['PARCEL_SDE_'] = merge['PARCEL_SDE_'].fillna(0)\n",
    "merge['PARCEL_SDE_'] = merge['PARCEL_SDE_'].astype(np.int32)\n",
    "\n",
    "\n",
    "del arc"
   ]
  },
  {
   "cell_type": "code",
   "execution_count": null,
   "id": "a00f93a1-4d2d-4994-9a8a-d02ce7367961",
   "metadata": {},
   "outputs": [],
   "source": [
    "merge.reset_index(inplace=True, drop=True)\n",
    "merge.index = merge.index.astype('Int32')"
   ]
  },
  {
   "cell_type": "markdown",
   "id": "536f9519-771f-40de-b3fb-69c531c8a172",
   "metadata": {},
   "source": [
    "<h1 style=\"text-align:right; font-size:100%\">    \n",
    "מיזוג פעם שניה לקבלת שדה המתאר חלקה ימנית"
   ]
  },
  {
   "cell_type": "code",
   "execution_count": null,
   "id": "4a75c4d5-1bd2-4ca9-b033-65b26cc40dc9",
   "metadata": {},
   "outputs": [],
   "source": [
    "merge = pd.merge(merge, parcels, how = 'left', left_on = 'RPOLY_', right_on = 'PARCEL_SDE_')\n",
    "\n",
    "merge.rename(columns = {'Identifier' : 'RightParcelUniqueID', 'FNODE_':'StartPointUniqueID', 'TNODE_':'EndPointUniqueID'}, inplace = True)\n",
    "\n",
    "merge.drop(columns = ['RPOLY_','PARCEL_SDE__x' ,'PARCEL_SDE__y'], inplace = True)\n",
    "\n",
    "merge['RightParcelUniqueID'] = merge['RightParcelUniqueID'].fillna(0)\n",
    "merge['RightParcelUniqueID'] = merge['RightParcelUniqueID'].astype(np.int32)\n",
    "\n",
    "del parcels"
   ]
  },
  {
   "cell_type": "markdown",
   "id": "7e58dc7e-2c42-4405-a384-09c8568eb994",
   "metadata": {},
   "source": [
    "<h1 style=\"text-align:right; font-size:100%\">    \n",
    "הגדרת שדה למספר זיהוי החזית"
   ]
  },
  {
   "cell_type": "code",
   "execution_count": null,
   "id": "4bffd0b8-27de-4d8f-b1c7-6eda468ebb9f",
   "metadata": {},
   "outputs": [],
   "source": [
    "merge['FrontUniqueID'] = range(1, len(merge) + 1)\n",
    "merge['FrontUniqueID'] = merge['FrontUniqueID'].astype(np.int32)\n",
    "merge.sort_values(['FrontUniqueID','LeftParcelUniqueID','RightParcelUniqueID'], inplace=True)"
   ]
  },
  {
   "cell_type": "markdown",
   "id": "7f57f180-17e7-4524-906a-3b1676d4a42d",
   "metadata": {
    "tags": []
   },
   "source": [
    "<h1 style=\"text-align:right; font-size:150%; color:#1c6ce6;\"> \n",
    "יצירת שכבה חדשה בהתאם לאפיון ✨"
   ]
  },
  {
   "cell_type": "code",
   "execution_count": null,
   "id": "7d2554d6-ae18-47fd-909d-d1b777960ce2",
   "metadata": {},
   "outputs": [],
   "source": [
    "print('  14.d Defining new Layer')"
   ]
  },
  {
   "cell_type": "code",
   "execution_count": null,
   "id": "d96fa106-6764-4c71-b181-78b5fbdc0103",
   "metadata": {},
   "outputs": [],
   "source": [
    "new_columns = np.dtype([\n",
    "                        (\"FrontUniqueID\", int),\n",
    "                        (\"LeftParcelUniqueID\", int),\n",
    "                        (\"RightParcelUniqueID\", int),\n",
    "                        (\"StartPointUniqueID\", int), \n",
    "                        (\"EndPointUniqueID\", int),\n",
    "                        (\"Distance\", float),\n",
    "                        (\"LineType\", int),\n",
    "                        (\"Radius\", float),\n",
    "                        (\"CPBUniqueID\", int),# ישאר עם ערכים ריקים משום שאיןדרך לשייך חזית לתהליך קדסטרי\n",
    "                        (\"geometry\",  gpd.array.GeometryDtype)\n",
    "                        ])\n",
    "\n",
    "Fronts = gpd.GeoDataFrame(np.empty(0, dtype = new_columns),\n",
    "                          geometry = 'geometry',\n",
    "                          crs = 2039)"
   ]
  },
  {
   "cell_type": "markdown",
   "id": "ac5f67e3-ff2d-40df-9942-05a966b5fa6a",
   "metadata": {},
   "source": [
    "<h1 style=\"text-align:right; font-size:100%\">\n",
    "איכלוס שדות"
   ]
  },
  {
   "cell_type": "code",
   "execution_count": null,
   "id": "14a32a91-1c20-41e0-b03a-561c71904395",
   "metadata": {},
   "outputs": [],
   "source": [
    "Fronts['FrontUniqueID'] = merge['FrontUniqueID'].astype(np.int32)\n",
    "\n",
    "merge['LeftParcelUniqueID'].fillna(0, inplace=True)\n",
    "Fronts['RightParcelUniqueID'] = merge['LeftParcelUniqueID'] + 5000000\n",
    "Fronts['LeftParcelUniqueID'] = merge['LeftParcelUniqueID'].astype(np.int32)\n",
    "\n",
    "merge['RightParcelUniqueID'].fillna(0, inplace=True)\n",
    "Fronts['RightParcelUniqueID'] = merge['RightParcelUniqueID'] + 5000000\n",
    "Fronts['RightParcelUniqueID'] = Fronts['RightParcelUniqueID'].astype(np.int32)\n",
    "\n",
    "Fronts['StartPointUniqueID'] = merge['StartPointUniqueID'].astype(np.int32)\n",
    "\n",
    "Fronts['EndPointUniqueID'] = merge['EndPointUniqueID'].astype(np.int32)\n",
    "\n",
    "merge['Distance'].fillna(0.0, inplace=True)\n",
    "Fronts['Distance'] = merge['Distance'].astype(np.float32)\n",
    "\n",
    "Fronts['LineType'] = merge['LineType'].astype(np.int32)\n",
    "\n",
    "Fronts['Radius'] = merge['RADIUS'].astype(np.float32)\n",
    "\n",
    "Fronts['CPBUniqueID'] = CNFG.unknown_create_process_id\n",
    "\n",
    "Fronts['CreatedByRecord'] = CNFG.FabricatedCreateProcessGUID\n",
    "\n",
    "Fronts['RetiredByRecord'] = CNFG.FabricatedCancelProcessGUID\n",
    "\n",
    "Fronts['geometry'] = merge['geometry']"
   ]
  },
  {
   "cell_type": "code",
   "execution_count": null,
   "id": "d02ec16f-959e-404a-8e21-a8cbbf045880",
   "metadata": {},
   "outputs": [],
   "source": [
    "del [merge, new_columns]"
   ]
  },
  {
   "cell_type": "markdown",
   "id": "9ccad248-4795-4574-a8c9-07d70dea20d2",
   "metadata": {},
   "source": [
    "<h1 style=\"text-align:right; font-size:100%\">    \n",
    "תיקון רשת קואורדינטות לרשת ישראל התקפה"
   ]
  },
  {
   "cell_type": "code",
   "execution_count": null,
   "id": "5ca5bc2a-3675-4564-b013-8be514c44a8e",
   "metadata": {},
   "outputs": [],
   "source": [
    "Fronts.to_crs(2039, inplace = True)"
   ]
  },
  {
   "cell_type": "markdown",
   "id": "dc7abcef-1241-4c83-9320-4a5a7780fd7b",
   "metadata": {},
   "source": [
    "<h1 style=\"text-align:right; font-size:150%; color:#1c6ce6;\"> \n",
    "שמירת תוצאות 💾\n",
    "<h1 style=\"text-align:right; font-size:100%;\"> \n",
    "<h1 style=\"text-align:right; font-size:100%;\"> \n",
    "בחירת נתיב\n",
    "<h1 style=\"text-align:right; font-size:100%;\"> \n",
    "שמירה כטבלה\n",
    "<h1 style=\"text-align:right; font-size:100%;\"> \n",
    "שמירה כשכבה גיאוגרפית"
   ]
  },
  {
   "cell_type": "code",
   "execution_count": null,
   "id": "bf046279-f826-4a96-aa7d-ebba67597d91",
   "metadata": {},
   "outputs": [],
   "source": [
    "print('  14.e Exporting results to product folder')"
   ]
  },
  {
   "cell_type": "code",
   "execution_count": null,
   "id": "50e5c088-f823-418d-ba82-a11a608efbcb",
   "metadata": {},
   "outputs": [],
   "source": [
    "json_dir = CNFG.JsonPath + 'Fronts.geojson'\n",
    "Fronts.to_file(json_dir, driver = 'GeoJSON')\n",
    "\n",
    "del [Fronts, json_dir]"
   ]
  },
  {
   "cell_type": "code",
   "execution_count": null,
   "id": "70f29c32-dd82-4fd4-ac0a-b4708015063d",
   "metadata": {},
   "outputs": [],
   "source": [
    "subprocess.call([CNFG.BatchPath + 'Fronts-Save as Feature Class.bat']);"
   ]
  }
 ],
 "metadata": {
  "kernelspec": {
   "display_name": "Python 3 (ipykernel)",
   "language": "python",
   "name": "python3"
  },
  "language_info": {
   "codemirror_mode": {
    "name": "ipython",
    "version": 3
   },
   "file_extension": ".py",
   "mimetype": "text/x-python",
   "name": "python",
   "nbconvert_exporter": "python",
   "pygments_lexer": "ipython3",
   "version": "3.11.3"
  }
 },
 "nbformat": 4,
 "nbformat_minor": 5
}
