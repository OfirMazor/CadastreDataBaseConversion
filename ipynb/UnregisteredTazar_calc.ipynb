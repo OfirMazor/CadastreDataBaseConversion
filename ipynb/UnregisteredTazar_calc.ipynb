{
 "cells": [
  {
   "cell_type": "markdown",
   "id": "c6439b15-3449-4c0e-a683-b447687478d0",
   "metadata": {},
   "source": [
    "<h1 style=\"background-color:#239B56;\n",
    "           font-family:segoe ui;\n",
    "                color:#FFF9ED;\n",
    "           font-size:300%;\n",
    "           text-align:center;\n",
    "           border-radius:10px 10px;\"> \n",
    "✍ תהליך הסבת שכבת גבולות תכניות לצרכי רישום בשטח לא מוסדר לבנק\"ל מודרני ✍ "
   ]
  },
  {
   "cell_type": "code",
   "execution_count": null,
   "id": "91f731da-e547-4b73-b9cd-b255931c9ff2",
   "metadata": {},
   "outputs": [],
   "source": [
    "print('4. Unregistered Tazar borders:')"
   ]
  },
  {
   "cell_type": "markdown",
   "id": "e0ad268a-bf97-476c-8d33-0f48d7a3c49a",
   "metadata": {},
   "source": [
    "<h1 style=\"text-align:right; font-size:150%; color:#1c6ce6;\">\n",
    "ספריות 📚"
   ]
  },
  {
   "cell_type": "code",
   "execution_count": null,
   "id": "77ca15fc-5cfb-4362-a142-d6c26fbd1ee2",
   "metadata": {},
   "outputs": [],
   "source": [
    "import warnings\n",
    "warnings.filterwarnings('ignore')\n",
    "\n",
    "from configs import CNFG\n",
    "import numpy as np\n",
    "import pandas as pd\n",
    "import geopandas as gpd\n",
    "import subprocess"
   ]
  },
  {
   "cell_type": "markdown",
   "id": "33802549-c14f-478d-bb32-c24206f2c7db",
   "metadata": {},
   "source": [
    "<h1 style=\"text-align:right; font-size:150%; color:#1c6ce6;\">קריאת נתונים 📑 "
   ]
  },
  {
   "cell_type": "code",
   "execution_count": null,
   "id": "45ce1c59-fded-423b-9fc0-c11d14b78a87",
   "metadata": {},
   "outputs": [],
   "source": [
    "print('  4.a Reading inputs')"
   ]
  },
  {
   "cell_type": "markdown",
   "id": "fb61731c-df36-4b15-81ee-a55de2080518",
   "metadata": {},
   "source": [
    "<h1 style=\"text-align:right;font-size:100%\">\n",
    "שכבת גבולות תצ\"ר בשטח לא מוסדר"
   ]
  },
  {
   "cell_type": "code",
   "execution_count": null,
   "id": "4b1de117-99d1-443d-9395-93253f67c3e6",
   "metadata": {},
   "outputs": [],
   "source": [
    "unreg_tazar_cols = ['TALAR_NUM', 'TALAR_YEAR', 'SURVEYOR_ID', 'GUSH_NUM', 'GUSH_SUFFIX', 'SURVEY_DATE', 'geometry']\n",
    "\n",
    "unreg_tazar_layer = gpd.read_file(CNFG.CADSDE + 'TAZAR_BORDER_LOMUSDAR.gdb', layer = 'TAZAR_BORDER_LOMUSDAR', include_fields = unreg_tazar_cols)"
   ]
  },
  {
   "cell_type": "markdown",
   "id": "f730afb7-7cb5-4a0a-a8b6-fc3b39b1917d",
   "metadata": {},
   "source": [
    "<h1 style=\"text-align:right;font-size:100%\">\n",
    "שכבה מקומית של גבולות תצ\"ר ללא מקור, בשטח לא מוסדר"
   ]
  },
  {
   "cell_type": "code",
   "execution_count": null,
   "id": "bd49660e-b6a3-46df-87e6-368eade4e49d",
   "metadata": {},
   "outputs": [],
   "source": [
    "UnkownUnregiteredazarBorders = gpd.read_file(CNFG.Local + 'UnkownUnregiteredazarBorders.gpkg', layer = 'UnkownUnregiteredazarBorders')"
   ]
  },
  {
   "cell_type": "markdown",
   "id": "e5d3c3b0-7166-4bad-82e7-619e00dcef7a",
   "metadata": {},
   "source": [
    "<h1 style=\"text-align:right;font-size:100%\">\n",
    "שכבת גבולות גושי קדסטר מודרניים"
   ]
  },
  {
   "cell_type": "code",
   "execution_count": null,
   "id": "3bcb4f65-7e4c-4dc5-ba1e-f1a7014640cc",
   "metadata": {},
   "outputs": [],
   "source": [
    "Blocks = pd.read_csv(CNFG.CSVPath + 'BlockUniqueIDs.csv', usecols = ['Name', 'BlockUniqueID'])"
   ]
  },
  {
   "cell_type": "markdown",
   "id": "307dbee5-6e8d-4ac6-8e05-91fbf5b27870",
   "metadata": {},
   "source": [
    "<h1 style=\"text-align:right; font-size:150%; color:#1c6ce6;\">\n",
    "עיבוד נתונים 🛠️"
   ]
  },
  {
   "cell_type": "code",
   "execution_count": null,
   "id": "230f6d87-9fd2-4330-965b-73145c0380bf",
   "metadata": {},
   "outputs": [],
   "source": [
    "print('  4.b Cleaning data')"
   ]
  },
  {
   "cell_type": "code",
   "execution_count": null,
   "id": "8d5390b9-7dd2-4ef5-81fe-9835513831c1",
   "metadata": {},
   "outputs": [],
   "source": [
    "print('  4.c Data conversion')"
   ]
  },
  {
   "cell_type": "code",
   "execution_count": null,
   "id": "edbd93a6-fb1c-45e4-bc75-310dea143ed1",
   "metadata": {
    "tags": []
   },
   "outputs": [],
   "source": [
    "unreg_tazar_layer = pd.concat([unreg_tazar_layer, UnkownUnregiteredazarBorders])\n",
    "unreg_tazar_layer.reset_index(inplace=True)"
   ]
  },
  {
   "cell_type": "markdown",
   "id": "ddc394b8-b337-44b5-a0cd-280bb0da5e8f",
   "metadata": {},
   "source": [
    "<h1 style=\"text-align:right; font-size:100%\">\n",
    "הוספת שדה מקשר של מספר אליפסה מלא לצורך מיזוג"
   ]
  },
  {
   "cell_type": "code",
   "execution_count": null,
   "id": "546b0d78-5df4-4249-8058-454a58e63589",
   "metadata": {},
   "outputs": [],
   "source": [
    "unreg_tazar_layer.dropna(subset=['TALAR_NUM', 'TALAR_YEAR'], inplace=True)\n",
    "\n",
    "\n",
    "unreg_tazar_layer[['TALAR_NUM', 'TALAR_YEAR']] = unreg_tazar_layer[['TALAR_NUM', 'TALAR_YEAR']].astype('Int32')\n",
    "\n",
    "\n",
    "bad_years_cond = unreg_tazar_layer['TALAR_YEAR'] < 1000\n",
    "unreg_tazar_layer.loc[bad_years_cond, \"TALAR_YEAR\"] = unreg_tazar_layer['TALAR_YEAR'] + 2000\n",
    "del bad_years_cond\n",
    "\n",
    "\n",
    "unreg_tazar_layer['ProcessName'] = unreg_tazar_layer['TALAR_NUM'].astype('str') + '/' + unreg_tazar_layer['TALAR_YEAR'].astype('str')\n",
    "\n",
    "\n",
    "unreg_tazar_layer.drop(columns=['TALAR_NUM', 'index'], inplace=True)"
   ]
  },
  {
   "cell_type": "markdown",
   "id": "62bb02ac-0e12-4f3f-aa6f-8922252e0f6a",
   "metadata": {},
   "source": [
    "<h1 style=\"text-align:right; font-size:100%\">\n",
    "הוספת שדה מקשר של מספר גוש מלא לצורך מיזוג"
   ]
  },
  {
   "cell_type": "code",
   "execution_count": null,
   "id": "bb5ba122-9af1-4fb8-a88a-5b3b408e0364",
   "metadata": {},
   "outputs": [],
   "source": [
    "unreg_tazar_layer['GUSH_SUFFIX'] = unreg_tazar_layer['GUSH_SUFFIX'].fillna(0)\n",
    "unreg_tazar_layer[['GUSH_SUFFIX', 'GUSH_NUM']] = unreg_tazar_layer[['GUSH_SUFFIX', 'GUSH_NUM']].astype('Int32')\n",
    "unreg_tazar_layer['BlockName'] = unreg_tazar_layer['GUSH_NUM'].astype(str) + '/' + unreg_tazar_layer['GUSH_SUFFIX'].astype(str)\n",
    "unreg_tazar_layer.drop(columns=['GUSH_SUFFIX', 'GUSH_NUM'], inplace=True)"
   ]
  },
  {
   "cell_type": "markdown",
   "id": "bd79683e-d44d-4488-abdf-2f66ce3fe757",
   "metadata": {},
   "source": [
    "<h1 style=\"text-align:right; font-size:100%\">\n",
    "השלמת ערכים חסרים בזיהוי מודד"
   ]
  },
  {
   "cell_type": "code",
   "execution_count": null,
   "id": "4cfb9c89-9cff-4f4a-9a6b-02e029a203ff",
   "metadata": {},
   "outputs": [],
   "source": [
    "unreg_tazar_layer['SURVEYOR_ID'] = unreg_tazar_layer['SURVEYOR_ID'].fillna(0)\n",
    "unreg_tazar_layer['SURVEYOR_ID'] = unreg_tazar_layer['SURVEYOR_ID'].astype('Int32')"
   ]
  },
  {
   "cell_type": "markdown",
   "id": "1e2574d9-5634-427a-9e5b-9bd45b230ef8",
   "metadata": {},
   "source": [
    "<h1 style=\"text-align:right; font-size:100%\">\n",
    "השלמת ערכים חסרים בתאריך המדידה והפקת שנת המדידה"
   ]
  },
  {
   "cell_type": "code",
   "execution_count": null,
   "id": "822e6779-1cc4-4551-8b52-3f65d1c9de9d",
   "metadata": {},
   "outputs": [],
   "source": [
    "unreg_tazar_layer['SURVEY_DATE'] = pd.to_datetime(unreg_tazar_layer['SURVEY_DATE'])\n",
    "unreg_tazar_layer['SurveyYear'] = unreg_tazar_layer['SURVEY_DATE'].dt.year\n",
    "unreg_tazar_layer['SurveyYear'] = unreg_tazar_layer['SurveyYear'].fillna(unreg_tazar_layer['TALAR_YEAR'])\n",
    "unreg_tazar_layer['SurveyYear'] = unreg_tazar_layer['SurveyYear'] .astype('Int32')\n",
    "\n",
    "\n",
    "unreg_tazar_layer.drop(columns=['SURVEY_DATE', 'TALAR_YEAR'], inplace=True)"
   ]
  },
  {
   "cell_type": "markdown",
   "id": "146759b0-f279-4038-af6f-e8f70ddf5038",
   "metadata": {},
   "source": [
    "<h1 style=\"text-align:right; font-size:100%\">\n",
    "הסרת רשומות כפולות לפי מספר אליפסה וגיאומטריה זהים"
   ]
  },
  {
   "cell_type": "code",
   "execution_count": null,
   "id": "8cf9a25f-e5e8-4544-bb82-eef2ed315628",
   "metadata": {},
   "outputs": [],
   "source": [
    "unreg_tazar_layer = unreg_tazar_layer[~unreg_tazar_layer.duplicated(subset=['ProcessName', 'geometry'], keep = 'first')].sort_values('ProcessName')\n",
    "unreg_tazar_layer = unreg_tazar_layer.drop_duplicates(subset=['ProcessName', 'SURVEYOR_ID'], keep='first')"
   ]
  },
  {
   "cell_type": "markdown",
   "id": "0d3af6b7-2808-40da-9aa7-562f6ea902a8",
   "metadata": {},
   "source": [
    "<h1 style=\"text-align:right; font-size:100%\">\n",
    "איחוד עם טבלת מזהי גושים לקבלת מספר מזהה של הגוש"
   ]
  },
  {
   "cell_type": "code",
   "execution_count": null,
   "id": "54200ca5-3e2d-4bed-a170-17594d6c3c49",
   "metadata": {
    "tags": []
   },
   "outputs": [],
   "source": [
    "unreg_tazar_layer = unreg_tazar_layer.merge(Blocks, left_on = 'BlockName', right_on = 'Name', how = 'left')\n",
    "unreg_tazar_layer.drop(columns = 'Name', inplace = True)\n",
    "\n",
    "del Blocks"
   ]
  },
  {
   "cell_type": "markdown",
   "id": "1f0dd629-d326-49be-a69e-728d2785fe2b",
   "metadata": {},
   "source": [
    "<h1 style=\"text-align:right; font-size:100%\">\n",
    "יצירה והגדרת שדה של מקור הנתונים"
   ]
  },
  {
   "cell_type": "code",
   "execution_count": null,
   "id": "fa0f171b-f8f4-4017-9b9b-d6680e5d4ed4",
   "metadata": {},
   "outputs": [],
   "source": [
    "CAD_cond = unreg_tazar_layer['SurveyYear'] <= 2015\n",
    "unreg_tazar_layer['DataSource'] = np.where(CAD_cond, 5, 4)  # CAD source:5, SRV source:4"
   ]
  },
  {
   "cell_type": "markdown",
   "id": "eedadb91-fa3f-441c-adcf-b28fbd50602c",
   "metadata": {},
   "source": [
    "<h1 style=\"text-align:right; font-size:150%; color:#1c6ce6;\"> \n",
    "יצירת שכבה חדשה בהתאם לאפיון ✨"
   ]
  },
  {
   "cell_type": "code",
   "execution_count": null,
   "id": "7e9c38a8-da67-49aa-92f3-904e2af1fd54",
   "metadata": {},
   "outputs": [],
   "source": [
    "print('  4.d Defining new Layer')"
   ]
  },
  {
   "cell_type": "code",
   "execution_count": null,
   "id": "48875fb4-dd3d-4595-9032-fc4daff6c6d7",
   "metadata": {},
   "outputs": [],
   "source": [
    "new_columns = np.dtype([\n",
    "                        (\"CPBUniqueID\", int),\n",
    "                        (\"BlockUniqueID\", int),\n",
    "                        (\"ProcessType\", int),\n",
    "                        (\"MapYear\", int),\n",
    "                        (\"ProcessName\", str),\n",
    "                        (\"GeodeticNetwork\", int),\n",
    "                        #(\"Status\", int),\n",
    "                        #(\"PlanName\", str),\n",
    "                        (\"SurveyorLicenseID\", int),\n",
    "                        (\"DataSource\", int),\n",
    "                        (\"geometry\", gpd.array.GeometryDtype)\n",
    "                        ])\n",
    "\n",
    "unreg_tazar_layer_new = gpd.GeoDataFrame(np.empty(0, dtype=new_columns),\n",
    "                                         geometry = 'geometry',\n",
    "                                         crs = 2039)\n",
    "\n",
    "del new_columns"
   ]
  },
  {
   "cell_type": "markdown",
   "id": "a7631d9a-241d-47cf-9cb1-1183bd17fcfc",
   "metadata": {},
   "source": [
    "<h1 style=\"text-align:right; font-size:100%\">\n",
    "איכלוס שדות"
   ]
  },
  {
   "cell_type": "code",
   "execution_count": null,
   "id": "9460196a-cad8-4044-89b4-426cd5ee40a2",
   "metadata": {},
   "outputs": [],
   "source": [
    "unreg_tazar_layer_new['geometry'] = unreg_tazar_layer['geometry']\n",
    "\n",
    "\n",
    "unreg_tazar_layer_new['CPBUniqueID'] = range(1, len(unreg_tazar_layer)+1)\n",
    "unreg_tazar_layer_new['CPBUniqueID'] = unreg_tazar_layer_new['CPBUniqueID'] + 11000000\n",
    "unreg_tazar_layer_new['CPBUniqueID'] = unreg_tazar_layer_new['CPBUniqueID'].astype('Int64')\n",
    "\n",
    "unreg_tazar_layer_new['MapYear'] = unreg_tazar_layer['SurveyYear'].astype('Int64')\n",
    "\n",
    "\n",
    "unreg_tazar_layer_new['ProcessName'] = unreg_tazar_layer['ProcessName'].astype('str')\n",
    "\n",
    "\n",
    "unreg_tazar_layer_new['ProcessType'] = 11  #תצ\"ר בשטח לא מוסדר\n",
    "\n",
    "\n",
    "\n",
    "unreg_tazar_layer_new['DataSource'] = unreg_tazar_layer['DataSource'].astype('Int64')\n",
    "\n",
    "\n",
    "#unreg_tazar_layer_new['Status'] = 0  unknown, will be Null in product gdb\n",
    "\n",
    "\n",
    "geodeticNetDict = {range(0, 1998)    : 1,      # רשת ישראל הישנה\n",
    "                   range(1999, 2007) : 2,      # רשת ישראל החדשה\n",
    "                   range(2008, 99999): 3}      # רשת ישראל התקפה\n",
    "unreg_tazar_layer_new['GeodeticNetwork'] = unreg_tazar_layer['SurveyYear'].apply(lambda x: next((v for k, v in geodeticNetDict.items() if x in k), 0))\n",
    "unreg_tazar_layer_new['GeodeticNetwork'] = unreg_tazar_layer_new['GeodeticNetwork'].astype('Int64')\n",
    "\n",
    "\n",
    "unreg_tazar_layer_new['SurveyorLicenseID'] = unreg_tazar_layer['SURVEYOR_ID'].fillna(0)\n",
    "unreg_tazar_layer_new['SurveyorLicenseID'] = unreg_tazar_layer_new['SurveyorLicenseID'].astype('Int64')\n",
    "\n",
    "#unreg_tazar_layer_new['PlanName'] = None\n",
    "\n",
    "unreg_tazar_layer_new['BlockUniqueID'] = unreg_tazar_layer['BlockUniqueID'].fillna(0)\n",
    "unreg_tazar_layer_new['BlockUniqueID'] = unreg_tazar_layer_new['BlockUniqueID'].astype('Int64')\n",
    "\n",
    "del unreg_tazar_layer"
   ]
  },
  {
   "cell_type": "markdown",
   "id": "3e8079e1-ae3c-465f-878b-0310dd57615a",
   "metadata": {},
   "source": [
    "<h1 style=\"text-align:right; font-size:150%; color:#1c6ce6;\"> \n",
    "שמירת תוצאות 💾\n",
    "<h1 style=\"text-align:right; font-size:100%;\"> \n",
    "<h1 style=\"text-align:right; font-size:100%;\"> \n",
    "בחירת נתיב\n",
    "<h1 style=\"text-align:right; font-size:100%;\"> \n",
    "שמירה כטבלה\n",
    "<h1 style=\"text-align:right; font-size:100%;\"> \n",
    "שמירה כשכבה גיאוגרפית"
   ]
  },
  {
   "cell_type": "code",
   "execution_count": null,
   "id": "b76b802a-0433-4191-bff5-345113b701d1",
   "metadata": {},
   "outputs": [],
   "source": [
    "print('  4.e Exporting results to product folder')"
   ]
  },
  {
   "cell_type": "code",
   "execution_count": null,
   "id": "652e9163-0bd2-42b5-b746-3f6639527836",
   "metadata": {},
   "outputs": [],
   "source": [
    "json_dir =  CNFG.JsonPath +'UnregisteredTazar.geojson'\n",
    "unreg_tazar_layer_new.to_file(json_dir, driver = 'GeoJSON')"
   ]
  },
  {
   "cell_type": "code",
   "execution_count": null,
   "id": "e60abc9f-d3aa-4ec4-b2c6-59a7c256c109",
   "metadata": {},
   "outputs": [],
   "source": [
    "subprocess.call([CNFG.BatchPath + 'UnregisteredTazar-Save as Feature Class.bat']);"
   ]
  }
 ],
 "metadata": {
  "kernelspec": {
   "display_name": "Python 3 (ipykernel)",
   "language": "python",
   "name": "python3"
  },
  "language_info": {
   "codemirror_mode": {
    "name": "ipython",
    "version": 3
   },
   "file_extension": ".py",
   "mimetype": "text/x-python",
   "name": "python",
   "nbconvert_exporter": "python",
   "pygments_lexer": "ipython3",
   "version": "3.11.3"
  }
 },
 "nbformat": 4,
 "nbformat_minor": 5
}
