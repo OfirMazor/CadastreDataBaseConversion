{
 "cells": [
  {
   "cell_type": "markdown",
   "id": "63f4947d-61c3-4b47-b9a4-daba16094cad",
   "metadata": {},
   "source": [
    "<h1 style=\"background-color:#1c6ce6;\n",
    "           font-family:segoe ui;\n",
    "                color:#FFF9ED;\n",
    "           font-size:300%;\n",
    "           text-align:center;\n",
    "           border-radius:10px 10px;\"> \n",
    "🔨👨‍⚖️ תהליך הסבת שכבת גבולות פסקי דין לבנק\"ל מודרני 🔨👨‍⚖️ "
   ]
  },
  {
   "cell_type": "markdown",
   "id": "13cdac92-004c-4c19-a47b-9d8a9870780a",
   "metadata": {},
   "source": [
    "<h1 style=\"text-align:center; font-size:150%\">\n",
    "תהליך זה הינו חלק 1 מתוך 2 אשר קורא את נתוני המקור, ממיר את המידע לפי אפיון נדרש ושומר את התוצאה בפורמט טבלאי "
   ]
  },
  {
   "cell_type": "code",
   "execution_count": null,
   "id": "86c300e8-5fbd-447b-b14e-6442eb560201",
   "metadata": {},
   "outputs": [],
   "source": [
    "print('7. Judgments borders:')"
   ]
  },
  {
   "cell_type": "markdown",
   "id": "264dfa2f-66e5-4f22-b2be-2fd2e9479992",
   "metadata": {},
   "source": [
    "<h1 style=\"text-align:right; font-size:150%; color:#1c6ce6;\">\n",
    "ספריות 📚"
   ]
  },
  {
   "cell_type": "code",
   "execution_count": null,
   "id": "c34e26aa-1d95-452e-b3c8-08fee687e161",
   "metadata": {},
   "outputs": [],
   "source": [
    "import warnings\n",
    "warnings.filterwarnings('ignore')\n",
    "\n",
    "import numpy as np\n",
    "import pandas as pd\n",
    "import geopandas as gpd\n",
    "import datetime as dt\n",
    "import subprocess"
   ]
  },
  {
   "cell_type": "markdown",
   "id": "59011686-a7fe-4c86-8e54-436aa7f954f5",
   "metadata": {},
   "source": [
    "<h1 style=\"text-align:right; font-size:150%; color:#1c6ce6;\">קריאת נתונים 📑 "
   ]
  },
  {
   "cell_type": "code",
   "execution_count": null,
   "id": "685770da-4810-4d55-9c01-80b0ce676bd2",
   "metadata": {},
   "outputs": [],
   "source": [
    "print('  7.a Reading inputs')"
   ]
  },
  {
   "cell_type": "code",
   "execution_count": null,
   "id": "3eee4a6b-757d-439c-8583-54fc1d91dc35",
   "metadata": {},
   "outputs": [],
   "source": [
    "RawData_folder = r\"\\\\mapi_shares\\MNCDB\\צוות מידע\\RawData\"\n",
    "\n",
    "today =  dt.date.today()\n",
    "date_name =  str(today.year) + str(today.month) + str(today.day) + '_ncdb.gdb'\n",
    "product_path = r'\\\\mapi_shares\\MNCDB\\צוות מידע\\תוצרים/' + date_name"
   ]
  },
  {
   "cell_type": "markdown",
   "id": "caf4fefe-e14f-4015-acdd-953ed2ae201e",
   "metadata": {},
   "source": [
    "<h1 style=\"text-align:right;font-size:100%\">\n",
    "שכבת גבולות פס\"ד קיימת"
   ]
  },
  {
   "cell_type": "code",
   "execution_count": null,
   "id": "4cce2ec9-3073-4cf3-897c-f569f83541ea",
   "metadata": {},
   "outputs": [],
   "source": [
    "LibDisplay_cols = ['PSAK_DIN_ID', 'PSAK_DIN_NUM', 'PSAK_DIN_YEAR', 'geometry']\n",
    "LibDisplay_df = gpd.read_file(RawData_folder + '\\CADSDE\\GVUL_PSAK_DIN_NEW1.gdb', layer='GVUL_PSAK_DIN_NEW1', include_fields = LibDisplay_cols)\n",
    "\n",
    "del LibDisplay_cols"
   ]
  },
  {
   "cell_type": "markdown",
   "id": "bac5aa62-e352-4846-b231-ad5b3a63e033",
   "metadata": {},
   "source": [
    "<h1 style=\"text-align:right;font-size:100%\">\n",
    "טבלת פס\"ד"
   ]
  },
  {
   "cell_type": "code",
   "execution_count": null,
   "id": "ca64ef2f-1e56-46bb-a7e4-fdae66a9623a",
   "metadata": {},
   "outputs": [],
   "source": [
    "orcale_cols = ['PSAK_DIN_ID', 'PSAK_DIN_NUM', 'PSAK_DIN_YEAR', 'NAME', 'SOURCE', 'GUSH_NUM', 'GUSH_SUFFIX', 'STATUS', 'STATUS_DATE', 'START_DATE']\n",
    "oracle_df = pd.read_csv(RawData_folder + \"\\Oracle\\psak_din.csv\", encoding = 'cp1255', usecols = orcale_cols)\n",
    "\n",
    "del orcale_cols"
   ]
  },
  {
   "cell_type": "markdown",
   "id": "946b3643-304e-4585-a96c-036ff8a76be2",
   "metadata": {},
   "source": [
    "<h1 style=\"text-align:right;font-size:100%\">\n",
    "שכבת גושים מודרנית"
   ]
  },
  {
   "cell_type": "code",
   "execution_count": null,
   "id": "6e576205-6804-4f31-8d85-c1df3f63a69a",
   "metadata": {},
   "outputs": [],
   "source": [
    "Blocks_cols = ['BlockNumber', 'SubBlockNumber', 'BlockUniqueID']\n",
    "Blocks = gpd.read_file(product_path, layer='Blocks', include_fields = Blocks_cols, ignore_geometry = True)\n",
    "Blocks = Blocks.astype(int)\n",
    "\n",
    "\n",
    "del [Blocks_cols, RawData_folder, today, date_name, product_path]"
   ]
  },
  {
   "cell_type": "markdown",
   "id": "7fe1b280-e13f-48c0-a7ef-1cd4f4e34d6d",
   "metadata": {},
   "source": [
    "<h1 style=\"text-align:right; font-size:150%; color:#1c6ce6;\">\n",
    "עיבוד נתונים 🛠️"
   ]
  },
  {
   "cell_type": "code",
   "execution_count": null,
   "id": "7679df32-50c4-487b-918d-60a56bdc9910",
   "metadata": {},
   "outputs": [],
   "source": [
    "print('  7.b Cleaning data')"
   ]
  },
  {
   "cell_type": "code",
   "execution_count": null,
   "id": "99997001-9a70-4829-bfea-8d56f8336b58",
   "metadata": {},
   "outputs": [],
   "source": [
    "print('  7.c Data conversion')"
   ]
  },
  {
   "cell_type": "markdown",
   "id": "1c96e692-d05e-440b-9741-350cb80bf2ea",
   "metadata": {},
   "source": [
    "<h1 style=\"text-align:right;font-size:125%\">\n",
    ":עיבוד שכבת גבולות פס\"ד\n",
    "<h1 style=\"text-align:right;font-size:100%\">\n",
    "הוספת 4000 למספר פסק דין על מנת למנוע מספרים זהים לתהליכי קדסטר אחרים בשכבת גבולות קדסטר\n",
    "<h1 style=\"text-align:right;font-size:100%\">\n",
    "הוספת שדה של שם התכנית לפי מספר ושנה בנתונים של אורקל ושל ליבדיספליי"
   ]
  },
  {
   "cell_type": "code",
   "execution_count": null,
   "id": "74bf7331-1320-4c2a-8f87-fa90a452c4a1",
   "metadata": {},
   "outputs": [],
   "source": [
    "LibDisplay_df['PSAK_DIN_NUM'] = LibDisplay_df['PSAK_DIN_NUM'] + 4000\n",
    "LibDisplay_df[['PSAK_DIN_ID', 'PSAK_DIN_NUM', 'PSAK_DIN_YEAR']] = LibDisplay_df[['PSAK_DIN_ID', 'PSAK_DIN_NUM', 'PSAK_DIN_YEAR']].astype(int)\n",
    "\n",
    "LibDisplay_df['ProcessName'] = LibDisplay_df['PSAK_DIN_NUM'].astype(str) + '/' +\tLibDisplay_df['PSAK_DIN_YEAR'].astype(str)\n",
    "LibDisplay_df.drop(columns=['PSAK_DIN_NUM', 'PSAK_DIN_YEAR'], inplace=True)"
   ]
  },
  {
   "cell_type": "markdown",
   "id": "2659154b-2655-49fa-a89d-46bff73990a2",
   "metadata": {},
   "source": [
    "<h1 style=\"text-align:right;font-size:125%\">\n",
    ":עיבוד טבלת פס\"ד\n",
    "<h1 style=\"text-align:right;font-size:100%\">\n",
    "הוספת 4000 למספר פסק דין על מנת למנוע מספרים זהים לתהליכי קדסטר אחרים בשכבת גבולות קדסטר\n",
    "<h1 style=\"text-align:right;font-size:100%\">\n",
    "יצירת שדה של שם תהליך\n",
    "<h1 style=\"text-align:right;font-size:100%\">\n",
    "הגדרת שדותשל תאריך כשדות מסוג תאריך"
   ]
  },
  {
   "cell_type": "code",
   "execution_count": null,
   "id": "d002694c-e451-481e-b75e-dd29b5d35301",
   "metadata": {},
   "outputs": [],
   "source": [
    "oracle_df['PSAK_DIN_NUM'] = oracle_df['PSAK_DIN_NUM'] + 4000\n",
    "oracle_df['ProcessName'] = oracle_df['PSAK_DIN_NUM'].astype('str') + '/' +\toracle_df['PSAK_DIN_YEAR'].astype('str')"
   ]
  },
  {
   "cell_type": "code",
   "execution_count": null,
   "id": "625a9a58-22b7-4528-8b50-59eafda461bd",
   "metadata": {},
   "outputs": [],
   "source": [
    "oracle_df['STATUS_DATE'] = oracle_df['STATUS_DATE'].astype('datetime64[ns]')\n",
    "oracle_df['START_DATE'] = oracle_df['START_DATE'].astype('datetime64[ns]')"
   ]
  },
  {
   "cell_type": "markdown",
   "id": "e347d4b9-3b1e-4d8c-b258-05ee64543078",
   "metadata": {},
   "source": [
    "<h1 style=\"text-align:right;font-size:125%\">\n",
    ":עיבוד שכבת גושים מודרנית\n",
    "<h1 style=\"text-align:right;font-size:100%\">\n",
    "יצירת שדה מקשר לטובת איחוד עם שכבת גושים והשגת מזהה גוש בהמשך   "
   ]
  },
  {
   "cell_type": "code",
   "execution_count": null,
   "id": "e1f68dcf-fb05-49ca-beb9-bb954a6e9ea8",
   "metadata": {},
   "outputs": [],
   "source": [
    "Blocks['BlockName'] = Blocks['BlockNumber'].astype(str) + '_' + Blocks['SubBlockNumber'].astype(str)\n",
    "\n",
    "oracle_df['GUSH_SUFFIX'].fillna(0, inplace=True)\n",
    "oracle_df[['GUSH_NUM', 'GUSH_SUFFIX']] = oracle_df[['GUSH_NUM', 'GUSH_SUFFIX']].astype(int)\n",
    "oracle_df['BlockName'] = oracle_df['GUSH_NUM'].astype(str) + '_' + oracle_df['GUSH_SUFFIX'].astype(str)"
   ]
  },
  {
   "cell_type": "markdown",
   "id": "e380ab06-a86a-4486-b9a8-98e3735c453e",
   "metadata": {},
   "source": [
    "<h1 style=\"text-align:right;font-size:125%\">\n",
    "מיזוג טבלאות "
   ]
  },
  {
   "cell_type": "code",
   "execution_count": null,
   "id": "f9117e2d-685c-46f2-bc92-234c8a0a387a",
   "metadata": {},
   "outputs": [],
   "source": [
    "merge = LibDisplay_df.merge(oracle_df, on = 'PSAK_DIN_ID', how = 'outer')\n",
    "merge.drop(columns = ['ProcessName_x'], inplace = True)\n",
    "merge.rename(columns = {'ProcessName_y' : 'ProcessName'}, inplace=True)"
   ]
  },
  {
   "cell_type": "code",
   "execution_count": null,
   "id": "198080ee-827b-4a26-8ec7-091ca9a00ae4",
   "metadata": {},
   "outputs": [],
   "source": [
    "merge = merge.merge(Blocks, on = 'BlockName', how = 'left')\n",
    "merge = merge.drop_duplicates(keep='first')\n",
    "\n",
    "del [LibDisplay_df, oracle_df, Blocks]"
   ]
  },
  {
   "cell_type": "markdown",
   "id": "9d15154a-5dd5-4277-99ac-7b5aabc35b7f",
   "metadata": {},
   "source": [
    "<h1 style=\"text-align:right; font-size:150%; color:#1c6ce6;\"> \n",
    "יצירת שכבה חדשה בהתאם לאפיון ✨"
   ]
  },
  {
   "cell_type": "code",
   "execution_count": null,
   "id": "4a9ec007-7506-41e3-b2a1-e5e2b83873a0",
   "metadata": {},
   "outputs": [],
   "source": [
    "print('  7.d Defining new Layer')"
   ]
  },
  {
   "cell_type": "code",
   "execution_count": null,
   "id": "e0e38cfe-34af-4679-8786-6d015136f6c6",
   "metadata": {},
   "outputs": [],
   "source": [
    "new_columns = np.dtype([\n",
    "                        (\"CPBUniqueID\", int),\n",
    "                       #(\"BlockUniqueID\", int), יאוחד בהמשך התהליך\n",
    "                        (\"ProcessType\", int),\n",
    "                        (\"MapYear\", int),\n",
    "                        (\"ProcessName\", str),\n",
    "                        (\"GeodeticNetwork\", int),#לא קיים שדה לייבוא\n",
    "                        (\"Status\", int),\n",
    "                        (\"PlanName\", str),\n",
    "                        (\"SurveyorLicenseID\", int), #לא קיים שדה לייבוא\n",
    "                        (\"DataSource\", int),\n",
    "                        (\"geometry\", int)\n",
    "                        ])\n",
    "\n",
    "\n",
    "Judgments = gpd.GeoDataFrame(np.empty(0, dtype = new_columns),\n",
    "                             crs = 2039,\n",
    "                             geometry = 'geometry')\n",
    "\n",
    "del new_columns"
   ]
  },
  {
   "cell_type": "markdown",
   "id": "5c487be4-42b7-47ec-bce3-f18bb836bbc5",
   "metadata": {},
   "source": [
    "<h1 style=\"text-align:right;font-size:100%\">\n",
    "    איכלוס שדות"
   ]
  },
  {
   "cell_type": "code",
   "execution_count": null,
   "id": "9338c72f-af10-4aea-80f3-fe0c2cdab5d9",
   "metadata": {},
   "outputs": [],
   "source": [
    "Judgments['BlockUniqueID'] = merge['BlockUniqueID']\n",
    "\n",
    "\n",
    "Judgments['ProcessType'] = 3\n",
    "\n",
    "\n",
    "Judgments['MapYear'] = merge['START_DATE'].dt.year\n",
    "Judgments['MapYear'] = Judgments['MapYear'].astype('Int64')\n",
    "\n",
    "\n",
    "Judgments['ProcessName'] = merge['ProcessName'].astype(str)\n",
    "\n",
    "\n",
    "statusDict = {1 : 31,\n",
    "              2 : 32,\n",
    "              3 : 33,\n",
    "              4 : 36,\n",
    "              None : 36}\n",
    "Judgments['Status'] = merge['STATUS'].map(statusDict)\n",
    "Judgments['Status'] = Judgments['Status'].fillna(36)\n",
    "Judgments['Status'] = Judgments['Status'].astype(int)\n",
    "\n",
    "\n",
    "Judgments['PlanName'] = None\n",
    "\n",
    "\n",
    "Judgments['GeodeticNetwork'] = None\n",
    "\n",
    "\n",
    "Judgments['SurveyorLicenseID'] = None\n",
    "\n",
    "\n",
    "Judgments['DataSource'] = 3\n",
    "\n",
    "\n",
    "Judgments['geometry'] = merge['geometry']\n",
    "\n",
    "\n",
    "Judgments['CPBUniqueID'] = merge['PSAK_DIN_ID'] + 4000000\n",
    "Judgments.dropna(subset=['CPBUniqueID'], inplace=True)\n",
    "Judgments['CPBUniqueID'] = Judgments['CPBUniqueID'].astype(int)"
   ]
  },
  {
   "cell_type": "code",
   "execution_count": null,
   "id": "6e6716ed-95d7-47de-b937-f9710b9381b1",
   "metadata": {},
   "outputs": [],
   "source": [
    "Judgments.sort_values('CPBUniqueID', inplace=True)"
   ]
  },
  {
   "cell_type": "markdown",
   "id": "a1b8012b-80d1-4ee8-9273-a8025d2d1e92",
   "metadata": {},
   "source": [
    "<h1 style=\"text-align:right; font-size:150%; color:#1c6ce6;\"> \n",
    "שמירת תוצאות 💾\n",
    "<h1 style=\"text-align:right; font-size:100%;\"> \n",
    "<h1 style=\"text-align:right; font-size:100%;\"> \n",
    "בחירת נתיב\n",
    "<h1 style=\"text-align:right; font-size:100%;\"> \n",
    "שמירה כטבלה\n",
    "<h1 style=\"text-align:right; font-size:100%;\"> \n",
    "שמירה כשכבה גיאוגרפית"
   ]
  },
  {
   "cell_type": "code",
   "execution_count": null,
   "id": "f2dec08b-12fb-4e31-b7f1-4f73c8f1fd3e",
   "metadata": {},
   "outputs": [],
   "source": [
    "Judgments_geom    = Judgments[~Judgments['geometry'].isna()]\n",
    "Judgments_no_geom = Judgments[Judgments['geometry'].isna()]"
   ]
  },
  {
   "cell_type": "code",
   "execution_count": null,
   "id": "98a0f736-3739-449a-a11a-904ab8fe1b71",
   "metadata": {},
   "outputs": [],
   "source": [
    "print('  7.e Exporting results to product folder')"
   ]
  },
  {
   "cell_type": "code",
   "execution_count": null,
   "id": "5af94ec1-fab8-403b-8763-041acee99993",
   "metadata": {},
   "outputs": [],
   "source": [
    "#geom_csv_dir = r'\\\\mapi_shares\\MNCDB\\צוות מידע\\תוצרים\\csv\\Judgments_geom.csv'\n",
    "no_geom_csv_dir = r'\\\\mapi_shares\\MNCDB\\צוות מידע\\תוצרים\\csv\\Judgments_no_geom.csv'\n",
    "json_dir =  r'\\\\mapi_shares\\MNCDB\\צוות מידע\\תוצרים\\json\\Judgments_geom.json'\n",
    "\n",
    "\n",
    "#Judgments_geom.to_csv(geom_csv_dir, encoding = 'cp1255', index=False)\n",
    "Judgments_no_geom.to_csv(no_geom_csv_dir, encoding = 'cp1255', index=False)\n",
    "\n",
    "Judgments_geom.to_file(json_dir, driver = 'GeoJSON')"
   ]
  },
  {
   "cell_type": "code",
   "execution_count": null,
   "id": "71653baf-289c-4589-94ed-f38b744b238a",
   "metadata": {},
   "outputs": [],
   "source": [
    "subprocess.call([r\"\\\\mapi_shares\\MNCDB\\צוות מידע\\scripts\\arcpyPro\\Judgments-Save as Feature Class.bat\"]);"
   ]
  }
 ],
 "metadata": {
  "kernelspec": {
   "display_name": "Python 3",
   "language": "python",
   "name": "python3"
  },
  "language_info": {
   "codemirror_mode": {
    "name": "ipython",
    "version": 3
   },
   "file_extension": ".py",
   "mimetype": "text/x-python",
   "name": "python",
   "nbconvert_exporter": "python",
   "pygments_lexer": "ipython3",
   "version": "3.9.4"
  }
 },
 "nbformat": 4,
 "nbformat_minor": 5
}
