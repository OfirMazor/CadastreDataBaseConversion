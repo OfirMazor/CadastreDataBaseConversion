{
 "cells": [
  {
   "cell_type": "markdown",
   "id": "943546e8-d8f2-4297-8dad-f3e1a39b5536",
   "metadata": {},
   "source": [
    "<h1 style=\"background-color:#1c6ce6;\n",
    "           font-family:segoe ui;\n",
    "                color:#FFF9ED;\n",
    "           font-size:300%;\n",
    "           text-align:center;\n",
    "           border-radius:10px 10px;\"> \n",
    "🔀 תהליך הסבת טבלת סדר פעולות לבנק\"ל מודרני 🔀 "
   ]
  },
  {
   "cell_type": "code",
   "execution_count": null,
   "id": "90cac2cb-e8f4-4581-9d5c-7e6f8d48cdf5",
   "metadata": {},
   "outputs": [],
   "source": [
    "print('10. Sequence Actions Table:')"
   ]
  },
  {
   "cell_type": "markdown",
   "id": "36e6ebb3-1da0-4c9f-87a1-7d7b5e4f8317",
   "metadata": {},
   "source": [
    "<h1 style=\"text-align:right; font-size:150%; color:#1c6ce6;\">\n",
    "ספריות 📚"
   ]
  },
  {
   "cell_type": "code",
   "execution_count": 1,
   "id": "b4fab528-6884-4d4f-8e10-d36c4d9dcaac",
   "metadata": {},
   "outputs": [],
   "source": [
    "import warnings\n",
    "warnings.filterwarnings('ignore')\n",
    "\n",
    "import numpy as np\n",
    "import pandas as pd\n",
    "import geopandas as gpd\n",
    "import datetime as dt\n",
    "import subprocess"
   ]
  },
  {
   "cell_type": "code",
   "execution_count": null,
   "id": "4213fbae-da1c-4a1b-bf64-6dd94c104e49",
   "metadata": {},
   "outputs": [],
   "source": [
    "print('  10.a Reading inputs')"
   ]
  },
  {
   "cell_type": "markdown",
   "id": "ea134cf1-4726-4eeb-9605-5ff95f273cfd",
   "metadata": {},
   "source": [
    "<h1 style=\"text-align:right; font-size:150%; color:#1c6ce6;\">קריאת נתונים 📑 "
   ]
  },
  {
   "cell_type": "code",
   "execution_count": 74,
   "id": "d7b2856c-cad5-49ed-b809-356862fc3c67",
   "metadata": {},
   "outputs": [],
   "source": [
    "RawData_folder = r\"\\\\mapi_shares\\MNCDB\\צוות מידע\\RawData\"\n",
    "\n",
    "today =  dt.date.today()\n",
    "date_name =  str(today.year) + str(today.month) + str(today.day)\n",
    "product_path = r'\\\\mapi_shares\\MNCDB\\צוות מידע\\תוצרים/' + date_name + '_ncdb.gdb'"
   ]
  },
  {
   "cell_type": "markdown",
   "id": "df0557eb-e0a7-4e56-816b-32b5aa8be67f",
   "metadata": {},
   "source": [
    "<h1 style=\"text-align:right;font-size:100%\">\n",
    "טבלת סדר פעולות קיימת"
   ]
  },
  {
   "cell_type": "code",
   "execution_count": 73,
   "id": "b222950c-d5e6-49c2-bce0-9d14563af237",
   "metadata": {},
   "outputs": [],
   "source": [
    "action_parcel_cols = ['GUSH_NUM', 'GUSH_SUFFIX', 'ACTION_NUM', 'LINE', 'TALAR_ID', 'FROM_PARCEL_TMP', 'FROM_PARCEL_FINAL', 'TO_GUSH_NUM', 'TO_GUSH_SUFFIX', 'TO_PARCEL_TMP', 'TO_PARCEL_FINAL']\n",
    "\n",
    "action_parcel = pd.read_csv(RawData_folder + '/Oracle/action_parcel.csv', usecols = action_parcel_cols)\n",
    "\n",
    "del action_parcel_cols"
   ]
  },
  {
   "cell_type": "markdown",
   "id": "592d383c-68d7-44ac-8477-0499a6990ee6",
   "metadata": {},
   "source": [
    "<h1 style=\"text-align:right;font-size:100%\">\n",
    "טבלת עדכון חלקות קיימת"
   ]
  },
  {
   "cell_type": "code",
   "execution_count": 21,
   "id": "7fb41482-c151-46f2-a043-b7d7dde56f1e",
   "metadata": {},
   "outputs": [],
   "source": [
    "revision_action_cols = ['ACTION_TYPE', 'TALAR_ID', 'ACTION_NUM']\n",
    "\n",
    "revision_action = pd.read_csv(RawData_folder + '/Oracle/REV_ACTION.csv', usecols = revision_action_cols)\n",
    "\n",
    "del revision_action_cols"
   ]
  },
  {
   "cell_type": "markdown",
   "id": "4f21bc2d-a0bb-43fd-8d05-7b29031fa04f",
   "metadata": {},
   "source": [
    "<h1 style=\"text-align:right;font-size:100%\">\n",
    "טבלת סטאטוסים של תצ\"ר"
   ]
  },
  {
   "cell_type": "code",
   "execution_count": 22,
   "id": "0bfd955c-5c20-446a-a827-e0f6c3bb7143",
   "metadata": {},
   "outputs": [],
   "source": [
    "talar_table_cols = ['TALAR_ID', 'STATUS']\n",
    "\n",
    "talar_table = pd.read_csv(RawData_folder + '/Oracle/talar_table.csv', usecols = talar_table_cols, encoding = 'cp1256')\n",
    "\n",
    "del talar_table_cols"
   ]
  },
  {
   "cell_type": "markdown",
   "id": "4070c4b9-cc84-485d-b3af-7d91f6a6e905",
   "metadata": {},
   "source": [
    "<h1 style=\"text-align:right;font-size:100%\"> \n",
    "טבלת פעולות של תצ\"ר כרסטת (הוכן מראש)"
   ]
  },
  {
   "cell_type": "code",
   "execution_count": 23,
   "id": "8f287645-ae6f-44bc-9b85-ddfe454b57a7",
   "metadata": {},
   "outputs": [],
   "source": [
    "talar_card = pd.read_csv(RawData_folder + '/Oracle/TALAR_ACTIONS.csv')"
   ]
  },
  {
   "cell_type": "markdown",
   "id": "7430bc90-e6e1-4527-9375-58d38cc0f8f4",
   "metadata": {},
   "source": [
    "<h1 style=\"text-align:right;font-size:100%\">\n",
    "טבלת חלקות בתהליך"
   ]
  },
  {
   "cell_type": "code",
   "execution_count": 24,
   "id": "6b3fedbf-3aa0-419a-bca7-f51ac88ec6ae",
   "metadata": {},
   "outputs": [],
   "source": [
    "parcel_inprocess_cols = ['GUSHNUM', 'GUSHSUFFIX', 'PARCELNAME', 'TALAR_NUM', 'TALAR_YEAR', 'CADASTER_PROCESS']\n",
    "\n",
    "parcel_inprocess = pd.read_csv(RawData_folder + '/Oracle/PARCELS_INPROCESS.csv', usecols = parcel_inprocess_cols, encoding = 'cp1256')\n",
    "\n",
    "del parcel_inprocess_cols"
   ]
  },
  {
   "cell_type": "markdown",
   "id": "8b49c8e9-f484-41a3-b367-5515bb520d42",
   "metadata": {},
   "source": [
    "<h1 style=\"text-align:right;font-size:100%\">\n",
    "טבלת תת\"ג"
   ]
  },
  {
   "cell_type": "code",
   "execution_count": 25,
   "id": "23aa4180-746e-4b52-987b-db106edf548f",
   "metadata": {},
   "outputs": [],
   "source": [
    "tatag_table_cols = ['TATAG_NUM', 'TATAG_YEAR', 'TATAG_STATUS']\n",
    "\n",
    "tatag_table = pd.read_csv(RawData_folder + '/Oracle/TATAG.csv', usecols = tatag_table_cols)\n",
    "\n",
    "del tatag_table_cols"
   ]
  },
  {
   "cell_type": "markdown",
   "id": "e04e3d88-1309-4c1a-9f75-22ee417cd3e8",
   "metadata": {},
   "source": [
    "<h1 style=\"text-align:right;font-size:100%\">\n",
    "טבלת תיקוני 97"
   ]
  },
  {
   "cell_type": "code",
   "execution_count": 26,
   "id": "ea7c8434-013f-4d3d-b836-5d63dfbb7775",
   "metadata": {},
   "outputs": [],
   "source": [
    "tikun_hesder_97b_cols = ['MISPAR_PNIA', 'GUSH_NUM', 'GUSH_SUFFIX', 'PARCELS', 'CODE_STEP']\n",
    "\n",
    "tikun_hesder_97b = pd.read_csv(RawData_folder + '/Oracle/TIKUN_HESDER_97B.csv', usecols = tikun_hesder_97b_cols)\n",
    "\n",
    "del tikun_hesder_97b_cols"
   ]
  },
  {
   "cell_type": "markdown",
   "id": "96baa9dd-b49c-4bab-be93-499a6507a525",
   "metadata": {},
   "source": [
    "<h1 style=\"text-align:right;font-size:100%\">\n",
    "פסקי דין"
   ]
  },
  {
   "cell_type": "code",
   "execution_count": 27,
   "id": "815cab6d-dea7-4ca1-9eb7-3e98d290a7bd",
   "metadata": {},
   "outputs": [],
   "source": [
    "judgements_cols = ['PSAK_DIN_ID', 'STATUS', 'GUSH_NUM', 'GUSH_SUFFIX']\n",
    "\n",
    "judgements = pd.read_csv(RawData_folder + '/Oracle/psak_din.csv', usecols = judgements_cols, encoding = 'cp1255')\n",
    "\n",
    "del judgements_cols"
   ]
  },
  {
   "cell_type": "markdown",
   "id": "dc229e1f-09b2-4a9f-b7c3-aecb40631d0e",
   "metadata": {},
   "source": [
    "<h1 style=\"text-align:right;font-size:100%\">\n",
    "חלקות פסקי דין"
   ]
  },
  {
   "cell_type": "code",
   "execution_count": 28,
   "id": "0d70ad03-8b13-443e-86a2-1c668ee7158e",
   "metadata": {},
   "outputs": [],
   "source": [
    "judgements_parcels_cols = ['PSAK_DIN_ID', 'PARCEL', 'TYPE']\n",
    "\n",
    "judgements_parcels = pd.read_csv(RawData_folder + '/Oracle/psak_din_parcels.csv', usecols = judgements_parcels_cols)\n",
    "\n",
    "del judgements_parcels_cols"
   ]
  },
  {
   "cell_type": "markdown",
   "id": "a22a89a8-f6b7-4adb-b401-4a9e271ad7b2",
   "metadata": {},
   "source": [
    "<h1 style=\"text-align:right;font-size:100%\"> \n",
    "שכבת גבולות תהליכי קדסטר"
   ]
  },
  {
   "cell_type": "code",
   "execution_count": 75,
   "id": "75e8ea83-f660-4eee-ac68-4cb42264119f",
   "metadata": {},
   "outputs": [],
   "source": [
    "CPB_layer = gpd.read_file(product_path, layer = 'CadasterProcessBorders', include_fields = ['CPBUniqueID', 'ProcessName', 'ProcessType'], ignore_geometry = True)\n",
    "CPB_layer = CPB_layer.astype({'CPBUniqueID' : int, 'ProcessName' : str})\n",
    "\n",
    "del [product_path]"
   ]
  },
  {
   "cell_type": "code",
   "execution_count": null,
   "id": "b37d0988-c853-4755-b3d4-9cb560e6d5ad",
   "metadata": {},
   "outputs": [],
   "source": [
    "print('  10.b Cleaning data')"
   ]
  },
  {
   "cell_type": "markdown",
   "id": "d70a3e15-729c-4bd3-ae88-b03485b95daa",
   "metadata": {},
   "source": [
    "<h1 style=\"text-align:right; font-size:150%; color:#1c6ce6;\">\n",
    "עיבוד נתונים 🛠️"
   ]
  },
  {
   "cell_type": "markdown",
   "id": "4f4772d7-f072-497b-92b4-708353eba365",
   "metadata": {},
   "source": [
    "<h1 style=\"text-align:right;font-size:100%\"> \n",
    "שמות שדות לאפיון"
   ]
  },
  {
   "cell_type": "code",
   "execution_count": 76,
   "id": "4671b2a0-dded-4e3a-bf91-35509ae0bde9",
   "metadata": {},
   "outputs": [],
   "source": [
    "new_columns = np.dtype([\n",
    "                        (\"CPBUniqueID\", int),\n",
    "                        (\"ProcessType\", int),\n",
    "                        (\"BlockNumber\", int),\n",
    "                        (\"SubBlockNumber\", int),\n",
    "                        (\"ActionNumber\", int),\n",
    "                        (\"ActionType\", int),\n",
    "                        (\"LineNumber\", int),\n",
    "                        (\"FromParcelTemp\", int),\n",
    "                        (\"FromParcelFinal\", int),\n",
    "                        (\"ToBlockNumber\", int),\n",
    "                        (\"ToSubBlockNumber\", int),\n",
    "                        (\"ToParcelTemp\", int),\n",
    "                        (\"ToParcelFinal\", int)\n",
    "                        ])"
   ]
  },
  {
   "cell_type": "code",
   "execution_count": null,
   "id": "b21b7ccb-7e0f-4b8d-9400-27627b783320",
   "metadata": {},
   "outputs": [],
   "source": [
    "print('  10.c Data conversion')"
   ]
  },
  {
   "cell_type": "markdown",
   "id": "63528878-159d-4600-8cff-f2b3b959f7fc",
   "metadata": {},
   "source": [
    "<h1 style=\"text-align:right;font-size:125%\"> \n",
    ":נתוני תצ\"ר\n",
    "<h1 style=\"text-align:right;font-size:100%\"> \n",
    "סינון תצ\"רים בסטאטוס 3 ו-4 בלבד\n",
    "<h1 style=\"text-align:right;font-size:100%\"> \n",
    "סינון רשומות מטבלת פעולות כללית שרלוונטיים לתצ\"ר\n",
    "<h1 style=\"text-align:right;font-size:100%\">\n",
    "יצירת טבלה ריקה עם שדות רלונטיים\n",
    "<h1 style=\"text-align:right;font-size:100%\">\n",
    "איכלוס שדות בטבלה חדשה\n",
    "<h1 style=\"text-align:right;font-size:100%\">\n",
    "הגדרת כל השדות בטבלה לשדות מסוג מספר שלם"
   ]
  },
  {
   "cell_type": "code",
   "execution_count": 57,
   "id": "ac815deb-dc21-4465-a96d-6cff7d05778b",
   "metadata": {},
   "outputs": [],
   "source": [
    "talar_action = pd.DataFrame(np.empty(0, dtype = new_columns))"
   ]
  },
  {
   "cell_type": "code",
   "execution_count": null,
   "id": "6a365224-8d6b-400c-938b-04b6e197fb84",
   "metadata": {},
   "outputs": [],
   "source": [
    "talar_action['CPBUniqueID'] = action_parcel['TALAR_ID'] + 1000000\n",
    "CPB__tazar = CPB_layer[CPB_layer['ProcessType'] == 1]                 # סינון רשומות לתצ\"ר \n",
    "talar_action = action_parcel[action_parcel['TALAR_ID'].isin(CPB__tazar['CPBUniqueID'])]\n",
    "action_parcel['TALAR_ID'] = action_parcel['TALAR_ID'].astype('int32')\n",
    "\n",
    "talar_action['ProcessType'] = 1\n",
    "\n",
    "\n",
    "talar_action['BlockNumber'] = action_parcel['GUSH_NUM']\n",
    "\n",
    "\n",
    "talar_action['SubBlockNumber'] = action_parcel['GUSH_SUFFIX']\n",
    "\n",
    "\n",
    "talar_action['ActionNumber'] = action_parcel['ACTION_NUM']\n",
    "\n",
    "\n",
    "talar_action['ActionType'] = action_parcel.merge(right    = revision_action,\n",
    "                                                 left_on  = ['TALAR_ID', 'ACTION_NUM'],\n",
    "                                                 right_on = ['TALAR_ID', 'ACTION_NUM'],\n",
    "                                                 how      = 'left')['ACTION_TYPE']\n",
    "\n",
    "\n",
    "talar_action['LineNumber'] = action_parcel['LINE']\n",
    "\n",
    "\n",
    "talar_action['FromParcelTemp'] = action_parcel['FROM_PARCEL_TMP']\n",
    "\n",
    "\n",
    "talar_action['FromParcelFinal'] = action_parcel['FROM_PARCEL_FINAL']\n",
    "\n",
    "\n",
    "talar_action['ToBlockNumber'] = action_parcel['TO_GUSH_NUM']\n",
    "\n",
    "\n",
    "talar_action['ToSubBlockNumber'] = action_parcel['TO_GUSH_SUFFIX']\n",
    "\n",
    "\n",
    "talar_action['ToParcelTemp'] = action_parcel['TO_PARCEL_TMP']\n",
    "\n",
    "\n",
    "talar_action['ToParcelFinal'] = action_parcel['TO_PARCEL_FINAL']"
   ]
  },
  {
   "cell_type": "code",
   "execution_count": null,
   "id": "33859ed9-d9d4-4926-bdfc-82ff006463ef",
   "metadata": {},
   "outputs": [],
   "source": [
    "talar_action = talar_action.astype('Int64')"
   ]
  },
  {
   "cell_type": "markdown",
   "id": "4db2a088-c63b-413b-923f-d0789ea1a038",
   "metadata": {},
   "source": [
    "<h1 style=\"text-align:right;font-size:125%\">\n",
    "נתוני תצ\"ר כרטסת:\n",
    "<h1 style=\"text-align:right;font-size:100%\">\n",
    "שינוי שמות שדות לפי אפיון חדש\n",
    "<h1 style=\"text-align:right;font-size:100%\">    \n",
    "הגדרת סוג תהליך לתצ\"ר"
   ]
  },
  {
   "cell_type": "code",
   "execution_count": null,
   "id": "e5b1f816-5af6-443f-b89e-915b14dbb33e",
   "metadata": {},
   "outputs": [],
   "source": [
    "talar_card.rename(columns = {'TALARID'             : 'CPBUniqueID',\n",
    "                             'BLOCKNUMBER'         : 'BlockNumber',\n",
    "                             'BLOCKSUFFIXNUMBER'   : 'SubBlockNumber',\n",
    "                             'ACTIONNUMBER'        : 'ActionNumber',\n",
    "                             'ACTIONTYPE'          : 'ActionType',\n",
    "                             'LINENUMBER'          : 'LineNumber',\n",
    "                             'FROMPARCELTEMP'      : 'FromParcelTemp',\n",
    "                             'FROMPARCELFINAL'     : 'FromParcelFinal',\n",
    "                             'TOBLOCKNUMBER'       : 'ToBlockNumber',\n",
    "                             'TOBLOCKSUFFIXNUMBER' : 'ToSubBlockNumber',\n",
    "                             'TOPARCELTEMP'        : 'ToParcelTemp',\n",
    "                             'TOPARCELFINAL'       : 'ToParcelFinal'},\n",
    "                  inplace = True)\n",
    "\n",
    "talar_card['ProcessType'] = 1"
   ]
  },
  {
   "cell_type": "markdown",
   "id": "0d2d2a78-440c-4dde-817a-8b0b58cf7d3c",
   "metadata": {},
   "source": [
    "<h1 style=\"text-align:right;font-size:125%\">\n",
    ":נתוני תת\"ג\n",
    "<h1 style=\"text-align:right;font-size:100%\">\n",
    "סינון חלקות בתהליך לחלקות שמקורן בתהליך מסוג תת\"ג    \n",
    "<h1 style=\"text-align:right;font-size:100%\">\n",
    "סינון טבלת תת\"ג לתת\"ג בסטאטוס 2    \n",
    "<h1 style=\"text-align:right;font-size:100%\">\n",
    "יצירת שדה משותף בשתי הטבלאות לפי מספר מלבן   \n",
    "<h1 style=\"text-align:right;font-size:100%\">\n",
    "סינון חלקות בתהליך לפי מספרי מלבן משותפים לטבלת תת\"ג    \n",
    "<h1 style=\"text-align:right;font-size:100%\">\n",
    "פיצול שדה שם החלקה לפי סטאטוס ומספר חלקה    \n",
    "<h1 style=\"text-align:right;font-size:100%\">\n",
    "סינון רשומות שמופיעות רק בגבולות תת\"ג של מוצר עדכני\n",
    "<h1 style=\"text-align:right;font-size:100%\">\n",
    "מיזוג שדות שלשכבת תת\"ג עדכנית עם חלקות תת\"ג בתהליך    \n",
    "<h1 style=\"text-align:right;font-size:100%\">\n",
    "יצירת טבלה ריקה עם שדות רלוונטיים    \n",
    "<h1 style=\"text-align:right;font-size:100%\">\n",
    "איכלוס שדות בטבלה חדשה    \n",
    "<h1 style=\"text-align:right;font-size:100%\">\n",
    "החלפת ערכים ריקים עם המספר 0 בשדה תת-גוש   \n",
    "<h1 style=\"text-align:right;font-size:100%\">\n",
    "הגדרת כל השדות בטבלה לשדות מסוג מספר שלם    "
   ]
  },
  {
   "cell_type": "code",
   "execution_count": null,
   "id": "358b1f1e-9be3-48f7-b083-e2b1c63459b2",
   "metadata": {},
   "outputs": [],
   "source": [
    "parcel_inprocess = parcel_inprocess[parcel_inprocess['CADASTER_PROCESS'] == 12]"
   ]
  },
  {
   "cell_type": "code",
   "execution_count": null,
   "id": "76255f57-6d5d-4102-b5b4-5e12ceb77865",
   "metadata": {},
   "outputs": [],
   "source": [
    "tatag_table = tatag_table[tatag_table['TATAG_STATUS'] == 2]"
   ]
  },
  {
   "cell_type": "code",
   "execution_count": null,
   "id": "523ad026-0409-46c9-abd7-efff87fcb9b3",
   "metadata": {},
   "outputs": [],
   "source": [
    "parcel_inprocess[['TALAR_NUM', 'TALAR_YEAR']] = parcel_inprocess[['TALAR_NUM', 'TALAR_YEAR']].astype(int)\n",
    "tatag_table[['TATAG_NUM', 'TATAG_YEAR']] = tatag_table[['TATAG_NUM', 'TATAG_YEAR']].astype(int)\n",
    "\n",
    "parcel_inprocess['ProcessName'] = parcel_inprocess['TALAR_NUM'].astype(str) + '/' + parcel_inprocess['TALAR_YEAR'].astype(str)\n",
    "tatag_table['ProcessName'] = tatag_table['TATAG_NUM'].astype(str) + '/' + tatag_table['TATAG_YEAR'].astype(str)"
   ]
  },
  {
   "cell_type": "code",
   "execution_count": null,
   "id": "a2934eab-1721-4af4-9fff-32dbde52d308",
   "metadata": {},
   "outputs": [],
   "source": [
    "parcel_inprocess = parcel_inprocess[parcel_inprocess['ProcessName'].isin(CPB_layer['ProcessName'])]"
   ]
  },
  {
   "cell_type": "code",
   "execution_count": null,
   "id": "7415704a-6d8a-44db-90c7-1219cda98b3e",
   "metadata": {},
   "outputs": [],
   "source": [
    "parcel_inprocess[['ParcelStatus', 'ParcelNumber']] = parcel_inprocess['PARCELNAME'].str.extract('([a-zA-Z]+)([^a-zA-Z]+)', expand=True)\n",
    "parcel_inprocess.drop(columns='PARCELNAME', inplace=True)\n",
    "parcel_inprocess['ParcelNumber'] = parcel_inprocess['ParcelNumber'].fillna(0)\n",
    "parcel_inprocess['ParcelNumber'] = parcel_inprocess['ParcelNumber'].astype(int)"
   ]
  },
  {
   "cell_type": "code",
   "execution_count": null,
   "id": "a28c2476-db40-428d-bd96-a2f40b3d3927",
   "metadata": {},
   "outputs": [],
   "source": [
    "tatag_layer = CPB_layer[CPB_layer['ProcessName'].isin(parcel_inprocess['ProcessName'])]\n",
    "tatag_parcel_inprocess = tatag_layer.merge(parcel_inprocess, on='ProcessName', how='right')\n",
    "\n",
    "del [tatag_layer, parcel_inprocess, tatag_table]"
   ]
  },
  {
   "cell_type": "code",
   "execution_count": null,
   "id": "962331f2-1160-4460-9e5f-adbaf338b105",
   "metadata": {},
   "outputs": [],
   "source": [
    "tatag_action = pd.DataFrame(np.empty(0, dtype=new_columns))"
   ]
  },
  {
   "cell_type": "code",
   "execution_count": null,
   "id": "944352df-1b2c-4387-9b00-63bf68e958ea",
   "metadata": {},
   "outputs": [],
   "source": [
    "tatag_action['CPBUniqueID'] = tatag_parcel_inprocess['CPBUniqueID']\n",
    "\n",
    "\n",
    "tatag_action['ProcessType'] = 4\n",
    "\n",
    "\n",
    "tatag_action['BlockNumber'] = tatag_parcel_inprocess['GUSHNUM']\n",
    "\n",
    "\n",
    "tatag_action['SubBlockNumber'] = tatag_parcel_inprocess['GUSHSUFFIX']\n",
    "\n",
    "\n",
    "tatag_action['ActionNumber'] =  None\n",
    "\n",
    "\n",
    "tatag_action['ActionType'] = 4\n",
    "\n",
    "\n",
    "tatag_action['LineNumber'] = None\n",
    "\n",
    "\n",
    "tatag_action['FromParcelTemp'] =   None\n",
    "\n",
    "\n",
    "tatag_action['FromParcelFinal'] = np.where(tatag_parcel_inprocess['ParcelStatus']=='F',\n",
    "                                           tatag_parcel_inprocess['ParcelNumber'],\n",
    "                                           None)\n",
    "\n",
    "\n",
    "tatag_action['ToBlockNumber'] = None\n",
    "\n",
    "\n",
    "tatag_action['ToSubBlockNumber'] = None\n",
    "\n",
    "\n",
    "tatag_action['ToParcelTemp'] = np.where(tatag_parcel_inprocess['ParcelStatus']=='T',\n",
    "                                        tatag_parcel_inprocess['ParcelNumber'].astype('Int64'),\n",
    "                                        None)\n",
    "\n",
    "\n",
    "tatag_action['ToParcelFinal'] = np.where(tatag_parcel_inprocess['ParcelStatus']=='F',\n",
    "                                           tatag_parcel_inprocess['ParcelNumber'].astype('Int64'),\n",
    "                                            None) # equals to 'FromParcelFinal'"
   ]
  },
  {
   "cell_type": "code",
   "execution_count": null,
   "id": "b52ea406-fcfa-40b3-932d-a893877033dd",
   "metadata": {},
   "outputs": [],
   "source": [
    "tatag_action[['FromParcelFinal', 'ToParcelTemp', 'ToParcelFinal']].replace(0, None, inplace=True);\n",
    "tatag_action = tatag_action.astype('Int64')"
   ]
  },
  {
   "cell_type": "markdown",
   "id": "e6256fa1-81a2-48c5-9aa8-0fdb6293dc09",
   "metadata": {},
   "source": [
    "<h1 style=\"text-align:right;font-size:125%\">\n",
    ":נתוני 97ב\n",
    "<h1 style=\"text-align:right;font-size:100%\"> \n",
    "סינון תיקוני 97ב' לפי סטאטוס 5 ו-6\n",
    "<h1 style=\"text-align:right;font-size:100%\">\n",
    "פיצול תיקוני 97 ב' לרשומות לפי מספר חלקה    \n",
    "<h1 style=\"text-align:right;font-size:100%\">\n",
    "מיון ערכים לפי מספר פניה ומספר חלקה    \n",
    "<h1 style=\"text-align:right;font-size:100%\">    \n",
    "הגדרת ואיכלוס שדות"
   ]
  },
  {
   "cell_type": "code",
   "execution_count": null,
   "id": "cc13b278-4136-46ac-95f5-9dfdbb92d307",
   "metadata": {},
   "outputs": [],
   "source": [
    "tikun_hesder_97b = tikun_hesder_97b[tikun_hesder_97b['CODE_STEP'].isin([5, 6])]"
   ]
  },
  {
   "cell_type": "code",
   "execution_count": null,
   "id": "f3d80ee4-087e-4131-843b-086a860dab17",
   "metadata": {},
   "outputs": [],
   "source": [
    "tikun_hesder_97b = tikun_hesder_97b.assign(PARCELS=tikun_hesder_97b.PARCELS.str.split(',')).explode('PARCELS').reset_index(drop=True)\n",
    "tikun_hesder_97b.sort_values(['MISPAR_PNIA', 'PARCELS'], inplace=True)"
   ]
  },
  {
   "cell_type": "code",
   "execution_count": null,
   "id": "dce23788-942c-457d-97a0-6dcfca2f0639",
   "metadata": {},
   "outputs": [],
   "source": [
    "b97_action = pd.DataFrame(np.empty(0, dtype=new_columns))"
   ]
  },
  {
   "cell_type": "code",
   "execution_count": null,
   "id": "4973d6e8-957f-45e2-96fb-77b14da7406a",
   "metadata": {},
   "outputs": [],
   "source": [
    "b97_action['CPBUniqueID'] = tikun_hesder_97b['MISPAR_PNIA'] + 5000000\n",
    "b97_action = b97_action[b97_action['CPBUniqueID'].isin(CPB_layer['CPBUniqueID'])]\n",
    "\n",
    "\n",
    "b97_action['ProcessType'] = 6\n",
    "\n",
    "\n",
    "b97_action['BlockNumber'] = tikun_hesder_97b['GUSH_NUM'].astype(int)\n",
    "\n",
    "\n",
    "b97_action['SubBlockNumber'] = tikun_hesder_97b['GUSH_SUFFIX'].astype(int)\n",
    "\n",
    "\n",
    "b97_action['ActionNumber'] = None\n",
    "\n",
    "\n",
    "b97_action['ActionType'] = 4\n",
    "\n",
    "\n",
    "b97_action['LineNumber'] = None\n",
    "\n",
    "\n",
    "b97_action['FromParcelTemp'] = None\n",
    "\n",
    "\n",
    "b97_action['FromParcelFinal'] = tikun_hesder_97b['PARCELS']\n",
    "\n",
    "\n",
    "b97_action['ToBlockNumber'] = None\n",
    "\n",
    "\n",
    "b97_action['ToSubBlockNumber'] = None\n",
    "\n",
    "\n",
    "b97_action['ToParcelTemp'] = None\n",
    "\n",
    "\n",
    "b97_action['ToParcelFinal'] = tikun_hesder_97b['PARCELS']"
   ]
  },
  {
   "cell_type": "markdown",
   "id": "adcc3232-9772-4f5f-b9d0-12dba90bf618",
   "metadata": {},
   "source": [
    "<h1 style=\"text-align:right;font-size:125%\">\n",
    ":נתוני פסקי דין\n",
    "<h1 style=\"text-align:right;font-size:100%\">    \n",
    "סינון פסקי דין לפי סטאטוס 1 ו-3\n",
    "<h1 style=\"text-align:right;font-size:100%\">\n",
    "מיזוג פסקי דין עם חלקות של פסקי דין\n",
    "<h1 style=\"text-align:right;font-size:100%\">\n",
    "יצירת טבלה ריקה עם שדות רלוונטיים\n",
    "<h1 style=\"text-align:right;font-size:100%\">\n",
    "הגדרת ואיכלוס שדות"
   ]
  },
  {
   "cell_type": "code",
   "execution_count": null,
   "id": "fe74b96f-8e42-4708-8cb6-992b1b3db0b3",
   "metadata": {},
   "outputs": [],
   "source": [
    "judgements = judgements[judgements['STATUS'].isin([1,3])]"
   ]
  },
  {
   "cell_type": "code",
   "execution_count": null,
   "id": "39b3fc1b-e4af-400e-81db-af3b348539e8",
   "metadata": {},
   "outputs": [],
   "source": [
    "judgements_merge = judgements.merge(judgements_parcels, on='PSAK_DIN_ID', how='left').astype('Int32')\n",
    "judgements_merge.dropna(subset=['TYPE'], inplace=True)\n",
    "judgements_merge.reset_index(inplace=True, drop=True)"
   ]
  },
  {
   "cell_type": "code",
   "execution_count": null,
   "id": "2c65b4d8-949e-4d15-b83e-f04e24fa65fe",
   "metadata": {},
   "outputs": [],
   "source": [
    "judgements_action = pd.DataFrame(np.empty(0, dtype=new_columns))"
   ]
  },
  {
   "cell_type": "code",
   "execution_count": null,
   "id": "08bcbc56-8e6a-4c3c-b899-e1e8c77731f0",
   "metadata": {},
   "outputs": [],
   "source": [
    "judgements_action['FromParcelFinal'] = np.where(judgements_merge['TYPE'] == 0,\n",
    "                                                judgements_merge['PARCEL'],\n",
    "                                                None)\n",
    "\n",
    "\n",
    "judgements_action['ToParcelFinal'] = np.where(judgements_merge['TYPE'] == 1,\n",
    "                                               judgements_merge['PARCEL'],\n",
    "                                               None)\n",
    "\n",
    "\n",
    "judgements_action['CPBUniqueID'] = judgements_merge['PSAK_DIN_ID'] + 4000000\n",
    "judgements_action = judgements_action[judgements_action['CPBUniqueID'].isin(CPB_layer['CPBUniqueID'])]\n",
    "\n",
    "\n",
    "judgements_action['ProcessType'] = 3\n",
    "\n",
    "\n",
    "judgements_action['BlockNumber'] = judgements_merge['GUSH_NUM']\n",
    "\n",
    "\n",
    "judgements_action['SubBlockNumber'] = judgements_merge['GUSH_SUFFIX'].fillna(0)\n",
    "\n",
    "\n",
    "judgements_action['ActionNumber'] = None\n",
    "\n",
    "\n",
    "judgements_action['ActionType'] = 0\n",
    "\n",
    "\n",
    "judgements_action['LineNumber'] = None\n",
    "\n",
    "\n",
    "judgements_action['FromParcelTemp'] = None\n",
    "\n",
    "\n",
    "judgements_action['ToBlockNumber'] = None\n",
    "\n",
    "\n",
    "judgements_action['ToSubBlockNumber'] = None\n",
    "\n",
    "\n",
    "judgements_action['ToParcelTemp'] = None"
   ]
  },
  {
   "cell_type": "markdown",
   "id": "71920a73-97f0-4cb2-ab4f-8fc213bd142d",
   "metadata": {
    "tags": []
   },
   "source": [
    "## איחוד תוצאות"
   ]
  },
  {
   "cell_type": "code",
   "execution_count": null,
   "id": "6a9ef388-cadb-4bb3-877d-9631db28c15c",
   "metadata": {},
   "outputs": [],
   "source": [
    "print('  10.d Defining new Layer')"
   ]
  },
  {
   "cell_type": "markdown",
   "id": "fd2e520d-e4bf-46e0-9365-e36a4864879a",
   "metadata": {},
   "source": [
    "<h1 style=\"text-align:right; font-size:150%; color:#1c6ce6;\"> \n",
    "יצירת שכבה חדשה בהתאם לאפיון ✨\n",
    "<h1 style=\"text-align:right;font-size:100%\">\n",
    "איחוד של 4 טבלאות פעולה לטבלת סדר פעולות אחת"
   ]
  },
  {
   "cell_type": "code",
   "execution_count": null,
   "id": "c243e07d-d5f2-4927-a71d-761656ae2709",
   "metadata": {},
   "outputs": [],
   "source": [
    "SequenceActionsTable = talar_action.append(talar_card)\\\n",
    "                                   .append(tatag_action)\\\n",
    "                                   .append(b97_action)\\\n",
    "                                   .append(judgements_action)"
   ]
  },
  {
   "cell_type": "code",
   "execution_count": null,
   "id": "216701f0-9863-4f80-88d5-1b17afa05083",
   "metadata": {},
   "outputs": [],
   "source": [
    "print('  10.e Exporting results to product folder')"
   ]
  },
  {
   "cell_type": "markdown",
   "id": "d124876b-e1e2-4c6b-878e-0b49a9e8c7a2",
   "metadata": {},
   "source": [
    "<h1 style=\"text-align:right; font-size:150%; color:#1c6ce6;\"> \n",
    "שמירת תוצאות 💾\n",
    "<h1 style=\"text-align:right; font-size:100%;\"> \n",
    "<h1 style=\"text-align:right; font-size:100%;\"> \n",
    "בחירת נתיב\n",
    "<h1 style=\"text-align:right; font-size:100%;\"> \n",
    "שמירה כטבלה"
   ]
  },
  {
   "cell_type": "code",
   "execution_count": null,
   "id": "ddab4145-a1a3-41fa-b59f-11129bd88e69",
   "metadata": {},
   "outputs": [],
   "source": [
    "SequenceActionsTable.to_csv(r'\\\\mapi_shares\\MNCDB\\צוות מידע\\תוצרים\\csv\\SequenceActions.csv', index=False)"
   ]
  },
  {
   "cell_type": "code",
   "execution_count": null,
   "id": "e3dd5268-f9ec-4671-bf31-5664a22a9f82",
   "metadata": {},
   "outputs": [],
   "source": [
    "subprocess.call([r\"M:\\ncdbScripts\\scripts\\arcpyPro\\SequenceActions-Save as DB Table.bat\"]);"
   ]
  }
 ],
 "metadata": {
  "kernelspec": {
   "display_name": "Python 3",
   "language": "python",
   "name": "python3"
  },
  "language_info": {
   "codemirror_mode": {
    "name": "ipython",
    "version": 3
   },
   "file_extension": ".py",
   "mimetype": "text/x-python",
   "name": "python",
   "nbconvert_exporter": "python",
   "pygments_lexer": "ipython3",
   "version": "3.9.4"
  },
  "toc-autonumbering": false,
  "toc-showcode": false,
  "toc-showmarkdowntxt": false,
  "toc-showtags": true
 },
 "nbformat": 4,
 "nbformat_minor": 5
}
