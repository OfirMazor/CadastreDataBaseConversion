{
 "cells": [
  {
   "cell_type": "markdown",
   "id": "4989df7e-5d34-4152-9669-ca309fb69ec0",
   "metadata": {},
   "source": [
    "<h1 style=\"background-color:black;font-family:segoe ui;color:#FFF9ED;font-size:300%;text-align:center;border-radius:10px 10px;\"> \n",
    "🌐 הסבת גושים (מוסדרים/לא מוסדרים) לבנק\"ל מודרני 🌐"
   ]
  },
  {
   "cell_type": "code",
   "execution_count": null,
   "id": "692c4398-e122-4ea5-bd25-4eb13bba9cd9",
   "metadata": {},
   "outputs": [],
   "source": [
    "print('1. Blocks Borders:')"
   ]
  },
  {
   "cell_type": "markdown",
   "id": "42c10adb-8e2f-492f-83fb-cbf3c199882e",
   "metadata": {},
   "source": [
    "<h1 style=\"text-align:right; font-size:150%; color:#1c6ce6;\">\n",
    "ספריות 📚"
   ]
  },
  {
   "cell_type": "code",
   "execution_count": null,
   "id": "11194afb-04a1-47ac-8803-867948bc614d",
   "metadata": {},
   "outputs": [],
   "source": [
    "import warnings\n",
    "warnings.filterwarnings('ignore')\n",
    "\n",
    "import numpy as np\n",
    "import pandas as pd\n",
    "import geopandas as gpd\n",
    "import subprocess"
   ]
  },
  {
   "cell_type": "markdown",
   "id": "3c73379b-202a-4193-be77-bde3345b337a",
   "metadata": {},
   "source": [
    "<h1 style=\"text-align:right; font-size:150%; color:#1c6ce6;\">קריאת נתונים 📑 "
   ]
  },
  {
   "cell_type": "code",
   "execution_count": null,
   "id": "6c4e2e42-aabd-4bfe-bc49-bc9b0bff65e4",
   "metadata": {},
   "outputs": [],
   "source": [
    "print('  1.a Reading inputs')"
   ]
  },
  {
   "cell_type": "code",
   "execution_count": null,
   "id": "bcba1713-0b86-4822-81b6-4fb584d52350",
   "metadata": {},
   "outputs": [],
   "source": [
    "RawData_folder = r'\\\\mapi_shares\\MNCDB\\צוות מידע\\RawData/'"
   ]
  },
  {
   "cell_type": "markdown",
   "id": "171ba370-0334-45f0-a795-fc23189e6a0b",
   "metadata": {},
   "source": [
    "<h1 style=\"text-align:right;font-size:100%\">\n",
    "טבלת גושים מאורקל"
   ]
  },
  {
   "cell_type": "code",
   "execution_count": null,
   "id": "d5cc2a03-8f6b-4437-9bbb-d4ab658e2a2a",
   "metadata": {},
   "outputs": [],
   "source": [
    "SubGush_table_cols = ['SUB_GUSH_ID', 'GUSH_NUM', 'GUSH_SUFFIX', 'STATUS', 'STATUS_DATE', 'HESDER_LAST_PARCEL']\n",
    "SubGush_table = pd.read_csv(RawData_folder + 'Oracle\\sub_gush.csv', usecols = SubGush_table_cols, encoding = 'cp1255')"
   ]
  },
  {
   "cell_type": "markdown",
   "id": "d4d0fb76-fa1c-4849-9715-03b81b4fc3e8",
   "metadata": {},
   "source": [
    "<h1 style=\"text-align:right;font-size:100%\">\n",
    "נתוני שכבת גושים"
   ]
  },
  {
   "cell_type": "code",
   "execution_count": null,
   "id": "992071aa-0cda-4f39-b468-458df87050d6",
   "metadata": {},
   "outputs": [],
   "source": [
    "SubGush_layer_cols = ['SUB_GUSH_ID_1', 'GUSH_NUM', 'GUSH_SUFFIX', 'geometry']\n",
    "SubGush_layer = gpd.read_file(RawData_folder + 'ArcStorm\\SUB_GUSH_ALL.gdb', layer = 'SUB_GUSH_ALL', include_fields = SubGush_layer_cols)\n",
    "SubGush_layer.rename(columns = {'SUB_GUSH_ID_1' : 'SUB_GUSH_ID'}, inplace = True)"
   ]
  },
  {
   "cell_type": "markdown",
   "id": "b1337dfb-2735-4448-ae73-49344bcc3486",
   "metadata": {},
   "source": [
    "<h1 style=\"text-align:right;font-size:100%\">\n",
    "שכבת מפתח גליונות גושים"
   ]
  },
  {
   "cell_type": "code",
   "execution_count": null,
   "id": "b9036182-951d-4dc1-ad00-64d03bf644e1",
   "metadata": {},
   "outputs": [],
   "source": [
    "SheetKey_cols = ['GUSH_NUM', 'GUSH_SUFFIX', 'geometry']\n",
    "SheetKey = gpd.read_file(RawData_folder + 'ArcStorm\\SHEET_K.gdb', layer = 'SHEET_K', include_fields = SheetKey_cols)\n",
    "SheetKey.rename(columns = {'geometry' : 'Sheet_geometry'}, inplace = True)"
   ]
  },
  {
   "cell_type": "markdown",
   "id": "7d79d606-d6ea-4b38-a9f2-87ecb72938f3",
   "metadata": {},
   "source": [
    "<h1 style=\"text-align:right;font-size:100%\">\n",
    "טבלת חלקות אחרונות בגושים מאורקל"
   ]
  },
  {
   "cell_type": "code",
   "execution_count": null,
   "id": "7497f9d3-4400-4242-8b10-46f6e1d713df",
   "metadata": {},
   "outputs": [],
   "source": [
    "SubMMG_cols = ['SUB_GUSH_ID', 'LAST_PARCEL', 'MMG_LAST_PARCEL', 'COURT_LAST_PARCEL', 'FINAL_CONFIRMATION_DATE']\n",
    "SubMMG = pd.read_csv(RawData_folder + 'Oracle\\sub_gush_mmg.csv', usecols = SubMMG_cols, encoding = 'cp1255')"
   ]
  },
  {
   "cell_type": "code",
   "execution_count": null,
   "id": "34f83395-90d2-4519-ae5e-12727609b670",
   "metadata": {},
   "outputs": [],
   "source": [
    "del [RawData_folder, SubGush_layer_cols, SubGush_table_cols, SheetKey_cols, SubMMG_cols]"
   ]
  },
  {
   "cell_type": "markdown",
   "id": "daa70a7f-4205-4099-aff0-6264172ccba0",
   "metadata": {},
   "source": [
    "<h1 style=\"text-align:right; font-size:150%; color:#1c6ce6;\">\n",
    "עיבוד נתונים 🛠️"
   ]
  },
  {
   "cell_type": "code",
   "execution_count": null,
   "id": "a6791791-1ea7-4951-9611-b27f0e4b57a0",
   "metadata": {},
   "outputs": [],
   "source": [
    "print('  1.b Cleaning data')"
   ]
  },
  {
   "cell_type": "markdown",
   "id": "4e6dd8c5-5b7c-4139-81c9-0239fc38b195",
   "metadata": {},
   "source": [
    "<h1 style=\"text-align:right;font-size:100%\">\n",
    "הסרת גושים מכל מקורות המידע שמספר הגוש שלהם הוא 0 או ריק"
   ]
  },
  {
   "cell_type": "code",
   "execution_count": null,
   "id": "9ed7215c-7ecd-4e15-b29c-42ceb7dd4b75",
   "metadata": {},
   "outputs": [],
   "source": [
    "SubGush_layer = SubGush_layer[(SubGush_layer['GUSH_NUM'] != 0) | (~SubGush_layer['GUSH_NUM'].isna())]\n",
    "SubGush_table = SubGush_table[(SubGush_table['GUSH_NUM'] != 0) | (~SubGush_table['GUSH_NUM'].isna())]\n",
    "SheetKey      = SheetKey     [(SheetKey['GUSH_NUM'] != 0)      | (~SheetKey['GUSH_NUM'].isna())]"
   ]
  },
  {
   "cell_type": "markdown",
   "id": "85189258-5827-474b-ad4e-4b21075abb76",
   "metadata": {},
   "source": [
    "<h1 style=\"text-align:right;font-size:100%\">\n",
    "מילוי ערכים ריקים של שדה תת-גוש בערך 0 לכל מקורות המידע"
   ]
  },
  {
   "cell_type": "code",
   "execution_count": null,
   "id": "24984a93-2e46-4f71-8657-4c20e649ee84",
   "metadata": {},
   "outputs": [],
   "source": [
    "SubGush_layer['GUSH_SUFFIX'] = SubGush_layer['GUSH_SUFFIX'].fillna(0)\n",
    "SubGush_table['GUSH_SUFFIX'] = SubGush_table['GUSH_SUFFIX'].fillna(0)\n",
    "SheetKey['GUSH_SUFFIX']      = SheetKey['GUSH_SUFFIX'].fillna(0)"
   ]
  },
  {
   "cell_type": "markdown",
   "id": "950c5ed2-312c-4f7d-8591-f62c9009676f",
   "metadata": {},
   "source": [
    "<h1 style=\"text-align:right;font-size:100%\">\n",
    "הסרת סטאטוסים לא ידועים מטבלת גושים באורקל "
   ]
  },
  {
   "cell_type": "code",
   "execution_count": null,
   "id": "0a9512f2-2bc1-4719-8537-d714afc744fd",
   "metadata": {},
   "outputs": [],
   "source": [
    "SubGush_table = SubGush_table[~SubGush_table['STATUS'].isin([0, 99, None, np.nan])]"
   ]
  },
  {
   "cell_type": "markdown",
   "id": "12a16860-7e6a-47bd-a6bf-25f11d067f09",
   "metadata": {},
   "source": [
    "<h1 style=\"text-align:right;font-size:100%\">\n",
    "הגדרות שדות של תאריכים לסוג תאריך"
   ]
  },
  {
   "cell_type": "code",
   "execution_count": null,
   "id": "07a9dbeb-9d2d-41bc-8711-3a37e4764b39",
   "metadata": {},
   "outputs": [],
   "source": [
    "SubGush_table['STATUS_DATE']      = pd.to_datetime(SubGush_table['STATUS_DATE'], errors = 'coerce')\n",
    "SubMMG['FINAL_CONFIRMATION_DATE'] = pd.to_datetime(SubMMG['FINAL_CONFIRMATION_DATE'], errors = 'coerce')"
   ]
  },
  {
   "cell_type": "markdown",
   "id": "6ce727f7-4844-489c-93dc-78b7bce50a0a",
   "metadata": {},
   "source": [
    "<h1 style=\"text-align:right;font-size:100%\">\n",
    "יצירת שדה מקשר של שם גוש מלא לכל מקורות המידע על מנת להוציא גושים משכבת מפתח גליונות שכבר נמצאים בשכבת גושים"
   ]
  },
  {
   "cell_type": "code",
   "execution_count": null,
   "id": "e38374b5-7436-44d4-8933-10d2518001e4",
   "metadata": {},
   "outputs": [],
   "source": [
    "SubGush_table[['GUSH_NUM', 'GUSH_SUFFIX']] = SubGush_table[['GUSH_NUM', 'GUSH_SUFFIX']].astype(int)\n",
    "SubGush_layer[['GUSH_NUM', 'GUSH_SUFFIX']] = SubGush_layer[['GUSH_NUM', 'GUSH_SUFFIX']].astype(int)\n",
    "SheetKey[['GUSH_NUM', 'GUSH_SUFFIX']] = SheetKey[['GUSH_NUM', 'GUSH_SUFFIX']].astype(int)\n",
    "\n",
    "SheetKey['BlockName'] = SheetKey['GUSH_NUM'].astype(str) + '-' + SheetKey['GUSH_SUFFIX'].astype(str)\n",
    "SubGush_layer['BlockName'] = SubGush_layer['GUSH_NUM'].astype(str) + '-' + SubGush_layer['GUSH_SUFFIX'].astype(str)\n",
    "\n",
    "SheetKey = SheetKey[~SheetKey['BlockName'].isin(SubGush_layer['BlockName'])]\n",
    "\n",
    "SheetKey.drop(columns = 'BlockName', inplace = True)\n",
    "SubGush_layer.drop(columns = 'BlockName', inplace = True)"
   ]
  },
  {
   "cell_type": "code",
   "execution_count": null,
   "id": "5a16d08d-de90-42e2-84be-d4d977e14f99",
   "metadata": {},
   "outputs": [],
   "source": [
    "print('  1.c Data conversion')"
   ]
  },
  {
   "cell_type": "markdown",
   "id": "2d54c7c5-7483-43ca-a54c-18111f3515dc",
   "metadata": {},
   "source": [
    "<h1 style=\"text-align:right;font-size:100%\">\n",
    "מיזוג כל הנתונים\n",
    "<h1 style=\"text-align:right;font-size:75%\">\n",
    "(ישנם מספרי מזהה של גושים בטבלת גושים של אורקל שלא קיים להם מידע במקורות אחרים, גושים אלו יושמטו באיחוד"
   ]
  },
  {
   "cell_type": "code",
   "execution_count": null,
   "id": "1d4512db-4e6c-4367-90f0-efbae8dda3ab",
   "metadata": {},
   "outputs": [],
   "source": [
    "Blocks_all = SubGush_table.merge(right = SubGush_layer, on = ['SUB_GUSH_ID' , 'GUSH_NUM', 'GUSH_SUFFIX'], how = 'left')\\\n",
    "                          .merge(right = SheetKey, on = ['GUSH_NUM', 'GUSH_SUFFIX'], how = 'left')\\\n",
    "                          .merge(right = SubMMG, on = 'SUB_GUSH_ID', how = 'left')\n",
    "\n",
    "del [SubGush_table, SubMMG, SheetKey]"
   ]
  },
  {
   "cell_type": "markdown",
   "id": "155d91cd-4ae1-4565-9016-56181498d939",
   "metadata": {},
   "source": [
    "<h1 style=\"text-align:right;font-size:100%\">\n",
    "מילוי ערכי ריקים של שדה גיאומטריה בעזרת גיאומטריה שמגיעה ממפתח גליונות\n",
    "<h1 style=\"text-align:right;font-size:100%\">\n",
    "קיבוץ מרחבי לפי שדה של מספר מזהה לגוש בכדי למנוע יישויות גושים מפוצלים (מולטי-פארטס)"
   ]
  },
  {
   "cell_type": "code",
   "execution_count": null,
   "id": "83597e62-f1fb-4222-b30b-6cfe484e71b2",
   "metadata": {},
   "outputs": [],
   "source": [
    "Blocks_all['geometry'] = np.where(Blocks_all['geometry'].isna(),\n",
    "                                  Blocks_all['Sheet_geometry'],\n",
    "                                  Blocks_all['geometry'])\n",
    "\n",
    "Blocks_all.drop(columns = ['Sheet_geometry'], inplace = True)\n",
    "\n",
    "Blocks_all = gpd.GeoDataFrame(data = Blocks_all, geometry = 'geometry', crs = 2039)\n",
    "Blocks_all = Blocks_all.dissolve(by = 'SUB_GUSH_ID', as_index = False, dropna = False)"
   ]
  },
  {
   "cell_type": "markdown",
   "id": "70822d4c-a281-4a57-af36-295369024b8f",
   "metadata": {},
   "source": [
    "<h1 style=\"text-align:right;font-size:100%\">\n",
    "STATUS הגדרת שדה סטאטוס חדש לגוש בעזרת מיפוי ערכי שדה"
   ]
  },
  {
   "cell_type": "code",
   "execution_count": null,
   "id": "012e76e6-cf56-418b-add8-ae9ed1ff1204",
   "metadata": {
    "tags": []
   },
   "outputs": [],
   "source": [
    "Status_classifier = {\n",
    "                     1  : 11,  #חדש רשום = נוצר בהסדר\n",
    "                     3  : 11,  #לא רשום = נוצר בהסדר\n",
    "                     4  : 21,  # לא מוסדר = לא מוסדר\n",
    "                     5  : 41,  # מבוטל =  מוסדר מבוטל\n",
    "                     6  : 11,  # מוסדר = נוצר בהסדר\n",
    "                     7  : 22,  # בהסדר = בהסדר חלוקה\n",
    "                     9  : 27,  # רישום ראשון = רישום ראשון\n",
    "                     10 : 22,  # חלוקה = בהסדר חלוקה\n",
    "                     11 : 23,  # מוקדמת = בהסדר מוקדמת\n",
    "                     13 : 24,  # ארעית = בהסדר ארעית\n",
    "                     15 : 25,  # סופית = בהסדר סופית\n",
    "                     16 : 11,  # ירדני = נוצר  בהסדר\n",
    "                     17 : 22,  # ירדני בהסדר = בהסדר חלוקה\n",
    "                     18 : 28,  # רישום בשטח לא מוסדר = רישום בשטח לא מוסדר\n",
    "                     51 : 41,  # חדש מבוטל = מוסדר מבוטל\n",
    "                     56 : 42,  # הסדר מבוטל = בהסדר מבוטל\n",
    "                     57 : 42,  # מתבטל הסדר = בהסדר מבוטל\n",
    "                     58 : 45,  # גוש בשטח לא מוסדר - מבוטל = רישום בשטח לא מוסדר מבוטל\n",
    "                     None : 26 # ללא ערך = הסדר בהקפאה\n",
    "                    }\n",
    "\n",
    "Blocks_all['BlockStatus'] = Blocks_all['STATUS'].map(Status_classifier)\n",
    "Blocks_all['BlockStatus'] = Blocks_all['BlockStatus'].astype(int)\n",
    "\n",
    "del Status_classifier"
   ]
  },
  {
   "cell_type": "markdown",
   "id": "c968cd5e-feaa-4e3d-9c1a-96ed028ca3f7",
   "metadata": {},
   "source": [
    "<h1 style=\"text-align:right;font-size:100%\">\n",
    "STATUS הגדרת שדה סוג מקרקעין  לגוש בעזרת מיפוי ערכי שדה"
   ]
  },
  {
   "cell_type": "code",
   "execution_count": null,
   "id": "e79c1fcf-598f-4f1f-a851-8036748f2c52",
   "metadata": {
    "tags": []
   },
   "outputs": [],
   "source": [
    "registered_LandTypes   = [1, 3, 6, 16] # [חדש רשום, לא רשום, מוסדר, ירדני]\n",
    "\n",
    "register_code   = 1\n",
    "unregister_code = 2\n",
    "\n",
    "LandType_cond   = [Blocks_all['STATUS'].isin(registered_LandTypes), ~Blocks_all['STATUS'].isin(registered_LandTypes)]\n",
    "LandType_choise = [register_code, unregister_code]\n",
    "\n",
    "Blocks_all['LandType'] = np.select(condlist   = LandType_cond,\n",
    "                                   choicelist = LandType_choise,\n",
    "                                   default    = unregister_code)\n",
    "\n",
    "del [registered_LandTypes, register_code, unregister_code]"
   ]
  },
  {
   "cell_type": "markdown",
   "id": "bf35a1e9-44d2-4cc4-9408-d48e394d5c21",
   "metadata": {},
   "source": [
    "<h1 style=\"text-align:right;font-size:100%\">\n",
    "STATUS הגדרת שדה בינארי לגוש ירדני בעזרת מיפוי ערך 16 בשדה"
   ]
  },
  {
   "cell_type": "code",
   "execution_count": null,
   "id": "91a883e0-1ae1-4988-b5ed-b7934df7ad77",
   "metadata": {},
   "outputs": [],
   "source": [
    "IsJordanian_code    = 1\n",
    "IsNotJordanian_code = 0\n",
    "\n",
    "Blocks_all['IsJordanian'] = np.where(Blocks_all['STATUS'] == 16, IsJordanian_code, IsNotJordanian_code)\n",
    "\n",
    "del [IsJordanian_code, IsNotJordanian_code]"
   ]
  },
  {
   "cell_type": "code",
   "execution_count": null,
   "id": "1501d68b-f5af-41f3-843c-1ed807acfc7d",
   "metadata": {},
   "outputs": [],
   "source": [
    "Blocks_all.drop(columns = 'STATUS', inplace = True)"
   ]
  },
  {
   "cell_type": "markdown",
   "id": "80f0d210-bf36-4830-aa58-406d13bcd044",
   "metadata": {
    "tags": []
   },
   "source": [
    "<h1 style=\"text-align:right; font-size:150%; color:#1c6ce6;\"> \n",
    "יצירת שכבה חדשה בהתאם לאפיון ✨"
   ]
  },
  {
   "cell_type": "code",
   "execution_count": null,
   "id": "d95121ac-fe7a-4ccb-85d5-0c0a60782c52",
   "metadata": {},
   "outputs": [],
   "source": [
    "print('  1.d Defining new Layer')"
   ]
  },
  {
   "cell_type": "code",
   "execution_count": null,
   "id": "2658229c-106a-4e31-aca3-a7f0c0a80c13",
   "metadata": {},
   "outputs": [],
   "source": [
    "Blocks_all.STATUS_DATE.dtype"
   ]
  },
  {
   "cell_type": "code",
   "execution_count": null,
   "id": "23d01a08-0026-40b1-ade6-001de9f5d3a3",
   "metadata": {},
   "outputs": [],
   "source": [
    "new_columns = np.dtype([\n",
    "                        (\"BlockUniqueID\", int),\n",
    "                        ('BlockNumber', int),\n",
    "                        (\"SubBlockNumber\", int),\n",
    "                        (\"BlockStatus\", int),\n",
    "                        (\"IsJordanian\", int),\n",
    "                        (\"LandType\", int),\n",
    "                        (\"SetteledDate\", 'datetime64[D]'),\n",
    "                        (\"UpdateDate\", 'datetime64[D]'),\n",
    "                        (\"LastRegisterdParcel\", int),\n",
    "                        (\"LastParcel\", int),\n",
    "                        (\"LastSetteledParcel\", int),\n",
    "                        (\"LastCourtParcel\", int)\n",
    "                        ])\n",
    "\n",
    "\n",
    "Blocks = pd.DataFrame(np.empty(0, dtype = new_columns))"
   ]
  },
  {
   "cell_type": "markdown",
   "id": "090b3dfd-5ab8-483d-aa63-072d83fda65f",
   "metadata": {},
   "source": [
    "<h1 style=\"text-align:right;font-size:100%\">\n",
    "איכלוס שדות לגושים מוסדרים ולא מוסדרים"
   ]
  },
  {
   "cell_type": "code",
   "execution_count": null,
   "id": "5012c531-5af7-450d-adf0-85407c979514",
   "metadata": {},
   "outputs": [],
   "source": [
    "Blocks['BlockUniqueID'] = Blocks_all['SUB_GUSH_ID'].astype(int)\n",
    "\n",
    "\n",
    "Blocks['BlockNumber'] = Blocks_all['GUSH_NUM'].astype(int)\n",
    "\n",
    "\n",
    "Blocks['SubBlockNumber'] = Blocks_all['GUSH_SUFFIX'].fillna(0)\n",
    "Blocks['SubBlockNumber'] = Blocks['SubBlockNumber'].astype(int)\n",
    "\n",
    "\n",
    "Blocks['BlockStatus'] = Blocks_all['BlockStatus'].astype(int)\n",
    "\n",
    "\n",
    "Blocks['IsJordanian'] = Blocks_all['IsJordanian'].astype(int)\n",
    "\n",
    "\n",
    "Blocks['LandType'] = Blocks_all['LandType'].astype(int)\n",
    "\n",
    "\n",
    "Blocks['SetteledDate'] = Blocks_all['STATUS_DATE'].astype('datetime64[D]')\n",
    "\n",
    "\n",
    "Blocks['UpdateDate'] = Blocks_all['FINAL_CONFIRMATION_DATE'].astype('datetime64[D]')\n",
    "\n",
    "\n",
    "Blocks['LastRegisterdParcel'] = Blocks_all['LAST_PARCEL'].astype('Int64')\n",
    "\n",
    "\n",
    "Blocks['LastParcel'] = Blocks_all['MMG_LAST_PARCEL'].astype('Int64')\n",
    "\n",
    "\n",
    "Blocks['LastSetteledParcel'] = Blocks_all['HESDER_LAST_PARCEL'].astype('Int64')\n",
    "\n",
    "\n",
    "Blocks['LastCourtParcel'] = Blocks_all['COURT_LAST_PARCEL'].astype('Int64')\n",
    "\n",
    "\n",
    "Blocks['geometry'] = Blocks_all['geometry']"
   ]
  },
  {
   "cell_type": "markdown",
   "id": "05204c0e-b5ab-4aee-a287-b8a700c92cb8",
   "metadata": {},
   "source": [
    "<h1 style=\"text-align:right;font-size:100%\">    \n",
    "מיון הטבלה לפי מספר מזהה גוש"
   ]
  },
  {
   "cell_type": "code",
   "execution_count": null,
   "id": "10b2bdb6-246a-4f1d-8c63-95c094c979ff",
   "metadata": {},
   "outputs": [],
   "source": [
    "Blocks.sort_values('BlockUniqueID', inplace = True)\n",
    "\n",
    "del Blocks_all"
   ]
  },
  {
   "cell_type": "markdown",
   "id": "cb60129f-8ad7-4737-918e-11c87d972025",
   "metadata": {},
   "source": [
    "<h1 style=\"text-align:right; font-size:150%; color:#1c6ce6;\"> \n",
    "שמירת תוצאות לגושים מוסדרים/לא מוסדרים 💾\n",
    "<h1 style=\"text-align:right; font-size:100%;\"> \n",
    "<h1 style=\"text-align:right; font-size:100%;\">     \n",
    "פיצול התוצאות לפי יישויות בעלי גיאומטריה וללא גיאומטריה    \n",
    "<h1 style=\"text-align:right; font-size:100%;\"> \n",
    "בחירת נתיב\n",
    "<h1 style=\"text-align:right; font-size:100%;\"> \n",
    "שמירה כטבלה\n",
    "<h1 style=\"text-align:right; font-size:100%;\"> \n",
    "שמירה כשכבה גיאוגרפית"
   ]
  },
  {
   "cell_type": "code",
   "execution_count": null,
   "id": "3f96c8a1-737b-442b-a3a2-69ecefa52b0b",
   "metadata": {},
   "outputs": [],
   "source": [
    "print('  1.e Exporting results to product folder')"
   ]
  },
  {
   "cell_type": "code",
   "execution_count": null,
   "id": "438fc7d3-7303-4aa4-ba07-c3546fd545e1",
   "metadata": {},
   "outputs": [],
   "source": [
    "Blocks_geom = gpd.GeoDataFrame(Blocks[~Blocks['geometry'].isna()],\n",
    "                               geometry = 'geometry',\n",
    "                               crs = 2039)\n",
    "\n",
    "Blocks_no_geom = Blocks[Blocks['geometry'].isna()]"
   ]
  },
  {
   "cell_type": "code",
   "execution_count": null,
   "id": "fba95cba-d858-4863-9167-1ac20eb6ae83",
   "metadata": {
    "tags": []
   },
   "outputs": [],
   "source": [
    "no_geom_csv_dir = r'\\\\mapi_shares\\MNCDB\\צוות מידע\\תוצרים\\csv\\Blocks_no_geom.csv'\n",
    "json_dir        = r'\\\\mapi_shares\\MNCDB\\צוות מידע\\תוצרים\\json\\Blocks_geom.geojson'\n",
    "\n",
    "\n",
    "Blocks_no_geom.drop(columns = 'geometry').to_csv(no_geom_csv_dir , index = False)\n",
    "Blocks_geom.to_file(json_dir, driver = 'GeoJSON')"
   ]
  },
  {
   "cell_type": "code",
   "execution_count": null,
   "id": "58ae789a-6a4e-4d05-8ad1-2872006f93ec",
   "metadata": {},
   "outputs": [],
   "source": [
    "subprocess.call([r\"M:\\ncdbScripts\\scripts\\arcpyPro\\Blocks-Save as Feature Class.bat\"]);"
   ]
  }
 ],
 "metadata": {
  "kernelspec": {
   "display_name": "Python 3",
   "language": "python",
   "name": "python3"
  },
  "language_info": {
   "codemirror_mode": {
    "name": "ipython",
    "version": 3
   },
   "file_extension": ".py",
   "mimetype": "text/x-python",
   "name": "python",
   "nbconvert_exporter": "python",
   "pygments_lexer": "ipython3",
   "version": "3.9.4"
  }
 },
 "nbformat": 4,
 "nbformat_minor": 5
}
