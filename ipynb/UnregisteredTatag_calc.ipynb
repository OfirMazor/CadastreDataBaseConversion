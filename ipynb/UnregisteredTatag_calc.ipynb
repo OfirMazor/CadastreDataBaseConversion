{
 "cells": [
  {
   "cell_type": "markdown",
   "id": "c6439b15-3449-4c0e-a683-b447687478d0",
   "metadata": {},
   "source": [
    "<h1 style=\"background-color:#239B56;\n",
    "           font-family:segoe ui;\n",
    "                color:#FFF9ED;\n",
    "           font-size:300%;\n",
    "           text-align:center;\n",
    "           border-radius:10px 10px;\"> \n",
    "תהליך הסבת שכבת תשריטי תיעוד גבולות🗺️\n",
    "    <h1 style=\"background-color:#239B56;\n",
    "           font-family:segoe ui;\n",
    "                color:#FFF9ED;\n",
    "           font-size:300%;\n",
    "           text-align:center;\n",
    "           border-radius:10px 10px;\"> \n",
    "🗺️בשטח לא מוסדר לבנק\"ל מודרני  "
   ]
  },
  {
   "cell_type": "code",
   "execution_count": null,
   "id": "91f731da-e547-4b73-b9cd-b255931c9ff2",
   "metadata": {},
   "outputs": [],
   "source": [
    "print('17. Unregistered Tatag borders:')"
   ]
  },
  {
   "cell_type": "markdown",
   "id": "e0ad268a-bf97-476c-8d33-0f48d7a3c49a",
   "metadata": {},
   "source": [
    "<h1 style=\"text-align:right; font-size:150%; color:#1c6ce6;\">\n",
    "ספריות 📚"
   ]
  },
  {
   "cell_type": "code",
   "execution_count": null,
   "id": "77ca15fc-5cfb-4362-a142-d6c26fbd1ee2",
   "metadata": {},
   "outputs": [],
   "source": [
    "import warnings\n",
    "warnings.filterwarnings('ignore')\n",
    "\n",
    "import numpy as np\n",
    "import pandas as pd\n",
    "import geopandas as gpd\n",
    "import datetime as dt\n",
    "import subprocess"
   ]
  },
  {
   "cell_type": "markdown",
   "id": "33802549-c14f-478d-bb32-c24206f2c7db",
   "metadata": {},
   "source": [
    "<h1 style=\"text-align:right; font-size:150%; color:#1c6ce6;\">קריאת נתונים 📑 "
   ]
  },
  {
   "cell_type": "code",
   "execution_count": null,
   "id": "45ce1c59-fded-423b-9fc0-c11d14b78a87",
   "metadata": {},
   "outputs": [],
   "source": [
    "print('  17.a Reading inputs')"
   ]
  },
  {
   "cell_type": "code",
   "execution_count": null,
   "id": "34f36e2b-c1cd-4829-b28e-a5f59ec86c2d",
   "metadata": {},
   "outputs": [],
   "source": [
    "RawData_folder = r'\\\\mapi_shares\\MNCDB\\צוות מידע\\RawData'"
   ]
  },
  {
   "cell_type": "code",
   "execution_count": null,
   "id": "ddacb94e-3ac3-48e2-a81a-d26fbb832a7a",
   "metadata": {},
   "outputs": [],
   "source": [
    "today = dt.date.today()\n",
    "date_name =  str(today.year) + str(today.month) + str(today.day) + '_ncdb.gdb'\n",
    "product_path = r'\\\\mapi_shares\\MNCDB\\צוות מידע\\תוצרים/' + date_name\n",
    "\n",
    "del [today, date_name]"
   ]
  },
  {
   "cell_type": "markdown",
   "id": "fb61731c-df36-4b15-81ee-a55de2080518",
   "metadata": {},
   "source": [
    "<h1 style=\"text-align:right;font-size:100%\">\n",
    "שכבה מקומית של גבולות תת\"ג בשטח לא מוסדר"
   ]
  },
  {
   "cell_type": "code",
   "execution_count": null,
   "id": "6342a95d-a0e4-42e4-a7bf-70fc899b9723",
   "metadata": {},
   "outputs": [],
   "source": [
    "unreg_tatag_borders_cols = ['DocName', 'geometry']\n",
    "\n",
    "unreg_tatag_borders = gpd.read_file(RawData_folder + '\\\\Local\\\\UnregisterdTatag.gdb',\n",
    "                                    layer = 'UnregisterdTatagBorders',\n",
    "                                    include_fields = unreg_tatag_borders_cols).set_crs(2039)\n",
    "\n",
    "del unreg_tatag_borders_cols"
   ]
  },
  {
   "cell_type": "markdown",
   "id": "8a2fe363-57e0-493f-b35d-6ff36f129e56",
   "metadata": {},
   "source": [
    "<h1 style=\"text-align:right;font-size:100%\">\n",
    "טבלה מקומית של גבולות תת\"ג בשטח לא מוסדר"
   ]
  },
  {
   "cell_type": "code",
   "execution_count": null,
   "id": "a47ba732-dccf-4d3f-a4ee-73894495f7c3",
   "metadata": {},
   "outputs": [],
   "source": [
    "unreg_tatag_data_cols = ['DocName', 'SURVEY_DATE', 'SURVEYOR', 'GUSH_NUM']\n",
    "\n",
    "unreg_tatag_data = gpd.read_file(RawData_folder + '\\\\Local\\\\UnregisterdTatag.gdb',\n",
    "                                 layer = 'UnregisterdTatagData',\n",
    "                                 include_fields  = unreg_tatag_data_cols,\n",
    "                                 ignore_geometry = True)\n",
    "\n",
    "del unreg_tatag_data_cols"
   ]
  },
  {
   "cell_type": "markdown",
   "id": "e5d3c3b0-7166-4bad-82e7-619e00dcef7a",
   "metadata": {},
   "source": [
    "<h1 style=\"text-align:right;font-size:100%\">\n",
    "שכבת גבולות גושי קדסטר מודרניים"
   ]
  },
  {
   "cell_type": "code",
   "execution_count": null,
   "id": "3bcb4f65-7e4c-4dc5-ba1e-f1a7014640cc",
   "metadata": {},
   "outputs": [],
   "source": [
    "Blocks_cols = ['BlockNumber', 'BlockUniqueID']\n",
    "\n",
    "Blocks = gpd.read_file(product_path,\n",
    "                       layer = 'Blocks',\n",
    "                       include_fields = Blocks_cols,\n",
    "                       ignore_geometry = True)\n",
    "\n",
    "Blocks = Blocks.astype(int)\n",
    "\n",
    "\n",
    "del[Blocks_cols, RawData_folder, product_path]"
   ]
  },
  {
   "cell_type": "markdown",
   "id": "307dbee5-6e8d-4ac6-8e05-91fbf5b27870",
   "metadata": {},
   "source": [
    "<h1 style=\"text-align:right; font-size:150%; color:#1c6ce6;\">\n",
    "עיבוד נתונים 🛠️"
   ]
  },
  {
   "cell_type": "code",
   "execution_count": null,
   "id": "230f6d87-9fd2-4330-965b-73145c0380bf",
   "metadata": {},
   "outputs": [],
   "source": [
    "print('  17.b Cleaning data')"
   ]
  },
  {
   "cell_type": "markdown",
   "id": "9eff2971-40d6-451e-a361-6f8e8cdb26b7",
   "metadata": {},
   "source": [
    "<h1 style=\"text-align:right;font-size:100%\">\n",
    ":שכבת הגבולות\n",
    "<h1 style=\"text-align:right;font-size:100%\">\n",
    "יצירת שדה של שם התהליך (מספר מלבן)-"
   ]
  },
  {
   "cell_type": "code",
   "execution_count": null,
   "id": "33d8c51c-49a0-498f-aa51-e117572bd9a8",
   "metadata": {},
   "outputs": [],
   "source": [
    "unreg_tatag_borders[['ProcessName', 'dwg']] = unreg_tatag_borders['DocName'].str.split('.', expand=True)\n",
    "\n",
    "unreg_tatag_borders['ProcessName'] = unreg_tatag_borders['ProcessName'].str.replace('-', '/')\n",
    "\n",
    "unreg_tatag_borders.drop(columns=['DocName', 'dwg'], inplace=True)"
   ]
  },
  {
   "cell_type": "markdown",
   "id": "44d9e7ec-3168-469d-bbee-2154314101b2",
   "metadata": {},
   "source": [
    "<h1 style=\"text-align:right;font-size:100%\">\n",
    ":טבלת הגבולות\n",
    "<h1 style=\"text-align:right;font-size:100%\">\n",
    "יצירת שדה של שם התהליך (מספר מלבן)-\n",
    "<h1 style=\"text-align:right;font-size:100%\">\n",
    "קיבוץ נתוני הטבלה לפי שם התהליך-"
   ]
  },
  {
   "cell_type": "code",
   "execution_count": null,
   "id": "20d3711e-3230-41f9-ae01-22e2245dee42",
   "metadata": {},
   "outputs": [],
   "source": [
    "unreg_tatag_data[['ProcessName', 'dwg']] = unreg_tatag_data['DocName'].str.split('.', expand=True)\n",
    "\n",
    "unreg_tatag_data['ProcessName'] = unreg_tatag_data['ProcessName'].str.replace('-', '/')\n",
    "\n",
    "unreg_tatag_data.drop(columns=['DocName', 'dwg'], inplace=True)\n",
    "\n",
    "unreg_tatag_data = unreg_tatag_data.groupby(by='ProcessName', as_index=False).max()"
   ]
  },
  {
   "cell_type": "markdown",
   "id": "54dd45fc-fe40-49c4-a2d7-488ecd31bc13",
   "metadata": {},
   "source": [
    "<h1 style=\"text-align:right;font-size:100%\">\n",
    "מיזו נתונים לשכבה אחת"
   ]
  },
  {
   "cell_type": "code",
   "execution_count": null,
   "id": "41caf05b-7b97-448c-9a91-b73538dc670d",
   "metadata": {},
   "outputs": [],
   "source": [
    "unreg_tatag = unreg_tatag_borders.merge(unreg_tatag_data, on='ProcessName', how='inner')\n",
    "del [unreg_tatag_borders, unreg_tatag_data]"
   ]
  },
  {
   "cell_type": "markdown",
   "id": "77a7fa94-3bd7-49a4-89a3-ee242f7c69a0",
   "metadata": {},
   "source": [
    "<h1 style=\"text-align:right;font-size:100%\">\n",
    "יצירת שדה של שנת המפה לפי השנה של תאריך המדידה"
   ]
  },
  {
   "cell_type": "code",
   "execution_count": null,
   "id": "c18d3d4a-0d05-4b78-bd33-c71cb1577564",
   "metadata": {},
   "outputs": [],
   "source": [
    "unreg_tatag['SURVEY_DATE'] = unreg_tatag['SURVEY_DATE'].replace(['0','', ' '], None)\n",
    "unreg_tatag['SURVEY_DATE'] = pd.to_datetime(unreg_tatag['SURVEY_DATE'])\n",
    "\n",
    "unreg_tatag['MapYear'] = unreg_tatag['SURVEY_DATE'].dt.year\n",
    "unreg_tatag.drop(columns='SURVEY_DATE', inplace=True)"
   ]
  },
  {
   "cell_type": "markdown",
   "id": "2e84aaef-42f5-41b9-9e29-c29a95255ab4",
   "metadata": {},
   "source": [
    "<h1 style=\"text-align:right;font-size:100%\">\n",
    "שינוי שם של עמודת מספר רשיון מודד לפי סכימה חדשה"
   ]
  },
  {
   "cell_type": "code",
   "execution_count": null,
   "id": "50cf8d5e-5487-491f-92ee-5b497e09bc8d",
   "metadata": {},
   "outputs": [],
   "source": [
    "unreg_tatag.rename(columns={'SURVEYOR' : 'SurveyorLicenseID'}, inplace=True)"
   ]
  },
  {
   "cell_type": "markdown",
   "id": "99f7815b-fca0-43e8-bea0-8ff5184941dc",
   "metadata": {},
   "source": [
    "<h1 style=\"text-align:right;font-size:100%\">\n",
    "הזנת ערכים (קבועים) לשדות של מקור הנתונים, סוג התהליך וסוג רשת הבקרה"
   ]
  },
  {
   "cell_type": "code",
   "execution_count": null,
   "id": "b90bbe1c-d977-440e-a272-bd158d002dc8",
   "metadata": {},
   "outputs": [],
   "source": [
    "unreg_tatag['DataSource'] = 5          # CAD\n",
    "\n",
    "unreg_tatag['ProcessType'] = 15        # תת\"ג בשטח לא מוסדר\n",
    "\n",
    "unreg_tatag['GeodeticNetwork'] = 3     # רשת תקפה"
   ]
  },
  {
   "cell_type": "markdown",
   "id": "bbae83cd-b40d-42b1-a438-6cbc4907692a",
   "metadata": {},
   "source": [
    "<h1 style=\"text-align:right;font-size:100%\">\n",
    "מיזוג עם שכבת גושי קדסטר מודרניים לצורך קבלת מספר מזהה של גוש"
   ]
  },
  {
   "cell_type": "code",
   "execution_count": null,
   "id": "816300f4-463c-4cfd-8d35-c21f6d5e1175",
   "metadata": {},
   "outputs": [],
   "source": [
    "unreg_tatag['BlockUniqueID'] = unreg_tatag.merge(Blocks, left_on='GUSH_NUM', right_on='BlockNumber', how='left')['BlockUniqueID']\n",
    "unreg_tatag['BlockUniqueID'] = unreg_tatag['BlockUniqueID'].fillna(0)\n",
    "unreg_tatag['BlockUniqueID'] = unreg_tatag['BlockUniqueID'].astype(int)\n",
    "unreg_tatag.drop(columns='GUSH_NUM', inplace=True)"
   ]
  },
  {
   "cell_type": "markdown",
   "id": "a38f0c5a-28ea-49d2-83ae-3b7c97e6d4e5",
   "metadata": {},
   "source": [
    "<h1 style=\"text-align:right;font-size:100%\">\n",
    "הוספת שדה של מספר מזהה לתהליך לפי מספר רץ כולל קידומת שנקבעה (11 מיליון)"
   ]
  },
  {
   "cell_type": "code",
   "execution_count": null,
   "id": "1a2d504f-0828-45af-ace4-b51d0f51ae73",
   "metadata": {},
   "outputs": [],
   "source": [
    "unreg_tatag.sort_values(['MapYear', 'ProcessName'], inplace=True)\n",
    "\n",
    "unreg_tatag['CPBUniqueID'] = range(1, 1 + len(unreg_tatag))\n",
    "unreg_tatag['CPBUniqueID'] = unreg_tatag['CPBUniqueID'] + 15000000"
   ]
  },
  {
   "cell_type": "markdown",
   "id": "3e8079e1-ae3c-465f-878b-0310dd57615a",
   "metadata": {},
   "source": [
    "<h1 style=\"text-align:right; font-size:150%; color:#1c6ce6;\"> \n",
    "שמירת תוצאות 💾\n",
    "<h1 style=\"text-align:right; font-size:100%;\"> \n",
    "<h1 style=\"text-align:right; font-size:100%;\"> \n",
    "בחירת נתיב\n",
    "<h1 style=\"text-align:right; font-size:100%;\"> \n",
    "שמירה כשכבה גיאוגרפית"
   ]
  },
  {
   "cell_type": "code",
   "execution_count": null,
   "id": "b76b802a-0433-4191-bff5-345113b701d1",
   "metadata": {},
   "outputs": [],
   "source": [
    "print('  17.c Exporting results to product folder')"
   ]
  },
  {
   "cell_type": "code",
   "execution_count": null,
   "id": "652e9163-0bd2-42b5-b746-3f6639527836",
   "metadata": {},
   "outputs": [],
   "source": [
    "json_dir = r'\\\\mapi_shares\\MNCDB\\צוות מידע\\תוצרים\\json\\UnregisteredTatag.geojson'\n",
    "\n",
    "unreg_tatag.to_file(json_dir, driver = 'GeoJSON')"
   ]
  },
  {
   "cell_type": "code",
   "execution_count": null,
   "id": "e60abc9f-d3aa-4ec4-b2c6-59a7c256c109",
   "metadata": {},
   "outputs": [],
   "source": [
    "subprocess.call([r'M:\\ncdbScripts\\scripts\\arcpyPro\\UnregisteredTatag-Save as Feature Class.bat']);"
   ]
  }
 ],
 "metadata": {
  "kernelspec": {
   "display_name": "Python 3",
   "language": "python",
   "name": "python3"
  },
  "language_info": {
   "codemirror_mode": {
    "name": "ipython",
    "version": 3
   },
   "file_extension": ".py",
   "mimetype": "text/x-python",
   "name": "python",
   "nbconvert_exporter": "python",
   "pygments_lexer": "ipython3",
   "version": "3.9.4"
  }
 },
 "nbformat": 4,
 "nbformat_minor": 5
}
