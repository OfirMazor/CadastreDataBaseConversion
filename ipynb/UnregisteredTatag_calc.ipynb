{
 "cells": [
  {
   "cell_type": "markdown",
   "id": "c6439b15-3449-4c0e-a683-b447687478d0",
   "metadata": {},
   "source": [
    "<h1 style=\"background-color:#239B56;\n",
    "           font-family:segoe ui;\n",
    "                color:#FFF9ED;\n",
    "           font-size:300%;\n",
    "           text-align:center;\n",
    "           border-radius:10px 10px;\"> \n",
    "🗺️ הסבת שכבת תשריטי תיעוד גבולות בשטח לא מוסדר לבנק\"ל מודרני 🗺️"
   ]
  },
  {
   "cell_type": "code",
   "execution_count": null,
   "id": "91f731da-e547-4b73-b9cd-b255931c9ff2",
   "metadata": {},
   "outputs": [],
   "source": [
    "print('9. Unregistered Tatag borders:')"
   ]
  },
  {
   "cell_type": "markdown",
   "id": "e0ad268a-bf97-476c-8d33-0f48d7a3c49a",
   "metadata": {},
   "source": [
    "<h1 style=\"text-align:right; font-size:150%; color:#1c6ce6;\">\n",
    "ספריות 📚"
   ]
  },
  {
   "cell_type": "code",
   "execution_count": null,
   "id": "77ca15fc-5cfb-4362-a142-d6c26fbd1ee2",
   "metadata": {},
   "outputs": [],
   "source": [
    "import warnings\n",
    "warnings.filterwarnings('ignore')\n",
    "\n",
    "from configs import CNFG\n",
    "import numpy as np\n",
    "import pandas as pd\n",
    "import geopandas as gpd\n",
    "import datetime as dt"
   ]
  },
  {
   "cell_type": "markdown",
   "id": "33802549-c14f-478d-bb32-c24206f2c7db",
   "metadata": {},
   "source": [
    "<h1 style=\"text-align:right; font-size:150%; color:#1c6ce6;\">קריאת נתונים 📑 "
   ]
  },
  {
   "cell_type": "code",
   "execution_count": null,
   "id": "45ce1c59-fded-423b-9fc0-c11d14b78a87",
   "metadata": {},
   "outputs": [],
   "source": [
    "print('  9.a Reading inputs')"
   ]
  },
  {
   "cell_type": "markdown",
   "id": "fb61731c-df36-4b15-81ee-a55de2080518",
   "metadata": {},
   "source": [
    "<h1 style=\"text-align:right;font-size:100%\">\n",
    "שכבה מקומית של גבולות תת\"ג בשטח לא מוסדר"
   ]
  },
  {
   "cell_type": "code",
   "execution_count": null,
   "id": "6342a95d-a0e4-42e4-a7bf-70fc899b9723",
   "metadata": {},
   "outputs": [],
   "source": [
    "unreg_tatag_borders = gpd.read_file(CNFG.Local + 'UnregisterdTatag.gdb', layer = 'UnregisterdTatagBorders', include_fields = ['DocName', 'geometry']).set_crs(2039)"
   ]
  },
  {
   "cell_type": "markdown",
   "id": "8a2fe363-57e0-493f-b35d-6ff36f129e56",
   "metadata": {},
   "source": [
    "<h1 style=\"text-align:right;font-size:100%\">\n",
    "טבלה מקומית של גבולות תת\"ג בשטח לא מוסדר"
   ]
  },
  {
   "cell_type": "code",
   "execution_count": null,
   "id": "a47ba732-dccf-4d3f-a4ee-73894495f7c3",
   "metadata": {},
   "outputs": [],
   "source": [
    "unreg_tatag_data_cols = ['DocName', 'SURVEYOR', 'GUSH_NUM']\n",
    "\n",
    "unreg_tatag_data = gpd.read_file(CNFG.Local + 'UnregisterdTatag.gdb', layer = 'UnregisterdTatagData', include_fields = unreg_tatag_data_cols, ignore_geometry = True)\n",
    "\n",
    "del unreg_tatag_data_cols"
   ]
  },
  {
   "cell_type": "markdown",
   "id": "e5d3c3b0-7166-4bad-82e7-619e00dcef7a",
   "metadata": {},
   "source": [
    "<h1 style=\"text-align:right;font-size:100%\">\n",
    "טבלת מספרי זיהוי של גושים"
   ]
  },
  {
   "cell_type": "code",
   "execution_count": null,
   "id": "3bcb4f65-7e4c-4dc5-ba1e-f1a7014640cc",
   "metadata": {},
   "outputs": [],
   "source": [
    "Blocks = pd.read_csv(CNFG.CSVPath + 'BlockUniqueIDs.csv', usecols = ['BlockNumber', 'GlobalID', 'IsTax'])\n",
    "Blocks = Blocks[Blocks['IsTax'] == 0].drop(columns = 'IsTax')"
   ]
  },
  {
   "cell_type": "markdown",
   "id": "307dbee5-6e8d-4ac6-8e05-91fbf5b27870",
   "metadata": {},
   "source": [
    "<h1 style=\"text-align:right; font-size:150%; color:#1c6ce6;\">\n",
    "עיבוד נתונים 🛠️"
   ]
  },
  {
   "cell_type": "code",
   "execution_count": null,
   "id": "230f6d87-9fd2-4330-965b-73145c0380bf",
   "metadata": {},
   "outputs": [],
   "source": [
    "print('  9.b Cleaning data')"
   ]
  },
  {
   "cell_type": "markdown",
   "id": "9eff2971-40d6-451e-a361-6f8e8cdb26b7",
   "metadata": {},
   "source": [
    "<h1 style=\"text-align:right;font-size:100%\">\n",
    ":שכבת הגבולות\n",
    "<h1 style=\"text-align:right;font-size:100%\">\n",
    "יצירת שדה של שם התהליך (מספר מלבן)-"
   ]
  },
  {
   "cell_type": "code",
   "execution_count": null,
   "id": "33d8c51c-49a0-498f-aa51-e117572bd9a8",
   "metadata": {},
   "outputs": [],
   "source": [
    "unreg_tatag_borders[['ProcessName', 'dwg']] = unreg_tatag_borders['DocName'].str.split('.', expand=True)\n",
    "\n",
    "unreg_tatag_borders['ProcessName'] = unreg_tatag_borders['ProcessName'].str.replace('-', '/')\n",
    "\n",
    "unreg_tatag_borders.drop(columns=['DocName', 'dwg'], inplace=True)"
   ]
  },
  {
   "cell_type": "markdown",
   "id": "44d9e7ec-3168-469d-bbee-2154314101b2",
   "metadata": {},
   "source": [
    "<h1 style=\"text-align:right;font-size:100%\">\n",
    ":טבלת הגבולות\n",
    "<h1 style=\"text-align:right;font-size:100%\">\n",
    "יצירת שדה של שם התהליך (מספר מלבן)-\n",
    "<h1 style=\"text-align:right;font-size:100%\">\n",
    "קיבוץ נתוני הטבלה לפי שם התהליך-"
   ]
  },
  {
   "cell_type": "code",
   "execution_count": null,
   "id": "20d3711e-3230-41f9-ae01-22e2245dee42",
   "metadata": {},
   "outputs": [],
   "source": [
    "unreg_tatag_data[['ProcessName', 'dwg']] = unreg_tatag_data['DocName'].str.split('.', expand=True)\n",
    "\n",
    "unreg_tatag_data['ProcessName'] = unreg_tatag_data['ProcessName'].str.replace('-', '/')\n",
    "\n",
    "unreg_tatag_data.drop(columns=['DocName', 'dwg'], inplace=True)\n",
    "\n",
    "unreg_tatag_data = unreg_tatag_data.groupby(by='ProcessName', as_index=False).max()"
   ]
  },
  {
   "cell_type": "code",
   "execution_count": null,
   "id": "05c5e5cd-ef54-4c77-bb56-1809831acc08",
   "metadata": {},
   "outputs": [],
   "source": [
    "print('  9.c Data conversion')"
   ]
  },
  {
   "cell_type": "code",
   "execution_count": null,
   "id": "41caf05b-7b97-448c-9a91-b73538dc670d",
   "metadata": {},
   "outputs": [],
   "source": [
    "unreg_tatag = unreg_tatag_borders.merge(unreg_tatag_data, on = 'ProcessName', how = 'inner')\n",
    "del [unreg_tatag_borders, unreg_tatag_data]"
   ]
  },
  {
   "cell_type": "markdown",
   "id": "54dd45fc-fe40-49c4-a2d7-488ecd31bc13",
   "metadata": {},
   "source": [
    "<h1 style=\"text-align:right;font-size:100%\">\n",
    "מיזוג נתונים לשכבה אחת"
   ]
  },
  {
   "cell_type": "markdown",
   "id": "bbae83cd-b40d-42b1-a438-6cbc4907692a",
   "metadata": {},
   "source": [
    "<h1 style=\"text-align:right;font-size:100%\">\n",
    "מיזוג עם שכבת גושי קדסטר מודרניים לצורך קבלת מספר מזהה של גוש"
   ]
  },
  {
   "cell_type": "code",
   "execution_count": null,
   "id": "816300f4-463c-4cfd-8d35-c21f6d5e1175",
   "metadata": {},
   "outputs": [],
   "source": [
    "Blocks.rename(columns = {'GlobalID':'BlockUniqueID'}, inplace = True)\n",
    "\n",
    "unreg_tatag['BlockUniqueID'] = unreg_tatag.merge(Blocks, left_on = 'GUSH_NUM', right_on = 'BlockNumber', how = 'left')['BlockUniqueID']\n",
    "unreg_tatag.drop(columns='GUSH_NUM', inplace=True)"
   ]
  },
  {
   "cell_type": "code",
   "execution_count": null,
   "id": "6bc4d1ef-f458-499d-a219-c5c2b3f51f7b",
   "metadata": {},
   "outputs": [],
   "source": [
    "print('  9.d Defining new layer')"
   ]
  },
  {
   "cell_type": "code",
   "execution_count": null,
   "id": "fbca251d-7196-48da-a69b-70941478d682",
   "metadata": {},
   "outputs": [],
   "source": [
    "new_columns = np.dtype([\n",
    "                        (\"geometry\", gpd.array.GeometryDtype),       \n",
    "                       #(\"GlobalID\", str),\n",
    "                        (\"ProcessName\", str),\n",
    "                        (\"ProcessType\", int),\n",
    "                        (\"Status\", int),\n",
    "                        (\"BlockUniqueID\", str),\n",
    "                        (\"GeodeticNetwork\", int),\n",
    "                        (\"SurveyorLicenseID\", int),\n",
    "                        (\"DataSource\", int),\n",
    "                       #(\"PlanName\", str),  \n",
    "                       #(\"ORACLE_ID\", int),\n",
    "                       #(\"Shape_Length\", float),\n",
    "                       #(\"Shape_Area\", float),\n",
    "                        ])\n",
    "\n",
    "unreg_tatag_new = gpd.GeoDataFrame(data = np.empty(0, dtype = new_columns),  geometry = 'geometry', crs = 2039)"
   ]
  },
  {
   "cell_type": "code",
   "execution_count": null,
   "id": "65ed0a84-3fe3-4be8-9bb5-c3f71a5ee788",
   "metadata": {
    "tags": []
   },
   "outputs": [],
   "source": [
    "unreg_tatag_new['geometry'] = unreg_tatag['geometry']\n",
    "\n",
    "unreg_tatag_new['BlockUniqueID'] = unreg_tatag['BlockUniqueID']\n",
    "\n",
    "unreg_tatag_new['ProcessType'] = 15        # תת\"ג להסדר מקרקעין\n",
    "\n",
    "unreg_tatag_new['ProcessName'] = unreg_tatag['ProcessName']\n",
    "\n",
    "unreg_tatag_new['GeodeticNetwork'] = 3     # רשת תקפה\n",
    "\n",
    "#unreg_tatag_new['Status'] = None          # לא קיימים סטאטוסים בנתונים הקיימים\n",
    "\n",
    "unreg_tatag_new['SurveyorLicenseID'] = unreg_tatag['SURVEYOR'].astype(int)\n",
    "\n",
    "unreg_tatag_new['DataSource'] = 5          # CAD\n",
    "\n",
    "#unreg_tatag_new['PlanName'] = None"
   ]
  },
  {
   "cell_type": "code",
   "execution_count": null,
   "id": "59027d32-c0e9-4f05-970b-bdf49eb30907",
   "metadata": {
    "tags": []
   },
   "outputs": [],
   "source": [
    "unreg_tatag_new.sort_values('ProcessName', inplace = True)\n",
    "del unreg_tatag"
   ]
  },
  {
   "cell_type": "markdown",
   "id": "3e8079e1-ae3c-465f-878b-0310dd57615a",
   "metadata": {},
   "source": [
    "<h1 style=\"text-align:right; font-size:150%; color:#1c6ce6;\"> \n",
    "שמירת תוצאות 💾"
   ]
  },
  {
   "cell_type": "code",
   "execution_count": null,
   "id": "b76b802a-0433-4191-bff5-345113b701d1",
   "metadata": {},
   "outputs": [],
   "source": [
    "print('  9.c Exporting results')"
   ]
  },
  {
   "cell_type": "code",
   "execution_count": null,
   "id": "652e9163-0bd2-42b5-b746-3f6639527836",
   "metadata": {},
   "outputs": [],
   "source": [
    "unreg_tatag_new.to_file(CNFG.Results, layer = 'PT15', driver = 'OpenFileGDB', engine = 'pyogrio', mode = 'w')"
   ]
  }
 ],
 "metadata": {
  "kernelspec": {
   "display_name": "Python 3 (ipykernel)",
   "language": "python",
   "name": "python3"
  },
  "language_info": {
   "codemirror_mode": {
    "name": "ipython",
    "version": 3
   },
   "file_extension": ".py",
   "mimetype": "text/x-python",
   "name": "python",
   "nbconvert_exporter": "python",
   "pygments_lexer": "ipython3",
   "version": "3.11.3"
  }
 },
 "nbformat": 4,
 "nbformat_minor": 5
}
