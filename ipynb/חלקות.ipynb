{
 "cells": [
  {
   "cell_type": "markdown",
   "id": "8e75b312-7b0d-449c-bebb-037f0e646bc2",
   "metadata": {},
   "source": [
    "<h1 style=\"background-color:#1c6ce6;\n",
    "           font-family:segoe ui;\n",
    "                color:#FFF9ED;\n",
    "           font-size:250%;\n",
    "           text-align:center;\n",
    "           border-radius:10px 10px;\"> \n",
    "    🌐 תהליך הסבת שכבת חלקות (דו מימדיות) לבנק\"ל מודרני 🌐"
   ]
  },
  {
   "cell_type": "code",
   "execution_count": null,
   "id": "9a966ebe-33c4-45ec-93be-805af3f7141d",
   "metadata": {},
   "outputs": [],
   "source": [
    "print('11. Parcels borders:')"
   ]
  },
  {
   "cell_type": "markdown",
   "id": "32c3b687-e99e-4d22-b392-9eebba5829f9",
   "metadata": {},
   "source": [
    "<h1 style=\"text-align:right; font-size:150%; color:#1c6ce6;\">\n",
    "ספריות 📚"
   ]
  },
  {
   "cell_type": "code",
   "execution_count": null,
   "id": "ae57e106-8bec-448a-a448-a01640a9f244",
   "metadata": {
    "tags": [
     "Libraries"
    ]
   },
   "outputs": [],
   "source": [
    "import warnings\n",
    "warnings.filterwarnings('ignore')\n",
    "\n",
    "import numpy as np\n",
    "import pandas as pd\n",
    "import geopandas as gpd\n",
    "import datetime as dt\n",
    "import subprocess"
   ]
  },
  {
   "cell_type": "markdown",
   "id": "41b7f28c-b1e8-4922-952c-42b7a3f4765c",
   "metadata": {},
   "source": [
    "<h1 style=\"text-align:right; font-size:150%; color:#1c6ce6;\">קריאת נתונים 📑 "
   ]
  },
  {
   "cell_type": "code",
   "execution_count": null,
   "id": "99459f96-669a-4958-b713-9d9f364d0c50",
   "metadata": {},
   "outputs": [],
   "source": [
    "print('  11.a Reading inputs')"
   ]
  },
  {
   "cell_type": "code",
   "execution_count": null,
   "id": "a0a72451-6a81-497a-bb10-3388e8f9cbb4",
   "metadata": {},
   "outputs": [],
   "source": [
    "RawData_Folder = r'\\\\mapi_shares\\MNCDB\\צוות מידע\\RawData/'\n",
    "\n",
    "today =  dt.date.today()\n",
    "product_name =  str(today.year) + str(today.month) + str(today.day)  + '_ncdb.gdb'\n",
    "product_path = r'\\\\mapi_shares\\MNCDB\\צוות מידע\\תוצרים/' + product_name\n",
    "\n",
    "del [today, product_name]"
   ]
  },
  {
   "cell_type": "markdown",
   "id": "482778ba-ad65-4b17-a3a1-26191b8ac1f4",
   "metadata": {},
   "source": [
    "<h1 style=\"text-align:right;font-size:125%\">\n",
    "נתוני חלקות\n",
    "<h1 style=\"text-align:right;font-size:100%\">\n",
    "חלקות פעילות"
   ]
  },
  {
   "cell_type": "code",
   "execution_count": null,
   "id": "8f1d2273-aa13-4143-ba8f-447c2b70f04a",
   "metadata": {},
   "outputs": [],
   "source": [
    "parcel_all_cols = ['Identifier', 'GUSH_NUM', 'GUSH_SUFFIX', 'PARCEL', 'STATUS', 'LEGAL_AREA', 'TALAR_NUMBER', 'TALAR_YEAR', 'geometry']\n",
    "\n",
    "parcel_all = gpd.read_file(RawData_Folder + 'ArcStorm\\PARCEL_ALL.gdb', \n",
    "                           layer = 'PARCEL_ALL', \n",
    "                           include_fields = parcel_all_cols)\n",
    "\n",
    "parcel_all = parcel_all.to_crs(2039)\n",
    "\n",
    "del parcel_all_cols\n",
    "\n",
    "print('         input 1/9 read')"
   ]
  },
  {
   "cell_type": "markdown",
   "id": "fb91bb6d-5607-42d2-9e74-da64bffa9289",
   "metadata": {},
   "source": [
    "<h1 style=\"text-align:right;font-size:100%\">\n",
    "חלקות בתהליך"
   ]
  },
  {
   "cell_type": "code",
   "execution_count": null,
   "id": "c77dda1d-5c5f-4c4b-9dff-2cae4c3bf2a2",
   "metadata": {},
   "outputs": [],
   "source": [
    "parcels_inprocess_cols = ['GUSHNUM', 'GUSHSUFFIX', 'PARCELNAME', 'TALAR_NUM', 'TALAR_YEAR', 'CADASTER_PROCESS']\n",
    "\n",
    "parcels_inprocess = gpd.read_file(RawData_Folder + 'CADSDE\\Parcels_InProcess.gdb',\n",
    "                                  include_fields = parcels_inprocess_cols,\n",
    "                                  ignore_geometry = True)\n",
    "\n",
    "del parcels_inprocess_cols\n",
    "\n",
    "print('         input 2/9 read')"
   ]
  },
  {
   "cell_type": "markdown",
   "id": "0368a648-296e-499d-91c9-cd2de7b2a052",
   "metadata": {},
   "source": [
    "<h1 style=\"text-align:right;font-size:125%\">\n",
    "    נתוני גושים מודרניים"
   ]
  },
  {
   "cell_type": "code",
   "execution_count": null,
   "id": "8f6c86c4-3384-4362-8cd7-8e46ffd5d722",
   "metadata": {},
   "outputs": [],
   "source": [
    "blocks_cols = ['BlockUniqueID', 'BlockNumber', 'SubBlockNumber']\n",
    "blocks = gpd.read_file(product_path, layer = 'Blocks',\n",
    "                       include_fields = blocks_cols,\n",
    "                       ignore_geometry = True)\n",
    "\n",
    "del blocks_cols\n",
    "\n",
    "print('         input 3/9 read')"
   ]
  },
  {
   "cell_type": "markdown",
   "id": "0d9f4ff0-ad7c-4080-9921-fe8242dc33e1",
   "metadata": {},
   "source": [
    "<h1 style=\"text-align:right;font-size:125%\">\n",
    "נתוני תהליכי קדסטר מודרניים ופיצול לפי סוג תהליך\n",
    "<h1 style=\"text-align:right;font-size:100%\">\n",
    "תצ\"ר\n",
    "<h1 style=\"text-align:right;font-size:100%\">\n",
    "תת\"ג\n",
    "<h1 style=\"text-align:right;font-size:100%\">\n",
    "פס\"ד    \n",
    "<h1 style=\"text-align:right;font-size:100%\">\n",
    "תיקוני 97 ב"
   ]
  },
  {
   "cell_type": "code",
   "execution_count": null,
   "id": "80a262d1-2cc9-4e60-8dec-ee3d8b5ad885",
   "metadata": {},
   "outputs": [],
   "source": [
    "cpb_columns = ['CPBUniqueID', 'BlockUniqueID', 'ProcessType', 'ProcessName']\n",
    "\n",
    "cpb_layer = gpd.read_file(product_path,\n",
    "                          layer = 'CadasterProcessBorders',\n",
    "                          include_fields = cpb_columns,\n",
    "                          ignore_geometry = True)\n",
    "\n",
    "cpb_layer['BlockUniqueID'].fillna(0, inplace=True)\n",
    "cpb_layer[['CPBUniqueID', 'BlockUniqueID','ProcessType']] = cpb_layer[['CPBUniqueID', 'BlockUniqueID','ProcessType']].astype(int)\n",
    "\n",
    "\n",
    "tazar_layer = cpb_layer[cpb_layer['ProcessType'] == 1]\n",
    "\n",
    "tatag_layer = cpb_layer[cpb_layer['ProcessType'] == 4]\n",
    "\n",
    "judgments_layer = cpb_layer[cpb_layer['ProcessType'] == 3]\n",
    "\n",
    "amendments97b_layer = cpb_layer[cpb_layer['ProcessType'] == 6]\n",
    "\n",
    "\n",
    "del [cpb_columns, product_path]\n",
    "\n",
    "print('         input 4/9 read')"
   ]
  },
  {
   "cell_type": "markdown",
   "id": "290f582e-de4c-492b-b948-d74408cbfe72",
   "metadata": {},
   "source": [
    "<h1 style=\"text-align:right;font-size:125%\">\n",
    "נתוני תהליכי קדסטר טבלאיים\n",
    "<h1 style=\"text-align:right;font-size:100%\">\n",
    "חלקות פס\"ד וטבלת פס\"ד"
   ]
  },
  {
   "cell_type": "code",
   "execution_count": null,
   "id": "302ef2d9-49db-46a7-b96b-e93d0db4fce8",
   "metadata": {},
   "outputs": [],
   "source": [
    "judgments_parcels_cols = ['PSAK_DIN_ID', 'PARCEL']\n",
    "judgments_parcels = pd.read_csv(RawData_Folder + 'Oracle\\psak_din_parcels.csv',\n",
    "                                usecols = judgments_parcels_cols)\n",
    "\n",
    "print('         input 5/9 read')\n",
    "\n",
    "judgments_cols = ['PSAK_DIN_ID', 'PSAK_DIN_NUM', 'PSAK_DIN_YEAR', 'GUSH_NUM', 'GUSH_SUFFIX']\n",
    "judgments = pd.read_csv(RawData_Folder + 'Oracle\\psak_din.csv',\n",
    "                        usecols = judgments_cols,\n",
    "                        encoding = 'cp1255')\n",
    "\n",
    "judgments_parcels = judgments_parcels.merge(right = judgments,\n",
    "                                            how = 'left',\n",
    "                                            on = 'PSAK_DIN_ID',\n",
    "                                            validate = 'many_to_many')\n",
    "\n",
    "del [judgments_parcels_cols, judgments_cols, judgments]\n",
    "\n",
    "print('         input 6/9 read')"
   ]
  },
  {
   "cell_type": "markdown",
   "id": "94a3d75a-e962-4c2e-9a3f-12ea5a5ee02c",
   "metadata": {},
   "source": [
    "<h1 style=\"text-align:right;font-size:100%\">\n",
    "חלקות תיקוני 97 ב"
   ]
  },
  {
   "cell_type": "code",
   "execution_count": null,
   "id": "0cc79138-81ef-4e04-9170-848b7fc1e6fa",
   "metadata": {},
   "outputs": [],
   "source": [
    "amendments97b_cols = ['גוש','תת גוש','חלקה','מספר פניה']\n",
    "amendments97b = pd.read_csv(RawData_Folder + 'Local\\97b_nuhil_tahalichim.csv',\n",
    "                            encoding = 'cp1255',\n",
    "                            usecols = amendments97b_cols)\n",
    "del amendments97b_cols\n",
    "\n",
    "print('         input 7/9 read')"
   ]
  },
  {
   "cell_type": "markdown",
   "id": "f22e2719-fcb3-43f4-8998-b06e90e99536",
   "metadata": {},
   "source": [
    "<h1 style=\"text-align:right;font-size:100%\">\n",
    "    טבלת תצ\"ר מסוג כרטסת"
   ]
  },
  {
   "cell_type": "code",
   "execution_count": null,
   "id": "dae203d3-2e5c-4e55-b581-6aff2b1a7c85",
   "metadata": {},
   "outputs": [],
   "source": [
    "tazar_card_cols = ['GUSH_NUM', 'GUSH_SUFFIX', 'TALAR_ID', 'FINAL_PARCEL']\n",
    "tazar_card = pd.read_csv(RawData_Folder + \"Oracle/talar_card_dest.csv\",\n",
    "                         usecols = tazar_card_cols)\n",
    "del tazar_card_cols\n",
    "\n",
    "print('         input 8/9 read')"
   ]
  },
  {
   "cell_type": "markdown",
   "id": "08d60594-0b07-4b9d-8a2f-d6e6d437728f",
   "metadata": {},
   "source": [
    "<h1 style=\"text-align:right;font-size:100%\">\n",
    "    מידע לסטאטוסים של גבולות תת\"ג קיימים"
   ]
  },
  {
   "cell_type": "code",
   "execution_count": null,
   "id": "9e9f1a2f-4d43-4871-a8af-ec68f66b6745",
   "metadata": {},
   "outputs": [],
   "source": [
    "approved_tatag_dates_columns = ['TATAG_NUM', 'TATAG_YEAR', 'TATAG_STATUS', 'TATAG_STATUS_DATE']\n",
    "approved_tatag_dates = gpd.read_file(RawData_Folder + 'CADSDE/TATAG.gdb',\n",
    "                                     layer = 'TATAG',\n",
    "                                     include_fields = approved_tatag_dates_columns,\n",
    "                                     ignore_geometry = True)\n",
    "del approved_tatag_dates_columns\n",
    "\n",
    "print('         input 9/9 read')"
   ]
  },
  {
   "cell_type": "markdown",
   "id": "62cd8f0d-e261-435a-a1f1-9cda45888555",
   "metadata": {},
   "source": [
    "<h1 style=\"text-align:right;font-size:100%\">\n",
    "נתוני מקרקעי ייעוד של חלקות מלשכת רישום"
   ]
  },
  {
   "cell_type": "code",
   "execution_count": null,
   "id": "9470f1b7-016d-4bc0-b8e3-97d5d7426696",
   "metadata": {},
   "outputs": [],
   "source": [
    "SubBlocksList = pd.read_csv(r\"\\\\mapi_shares\\MNCDB\\צוות מידע\\RawData\\Local\\SubBlocksList.csv\")\n",
    "xml_df = pd.read_csv(r\"\\\\mapi_shares\\MNCDB\\צוות מידע\\RawData\\Local\\KeshetRimonAssets.csv\").sort_values(['BlockName', 'ParcelNumber'])\n",
    "\n",
    "xml_df = xml_df.merge(SubBlocksList[['BlockNumber', 'SubBlockNumber', 'BlockName']], on = 'BlockName', how = 'left')\n",
    "\n",
    "del SubBlocksList"
   ]
  },
  {
   "cell_type": "markdown",
   "id": "13c7c196-b6f5-4a40-96e8-a3086f282fc2",
   "metadata": {},
   "source": [
    "<h1 style=\"text-align:right; font-size:150%; color:#1c6ce6;\">\n",
    "עיבוד נתונים 🛠️"
   ]
  },
  {
   "cell_type": "markdown",
   "id": "eaa049df-3948-48bc-9e5a-f127536490ff",
   "metadata": {},
   "source": [
    "<h1 style=\"text-align:right;font-size:100%\">\n",
    "עיבוד נתוני מקרקעי ייעוד לפי שם חלקה מלא"
   ]
  },
  {
   "cell_type": "code",
   "execution_count": null,
   "id": "1745962a-93cd-4d30-af42-fe230583f072",
   "metadata": {},
   "outputs": [],
   "source": [
    "xml_df['BlockNumber'] = xml_df['BlockNumber'].fillna(xml_df['BlockName'])\n",
    "\n",
    "xml_df['SubBlockNumber'] = xml_df['SubBlockNumber'].fillna(0)\n",
    "\n",
    "xml_df = xml_df.drop(columns = 'BlockName')\n",
    "\n",
    "xml_df[['BlockNumber', 'SubBlockNumber', 'ParcelNumber']] = xml_df[['BlockNumber', 'SubBlockNumber', 'ParcelNumber']].astype(int)\n",
    "\n",
    "xml_df['ParcelName'] = xml_df['BlockNumber'].astype(str) + '_' +  xml_df['SubBlockNumber'].astype(str) + '_' + xml_df['ParcelNumber'].astype(str)\n",
    "\n",
    "xml_df = xml_df[['ParcelName', 'LandDesignations']]"
   ]
  },
  {
   "cell_type": "markdown",
   "id": "04c700d6-1f1d-4d2d-88d6-ec169288ac7f",
   "metadata": {},
   "source": [
    "<h1 style=\"text-align:right;font-size:125%;\">\n",
    ":עיבוד נתוני חלקות פעילות"
   ]
  },
  {
   "cell_type": "markdown",
   "id": "46b7091e-bbcc-406b-b79f-d1cc6a2d399f",
   "metadata": {},
   "source": [
    "<h1 style=\"text-align:right;font-size:100%\">\n",
    "סינון חלקות לפי סטאטוס של חלקות מוסדרות\n",
    "<h1 style=\"text-align:right;font-size:100%\">\n",
    "סינון חלקות שמספרן או מספר הגוש שלהן הוא 0 או ריק\n",
    "<h1 style=\"text-align:right;font-size:100%\">\n",
    "יצירת שדות מקשרים להמשך: שם חלקה מלא ושם גוש מלא\n",
    "<h1 style=\"text-align:right;font-size:100%\">\n",
    "מיזוג נתוני חלקות עם נתוני גוש\n",
    "<h1 style=\"text-align:right;font-size:100%\">\n",
    "שינוי שמות של שדות לפי אפיון חדש\n",
    "<h1 style=\"text-align:right;font-size:100%\">\n",
    "איחוד עם נתוני מקרקעי יעוד"
   ]
  },
  {
   "cell_type": "code",
   "execution_count": null,
   "id": "b5c26930-bb0d-41bd-b73f-33f32a6f3682",
   "metadata": {},
   "outputs": [],
   "source": [
    "print('  11.b Cleaning data')"
   ]
  },
  {
   "cell_type": "code",
   "execution_count": null,
   "id": "ac142620-7a40-4a1f-bda2-5f2e48584964",
   "metadata": {},
   "outputs": [],
   "source": [
    "parcel_all = parcel_all[parcel_all['STATUS'].isin([1, 3, 6, 16])]\n",
    "parcel_all.drop(columns = 'STATUS', inplace=True)"
   ]
  },
  {
   "cell_type": "code",
   "execution_count": null,
   "id": "3671dbc7-3b98-43d6-abee-1b7efa6cc0dd",
   "metadata": {},
   "outputs": [],
   "source": [
    "parcel_all = parcel_all[(~parcel_all['PARCEL'].isna()) | (parcel_all['PARCEL'] != 0)]\n",
    "parcel_all = parcel_all[(~parcel_all['GUSH_NUM'].isna()) | (parcel_all['GUSH_NUM'] != 0)]"
   ]
  },
  {
   "cell_type": "code",
   "execution_count": null,
   "id": "7dea7e7d-f042-41ac-831e-0d8ba8524dc0",
   "metadata": {},
   "outputs": [],
   "source": [
    "blocks = blocks.astype(int)\n",
    "\n",
    "parcel_all[['GUSH_SUFFIX', 'TALAR_NUMBER', 'TALAR_YEAR']] = parcel_all[['GUSH_SUFFIX', 'TALAR_NUMBER', 'TALAR_YEAR']].fillna(0)\n",
    "parcel_all[['GUSH_NUM', 'GUSH_SUFFIX', 'TALAR_NUMBER', 'TALAR_YEAR', 'PARCEL']] = parcel_all[['GUSH_NUM', 'GUSH_SUFFIX', 'TALAR_NUMBER', 'TALAR_YEAR', 'PARCEL']].astype(int)\n",
    "\n",
    "blocks['BlockName'] = blocks['BlockNumber'].astype(str) + '_' + blocks['SubBlockNumber'].astype(str)\n",
    "parcel_all['BlockName'] = parcel_all['GUSH_NUM'].astype(str) + '_' + parcel_all['GUSH_SUFFIX'].astype(str)\n",
    "parcel_all.drop(columns=['GUSH_NUM', 'GUSH_SUFFIX'], inplace=True)\n",
    "\n",
    "\n",
    "parcel_all['ParcelName'] = parcel_all['BlockName'] + '_' + parcel_all['PARCEL'].astype(str)\n",
    "\n",
    "parcel_all['ProcessName'] = parcel_all['TALAR_NUMBER'].astype(str) + '/' + parcel_all['TALAR_YEAR'].astype(str)\n",
    "parcel_all.drop(columns = ['TALAR_NUMBER', 'TALAR_YEAR'], inplace=True)\n",
    "parcel_all['ProcessName'].replace('0/0', np.nan, inplace=True)\n",
    "\n",
    "parcel_all = parcel_all.merge(right = blocks[['BlockUniqueID', 'BlockName']], on = 'BlockName', how = 'left')\n",
    "parcel_all.dropna(subset=['BlockUniqueID'], inplace=True)\n",
    "parcel_all[['Identifier', 'BlockUniqueID']] = parcel_all[['Identifier', 'BlockUniqueID']].astype(int)\n",
    "parcel_all.rename(columns={'Identifier':'ParcelUniqueID', 'PARCEL':'ParcelNumber', 'LEGAL_AREA':'LegalArea'}, inplace=True)\n",
    "\n",
    "del blocks"
   ]
  },
  {
   "cell_type": "code",
   "execution_count": null,
   "id": "afe070b4-13e2-4d01-a4a1-d8ba976978ce",
   "metadata": {},
   "outputs": [],
   "source": [
    "parcel_all = parcel_all.merge(right = xml_df, on = 'ParcelName', how = 'left')\n",
    "\n",
    "del xml_df"
   ]
  },
  {
   "cell_type": "code",
   "execution_count": null,
   "id": "5d809a02-8773-46ea-80a6-0122cd6be890",
   "metadata": {},
   "outputs": [],
   "source": [
    "parcel_x_process = parcel_all.merge(cpb_layer[['ProcessName', 'ProcessType', 'CPBUniqueID']], on = 'ProcessName', how = 'left')\n",
    "parcel_with_pt = parcel_x_process[~parcel_x_process['ProcessType'].isna()]\n",
    "parcel_without_pt = parcel_x_process[parcel_x_process['ProcessType'].isna()].drop(columns = ['CPBUniqueID', 'ProcessType', 'ProcessName'])"
   ]
  },
  {
   "cell_type": "markdown",
   "id": "1f5d5ead-31aa-48e3-9387-ff167981021e",
   "metadata": {},
   "source": [
    "<h1 style=\"text-align:right;font-size:125%\">\n",
    "    \n",
    ":עיבוד נתוני חלקות בתהליך"
   ]
  },
  {
   "cell_type": "markdown",
   "id": "18af40be-2031-44e7-af1e-f30bc8970cf2",
   "metadata": {},
   "source": [
    "<h1 style=\"text-align:right;font-size:100%;\">\n",
    "\n",
    "\n",
    "    תיקון ערכים בשדות אליפסה/מלבן\n",
    "\n",
    "    יצירת שדה של שם תכנית מלא\n",
    " \n",
    "    תיקון ערכים בשדה מספר חלקה\n",
    " \n",
    "    יצירת שדה של שם חלקה מלא"
   ]
  },
  {
   "cell_type": "code",
   "execution_count": null,
   "id": "07051c91-fcbf-4452-a703-d791d221914f",
   "metadata": {},
   "outputs": [],
   "source": [
    "parcels_inprocess[['TALAR_NUM', 'TALAR_YEAR']] = parcels_inprocess[['TALAR_NUM', 'TALAR_YEAR']].fillna(0)\n",
    "parcels_inprocess[['TALAR_NUM', 'TALAR_YEAR']] = parcels_inprocess[['TALAR_NUM', 'TALAR_YEAR']].astype(int)\n",
    "parcels_inprocess['ProcessName'] = parcels_inprocess['TALAR_NUM'].astype(str) + '/' + parcels_inprocess['TALAR_YEAR'].astype(str)\n",
    "parcels_inprocess.drop(columns = ['TALAR_NUM', 'TALAR_YEAR'], inplace=True)\n",
    "\n",
    "\n",
    "#Remove F,T characters\n",
    "parcels_inprocess['PARCELNAME'] = parcels_inprocess['PARCELNAME'].map(lambda x: x.lstrip('FT'))\n",
    "#Remove bad characters and keep parcel number only\n",
    "parcels_inprocess['PARCELNAME'] = parcels_inprocess['PARCELNAME'].str.partition(\":\")[0]\n",
    "\n",
    "\n",
    "parcels_inprocess['ParcelName'] = parcels_inprocess['PARCELNAME'].astype(int)\n",
    "parcels_inprocess['ParcelName'] = parcels_inprocess['GUSHNUM'].astype(str) + '_' + parcels_inprocess['GUSHSUFFIX'].astype(str) +  '_' + parcels_inprocess['ParcelName'].astype(str)\n",
    "parcels_inprocess.drop(columns=['PARCELNAME', 'GUSHNUM', 'GUSHSUFFIX'], inplace=True)"
   ]
  },
  {
   "cell_type": "markdown",
   "id": "20d31f1c-2f7d-45c2-920c-0bebbdafbc35",
   "metadata": {},
   "source": [
    "<h1 style=\"text-align:right;font-size:125%;\">\n",
    " :עיבוד נתוני תצ\"ר כרטסת"
   ]
  },
  {
   "cell_type": "markdown",
   "id": "b381df18-f142-4dea-b4e3-b68216c4ca35",
   "metadata": {},
   "source": [
    "<h1 style=\"text-align:right;font-size:100%;\">\n",
    "\n",
    "\n",
    "    הסרת רשומות ריקות מערכים\n",
    "\n",
    "    הגדרת כל השדות כמספר שלם\n",
    " \n",
    "    יצירת שדה שם חלקה מלא\n",
    " \n",
    "    סינון רק לחלקות שמופיעות בשכבת חלקות פעילהושאין להן תהליך יוצר\n",
    " \n",
    "    יצירת שדה עדכני של מספר מזהה לתצ\"ר\n",
    "    \n",
    "    הסרת שדות שאינם רלוונטיים\n",
    "    \n",
    "    סינון לחלקות אשר תואמות לפי שדה של מס' מזהה לתהליך בין טבלת כרטסת לשכבת גבולות תצ\"ר מודרניים\n",
    "    \n",
    "    איכלוס השדה- סוג תהליך בערך 1"
   ]
  },
  {
   "cell_type": "code",
   "execution_count": null,
   "id": "f83ac1ba-f3f7-4302-9356-099af500f12c",
   "metadata": {},
   "outputs": [],
   "source": [
    "print('  11.c Data conversion')"
   ]
  },
  {
   "cell_type": "code",
   "execution_count": null,
   "id": "dfe0bc03-4a23-4822-8bbf-7527943e11e0",
   "metadata": {},
   "outputs": [],
   "source": [
    "tazar_card.dropna(inplace=True)\n",
    "tazar_card = tazar_card.astype(int)\n",
    "\n",
    "tazar_card['ParcelName'] = tazar_card['GUSH_NUM'].astype(str) + '_' + tazar_card['GUSH_SUFFIX'].astype(str) + '_' + tazar_card['FINAL_PARCEL'].astype(str)\n",
    "\n",
    "tazar_card = tazar_card[tazar_card['ParcelName'].isin(parcel_without_pt['ParcelName'])]\n",
    "\n",
    "tazar_card['CPBUniqueID'] = tazar_card['TALAR_ID'] + 1000000\n",
    "\n",
    "tazar_card.drop(columns = ['GUSH_NUM', 'GUSH_SUFFIX', 'FINAL_PARCEL', 'TALAR_ID'], inplace = True)\n",
    "\n",
    "tazar_card = tazar_card[tazar_card['CPBUniqueID'].isin(cpb_layer['CPBUniqueID'])]\n",
    "\n",
    "tazar_card['ProcessType'] = 1 #CreateProcessLut"
   ]
  },
  {
   "cell_type": "markdown",
   "id": "d8dd2eb4-cacb-4d39-9a5a-084bd3a67c51",
   "metadata": {},
   "source": [
    "<h1 style=\"text-align:right;font-size:100%;\">\n",
    "\n",
    "    מיזוג טבלת כרטסת עם שכבת חלקות פעילה שללא תהליך יוצר\n",
    "\n",
    "    הוספת האיחוד לשכבת חלקות פעילה (כי לאחר מיזוג יש תהליך יוצר)\n",
    " \n",
    "    עדכון שכבת חלקות ללא תהליך יוצר"
   ]
  },
  {
   "cell_type": "code",
   "execution_count": null,
   "id": "13653ff9-898f-4a80-9f1f-3bdf12b173ab",
   "metadata": {},
   "outputs": [],
   "source": [
    "tazar_card = parcel_without_pt.merge(tazar_card, how = 'inner', on = 'ParcelName')\n",
    "\n",
    "parcel_with_pt = parcel_with_pt.append(tazar_card)\n",
    "\n",
    "parcel_without_pt = parcel_without_pt[~parcel_without_pt['ParcelName'].isin(tazar_card['ParcelName'])]\n",
    "\n",
    "del tazar_card"
   ]
  },
  {
   "cell_type": "markdown",
   "id": "b2603a54-39f9-4b32-8fe6-789af2da3784",
   "metadata": {},
   "source": [
    "<h1 style=\"text-align:right;font-size:125%;\">\n",
    "    :עיבוד נתוני פסקי דין"
   ]
  },
  {
   "cell_type": "markdown",
   "id": "770247a6-4938-406e-abd8-223ce6338e68",
   "metadata": {},
   "source": [
    "<h1 style=\"text-align:right;font-size:100%;\">\n",
    "\n",
    "    הסרת רשומות בעלות מספר גוש חסר\n",
    "    \n",
    "    השלמת ערכים לשדה תת-גוש עם הערך 0\n",
    "    \n",
    "    הגדרת שדות מספריים למספריים שלמים\n",
    "    \n",
    "    הוספת שדה למספר חלקה מלא\n",
    "    \n",
    "    הוספת 40000 למספר פסק הדין\n",
    "    \n",
    "    הוספת שדה למספר תהליך קדסטרי\n",
    "    \n",
    "    הסרת שדות שאינם רלוונטיים יותר\n",
    "    \n",
    "    סינון לחלקות פס\"ד שנמצאות בשכבת חלקות פעילה וללא תהליך יוצר\n",
    "    \n",
    "    איחוד חלקות פס\"ד עם שכבת גבולות פס\"ד מודרניים\n",
    "    \n",
    "    הגדרת שדה מספר ייחודי לתהליך כמספר שלם\n",
    "    \n",
    "    הסרת שדה לא רלוונטי\n",
    "    \n",
    "    איחוד התוצאה עם שכבת חלקות פעילה וללא תהליך יוצר\n",
    "    \n",
    "    איכלוס השדה סוג תהליך ב-2"
   ]
  },
  {
   "cell_type": "code",
   "execution_count": null,
   "id": "31eca338-f0a5-4090-b16f-88d4a3bc3e27",
   "metadata": {},
   "outputs": [],
   "source": [
    "judgments_parcels.dropna(subset=['GUSH_NUM'], inplace=True)\n",
    "\n",
    "judgments_parcels['GUSH_SUFFIX'] = judgments_parcels['GUSH_SUFFIX'].fillna(0)\n",
    "\n",
    "judgments_parcels[['GUSH_SUFFIX', 'GUSH_NUM', 'PSAK_DIN_NUM', 'PSAK_DIN_YEAR', 'PARCEL']] = judgments_parcels[['GUSH_SUFFIX', 'GUSH_NUM', 'PSAK_DIN_NUM', 'PSAK_DIN_YEAR', 'PARCEL']].astype(int)\n",
    "\n",
    "judgments_parcels['ParcelName'] = judgments_parcels['GUSH_NUM'].astype(str) + '_' + judgments_parcels['GUSH_SUFFIX'].astype(str) + '_' + judgments_parcels['PARCEL'].astype(str)\n",
    "\n",
    "judgments_parcels['PSAK_DIN_NUM'] = judgments_parcels['PSAK_DIN_NUM'].astype(int)\n",
    "\n",
    "judgments_parcels['ProcessName'] = judgments_parcels['PSAK_DIN_NUM'].astype(str) + '-' + judgments_parcels['PSAK_DIN_YEAR'].astype(str)\n",
    "\n",
    "judgments_parcels.drop(columns=['PSAK_DIN_NUM', 'PSAK_DIN_YEAR', 'GUSH_NUM', 'GUSH_SUFFIX', 'PARCEL'], inplace=True)\n",
    "\n",
    "judgments_parcels = judgments_parcels[judgments_parcels['ParcelName'].isin(parcel_without_pt['ParcelName'])]\n",
    "\n",
    "judgments_parcels = judgments_parcels.merge(judgments_layer[['CPBUniqueID','ProcessName']] , how = 'inner', on = 'ProcessName')\n",
    "\n",
    "judgments_parcels['CPBUniqueID'] = judgments_parcels['CPBUniqueID'].astype(int)\n",
    "judgments_parcels.drop(columns='PSAK_DIN_ID', inplace=True)\n",
    "\n",
    "judgments_parcels = parcel_without_pt.merge(judgments_parcels, how='inner', on='ParcelName')\n",
    "\n",
    "judgments_parcels['ProcessType'] = 2  #CreateProcessLut"
   ]
  },
  {
   "cell_type": "code",
   "execution_count": null,
   "id": "066d8f1b-a730-4599-a3db-63d6ce7ecf00",
   "metadata": {},
   "outputs": [],
   "source": [
    "parcel_with_pt = parcel_with_pt.append(judgments_parcels)\n",
    "parcel_without_pt = parcel_without_pt[~parcel_without_pt['ParcelName'].isin(judgments_parcels['ParcelName'])]"
   ]
  },
  {
   "cell_type": "code",
   "execution_count": null,
   "id": "9a22df9c-e3e2-4579-bb15-fb1649177834",
   "metadata": {},
   "outputs": [],
   "source": [
    "parcel_x_process = parcel_with_pt.append(parcel_without_pt)\n",
    "\n",
    "parcel_x_process['ProcessType'].fillna(3, inplace=True) #CreateProcessLut\n",
    "\n",
    "parcel_x_process[['ParcelUniqueID','ParcelNumber','ProcessType', 'CPBUniqueID']] = parcel_x_process[['ParcelUniqueID','ParcelNumber','ProcessType', 'CPBUniqueID']].astype('Int32')\n",
    "\n",
    "parcel_x_process.rename(columns={'ProcessType':'CreateProcessType', 'CPBUniqueID' : 'CPBUniqueCreateProcessID'}, inplace=True)"
   ]
  },
  {
   "cell_type": "markdown",
   "id": "b0fb5bef-87d9-418e-964c-69624e95cfae",
   "metadata": {},
   "source": [
    "<h1 style=\"text-align:right;font-size:125%;\">\n",
    ":עיבוד נתוני תת\"ג\n",
    "    \n",
    "<h1 style=\"text-align:right;font-size:100%;\">\n",
    " בחירת חלקות בתהליך אשר מקורן בתת\"ג\n",
    "    <h1 style=\"text-align:right;font-size:100%;\">\n",
    "    הסרת שדה של סוד תהליך\n",
    "        <h1 style=\"text-align:right;font-size:100%;\">\n",
    "    איחוד של חלקות תת\"ג בתהליך עם שכבת גבולות תת\"ג\n",
    "            <h1 style=\"text-align:right;font-size:100%;\">\n",
    "    הסרת ערכים ריקים והגדרת שדות למספרים שלמים\n",
    "                <h1 style=\"text-align:right;font-size:100%;\">\n",
    "    סינון של תוצאת המיזוג לחלקות אשר נמצאות בשכבת חלקות\n",
    "    "
   ]
  },
  {
   "cell_type": "code",
   "execution_count": null,
   "id": "9fc97c6e-4778-4295-83b0-178d3582b3f1",
   "metadata": {},
   "outputs": [],
   "source": [
    "parcels_inprocess_tatag = parcels_inprocess[parcels_inprocess['CADASTER_PROCESS']==12]\n",
    "parcels_inprocess_tatag.drop(columns = 'CADASTER_PROCESS', inplace=True)\n",
    "\n",
    "del parcels_inprocess"
   ]
  },
  {
   "cell_type": "code",
   "execution_count": null,
   "id": "5eefe99e-f1c1-45f0-ba1c-b3a1184abf83",
   "metadata": {},
   "outputs": [],
   "source": [
    "tatag_parcels = parcels_inprocess_tatag.merge(tatag_layer, how='left', on='ProcessName')\n",
    "tatag_parcels.dropna(subset=['CPBUniqueID', 'BlockUniqueID'], inplace=True)\n",
    "tatag_parcels[['CPBUniqueID', 'BlockUniqueID', 'ProcessType']] = tatag_parcels[['CPBUniqueID', 'BlockUniqueID', 'ProcessType']].astype('Int32')\n",
    "del parcels_inprocess_tatag\n",
    "\n",
    "\n",
    "tatag_parcels = tatag_parcels[tatag_parcels['ParcelName'].isin(parcel_x_process['ParcelName'])]\n",
    "tatag_parcels.rename(columns={'CPBUniqueID' : 'CPBUniqueUpdateProcessID'}, inplace=True)\n",
    "tatag_parcels.sort_values(['ParcelName', 'ProcessName'], inplace=True)"
   ]
  },
  {
   "cell_type": "markdown",
   "id": "e5dd9679-da00-4fc2-9985-4dbb5f98c863",
   "metadata": {},
   "source": [
    "<h1 style=\"text-align:right;font-size:125%;\">\n",
    ":עיבוד טבלת סטאטוסים של תת\"ג מאושרים\n",
    "<h1 style=\"text-align:right;font-size:100%;\">    \n",
    "איחוד של טבלת סטאטוסים ותאריכים עם טבלת חלקות תת\"ג בתהליך\n",
    "<h1 style=\"text-align:right;font-size:100%;\">    \n",
    "מיון של הטבלה לפי שם חלקה ותאריך הסטאטוס שלה\n",
    "<h1 style=\"text-align:right;font-size:100%;\">    \n",
    "הורדת כפילויות של שם חלקה ושמירת התאריך סטאטוס תת\"ג האחרון ביותר"
   ]
  },
  {
   "cell_type": "code",
   "execution_count": null,
   "id": "6c38e245-254b-4aa1-8eaf-6609cba25728",
   "metadata": {},
   "outputs": [],
   "source": [
    "approved_tatag_dates = approved_tatag_dates[approved_tatag_dates['TATAG_STATUS'] == 2]\n",
    "approved_tatag_dates['ProcessName'] = approved_tatag_dates['TATAG_NUM'].astype(str) + '/' + approved_tatag_dates['TATAG_YEAR'].astype(str)\n",
    "approved_tatag_dates['TATAG_STATUS_DATE'] = pd.to_datetime(approved_tatag_dates['TATAG_STATUS_DATE'])\n",
    "approved_tatag_dates.drop(columns = ['TATAG_STATUS', 'TATAG_NUM', 'TATAG_YEAR'], inplace=True)\n",
    "\n",
    "\n",
    "tatag_parcels = tatag_parcels.merge(approved_tatag_dates, on='ProcessName', how='left')\n",
    "tatag_parcels['TATAG_STATUS_DATE'].fillna('1800-01-01', inplace=True)\n",
    "tatag_parcels.sort_values(by=['ParcelName', 'TATAG_STATUS_DATE','ProcessName'], inplace=True)\n",
    "tatag_parcels = tatag_parcels.drop_duplicates(subset=['ParcelName'], keep='first')"
   ]
  },
  {
   "cell_type": "markdown",
   "id": "13d7d47e-651f-4099-8593-d47518a87e04",
   "metadata": {},
   "source": [
    "<h1 style=\"text-align:right;font-size:100%;\">\n",
    "מיזוג עם נתוני חלקות פעילות"
   ]
  },
  {
   "cell_type": "code",
   "execution_count": null,
   "id": "fe2ea779-7737-482c-b03c-9944b301c6f7",
   "metadata": {},
   "outputs": [],
   "source": [
    "parcel_x_process = parcel_x_process.merge(tatag_parcels[['ParcelName','CPBUniqueUpdateProcessID']],\n",
    "                                          on = 'ParcelName',\n",
    "                                          how = 'left')\n",
    "\n",
    "del [tatag_parcels, approved_tatag_dates]"
   ]
  },
  {
   "cell_type": "markdown",
   "id": "0d1452ea-cc05-40b7-aeb3-56af62bda61d",
   "metadata": {},
   "source": [
    "<h1 style=\"text-align:right;font-size:125%;\">\n",
    ":עיבוד נתוני תיקוני 97ב\n",
    "    \n",
    "<h1 style=\"text-align:right;font-size:100%;\">\n",
    " הסרת רשומות של חלקות ללא מדיע של גוש או חלקה\n",
    "<h1 style=\"text-align:right;font-size:100%;\">\n",
    "   מילוי ערכי תת-גוש חסרים ב-0\n",
    "    <h1 style=\"text-align:right;font-size:100%;\">\n",
    "    יצירת שדה של שם חלקה מלא\n",
    "    "
   ]
  },
  {
   "cell_type": "code",
   "execution_count": null,
   "id": "f49a25bb-4b50-4a3d-98b4-fd1bc04004aa",
   "metadata": {},
   "outputs": [],
   "source": [
    "amendments97b.dropna(subset=['גוש', 'חלקה'], inplace=True)\n",
    "amendments97b['תת גוש'].fillna(0, inplace=True)\n",
    "amendments97b['תת גוש'] = amendments97b['תת גוש'].astype(int)\n",
    "amendments97b['ProcessName'] = amendments97b['חלקה'].astype(str) + '/' + amendments97b['גוש'].astype(str) + '/' + amendments97b['תת גוש'].astype(str)\n",
    "amendments97b['ParcelName'] = amendments97b['גוש'].astype(str) + '/' + amendments97b['תת גוש'].astype(str) + '/' + amendments97b['חלקה'].astype(str)\n",
    "\n",
    "amendments97b.drop(columns=['גוש','תת גוש','חלקה'], inplace = True)\n",
    "amendments97b['מספר פניה'] = amendments97b['מספר פניה'].astype('Int32')"
   ]
  },
  {
   "cell_type": "markdown",
   "id": "5124423a-56f5-4072-9e75-3a3cf243907b",
   "metadata": {},
   "source": [
    "<h1 style=\"text-align:right;font-size:100%;\">\n",
    "    מיזוג שכבת גבולות 97ב עם טבלת חלקות 97ב\n",
    "    <h1 style=\"text-align:right;font-size:100%;\">\n",
    "        הסרת שדה לא רלוונטי\n",
    "        <h1 style=\"text-align:right;font-size:100%;\">\n",
    "            הגדרת שדה מספר מזהה של תהליך "
   ]
  },
  {
   "cell_type": "code",
   "execution_count": null,
   "id": "66760acc-e1c7-4a23-9830-c55eb12d7fe8",
   "metadata": {},
   "outputs": [],
   "source": [
    "amendments97b = amendments97b.merge(amendments97b_layer[['CPBUniqueID', 'ProcessName']], how='left', on='ProcessName')\n",
    "amendments97b['CPBUniqueID'] = 5000000 + amendments97b['מספר פניה']\n",
    "amendments97b['CPBUniqueID'] = amendments97b['CPBUniqueID'].astype(int)"
   ]
  },
  {
   "cell_type": "markdown",
   "id": "05a4e418-9967-4010-a651-ca6d9b8ddab6",
   "metadata": {},
   "source": [
    "<h1 style=\"text-align:right;font-size:100%;\">\n",
    "    הסרת שדה לא רלוונטי\n",
    "    <h1 style=\"text-align:right;font-size:100%;\">\n",
    "    מיזוג חלקות 97ב עם שכבת חלקות פעילה    "
   ]
  },
  {
   "cell_type": "code",
   "execution_count": null,
   "id": "937ef8ba-1b1b-4171-ae0e-8053b50269a1",
   "metadata": {},
   "outputs": [],
   "source": [
    "parcel_x_process = parcel_x_process.merge(right = amendments97b[['CPBUniqueID', 'ParcelName']],\n",
    "                                          on = 'ParcelName',\n",
    "                                          how = 'left')\n",
    "\n",
    "parcel_x_process['CPBUniqueUpdateProcessID'] = parcel_x_process['CPBUniqueUpdateProcessID'].fillna(parcel_x_process['CPBUniqueID'])\n",
    "\n",
    "parcel_x_process = parcel_x_process.drop(columns = ['CPBUniqueID'])\n",
    "del [amendments97b, amendments97b_layer]"
   ]
  },
  {
   "cell_type": "markdown",
   "id": "944d5552-5e5c-496b-ac40-a903c477c206",
   "metadata": {},
   "source": [
    "<h1 style=\"text-align:right;font-size:125%;\">\n",
    "    :עריכת שכבת חלקות פעילה לאחר תוצאות"
   ]
  },
  {
   "cell_type": "code",
   "execution_count": null,
   "id": "a3e8bca7-bdc0-4ca5-bf7b-a02b3d87fc37",
   "metadata": {},
   "outputs": [],
   "source": [
    "print('  11.d Defining new Layer')"
   ]
  },
  {
   "cell_type": "markdown",
   "id": "fbd56424-d787-4b2b-aa5f-a30c8c13a72d",
   "metadata": {},
   "source": [
    "<h1 style=\"text-align:right;font-size:100%;\">\n",
    "הוספת שדה של מספר מזהה לתהליך מבטל\n",
    "<h1 style=\"text-align:right;font-size:100%;\">\n",
    "הוספת שדה של סוג חלקה\n",
    "<h1 style=\"text-align:right;font-size:100%;\">\n",
    "הוספת 5,000,000 למספר מזהה של חלקה\n",
    "<h1 style=\"text-align:right;font-size:100%;\">\n",
    "תיקון סוגי שדות למספרים שלמים\n",
    "<h1 style=\"text-align:right;font-size:100%;\">\n",
    "הסרת כפילויות (ישנן חלקות שהוכפלו במיזוג בגלל נמצאו להן יותר מתהליך מעדכן אחד)\n",
    "<h1 style=\"text-align:right;font-size:100%;\">\n",
    "הסרת שדות לא רלונטיים"
   ]
  },
  {
   "cell_type": "code",
   "execution_count": null,
   "id": "247c0000-53b2-40c6-aa7d-d7655213324a",
   "metadata": {},
   "outputs": [],
   "source": [
    "parcel_x_process['CPBUniqueCancelProcessID'] = np.nan\n",
    "\n",
    "parcel_x_process['ParcelType'] = 2 #סופי\n",
    "\n",
    "parcel_x_process['LandDesignationPlan'] = parcel_x_process['LandDesignations']\n",
    "\n",
    "parcel_x_process['ParcelUniqueID'] = parcel_x_process['ParcelUniqueID'] + 5000000\n",
    "\n",
    "int_columns = ['ParcelUniqueID', 'ParcelType', 'ParcelNumber', 'BlockUniqueID', 'CreateProcessType', 'CPBUniqueCreateProcessID', 'CPBUniqueUpdateProcessID', 'CPBUniqueCancelProcessID']\n",
    "parcel_x_process[int_columns] = parcel_x_process[int_columns].fillna(0)\n",
    "parcel_x_process[int_columns] = parcel_x_process[int_columns].astype(int)\n",
    "\n",
    "parcel_x_process['LegalArea'] = parcel_x_process['LegalArea'].fillna(0)\n",
    "parcel_x_process['LegalArea'] = round(parcel_x_process['LegalArea']).astype(int)\n",
    "\n",
    "\n",
    "parcel_x_process.drop_duplicates(subset = ['ParcelName'], keep = 'first', inplace=True)\n",
    "\n",
    "parcel_x_process.drop(columns=['BlockName', 'ParcelName', 'ProcessName', 'LandDesignations'], inplace=True)"
   ]
  },
  {
   "cell_type": "markdown",
   "id": "1e8a293e-1fbf-486b-85f7-6b46b03f62e6",
   "metadata": {},
   "source": [
    "<h1 style=\"text-align:right; font-size:150%; color:#1c6ce6;\"> \n",
    "שמירת תוצאות 💾\n",
    "<h1 style=\"text-align:right; font-size:100%;\"> \n",
    "<h1 style=\"text-align:right; font-size:100%;\"> \n",
    "בחירת נתיב\n",
    "<h1 style=\"text-align:right; font-size:100%;\"> \n",
    "שמירה כטבלה\n",
    "<h1 style=\"text-align:right; font-size:100%;\"> \n",
    "שמירה כשכבה גיאוגרפית"
   ]
  },
  {
   "cell_type": "code",
   "execution_count": null,
   "id": "c78a49e3-7658-41bf-bf30-2a92e1cadbf3",
   "metadata": {},
   "outputs": [],
   "source": [
    "print('  11.e Exporting results to product folder')"
   ]
  },
  {
   "cell_type": "code",
   "execution_count": null,
   "id": "8fb475c9-9d87-4f30-ad8e-4fdc4e16bc9c",
   "metadata": {},
   "outputs": [],
   "source": [
    "#csv_dir  = r'\\\\mapi_shares\\MNCDB\\צוות מידע\\תוצרים\\csv\\parcels2D.csv'\n",
    "json_dir = r'\\\\mapi_shares\\MNCDB\\צוות מידע\\תוצרים\\json\\parcels2D.geojson'\n",
    "\n",
    "\n",
    "#parcel_x_process.drop(columns='geometry').to_csv(csv_dir ,encoding='cp1255', index=False)\n",
    "gpd.GeoDataFrame(parcel_x_process, geometry = 'geometry', crs = 2039).to_file(json_dir, driver = 'GeoJSON')"
   ]
  },
  {
   "cell_type": "code",
   "execution_count": null,
   "id": "abd3f8cc-f008-45ac-aba2-7ffaf9f8356c",
   "metadata": {},
   "outputs": [],
   "source": [
    "subprocess.call([r\"M:\\ncdbScripts\\scripts\\arcpyPro\\Parcels2D-Save as Feature Class.bat\"]);"
   ]
  }
 ],
 "metadata": {
  "kernelspec": {
   "display_name": "Python 3",
   "language": "python",
   "name": "python3"
  },
  "language_info": {
   "codemirror_mode": {
    "name": "ipython",
    "version": 3
   },
   "file_extension": ".py",
   "mimetype": "text/x-python",
   "name": "python",
   "nbconvert_exporter": "python",
   "pygments_lexer": "ipython3",
   "version": "3.9.4"
  },
  "toc-autonumbering": false,
  "toc-showcode": false,
  "toc-showmarkdowntxt": true,
  "toc-showtags": true
 },
 "nbformat": 4,
 "nbformat_minor": 5
}
