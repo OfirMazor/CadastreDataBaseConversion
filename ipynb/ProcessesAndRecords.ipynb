{
 "cells": [
  {
   "cell_type": "markdown",
   "id": "bc86969a-9a30-402c-afdf-76cb642e6264",
   "metadata": {},
   "source": [
    "<h1 style=\"background-color:#1c6ce6;\n",
    "           font-family:segoe ui;\n",
    "                color:#FFF9ED;\n",
    "           font-size:300%;\n",
    "           text-align:center;\n",
    "           border-radius:10px 10px;\"> \n",
    "🗺️ תהליך השלמה לנתוני תהליכי קדסטר 🗺️ "
   ]
  },
  {
   "cell_type": "markdown",
   "id": "7a9bd0ad-13d4-4008-99e1-215cbb0fb5f2",
   "metadata": {},
   "source": [
    "<h1 style=\"text-align:right; font-size:150%; color:#1c6ce6;\">\n",
    "ספריות 📚"
   ]
  },
  {
   "cell_type": "code",
   "execution_count": null,
   "id": "981e0940-4190-4030-88e9-52b9cc394f78",
   "metadata": {
    "tags": []
   },
   "outputs": [],
   "source": [
    "from configs import CNFG\n",
    "import pandas as pd\n",
    "import geopandas as gpd\n",
    "import dask_geopandas as daskgpd\n",
    "import subprocess"
   ]
  },
  {
   "cell_type": "markdown",
   "id": "93ff0842-5e62-45a1-8bd8-2da11c107c0b",
   "metadata": {},
   "source": [
    "<h1 style=\"text-align:right;font-size:100%\">\n",
    "הכנסת כל התהליכים הקדסטריים בסטאטוסים שרלונטיים לעדכון בנק\"ל אל טבלת גבולות רישומי קדסטר"
   ]
  },
  {
   "cell_type": "code",
   "execution_count": null,
   "id": "21214035-b951-4af8-8c8e-870560b41cd2",
   "metadata": {},
   "outputs": [],
   "source": [
    "subprocess.call([CNFG.BatchPath + \"CadasterRecordsBorders.bat\"]);"
   ]
  },
  {
   "cell_type": "code",
   "execution_count": null,
   "id": "619d695e-5dd9-426f-88ca-33b068a06909",
   "metadata": {
    "tags": []
   },
   "outputs": [],
   "source": [
    "print('    11.c Exporting GUIDs table as CSV file')"
   ]
  },
  {
   "cell_type": "markdown",
   "id": "9c815304-bc67-40a9-a6ec-240903925fe1",
   "metadata": {},
   "source": [
    "<h1 style=\"text-align:right; font-size:150%; color:#1c6ce6;\">קריאת נתונים 📑 "
   ]
  },
  {
   "cell_type": "markdown",
   "id": "6f63af4d-e5ec-41a2-b307-466920996f7f",
   "metadata": {},
   "source": [
    "<h1 style=\"text-align:right;font-size:100%\">\n",
    "טבלת תהליכי קדסטר"
   ]
  },
  {
   "cell_type": "code",
   "execution_count": null,
   "id": "9ac92298-6779-4837-89e3-cf5dbf339608",
   "metadata": {
    "tags": []
   },
   "outputs": [],
   "source": [
    "Processes_cols = ['ProcessType', 'ProcessName', 'GlobalID', 'DataSource', 'Status']\n",
    "\n",
    "Processes = daskgpd.read_file(CNFG.ProductPath, layer = 'CadasterProcessBorders', columns = Processes_cols, npartitions = 8)\\\n",
    "                   .rename(columns = {'GlobalID' : 'ProcessGUID'})\\\n",
    "                   .compute()\n",
    "\n",
    "del Processes_cols"
   ]
  },
  {
   "cell_type": "markdown",
   "id": "9beeb3b4-a02f-4449-a0c8-2ba75671ab12",
   "metadata": {},
   "source": [
    "<h1 style=\"text-align:right;font-size:100%\">\n",
    "טבלת רישומי קדסטר"
   ]
  },
  {
   "cell_type": "code",
   "execution_count": null,
   "id": "cce43635-6ba6-4679-b0cb-d32b8b6e5883",
   "metadata": {
    "tags": []
   },
   "outputs": [],
   "source": [
    "Records_cols = ['Name', 'GlobalID']\n",
    "\n",
    "Records = daskgpd.read_file(CNFG.ProductPath, layer = 'CadasterRecordsBorders', columns = Records_cols, npartitions = 8)\\\n",
    "                 .rename(columns = {'GlobalID' : 'RecordGUID', 'Name' : 'ProcessName'})\\\n",
    "                 .compute()\n",
    "\n",
    "del Records_cols"
   ]
  },
  {
   "cell_type": "markdown",
   "id": "fcd4f0e0-712f-4ce4-b807-4bded920965d",
   "metadata": {},
   "source": [
    "<h1 style=\"text-align:right;font-size:100%\">\n",
    "בדיקת מזהה ייחודי"
   ]
  },
  {
   "cell_type": "code",
   "execution_count": null,
   "id": "d069b62c-4624-44f3-8142-d09565613155",
   "metadata": {
    "tags": []
   },
   "outputs": [],
   "source": [
    "if Processes['ProcessGUID'].is_unique == False: print('Warning: Processes GlobalID is not unique')      \n",
    "if Records['RecordGUID'].is_unique == False   : print('Warning: Records GlobalID is not unique')"
   ]
  },
  {
   "cell_type": "markdown",
   "id": "cdbe9ffe-34ba-46c4-aba4-12d890ff8c5c",
   "metadata": {},
   "source": [
    "<h1 style=\"text-align:right;font-size:100%\">\n",
    "מיזוג הטבלאות לקבלת מזהים של שני המקורות לאותה תכנית"
   ]
  },
  {
   "cell_type": "code",
   "execution_count": null,
   "id": "94470cce-022f-4e89-84a6-dd5970a395fe",
   "metadata": {
    "tags": []
   },
   "outputs": [],
   "source": [
    "merge = Processes.merge(Records, on = 'ProcessName', how = 'left')\n",
    "del [Processes, Records]"
   ]
  },
  {
   "cell_type": "markdown",
   "id": "c66cb9c9-2c15-4f41-bbd4-d989b1851207",
   "metadata": {
    "tags": []
   },
   "source": [
    "<h1 style=\"text-align:right; font-size:150%; color:#1c6ce6;\"> \n",
    "שמירת תוצאות 💾"
   ]
  },
  {
   "cell_type": "markdown",
   "id": "d9eae269-b866-4423-ada6-94b8f951a1bf",
   "metadata": {},
   "source": [
    "<h1 style=\"text-align:right;font-size:100%\">\n",
    "שמירה כקובץ טבלאי לשימוש מאוחר יותר בהסבה"
   ]
  },
  {
   "cell_type": "code",
   "execution_count": null,
   "id": "1a5a296f-7763-4678-be28-04a711f4b5a2",
   "metadata": {
    "tags": []
   },
   "outputs": [],
   "source": [
    "merge.to_csv(CNFG.CSVPath + 'ProcessesAndRecords.csv', index = False)"
   ]
  }
 ],
 "metadata": {
  "kernelspec": {
   "display_name": "Python 3 (ipykernel)",
   "language": "python",
   "name": "python3"
  },
  "language_info": {
   "codemirror_mode": {
    "name": "ipython",
    "version": 3
   },
   "file_extension": ".py",
   "mimetype": "text/x-python",
   "name": "python",
   "nbconvert_exporter": "python",
   "pygments_lexer": "ipython3",
   "version": "3.11.3"
  }
 },
 "nbformat": 4,
 "nbformat_minor": 5
}
