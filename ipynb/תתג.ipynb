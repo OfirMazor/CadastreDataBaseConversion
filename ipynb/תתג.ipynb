{
 "cells": [
  {
   "cell_type": "markdown",
   "id": "82410389-bb88-4a4a-ad45-7024d7cd7301",
   "metadata": {},
   "source": [
    "<h1 style=\"background-color:#1c6ce6;\n",
    "           font-family:segoe ui;\n",
    "                color:#FFF9ED;\n",
    "           font-size:300%;\n",
    "           text-align:center;\n",
    "           border-radius:10px 10px;\"> \n",
    "🗺️ תהליך הסבת שכבת תשריטי תיעוד גבולות לבנק\"ל מודרני 🗺️ "
   ]
  },
  {
   "cell_type": "code",
   "execution_count": null,
   "id": "20a72b2a-b077-4d19-9ad0-a07651bf0185",
   "metadata": {},
   "outputs": [],
   "source": [
    "print('5. Tatag borders:')"
   ]
  },
  {
   "cell_type": "markdown",
   "id": "5f39a01e-9873-43f6-8089-58ff7d80d3d9",
   "metadata": {},
   "source": [
    "<h1 style=\"text-align:right; font-size:150%; color:#1c6ce6;\">\n",
    "ספריות 📚"
   ]
  },
  {
   "cell_type": "code",
   "execution_count": null,
   "id": "5eaec6c1-185f-4bdd-8bc3-b878dc795189",
   "metadata": {},
   "outputs": [],
   "source": [
    "import warnings\n",
    "warnings.filterwarnings('ignore')\n",
    "\n",
    "import numpy as np\n",
    "import pandas as pd\n",
    "import geopandas as gpd\n",
    "import datetime as dt\n",
    "import subprocess"
   ]
  },
  {
   "cell_type": "markdown",
   "id": "6b891509-0a1c-4d11-ba7f-cccc221863a2",
   "metadata": {},
   "source": [
    "<h1 style=\"text-align:right; font-size:150%; color:#1c6ce6;\">קריאת נתונים 📑 "
   ]
  },
  {
   "cell_type": "code",
   "execution_count": null,
   "id": "fe202cc9-5368-4411-8bbe-582916bc6ddd",
   "metadata": {},
   "outputs": [],
   "source": [
    "print('  5.a Reading inputs')"
   ]
  },
  {
   "cell_type": "code",
   "execution_count": null,
   "id": "5ba0e9f7-403d-4531-b57c-1929bdfad63e",
   "metadata": {},
   "outputs": [],
   "source": [
    "RawData_folder = r\"\\\\mapi_shares\\MNCDB\\צוות מידע\\RawData/\"\n",
    "\n",
    "today =  dt.date.today()\n",
    "date_name =  str(today.year) + str(today.month) + str(today.day) + '_ncdb.gdb'\n",
    "product_path = r'\\\\mapi_shares\\MNCDB\\צוות מידע\\תוצרים/' + date_name"
   ]
  },
  {
   "cell_type": "markdown",
   "id": "2ca8fb3f-78b8-4584-a673-d1687dbf0d93",
   "metadata": {},
   "source": [
    "<h1 style=\"text-align:right;font-size:100%\">\n",
    "שכבת גבולות תת\"ג קיימת"
   ]
  },
  {
   "cell_type": "code",
   "execution_count": null,
   "id": "076e9eb6-a6fb-4872-8732-4e245779f196",
   "metadata": {},
   "outputs": [],
   "source": [
    "tatag_cols = ['TATAG_NUM', 'TATAG_YEAR', 'TATAG_STATUS', 'SURVEYOR_NO', 'GUSH_NUM', 'GUSH_SUFFIX', 'geometry']\n",
    "\n",
    "tatag_layer = gpd.read_file(RawData_folder + 'CADSDE\\TATAG.gdb',\n",
    "                            layer = 'TATAG',\n",
    "                            include_fields = tatag_cols)"
   ]
  },
  {
   "cell_type": "markdown",
   "id": "8aa9aa7d-a6e7-4515-a4a9-31f318a41d66",
   "metadata": {},
   "source": [
    "<h1 style=\"text-align:right;font-size:100%\">\n",
    "שכבת גבולות תב\"ע קיימת"
   ]
  },
  {
   "cell_type": "code",
   "execution_count": null,
   "id": "b8b23261-74ea-40fd-94fc-3ac79aff7642",
   "metadata": {},
   "outputs": [],
   "source": [
    "taba_cols = ['PLAN','TAARICH','geometry']\n",
    "\n",
    "taba_layer = gpd.read_file(RawData_folder + 'CADSDE\\MMI_KAV_KACHOLRETZEF.gdb',\n",
    "                           layer = 'MMI_KAV_KACHOLRETZEF',\n",
    "                           include_fields = taba_cols)"
   ]
  },
  {
   "cell_type": "markdown",
   "id": "1c3b7e47-f943-4e40-ad2e-0657c3b200af",
   "metadata": {},
   "source": [
    "<h1 style=\"text-align:right;font-size:100%\">\n",
    "שכבת גושי קדסטר מודרנית"
   ]
  },
  {
   "cell_type": "code",
   "execution_count": null,
   "id": "375c2d83-8ef8-43aa-ab2f-190bb297b029",
   "metadata": {},
   "outputs": [],
   "source": [
    "Blocks_cols = ['BlockNumber', 'SubBlockNumber', 'BlockUniqueID']\n",
    "\n",
    "Blocks = gpd.read_file(product_path, layer = 'Blocks',\n",
    "                       include_fields = Blocks_cols,\n",
    "                       ignore_geometry = True)\n",
    "\n",
    "Blocks = Blocks.astype(int)\n",
    "\n",
    "\n",
    "del [RawData_folder, today, date_name, tatag_cols, taba_cols, Blocks_cols]"
   ]
  },
  {
   "cell_type": "markdown",
   "id": "dc918b27-959a-49e6-8a59-97e7470eace1",
   "metadata": {},
   "source": [
    "<h1 style=\"text-align:right; font-size:150%; color:#1c6ce6;\">\n",
    "עיבוד נתונים 🛠️"
   ]
  },
  {
   "cell_type": "code",
   "execution_count": null,
   "id": "c6414156-3b9c-41a0-bbfd-8f8e7fa58fe2",
   "metadata": {},
   "outputs": [],
   "source": [
    "print('  5.b Cleaning data')"
   ]
  },
  {
   "cell_type": "code",
   "execution_count": null,
   "id": "22061b75-30c3-4337-9667-eb55e5f00ee2",
   "metadata": {},
   "outputs": [],
   "source": [
    "print('  5.c Data conversion')"
   ]
  },
  {
   "cell_type": "markdown",
   "id": "fc6bbbec-47bc-4661-86c0-01e32a52f678",
   "metadata": {},
   "source": [
    "<h1 style=\"text-align:right;font-size:125%\">\n",
    ":עיבוד נתוני תב\"ע\n",
    "<h1 style=\"text-align:right;font-size:100%\">\n",
    "<h1 style=\"text-align:right;font-size:100%\">\n",
    "הגדרת שדה תאריך של תב\"ע\n",
    "<h1 style=\"text-align:right;font-size:100%\">\n",
    "סידור רשומות לפי תאריך\n",
    "<h1 style=\"text-align:right;font-size:100%\">\n",
    "הסרת רשומות כפולות    \n",
    "<h1 style=\"text-align:right;font-size:100%\">\n",
    "סינון תב\"עות שנמצאות רק בשטחי תת\"ג על ידי איחוד מרחבי   \n",
    "<h1 style=\"text-align:right;font-size:100%\">\n",
    "הוספת שדה שם תהליך לצורך איחוד בהמשך"
   ]
  },
  {
   "cell_type": "code",
   "execution_count": null,
   "id": "17f1e91c-ecc7-4776-85aa-4a9f5af5b5d2",
   "metadata": {},
   "outputs": [],
   "source": [
    "taba_layer['TAARICH'] = pd.to_datetime(taba_layer['TAARICH'], dayfirst=True)\n",
    "\n",
    "taba_layer.sort_values('TAARICH', inplace=True)\n",
    "\n",
    "taba_layer = taba_layer.drop_duplicates(subset='PLAN',ignore_index=True, keep='last')\n",
    "\n",
    "taba_layer = gpd.sjoin(tatag_layer, taba_layer, how='inner', predicate='intersects')\n",
    "\n",
    "taba_layer['ProcessName'] = taba_layer['TATAG_NUM'].astype('str') + '/' + taba_layer['TATAG_YEAR'].astype('str')\n",
    "\n",
    "taba_layer.sort_values(['ProcessName', 'TAARICH'], inplace=True)\n",
    "\n",
    "taba_layer = taba_layer.drop_duplicates(subset = 'ProcessName', keep='last')\n",
    "\n",
    "taba_layer = taba_layer[['ProcessName', 'PLAN']]\n",
    "taba_layer.rename(columns={'PLAN':'PlanName'}, inplace=True)"
   ]
  },
  {
   "cell_type": "markdown",
   "id": "f60ecd7b-72e7-47c7-81b3-be1e9676809e",
   "metadata": {},
   "source": [
    "<h1 style=\"text-align:right;font-size:125%\">\n",
    ":עיבוד נתוני גושים\n",
    "<h1 style=\"text-align:right;font-size:100%\">\n",
    "<h1 style=\"text-align:right;font-size:100%\">\n",
    "הוספת שדה מקשר של שם מלא לגוש לטובת איחוד בהמשך"
   ]
  },
  {
   "cell_type": "code",
   "execution_count": null,
   "id": "4afadab7-4dea-4aeb-bf92-71d2af4978de",
   "metadata": {},
   "outputs": [],
   "source": [
    "Blocks = Blocks.astype(int)\n",
    "Blocks['BlockName'] = Blocks['BlockNumber'].astype(str) + '_' + Blocks['SubBlockNumber'].astype(str)"
   ]
  },
  {
   "cell_type": "markdown",
   "id": "002f5681-1d7c-40f7-89d6-1bb6d00686f0",
   "metadata": {},
   "source": [
    "<h1 style=\"text-align:right;font-size:125%\">\n",
    ":עיבוד נתוני תת\"ג\n",
    "<h1 style=\"text-align:right;font-size:100%\">\n",
    "<h1 style=\"text-align:right;font-size:100%\">\n",
    "הסרת מספרי מלבן שאינם תקינים\n",
    "<h1 style=\"text-align:right;font-size:100%\">\n",
    "הסרת רשומות ללא מידע של גוש    \n",
    "<h1 style=\"text-align:right;font-size:100%\">\n",
    "מילוי ערכי מספרי תת-גוש ב-0    \n",
    "<h1 style=\"text-align:right;font-size:100%\">\n",
    "הוספת שדה מקשר של שם מלא לגוש לטובת איחוד עם שכבת גושים וקבלת מספר מזהה לגוש"
   ]
  },
  {
   "cell_type": "code",
   "execution_count": null,
   "id": "179f6664-5c01-4be2-866e-b95ff38e93e9",
   "metadata": {},
   "outputs": [],
   "source": [
    "legit_rectangle_min = 1\n",
    "legit_rectangle_max = 4000\n",
    "\n",
    "tatag_layer = tatag_layer[tatag_layer['TATAG_NUM'].between(legit_rectangle_min, legit_rectangle_max)]\n",
    "\n",
    "del [legit_rectangle_min, legit_rectangle_max]\n",
    "\n",
    "tatag_layer.dropna(subset = ['GUSH_NUM'], inplace=True)\n",
    "\n",
    "tatag_layer['GUSH_NUM'] = tatag_layer['GUSH_NUM'].astype(int)\n",
    "tatag_layer['GUSH_SUFFIX'] = tatag_layer['GUSH_SUFFIX'].fillna(0)\n",
    "tatag_layer['GUSH_SUFFIX'] = tatag_layer['GUSH_SUFFIX'].astype(int)\n",
    "tatag_layer['BlockName'] = tatag_layer['GUSH_NUM'].astype(str) + '_' + tatag_layer['GUSH_SUFFIX'].astype(str)"
   ]
  },
  {
   "cell_type": "code",
   "execution_count": null,
   "id": "fb13e2e8-b71f-446d-8592-b59047e9aa87",
   "metadata": {},
   "outputs": [],
   "source": [
    "tatag_layer.dropna(subset = ['GUSH_NUM'], inplace=True)\n",
    "\n",
    "tatag_layer['GUSH_NUM'] = tatag_layer['GUSH_NUM'].astype(int)\n",
    "tatag_layer['GUSH_SUFFIX'] = tatag_layer['GUSH_SUFFIX'].fillna(0)\n",
    "tatag_layer['GUSH_SUFFIX'] = tatag_layer['GUSH_SUFFIX'].astype(int)\n",
    "tatag_layer['BlockName'] = tatag_layer['GUSH_NUM'].astype(str) + '_' + tatag_layer['GUSH_SUFFIX'].astype(str)\n",
    "\n",
    "tatag_layer = tatag_layer.merge(Blocks, on = 'BlockName', how='left')"
   ]
  },
  {
   "cell_type": "markdown",
   "id": "e0a62e59-2e9a-4945-bde2-bac253967dce",
   "metadata": {},
   "source": [
    "<h1 style=\"text-align:right; font-size:150%; color:#1c6ce6;\"> \n",
    "יצירת שכבה חדשה בהתאם לאפיון ✨"
   ]
  },
  {
   "cell_type": "code",
   "execution_count": null,
   "id": "c081ce67-94f4-48d6-ad18-f8b9cbcea111",
   "metadata": {},
   "outputs": [],
   "source": [
    "print('  5.d Defining new Layer')"
   ]
  },
  {
   "cell_type": "code",
   "execution_count": null,
   "id": "951a0e9b-57a5-4c87-956d-0a301265816b",
   "metadata": {},
   "outputs": [],
   "source": [
    "new_columns = np.dtype([\n",
    "                        (\"CPBUniqueID\", int),\n",
    "                       #(\"BlockUniqueID\", int), יאוחד בהמשך התהליך\n",
    "                        (\"ProcessType\", int),\n",
    "                        (\"MapYear\", int),\n",
    "                        (\"ProcessName\", str),\n",
    "                        (\"GeodeticNetwork\", int),\n",
    "                        (\"Status\", int),\n",
    "                       #(\"PlanName\", str), יאוחד בהמשך התהליך\n",
    "                        (\"SurveyorLicenseID\", int),\n",
    "                        (\"DataSource\", int),\n",
    "                        (\"geometry\", str)\n",
    "                        ])\n",
    "\n",
    "\n",
    "tatag_new = gpd.GeoDataFrame(np.empty(0, dtype=new_columns),\n",
    "                             geometry = 'geometry',\n",
    "                             crs = 2039)"
   ]
  },
  {
   "cell_type": "markdown",
   "id": "20dd0815-ee27-495e-85e8-478754d10ad9",
   "metadata": {},
   "source": [
    "<h1 style=\"text-align:right;font-size:100%\">\n",
    "איכלוס שדות"
   ]
  },
  {
   "cell_type": "code",
   "execution_count": null,
   "id": "d95d92d1-0539-4eb4-992b-e36c38daf2da",
   "metadata": {},
   "outputs": [],
   "source": [
    "tatag_new['MapYear'] = tatag_layer['TATAG_YEAR']\n",
    "\n",
    "\n",
    "tatag_new['ProcessName'] = tatag_layer['TATAG_NUM'].astype('str') +'/'+ tatag_layer['TATAG_YEAR'].astype('str')\n",
    "\n",
    "\n",
    "tatag_new['geometry'] = tatag_layer['geometry']\n",
    "\n",
    "\n",
    "tatag_new['ProcessType'] = 4\n",
    "\n",
    "\n",
    "tatag_new['DataSource'] = 5\n",
    "\n",
    "\n",
    "statusDict = {0 : 21,  #הוגש\n",
    "              1 : 22,  #בביקורת\n",
    "              2 : 23}  #מאושר\n",
    "\n",
    "\n",
    "tatag_new['Status'] = tatag_layer['TATAG_STATUS'].map(statusDict)\n",
    "\n",
    "\n",
    "geodeticNetDict = {range(0, 1998)     : 1,     # רשת ישראל הישנה\n",
    "                   range(1999, 2007)  : 2,     # רשת ישראל החדשה\n",
    "                   range(2008, 99999) : 3}     # רשת ישראל התקפה\n",
    "tatag_new['GeodeticNetwork'] = tatag_new['MapYear'].apply(lambda x: next((v for k, v in geodeticNetDict.items() if x in k), 0))\n",
    "\n",
    "\n",
    "tatag_new['SurveyorLicenseID'] = tatag_layer['SURVEYOR_NO']\n",
    "tatag_new['SurveyorLicenseID'] = tatag_new['SurveyorLicenseID'].astype(int)\n",
    "\n",
    "\n",
    "tatag_new['BlockUniqueID'] = tatag_layer['BlockUniqueID']\n",
    "tatag_new['BlockUniqueID'] = tatag_new['BlockUniqueID'].fillna(0)\n",
    "tatag_new['BlockUniqueID'] = tatag_new['BlockUniqueID'].astype(int)\n",
    "\n",
    "\n",
    "tatag_new = tatag_new.merge(taba_layer[['ProcessName', 'PlanName']], on ='ProcessName', how = 'left')\n",
    "tatag_new = tatag_new.drop_duplicates(subset='ProcessName',ignore_index=True, keep='last')\n",
    "\n",
    "\n",
    "#הסרת תכניות בעלי סטאטוס לא ידוע\n",
    "tatag_new.dropna(inplace=True, subset=['Status'])\n",
    "\n",
    "\n",
    "tatag_new['CPBUniqueID'] = range(1, 1 + len(tatag_new))\n",
    "tatag_new['CPBUniqueID'] = tatag_new['CPBUniqueID'] + 4000000"
   ]
  },
  {
   "cell_type": "code",
   "execution_count": null,
   "id": "e957e858-a4b5-4f8b-ac62-10c4b83f29e9",
   "metadata": {},
   "outputs": [],
   "source": [
    "tatag_new.sort_values(['CPBUniqueID', 'MapYear'],inplace = True)"
   ]
  },
  {
   "cell_type": "markdown",
   "id": "83de9b45-0e4c-46d6-80db-07cbe62a2569",
   "metadata": {},
   "source": [
    "<h1 style=\"text-align:right; font-size:150%; color:#1c6ce6;\"> \n",
    "שמירת תוצאות 💾\n",
    "<h1 style=\"text-align:right; font-size:100%;\"> \n",
    "<h1 style=\"text-align:right; font-size:100%;\"> \n",
    "בחירת נתיב\n",
    "<h1 style=\"text-align:right; font-size:100%;\"> \n",
    "שמירה כטבלה\n",
    "<h1 style=\"text-align:right; font-size:100%;\"> \n",
    "שמירה כשכבה גיאוגרפית"
   ]
  },
  {
   "cell_type": "code",
   "execution_count": null,
   "id": "e954228f-76db-40e7-b8d0-c82252dd7ea5",
   "metadata": {},
   "outputs": [],
   "source": [
    "print('  5.e Exporting results to product folder')"
   ]
  },
  {
   "cell_type": "code",
   "execution_count": null,
   "id": "7cc1dce3-0de7-4bc6-8b3b-77e8870eeeb2",
   "metadata": {},
   "outputs": [],
   "source": [
    "#csv_dir  = r'\\\\mapi_shares\\MNCDB\\צוות מידע\\תוצרים\\csv\\Tatag.csv'\n",
    "json_dir =  r'\\\\mapi_shares\\MNCDB\\צוות מידע\\תוצרים\\json\\Tatag.json'\n",
    "\n",
    "\n",
    "#tatag_new.drop(columns='geometry').to_csv(csv_dir ,encoding='cp1255', index=False)\n",
    "tatag_new.to_file(json_dir, driver = 'GeoJSON')"
   ]
  },
  {
   "cell_type": "code",
   "execution_count": null,
   "id": "f82571a3-1d33-4d7d-9988-aa388b1b897c",
   "metadata": {},
   "outputs": [],
   "source": [
    "subprocess.call([r\"M:\\ncdbScripts\\scripts\\arcpyPro\\Tatag-Save as Feature Class.bat\"]);"
   ]
  }
 ],
 "metadata": {
  "kernelspec": {
   "display_name": "Python 3",
   "language": "python",
   "name": "python3"
  },
  "language_info": {
   "codemirror_mode": {
    "name": "ipython",
    "version": 3
   },
   "file_extension": ".py",
   "mimetype": "text/x-python",
   "name": "python",
   "nbconvert_exporter": "python",
   "pygments_lexer": "ipython3",
   "version": "3.9.4"
  }
 },
 "nbformat": 4,
 "nbformat_minor": 5
}
