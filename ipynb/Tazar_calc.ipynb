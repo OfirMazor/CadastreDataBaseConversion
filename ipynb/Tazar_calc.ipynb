{
 "cells": [
  {
   "cell_type": "markdown",
   "id": "83fd3187-6359-45c3-99d2-c60742168cf1",
   "metadata": {},
   "source": [
    "<h1 style=\"background-color:#1c6ce6;\n",
    "           font-family:segoe ui;\n",
    "                color:#FFF9ED;\n",
    "           font-size:300%;\n",
    "           text-align:center;\n",
    "           border-radius:10px 10px;\"> \n",
    "✍🏽 תהליך הסבת שכבת גבולות תכניות לצרכי רישום לבנק\"ל מודרני ✍🏽 "
   ]
  },
  {
   "cell_type": "code",
   "execution_count": null,
   "id": "e4638bb9-67d4-4864-aa63-c6ae63b18d0f",
   "metadata": {},
   "outputs": [],
   "source": [
    "print(' Tazar borders:')"
   ]
  },
  {
   "cell_type": "markdown",
   "id": "5926947f-abc6-4089-bd3b-bfbdf77f1f77",
   "metadata": {},
   "source": [
    "<h1 style=\"text-align:right; font-size:150%; color:#1c6ce6;\">\n",
    "ספריות 📚"
   ]
  },
  {
   "cell_type": "code",
   "execution_count": null,
   "id": "5eaec6c1-185f-4bdd-8bc3-b878dc795189",
   "metadata": {
    "tags": []
   },
   "outputs": [],
   "source": [
    "import warnings\n",
    "warnings.filterwarnings('ignore')\n",
    "\n",
    "import numpy as np\n",
    "import pandas as pd\n",
    "import polars as pl\n",
    "import datetime as dt\n",
    "import geopandas as gpd\n",
    "from configs import CNFG\n",
    "import dask_geopandas as daskgpd\n",
    "from helpers import assign_ProcessName, assign_BlockName, drop_bad_ProcessNames"
   ]
  },
  {
   "cell_type": "markdown",
   "id": "e9975592-6b6c-46eb-839d-448e5023bb57",
   "metadata": {},
   "source": [
    "<h1 style=\"text-align:right; font-size:150%; color:#1c6ce6;\">קריאת נתונים 📑 "
   ]
  },
  {
   "cell_type": "code",
   "execution_count": null,
   "id": "3e5b1ea5-425d-4529-81ee-38567479d382",
   "metadata": {},
   "outputs": [],
   "source": [
    "print('   Reading inputs')"
   ]
  },
  {
   "cell_type": "markdown",
   "id": "6fd482ac-c788-4584-8774-0e86471d11fc",
   "metadata": {},
   "source": [
    "<h1 style=\"text-align:right;font-size:100%\">\n",
    "טבלת תצ\"ר עם קידומת"
   ]
  },
  {
   "cell_type": "code",
   "execution_count": null,
   "id": "362b1509-d903-4eb6-925d-75c6cb00f8f8",
   "metadata": {
    "tags": []
   },
   "outputs": [],
   "source": [
    "tazar_kidomet_cols = ['TALAR_NUM', 'TALAR_YEAR', 'KIDOMET_TALAR']\n",
    "\n",
    "tazar_kidomet = pd.read_csv(CNFG.Local + 'KIDOMET_TALAR.csv', usecols = tazar_kidomet_cols, encoding = 'cp1255').astype({'TALAR_NUM':int, 'TALAR_YEAR':int})\n",
    "\n",
    "del tazar_kidomet_cols"
   ]
  },
  {
   "cell_type": "markdown",
   "id": "9c529f75-356c-4d53-8850-542b3048b726",
   "metadata": {},
   "source": [
    "<h1 style=\"text-align:right;font-size:100%\">\n",
    "טבלת תצ\"ר בתהליך"
   ]
  },
  {
   "cell_type": "code",
   "execution_count": null,
   "id": "3f6d7d7e-04ee-4b87-907e-3ed2fbeea4b5",
   "metadata": {
    "tags": []
   },
   "outputs": [],
   "source": [
    "general_inProcess_cols = {'columns' : ['TALAR_NUM', 'TALAR_YEAR', 'CADASTER_PROCESS', 'GUSHNUM', 'GUSHSUFFIX', 'SURVEYOR', 'TABA_NAMES']}\n",
    "\n",
    "general_inProcess_schema = {'TALAR_NUM' : 'Int64', 'TALAR_YEAR' : 'Int64', 'CADASTER_PROCESS' : 'Int64', 'SURVEYOR' : 'Int64',\n",
    "                            'GUSHNUM'   : 'Int64', 'GUSHSUFFIX' : 'Int64', 'TABA_NAMES'       : str}\n",
    "\n",
    "general_inProcess = pl.read_excel(CNFG.Oracle + 'general_inProcess.xlsx', read_csv_options = general_inProcess_cols)\\\n",
    "                      .to_pandas()\\\n",
    "                      .astype(general_inProcess_schema)\\\n",
    "                      .rename(columns = {'GUSHNUM' : 'GUSH_NUM', 'GUSHSUFFIX' : 'GUSH_SUFFIX', 'TABA_NAMES' : 'PlanName'})\n",
    "\n",
    "del [general_inProcess_cols, general_inProcess_schema]"
   ]
  },
  {
   "cell_type": "markdown",
   "id": "cd950920-dd81-4f0f-8ac2-ef84cad0a3bd",
   "metadata": {},
   "source": [
    "<h1 style=\"text-align:right;font-size:100%\">\n",
    "שכבת גבולות תצ\"ר"
   ]
  },
  {
   "cell_type": "code",
   "execution_count": null,
   "id": "1d9e2589-e69c-4a3b-9f7b-615e2b718477",
   "metadata": {
    "tags": []
   },
   "outputs": [],
   "source": [
    "tazar_border_cols = ['GUSH_NUM', 'GUSH_SUFFIX', 'SURVEYOR', 'STATUS_TEXT', 'STATUS', 'TALAR_SOURCE', 'TALAR_YEAR', 'TALAR_NUM', 'TALAR_ID', 'geometry']\n",
    "\n",
    "tazar_border_schema = {'GUSH_NUM' : int, 'GUSH_SUFFIX' : int, 'SURVEYOR' : int, 'STATUS_TEXT': str,\n",
    "                       'STATUS' : int, 'TALAR_SOURCE': int, 'TALAR_YEAR' : int, 'TALAR_NUM' : int, 'TALAR_ID' : int}\n",
    "\n",
    "tazar_border = daskgpd.read_file(CNFG.CADSDE + 'TALAR.gdb', layer = 'TALAR', columns = tazar_border_cols, npartitions = 5).compute()\n",
    "tazar_border = tazar_border[~tazar_border['TALAR_NUM'].isna()]\n",
    "\n",
    "\n",
    "tazar_border.fillna({col:0 for col in ['GUSH_NUM','GUSH_SUFFIX','SURVEYOR','STATUS','TALAR_SOURCE','TALAR_YEAR','TALAR_NUM','TALAR_ID']},\n",
    "                    inplace = True)\n",
    "\n",
    "tazar_border = tazar_border.astype(tazar_border_schema)\n",
    "\n",
    "\n",
    "del [tazar_border_cols, tazar_border_schema]"
   ]
  },
  {
   "cell_type": "markdown",
   "id": "7b4af52d-6f8b-47ea-bdc3-e035f572f80a",
   "metadata": {},
   "source": [
    "<h1 style=\"text-align:right;font-size:100%\">\n",
    "שכבת גבולות תצ\"ר טבלאיות"
   ]
  },
  {
   "cell_type": "code",
   "execution_count": null,
   "id": "33e592d0-b80f-4b56-be28-9a0274212358",
   "metadata": {
    "tags": []
   },
   "outputs": [],
   "source": [
    "tazar_tabular_border_cols = ['SOURCE', 'STATUS_TEXT', 'STATUS', 'TALAR_YEAR', 'TALAR_NUM', 'TALAR_ID', 'GUSH_SUFFIX', 'GUSH_NUM', 'geometry']\n",
    "\n",
    "tazar_tabular_border = daskgpd.read_file(CNFG.CADSDE + 'TALAR_TABLE.gdb', layer = 'TALAR_TABLE',  columns = tazar_tabular_border_cols, npartitions = 5).compute()\n",
    "\n",
    "del [tazar_tabular_border_cols]"
   ]
  },
  {
   "cell_type": "markdown",
   "id": "b5aef270-db6a-4de6-8a10-80fd85f8835c",
   "metadata": {},
   "source": [
    "<h1 style=\"text-align:right;font-size:100%\">\n",
    "שכבת גבולות תצ\"ר בתהליך"
   ]
  },
  {
   "cell_type": "code",
   "execution_count": null,
   "id": "08db7cd7-5059-4af2-acc8-0666df467e1d",
   "metadata": {
    "tags": []
   },
   "outputs": [],
   "source": [
    "tazar_inprocess_cols = ['GUSHSUFFIX', 'GUSHNUM', 'TALAR_YEAR', 'TALAR_NUM', 'CADASTER_PROCESS', 'geometry']\n",
    "\n",
    "tazar_inprocess = daskgpd.read_file(CNFG.CADSDE + 'CadasterProcessBorder.gdb', layer = 'CadasterProcessBorder', columns = tazar_inprocess_cols, npartitions = 5).compute()\n",
    "\n",
    "tazar_inprocess.rename(columns = {'GUSHNUM':'GUSH_NUM', 'GUSHSUFFIX':'GUSH_SUFFIX'}, inplace=True)\n",
    "\n",
    "tazar_inprocess = tazar_inprocess[tazar_inprocess['CADASTER_PROCESS'] == 2]\n",
    "tazar_inprocess.drop(columns = ['CADASTER_PROCESS'], inplace = True)\n",
    "\n",
    "\n",
    "del tazar_inprocess_cols"
   ]
  },
  {
   "cell_type": "markdown",
   "id": "ae053175-bbf5-4aa9-943a-35cd7c1bd1b0",
   "metadata": {},
   "source": [
    "<h1 style=\"text-align:right;font-size:100%\">\n",
    "טבלת תצ\"ר טבלאי"
   ]
  },
  {
   "cell_type": "code",
   "execution_count": null,
   "id": "48e24682-3514-4c98-96ed-b410674ae91e",
   "metadata": {
    "tags": []
   },
   "outputs": [],
   "source": [
    "tazar_table_cols = ['GUSH_NUM', 'GUSH_SUFFIX', 'TALAR_ID', 'TALAR_NUM', 'TALAR_YEAR', 'STATUS', 'SOURCE']\n",
    "\n",
    "tazar_table = pd.read_csv(CNFG.Oracle + 'TALAR_TABLE.csv', usecols = tazar_table_cols, encoding = 'cp1255')\n",
    "\n",
    "del tazar_table_cols"
   ]
  },
  {
   "cell_type": "markdown",
   "id": "1246b610-c23f-4dcd-be74-205a995da669",
   "metadata": {},
   "source": [
    "<h1 style=\"text-align:right;font-size:100%\">\n",
    "    טבלת תצ\"ר"
   ]
  },
  {
   "cell_type": "code",
   "execution_count": null,
   "id": "1a9d3cb1-a1aa-45a5-9069-c66f2ff083cb",
   "metadata": {
    "tags": []
   },
   "outputs": [],
   "source": [
    "oracle_talar_cols = ['TALAR_ID', 'TALAR_NUM', 'TALAR_YEAR', 'GUSH_NUM', 'GUSH_SUFFIX', 'SURVEY_DATE', 'TALAR_SOURCE', 'STATUS', 'SURVEYOR']\n",
    "\n",
    "oracle_talar =  pd.read_csv(CNFG.Oracle + 'TALAR.csv', usecols = oracle_talar_cols, encoding='cp1256')\n",
    "\n",
    "del oracle_talar_cols"
   ]
  },
  {
   "cell_type": "markdown",
   "id": "d2070306-8f38-4058-93ec-b2e3a8488df1",
   "metadata": {},
   "source": [
    "<h1 style=\"text-align:right;font-size:100%\">\n",
    "טבלת מערכת ניהול קדסטר"
   ]
  },
  {
   "cell_type": "code",
   "execution_count": null,
   "id": "e1a74df9-2602-43ae-9d3b-e504728eea4a",
   "metadata": {
    "tags": []
   },
   "outputs": [],
   "source": [
    "hagi_table_cols = ['SURVEY_DATE', 'SURVEYOR', 'GUSH_NUM', 'GUSH_SUFFIX', 'STATUS', 'ProcessName']\n",
    "\n",
    "hagi_table = pd.read_csv(CNFG.Local + 'hagi_Tazar.csv', usecols = hagi_table_cols, parse_dates = ['SURVEY_DATE'])\n",
    "\n",
    "del hagi_table_cols"
   ]
  },
  {
   "cell_type": "markdown",
   "id": "29a7d416-9720-4cb1-9dfc-f3f95b17b2c6",
   "metadata": {},
   "source": [
    "<h1 style=\"text-align:right;font-size:100%\">\n",
    "שכבה מעובדת של גבולות תצ\"ר מארקסטורם"
   ]
  },
  {
   "cell_type": "code",
   "execution_count": null,
   "id": "a269ae71-de2e-44cc-a7e8-52812a9a54a7",
   "metadata": {},
   "outputs": [],
   "source": [
    "arcstorm_tazars_cols = ['TALAR_NUM', 'TALAR_YEAR', 'GUSH_NUM', 'GUSH_SUFFIX', 'TALAR_SOURCE', 'STATUS', 'SURVEYOR','SURVEY_DATE', 'geometry']\n",
    "\n",
    "arcstorm_tazars = daskgpd.read_file(CNFG.Arcstorm +'TAZAR\\TAZAR.gdb', layer = 'TAZAR', columns = arcstorm_tazars_cols, npartitions = 5).to_crs(2039).compute()\n",
    "\n",
    "del arcstorm_tazars_cols"
   ]
  },
  {
   "cell_type": "markdown",
   "id": "636b23df-5372-4904-a7f3-1cf3b8dbe9eb",
   "metadata": {},
   "source": [
    "<h1 style=\"text-align:right;font-size:100%\">\n",
    "גבולות תצ\"ר בשטח לא מוסדר מודרניים"
   ]
  },
  {
   "cell_type": "code",
   "execution_count": null,
   "id": "8a93edaf-922c-405c-a782-546d22401ecf",
   "metadata": {
    "tags": []
   },
   "outputs": [],
   "source": [
    "unreg_tazar_layer = gpd.read_file(CNFG.Results, layer = 'PT11', include_fields = ['ProcessName'], ignore_geometry = True)"
   ]
  },
  {
   "cell_type": "markdown",
   "id": "bdf2f678-e6e0-4619-8c2b-221d505d11f2",
   "metadata": {},
   "source": [
    "<h1 style=\"text-align:right;font-size:100%\">\n",
    "גבולות גושי קדסטר וגושי שומה"
   ]
  },
  {
   "cell_type": "code",
   "execution_count": null,
   "id": "e05606bd-3a50-49ac-a2f1-5674aed2eb80",
   "metadata": {},
   "outputs": [],
   "source": [
    "Blocks = pd.read_csv(CNFG.CSVPath + 'BlockUniqueIDs.csv', usecols = ['Name', 'GlobalID', 'IsTax'])"
   ]
  },
  {
   "cell_type": "markdown",
   "id": "e35f3d6a-1efc-4a5a-8ee1-786edf05b2d2",
   "metadata": {},
   "source": [
    "<h1 style=\"text-align:right; font-size:150%; color:#1c6ce6;\">\n",
    "עיבוד נתונים 🛠️"
   ]
  },
  {
   "cell_type": "code",
   "execution_count": null,
   "id": "78229294-2525-4379-abc4-9147c37e5584",
   "metadata": {},
   "outputs": [],
   "source": [
    "print('   Cleaning data')"
   ]
  },
  {
   "cell_type": "markdown",
   "id": "2341729e-65d0-4924-ac59-10fee877d4e2",
   "metadata": {},
   "source": [
    "<h1 style=\"text-align:right; font-size:100%\">\n",
    "סינון תהליכים שאינם תצ\"ר מטבלת תהליכים כללית כאשר סוג תהליך של תצ\"ר הוא 2"
   ]
  },
  {
   "cell_type": "code",
   "execution_count": null,
   "id": "bbebe5ad-7ce5-4f7e-9e96-17bbae9686c4",
   "metadata": {},
   "outputs": [],
   "source": [
    "general_inProcess = general_inProcess[general_inProcess['CADASTER_PROCESS'] == 2].drop(columns = 'CADASTER_PROCESS')"
   ]
  },
  {
   "cell_type": "markdown",
   "id": "f9dc0e36-6141-45ef-a650-38a2a6dd6a53",
   "metadata": {},
   "source": [
    "<h1 style=\"text-align:right; font-size:100%\">\n",
    "הסרת מספרי אלפיסה שאינם תקינים או כפולים בכל מקורות המידע"
   ]
  },
  {
   "cell_type": "code",
   "execution_count": null,
   "id": "0dc4b983-bb77-4417-b4c1-3b24644164a0",
   "metadata": {
    "tags": []
   },
   "outputs": [],
   "source": [
    "tazar_kidomet        = drop_bad_ProcessNames(tazar_kidomet)\n",
    "general_inProcess    = drop_bad_ProcessNames(general_inProcess)\n",
    "tazar_border         = drop_bad_ProcessNames(tazar_border)\n",
    "tazar_tabular_border = drop_bad_ProcessNames(tazar_tabular_border)\n",
    "tazar_inprocess      = drop_bad_ProcessNames(tazar_inprocess)\n",
    "tazar_table          = drop_bad_ProcessNames(tazar_table)\n",
    "oracle_talar         = drop_bad_ProcessNames(oracle_talar)\n",
    "arcstorm_tazars      = drop_bad_ProcessNames(arcstorm_tazars)\n",
    "hagi_table           = hagi_table[(hagi_table['ProcessName'] != '0') | (hagi_table['ProcessName'].notna())].drop_duplicates(subset = ['ProcessName'])"
   ]
  },
  {
   "cell_type": "markdown",
   "id": "841f107e-a07f-48cb-be2c-e4fadb352947",
   "metadata": {},
   "source": [
    "<h1 style=\"text-align:right; font-size:100%\">\n",
    "הסרת רשומות ללא מידע של מספר גוש עבור טבלת תצ\"ר"
   ]
  },
  {
   "cell_type": "code",
   "execution_count": null,
   "id": "36d9681c-5dce-439f-8617-ee37f11cfe41",
   "metadata": {},
   "outputs": [],
   "source": [
    "tazar_table = tazar_table[tazar_table['GUSH_NUM'].notna()]"
   ]
  },
  {
   "cell_type": "markdown",
   "id": "5b80e273-2dd9-4422-9342-361d6c3cb9f9",
   "metadata": {},
   "source": [
    "<h1 style=\"text-align:right; font-size:100%\">\n",
    "הסרת רשומות של תצ\"ר שמגיע מכרטסת בטבלת תצ\"ר"
   ]
  },
  {
   "cell_type": "code",
   "execution_count": null,
   "id": "50aa9c85-c39f-4bca-89ee-2f6265181a88",
   "metadata": {},
   "outputs": [],
   "source": [
    "tazar_table = tazar_table[tazar_table['SOURCE'] != 5]"
   ]
  },
  {
   "cell_type": "markdown",
   "id": "3d3c9ecc-7629-4909-b73a-1be4afd009bf",
   "metadata": {},
   "source": [
    "<h1 style=\"text-align:right; font-size:100%\">\n",
    "תיקון ערכי תאריך"
   ]
  },
  {
   "cell_type": "code",
   "execution_count": null,
   "id": "d0e3a1a9-3c8f-4b4f-af69-ba3b3f2e9739",
   "metadata": {
    "tags": []
   },
   "outputs": [],
   "source": [
    "date_mapping = {'/0012' : '/2012', '/0013' : '/2013',\n",
    "                '/0014' : '/2014', '/0015' : '/2015',\n",
    "                '/0016' : '/2016', '/0017' : '/2017',\n",
    "                '/0018' : '/2018', '/0019' : '/2019',\n",
    "                '/0020' : '/2020', '/0021' : '/2021',\n",
    "                '/0022' : '/2022', '/0023' : '/2023'}\n",
    "\n",
    "oracle_talar['SURVEY_DATE'] = oracle_talar['SURVEY_DATE'].replace(date_mapping, regex=True)\n",
    "oracle_talar['SURVEY_DATE'] = pd.to_datetime(oracle_talar['SURVEY_DATE'], dayfirst=True)\n",
    "\n",
    "arcstorm_tazars['SURVEY_DATE'] = pd.to_datetime(arcstorm_tazars['SURVEY_DATE'])\n",
    "\n",
    "del date_mapping"
   ]
  },
  {
   "cell_type": "markdown",
   "id": "bde0868b-ee2b-4acb-a35a-c209efd607f1",
   "metadata": {},
   "source": [
    "<h1 style=\"text-align:right; font-size:100%\">\n",
    "טיפול בכפילויות של מספר מזהה עבור גבולות תצ\"ר\n",
    "<h1 style=\"text-align:right; font-size:100%\">\n",
    "טיפול בכפילויות של מספרי אליפסה מגבולות תצ\"ר טבלאי (מבין הכפולים ישארו רשומות העונות למקור נתונים = 4)"
   ]
  },
  {
   "cell_type": "code",
   "execution_count": null,
   "id": "403f284b-601c-48f0-b59e-2d8fd2d9bb20",
   "metadata": {},
   "outputs": [],
   "source": [
    "tazar_border.drop_duplicates(subset=['TALAR_ID'], keep='first', inplace = True)"
   ]
  },
  {
   "cell_type": "code",
   "execution_count": null,
   "id": "4fc50b74-c289-4921-9926-80e0a0f4ca73",
   "metadata": {},
   "outputs": [],
   "source": [
    "tazar_tabular_border = tazar_tabular_border.sort_values(['TALAR_NUM', 'TALAR_YEAR', 'SOURCE'])\n",
    "\n",
    "tazar_tabular_border = tazar_tabular_border.drop_duplicates(['TALAR_NUM', 'TALAR_YEAR'], keep = 'first')"
   ]
  },
  {
   "cell_type": "markdown",
   "id": "8fc09dfb-8ff7-4213-9e3c-33c999f2b2eb",
   "metadata": {},
   "source": [
    "<h1 style=\"text-align:right; font-size:125%\">\n",
    ":הגדרת שדות של שם מפה ושם גוש מלא לכל מקור מידע"
   ]
  },
  {
   "cell_type": "code",
   "execution_count": null,
   "id": "c5965d39-b323-4221-b417-2f0d9d8f55a8",
   "metadata": {},
   "outputs": [],
   "source": [
    "print('   Data conversion')"
   ]
  },
  {
   "cell_type": "markdown",
   "id": "219e78ee-7980-42bf-ab11-ec19cb5e3910",
   "metadata": {},
   "source": [
    "<h1 style=\"text-align:right; font-size:100%\">\n",
    "תצ\"ר קידומת"
   ]
  },
  {
   "cell_type": "code",
   "execution_count": null,
   "id": "d737cb94-30ed-41d2-af5b-47d9584e4851",
   "metadata": {},
   "outputs": [],
   "source": [
    "tazar_kidomet['KIDOMET_TALAR'] = tazar_kidomet['KIDOMET_TALAR'].replace('', 'X')\n",
    "\n",
    "tazar_kidomet = assign_ProcessName(tazar_kidomet, 'TALAR_NUM', 'TALAR_YEAR')\n",
    "tazar_kidomet['ProcessName'] = tazar_kidomet['ProcessName'] + '/' + tazar_kidomet['KIDOMET_TALAR']\n",
    "tazar_kidomet.drop(columns = 'KIDOMET_TALAR', inplace = True)"
   ]
  },
  {
   "cell_type": "markdown",
   "id": "b2418e78-5c56-4a42-a1cd-a14211933a1d",
   "metadata": {},
   "source": [
    "<h1 style=\"text-align:right; font-size:100%\">\n",
    "טבלת תצ\"ר בתהליך"
   ]
  },
  {
   "cell_type": "code",
   "execution_count": null,
   "id": "730f9497-1186-42c3-b6af-3d0dbbfd1129",
   "metadata": {
    "tags": []
   },
   "outputs": [],
   "source": [
    "general_inProcess = assign_ProcessName(general_inProcess, 'TALAR_NUM', 'TALAR_YEAR')    \n",
    "general_inProcess = assign_BlockName(general_inProcess, 'GUSH_NUM', 'GUSH_SUFFIX')"
   ]
  },
  {
   "cell_type": "markdown",
   "id": "44fc1943-bff2-4fa2-a045-c6624bd09bb4",
   "metadata": {},
   "source": [
    "<h1 style=\"text-align:right; font-size:100%\">\n",
    "גבולות תצ\"ר"
   ]
  },
  {
   "cell_type": "code",
   "execution_count": null,
   "id": "635ce8a8-a190-4be4-85e8-d4c226d4772b",
   "metadata": {
    "tags": []
   },
   "outputs": [],
   "source": [
    "tazar_border = assign_ProcessName(tazar_border, 'TALAR_NUM', 'TALAR_YEAR')    \n",
    "tazar_border = assign_BlockName(tazar_border, 'GUSH_NUM', 'GUSH_SUFFIX')"
   ]
  },
  {
   "cell_type": "markdown",
   "id": "f247b2af-a125-447f-b74a-8e4949f00c0d",
   "metadata": {},
   "source": [
    "<h1 style=\"text-align:right; font-size:100%\">\n",
    "גבולות תצ\"ר טבלאי"
   ]
  },
  {
   "cell_type": "code",
   "execution_count": null,
   "id": "d2165e1e-463c-4dfc-a9a2-76d13ef285da",
   "metadata": {
    "tags": []
   },
   "outputs": [],
   "source": [
    "tazar_tabular_border = assign_ProcessName(tazar_tabular_border, 'TALAR_NUM', 'TALAR_YEAR')    \n",
    "tazar_tabular_border = assign_BlockName(tazar_tabular_border, 'GUSH_NUM', 'GUSH_SUFFIX')"
   ]
  },
  {
   "cell_type": "markdown",
   "id": "9276fdd0-4598-48e7-a704-d0b9fa016986",
   "metadata": {},
   "source": [
    "<h1 style=\"text-align:right; font-size:100%\">\n",
    "גבולות תצ\"ר בתהליך"
   ]
  },
  {
   "cell_type": "code",
   "execution_count": null,
   "id": "35711324-5ace-4bcb-b0e5-1f96ca53276a",
   "metadata": {
    "tags": []
   },
   "outputs": [],
   "source": [
    "tazar_inprocess = assign_ProcessName(tazar_inprocess, 'TALAR_NUM', 'TALAR_YEAR')    \n",
    "tazar_inprocess = assign_BlockName(tazar_inprocess, 'GUSH_NUM', 'GUSH_SUFFIX')\n",
    "tazar_inprocess = tazar_inprocess.set_geometry('geometry', crs = 2039)"
   ]
  },
  {
   "cell_type": "markdown",
   "id": "e061b819-1256-4c6f-a059-5a14b982e188",
   "metadata": {},
   "source": [
    "<h1 style=\"text-align:right; font-size:100%\">\n",
    "טבלת תצ\"ר טבלאי"
   ]
  },
  {
   "cell_type": "code",
   "execution_count": null,
   "id": "3a8a4a7d-3cd0-47d2-bdec-92d97c531e84",
   "metadata": {
    "tags": []
   },
   "outputs": [],
   "source": [
    "tazar_table = assign_ProcessName(tazar_table, 'TALAR_NUM', 'TALAR_YEAR')    \n",
    "tazar_table = assign_BlockName(tazar_table, 'GUSH_NUM', 'GUSH_SUFFIX')"
   ]
  },
  {
   "cell_type": "markdown",
   "id": "d80d9c28-55e1-4187-9343-449c88bb8ae5",
   "metadata": {},
   "source": [
    "<h1 style=\"text-align:right; font-size:100%\">\n",
    "טבלת תצ\"ר"
   ]
  },
  {
   "cell_type": "code",
   "execution_count": null,
   "id": "8a7e6a4d-626a-4a6c-abad-85df70be3029",
   "metadata": {
    "tags": []
   },
   "outputs": [],
   "source": [
    "oracle_talar = assign_ProcessName(oracle_talar, 'TALAR_NUM', 'TALAR_YEAR')    \n",
    "oracle_talar = assign_BlockName(oracle_talar, 'GUSH_NUM', 'GUSH_SUFFIX')"
   ]
  },
  {
   "cell_type": "markdown",
   "id": "2f429ea8-7beb-4a61-9c73-85592b324d96",
   "metadata": {},
   "source": [
    "<h1 style=\"text-align:right; font-size:100%\">\n",
    "טבלת תצ\"ר מערכת ניהול"
   ]
  },
  {
   "cell_type": "code",
   "execution_count": null,
   "id": "673f0040-37f6-45f3-872a-2afe1d84b93e",
   "metadata": {
    "tags": []
   },
   "outputs": [],
   "source": [
    "hagi_table = assign_BlockName(hagi_table, 'GUSH_NUM', 'GUSH_SUFFIX')"
   ]
  },
  {
   "cell_type": "markdown",
   "id": "8c5be814-9cee-442b-888c-fc07217af305",
   "metadata": {},
   "source": [
    "<h1 style=\"text-align:right; font-size:100%\">\n",
    "גבולות תצ\"ר מארקסטורם"
   ]
  },
  {
   "cell_type": "code",
   "execution_count": null,
   "id": "0fba9602-fcd6-4673-bdf3-21efedc39ff0",
   "metadata": {
    "tags": []
   },
   "outputs": [],
   "source": [
    "arcstorm_tazars = assign_ProcessName(arcstorm_tazars, 'TALAR_NUM', 'TALAR_YEAR')    \n",
    "arcstorm_tazars = assign_BlockName(arcstorm_tazars, 'GUSH_NUM', 'GUSH_SUFFIX')"
   ]
  },
  {
   "cell_type": "markdown",
   "id": "02146f1c-c060-40dc-b9bb-6d897b22df86",
   "metadata": {},
   "source": [
    "<h1 style=\"text-align:right; font-size:100%\">\n",
    "האיחוד יוצר שכבה אחת גדולה של כל רשומות הטבלאות והשכבות"
   ]
  },
  {
   "cell_type": "code",
   "execution_count": null,
   "id": "b53e6d3b-5721-4ffa-a925-e69a4e3744b8",
   "metadata": {
    "tags": []
   },
   "outputs": [],
   "source": [
    "mergeTalar = pd.merge(left = tazar_border, right = oracle_talar, on = 'ProcessName', how = 'outer', suffixes = ('_SDE', '_Oracle'))\n",
    "\n",
    "mergeTalar['BlockName']  = mergeTalar['BlockName_Oracle'].fillna(mergeTalar['BlockName_SDE'])\n",
    "mergeTalar['DataSource'] = mergeTalar['TALAR_SOURCE_Oracle'].fillna(mergeTalar['TALAR_SOURCE_SDE'])\n",
    "mergeTalar['Status']     = mergeTalar['STATUS_Oracle'].fillna(mergeTalar['STATUS_SDE'])\n",
    "mergeTalar['SurveyorID'] = mergeTalar['SURVEYOR_Oracle'].fillna(mergeTalar['SURVEYOR_SDE'])\n",
    "mergeTalar['SurveyDate'] = mergeTalar['SURVEY_DATE']\n",
    "mergeTalar['ORACLE_ID']  = mergeTalar['TALAR_ID_Oracle'].fillna(mergeTalar['TALAR_ID_SDE'])\n",
    "\n",
    "mergeTalar = mergeTalar[['ProcessName', 'ORACLE_ID', 'BlockName', 'DataSource', 'Status', 'SurveyorID', 'SurveyDate', 'geometry']].set_geometry('geometry', crs = 2039)\n",
    "\n",
    "\n",
    "\n",
    "mergeTabular = pd.merge(left = tazar_tabular_border, right = tazar_table, on = 'ProcessName', how = 'outer', suffixes = ('_SDE', '_Oracle'))\n",
    "\n",
    "mergeTabular['BlockName']  = mergeTabular['BlockName_Oracle'].fillna(mergeTabular['BlockName_SDE'])\n",
    "mergeTabular['DataSource'] = mergeTabular['SOURCE_Oracle'].fillna(mergeTabular['SOURCE_SDE'])\n",
    "mergeTabular['Status']     = mergeTabular['STATUS_Oracle'].fillna(mergeTabular['STATUS_SDE'])\n",
    "mergeTabular['ORACLE_ID']  = mergeTabular['TALAR_ID_Oracle'].fillna(mergeTabular['TALAR_ID_SDE'])\n",
    "\n",
    "mergeTabular = mergeTabular[['ProcessName', 'ORACLE_ID', 'BlockName', 'DataSource', 'Status', 'geometry']].set_geometry('geometry', crs = 2039)\n",
    "\n",
    "\n",
    "merge = pd.merge(left = mergeTalar, right = mergeTabular,      on = 'ProcessName', how = 'outer', suffixes = ('_Borders', '_Tabular')).set_geometry('geometry_Borders', crs = 2039)\\\n",
    "          .merge(                   right = tazar_inprocess,   on = 'ProcessName', how = 'outer', suffixes = ('_Talar', '_SDE.InProcess'))\\\n",
    "          .merge(                   right = general_inProcess, on = 'ProcessName', how = 'outer', suffixes = ('', '_Oracle.InProcess'))\\\n",
    "          .merge(                   right = hagi_table,        on = 'ProcessName', how = 'outer', suffixes = ('', '_Hagi'))\\\n",
    "          .merge(                   right = arcstorm_tazars,   on = 'ProcessName', how = 'outer', suffixes = ('', '_Arcstorm'))\\\n",
    "          .merge(                   right = tazar_kidomet,     on = 'ProcessName', how = 'outer')"
   ]
  },
  {
   "cell_type": "code",
   "execution_count": null,
   "id": "e41a8e39-7c14-45cd-a313-ff756e6895d4",
   "metadata": {
    "tags": []
   },
   "outputs": [],
   "source": [
    "columns_by_order = sorted(merge.columns.to_list())\n",
    "merge = merge[columns_by_order].reset_index(drop = True)\n",
    "\n",
    "merge.rename(columns = {'BlockName':'BlockName_InProc', 'STATUS': 'Status_Hagi',\n",
    "                        'SURVEYOR':'SurveyorID_Oracle.InProcess' ,'SURVEY_DATE':'SurveyDate_Hagi',\n",
    "                        'geometry':'geometry_InProcess' ,'TALAR_SOURCE' : 'DataSource_Arcstorm'},\n",
    "             inplace = True)\n",
    "\n",
    "del [columns_by_order, mergeTalar, mergeTabular, tazar_border, general_inProcess, tazar_kidomet, tazar_tabular_border, tazar_inprocess, tazar_table, oracle_talar, arcstorm_tazars]"
   ]
  },
  {
   "cell_type": "code",
   "execution_count": null,
   "id": "42e50c7b-8c28-4274-8399-d7f60ff17f47",
   "metadata": {
    "tags": []
   },
   "outputs": [],
   "source": [
    "merge = merge[~merge['ProcessName'].isin(unreg_tazar_layer['ProcessName'])]\n",
    "\n",
    "del unreg_tazar_layer"
   ]
  },
  {
   "cell_type": "code",
   "execution_count": null,
   "id": "599b0acd-cad7-44b9-9b66-482205f237f7",
   "metadata": {
    "tags": []
   },
   "outputs": [],
   "source": [
    "merge['Status'] = merge['Status_Tabular'].fillna(merge['Status_Borders'])\\\n",
    "                                         .fillna(merge['STATUS_Arcstorm'])\\\n",
    "                                         .fillna(merge['Status_Hagi'])\\\n",
    "                                         .fillna(1)\n",
    "\n",
    "statusDict = {0 : 1, #לא ידוע - קליטת קבצים\n",
    "              1 : 1, #קליטת קבצים - קליטת קבצים\n",
    "              2 : 2, #בביקורת - בביקורת\n",
    "              3 : 4, #כשרה לרישום - כשרה לרישום\n",
    "              4 : 5, #רשומה - רשומה\n",
    "              5 : 9, #תצ\"ר מבוטל - מבטל\n",
    "              6 : 3, # בתיקונים - הוחזר למודד\n",
    "              None : 1} #ללא ערך - קליטת קבצים\n",
    "\n",
    "merge['Status'] = merge['Status'].map(statusDict)\n",
    "\n",
    "merge = merge.drop(columns = ['Status_Tabular', 'Status_Borders', 'STATUS_Arcstorm', 'Status_Hagi'])\n",
    "del statusDict"
   ]
  },
  {
   "cell_type": "code",
   "execution_count": null,
   "id": "5d945110-badc-41f9-8c41-891a6579e0b5",
   "metadata": {
    "tags": []
   },
   "outputs": [],
   "source": [
    "merge['BlockName'] = merge['BlockName_Borders'].fillna(merge['BlockName_Tabular'])\\\n",
    "                                               .fillna(merge['BlockName_Oracle.InProcess'])\\\n",
    "                                               .fillna(merge['BlockName_InProc'])\\\n",
    "                                               .fillna(merge['BlockName_Arcstorm'])\\\n",
    "                                               .fillna(merge['BlockName_Hagi'])\n",
    "\n",
    "merge = merge.drop(columns = ['BlockName_Borders', 'BlockName_Tabular', 'BlockName_Oracle.InProcess', 'BlockName_InProc', 'BlockName_Arcstorm', 'BlockName_Hagi'])"
   ]
  },
  {
   "cell_type": "code",
   "execution_count": null,
   "id": "8a17a90c-4877-40e0-9d59-406b9f7eed5a",
   "metadata": {
    "tags": []
   },
   "outputs": [],
   "source": [
    "merge['SurveyDate'] = merge['SurveyDate'].fillna(merge['SURVEY_DATE_Arcstorm']).fillna(merge['SurveyDate_Hagi'])\n",
    "merge = merge.drop(columns = ['SURVEY_DATE_Arcstorm', 'SurveyDate_Hagi'])"
   ]
  },
  {
   "cell_type": "code",
   "execution_count": null,
   "id": "d748cc2d-0b0f-4935-a1d2-1d0180bf71b9",
   "metadata": {
    "tags": []
   },
   "outputs": [],
   "source": [
    "merge['DataSource'] = merge['DataSource_Borders'].fillna(merge['DataSource_Tabular']).fillna(merge['DataSource_Arcstorm'])\n",
    "\n",
    "digi_cond = merge['DataSource'].isin([0, 1, None]) # לא ידוע, גרפי, ללא ערך\n",
    "\n",
    "# תכניות אנליטיות בשנת או מעל שנת 2015\n",
    "CAD_cond1 = (merge['DataSource'] == 2) & (merge['ProcessName'].str.split('/', expand=True)[1].astype('Int64') >= 2015)\n",
    "\n",
    "# תכנית נמצאת במערכת ניהול חגי\n",
    "CAD_cond2 = merge['ProcessName'].isin(hagi_table['ProcessName'])\n",
    "\n",
    "# קטן משנת 2015 לפי שנת אליפסה\n",
    "SRV_cond = (merge['DataSource'] == 3) & (merge['ProcessName'].str.split('/', expand=True)[1].astype('Int64') < 2015)\n",
    "\n",
    "\n",
    "tabular_cond = merge['DataSource'] == 4 #טבלאי\n",
    "\n",
    "\n",
    "card_cond = merge['DataSource'] == 5 # כרטסת\n",
    "\n",
    "\n",
    "merge['DataSource'] = np.where(digi_cond, 3, None)\n",
    "merge['DataSource'] = np.where(tabular_cond, 2, merge['DataSource'])\n",
    "merge['DataSource'] = np.where(card_cond, 1, merge['DataSource'])\n",
    "merge['DataSource'] = np.where(SRV_cond, 4, merge['DataSource'])\n",
    "merge['DataSource'] = np.where(CAD_cond1, 5, merge['DataSource'])\n",
    "merge['DataSource'] = np.where(CAD_cond2, 5, merge['DataSource'])\n",
    "\n",
    "merge['DataSource'] = merge['DataSource'].fillna(3)\n",
    "\n",
    "merge = merge.drop(columns = ['DataSource_Borders', 'DataSource_Tabular', 'DataSource_Arcstorm'])\n",
    "\n",
    "del hagi_table"
   ]
  },
  {
   "cell_type": "code",
   "execution_count": null,
   "id": "fa52d4b7-a164-4036-b3ed-9d06d0ca71fa",
   "metadata": {
    "tags": []
   },
   "outputs": [],
   "source": [
    "merge['ORACLE_ID'] = merge['ORACLE_ID_Borders'].fillna(merge['ORACLE_ID_Tabular'])\n",
    "merge = merge.drop(columns = ['ORACLE_ID_Borders', 'ORACLE_ID_Tabular'])"
   ]
  },
  {
   "cell_type": "code",
   "execution_count": null,
   "id": "b28ccc1c-07cc-40d8-9fd8-43db78b805bd",
   "metadata": {
    "tags": []
   },
   "outputs": [],
   "source": [
    "merge['SurveyorLicenseID'] = merge['SurveyorID'].fillna(merge['SurveyorID_Oracle.InProcess'])\\\n",
    "                                                .fillna(merge['SURVEYOR_Arcstorm'])\\\n",
    "                                                .fillna(merge['SURVEYOR_Hagi'])\n",
    "\n",
    "merge = merge.drop(columns = ['SurveyorID', 'SurveyorID_Oracle.InProcess', 'SURVEYOR_Arcstorm', 'SURVEYOR_Hagi'])"
   ]
  },
  {
   "cell_type": "code",
   "execution_count": null,
   "id": "79c9b0b7-a123-482c-b574-f51a3bdfd03c",
   "metadata": {
    "tags": []
   },
   "outputs": [],
   "source": [
    "merge['geometry'] = merge['geometry_Borders'].fillna(merge['geometry_Tabular'])\\\n",
    "                                             .fillna(merge['geometry_InProcess'])\\\n",
    "                                             .fillna(merge['geometry_Arcstorm'])\n",
    "\n",
    "\n",
    "merge = merge.set_geometry('geometry', crs = 2039)\n",
    "merge = merge.drop(columns = ['geometry_Borders', 'geometry_Tabular', 'geometry_InProcess', 'geometry_Arcstorm'])"
   ]
  },
  {
   "cell_type": "code",
   "execution_count": null,
   "id": "fa84f5c9-5023-4f89-93ed-088e6e528227",
   "metadata": {
    "tags": []
   },
   "outputs": [],
   "source": [
    "merge['MapYear'] = merge['SurveyDate'].dt.year\n",
    "merge['MapYear'] = merge['MapYear'].fillna(merge['ProcessName'].str.split('/', expand=True)[1])\n",
    "merge['MapYear'] = merge['MapYear'].astype(int)\n",
    "\n",
    "geodeticNetDict = {range(0, 1998)     : 1,      # רשת ישראל הישנה\n",
    "                   range(1999, 2007)  : 2,      # רשת ישראל החדשה\n",
    "                   range(2008, 99999) : 3}      # רשת ישראל התקפה\n",
    "\n",
    "merge['GeodeticNetwork'] = merge['MapYear'].apply(lambda x: next((v for k, v in geodeticNetDict.items() if x in k), 0))\n",
    "merge = merge.drop(columns = ['SurveyDate', 'MapYear'])\n",
    "\n",
    "del geodeticNetDict"
   ]
  },
  {
   "cell_type": "code",
   "execution_count": null,
   "id": "35c18dba-3592-426d-9113-44d43458899e",
   "metadata": {
    "tags": []
   },
   "outputs": [],
   "source": [
    "CadBlocks = Blocks[Blocks['IsTax'] == 0].drop(columns = 'IsTax').rename(columns = {'GlobalID' : 'BlockUniqueID', 'Name' : 'BlockName'})\n",
    "\n",
    "TaxBlocks = Blocks[Blocks['IsTax'] == 1].drop(columns = 'IsTax')\\\n",
    "                                        .drop_duplicates('Name', keep = False)\\\n",
    "                                        .rename(columns = {'GlobalID' : 'TaxBlockUniqueID', 'Name' : 'BlockName'})\n",
    "\n",
    "\n",
    "merge = merge.merge(CadBlocks, on = 'BlockName', how = 'left')\\\n",
    "             .merge(TaxBlocks, on = 'BlockName', how = 'left')\\\n",
    "             .drop(columns = 'BlockName')\n",
    "\n",
    "merge['BlockUniqueID'] = merge['BlockUniqueID'].fillna(merge['TaxBlockUniqueID'])\n",
    "\n",
    "merge.drop(columns = 'TaxBlockUniqueID', inplace = True)\n",
    "\n",
    "del [Blocks, CadBlocks, TaxBlocks]"
   ]
  },
  {
   "cell_type": "code",
   "execution_count": null,
   "id": "d62ecdca-7893-4d4e-bed0-d2944856a4dd",
   "metadata": {
    "tags": []
   },
   "outputs": [],
   "source": [
    "int_cols = ['Status', 'DataSource', 'ORACLE_ID', 'SurveyorLicenseID', 'GeodeticNetwork']\n",
    "merge[int_cols] = merge[int_cols].astype('Int64')\n",
    "del int_cols"
   ]
  },
  {
   "cell_type": "markdown",
   "id": "028e0c74-308c-46c2-a735-2b86650e17ad",
   "metadata": {},
   "source": [
    "<h1 style=\"text-align:right; font-size:125%\">\n",
    ":קיבוץ טבלה\n",
    "<h1 style=\"text-align:right; font-size:100%\">\n",
    "הקיבוץ יאחד כל תצ\"ר לפי מספר האליפסה וישמור לכל תצ\"ר את הערך הנכון בשדות"
   ]
  },
  {
   "cell_type": "markdown",
   "id": "2dfd53d9-4615-41c2-bc32-483093be14ef",
   "metadata": {},
   "source": [
    "<h1 style=\"text-align:right; font-size:100%\">\n",
    "ניקוי ערכי שם תב\"ע ארוכים מדי לערך ריק"
   ]
  },
  {
   "cell_type": "code",
   "execution_count": null,
   "id": "f04a6012-89f2-497c-a006-5dbe75cfbeec",
   "metadata": {},
   "outputs": [],
   "source": [
    "merge['PlanName_len'] = merge['PlanName'].str.len()\n",
    "merge.loc[merge['PlanName_len'] >= 35, ['PlanName']] = None\n",
    "merge.drop(columns = 'PlanName_len', inplace = True)"
   ]
  },
  {
   "cell_type": "code",
   "execution_count": null,
   "id": "291f2f23-b754-4388-a3e2-f907d3847d07",
   "metadata": {
    "tags": []
   },
   "outputs": [],
   "source": [
    "merge = merge[merge['ProcessName'] != '0']\n",
    "merge = merge[merge['ProcessName'].notna()]"
   ]
  },
  {
   "cell_type": "code",
   "execution_count": null,
   "id": "71d0d301-3a96-44c7-b9a6-e4a612459636",
   "metadata": {
    "tags": []
   },
   "outputs": [],
   "source": [
    "merge = merge.dissolve('ProcessName', as_index = False, aggfunc = 'first')"
   ]
  },
  {
   "cell_type": "code",
   "execution_count": null,
   "id": "a0f9c376-4982-4b57-b4a2-263ef507035e",
   "metadata": {
    "tags": []
   },
   "outputs": [],
   "source": [
    "merge['ProcessType'] = 1"
   ]
  },
  {
   "cell_type": "markdown",
   "id": "d49227cd-61fc-4ff5-87b3-ac0c2d24aee6",
   "metadata": {},
   "source": [
    "<h1 style=\"text-align:right; font-size:150%; color:#1c6ce6;\"> \n",
    "יצירת שכבה חדשה בהתאם לאפיון ✨"
   ]
  },
  {
   "cell_type": "code",
   "execution_count": null,
   "id": "d340f51e-b7b1-46ad-b099-5eecace1b38e",
   "metadata": {},
   "outputs": [],
   "source": [
    "print('   Defining new Layer')"
   ]
  },
  {
   "cell_type": "markdown",
   "id": "20dd0815-ee27-495e-85e8-478754d10ad9",
   "metadata": {},
   "source": [
    "<h1 style=\"text-align:right; font-size:100%\">\n",
    "איכלוס שדות"
   ]
  },
  {
   "cell_type": "markdown",
   "id": "e70c2038-31ad-44c3-915f-8a831b94d96f",
   "metadata": {},
   "source": [
    "<h1 style=\"text-align:right; font-size:100%\">\n",
    "הסרת כפילויות"
   ]
  },
  {
   "cell_type": "markdown",
   "id": "c6a0989e-4260-4836-850c-4b2d45f8c259",
   "metadata": {},
   "source": [
    "<h1 style=\"text-align:right; font-size:150%; color:#1c6ce6;\"> \n",
    "שמירת תוצאות 💾\n",
    "<h1 style=\"text-align:right; font-size:100%;\">\n",
    "\n",
    "<h1 style=\"text-align:right; font-size:100%;\">     \n",
    "פיצול התוצאות לפי סוגי גיאומטריה שונים (פעולה טכנית כי לא ניתן לכתוב קובץ סוגי גיאומטריה שונים באותה שכבה)    \n",
    "<h1 style=\"text-align:right; font-size:100%;\"> \n",
    "שמירת שכבה גיאוגרפית "
   ]
  },
  {
   "cell_type": "code",
   "execution_count": null,
   "id": "3f4c1e77-35b2-4811-a8fa-1e73135c5051",
   "metadata": {},
   "outputs": [],
   "source": [
    "print('   Exporting results')"
   ]
  },
  {
   "cell_type": "code",
   "execution_count": null,
   "id": "9550ce42-c385-4aa8-87c1-40b527418712",
   "metadata": {
    "tags": []
   },
   "outputs": [],
   "source": [
    "Polygons      = merge[(~merge['geometry'].isna()) & (merge['geometry'].geom_type == 'Polygon')]\n",
    "MultiPolygons = merge[(~merge['geometry'].isna()) & (merge['geometry'].geom_type == 'MultiPolygon')]\n",
    "EmptyGeometry = merge[merge['geometry'].isna()]"
   ]
  },
  {
   "cell_type": "code",
   "execution_count": null,
   "id": "7b8a9944-ac46-47d9-b258-6d8cd22f2bea",
   "metadata": {
    "tags": []
   },
   "outputs": [],
   "source": [
    "Polygons.to_file(CNFG.Results, layer = 'PT1', driver = 'OpenFileGDB', engine = 'pyogrio', mode = 'w')\n",
    "MultiPolygons.to_file(CNFG.Results, layer = 'PT1', driver = 'OpenFileGDB', engine = 'pyogrio', mode = 'a') \n",
    "EmptyGeometry.to_file(CNFG.Results, layer = 'PT1', driver = 'OpenFileGDB', engine = 'pyogrio', mode = 'a')"
   ]
  }
 ],
 "metadata": {
  "kernelspec": {
   "display_name": "Python 3 (ipykernel)",
   "language": "python",
   "name": "python3"
  },
  "language_info": {
   "codemirror_mode": {
    "name": "ipython",
    "version": 3
   },
   "file_extension": ".py",
   "mimetype": "text/x-python",
   "name": "python",
   "nbconvert_exporter": "python",
   "pygments_lexer": "ipython3",
   "version": "3.11.3"
  }
 },
 "nbformat": 4,
 "nbformat_minor": 5
}
