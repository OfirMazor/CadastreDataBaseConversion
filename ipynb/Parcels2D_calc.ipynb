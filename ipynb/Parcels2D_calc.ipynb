{
 "cells": [
  {
   "cell_type": "markdown",
   "id": "ebd1d2a2-f408-4e0d-96dc-a28453f746eb",
   "metadata": {},
   "source": [
    "<h1 style=\"background-color:#1c6ce6;\n",
    "           font-family:segoe ui;\n",
    "                color:#FFF9ED;\n",
    "           font-size:250%;\n",
    "           text-align:center;\n",
    "           border-radius:10px 10px;\"> \n",
    "    🌐 תהליך הסבת שכבת חלקות (דו מימדיות) לבנק\"ל מודרני 🌐"
   ]
  },
  {
   "cell_type": "code",
   "execution_count": null,
   "id": "a4cae81b-fe23-48d2-b0d3-83c2e88161ca",
   "metadata": {},
   "outputs": [],
   "source": [
    "print('16. Parcels borders:')"
   ]
  },
  {
   "cell_type": "markdown",
   "id": "c48e1834-7bdf-4b53-8a29-63acb6e52dda",
   "metadata": {},
   "source": [
    "<h1 style=\"text-align:right; font-size:150%; color:#1c6ce6;\">\n",
    "ספריות 📚"
   ]
  },
  {
   "cell_type": "code",
   "execution_count": null,
   "id": "9b996ded-864f-47f5-9156-8e5bbbc3aaba",
   "metadata": {
    "tags": [
     "Libraries"
    ]
   },
   "outputs": [],
   "source": [
    "import warnings\n",
    "warnings.filterwarnings('ignore')\n",
    "\n",
    "from configs import CNFG\n",
    "import numpy as np\n",
    "import pandas as pd\n",
    "import geopandas as gpd\n",
    "import dask_geopandas as daskgpd\n",
    "import subprocess"
   ]
  },
  {
   "cell_type": "markdown",
   "id": "41823dce-f257-4e8f-841b-1cf4f0aebfc6",
   "metadata": {},
   "source": [
    "<h1 style=\"text-align:right; font-size:150%; color:#1c6ce6;\">קריאת נתונים 📑 "
   ]
  },
  {
   "cell_type": "markdown",
   "id": "f3f04f17-d855-4d9d-a68e-05a47d9ed1f1",
   "metadata": {},
   "source": [
    "<h1 style=\"text-align:right;font-size:125%\">\n",
    "חלקות פעילות"
   ]
  },
  {
   "cell_type": "code",
   "execution_count": null,
   "id": "e50cca75-2472-40e1-b709-8cfbc9b2d3bc",
   "metadata": {},
   "outputs": [],
   "source": [
    "print('  16.a Reading inputs')"
   ]
  },
  {
   "cell_type": "code",
   "execution_count": null,
   "id": "6179bf3a-1901-4ba3-9c1e-419f76c8da14",
   "metadata": {
    "tags": []
   },
   "outputs": [],
   "source": [
    "parcel_all_cols = ['Identifier', 'GUSH_NUM', 'GUSH_SUFFIX', 'PARCEL', 'STATUS', 'LEGAL_AREA', 'TALAR_NUMBER', 'TALAR_YEAR', 'geometry']\n",
    "\n",
    "parcel_all = daskgpd.read_file(CNFG.Arcstorm + 'PARCEL_ALL.gdb', layer = 'PARCEL_ALL', columns = parcel_all_cols, npartitions = 20).compute()\n",
    "\n",
    "del parcel_all_cols\n",
    "\n",
    "print('         input 1/5 read')"
   ]
  },
  {
   "cell_type": "markdown",
   "id": "9a48cde0-0bfa-49fa-8b14-9d5023f3db34",
   "metadata": {},
   "source": [
    "<h1 style=\"text-align:right;font-size:125%\">\n",
    "טבלת מספרי זיהוי של גושים"
   ]
  },
  {
   "cell_type": "code",
   "execution_count": null,
   "id": "6c49858f-d1a1-4710-8be5-73137ee1baee",
   "metadata": {},
   "outputs": [],
   "source": [
    "Blocks = pd.read_csv(CNFG.CSVPath + 'BlockUniqueIDs.csv', usecols = ['Name', 'BlockUniqueID'])\n",
    "\n",
    "print('         input 2/5 read')"
   ]
  },
  {
   "cell_type": "markdown",
   "id": "be9563d9-c243-43d8-9cd9-cbb1a1d4b0ee",
   "metadata": {},
   "source": [
    "<h1 style=\"text-align:right;font-size:125%\">\n",
    "נתוני גבולות תהליכי קדסטר"
   ]
  },
  {
   "cell_type": "code",
   "execution_count": null,
   "id": "3fbbf907-cc19-407c-bd05-5fd6abeb188c",
   "metadata": {
    "tags": []
   },
   "outputs": [],
   "source": [
    "cpb_columns = ['CPBUniqueID', 'GlobalID', 'ProcessType', 'ProcessName', 'Status', 'MapYear']\n",
    "\n",
    "cpb = daskgpd.read_file(CNFG.ProductPath, layer = 'CadasterProcessBorders', columns = cpb_columns, npartitions = 3).compute()\n",
    "\n",
    "del cpb_columns\n",
    "\n",
    "print('         input 3/5 read')"
   ]
  },
  {
   "cell_type": "markdown",
   "id": "d320266f-3159-4999-b86e-b0b060f4802d",
   "metadata": {},
   "source": [
    "<h1 style=\"text-align:right;font-size:125%\">\n",
    "טבלת סדר פעולות"
   ]
  },
  {
   "cell_type": "code",
   "execution_count": null,
   "id": "0badc037-f328-40ca-ad15-1ea920179481",
   "metadata": {
    "tags": []
   },
   "outputs": [],
   "source": [
    "sequence_columns = ['ToParcelFinal', 'CPBUniqueID', 'ProcessType', 'ProcessName', 'BlockNumber', 'SubBlockNumber', 'ToBlockNumber', 'ToSubBlockNumber']\n",
    "\n",
    "sequence = daskgpd.read_file(CNFG.ProductPath, layer = 'SequenceActions', columns = sequence_columns, npartitions = 25).compute()\n",
    "\n",
    "del sequence_columns\n",
    "\n",
    "print('         input 4/5 read')"
   ]
  },
  {
   "cell_type": "markdown",
   "id": "e6e5f626-6173-41a8-8649-9376adb05aa7",
   "metadata": {},
   "source": [
    "<h1 style=\"text-align:right;font-size:125%\">\n",
    "נתוני מקרקעי ייעוד"
   ]
  },
  {
   "cell_type": "code",
   "execution_count": null,
   "id": "b6380c45-16d8-4d03-bd71-9b607626e154",
   "metadata": {},
   "outputs": [],
   "source": [
    "SubBlocksList = pd.read_csv(CNFG.Local + 'SubBlocksList.csv')\n",
    "xml_df = pd.read_csv(CNFG.Local + 'KeshetRimonAssets.csv').sort_values(['BlockName', 'ParcelNumber'])\n",
    "\n",
    "xml_df = xml_df.merge(SubBlocksList[['BlockNumber', 'SubBlockNumber', 'BlockName']], on = 'BlockName', how = 'left')\n",
    "\n",
    "del SubBlocksList\n",
    "\n",
    "print('         input 5/5 read')"
   ]
  },
  {
   "cell_type": "markdown",
   "id": "962d6462-d0c7-4f65-a555-a12525c895bf",
   "metadata": {},
   "source": [
    "<h1 style=\"text-align:right; font-size:150%; color:#1c6ce6;\">\n",
    "עיבוד נתונים 🛠️"
   ]
  },
  {
   "cell_type": "markdown",
   "id": "ece60bc7-d889-4f9f-85d4-dcbb1946a447",
   "metadata": {},
   "source": [
    "<h1 style=\"text-align:right;font-size:125%;\">\n",
    ":עיבוד נתוני חלקות פעילות"
   ]
  },
  {
   "cell_type": "markdown",
   "id": "55325aa2-a4a0-4b6d-952e-54c6afdb9b68",
   "metadata": {},
   "source": [
    "<h1 style=\"text-align:right;font-size:100%\">\n",
    "שינוי מרשת קואורדינטות עולמית לרשת ישראל חדשה  "
   ]
  },
  {
   "cell_type": "code",
   "execution_count": null,
   "id": "453d62cf-477f-422f-ac47-f4e04d02ba99",
   "metadata": {
    "tags": []
   },
   "outputs": [],
   "source": [
    "parcel_all = parcel_all.to_crs(2039)"
   ]
  },
  {
   "cell_type": "markdown",
   "id": "b02af4ae-684b-44be-87d5-f2eb55f51cfd",
   "metadata": {},
   "source": [
    "<h1 style=\"text-align:right;font-size:100%\">\n",
    "איחוד עם טבלת גושים לקבלת מספר מזהה לגוש עבור כל חלקה"
   ]
  },
  {
   "cell_type": "code",
   "execution_count": null,
   "id": "fbff762a-0cf3-4181-8b10-862558e39e41",
   "metadata": {
    "tags": []
   },
   "outputs": [],
   "source": [
    "parcel_all['BlockName'] = parcel_all['GUSH_NUM'].astype(str) + '/' + parcel_all['GUSH_SUFFIX'].astype(str)\n",
    "parcel_all = parcel_all.merge(Blocks, left_on = 'BlockName', right_on = 'Name', how = 'left')\n",
    "parcel_all.drop(columns = ['BlockName', 'Name'], inplace = True)\n",
    "del Blocks"
   ]
  },
  {
   "cell_type": "markdown",
   "id": "ed4c521d-1214-4d21-a01c-a9835dd69e54",
   "metadata": {},
   "source": [
    "<h1 style=\"text-align:right;font-size:100%\">\n",
    "שינוי שמות של שדות ישנים לחדשים"
   ]
  },
  {
   "cell_type": "code",
   "execution_count": null,
   "id": "d6ebb022-830c-446b-9c86-3cce0ecee92d",
   "metadata": {
    "tags": []
   },
   "outputs": [],
   "source": [
    "rename_dict = {'PARCEL'      : 'ParcelNumber',\n",
    "               'GUSH_NUM'    : 'BlockNumber',\n",
    "               'GUSH_SUFFIX' : 'SubBlockNumber',\n",
    "               'Identifier'  : 'ParcelUniqueID',\n",
    "               'LEGAL_AREA'  : 'StatedArea'}\n",
    "\n",
    "\n",
    "parcel_all.rename(columns = rename_dict, inplace = True)"
   ]
  },
  {
   "cell_type": "markdown",
   "id": "56638041-5b5d-4499-9562-0ca0ec921cf6",
   "metadata": {},
   "source": [
    "<h1 style=\"text-align:right;font-size:100%\">\n",
    "הגדרת שדה של סוג מקרקעין"
   ]
  },
  {
   "cell_type": "code",
   "execution_count": null,
   "id": "1ef10d66-b9fa-4191-b7c1-7a402a6026bd",
   "metadata": {
    "tags": []
   },
   "outputs": [],
   "source": [
    "registered   = 1\n",
    "unregistered = 2\n",
    "\n",
    "registered_cond = parcel_all['STATUS'].isin([1, 3, 6, 16])\n",
    "parcel_all['LandType'] = np.where(registered_cond, registered, unregistered)\n",
    "parcel_all.drop(columns = 'STATUS', inplace = True)"
   ]
  },
  {
   "cell_type": "markdown",
   "id": "5ebf0856-5f2c-400e-9dbc-9501866fe977",
   "metadata": {},
   "source": [
    "<h1 style=\"text-align:right;font-size:100%\">\n",
    "הגדרת שדה של סוג חלקה"
   ]
  },
  {
   "cell_type": "code",
   "execution_count": null,
   "id": "5728e394-e088-4cec-90eb-72c1e27b695b",
   "metadata": {
    "tags": []
   },
   "outputs": [],
   "source": [
    "temporary  = 1\n",
    "final      = 2\n",
    "\n",
    "parcel_all['ParcelType'] = parcel_all['LandType'].map({registered : final, unregistered : temporary})\n",
    "\n",
    "del [registered, unregistered, temporary, final]"
   ]
  },
  {
   "cell_type": "markdown",
   "id": "2f591827-13e4-430b-aea7-5af469f0a0ea",
   "metadata": {},
   "source": [
    "<h1 style=\"text-align:right;font-size:100%\">\n",
    "הגדרת שדה של יחידת שטח למטר מרובע"
   ]
  },
  {
   "cell_type": "code",
   "execution_count": null,
   "id": "f43d3155-89b8-4c77-b18f-0f8f19014412",
   "metadata": {
    "tags": []
   },
   "outputs": [],
   "source": [
    "parcel_all['StatedAreaUnit'] = 109404"
   ]
  },
  {
   "cell_type": "markdown",
   "id": "753d2e53-9671-4202-abbc-30b3f7dd1c54",
   "metadata": {},
   "source": [
    "<h1 style=\"text-align:right;font-size:100%\">\n",
    "מיזוג נתוני מקרקעי יעוד"
   ]
  },
  {
   "cell_type": "code",
   "execution_count": null,
   "id": "c689d64a-95b5-4a10-b25a-7dfbd0c824c7",
   "metadata": {
    "tags": []
   },
   "outputs": [],
   "source": [
    "xml_df['BlockNumber'] = xml_df['BlockNumber'].fillna(xml_df['BlockName'])\n",
    "\n",
    "xml_df['SubBlockNumber'] = xml_df['SubBlockNumber'].fillna(0)\n",
    "\n",
    "xml_df = xml_df.drop(columns = 'BlockName')\n",
    "\n",
    "xml_df[['BlockNumber', 'SubBlockNumber', 'ParcelNumber']] = xml_df[['BlockNumber', 'SubBlockNumber', 'ParcelNumber']].astype(int)\n",
    "\n",
    "xml_df['ParcelName'] = xml_df['ParcelNumber'].astype(str) + '/' + xml_df['BlockNumber'].astype(str) + '/' +  xml_df['SubBlockNumber'].astype(str)\n",
    "\n",
    "xml_df = xml_df[['ParcelName', 'LandDesignations']]\n",
    "\n",
    "\n",
    "\n",
    "parcel_all['ParcelName'] = parcel_all['ParcelNumber'].astype(str) + '/' + parcel_all['BlockNumber'].astype(str) + '/' + parcel_all['SubBlockNumber'].astype(str)\n",
    "\n",
    "\n",
    "\n",
    "parcel_all = parcel_all.merge(right = xml_df, on = 'ParcelName', how = 'left')\n",
    "parcel_all.rename(columns = {'LandDesignations' : 'LandDesignationPlan'}, inplace = True)\n",
    "\n",
    "del xml_df"
   ]
  },
  {
   "cell_type": "markdown",
   "id": "fbbba99c-df3b-4bef-90cd-aa1f130be7b5",
   "metadata": {},
   "source": [
    "<h1 style=\"text-align:right;font-size:100%\">\n",
    "סינון נתוני תהליכי קדסטר לתכניות שאושרו בלבד (חלקות רצף הן חלקות לאחר שאושרו/עודכנו בתכנית)"
   ]
  },
  {
   "cell_type": "code",
   "execution_count": null,
   "id": "57123228-dee8-45a4-a8dd-9f8a2f994fbe",
   "metadata": {
    "tags": []
   },
   "outputs": [],
   "source": [
    "ApprovedStatus = [5, 6, 13, 94, 98, 102, 103]\n",
    "\n",
    "cpb = cpb[cpb['Status'].isin(ApprovedStatus)]\n",
    "#cpb = cpb.drop(columns = 'Status')\n",
    "\n",
    "del ApprovedStatus"
   ]
  },
  {
   "cell_type": "markdown",
   "id": "21695283-65a3-4c1a-9821-c95652a499dd",
   "metadata": {},
   "source": [
    "<h1 style=\"text-align:right;font-size:100%\">\n",
    "עיבוד טבלת סדר פעולות "
   ]
  },
  {
   "cell_type": "code",
   "execution_count": null,
   "id": "d41b9c08-f07e-4f59-9524-e967cbb2c579",
   "metadata": {
    "tags": []
   },
   "outputs": [],
   "source": [
    "sequence['ToBlockNumber'] = sequence['ToBlockNumber'].fillna(sequence['BlockNumber'])\n",
    "sequence['ToSubBlockNumber'] = sequence['ToSubBlockNumber'].fillna(sequence['SubBlockNumber'])\n",
    "\n",
    "sequence = sequence.astype('Int64')\n",
    "\n",
    "sequence = sequence.merge(cpb, on =['CPBUniqueID', 'ProcessType'], how = 'left', validate = 'many_to_one')\n",
    "\n",
    "sequence = sequence[\n",
    "                    (sequence['ToParcelFinal'] !=  0)\n",
    "                                  &\n",
    "                    (~sequence['ToParcelFinal'].isna())\n",
    "                                  &\n",
    "                    (sequence['ToBlockNumber'] !=  0)\n",
    "                    ]\n",
    "\n",
    "sequence['ParcelName'] = sequence['ToParcelFinal'].astype(str) + '/' + sequence['ToBlockNumber'].astype(str) + '/' + sequence['ToSubBlockNumber'].astype(str)\n",
    "\n",
    "sequence.drop(columns = ['BlockNumber', 'SubBlockNumber', 'ToParcelFinal', 'ToBlockNumber', 'ToSubBlockNumber'], inplace = True)"
   ]
  },
  {
   "cell_type": "markdown",
   "id": "c2ba449e-4567-4622-805b-1e2d50f4ef6b",
   "metadata": {},
   "source": [
    "<h1 style=\"text-align:right;font-size:100%\">\n",
    "הוספת שדה של שם התהליך לטבלת חלקות"
   ]
  },
  {
   "cell_type": "code",
   "execution_count": null,
   "id": "f256d6c8-cbbd-4048-adff-ed3208abb55c",
   "metadata": {
    "tags": []
   },
   "outputs": [],
   "source": [
    "parcel_all['ProcessName'] = parcel_all['TALAR_NUMBER'].astype(str) + '/' + parcel_all['TALAR_YEAR'].astype(str)\n",
    "parcel_all.drop(columns = ['TALAR_NUMBER', 'TALAR_YEAR'], inplace = True)"
   ]
  },
  {
   "cell_type": "markdown",
   "id": "cfb1ddef-4404-4d99-bd25-3a30b2c3c6d4",
   "metadata": {},
   "source": [
    "<h1 style=\"text-align:right;font-size:100%\">\n",
    "איכלוס ראשוני של שדות המתארים את התהליך היוצר ותהליך מעדכן\n",
    "<h1 style=\"text-align:right;font-size:100%\">\n",
    "חלקות שנוצרו מתהליך שאינו ידוע יוגדרו לכך שנוצרו מהסדר ועל ידי תהליך פיקטיבי שאינו ידוע"
   ]
  },
  {
   "cell_type": "code",
   "execution_count": null,
   "id": "da86a53b-15c5-4c4a-84df-ff805698885e",
   "metadata": {
    "tags": []
   },
   "outputs": [],
   "source": [
    "CreateProcessesList = [1, 3, 9, 10, 11] #[תצ\"ר, פס\"ד, רישום ראשון, תצ\"ר לא מוסדר, עריכה חופשית]\n",
    "\n",
    "CreateProcessMap = {1  : 1,  # תצ\"ר\n",
    "                    3  : 2,  # פס\"ד\n",
    "                    9  : 3,  # הסדר\n",
    "                    11 : 4} # תצ\"ר בשטח לא מוסדר\n",
    "\n",
    "CreateProcessValues = list(CreateProcessMap.values())\n",
    "\n",
    "\n",
    "sequence['CreatedByRecord'] = np.where(sequence['ProcessType'].isin(CreateProcessesList),\n",
    "                                       sequence['GlobalID'],\n",
    "                                       CNFG.FabricatedCreateProcessGUID)\n",
    "\n",
    "sequence['CreateProcessType'] = np.where(sequence['ProcessType'].isin(CreateProcessesList),\n",
    "                                         sequence['ProcessType'].map(CreateProcessMap),\n",
    "                                         3)\n",
    "\n",
    "\n",
    "\n",
    "UpdateProcessesList = [4, 5, 6, 7, 8, 12, 13, 14, 15]\n",
    "\n",
    "sequence['UpdatedByRecord'] = np.where(sequence['ProcessType'].isin(UpdateProcessesList),\n",
    "                                       sequence['GlobalID'],\n",
    "                                       None)\n",
    "\n",
    "\n",
    "sequence['UpdateProcessType'] = np.where(sequence['ProcessType'].isin(UpdateProcessesList),\n",
    "                                         sequence['ProcessType'],\n",
    "                                         None)\n",
    "\n",
    "\n",
    "del [CreateProcessesList, CreateProcessMap, CreateProcessValues, UpdateProcessesList]"
   ]
  },
  {
   "cell_type": "markdown",
   "id": "7935a02e-3b81-4c06-9154-c5f04d63d212",
   "metadata": {},
   "source": [
    "<h1 style=\"text-align:right;font-size:100%\">\n",
    "הסרת כפילות כאשר התהליך היוצר האחרון הוא הקבוע"
   ]
  },
  {
   "cell_type": "code",
   "execution_count": null,
   "id": "0036e2a1-9b87-4976-b69e-adf2238d5863",
   "metadata": {
    "tags": []
   },
   "outputs": [],
   "source": [
    "created_frame = sequence[['ParcelName', 'CPBUniqueID', 'MapYear', 'CreatedByRecord', 'CreateProcessType']].sort_values(['ParcelName', 'CreateProcessType', 'MapYear'])\n",
    "created_frame = created_frame[~created_frame['CreatedByRecord'].isna()]\n",
    "created_frame = created_frame.drop_duplicates(['ParcelName'], keep = 'last')\n",
    "created_frame = created_frame.drop(columns = ['CPBUniqueID', 'MapYear'])"
   ]
  },
  {
   "cell_type": "markdown",
   "id": "ba38e072-94b0-4d21-9cab-05eec78e56a4",
   "metadata": {},
   "source": [
    "<h1 style=\"text-align:right;font-size:100%\">\n",
    "הסרת כפילות כאשר התהליך המעדכן האחרון הוא הקבוע"
   ]
  },
  {
   "cell_type": "code",
   "execution_count": null,
   "id": "fc5f6137-5d04-4332-829a-a6f48f2ef622",
   "metadata": {
    "tags": []
   },
   "outputs": [],
   "source": [
    "updated_frame = sequence[['ParcelName', 'CPBUniqueID', 'MapYear', 'UpdatedByRecord', 'UpdateProcessType']].sort_values(['ParcelName', 'UpdateProcessType', 'MapYear'])\n",
    "updated_frame = updated_frame[~updated_frame['UpdatedByRecord'].isna()]\n",
    "updated_frame = updated_frame.drop_duplicates(['ParcelName'], keep = 'last')\n",
    "updated_frame = updated_frame.drop(columns = ['CPBUniqueID', 'MapYear', 'UpdateProcessType'])"
   ]
  },
  {
   "cell_type": "code",
   "execution_count": null,
   "id": "b24fcc43-7832-43a0-9b66-e22f3c96b1ef",
   "metadata": {
    "tags": []
   },
   "outputs": [],
   "source": [
    "del sequence\n",
    "parcel_all = parcel_all.drop(columns = 'ProcessName')"
   ]
  },
  {
   "cell_type": "markdown",
   "id": "f9cc7434-293b-4c60-aa23-7509f92a80cc",
   "metadata": {},
   "source": [
    "<h1 style=\"text-align:right;font-size:100%\">\n",
    "מיזוג מידע של תהליך יוצר ותהליך מעדכן אל טבלת חלקות"
   ]
  },
  {
   "cell_type": "code",
   "execution_count": null,
   "id": "095fb71e-0791-4df2-90fc-edaee54f0b77",
   "metadata": {
    "tags": []
   },
   "outputs": [],
   "source": [
    "Parcels2D = parcel_all.merge(created_frame, on = 'ParcelName', how = 'left')\n",
    "Parcels2D = Parcels2D.merge(updated_frame, on = 'ParcelName', how = 'left')"
   ]
  },
  {
   "cell_type": "code",
   "execution_count": null,
   "id": "b7546f8d-d6fc-4ba3-ab0b-53aac6cc757e",
   "metadata": {
    "tags": []
   },
   "outputs": [],
   "source": [
    "Parcels2D['CreatedByRecord'] = Parcels2D['CreatedByRecord'].fillna(CNFG.FabricatedCreateProcessGUID)\n",
    "Parcels2D['CreateProcessType'] = Parcels2D['CreateProcessType'].fillna(3)"
   ]
  },
  {
   "cell_type": "markdown",
   "id": "5ff6b8fe-a744-472f-9351-de4ea96070bd",
   "metadata": {},
   "source": [
    "<h1 style=\"text-align:right;font-size:100%\">\n",
    "שינוי שם שדה למספר חלקה מלא"
   ]
  },
  {
   "cell_type": "code",
   "execution_count": null,
   "id": "61c3db88-dcf6-43f9-bdbd-1d648e096dab",
   "metadata": {
    "tags": []
   },
   "outputs": [],
   "source": [
    "Parcels2D.rename(columns = {'ParcelName' : 'Name'}, inplace = True)"
   ]
  },
  {
   "cell_type": "markdown",
   "id": "8527677e-3486-4ba0-8e91-3e78fbaa602a",
   "metadata": {},
   "source": [
    "<h1 style=\"text-align:right;font-size:100%\">\n",
    "הוספת 5 מליון למספרי זיהוי של חלקות"
   ]
  },
  {
   "cell_type": "code",
   "execution_count": null,
   "id": "2ba14ea9-22b8-494a-b7e8-90b02d644576",
   "metadata": {
    "tags": []
   },
   "outputs": [],
   "source": [
    "Parcels2D['ParcelUniqueID'] = Parcels2D['ParcelUniqueID'] + 5000000"
   ]
  },
  {
   "cell_type": "code",
   "execution_count": null,
   "id": "ea1914e4-7baf-449f-ae79-9a7ec99050a3",
   "metadata": {
    "tags": []
   },
   "outputs": [],
   "source": [
    "ints = ['BlockNumber', 'SubBlockNumber', 'ParcelUniqueID', 'ParcelNumber', 'BlockUniqueID', 'LandType', 'ParcelType', 'StatedAreaUnit', 'CreateProcessType']\n",
    "Parcels2D[ints] = Parcels2D[ints].astype('Int64')"
   ]
  },
  {
   "cell_type": "markdown",
   "id": "2898df63-b6f0-4326-87c1-66f189f8ae6e",
   "metadata": {},
   "source": [
    "<h1 style=\"text-align:right; font-size:150%; color:#1c6ce6;\"> \n",
    "שמירת תוצאות 💾\n",
    "<h1 style=\"text-align:right; font-size:100%;\"> \n",
    "<h1 style=\"text-align:right; font-size:100%;\"> \n",
    "בחירת נתיב\n",
    "<h1 style=\"text-align:right; font-size:100%;\"> \n",
    "שמירה כטבלה\n",
    "<h1 style=\"text-align:right; font-size:100%;\"> \n",
    "שמירה כשכבה גיאוגרפית"
   ]
  },
  {
   "cell_type": "code",
   "execution_count": null,
   "id": "c78a49e3-7658-41bf-bf30-2a92e1cadbf3",
   "metadata": {},
   "outputs": [],
   "source": [
    "print('  16.e Exporting results to product folder')"
   ]
  },
  {
   "cell_type": "code",
   "execution_count": null,
   "id": "8fb475c9-9d87-4f30-ad8e-4fdc4e16bc9c",
   "metadata": {},
   "outputs": [],
   "source": [
    "csv_dir = CNFG.CSVPath + 'Parcels2DList.csv'\n",
    "json_dir = CNFG.JsonPath + 'Parcels2D.geojson'\n",
    "\n",
    "\n",
    "Parcels2D[['ParcelNumber', 'BlockNumber', 'SubBlockNumber']].to_csv(csv_dir, index = False)\n",
    "gpd.GeoDataFrame(Parcels2D, geometry = 'geometry', crs = 2039).to_file(json_dir, driver = 'GeoJSON')"
   ]
  },
  {
   "cell_type": "code",
   "execution_count": null,
   "id": "abd3f8cc-f008-45ac-aba2-7ffaf9f8356c",
   "metadata": {},
   "outputs": [],
   "source": [
    "subprocess.call([CNFG.BatchPath + \"Parcels2D-Save as Feature Class.bat\"]);"
   ]
  }
 ],
 "metadata": {
  "kernelspec": {
   "display_name": "Python 3 (ipykernel)",
   "language": "python",
   "name": "python3"
  },
  "language_info": {
   "codemirror_mode": {
    "name": "ipython",
    "version": 3
   },
   "file_extension": ".py",
   "mimetype": "text/x-python",
   "name": "python",
   "nbconvert_exporter": "python",
   "pygments_lexer": "ipython3",
   "version": "3.11.3"
  }
 },
 "nbformat": 4,
 "nbformat_minor": 5
}
