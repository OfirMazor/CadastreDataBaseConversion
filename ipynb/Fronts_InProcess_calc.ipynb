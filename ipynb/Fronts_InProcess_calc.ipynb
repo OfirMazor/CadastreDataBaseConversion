{
 "cells": [
  {
   "cell_type": "markdown",
   "id": "14ee86a2-05be-4dd0-839e-0baf3810363d",
   "metadata": {},
   "source": [
    "<h1 style=\"background-color:#FF7733;\n",
    "           font-family:segoe ui;\n",
    "                color:#FFF9ED;\n",
    "           font-size:300%;\n",
    "           text-align:center;\n",
    "           border-radius:10px 10px;\"> \n",
    "📐 תהליך הסבת שכבת חזיתות בתהליך לבנק\"ל מודרני 📐 "
   ]
  },
  {
   "cell_type": "code",
   "execution_count": null,
   "id": "c6eefbf6-f225-4aeb-94f3-697b7c93632c",
   "metadata": {},
   "outputs": [],
   "source": [
    "print('13. Fronts In-Process:')"
   ]
  },
  {
   "cell_type": "markdown",
   "id": "f8107f39-08d1-46c9-a080-1b9b874ccddd",
   "metadata": {},
   "source": [
    "<h1 style=\"text-align:right; font-size:150%; color:#1c6ce6;\">\n",
    "ספריות 📚"
   ]
  },
  {
   "cell_type": "code",
   "execution_count": null,
   "id": "f32bbd84-ea5b-408b-b70b-6eab97efc34c",
   "metadata": {},
   "outputs": [],
   "source": [
    "import warnings\n",
    "warnings.filterwarnings('ignore')\n",
    "\n",
    "import numpy as np\n",
    "import pandas as pd\n",
    "import geopandas as gpd\n",
    "import datetime as dt\n",
    "import subprocess"
   ]
  },
  {
   "cell_type": "code",
   "execution_count": null,
   "id": "2be5761c-d6da-4424-b646-5e462cf279e1",
   "metadata": {},
   "outputs": [],
   "source": [
    "print('  13.a Reading inputs')"
   ]
  },
  {
   "cell_type": "markdown",
   "id": "4ead183d-f24a-47f0-b620-9b4fba11d080",
   "metadata": {},
   "source": [
    "<h1 style=\"text-align:right; font-size:150%; color:#1c6ce6;\">קריאת נתונים 📑 "
   ]
  },
  {
   "cell_type": "code",
   "execution_count": null,
   "id": "40bdae4c-235c-4890-b9b2-6dae3c46426a",
   "metadata": {},
   "outputs": [],
   "source": [
    "RawData_folder = r'\\\\mapi_shares\\MNCDB\\צוות מידע\\RawData/'\n",
    "\n",
    "today = dt.date.today()\n",
    "date_name =  str(today.year) + str(today.month) + str(today.day) + '_ncdb.gdb'\n",
    "product_path = r'\\\\mapi_shares\\MNCDB\\צוות מידע\\תוצרים/' + date_name"
   ]
  },
  {
   "cell_type": "markdown",
   "id": "25557425-1eab-43e2-8041-281900dc2099",
   "metadata": {},
   "source": [
    "<h1 style=\"text-align:right;font-size:100%\">\n",
    "TEMP_ID הרצת עיבוד מקדים ליצירת שדה מקשר"
   ]
  },
  {
   "cell_type": "code",
   "execution_count": null,
   "id": "ad0d5f1c-3541-4913-83f2-c49ad1a779a4",
   "metadata": {},
   "outputs": [],
   "source": [
    "subprocess.call([r\"M:\\ncdbScripts\\scripts\\arcpyPro\\Fronts_InProcess-preprocess.bat\"]);"
   ]
  },
  {
   "cell_type": "markdown",
   "id": "bca5405f-e638-467c-96a7-8394ff02109d",
   "metadata": {},
   "source": [
    "<h1 style=\"text-align:right;font-size:100%\">\n",
    "שכבת חזיתות בתהליך קיימת"
   ]
  },
  {
   "cell_type": "code",
   "execution_count": null,
   "id": "85092844-51d8-4afd-a8f3-e2933facd2d5",
   "metadata": {},
   "outputs": [],
   "source": [
    "fronts_inprocess = pd.read_csv(RawData_folder + 'CADSDE/Lines_InProcess.csv', engine = 'c',\n",
    "                               usecols = ['TEMP_ID', 'TALAR_NUM', 'TALAR_YEAR', 'ENTITY_STATE', 'FRONT_LEGAL_LENGTH', 'CUR_RADIUS'])\n",
    "print('     input 1/2 read')"
   ]
  },
  {
   "cell_type": "code",
   "execution_count": null,
   "id": "02f98884-1d06-4299-9100-36e94e2ddef0",
   "metadata": {},
   "outputs": [],
   "source": [
    "cpb_layer = gpd.read_file(product_path,\n",
    "                          layer = 'CadasterProcessBorders',\n",
    "                          include_fields = ['CPBUniqueID', 'ProcessName'],\n",
    "                          ignore_geometry = True)\n",
    "\n",
    "print('     input 2/2 read')"
   ]
  },
  {
   "cell_type": "code",
   "execution_count": null,
   "id": "c8e07417-46e1-4ac9-9cab-93deee74d953",
   "metadata": {},
   "outputs": [],
   "source": [
    "del [RawData_folder, today, date_name, product_path]"
   ]
  },
  {
   "cell_type": "markdown",
   "id": "e730b794-cf0c-4e86-b5ea-9c2171521095",
   "metadata": {},
   "source": [
    "<h1 style=\"text-align:right; font-size:150%; color:#1c6ce6;\">\n",
    "עיבוד נתונים 🛠️"
   ]
  },
  {
   "cell_type": "code",
   "execution_count": null,
   "id": "cbb9ffff-4419-4594-8455-4a4dd83fd34e",
   "metadata": {},
   "outputs": [],
   "source": [
    "print('  13.b Cleaning data')"
   ]
  },
  {
   "cell_type": "markdown",
   "id": "d7d1042c-714a-4232-af43-2415536be977",
   "metadata": {},
   "source": [
    "<h1 style=\"text-align:right;font-size:100%\">\n",
    "חזיתות בעלות שטח רשום ריק יקבלו את הערך 0"
   ]
  },
  {
   "cell_type": "code",
   "execution_count": null,
   "id": "c21d55c8-14d0-44b4-b5df-d0dc7ad129af",
   "metadata": {},
   "outputs": [],
   "source": [
    "fronts_inprocess['FRONT_LEGAL_LENGTH'] = fronts_inprocess['FRONT_LEGAL_LENGTH'].fillna(0.0)"
   ]
  },
  {
   "cell_type": "code",
   "execution_count": null,
   "id": "c8cdcf56-93e2-4d16-8c72-1aa1b806be8d",
   "metadata": {},
   "outputs": [],
   "source": [
    "print('  13.c Data conversion')"
   ]
  },
  {
   "cell_type": "markdown",
   "id": "bdb9ea0f-c851-4291-be11-a4d3e6da1881",
   "metadata": {},
   "source": [
    "<h1 style=\"text-align:right;font-size:100%\">\n",
    "שינוי שמות של שדות אורך מחושב ורדיוס"
   ]
  },
  {
   "cell_type": "code",
   "execution_count": null,
   "id": "08e2c823-6f70-40a0-9e03-a9643e324f37",
   "metadata": {},
   "outputs": [],
   "source": [
    "fronts_inprocess.rename(columns = {'FRONT_LEGAL_LENGTH' : 'LegalLength',\n",
    "                                   'CUR_RADIUS'         : 'Radius'},\n",
    "                        inplace = True)"
   ]
  },
  {
   "cell_type": "markdown",
   "id": "d59a1b7f-291f-4b7d-a0e1-4f674acba1cc",
   "metadata": {},
   "source": [
    "<h1 style=\"text-align:right;font-size:100%\">\n",
    "סוג החזית יקבע לפי קיום של רדיוס"
   ]
  },
  {
   "cell_type": "code",
   "execution_count": null,
   "id": "9a238523-d50b-4409-9a5b-a6c349ab9afd",
   "metadata": {},
   "outputs": [],
   "source": [
    "straight = 1\n",
    "curved   = 2\n",
    "\n",
    "fronts_inprocess['LineType'] = np.where(fronts_inprocess['Radius'].isna(), straight, curved)\n",
    "\n",
    "del [straight, curved]"
   ]
  },
  {
   "cell_type": "markdown",
   "id": "063ac6d4-36f9-446e-a93b-e8c29548a199",
   "metadata": {},
   "source": [
    "<h1 style=\"text-align:right;font-size:100%\">\n",
    "ENTITY_STATE סטאטוס החזית תקבע לפי שדה\n",
    "    <h1 style=\"text-align:right;font-size:100%\">\n",
    "(Null ישנם מקרים בהם השדה ישאר)"
   ]
  },
  {
   "cell_type": "code",
   "execution_count": null,
   "id": "b14c7adc-0465-4372-af0a-d54b3b18342c",
   "metadata": {},
   "outputs": [],
   "source": [
    "old_front = 1\n",
    "new_front = 2\n",
    "\n",
    "fronts_inprocess['LineStatus'] = np.where(fronts_inprocess['ENTITY_STATE'] == 0, old_front, new_front)\n",
    "\n",
    "fronts_inprocess.drop(columns = 'ENTITY_STATE', inplace = True)\n",
    "\n",
    "del [old_front, new_front]"
   ]
  },
  {
   "cell_type": "markdown",
   "id": "011e8dc3-82af-467b-bae3-b0d5ec8bb81a",
   "metadata": {},
   "source": [
    "<h1 style=\"text-align:right;font-size:100%\">\n",
    "איחוד עם שכבת גבולות תהליכי קדסטר לקבלת מזהה של תהליך יוצר"
   ]
  },
  {
   "cell_type": "code",
   "execution_count": null,
   "id": "8b997d3a-309c-421d-8499-daa66293aaab",
   "metadata": {},
   "outputs": [],
   "source": [
    "fronts_inprocess[['TALAR_NUM', 'TALAR_YEAR']] = fronts_inprocess[['TALAR_NUM', 'TALAR_YEAR']].fillna(0)\n",
    "fronts_inprocess[['TALAR_NUM', 'TALAR_YEAR']] = fronts_inprocess[['TALAR_NUM', 'TALAR_YEAR']].astype('Int32')\n",
    "fronts_inprocess['ProcessName'] = fronts_inprocess['TALAR_NUM'].astype(str) + '/' + fronts_inprocess['TALAR_YEAR'].astype(str)\n",
    "\n",
    "fronts_inprocess = fronts_inprocess.merge(right = cpb_layer, on = 'ProcessName', how = 'left')\n",
    "fronts_inprocess['CPBUniqueID'] = fronts_inprocess['CPBUniqueID'].fillna(0)\n",
    "fronts_inprocess['CPBUniqueID'] = fronts_inprocess['CPBUniqueID'].astype('Int64')\n",
    "\n",
    "fronts_inprocess.drop(columns = ['TALAR_NUM', 'TALAR_YEAR', 'ProcessName'], inplace = True)"
   ]
  },
  {
   "cell_type": "markdown",
   "id": "b88b3166-3c65-4c4f-8665-2d06568c4668",
   "metadata": {},
   "source": [
    "<h1 style=\"text-align:right;font-size:100%\">\n",
    "יצירת מספר מזהה לכל חזית בתהליך"
   ]
  },
  {
   "cell_type": "code",
   "execution_count": null,
   "id": "e7d690ff-c9fd-484c-addc-150df6eddcc2",
   "metadata": {},
   "outputs": [],
   "source": [
    "fronts_inprocess['FrontUniqueID'] = range(1, 1 + len(fronts_inprocess))"
   ]
  },
  {
   "cell_type": "markdown",
   "id": "008b5b22-2bea-4842-a6e4-4d8a34684b32",
   "metadata": {},
   "source": [
    "<h1 style=\"text-align:right; font-size:150%; color:#1c6ce6;\"> \n",
    "יצירת שכבה חדשה בהתאם לאפיון ✨"
   ]
  },
  {
   "cell_type": "code",
   "execution_count": null,
   "id": "437d08ef-2c53-4a3b-b983-6bc9dc0dd40e",
   "metadata": {},
   "outputs": [],
   "source": [
    " print('  13.d Defining new Layer')"
   ]
  },
  {
   "cell_type": "markdown",
   "id": "670ba4ee-fd77-4eed-a90c-49b55ac0e156",
   "metadata": {},
   "source": [
    "<h1 style=\"text-align:right;font-size:100%\">\n",
    "הגדרת סוגי שדות נתונים"
   ]
  },
  {
   "cell_type": "code",
   "execution_count": null,
   "id": "3282185a-8f72-4bfa-a943-d40d99e3bc08",
   "metadata": {},
   "outputs": [],
   "source": [
    "fronts_inprocess = fronts_inprocess.astype({'FrontUniqueID'       : int,\n",
    "                                            'LineType'            : int,\n",
    "                                            'LineStatus'          : 'Int64',\n",
    "                                            'Radius'              : float,\n",
    "                                            'LegalLength'         : float,\n",
    "                                            'CPBUniqueID'         : 'Int64' ,\n",
    "                                            'TEMP_ID'             : int})"
   ]
  },
  {
   "cell_type": "markdown",
   "id": "b977339d-ef5a-4b7e-9dde-e065cf8b3ee8",
   "metadata": {},
   "source": [
    "<h1 style=\"text-align:right; font-size:150%; color:#1c6ce6;\"> \n",
    "שמירת תוצאות 💾\n",
    "<h1 style=\"text-align:right; font-size:100%;\"> \n",
    "<h1 style=\"text-align:right; font-size:100%;\"> \n",
    "בחירת נתיב\n",
    "<h1 style=\"text-align:right; font-size:100%;\"> \n",
    "שמירה כטבלה\n",
    "<h1 style=\"text-align:right; font-size:100%;\"> \n",
    "שמירה כשכבה גיאוגרפית"
   ]
  },
  {
   "cell_type": "code",
   "execution_count": null,
   "id": "24343bc5-4605-43f7-bbb5-51dc5a368481",
   "metadata": {},
   "outputs": [],
   "source": [
    "print('  13.e Exporting results to product folder')"
   ]
  },
  {
   "cell_type": "code",
   "execution_count": null,
   "id": "5310e184-e6d4-4481-a7f8-73d5f4cda21b",
   "metadata": {},
   "outputs": [],
   "source": [
    "csv_dir = r'\\\\mapi_shares\\MNCDB\\צוות מידע\\תוצרים\\csv\\InProcessFronts_data.csv'\n",
    "\n",
    "fronts_inprocess.to_csv(csv_dir, index = False)"
   ]
  },
  {
   "cell_type": "code",
   "execution_count": null,
   "id": "cdf8f390-c817-4335-b109-e73100e9ee53",
   "metadata": {},
   "outputs": [],
   "source": [
    "subprocess.call([r\"M:\\ncdbScripts\\scripts\\arcpyPro\\Fronts In-Process-Save as Feature Class.bat\"]);"
   ]
  }
 ],
 "metadata": {
  "kernelspec": {
   "display_name": "Python 3",
   "language": "python",
   "name": "python3"
  },
  "language_info": {
   "codemirror_mode": {
    "name": "ipython",
    "version": 3
   },
   "file_extension": ".py",
   "mimetype": "text/x-python",
   "name": "python",
   "nbconvert_exporter": "python",
   "pygments_lexer": "ipython3",
   "version": "3.9.4"
  }
 },
 "nbformat": 4,
 "nbformat_minor": 5
}
