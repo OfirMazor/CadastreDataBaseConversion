{
 "cells": [
  {
   "cell_type": "markdown",
   "id": "14ee86a2-05be-4dd0-839e-0baf3810363d",
   "metadata": {},
   "source": [
    "<h1 style=\"background-color:#FF7733;\n",
    "           font-family:segoe ui;\n",
    "                color:#FFF9ED;\n",
    "           font-size:300%;\n",
    "           text-align:center;\n",
    "           border-radius:10px 10px;\"> \n",
    "📐 תהליך הסבת שכבת חזיתות בתהליך לבנק\"ל מודרני 📐 "
   ]
  },
  {
   "cell_type": "code",
   "execution_count": null,
   "id": "c6eefbf6-f225-4aeb-94f3-697b7c93632c",
   "metadata": {},
   "outputs": [],
   "source": [
    "print(' Fronts In-Process:')"
   ]
  },
  {
   "cell_type": "markdown",
   "id": "f8107f39-08d1-46c9-a080-1b9b874ccddd",
   "metadata": {},
   "source": [
    "<h1 style=\"text-align:right; font-size:150%; color:#1c6ce6;\">\n",
    "ספריות 📚"
   ]
  },
  {
   "cell_type": "code",
   "execution_count": null,
   "id": "f32bbd84-ea5b-408b-b70b-6eab97efc34c",
   "metadata": {
    "tags": []
   },
   "outputs": [],
   "source": [
    "import warnings\n",
    "warnings.filterwarnings('ignore')\n",
    "\n",
    "import subprocess\n",
    "import numpy as np\n",
    "import pandas as pd\n",
    "import polars as pl\n",
    "import geopandas as gpd\n",
    "from configs import CNFG\n",
    "from threading import Thread\n",
    "import dask_geopandas as daskgpd"
   ]
  },
  {
   "cell_type": "markdown",
   "id": "8cc9a65b-b2ea-4492-bf2d-2903d6de89cc",
   "metadata": {},
   "source": [
    "<h1 style=\"text-align:right;font-size:100%\">\n",
    "העתקת שכבת מקור שכוללת גיאומטריה מקורית"
   ]
  },
  {
   "cell_type": "code",
   "execution_count": null,
   "id": "ad0d5f1c-3541-4913-83f2-c49ad1a779a4",
   "metadata": {},
   "outputs": [],
   "source": [
    "Thread(target = subprocess.call, args = [CNFG.BatchPath + \"Fronts_InProcess-preprocess.bat\"]).start();"
   ]
  },
  {
   "cell_type": "markdown",
   "id": "4ead183d-f24a-47f0-b620-9b4fba11d080",
   "metadata": {},
   "source": [
    "<h1 style=\"text-align:right; font-size:150%; color:#1c6ce6;\">קריאת נתונים 📑 "
   ]
  },
  {
   "cell_type": "code",
   "execution_count": null,
   "id": "2be5761c-d6da-4424-b646-5e462cf279e1",
   "metadata": {},
   "outputs": [],
   "source": [
    "print('   Reading inputs')"
   ]
  },
  {
   "cell_type": "markdown",
   "id": "bca5405f-e638-467c-96a7-8394ff02109d",
   "metadata": {},
   "source": [
    "<h1 style=\"text-align:right;font-size:100%\">\n",
    "שכבת חזיתות בתהליך קיימת"
   ]
  },
  {
   "cell_type": "code",
   "execution_count": null,
   "id": "85092844-51d8-4afd-a8f3-e2933facd2d5",
   "metadata": {
    "tags": []
   },
   "outputs": [],
   "source": [
    "fronts_cols = ['TEMP_ID', 'TALAR_NUM', 'TALAR_YEAR', 'ENTITY_STATE', 'FRONT_LEGAL_LENGTH', 'CUR_RADIUS', 'CADASTER_PROCESS', 'StartCoord', 'EndCoord']\n",
    "\n",
    "fronts_inprocess = pl.read_csv(CNFG.CADSDE + 'Lines_InProcess.csv', columns = fronts_cols).to_pandas()\n",
    "\n",
    "del fronts_cols\n",
    "print('     input 1/4 read')"
   ]
  },
  {
   "cell_type": "markdown",
   "id": "74587a9e-18e4-408c-85ca-20dd4e040dfb",
   "metadata": {},
   "source": [
    "<h1 style=\"text-align:right;font-size:100%\">\n",
    "נתוני תהליכי קדסטר"
   ]
  },
  {
   "cell_type": "code",
   "execution_count": null,
   "id": "02f98884-1d06-4299-9100-36e94e2ddef0",
   "metadata": {
    "tags": []
   },
   "outputs": [],
   "source": [
    "cpb_cols = ['ProcessGUID', 'ProcessName', 'ProcessType']\n",
    "\n",
    "cpb_layer = pd.read_csv(CNFG.CSVPath + 'ProcessesAndRecords.csv', usecols = cpb_cols)\n",
    "\n",
    "del cpb_cols\n",
    "\n",
    "print('     input 2/4 read')"
   ]
  },
  {
   "cell_type": "markdown",
   "id": "4f9a3469-fdbd-4a2a-9100-f36235a444a2",
   "metadata": {},
   "source": [
    "<h1 style=\"text-align:right;font-size:100%\">\n",
    "שמות תת\"גים כפולים"
   ]
  },
  {
   "cell_type": "code",
   "execution_count": null,
   "id": "374a7449-49c5-4e8b-abf8-368aa6b4c0c4",
   "metadata": {},
   "outputs": [],
   "source": [
    "duplicated_names = pd.read_excel(CNFG.Local + 'tatag_duplicated_names.xlsx')['TatagName']\n",
    "print('       Input 3/4 read')"
   ]
  },
  {
   "cell_type": "markdown",
   "id": "4ac613cf-75f7-454d-92ab-0fc20af00aef",
   "metadata": {},
   "source": [
    "<h1 style=\"text-align:right;font-size:100%\">\n",
    "נקודות בתהליך"
   ]
  },
  {
   "cell_type": "code",
   "execution_count": null,
   "id": "dc61f869-6cf9-41df-9498-98247f11e476",
   "metadata": {
    "tags": []
   },
   "outputs": [],
   "source": [
    "points_data = daskgpd.read_file(CNFG.ProductPath, layer = 'InProcessBorderPoints', columns = ['GlobalID', 'CPBUniqueID', 'geometry'], npartitions = 8).compute()\n",
    "\n",
    "print('       Input 4/4 read')"
   ]
  },
  {
   "cell_type": "markdown",
   "id": "e730b794-cf0c-4e86-b5ea-9c2171521095",
   "metadata": {},
   "source": [
    "<h1 style=\"text-align:right; font-size:150%; color:#1c6ce6;\">\n",
    "עיבוד נתונים 🛠️"
   ]
  },
  {
   "cell_type": "code",
   "execution_count": null,
   "id": "cbb9ffff-4419-4594-8455-4a4dd83fd34e",
   "metadata": {},
   "outputs": [],
   "source": [
    "print('   Cleaning data')"
   ]
  },
  {
   "cell_type": "markdown",
   "id": "d7d1042c-714a-4232-af43-2415536be977",
   "metadata": {},
   "source": [
    "<h1 style=\"text-align:right;font-size:100%\">\n",
    "חזיתות בעלות שטח רשום ריק יקבלו את הערך 0"
   ]
  },
  {
   "cell_type": "code",
   "execution_count": null,
   "id": "c21d55c8-14d0-44b4-b5df-d0dc7ad129af",
   "metadata": {},
   "outputs": [],
   "source": [
    "fronts_inprocess['FRONT_LEGAL_LENGTH'] = fronts_inprocess['FRONT_LEGAL_LENGTH'].fillna(0.0)"
   ]
  },
  {
   "cell_type": "code",
   "execution_count": null,
   "id": "c8cdcf56-93e2-4d16-8c72-1aa1b806be8d",
   "metadata": {},
   "outputs": [],
   "source": [
    "print('   Data conversion')"
   ]
  },
  {
   "cell_type": "markdown",
   "id": "bdb9ea0f-c851-4291-be11-a4d3e6da1881",
   "metadata": {},
   "source": [
    "<h1 style=\"text-align:right;font-size:100%\">\n",
    "שינוי שמות של שדות אורך מחושב ורדיוס"
   ]
  },
  {
   "cell_type": "code",
   "execution_count": null,
   "id": "08e2c823-6f70-40a0-9e03-a9643e324f37",
   "metadata": {},
   "outputs": [],
   "source": [
    "fronts_inprocess.rename(columns = {'FRONT_LEGAL_LENGTH' : 'LegalLength', 'CUR_RADIUS' : 'Radius'}, inplace = True)"
   ]
  },
  {
   "cell_type": "markdown",
   "id": "d59a1b7f-291f-4b7d-a0e1-4f674acba1cc",
   "metadata": {},
   "source": [
    "<h1 style=\"text-align:right;font-size:100%\">\n",
    "סוג החזית יקבע לפי קיום של רדיוס"
   ]
  },
  {
   "cell_type": "code",
   "execution_count": null,
   "id": "9a238523-d50b-4409-9a5b-a6c349ab9afd",
   "metadata": {},
   "outputs": [],
   "source": [
    "fronts_inprocess['Radius'] = fronts_inprocess['Radius'].fillna(0)\n",
    "\n",
    "straight = 1\n",
    "curved   = 2\n",
    "line_type_cond = fronts_inprocess['Radius'] == 0\n",
    "\n",
    "fronts_inprocess['LineType'] = np.where(line_type_cond, straight, curved)\n",
    "\n",
    "del [straight, curved, line_type_cond]"
   ]
  },
  {
   "cell_type": "markdown",
   "id": "011e8dc3-82af-467b-bae3-b0d5ec8bb81a",
   "metadata": {},
   "source": [
    "<h1 style=\"text-align:right;font-size:100%\">\n",
    "איחוד עם שכבת גבולות תהליכי קדסטר לקבלת מזהה של תהליך יוצר"
   ]
  },
  {
   "cell_type": "code",
   "execution_count": null,
   "id": "8b997d3a-309c-421d-8499-daa66293aaab",
   "metadata": {},
   "outputs": [],
   "source": [
    "fronts_inprocess[['TALAR_NUM', 'TALAR_YEAR']] = fronts_inprocess[['TALAR_NUM', 'TALAR_YEAR']].fillna(0)\n",
    "fronts_inprocess[['TALAR_NUM', 'TALAR_YEAR']] = fronts_inprocess[['TALAR_NUM', 'TALAR_YEAR']].astype(int)\n",
    "fronts_inprocess['ProcessName'] = fronts_inprocess['TALAR_NUM'].astype(str) + '/' + fronts_inprocess['TALAR_YEAR'].astype(str)\n",
    "\n",
    "duplicated_cond = (fronts_inprocess['ProcessName'].isin(duplicated_names)) & (fronts_inprocess['CADASTER_PROCESS'].isin([3,12])) #תת\"ג\n",
    "fronts_inprocess['ProcessName'] = np.where(duplicated_cond, '0' + fronts_inprocess['ProcessName'], fronts_inprocess['ProcessName'])\n",
    "\n",
    "fronts_inprocess = fronts_inprocess.merge(right = cpb_layer, on = 'ProcessName', how = 'left')\\\n",
    "                                   .rename(columns = {'ProcessGUID' : 'CPBUniqueID'})\\\n",
    "                                   .drop(columns = ['TALAR_NUM', 'TALAR_YEAR', 'ProcessName', 'CADASTER_PROCESS'])\n",
    "\n",
    "fronts_inprocess['CPBUniqueID'] = fronts_inprocess['CPBUniqueID'].fillna(CNFG.FabricatedCreateProcessGUID)\n",
    "\n",
    "\n",
    "del [cpb_layer, duplicated_cond, duplicated_names]"
   ]
  },
  {
   "cell_type": "markdown",
   "id": "063ac6d4-36f9-446e-a93b-e8c29548a199",
   "metadata": {},
   "source": [
    "<h1 style=\"text-align:right;font-size:100%\">\n",
    "ENTITY_STATE הגדרת סטאטוס לחזית בתהליך לפי שדה\n",
    "<h1 style=\"text-align:right;font-size:100%\">\n",
    "חזיתות רקע מוסרות\n",
    "<h1 style=\"text-align:right;font-size:100%\">\n",
    "חזיתות ללא ערך יוגדרו כביסוס\n",
    "<h1 style=\"text-align:right;font-size:100%\">\n",
    "חזיתות שמגיעות מתהליכי תת\"ג או קמ\"ק מוגדרות כ-ביסוס וחדשה\n",
    "<h1 style=\"text-align:right;font-size:100%\">\n",
    "חזיתות כפולות באותו תצ\"ר יוגדרו כביסוס וחדשה וישארו כרשומה אחת"
   ]
  },
  {
   "cell_type": "code",
   "execution_count": null,
   "id": "e167831a-00d2-4b11-8dbb-9e2547c828a0",
   "metadata": {},
   "outputs": [],
   "source": [
    "fronts_inprocess = fronts_inprocess[fronts_inprocess['ENTITY_STATE'] != 2]\n",
    "\n",
    "fronts_inprocess['ENTITY_STATE'] = fronts_inprocess['ENTITY_STATE'] + 1\n",
    "fronts_inprocess.fillna(1, inplace=True)\n",
    "\n",
    "fronts_inprocess['ENTITY_STATE'] = np.where(fronts_inprocess['ProcessType'].isin([4,5]), 3, fronts_inprocess['ENTITY_STATE'])\n",
    "\n",
    "\n",
    "fronts_inprocess = fronts_inprocess.rename(columns = {'ENTITY_STATE' : 'LineStatus'})\\\n",
    "                                   .drop(columns = 'ProcessType')\n",
    "\n",
    "\n",
    "duplicated = fronts_inprocess[fronts_inprocess.duplicated(['CPBUniqueID', 'StartCoord', 'EndCoord'], keep = False)]\\\n",
    "                             .sort_values(['CPBUniqueID'])\\\n",
    "                             .index.to_list()\n",
    "                             \n",
    "fronts_inprocess['LineStatus'] = np.where(fronts_inprocess.index.isin(duplicated), 3, fronts_inprocess['LineStatus'])\n",
    "fronts_inprocess = fronts_inprocess.drop_duplicates(subset = ['CPBUniqueID', 'StartCoord', 'EndCoord', 'LineStatus'], keep = 'first', ignore_index = True)\n",
    "\n",
    "del duplicated"
   ]
  },
  {
   "cell_type": "markdown",
   "id": "0774edcd-e59f-4852-a27f-418c13b139e8",
   "metadata": {},
   "source": [
    "<h1 style=\"text-align:right;font-size:100%\">\n",
    "ניתוח ואכלוס שדות למזה נקודת התחלה ומזהה נקודת סיום של חזית בתהליך לפי קואורדינטת התחלה וקואורדינטת סיום"
   ]
  },
  {
   "cell_type": "code",
   "execution_count": null,
   "id": "6133b6e1-2513-4aee-b7b0-9f4fa0f2ba74",
   "metadata": {
    "tags": []
   },
   "outputs": [],
   "source": [
    "def reduce_point_resolution(point_series:pd.Series, decimals2keep:int = 2):\n",
    "    \n",
    "    point_series_x = str(point_series).split(',')[0]\n",
    "    pre_decimal_x  = point_series_x.split('.')[0]\n",
    "    post_decimal_x = point_series_x.split('.')[-1][:decimals2keep+1]\n",
    "    reduced_x      = str(pre_decimal_x) + '.' + str(post_decimal_x)\n",
    "    \n",
    "    point_series_y = str(point_series).split(',')[-1]\n",
    "    pre_decimal_y  = point_series_y.split('.')[0]\n",
    "    post_decimal_y = point_series_y.split('.')[-1][:decimals2keep+1]\n",
    "    reduced_y      = str(pre_decimal_y) + '.' + str(post_decimal_y)\n",
    "    \n",
    "    return str(reduced_x) + ',' + str(reduced_y)\n",
    "    \n",
    "\n",
    "points_data['Coord'] = points_data.geometry.x.astype(str) + ',' + points_data.geometry.y.astype(str)    \n",
    "points_data['Coord'] = points_data['Coord'].apply(reduce_point_resolution)\n",
    "points_data['key'] = points_data['Coord'] + ';' + points_data['CPBUniqueID']\n",
    "points_data.drop(columns = 'geometry', inplace=True)\n",
    "\n",
    "\n",
    "fronts_inprocess['StartCoord'] = fronts_inprocess['StartCoord'].apply(reduce_point_resolution)\n",
    "fronts_inprocess['EndCoord'] = fronts_inprocess['EndCoord'].apply(reduce_point_resolution)\n",
    "\n",
    "fronts_inprocess['StartCoord_key'] = fronts_inprocess['StartCoord'] + ';' + fronts_inprocess['CPBUniqueID']\n",
    "fronts_inprocess['EndCoord_key'] = fronts_inprocess['EndCoord'] + ';' + fronts_inprocess['CPBUniqueID']"
   ]
  },
  {
   "cell_type": "code",
   "execution_count": null,
   "id": "de944919-5ba9-491f-a7b4-ba4e296fa24d",
   "metadata": {
    "tags": []
   },
   "outputs": [],
   "source": [
    "x = fronts_inprocess.copy()"
   ]
  },
  {
   "cell_type": "code",
   "execution_count": null,
   "id": "6003a1c5-5d2b-4a0e-ab2a-9d078a6dd2aa",
   "metadata": {
    "tags": []
   },
   "outputs": [],
   "source": [
    "fronts_inprocess = fronts_inprocess.merge(points_data, how = 'left', left_on = 'StartCoord_key', right_on = 'key')\\\n",
    "                                   .rename(columns = {'GlobalID':'StartPointUniqueID'})\\\n",
    "                                   .drop(columns = ['Coord', 'StartCoord', 'StartCoord_key', 'key'])\n",
    "\n",
    "fronts_inprocess = fronts_inprocess.merge(points_data, how = 'left', left_on = 'EndCoord_key', right_on = 'key')\\\n",
    "                                   .rename(columns = {'GlobalID':'EndPointUniqueID'})\\\n",
    "                                   .drop(columns = ['Coord', 'EndCoord', 'EndCoord_key', 'key'])\n",
    "\n",
    "fronts_inprocess['CPBUniqueID'] = fronts_inprocess['CPBUniqueID_x'].fillna(fronts_inprocess['CPBUniqueID_y'])\n",
    "fronts_inprocess.drop(columns = ['CPBUniqueID_x', 'CPBUniqueID_y'], inplace = True)\n",
    "\n",
    "del points_data"
   ]
  },
  {
   "cell_type": "markdown",
   "id": "8891f556-786b-49db-9dd1-02040c4aa014",
   "metadata": {},
   "source": [
    "<h1 style=\"text-align:right;font-size:100%\">\n",
    "איכלוס שדות מזהה נקודת התחלה ומזהה נקודת סיום"
   ]
  },
  {
   "cell_type": "code",
   "execution_count": null,
   "id": "437d08ef-2c53-4a3b-b983-6bc9dc0dd40e",
   "metadata": {},
   "outputs": [],
   "source": [
    " print('   Defining new Layer')"
   ]
  },
  {
   "cell_type": "markdown",
   "id": "670ba4ee-fd77-4eed-a90c-49b55ac0e156",
   "metadata": {},
   "source": [
    "<h1 style=\"text-align:right;font-size:100%\">\n",
    "הגדרת סוגי שדות נתונים"
   ]
  },
  {
   "cell_type": "code",
   "execution_count": null,
   "id": "3282185a-8f72-4bfa-a943-d40d99e3bc08",
   "metadata": {},
   "outputs": [],
   "source": [
    "fronts_inprocess = fronts_inprocess.astype({'LineType'           : int,\n",
    "                                            'LineStatus'         : int,\n",
    "                                            'Radius'             : float,\n",
    "                                            'LegalLength'        : float,\n",
    "                                            'CPBUniqueID'        : str,\n",
    "                                            'StartPointUniqueID' : str,\n",
    "                                            'EndPointUniqueID'   : str,\n",
    "                                            'TEMP_ID'            : int})"
   ]
  },
  {
   "cell_type": "markdown",
   "id": "b977339d-ef5a-4b7e-9dde-e065cf8b3ee8",
   "metadata": {},
   "source": [
    "<h1 style=\"text-align:right; font-size:150%; color:#1c6ce6;\"> \n",
    "שמירת תוצאות 💾"
   ]
  },
  {
   "cell_type": "code",
   "execution_count": null,
   "id": "24343bc5-4605-43f7-bbb5-51dc5a368481",
   "metadata": {},
   "outputs": [],
   "source": [
    "print('   Exporting results to product folder')"
   ]
  },
  {
   "cell_type": "code",
   "execution_count": null,
   "id": "5310e184-e6d4-4481-a7f8-73d5f4cda21b",
   "metadata": {},
   "outputs": [],
   "source": [
    "fronts_inprocess.to_csv(CNFG.CSVPath + 'InProcessFronts_data.csv', index = False)"
   ]
  },
  {
   "cell_type": "code",
   "execution_count": null,
   "id": "cdf8f390-c817-4335-b109-e73100e9ee53",
   "metadata": {},
   "outputs": [],
   "source": [
    "subprocess.call([CNFG.BatchPath + \"Fronts In-Process-Save as Feature Class.bat\"]);"
   ]
  }
 ],
 "metadata": {
  "kernelspec": {
   "display_name": "Python 3 (ipykernel)",
   "language": "python",
   "name": "python3"
  },
  "language_info": {
   "codemirror_mode": {
    "name": "ipython",
    "version": 3
   },
   "file_extension": ".py",
   "mimetype": "text/x-python",
   "name": "python",
   "nbconvert_exporter": "python",
   "pygments_lexer": "ipython3",
   "version": "3.11.3"
  }
 },
 "nbformat": 4,
 "nbformat_minor": 5
}
