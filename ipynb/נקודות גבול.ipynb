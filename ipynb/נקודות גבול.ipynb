{
 "cells": [
  {
   "cell_type": "markdown",
   "id": "5fbe164a-7eec-493b-913f-93054027a5c1",
   "metadata": {},
   "source": [
    "<h1 style=\"background-color:#1c6ce6;\n",
    "           font-family:segoe ui;\n",
    "                color:#FFF9ED;\n",
    "           font-size:300%;\n",
    "           text-align:center;\n",
    "           border-radius:10px 10px;\"> \n",
    "    🟢 תהליך הסבת נקודות גבול החלקות לבנק\"ל מודרני 🟢"
   ]
  },
  {
   "cell_type": "code",
   "execution_count": null,
   "id": "55bb4551-72f3-4259-a2aa-91aec4eb4731",
   "metadata": {},
   "outputs": [],
   "source": [
    "print('2. Parcel border points:')"
   ]
  },
  {
   "cell_type": "markdown",
   "id": "2a77086f-ac46-4ee0-8634-9f6fd6918710",
   "metadata": {},
   "source": [
    "<h1 style=\"text-align:right; font-size:150%; color:#1c6ce6;\">\n",
    "ספריות"
   ]
  },
  {
   "cell_type": "code",
   "execution_count": null,
   "id": "bce45aef-63b5-4c7b-98de-6f365deede63",
   "metadata": {},
   "outputs": [],
   "source": [
    "import warnings\n",
    "warnings.filterwarnings('ignore')\n",
    "\n",
    "import numpy as np\n",
    "import pandas as pd\n",
    "import geopandas as gpd\n",
    "import datetime as dt\n",
    "import subprocess"
   ]
  },
  {
   "cell_type": "markdown",
   "id": "c4ddae05-cd63-4f0b-9f03-78ed0a2d08e9",
   "metadata": {
    "tags": []
   },
   "source": [
    "<h1 style=\"text-align:right; font-size:150%; color:#1c6ce6;\">\n",
    "קריאת נתונים"
   ]
  },
  {
   "cell_type": "code",
   "execution_count": null,
   "id": "1efb0940-95db-4d50-83e8-ab1f946f56af",
   "metadata": {},
   "outputs": [],
   "source": [
    "print('  2.a Reading inputs')"
   ]
  },
  {
   "cell_type": "code",
   "execution_count": null,
   "id": "dbc280f1-8e1b-44b9-ad00-db4e5d5c0d32",
   "metadata": {},
   "outputs": [],
   "source": [
    "RawData_folder = r\"\\\\mapi_shares\\MNCDB\\צוות מידע\\RawData\""
   ]
  },
  {
   "cell_type": "markdown",
   "id": "17cc6fc6-855b-4264-bb3e-b77d5060faaa",
   "metadata": {},
   "source": [
    "<h1 style=\"text-align:right;font-size:100%\">\n",
    "שכבת נקודות גבול"
   ]
  },
  {
   "cell_type": "code",
   "execution_count": null,
   "id": "b6d7e6ce-0827-44bf-8715-7461ea0ea58b",
   "metadata": {},
   "outputs": [],
   "source": [
    "coverage_points_cols = ['PARCEL_SDE_', 'POINT_NAME', 'CONTROL_ID', 'REG_STATUS', 'POINT_MARK', 'SOURCE_CODE', 'geometry']\n",
    "coverage_df = gpd.read_file(RawData_folder + '\\ArcStorm\\PARCEL_NODE.gdb', layer='PARCEL_NODE', include_fields=coverage_points_cols)\n",
    "\n",
    "del coverage_points_cols\n",
    "\n",
    "print('         input 1/6 read')"
   ]
  },
  {
   "cell_type": "markdown",
   "id": "b77aae7a-83df-42fb-9ad5-472cd3587854",
   "metadata": {},
   "source": [
    "<h1 style=\"text-align:right;font-size:100%\">\n",
    "שכבת גושים מודרנית"
   ]
  },
  {
   "cell_type": "code",
   "execution_count": null,
   "id": "6e49285a-fc47-4b28-8354-78c18682f46d",
   "metadata": {},
   "outputs": [],
   "source": [
    "today = dt.date.today()\n",
    "date_name = str(today.year) + str(today.month) + str(today.day) + '_ncdb.gdb'\n",
    "product_path = r'\\\\mapi_shares\\MNCDB\\צוות מידע\\תוצרים/' + date_name\n",
    "blocks_df = gpd.read_file(product_path, layer='Blocks', include_fields=['SetteledDate', 'geometry'])\n",
    "\n",
    "del [today, date_name, product_path]\n",
    "\n",
    "print('         input 2/6 read')"
   ]
  },
  {
   "cell_type": "markdown",
   "id": "2214ae27-0df1-42c5-9b80-8ec69bfec8d6",
   "metadata": {},
   "source": [
    "<h1 style=\"text-align:right;font-size:100%\">\n",
    "שכבת גבולות תצ\"ר"
   ]
  },
  {
   "cell_type": "code",
   "execution_count": null,
   "id": "928122b9-4000-4e01-b17c-202507482ee9",
   "metadata": {},
   "outputs": [],
   "source": [
    "talar_borders = gpd.read_file(RawData_folder + \"\\CADSDE\\\\talar_borders.gdb\", include_fields=['STATUS', 'SURVEY_DATE','geometry'])\n",
    "\n",
    "print('         input 3/6 read')"
   ]
  },
  {
   "cell_type": "markdown",
   "id": "8dc7fcc2-2bb4-4cea-a34e-ff32712c0366",
   "metadata": {},
   "source": [
    "<h1 style=\"text-align:right;font-size:100%\">\n",
    "שכבת נקודות גבול בתהליך"
   ]
  },
  {
   "cell_type": "code",
   "execution_count": null,
   "id": "b5c383e4-6910-49c6-9d85-b52b036f3f63",
   "metadata": {},
   "outputs": [],
   "source": [
    "points_in_process_path = RawData_folder + \"\\CADSDE\\\\Points_InProcess.gdb\"\n",
    "points_in_process_cols = ['POINT_NAME', 'ACCURACY', 'MARK_CODE', 'SOURCE_CODE', 'INSERTDATE', 'geometry']\n",
    "points_in_process_df =  gpd.read_file(points_in_process_path, layer='Points_InProcess', include_fields=points_in_process_cols)\n",
    "points_in_process_df.columns = points_in_process_df.columns.str.lower()\n",
    "\n",
    "del [points_in_process_path, points_in_process_cols]\n",
    "\n",
    "print('         input 4/6 read')"
   ]
  },
  {
   "cell_type": "markdown",
   "id": "0dfe1aae-5013-4ef9-9f84-79a65423f88b",
   "metadata": {},
   "source": [
    "<h1 style=\"text-align:right;font-size:100%\">\n",
    "שכבת גושי קמ\"ק"
   ]
  },
  {
   "cell_type": "code",
   "execution_count": null,
   "id": "088261fb-6960-440b-96cd-a0513c14c577",
   "metadata": {},
   "outputs": [],
   "source": [
    "cbc_path = RawData_folder + \"\\Local\\CadstreBasedCoordBlocks.gpkg\"\n",
    "cbc_blocks = gpd.read_file(cbc_path, layer='cbc_blocks', include_fields=['geometry'])\n",
    "del cbc_path\n",
    "print('         input 5/6 read')"
   ]
  },
  {
   "cell_type": "markdown",
   "id": "bf1ab4b2-771c-4bf8-bf3b-89d14099ee3d",
   "metadata": {},
   "source": [
    "<h1 style=\"text-align:right;font-size:100%\">\n",
    "שכבת גושי ים תיכון"
   ]
  },
  {
   "cell_type": "code",
   "execution_count": null,
   "id": "d26f36a4-323a-4356-9460-bf9bc600d155",
   "metadata": {},
   "outputs": [],
   "source": [
    "medeteraninan_path = RawData_folder + \"\\Local\\medeteraninanBlocks.gpkg\"\n",
    "medeteraninanBlocks = gpd.read_file(medeteraninan_path, layer='medeteraninanBlocks', include_fields=['geometry'])\n",
    "del medeteraninan_path\n",
    "print('         input 6/6 read')"
   ]
  },
  {
   "cell_type": "markdown",
   "id": "7e4dd541-8379-485a-b38e-79b791e78530",
   "metadata": {},
   "source": [
    "<h1 style=\"text-align:right; font-size:150%; color:#1c6ce6;\">\n",
    "עיבוד נתונים"
   ]
  },
  {
   "cell_type": "code",
   "execution_count": null,
   "id": "812c0d17-a560-4102-b694-aaa9ca626b73",
   "metadata": {},
   "outputs": [],
   "source": [
    "print('  2.b Cleaning data')"
   ]
  },
  {
   "cell_type": "markdown",
   "id": "994aad7f-27e3-42da-bc29-5764d731f87f",
   "metadata": {},
   "source": [
    "<h1 style=\"text-align:right;font-size:125%\">\n",
    "יצירת שדה טקסט של גיאומטרית הנקודות לצורך מיון/סינון/מיזוג בהמשך"
   ]
  },
  {
   "cell_type": "code",
   "execution_count": null,
   "id": "46e4396e-2e41-4a2e-9a46-e708ac206eb5",
   "metadata": {},
   "outputs": [],
   "source": [
    "coverage_df['geom_str'] = coverage_df['geometry'].x.astype(str) + ',' + coverage_df['geometry'].y.astype(str)\n",
    "\n",
    "points_in_process_df['geom_str'] = points_in_process_df['geometry'].x.astype(str) + ',' + points_in_process_df['geometry'].y.astype(str)"
   ]
  },
  {
   "cell_type": "markdown",
   "id": "0629524c-35dd-4911-b56e-4dbb26071f9e",
   "metadata": {},
   "source": [
    "<h1 style=\"text-align:right;font-size:125%\"> \n",
    "הפקת שדות של שנים עבור שדה רשת הבקרה"
   ]
  },
  {
   "cell_type": "markdown",
   "id": "bc90fd4f-5820-44a0-90cb-9058402d36ef",
   "metadata": {},
   "source": [
    "<h1 style=\"text-align:right;font-size:110%\">\n",
    ":שנת הסדר הגוש\n",
    "<h1 style=\"text-align:right;font-size:100%\"> \n",
    "<h1 style=\"text-align:right;font-size:100%\"> \n",
    "הוספת שדה של שנת הסדר לתוצר גושים\n",
    "<h1 style=\"text-align:right;font-size:100%\">\n",
    "צירוף שנת הסדר לנקודות גבול\n",
    "<h1 style=\"text-align:right;font-size:100%\">\n",
    "סידור ערכים לפי שנת ההסדר\n",
    "<h1 style=\"text-align:right;font-size:100%\">\n",
    "מחיקת גיאומטריות כפולות, שמירת רשומה בעלת שנת הסדר אחרונה"
   ]
  },
  {
   "cell_type": "code",
   "execution_count": null,
   "id": "5f114ed8-86aa-4fa5-9911-6797c1576c7e",
   "metadata": {},
   "outputs": [],
   "source": [
    "blocks_df['setteledYear'] = pd.to_datetime(blocks_df['SetteledDate']).dt.year.fillna(0).astype(int)\n",
    "\n",
    "setteld_points_df = coverage_df.sjoin(blocks_df[['setteledYear', 'geometry']], how='inner', predicate='intersects')\n",
    "setteld_points_df.sort_values(['geom_str', 'setteledYear'], inplace=True)\n",
    "setteld_points_df.drop_duplicates(subset='geom_str', keep='last', ignore_index=True, inplace=True)\n",
    "setteld_points_df = setteld_points_df[['geom_str', 'setteledYear']]\n",
    "\n",
    "del blocks_df"
   ]
  },
  {
   "cell_type": "markdown",
   "id": "27161706-00e4-42b8-ae60-21a79a652b19",
   "metadata": {},
   "source": [
    "<h1 style=\"text-align:right;font-size:110%\">\n",
    ":שנת מדידה בתצ\"ר\n",
    "<h1 style=\"text-align:right;font-size:100%\">\n",
    "<h1 style=\"text-align:right;font-size:100%\">\n",
    "סינון לרשומות תצ\"ר שכשרות לרישום או סופיות\n",
    "<h1 style=\"text-align:right;font-size:100%\">\n",
    "קריאת שדה תאריך מדידה כסוג תאריך ומילוי ערכים חסרים\n",
    "<h1 style=\"text-align:right;font-size:100%\">\n",
    "הרחבת גבולות התצ\"ר ב-2 מטרים\n",
    "<h1 style=\"text-align:right;font-size:100%\">\n",
    "יצירת שכבת נקודות שנמצאות בתצ\"ר מורחבים\n",
    "<h1 style=\"text-align:right;font-size:100%\">\n",
    "סידור הערכים לפי מספר זיהוי של נקודת גבול ותאריך מדידה\n",
    "<h1 style=\"text-align:right;font-size:100%\">\n",
    "מחיקת נקודות גבול כפולות , שמירת רשומה בעלת תאריך מדידה אחרון\n",
    "<h1 style=\"text-align:right;font-size:100%\">\n",
    "יצירת שדה של שנת מדידה"
   ]
  },
  {
   "cell_type": "code",
   "execution_count": null,
   "id": "7314cb30-4484-406b-a38e-ec21d3fbe49c",
   "metadata": {},
   "outputs": [],
   "source": [
    "talar_borders = talar_borders[talar_borders['STATUS'].isin([3, 4])]\n",
    "talar_borders['SURVEY_DATE'] = pd.to_datetime(talar_borders['SURVEY_DATE']).fillna('01/01/1900')\n",
    "talar_borders['geometry'] = talar_borders['geometry'].buffer(2)\n",
    "talar_points = coverage_df.sjoin(talar_borders, how='inner', predicate='intersects')\n",
    "talar_points.sort_values(['PARCEL_SDE_','SURVEY_DATE'], inplace=True)\n",
    "talar_points.drop_duplicates(subset='PARCEL_SDE_', keep='last', inplace=True)\n",
    "talar_points['surveyYear'] = talar_points['SURVEY_DATE'].dt.year.astype(int)\n",
    "talar_points = talar_points[['geom_str', 'surveyYear']]"
   ]
  },
  {
   "cell_type": "markdown",
   "id": "4b4dad01-f17d-4cd8-9f8d-bf47685dec7c",
   "metadata": {},
   "source": [
    "<h1 style=\"text-align:right;font-size:110%\">\n",
    ":תאריך יצירה בבנק\"ל של נקודות בתהליך\n",
    "<h1 style=\"text-align:right;font-size:100%\">\n",
    "<h1 style=\"text-align:right;font-size:100%\">\n",
    "יצירת שדה של שנת יצירה\n",
    "<h1 style=\"text-align:right;font-size:100%\">\n",
    "הסרת שדה תאריך יצירה ישן\n",
    "<h1 style=\"text-align:right;font-size:100%\">\n",
    "סידור הערכים לפי שנת יצירה\n",
    "<h1 style=\"text-align:right;font-size:100%\">\n",
    "מחיקת נקודות גבול בתהליך כפולות, שמירת רשומה בעלת תאריך יצירה אחרון"
   ]
  },
  {
   "cell_type": "code",
   "execution_count": null,
   "id": "b30978d7-df35-4290-b099-20dae44ed8d7",
   "metadata": {},
   "outputs": [],
   "source": [
    "points_in_process_df['insertyear'] = points_in_process_df['insertdate'].astype('datetime64').dt.year\n",
    "points_in_process_df.drop(columns='insertdate', inplace=True)\n",
    "points_in_process_df.sort_values(['geom_str', 'insertyear'], inplace=True)\n",
    "points_in_process_df.drop_duplicates(subset='geom_str', keep='last', ignore_index=True, inplace=True)"
   ]
  },
  {
   "cell_type": "markdown",
   "id": "84d2ccb2-d184-4e36-bf3b-05b95714fc69",
   "metadata": {},
   "source": [
    "<h1 style=\"text-align:right;font-size:125%\">\n",
    ":הגדרה ומיון של סיווג נקודות גבול\n",
    "<h1 style=\"text-align:right;font-size:100%\">\n",
    "בשלב זה ישנם 2 מקורות לנתונים: נקודות גבול בתהליך, נקודות גבול של חלקות כאשר לכל מקור קיימת שכבת נקודות קמ\"ק שבהן יתקבל סיווג לערך 13\n",
    "<h1 style=\"text-align:right;font-size:100%\">\n",
    "<h1 style=\"text-align:right;font-size:125%\">\n",
    "א) נקודות גבול בתהליך\n",
    "<h1 style=\"text-align:right;font-size:100%\">\n",
    "יצירת שכבת נקודות גבול בתהליך שנמצאים בתוך או על גבול גושי קמ\"ק\n",
    "<h1 style=\"text-align:right;font-size:100%\">\n",
    "הסרת כפילויות\n",
    "<h1 style=\"text-align:right;font-size:100%\">\n",
    "מיפוי ערכי סייוג נקודה התנליך לפי אפיון\n",
    "<h1 style=\"text-align:right;font-size:100%\">\n",
    "יצירת שדה בוליאני לזיוהי היאם הנקודה בקמ\"ק (1) או לא (0)\n",
    "<h1 style=\"text-align:right;font-size:100%\">\n",
    "החלפת ערכי סיווג ל-13 לכל נקודה בתהליך שנמצאת גם בקמ\"ק    \n",
    "<h1 style=\"text-align:right;font-size:100%\">\n",
    "נקודות בגושי ים תיכון יקבלו את הסיוג 1    "
   ]
  },
  {
   "cell_type": "code",
   "execution_count": null,
   "id": "faf3b7f0-a367-4d17-acd0-a4f6a81b7623",
   "metadata": {},
   "outputs": [],
   "source": [
    "cbc_points_in_process = points_in_process_df.sjoin(cbc_blocks[['geometry']], predicate = 'intersects')\n",
    "cbc_points_in_process.drop_duplicates(subset=['geom_str'], inplace=True)"
   ]
  },
  {
   "cell_type": "code",
   "execution_count": null,
   "id": "82dfb5e4-a95f-422e-aae4-3c36f2b75ff3",
   "metadata": {},
   "outputs": [],
   "source": [
    "process_accuracy_clf = {0 : 24,\n",
    "                        1 : 1,\n",
    "                        2 : 12,\n",
    "                        3 : 13,\n",
    "                        4 : 13,\n",
    "                        5 : 13,\n",
    "                        6 : 24,\n",
    "                        7 : 24,\n",
    "                        8 : 24,\n",
    "                        9 : 24,\n",
    "                        12 : 12,\n",
    "                        13 : 13,\n",
    "                        24 : 24,\n",
    "                        None : 24\n",
    "                       }\n",
    "\n",
    "points_in_process_df['process_accuracy'] = points_in_process_df['accuracy'].fillna(0).astype('int64').map(process_accuracy_clf)"
   ]
  },
  {
   "cell_type": "code",
   "execution_count": null,
   "id": "d8561eb7-fd5a-44a9-ac2c-aca772c4804b",
   "metadata": {},
   "outputs": [],
   "source": [
    "points_in_process_df['CBC'] = np.where(points_in_process_df['geom_str'].isin(cbc_points_in_process['geom_str']), 1, 0)\n",
    "points_in_process_df['process_accuracy'] = np.where(points_in_process_df['CBC']==1, 13, points_in_process_df['process_accuracy'])\n",
    "points_in_process_df.drop(columns='CBC', inplace=True)"
   ]
  },
  {
   "cell_type": "code",
   "execution_count": null,
   "id": "ff3bf4db-834d-4882-a72f-3a3aefbd0820",
   "metadata": {},
   "outputs": [],
   "source": [
    "medeteraninan_in_process = points_in_process_df.sjoin(medeteraninanBlocks[['geometry']], predicate = 'intersects')\n",
    "medeteraninan_in_process.drop_duplicates(inplace=True, subset=['geom_str'])\n",
    "points_in_process_df['medeteraninan'] = np.where(points_in_process_df['geom_str'].isin(medeteraninan_in_process['geom_str']), 1, 0)\n",
    "points_in_process_df['process_accuracy'] = np.where(points_in_process_df['medeteraninan']==1, 1, points_in_process_df['process_accuracy'])\n",
    "points_in_process_df.drop(columns='medeteraninan', inplace=True)"
   ]
  },
  {
   "cell_type": "markdown",
   "id": "3ab4f0b4-6760-472e-877b-251b4f1f2e84",
   "metadata": {},
   "source": [
    "<h1 style=\"text-align:right;font-size:125%\">\n",
    "ב) נקודות גבול חלקות קיימות\n",
    "<h1 style=\"text-align:right;font-size:100%\">\n",
    "תהליך זהה לסעיף קודם בהתאם לנקודות גבול חלקות"
   ]
  },
  {
   "cell_type": "code",
   "execution_count": null,
   "id": "6f5e61b5-80a7-4c1c-a1bd-c5fedd5cc051",
   "metadata": {},
   "outputs": [],
   "source": [
    "cbc_coverage = coverage_df.sjoin(cbc_blocks[['geometry']], predicate = 'intersects')\n",
    "cbc_coverage.drop_duplicates(inplace=True, subset='geom_str')"
   ]
  },
  {
   "cell_type": "code",
   "execution_count": null,
   "id": "ad990cfe-03e4-4d58-b136-bcb1605df360",
   "metadata": {},
   "outputs": [],
   "source": [
    "coverage_accuracy_clf = {0 : 24,\n",
    "                         1 : 24,\n",
    "                         2 : 24,\n",
    "                         3 : 24,\n",
    "                         4 : 24,\n",
    "                         5 : 24,\n",
    "                         6 : 13,\n",
    "                         7 : 24,\n",
    "                         33 : 24,\n",
    "                         None : 24\n",
    "                        }\n",
    "\n",
    "coverage_df['coverage_accuracy'] = coverage_df['REG_STATUS'].fillna(0).astype('int64').map(coverage_accuracy_clf)"
   ]
  },
  {
   "cell_type": "code",
   "execution_count": null,
   "id": "14f08bce-ed22-4814-a1b4-377ff78b23f4",
   "metadata": {},
   "outputs": [],
   "source": [
    "coverage_df['CBC'] = np.where(coverage_df['geom_str'].isin(cbc_coverage['geom_str']), 1, 0)\n",
    "coverage_df['coverage_accuracy'] = np.where(coverage_df['CBC']==1, 13, coverage_df['coverage_accuracy'])\n",
    "coverage_df.drop(columns='CBC', inplace=True)"
   ]
  },
  {
   "cell_type": "code",
   "execution_count": null,
   "id": "17fd9fc1-f495-44ae-93bc-d28c281f96d6",
   "metadata": {},
   "outputs": [],
   "source": [
    "medeteraninan_coverage = coverage_df.sjoin(medeteraninanBlocks[['geometry']], predicate = 'intersects')\n",
    "medeteraninan_coverage.drop_duplicates(inplace=True, subset=['geom_str'])\n",
    "coverage_df['medeteraninan'] = np.where(coverage_df['geom_str'].isin(medeteraninan_coverage['geom_str']), 1, 0)\n",
    "coverage_df['coverage_accuracy'] = np.where(coverage_df['medeteraninan']==1, 1, coverage_df['coverage_accuracy'])\n",
    "coverage_df.drop(columns='medeteraninan', inplace=True)"
   ]
  },
  {
   "cell_type": "markdown",
   "id": "c795fc65-33f3-400a-9ae8-19c5b8bdbe13",
   "metadata": {},
   "source": [
    "<h1 style=\"text-align:right;font-size:100%\">\n",
    "הסרת משתנים להורדת זיכרון"
   ]
  },
  {
   "cell_type": "code",
   "execution_count": null,
   "id": "e07c2f31-71a3-4518-bfab-b7e0b307182a",
   "metadata": {},
   "outputs": [],
   "source": [
    "del [cbc_blocks, medeteraninanBlocks, cbc_points_in_process, medeteraninan_in_process, cbc_coverage, medeteraninan_coverage]"
   ]
  },
  {
   "cell_type": "markdown",
   "id": "a77fdb97-31b8-4e0f-bb67-f9a0c62621e8",
   "metadata": {},
   "source": [
    "<h1 style=\"text-align:right;font-size:125%\">\n",
    "מיזוג שכבות של נקודות בתהליך ונקודת גבול חלקות"
   ]
  },
  {
   "cell_type": "code",
   "execution_count": null,
   "id": "f211f560-2e69-47a7-9fdf-1e3cc6180ceb",
   "metadata": {},
   "outputs": [],
   "source": [
    "print('  2.c Data conversion')"
   ]
  },
  {
   "cell_type": "markdown",
   "id": "5f3cb21b-30ff-41a5-bae8-6a7b4c51ea0d",
   "metadata": {},
   "source": [
    "<h1 style=\"text-align:right;font-size:100%\">\n",
    "מיזוג לפי שדה טקסטי של גיאומטריה\n",
    "<h1 style=\"text-align:right;font-size:100%\">\n",
    "מיזוג נלווה של שדות תאריכי שנת הסדר, שנת מדידה\n",
    "<h1 style=\"text-align:right;font-size:100%\">\n",
    "יצירת שדה של שנת רשת בקרה לפי סדר עדיפות\n",
    "<h1 style=\"text-align:right;font-size:100%\">\n",
    "הסרת שדות קודמים של שנים לרשת בקרה\n",
    "<h1 style=\"text-align:right;font-size:100%\">\n",
    "הסרת נקודות כפולות שנוצרו לאחר המיזוגים"
   ]
  },
  {
   "cell_type": "code",
   "execution_count": null,
   "id": "25eb0b8a-8feb-4acf-848f-2fb70597165d",
   "metadata": {},
   "outputs": [],
   "source": [
    "merged = coverage_df.merge(points_in_process_df, on='geom_str', how='left', suffixes=(None, 'process'))\n",
    "merged = merged.merge(setteld_points_df[['geom_str', 'setteledYear']], on='geom_str', how='left', suffixes=(None, 'setteled'))\n",
    "merged = merged.merge(talar_points[['geom_str', 'surveyYear']], on='geom_str', how='left', suffixes=(None, 'survey'))\n",
    "\n",
    "merged['geoYear'] = merged['setteledYear'].fillna(merged['surveyYear']).fillna(merged['insertyear']).fillna(0)\n",
    "merged.drop(columns=['setteledYear', 'insertyear','surveyYear'], inplace=True)\n",
    "merged.sort_values(['geom_str', 'geoYear'], inplace=True)\n",
    "merged.drop_duplicates(subset='geom_str', keep='last', ignore_index=True, inplace=True)"
   ]
  },
  {
   "cell_type": "markdown",
   "id": "af83231b-4cf5-4f70-9ec8-bfb563740a2c",
   "metadata": {
    "tags": []
   },
   "source": [
    "<h1 style=\"text-align:right; font-size:150%; color:#1c6ce6;\">\n",
    "יצירת שכבה חדשה בהתאם לאפיון"
   ]
  },
  {
   "cell_type": "code",
   "execution_count": null,
   "id": "dfb03d38-6c39-4d47-9583-0acee1adeef5",
   "metadata": {},
   "outputs": [],
   "source": [
    "print('  2.d Defining new Layer')"
   ]
  },
  {
   "cell_type": "code",
   "execution_count": null,
   "id": "b897415b-6796-494c-b9d4-893ef94d4b12",
   "metadata": {},
   "outputs": [],
   "source": [
    "new_columns = np.dtype([\n",
    "                        (\"PointUniqueID\", int),\n",
    "                        (\"PointName\", str),\n",
    "                        (\"IsControlBorder\", int),\n",
    "                        (\"Class\", int),\n",
    "                        (\"SourceCode\", int),\n",
    "                        (\"MarkCode\", int),\n",
    "                        (\"GeodeticNetwork\", int),\n",
    "                        (\"Is3D\", int),\n",
    "                        (\"Connected3DParcelsIds\", int)\n",
    "                        ])\n",
    "\n",
    "\n",
    "BorderPoints = gpd.GeoDataFrame(np.empty(0, dtype=new_columns),\n",
    "                                geometry = None,\n",
    "                                crs = 2039)"
   ]
  },
  {
   "cell_type": "markdown",
   "id": "0edc41b1-8f34-4e11-92ad-92c28c83db93",
   "metadata": {},
   "source": [
    "<h1 style=\"text-align:right; font-size:150%; color:#1c6ce6;\">\n",
    "איכלוס שדות"
   ]
  },
  {
   "cell_type": "code",
   "execution_count": null,
   "id": "ff7dbfc5-5eeb-4242-b718-9d5ded22a7f7",
   "metadata": {},
   "outputs": [],
   "source": [
    "BorderPoints['PointUniqueID'] = merged['PARCEL_SDE_']\n",
    "\n",
    "\n",
    "BorderPoints['PointName'] = merged['POINT_NAME'].astype(str)\n",
    "\n",
    "\n",
    "BorderPoints['IsControlBorder'] = merged['CONTROL_ID'].apply(lambda x: 0 if x == 0 else 1).astype('int64')\n",
    "\n",
    "\n",
    "BorderPoints['Class'] = merged['process_accuracy'].fillna(merged['coverage_accuracy']).astype('int64')\n",
    "\n",
    "\n",
    "source_clf = {  -2 : 0,\n",
    "                 0 : 0,\n",
    "                 1 : 0,\n",
    "                 2 : 0,\n",
    "                 3 : 0,\n",
    "                 4 : 0,\n",
    "                 5 : 5,\n",
    "                 6 : 5,\n",
    "                 7 : 5,\n",
    "                 8 : 8,\n",
    "                 9 : 9,\n",
    "                 10 : 10,\n",
    "                 11 : 11,\n",
    "                 12 : 11,\n",
    "                 13 : 13,\n",
    "                 14 : 14,\n",
    "                 15 : 14,\n",
    "                 16 : 16,\n",
    "                 17 : 17,\n",
    "                 18 : 18,\n",
    "                 None : 0\n",
    "                }\n",
    "BorderPoints['SourceCode'] = merged['source_code'].fillna(merged['SOURCE_CODE']).astype('int64').map(source_clf)\n",
    "\n",
    "\n",
    "mark_clf = {  0 : 0,\n",
    "              1 : 1,\n",
    "              2 : 2,\n",
    "              3 : 3,\n",
    "              4 : 4,\n",
    "              5 : 5,\n",
    "              6 : 6,\n",
    "              7 : 7,\n",
    "              8 : 8,\n",
    "              9 : 9,\n",
    "              10 : 10,\n",
    "              11 : 11,\n",
    "              12 : 12,\n",
    "              13 : 13,\n",
    "              14 : 14,\n",
    "              15 : 0,\n",
    "              16 : 0,\n",
    "              17 : 0,\n",
    "              20 : 20,\n",
    "              39 : 0,\n",
    "              50 : 0,\n",
    "              54 : 0,\n",
    "              94 : 0,\n",
    "              None : 0\n",
    "           }\n",
    "BorderPoints['MarkCode'] = merged['mark_code'].fillna(merged['POINT_MARK']).astype('int64').map(mark_clf)\n",
    "\n",
    "\n",
    "geodetic_clf = { range(0, 1994) : 0,\n",
    "                 range(1994, 1999) : 1,\n",
    "                 range(1999, 2009) : 2,\n",
    "                 range(2009, 9999) : 3\n",
    "               }\n",
    "BorderPoints['GeodeticNetwork'] = merged['geoYear'].apply(lambda x: next((v for k, v in geodetic_clf.items() if x in k), 0))\n",
    "\n",
    "\n",
    "BorderPoints['Is3D'] = 0\n",
    "\n",
    "\n",
    "BorderPoints['Connected3DParcelsIds'] = None\n",
    "\n",
    "\n",
    "BorderPoints['geometry'] = merged['geometry']"
   ]
  },
  {
   "cell_type": "code",
   "execution_count": null,
   "id": "9a7bd86a-a052-41c3-b949-fa5d3d1f8cb6",
   "metadata": {},
   "outputs": [],
   "source": [
    "BorderPoints.to_crs(2039, inplace=True)"
   ]
  },
  {
   "cell_type": "code",
   "execution_count": null,
   "id": "d2d11a61-da53-4a51-bd89-9f6283093552",
   "metadata": {},
   "outputs": [],
   "source": [
    "del [merged, coverage_df, points_in_process_df]"
   ]
  },
  {
   "cell_type": "markdown",
   "id": "abe2bec4-4170-4797-a389-fdabf39530c0",
   "metadata": {},
   "source": [
    "<h1 style=\"text-align:right; font-size:150%; color:#1c6ce6;\">\n",
    "שמירת תוצאות"
   ]
  },
  {
   "cell_type": "code",
   "execution_count": null,
   "id": "8345d56d-6aa3-4cf0-90fe-ef47ac92ee8d",
   "metadata": {},
   "outputs": [],
   "source": [
    "print('  2.e Exporting results to product folder')"
   ]
  },
  {
   "cell_type": "markdown",
   "id": "c2bf2e1f-a785-4277-9984-8d4afa2f18be",
   "metadata": {},
   "source": [
    "<h1 style=\"text-align:right;font-size:100%\">\n",
    "בחירת נתיב\n",
    "<h1 style=\"text-align:right;font-size:100%\">\n",
    "שמירה כטבלה\n",
    "<h1 style=\"text-align:right;font-size:100%\">\n",
    "שמירה כשכבה גיאוגרפית"
   ]
  },
  {
   "cell_type": "code",
   "execution_count": null,
   "id": "75f5817a-56cf-4990-b5cd-21caf8cb8e37",
   "metadata": {},
   "outputs": [],
   "source": [
    "#csv_dir = r'\\\\mapi_shares\\MNCDB\\צוות מידע\\תוצרים\\csv\\BorderPoints.csv'\n",
    "json_dir = r'\\\\mapi_shares\\MNCDB\\צוות מידע\\תוצרים\\json\\BorderPoints.geojson'\n",
    "\n",
    "\n",
    "#BorderPoints.drop(columns='geometry').to_csv(csv_dir ,encoding='utf8', index=False)\n",
    "BorderPoints.to_file(json_dir, driver = 'GeoJSON')"
   ]
  },
  {
   "cell_type": "code",
   "execution_count": null,
   "id": "9cea8e68-201a-41d7-beb6-5e946c2f9aad",
   "metadata": {},
   "outputs": [],
   "source": [
    "subprocess.call([r\"M:\\ncdbScripts\\scripts\\arcpyPro\\BorderPoints-Save as Feature Class.bat\"]);"
   ]
  }
 ],
 "metadata": {
  "kernelspec": {
   "display_name": "Python 3",
   "language": "python",
   "name": "python3"
  },
  "language_info": {
   "codemirror_mode": {
    "name": "ipython",
    "version": 3
   },
   "file_extension": ".py",
   "mimetype": "text/x-python",
   "name": "python",
   "nbconvert_exporter": "python",
   "pygments_lexer": "ipython3",
   "version": "3.9.4"
  }
 },
 "nbformat": 4,
 "nbformat_minor": 5
}
