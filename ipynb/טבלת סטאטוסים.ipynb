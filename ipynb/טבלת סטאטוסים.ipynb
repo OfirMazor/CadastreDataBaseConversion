{
 "cells": [
  {
   "cell_type": "markdown",
   "id": "18a60219-1056-49d5-8d09-0d390ac361c2",
   "metadata": {},
   "source": [
    "<h1 style=\"background-color:#1c6ce6;\n",
    "           font-family:segoe ui;\n",
    "                color:#FFF9ED;\n",
    "           font-size:300%;\n",
    "           text-align:center;\n",
    "           border-radius:10px 10px;\"> \n",
    "📅⏱️ תהליך הסבת טבלת סטאטוסים ותאריכים לבנק\"ל מודרני ⏱️📅 "
   ]
  },
  {
   "cell_type": "code",
   "execution_count": null,
   "id": "94f2049b-e49a-4100-bac4-5f38c1e115e6",
   "metadata": {},
   "outputs": [],
   "source": [
    "print('8. Cadastre Processes Status & Dates Table:')"
   ]
  },
  {
   "cell_type": "markdown",
   "id": "299ffdce-9a3d-4bd2-a9cd-f3dfa3dc3120",
   "metadata": {},
   "source": [
    "<h1 style=\"text-align:right; font-size:150%; color:#1c6ce6;\">\n",
    "ספריות 📚"
   ]
  },
  {
   "cell_type": "code",
   "execution_count": null,
   "id": "acac4996-3604-4832-85cb-4c5d2ade95f8",
   "metadata": {},
   "outputs": [],
   "source": [
    "import warnings\n",
    "warnings.filterwarnings('ignore')\n",
    "\n",
    "import pandas as pd\n",
    "import geopandas as gpd\n",
    "import datetime as dt\n",
    "import subprocess"
   ]
  },
  {
   "cell_type": "markdown",
   "id": "5236c09d-dc7a-4c5a-8e25-689f5c14682e",
   "metadata": {},
   "source": [
    "<h1 style=\"text-align:right; font-size:150%; color:#1c6ce6;\">קריאת נתונים 📑 "
   ]
  },
  {
   "cell_type": "code",
   "execution_count": null,
   "id": "6db02b1c-300e-46a7-99b1-e38ef4e77d40",
   "metadata": {},
   "outputs": [],
   "source": [
    "print('  8.a Reading inputs')"
   ]
  },
  {
   "cell_type": "code",
   "execution_count": 38,
   "id": "d05a5ab1-d026-4a25-b9dc-9d748aa191ec",
   "metadata": {},
   "outputs": [],
   "source": [
    "RawData_folder = r'\\\\mapi_shares\\MNCDB\\צוות מידע\\RawData/'\n",
    "\n",
    "today =  dt.date.today()\n",
    "date_name =  str(today.year) + str(today.month) + str(today.day)\n",
    "product_path = r'\\\\mapi_shares\\MNCDB\\צוות מידע\\תוצרים/' + date_name + '_ncdb.gdb'"
   ]
  },
  {
   "cell_type": "markdown",
   "id": "7c0ed634-c2c1-4e79-8a63-c1f90f4e809f",
   "metadata": {},
   "source": [
    "<h1 style=\"text-align:right;font-size:125%\">\n",
    "שכבת גבולות תהליכי קדסטר מודרנית"
   ]
  },
  {
   "cell_type": "code",
   "execution_count": 39,
   "id": "d5fe3997-9796-4659-a049-8863db514c88",
   "metadata": {},
   "outputs": [],
   "source": [
    "CadasterProcessBorders_cols = ['CPBUniqueID', 'ProcessName', 'ProcessType', 'Status']\n",
    "CadasterProcessBorders = gpd.read_file(filename = product_path,\n",
    "                                       layer    = 'CadasterProcessBorders',\n",
    "                                       driver   = 'FileGDB',\n",
    "                                       include_fields  = CadasterProcessBorders_cols,\n",
    "                                       ignore_geometry = True)\n",
    "\n",
    "del CadasterProcessBorders_cols"
   ]
  },
  {
   "cell_type": "markdown",
   "id": "f8e33f5c-bc8d-4b76-96a2-d3d32e7321b4",
   "metadata": {},
   "source": [
    "<h1 style=\"text-align:right;font-size:125%\">\n",
    ":נתוני תצ\"ר\n",
    "<h1 style=\"text-align:right;font-size:100%\">\n",
    "טבלת סטאטוסים של תצ\"ר\n",
    "<h1 style=\"text-align:right;font-size:100%\">\n",
    "שכבת גבולות תצ\"ר משכבה מודרנית\n",
    "<h1 style=\"text-align:right;font-size:100%\">"
   ]
  },
  {
   "cell_type": "code",
   "execution_count": 40,
   "id": "cf543fd4-febc-4aee-bee1-39e354d84506",
   "metadata": {},
   "outputs": [],
   "source": [
    "Tazar_status_cols = ['TALAR_ID','STATUS_ID','STATUS_DATE']\n",
    "Tazar_status = pd.read_csv(RawData_folder + 'Oracle\\\\talar_status.csv',\n",
    "                          encoding    = 'cp1255',\n",
    "                          parse_dates = ['STATUS_DATE'],\n",
    "                          dayfirst    = True,\n",
    "                          usecols     = Tazar_status_cols)\n",
    "Tazar_status.sort_values(['TALAR_ID','STATUS_ID', 'STATUS_DATE'], inplace=True)\n",
    "del Tazar_status_cols\n",
    "\n",
    "\n",
    "Tazar_product = CadasterProcessBorders[CadasterProcessBorders['ProcessType'] == 1]\n",
    "Tazar_product.sort_values(['CPBUniqueID','Status'], inplace=True)"
   ]
  },
  {
   "cell_type": "markdown",
   "id": "1c8b722b-4337-43ba-a054-fc7c2199d066",
   "metadata": {},
   "source": [
    "<h1 style=\"text-align:right;font-size:125%\">\n",
    ":נתוני תת\"ג\n",
    "<h1 style=\"text-align:right;font-size:100%\">\n",
    "טבלת סטאטוסים של תת\"ג\n",
    "<h1 style=\"text-align:right;font-size:100%\">\n",
    "שכבת גבולות תת\"ג משכבה מודרנית\n",
    "<h1 style=\"text-align:right;font-size:100%\">"
   ]
  },
  {
   "cell_type": "code",
   "execution_count": null,
   "id": "404ab727-57ad-4724-9b7d-6ae959183f21",
   "metadata": {},
   "outputs": [],
   "source": [
    "Tatag_table_cols = ['TATAG_NUM', 'TATAG_YEAR', 'STATUS_ID', 'STATUS_DATE']\n",
    "Tatag_table = pd.read_csv(RawData_folder + 'Oracle\\\\tatag_status.csv',\n",
    "                          usecols  = Tatag_table_cols,\n",
    "                          encoding = 'cp1255')\n",
    "Tatag_table.sort_values(['TATAG_NUM', 'TATAG_YEAR', 'STATUS_ID', 'STATUS_DATE'], inplace=True)\n",
    "del Tatag_table_cols\n",
    "\n",
    "\n",
    "Tatag_product = CadasterProcessBorders[CadasterProcessBorders['ProcessType'] == 4]\n",
    "Tatag_product.sort_values(['CPBUniqueID','Status'], inplace=True)"
   ]
  },
  {
   "cell_type": "markdown",
   "id": "beaab25b-a1f6-44e2-85ac-daa36afcec76",
   "metadata": {},
   "source": [
    "<h1 style=\"text-align:right;font-size:125%\">\n",
    ":נתוני פס\"ד\n",
    "<h1 style=\"text-align:right;font-size:100%\">\n",
    "טבלת סטאטוסים של פס\"ד\n",
    "<h1 style=\"text-align:right;font-size:100%\">\n",
    "(תיקון קצר של ערכי הטבלה)\n",
    "<h1 style=\"text-align:right;font-size:100%\">\n",
    "שכבת גבולות פס\"ד משכבה מודרנית"
   ]
  },
  {
   "cell_type": "code",
   "execution_count": null,
   "id": "1764bb7e-e66b-4a7e-8b6f-dead31ea9fb8",
   "metadata": {},
   "outputs": [],
   "source": [
    "Judgments_table_cols = ['PSAK_DIN_NUM', 'PSAK_DIN_YEAR', 'STATUS', 'STATUS_DATE', 'START_DATE', 'TO_PKID_HESDER', 'FROM_PKID_HESDER']\n",
    "Judgments_table_dates = ['STATUS_DATE', 'START_DATE', 'TO_PKID_HESDER', 'FROM_PKID_HESDER']\n",
    "Judgments_table = pd.read_csv(RawData_folder + 'Oracle\\\\psak_din.csv',\n",
    "                                usecols     = Judgments_table_cols,\n",
    "                                parse_dates = Judgments_table_dates,\n",
    "                                encoding    = 'cp1255')\n",
    "\n",
    "Judgments_table['STATUS_DATE'].fillna(Judgments_table[['START_DATE', 'TO_PKID_HESDER', 'FROM_PKID_HESDER']].max(axis=1))\n",
    "Judgments_table['ProcessName'] = Judgments_table['PSAK_DIN_NUM'].astype(str) + '/' + Judgments_table['PSAK_DIN_YEAR'].astype(str)\n",
    "Judgments_table.drop(columns=['PSAK_DIN_NUM', 'PSAK_DIN_YEAR'], inplace=True)\n",
    "del [Judgments_table_cols, Judgments_table_dates]\n",
    "\n",
    "\n",
    "Judgments_product = CadasterProcessBorders[CadasterProcessBorders['ProcessType'] == 3]\n",
    "Judgments_product.sort_values(by=['CPBUniqueID', 'Status'], inplace=True)"
   ]
  },
  {
   "cell_type": "markdown",
   "id": "a48be041-db4f-4fc8-9be5-09a3ebe688a0",
   "metadata": {},
   "source": [
    "<h1 style=\"text-align:right;font-size:125%\">\n",
    ":נתוני תיקון 97 ב\n",
    "<h1 style=\"text-align:right;font-size:100%\">\n",
    "טבלת סטאטוסים של תיקון 97 ב\n",
    "<h1 style=\"text-align:right;font-size:100%\">\n",
    "שכבת גבולות תיקון 97 ב משכבה מודרנית\n",
    "<h1 style=\"text-align:right;font-size:100%\">"
   ]
  },
  {
   "cell_type": "code",
   "execution_count": null,
   "id": "2684bb80-9f7a-4a1b-8e55-7bdcf4460729",
   "metadata": {},
   "outputs": [],
   "source": [
    "B97_cols = ['מספר פניה', 'תאריך בקשה', 'תאריך שליחה לפקיד הסדר', 'תאריך אישור הממונה על המרשם', 'תאריך אישור הרשם', 'תאריך התחלה', 'תאריך סיום בפועל']\n",
    "B97_table = pd.read_csv(RawData_folder + 'Local\\\\97b_nuhil_tahalichim.csv',\n",
    "                        usecols  = B97_cols,\n",
    "                        encoding = 'cp1255')\n",
    "B97_table.sort_values(by='מספר פניה', inplace=True)\n",
    "\n",
    "del B97_cols\n",
    "\n",
    "\n",
    "B97_product = CadasterProcessBorders[CadasterProcessBorders['ProcessType'] == 6]\n",
    "B97_product.sort_values(['CPBUniqueID','Status'], inplace=True)"
   ]
  },
  {
   "cell_type": "code",
   "execution_count": null,
   "id": "edd5c260-9d74-4d3a-aefe-c51f804359e9",
   "metadata": {},
   "outputs": [],
   "source": [
    "del [RawData_folder, product_path, CadasterProcessBorders]"
   ]
  },
  {
   "cell_type": "markdown",
   "id": "0f15a5a5-37f9-4d27-aa69-7445233a3921",
   "metadata": {},
   "source": [
    "<h1 style=\"text-align:right; font-size:150%; color:#1c6ce6;\">\n",
    "עיבוד נתונים 🛠️"
   ]
  },
  {
   "cell_type": "code",
   "execution_count": null,
   "id": "f9443d44-5673-4831-a717-bfcccfd1725c",
   "metadata": {},
   "outputs": [],
   "source": [
    "print('  8.b Cleaning data')"
   ]
  },
  {
   "cell_type": "code",
   "execution_count": null,
   "id": "1bbabd40-eb6a-4bca-a4ba-af546ecdadf2",
   "metadata": {},
   "outputs": [],
   "source": [
    "print('  8.c Data conversion')"
   ]
  },
  {
   "cell_type": "markdown",
   "id": "a41750b5-8066-43f8-8823-5841c2916a3a",
   "metadata": {},
   "source": [
    "<h1 style=\"text-align:right;font-size:125%\">\n",
    ":סטאטוסים של תצ\"ר \n",
    "<h1 style=\"text-align:right;font-size:100%\">\n",
    "שחזור ערכי מספר מזהה של תצ\"ר לפני הסבה\n",
    "<h1 style=\"text-align:right;font-size:100%\">\n",
    "סינון רשומות מטבלת סטאטוסים של תצ\"ר לאלו שמופיעים רק בשכבת גבולות תצ\"ר מודרנית\n",
    "<h1 style=\"text-align:right;font-size:100%\">\n",
    "מיזוג שכבת תצ\"ר מודרנית עם טבלת סטאטוסים של תצ\"ר\n",
    "<h1 style=\"text-align:right;font-size:100%\">\n",
    "הסדרת שדה של סטאטוס נוכחי\n",
    "<h1 style=\"text-align:right;font-size:100%\">\n",
    "תיקון שמות שדות, מילוי ערכים חסרים והסרת שדות שלא רלוונטיים\n",
    "<h1 style=\"text-align:right;font-size:100%\">\n",
    "הוספת שדה לערך סוג התהליך (1)"
   ]
  },
  {
   "cell_type": "code",
   "execution_count": null,
   "id": "bc8bb038-3c94-4d4d-96c8-2a7bc6a92af2",
   "metadata": {},
   "outputs": [],
   "source": [
    "Tazar_product['TALAR_ID'] = Tazar_product['CPBUniqueID'] - 1000000\n",
    "Tazar_product['TALAR_ID'] = Tazar_product['TALAR_ID'].astype('Int64')"
   ]
  },
  {
   "cell_type": "code",
   "execution_count": null,
   "id": "4c202772-aa65-4aa8-bfc0-6acf3ecbf66d",
   "metadata": {},
   "outputs": [],
   "source": [
    "Tazar_status = Tazar_status[Tazar_status['TALAR_ID'].isin(Tazar_product['TALAR_ID'])]"
   ]
  },
  {
   "cell_type": "code",
   "execution_count": null,
   "id": "11d2c17b-c30e-4716-bc70-2259b89499cd",
   "metadata": {},
   "outputs": [],
   "source": [
    "Tazar_status_table = pd.merge(left = Tazar_status, right = Tazar_product,\n",
    "                              on = 'TALAR_ID',\n",
    "                              how = 'left').sort_values(['ProcessName', 'STATUS_ID', 'STATUS_DATE'])"
   ]
  },
  {
   "cell_type": "code",
   "execution_count": null,
   "id": "fa82fe4e-9de3-4db6-ad23-bc8745b7c0a9",
   "metadata": {},
   "outputs": [],
   "source": [
    "Tazar_status_table.drop(columns='Status', inplace=True)\n",
    "Tazar_status_table.rename(columns={'STATUS_DATE':'StatusDate','STATUS_ID':'Status'}, inplace=True)\n",
    "Tazar_status_table['Status'].fillna(1, inplace=True)\n",
    "Tazar_status_table['Status'] = Tazar_status_table['Status'].astype(int)\n",
    "Tazar_status_table.drop(columns=['TALAR_ID', 'ProcessType', 'ProcessName'], inplace=True)\n",
    "\n",
    "Tazar_status_table['ProcessType'] = 1"
   ]
  },
  {
   "cell_type": "code",
   "execution_count": null,
   "id": "7bf5dba4-3014-4221-8b03-07d18e6d8efa",
   "metadata": {},
   "outputs": [],
   "source": [
    "del [Tazar_status, Tazar_product]"
   ]
  },
  {
   "cell_type": "markdown",
   "id": "ed7cad54-afb8-4783-af79-2d8567e14bc8",
   "metadata": {},
   "source": [
    "<h1 style=\"text-align:right;font-size:125%\">\n",
    ":סטאטוסים של תת\"ג \n",
    "<h1 style=\"text-align:right;font-size:100%\">\n",
    "יצירת שדה של שם תהליך מלא (מספר מלבן) והסרת שדות לר רלונטיים מטבלת תת\"ג\n",
    "<h1 style=\"text-align:right;font-size:100%\">\n",
    "מיפוי ערכים של סטאטוסים עבור תת\"ג לפי אפיון חדש בטבלת תת\"ג    \n",
    "<h1 style=\"text-align:right;font-size:100%\">\n",
    "הסרת מספרי מלבן שאינן תקינים משכבת גבולות תת\"ג מודרנית\n",
    "<h1 style=\"text-align:right;font-size:100%\">\n",
    "מיזוג נתוני תת\"ג לפי שדה של שם התהליך (מספר מלבן)    \n",
    "<h1 style=\"text-align:right;font-size:100%\">\n",
    "הסרת שדות שאינם רלוונטיים\n",
    "<h1 style=\"text-align:right;font-size:100%\">\n",
    "שינוי שמות  של שדות\n",
    "<h1 style=\"text-align:right;font-size:100%\">    \n",
    "מילוי ערכי סטאטוסים חסרים לסטאטוס 21 \n",
    "<h1 style=\"text-align:right;font-size:100%\">\n",
    "הגדרת שדה סטאטוס לסוג מספר שלם   \n",
    "<h1 style=\"text-align:right;font-size:100%\">\n",
    "הסרת רשומות ללא תאריך סטאטוס"
   ]
  },
  {
   "cell_type": "markdown",
   "id": "56cc01d9-8b79-4e79-aa8e-4a7dd539f02d",
   "metadata": {},
   "source": [
    " "
   ]
  },
  {
   "cell_type": "code",
   "execution_count": null,
   "id": "0f559ae5-485c-45a8-a466-6fe0e7179151",
   "metadata": {},
   "outputs": [],
   "source": [
    "Tatag_table['TATAG_NUM'] = Tatag_table['TATAG_NUM'].astype(int)\n",
    "Tatag_table['TATAG_YEAR'] = Tatag_table['TATAG_YEAR'].astype(int)\n",
    "Tatag_table['ProcessName'] = Tatag_table['TATAG_NUM'].astype(str) + '/' +  Tatag_table['TATAG_YEAR'].astype(str)\n",
    "Tatag_table.drop(columns = ['TATAG_NUM', 'TATAG_YEAR'], inplace=True)\n",
    "\n",
    "\n",
    "tatag_table_statusDict = {1 : 21,\n",
    "                          2 : 22,\n",
    "                          3 : 23,\n",
    "                          None : 21}\n",
    "Tatag_table['STATUS_ID'] = Tatag_table['STATUS_ID'].map(tatag_table_statusDict)"
   ]
  },
  {
   "cell_type": "code",
   "execution_count": null,
   "id": "e8df4982-c2ce-4941-93ef-68dd04a48a66",
   "metadata": {},
   "outputs": [],
   "source": [
    "legit_elipse_min = 1\n",
    "legit_elipse_max = 4000\n",
    "\n",
    "\n",
    "Tatag_product['TATAG_NUM'] = Tatag_product['ProcessName'].str.split('/').str[0].astype(int)\n",
    "Tatag_product['TATAG_YEAR'] = Tatag_product['ProcessName'].str.split('/').str[1].astype(int)\n",
    "\n",
    "Tatag_product = Tatag_product[Tatag_product['TATAG_NUM'].between(legit_elipse_min, legit_elipse_max)]"
   ]
  },
  {
   "cell_type": "code",
   "execution_count": null,
   "id": "99fa0dd6-2bc2-42d8-b9ec-f588a40a724d",
   "metadata": {},
   "outputs": [],
   "source": [
    "Tatag_status_table = Tatag_product.merge(Tatag_table, how='left', on= 'ProcessName').sort_values(['ProcessName', 'Status', 'STATUS_ID'])\n",
    "Tatag_status_table.drop(columns=['Status', 'TATAG_NUM', 'TATAG_YEAR', 'ProcessName'], inplace=True)\n",
    "Tatag_status_table.rename(columns={'STATUS_DATE':'StatusDate','STATUS_ID':'Status'}, inplace=True)\n",
    "Tatag_status_table['Status'].fillna(21, inplace=True)\n",
    "Tatag_status_table['Status'] = Tatag_status_table['Status'].astype(int)\n",
    "Tatag_status_table.dropna(subset=['StatusDate'], inplace=True)"
   ]
  },
  {
   "cell_type": "markdown",
   "id": "53918c09-d00b-48ba-8f23-3e525903b1ae",
   "metadata": {},
   "source": [
    "<h1 style=\"text-align:right;font-size:125%\">\n",
    ":סטאטוסים של תיקוני 97 ב \n",
    "<h1 style=\"text-align:right;font-size:100%\">\n",
    "סינון לרשומות מטבלת תיקוני 97 ב' שקיימות בשכבת גבולות תיקוני 97 מודרנית\n",
    "<h1 style=\"text-align:right;font-size:100%\">\n",
    "הסרת רשומות כפולות, השארת רשומה בעלת תאריך סטאטוס אחרון\n",
    "<h1 style=\"text-align:right;font-size:100%\">\n",
    "המרת הטבלה כך שכל שורה תהיה סטאטוס בפני עצמה\n",
    "<h1 style=\"text-align:right;font-size:100%\">\n",
    "שינוי שמות של שדות    \n",
    "<h1 style=\"text-align:right;font-size:100%\">\n",
    "הסרת רשומות בעלות תאריך סטאטוס ריק\n",
    "<h1 style=\"text-align:right;font-size:100%\">\n",
    "מיפוי ערכי סטאטוס לפי אפיון חדש\n",
    "<h1 style=\"text-align:right;font-size:100%\">    \n",
    "הגדרת שדה תאריך סטאטוס לסוג שדה תאריך \n",
    "<h1 style=\"text-align:right;font-size:100%\">\n",
    "מיזוג טבלת הסטאטוסים אל שכבת גבולות תיקוני 97 ב' ומודרנית בחירת שדות רלונטיים\n",
    "<h1 style=\"text-align:right;font-size:100%\">\n",
    "מיון ערכים לפי שדות\n",
    "<h1 style=\"text-align:right;font-size:100%\">    \n",
    "הסרת רשומות ללא תאריך לסטאטוס"
   ]
  },
  {
   "cell_type": "markdown",
   "id": "2d80d832-7ca4-4fd1-968c-06e9e23e3cae",
   "metadata": {},
   "source": [
    " "
   ]
  },
  {
   "cell_type": "code",
   "execution_count": null,
   "id": "aaf5bb49-4ac8-4a46-82ba-cbc6640e8aa7",
   "metadata": {},
   "outputs": [],
   "source": [
    "B97_product['ProcessName'] = B97_product['ProcessName'].astype(int)\n",
    "B97_table = B97_table[B97_table['מספר פניה'].isin(B97_product['ProcessName'])]\n",
    "\n",
    "B97_table.drop_duplicates(keep='last', inplace=True)\n",
    "\n",
    "B97_stack = B97_table.set_index('מספר פניה').stack(level=-1, dropna=False).sort_index().to_frame().reset_index()\n",
    "\n",
    "B97_stack.rename(columns = {'מספר פניה':'ProcessName', 'level_1':'status_name', 0:'StatusDate'}, inplace=True)\n",
    "B97_stack.dropna(subset=['StatusDate'], inplace=True)\n",
    "\n",
    "B97_status_clf = {'תאריך בקשה': 1,\n",
    "                  'תאריך התחלה': 1,\n",
    "                  'תאריך שליחה לפקיד הסדר': 2,\n",
    "                  'תאריך אישור הממונה על המרשם': 2,\n",
    "                  'תאריך אישור הרשם': 4,\n",
    "                  'תאריך סיום בפועל': 5}\n",
    "B97_stack['Status'] = B97_stack['status_name'].map(B97_status_clf)\n",
    "\n",
    "B97_stack['StatusDate'] = pd.to_datetime(B97_stack['StatusDate'])"
   ]
  },
  {
   "cell_type": "code",
   "execution_count": null,
   "id": "f6a7ff46-ce8a-462e-91ca-b7626829cd24",
   "metadata": {},
   "outputs": [],
   "source": [
    "B97_status_table = B97_stack.merge(B97_product[['CPBUniqueID', 'ProcessType', 'ProcessName']], on='ProcessName', how='outer', validate='many_to_many')\n",
    "\n",
    "B97_status_table.drop(columns=['status_name', 'ProcessName'], inplace=True)\n",
    "B97_status_table.sort_values(['CPBUniqueID', 'Status', 'StatusDate'], inplace=True)\n",
    "B97_status_table.dropna(subset=['Status'], inplace=True)\n",
    "B97_status_table['Status'] = B97_status_table['Status'].astype(int)"
   ]
  },
  {
   "cell_type": "markdown",
   "id": "a927504d-7cd0-4ee2-8ac6-165071982277",
   "metadata": {},
   "source": [
    "<h1 style=\"text-align:right;font-size:125%\">\n",
    ":סטאטוסים של פס\"ד \n",
    "<h1 style=\"text-align:right;font-size:100%\">\n",
    "סינון לרשומות שקיימות בשכבת פסקי דין מודרני\n",
    "<h1 style=\"text-align:right;font-size:100%\">\n",
    "המרת הטבלה כך שכל שורה תהיה סטאטוס בפני עצמה\n",
    "<h1 style=\"text-align:right;font-size:100%\">\n",
    "שינוי שמות של שדות\n",
    "<h1 style=\"text-align:right;font-size:100%\">\n",
    "מיון לפי שדות\n",
    "<h1 style=\"text-align:right;font-size:100%\">\n",
    "מיפוי ערכי סטאטוס לפי אפיון חדש\n",
    "<h1 style=\"text-align:right;font-size:100%\">\n",
    "הסרת שדות שאינם רלונטיים\n",
    "<h1 style=\"text-align:right;font-size:100%\">    \n",
    "מיזוג נתוני גבולות פס\"ד עם סטאטוסים של פס\"ד\n",
    "<h1 style=\"text-align:right;font-size:100%\">\n",
    "הסרת רשומות ללא תאריך סטאטוס\n",
    "<h1 style=\"text-align:right;font-size:100%\">\n",
    "מיון לפי שדות\n",
    "<h1 style=\"text-align:right;font-size:100%\">    \n",
    "הסרת שדות שאינם רלונטיים"
   ]
  },
  {
   "cell_type": "markdown",
   "id": "e3816972-44bc-4d8b-a81a-e0120921dd10",
   "metadata": {},
   "source": [
    " "
   ]
  },
  {
   "cell_type": "code",
   "execution_count": null,
   "id": "39b0ac07-bb2e-4c15-bd00-dff31bd9c0d8",
   "metadata": {},
   "outputs": [],
   "source": [
    "Judgments_table = Judgments_table[Judgments_table['ProcessName'].isin(Judgments_product['ProcessName'])]\n",
    "\n",
    "Judgments_table_stack = Judgments_table.set_index(['ProcessName', 'STATUS']).stack(level=-1, dropna=False).sort_index().to_frame().reset_index()\n",
    "Judgments_table_stack.rename(columns = {'level_2':'statusName', 0:'StatusDate'}, inplace=True)\n",
    "Judgments_table_stack.sort_values(['ProcessName','StatusDate'] , inplace=True)\n",
    "\n",
    "\n",
    "Judgments_status_clf = {'START_DATE'       : 31, \n",
    "                        'TO_PKID_HESDER'   : 32, \n",
    "                        'FROM_PKID_HESDER' : 33}\n",
    "\n",
    "Judgments_table_stack = Judgments_table_stack[Judgments_table_stack['statusName'] != 'STATUS_DATE']\n",
    "Judgments_table_stack['Status'] = Judgments_table_stack['statusName'].map(Judgments_status_clf)\n",
    "\n",
    "Judgments_table_stack.drop(columns=['STATUS', 'statusName'], inplace=True)"
   ]
  },
  {
   "cell_type": "code",
   "execution_count": null,
   "id": "d38c44ef-7f86-4040-8350-d4213e4be366",
   "metadata": {},
   "outputs": [],
   "source": [
    "Judgments_status_table = Judgments_table_stack.merge(Judgments_product[['CPBUniqueID', 'ProcessType', 'ProcessName']], on='ProcessName', how='outer', validate='many_to_many')\n",
    "\n",
    "Judgments_status_table.dropna(subset=['Status'], inplace=True)\n",
    "Judgments_status_table.sort_values(['CPBUniqueID','StatusDate'], inplace=True)\n",
    "Judgments_status_table.drop(columns='ProcessName', inplace=True)"
   ]
  },
  {
   "cell_type": "markdown",
   "id": "0aecd852-4c3f-42b0-8dbf-fd76b678b62f",
   "metadata": {
    "tags": []
   },
   "source": [
    "<h1 style=\"text-align:right; font-size:150%; color:#1c6ce6;\"> \n",
    "יצירת שכבה חדשה בהתאם לאפיון ✨"
   ]
  },
  {
   "cell_type": "code",
   "execution_count": null,
   "id": "8d4899f8-46f5-417e-a2d3-1a90a6a2f9f3",
   "metadata": {},
   "outputs": [],
   "source": [
    "print('  8.d Defining new Layer')"
   ]
  },
  {
   "cell_type": "markdown",
   "id": "4f5e0f46-ec80-43e3-9628-b7a318e2c886",
   "metadata": {},
   "source": [
    "<h1 style=\"text-align:right;font-size:125%\">\n",
    ":איחוד כל טבלאות הסטאטוסים \n",
    "<h1 style=\"text-align:right;font-size:100%\">\n",
    "איחוד כל טבלה של תהליך קדסטרי\n",
    "<h1 style=\"text-align:right;font-size:100%\">\n",
    "שמירת שדות של אפיון חדש בלבד\n",
    "<h1 style=\"text-align:right;font-size:100%\">\n",
    "שינוי שמות של שדות לפי אפיון חדש\n",
    "<h1 style=\"text-align:right;font-size:100%\">\n",
    "מיון רשומות\n",
    "<h1 style=\"text-align:right;font-size:100%\">\n",
    "הגדרת שדות למספרים שלמים\n",
    "<h1 style=\"text-align:right;font-size:100%\">"
   ]
  },
  {
   "cell_type": "markdown",
   "id": "90af4431-77c3-481e-ae51-b1e3bef73ae7",
   "metadata": {},
   "source": [
    " "
   ]
  },
  {
   "cell_type": "code",
   "execution_count": null,
   "id": "dd425c77-946b-40e9-9e3f-fa683c54f079",
   "metadata": {},
   "outputs": [],
   "source": [
    "CpbStatusAndDates = pd.concat(objs = [Tazar_status_table, Tatag_status_table, B97_status_table, Judgments_status_table],\n",
    "                              axis = 0)\n",
    "\n",
    "CpbStatusAndDates.rename(columns={'StatusDate' :'DateStatus'}, inplace=True)\n",
    "CpbStatusAndDates.sort_values(['CPBUniqueID', 'Status', 'DateStatus'], inplace=True)\n",
    "\n",
    "int_cols = ['ProcessType', 'Status']\n",
    "CpbStatusAndDates[int_cols] = CpbStatusAndDates[int_cols].astype(int)"
   ]
  },
  {
   "cell_type": "markdown",
   "id": "be3de832-edf2-45cf-a683-bd0b39986c45",
   "metadata": {},
   "source": [
    "<h1 style=\"text-align:right; font-size:150%; color:#1c6ce6;\"> \n",
    "שמירת תוצאות 💾\n",
    "<h1 style=\"text-align:right; font-size:100%;\"> \n",
    "<h1 style=\"text-align:right; font-size:100%;\"> \n",
    "בחירת נתיב\n",
    "<h1 style=\"text-align:right; font-size:100%;\"> \n",
    "שמירה כטבלה"
   ]
  },
  {
   "cell_type": "code",
   "execution_count": null,
   "id": "95b79577-6b88-4b18-a266-71eeb6d70921",
   "metadata": {},
   "outputs": [],
   "source": [
    "print('  8.e Exporting results to product folder')"
   ]
  },
  {
   "cell_type": "code",
   "execution_count": null,
   "id": "67159c1e-b5e6-4d60-ad42-32317eeed6b0",
   "metadata": {},
   "outputs": [],
   "source": [
    "csv_dir = r'\\\\mapi_shares\\MNCDB\\צוות מידע\\תוצרים\\csv\\CpbStatusAndDates.csv'\n",
    "CpbStatusAndDates.to_csv(csv_dir, index=False)"
   ]
  },
  {
   "cell_type": "code",
   "execution_count": null,
   "id": "8f9e3223-57ee-4541-a989-13962d7e5764",
   "metadata": {},
   "outputs": [],
   "source": [
    "subprocess.call([r'M:\\ncdbScripts\\scripts\\arcpyPro\\CpbStatusAndDates-Save as DB Table.bat']);"
   ]
  }
 ],
 "metadata": {
  "kernelspec": {
   "display_name": "Python 3",
   "language": "python",
   "name": "python3"
  },
  "language_info": {
   "codemirror_mode": {
    "name": "ipython",
    "version": 3
   },
   "file_extension": ".py",
   "mimetype": "text/x-python",
   "name": "python",
   "nbconvert_exporter": "python",
   "pygments_lexer": "ipython3",
   "version": "3.9.4"
  },
  "toc-autonumbering": false,
  "toc-showcode": false,
  "toc-showmarkdowntxt": true,
  "toc-showtags": false
 },
 "nbformat": 4,
 "nbformat_minor": 5
}
