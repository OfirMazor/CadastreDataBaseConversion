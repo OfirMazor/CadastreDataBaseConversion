{
 "cells": [
  {
   "cell_type": "markdown",
   "id": "b4d96567-ec41-4d95-b762-67f0a84d35e1",
   "metadata": {},
   "source": [
    "<h1 style=\"background-color:#1c6ce6;\n",
    "           font-family:segoe ui;\n",
    "                color:#FFF9ED;\n",
    "           font-size:300%;\n",
    "           text-align:center;\n",
    "           border-radius:10px 10px;\"> \n",
    "    🟢תהליך הסבת נקודות גבול החלקות לבנק\"ל מודרני🟢"
   ]
  },
  {
   "cell_type": "code",
   "execution_count": null,
   "id": "8ceecd28-6142-4cbb-9527-d723b6adbe67",
   "metadata": {},
   "outputs": [],
   "source": [
    "print('13. Border Points:')"
   ]
  },
  {
   "cell_type": "markdown",
   "id": "4e8dae08-b056-414a-884c-25cc681c578e",
   "metadata": {},
   "source": [
    "<h1 style=\"text-align:right; font-size:150%; color:#1c6ce6;\">\n",
    "ספריות"
   ]
  },
  {
   "cell_type": "code",
   "execution_count": null,
   "id": "1ba631aa-0ac3-447d-80bc-dbb35e218e35",
   "metadata": {},
   "outputs": [],
   "source": [
    "import warnings\n",
    "warnings.filterwarnings('ignore')\n",
    "\n",
    "from configs import CNFG\n",
    "import numpy as np\n",
    "import pandas as pd\n",
    "import geopandas as gpd\n",
    "import dask_geopandas as daskgpd\n",
    "import subprocess"
   ]
  },
  {
   "cell_type": "markdown",
   "id": "77c4d983-03eb-4f28-a10b-27bc8d50c408",
   "metadata": {
    "tags": []
   },
   "source": [
    "<h1 style=\"text-align:right; font-size:150%; color:#1c6ce6;\">\n",
    "קריאת נתונים"
   ]
  },
  {
   "cell_type": "code",
   "execution_count": null,
   "id": "d131dc9f-1f77-4fb9-8294-53e0624cd7a6",
   "metadata": {},
   "outputs": [],
   "source": [
    "print('  13.a Reading inputs')"
   ]
  },
  {
   "cell_type": "markdown",
   "id": "84a1cca4-095a-4e33-8959-487c76285efd",
   "metadata": {},
   "source": [
    "<h1 style=\"text-align:right;font-size:100%\">\n",
    "שכבת נקודות גבול ברצף קדסטרי"
   ]
  },
  {
   "cell_type": "code",
   "execution_count": null,
   "id": "ae9c354d-ad15-4ddc-96ae-930f373028a5",
   "metadata": {},
   "outputs": [],
   "source": [
    "parcel_node_cols = ['PARCEL_SDE_', 'POINT_NAME', 'CONTROL_ID', 'REG_STATUS', 'POINT_MARK', 'geometry']\n",
    "\n",
    "parcel_node = daskgpd.read_file(CNFG.Arcstorm + 'PARCEL_NODE.gdb', layer = 'PARCEL_NODE', columns = parcel_node_cols, npartitions = 16).compute()\n",
    "\n",
    "del parcel_node_cols\n",
    "\n",
    "print('         input 1/6 read')"
   ]
  },
  {
   "cell_type": "markdown",
   "id": "a0d77ff9-47c5-4a08-959f-66f222082f53",
   "metadata": {
    "tags": []
   },
   "source": [
    "<h1 style=\"text-align:right;font-size:100%\">\n",
    "שכבת נקודות גבול בתהליך"
   ]
  },
  {
   "cell_type": "code",
   "execution_count": null,
   "id": "06beb181-c080-45b4-9dff-06005685fa39",
   "metadata": {},
   "outputs": [],
   "source": [
    "in_process_cols = ['POINT_NAME', 'ACCURACY', 'MARK_CODE', 'TALAR_NUM', 'TALAR_YEAR', 'USERNAME', 'ENTITY_STATE', 'INSERTDATE', 'geometry']\n",
    "\n",
    "in_process = daskgpd.read_file(CNFG.CADSDE + 'Points_InProcess.gdb', layer = 'Points_InProcess', columns = in_process_cols, npartitions = 16).compute()\n",
    "\n",
    "del in_process_cols\n",
    "\n",
    "print('         input 2/6 read')"
   ]
  },
  {
   "cell_type": "markdown",
   "id": "1d03ac21-1224-450e-841f-63e331bca45a",
   "metadata": {},
   "source": [
    "<h1 style=\"text-align:right;font-size:100%\">\n",
    "שכבת נקודות גבול מבוטלות"
   ]
  },
  {
   "cell_type": "code",
   "execution_count": null,
   "id": "a6daf440-23c5-4a77-80c6-e5b364e18435",
   "metadata": {
    "tags": []
   },
   "outputs": [],
   "source": [
    "canceled_cols = ['POINT_NAME', 'ACCURACY', 'MARK_CODE', 'TALAR_NUM', 'TALAR_YEAR', 'USERNAME', 'INSERTDATE', 'geometry']\n",
    "\n",
    "canceled = daskgpd.read_file(CNFG.Local + 'Points_InProcess_History_out_and_no_duplicates.gpkg', layer = 'Points_InProcess_History_out_and_no_duplicates', columns = canceled_cols, npartitions = 16).compute()\n",
    "\n",
    "del canceled_cols\n",
    "\n",
    "print('         input 3/6 read')"
   ]
  },
  {
   "cell_type": "markdown",
   "id": "aae6bc75-4bb2-4dd8-8d5e-0dd167227540",
   "metadata": {},
   "source": [
    "<h1 style=\"text-align:right;font-size:100%\">\n",
    "שכבת גבולות תהליכי קדסטר"
   ]
  },
  {
   "cell_type": "code",
   "execution_count": null,
   "id": "2d5ca87e-431f-4a31-8b19-667e28d16581",
   "metadata": {
    "tags": []
   },
   "outputs": [],
   "source": [
    "cpb_cols = ['CPBUniqueID', 'GlobalID', 'ProcessName', 'ProcessType', 'geometry']\n",
    "\n",
    "cpb = daskgpd.read_file(CNFG.ProductPath, layer = 'CadasterProcessBorders', columns = cpb_cols, npartitions = 8).compute()\n",
    "\n",
    "del cpb_cols\n",
    "\n",
    "print('         input 4/6 read')"
   ]
  },
  {
   "cell_type": "markdown",
   "id": "2788afc6-159f-4f37-b4ae-7b07a5d696c8",
   "metadata": {},
   "source": [
    "<h1 style=\"text-align:right;font-size:100%\">\n",
    "גבולות גושי קמ\"ק"
   ]
  },
  {
   "cell_type": "code",
   "execution_count": null,
   "id": "d3d323c1-572d-423f-ab8d-083329668deb",
   "metadata": {
    "tags": []
   },
   "outputs": [],
   "source": [
    "cbc = cpb[cpb['ProcessType'] == 5]['geometry'].to_frame()\n",
    "cbc['cbc'] = True\n",
    "\n",
    "cpb.drop(columns = ['ProcessType', 'geometry'], inplace = True)\n",
    "\n",
    "\n",
    "print('         input 5/6 read')"
   ]
  },
  {
   "cell_type": "markdown",
   "id": "525d43c5-9e03-4101-928d-ea5595aa7366",
   "metadata": {},
   "source": [
    "<h1 style=\"text-align:right;font-size:100%\">\n",
    "שכבת גושי ים תיכון"
   ]
  },
  {
   "cell_type": "code",
   "execution_count": null,
   "id": "f71a7103-69bc-40fa-8fa9-5a1d28e9eb74",
   "metadata": {},
   "outputs": [],
   "source": [
    "medeteraninanBlocks = gpd.read_file(CNFG.Local + 'medeteraninanBlocks.gpkg', layer = 'medeteraninanBlocks', include_fields = ['geometry'])\n",
    "\n",
    "medeteraninanBlocks['medeteraninan'] = True\n",
    "\n",
    "print('         input 6/6 read')"
   ]
  },
  {
   "cell_type": "markdown",
   "id": "f87bc147-ceb3-46c9-a8d9-1a0e60ddbed6",
   "metadata": {},
   "source": [
    "<h1 style=\"text-align:right; font-size:150%; color:#1c6ce6;\">\n",
    "עיבוד נתונים"
   ]
  },
  {
   "cell_type": "markdown",
   "id": "e7a8b4cb-619d-4f49-b28f-5cbe7313caf4",
   "metadata": {},
   "source": [
    "<h1 style=\"text-align:right;font-size:125%\">\n",
    ":עיבוד נקודות גבול ברצף קדסטרי\n",
    "<h1 style=\"text-align:right;font-size:100%\">\n",
    "הגדרת רשת קואורדינטות לרשת ישראל (2039)"
   ]
  },
  {
   "cell_type": "code",
   "execution_count": null,
   "id": "226b00d4-2172-4903-b97e-127cb09e1c52",
   "metadata": {
    "id": "CygRRrxHfPVR"
   },
   "outputs": [],
   "source": [
    "print('  13.b Cleaning data')"
   ]
  },
  {
   "cell_type": "code",
   "execution_count": null,
   "id": "fe85e5ab-69f7-448c-b29f-c1e76d0c5ef9",
   "metadata": {},
   "outputs": [],
   "source": [
    "parcel_node = parcel_node.to_crs(2039)"
   ]
  },
  {
   "cell_type": "markdown",
   "id": "27b0ca9a-d529-4996-b8e2-ae43fceae02d",
   "metadata": {},
   "source": [
    "<h1 style=\"text-align:right;font-size:125%\">\n",
    ":עיבוד נקודות גבול בתהליך\n",
    "<h1 style=\"text-align:right;font-size:100%\">\n",
    "סינון לנקודות יוצאות בלבד"
   ]
  },
  {
   "cell_type": "code",
   "execution_count": null,
   "id": "0be77736-3df8-4264-bf8d-97d92349d82e",
   "metadata": {},
   "outputs": [],
   "source": [
    "in_process = in_process[in_process['ENTITY_STATE'] == 1]\n",
    "in_process.drop(columns = 'ENTITY_STATE', inplace = True)"
   ]
  },
  {
   "cell_type": "markdown",
   "id": "fd457a05-d0ea-4c75-b861-46fe77c5821c",
   "metadata": {},
   "source": [
    "<h1 style=\"text-align:right;font-size:100%\">\n",
    "הסרת נקודות כפולות"
   ]
  },
  {
   "cell_type": "code",
   "execution_count": null,
   "id": "a4f1ded9-2d1d-4787-8d8a-81b588d5cba2",
   "metadata": {},
   "outputs": [],
   "source": [
    "in_process = in_process.sort_values(['TALAR_NUM','TALAR_YEAR', 'POINT_NAME', 'MARK_CODE', 'ACCURACY', 'INSERTDATE'])\n",
    "in_process.drop_duplicates(keep = 'last', inplace = True)"
   ]
  },
  {
   "cell_type": "markdown",
   "id": "3668b0ee-e07d-4b59-8882-77e49a7b21d4",
   "metadata": {},
   "source": [
    "<h1 style=\"text-align:right;font-size:125%\">\n",
    "איחוד נתוני נקודות מבוטלות עם נקודות בתהליך"
   ]
  },
  {
   "cell_type": "code",
   "execution_count": null,
   "id": "d39e9d4d-d225-4bd4-bd58-f5946cb77b74",
   "metadata": {},
   "outputs": [],
   "source": [
    "inprocess_data = pd.concat([canceled, in_process], ignore_index = True)\\\n",
    "                   .sort_values(['TALAR_NUM','TALAR_YEAR', 'POINT_NAME', 'MARK_CODE', 'ACCURACY', 'INSERTDATE'])\n",
    "\n",
    "del [in_process, canceled]"
   ]
  },
  {
   "cell_type": "markdown",
   "id": "112369af-d0e4-4aa0-8e8e-bd0be91c7433",
   "metadata": {},
   "source": [
    "<h1 style=\"text-align:right;font-size:100%\">\n",
    "הסרת כפילויות, רשומות עם תאריך מאוחר יותר ישארו"
   ]
  },
  {
   "cell_type": "code",
   "execution_count": null,
   "id": "7887890c-2d5e-477e-a515-532cf753669a",
   "metadata": {},
   "outputs": [],
   "source": [
    "inprocess_data.drop_duplicates(subset = 'geometry',\n",
    "                               keep = 'last',\n",
    "                               inplace = True)\n",
    "\n",
    "inprocess_data.drop(columns = 'INSERTDATE', inplace = True)"
   ]
  },
  {
   "cell_type": "markdown",
   "id": "63b28afd-7629-4836-a36a-ece0fdb37ade",
   "metadata": {},
   "source": [
    "<h1 style=\"text-align:right;font-size:100%\">\n",
    "מילוי ערכים חסרים בספרה 0"
   ]
  },
  {
   "cell_type": "code",
   "execution_count": null,
   "id": "de63199b-da11-4733-98b5-f23a440af8c0",
   "metadata": {},
   "outputs": [],
   "source": [
    "inprocess_data[['MARK_CODE', 'ACCURACY', 'TALAR_NUM', 'TALAR_YEAR']] = inprocess_data[['MARK_CODE', 'ACCURACY', 'TALAR_NUM', 'TALAR_YEAR']].fillna(0)\n",
    "inprocess_data[['MARK_CODE', 'ACCURACY', 'TALAR_NUM', 'TALAR_YEAR']] = inprocess_data[['MARK_CODE', 'ACCURACY', 'TALAR_NUM', 'TALAR_YEAR']].astype(int)"
   ]
  },
  {
   "cell_type": "markdown",
   "id": "e0aaced1-0721-4748-9587-9055e0c9d098",
   "metadata": {},
   "source": [
    "<h1 style=\"text-align:right;font-size:125%\">\n",
    "מיזוג עם שכבת גבולות תהליכי קדסטר מודרנית לקבלת מספר מזהה של התהליך שיצר/עידכן את הנקודה"
   ]
  },
  {
   "cell_type": "code",
   "execution_count": null,
   "id": "8f80b1ff-5f7b-4e57-9031-36fbe82ff5d7",
   "metadata": {},
   "outputs": [],
   "source": [
    "inprocess_data['ProcessName'] = inprocess_data['TALAR_NUM'].astype(str) + '/' + inprocess_data['TALAR_YEAR'].astype(str) \n",
    "\n",
    "inprocess_data = inprocess_data.merge(right = cpb, on = 'ProcessName', how = 'left')\n",
    "\n",
    "inprocess_data.drop(columns = ['TALAR_NUM', 'TALAR_YEAR', 'ProcessName'], inplace = True)\n",
    "del cpb"
   ]
  },
  {
   "cell_type": "markdown",
   "id": "5d772f15-01ca-4cfc-a991-d058cf2da8db",
   "metadata": {},
   "source": [
    "<h1 style=\"text-align:right;font-size:125%\">\n",
    "איחוד מרחבי עם של שכבת נקודות ברצף קדסטרי עם איחוד נקודות בתהליך"
   ]
  },
  {
   "cell_type": "code",
   "execution_count": null,
   "id": "53e0a3f0-9995-4ba8-8c0b-685bd7440aca",
   "metadata": {
    "id": "4IpdUtgGfV3r"
   },
   "outputs": [],
   "source": [
    "print('  13.c Data conversion')"
   ]
  },
  {
   "cell_type": "code",
   "execution_count": null,
   "id": "08f5bc69-290f-4a4d-a62f-f6c63eff4230",
   "metadata": {},
   "outputs": [],
   "source": [
    "parcel_node.rename(columns = {'POINT_NAME' : 'NodeName', 'PARCEL_SDE_' : 'PointUniqueID'}, inplace = True)\n",
    "inprocess_data.rename(columns = {'POINT_NAME' : 'Name', 'GlobalID':'CreatedByRecord'}, inplace = True)\n",
    "\n",
    "inprocess_data.geometry = inprocess_data.geometry.buffer(0.01)\n",
    "BorderPoints = parcel_node.sjoin(inprocess_data, how = 'left', predicate = 'intersects')\n",
    "BorderPoints.drop(columns = 'index_right', inplace = True)\n",
    "\n",
    "del [parcel_node, inprocess_data]"
   ]
  },
  {
   "cell_type": "markdown",
   "id": "bbaa257a-5abe-4a3d-bbdb-3ce598f26008",
   "metadata": {},
   "source": [
    "<h1 style=\"text-align:right;font-size:100%\">\n",
    "הסרת נקודות כפולות בעלות אותה קואורדינטה"
   ]
  },
  {
   "cell_type": "code",
   "execution_count": null,
   "id": "5eeaf6fd-d671-459d-86e1-cc0736f7e4be",
   "metadata": {},
   "outputs": [],
   "source": [
    "BorderPoints = BorderPoints.drop_duplicates(subset = 'geometry', keep = 'first')"
   ]
  },
  {
   "cell_type": "code",
   "execution_count": null,
   "id": "6eb1dabc-f3ef-42ba-ba06-4290f6988062",
   "metadata": {
    "id": "I8U1H2fBfiSb"
   },
   "outputs": [],
   "source": [
    "print('  13.d Defining new Layer')"
   ]
  },
  {
   "cell_type": "markdown",
   "id": "7faf4cea-5aa5-4da8-b128-ca48ec3340e8",
   "metadata": {},
   "source": [
    "<h1 style=\"text-align:right;font-size:125%\">\n",
    "מיפוי ערכי סימון נקודת גבול\n",
    "    <h1 style=\"text-align:right;font-size:100%\">\n",
    "הגדרת מילון מיפוי\n",
    "        <h1 style=\"text-align:right;font-size:100%\">\n",
    "יצירת שדה חדש שלוקח לפי שדה שהגיע מנקודות בתהליך ואם חסר נלקח מנקודות ברצף (אם עדיין חסר יאוכלס בספרה 0)\n",
    "            <h1 style=\"text-align:right;font-size:100%\">\n",
    "מיפוי הערכים לפי מילון והגדרת השדה כמספר שלם"
   ]
  },
  {
   "cell_type": "code",
   "execution_count": null,
   "id": "8de613c7-38cb-44fb-a90e-5eff9a951930",
   "metadata": {},
   "outputs": [],
   "source": [
    "MARK_classifier = {0  : 0,\n",
    "                   1  : 1,\n",
    "                   2  : 2,\n",
    "                   3  : 3,\n",
    "                   4  : 4,\n",
    "                   5  : 5,\n",
    "                   6  : 6,\n",
    "                   7  : 7,\n",
    "                   8  : 8,\n",
    "                   9  : 9,\n",
    "                   10 : 10,\n",
    "                   11 : 11,\n",
    "                   12 : 12,\n",
    "                   13 : 13,\n",
    "                   14 : 14,\n",
    "                   15 : 0,\n",
    "                   20 : 20,\n",
    "                   None : 0}\n",
    "\n",
    "BorderPoints['MarkCode'] = BorderPoints['MARK_CODE'].fillna(BorderPoints['POINT_MARK'])\n",
    "BorderPoints['MarkCode'] = BorderPoints['MarkCode'].map(MARK_classifier)\n",
    "BorderPoints['MarkCode'] = BorderPoints['MarkCode'].fillna(0)\n",
    "BorderPoints['MarkCode'] = BorderPoints['MarkCode'].astype(int)\n",
    "\n",
    "BorderPoints.drop(columns = ['MARK_CODE', 'POINT_MARK'], inplace = True)\n",
    "del MARK_classifier"
   ]
  },
  {
   "cell_type": "markdown",
   "id": "e5d981f2-a53e-4931-bb27-f05b3ba8e5f6",
   "metadata": {},
   "source": [
    "<h1 style=\"text-align:right;font-size:125%\">\n",
    "התניית מקור נקודת גבול\n",
    "<h1 style=\"text-align:right;font-size:100%\">\n",
    "הגדרת תנאי כאשר כל הנקודת בעלות סיווג קיים גדול מ-0 ותנאי תלוי בשם משתמש\n",
    "<h1 style=\"text-align:right;font-size:100%\">\n",
    "יצירת שדות לשני התנאים שמתארים אם הערכים הרצויים מהתנאי\n",
    "<h1 style=\"text-align:right;font-size:100%\">\n",
    "יצירת שדה אחד למקור הנקודה שעונה לשני התנאים"
   ]
  },
  {
   "cell_type": "code",
   "execution_count": null,
   "id": "c10bf5a4-ef8a-4b60-9f59-2fda062747b1",
   "metadata": {},
   "outputs": [],
   "source": [
    "BorderPoints['ACCURACY'] = BorderPoints['ACCURACY'].fillna(0)\n",
    "CAD_Sourced_cond = ~BorderPoints['ACCURACY'].isin([0, None, np.nan])\n",
    "\n",
    "SRV_Sourced_cond = BorderPoints['USERNAME'].isin(['shay', 'yaronl'])\n",
    "\n",
    "\n",
    "BorderPoints['isCAD'] = np.where(CAD_Sourced_cond, 5, None)\n",
    "BorderPoints['isSRV'] = np.where(SRV_Sourced_cond, 4, None)\n",
    "\n",
    "BorderPoints['DataSource'] = BorderPoints['isCAD'].fillna(BorderPoints['isSRV'])\n",
    "BorderPoints['DataSource'] = BorderPoints['DataSource'].fillna(3)\n",
    "BorderPoints['DataSource'] = BorderPoints['DataSource'].astype(int)\n",
    "\n",
    "BorderPoints.drop(columns = ['USERNAME', 'isCAD', 'isSRV'], inplace = True)\n",
    "del CAD_Sourced_cond, SRV_Sourced_cond"
   ]
  },
  {
   "cell_type": "markdown",
   "id": "7ddb040a-7781-4bda-93f7-804e645319a3",
   "metadata": {},
   "source": [
    "<h1 style=\"text-align:right;font-size:125%\">\n",
    "התניית נקודת בקרה כנקודת גבול\n",
    "<h1 style=\"text-align:right;font-size:100%\">\n",
    "הגדרת תנאי כאשר שדה של מזהה נקודות הבקרה הקיים גדול מ-0\n",
    "<h1 style=\"text-align:right;font-size:100%\">\n",
    "יצירת שדה שעונה על התנאי בצורה בוליאנית"
   ]
  },
  {
   "cell_type": "code",
   "execution_count": null,
   "id": "2848922b-6271-47b3-aa4c-b11cd04386ed",
   "metadata": {},
   "outputs": [],
   "source": [
    "BorderPoints['CONTROL_ID'] =  BorderPoints['CONTROL_ID'].fillna(0)\n",
    "IsControlBorder_cond = BorderPoints['CONTROL_ID'] > 0\n",
    "\n",
    "BorderPoints['IsControlBorder'] = np.where(IsControlBorder_cond, 1, 0)\n",
    "\n",
    "BorderPoints.drop(columns = 'CONTROL_ID', inplace = True)\n",
    "del IsControlBorder_cond"
   ]
  },
  {
   "cell_type": "markdown",
   "id": "e749c447-a482-447b-829f-5620377ef9e3",
   "metadata": {},
   "source": [
    "<h1 style=\"text-align:right;font-size:125%\">\n",
    ":התניית ומיפוי ערכי סיווג לנקודת הגבול\n",
    "<h1 style=\"text-align:right;font-size:100%\">\n",
    "ACCURACY -ו REG_STATUS :מיפוי לפי שדות קיימים  "
   ]
  },
  {
   "cell_type": "code",
   "execution_count": null,
   "id": "76a130d0-3094-40b9-b347-75df0362e7d1",
   "metadata": {},
   "outputs": [],
   "source": [
    "ACCURACY_classifier = {0    : 24,\n",
    "                       1    : 1,\n",
    "                       2    : 13,\n",
    "                       3    : 13,\n",
    "                       4    : 13,\n",
    "                       5    : 13,\n",
    "                       6    : 24,\n",
    "                       7    : 24,\n",
    "                       8    : 24,\n",
    "                       9    : 24,\n",
    "                       12   : 12,\n",
    "                       13   : 13,\n",
    "                       24   : 24,\n",
    "                       None : 24}\n",
    "\n",
    "BorderPoints['ACCURACY'] = BorderPoints['ACCURACY'].map(ACCURACY_classifier)\n",
    "\n",
    "\n",
    "REG_STATUS_classifier = {0    : 24,\n",
    "                         1    : 24,\n",
    "                         2    : 24,\n",
    "                         3    : 24,\n",
    "                         4    : 24,\n",
    "                         5    : 24,\n",
    "                         6    : 13,\n",
    "                         7    : 24,\n",
    "                         33   : 24,\n",
    "                         None : 24}\n",
    "\n",
    "BorderPoints['REG_STATUS'] = BorderPoints['REG_STATUS'].map(REG_STATUS_classifier)\n",
    "\n",
    "\n",
    "\n",
    "BorderPoints['Class'] = BorderPoints['ACCURACY'].fillna(BorderPoints['REG_STATUS'])\n",
    "BorderPoints['Class'] = BorderPoints['Class'].fillna(24)\n",
    "BorderPoints['Class'] = BorderPoints['Class'].astype(int)\n",
    "\n",
    "\n",
    "BorderPoints.drop(columns = ['ACCURACY', 'REG_STATUS'], inplace = True)\n",
    "del [ACCURACY_classifier, REG_STATUS_classifier]"
   ]
  },
  {
   "cell_type": "markdown",
   "id": "a689c537-cfc3-4927-9ffd-2d49acb217fa",
   "metadata": {},
   "source": [
    "<h1 style=\"text-align:right;font-size:100%\">\n",
    ":מתן סיווג לפי מיקום גיאוגרפי\n",
    "<h1 style=\"text-align:right;font-size:100%\">\n",
    "נקודות בתוך או על גבול גוש קמ\"ק -\n",
    "<h1 style=\"text-align:right;font-size:100%\">\n",
    "נקודות בתוך או על גבול גושי ים תיכון - "
   ]
  },
  {
   "cell_type": "code",
   "execution_count": null,
   "id": "ec86b037-b419-4add-b16b-e39ee8abe9d3",
   "metadata": {},
   "outputs": [],
   "source": [
    "cbc.geometry = cbc.geometry.buffer(0.1)\n",
    "\n",
    "BorderPoints = BorderPoints.sjoin(cbc, how = 'left', predicate = 'intersects')\n",
    "BorderPoints['cbc'] = BorderPoints['cbc'].fillna(False)\n",
    "\n",
    "cbc_class_cond = BorderPoints['cbc'] == True\n",
    "cbc_class_value = 13\n",
    "\n",
    "BorderPoints['Class'] = np.where(cbc_class_cond, cbc_class_value, BorderPoints['Class'])\n",
    "\n",
    "BorderPoints.drop(columns =['index_right', 'cbc'], inplace = True)\n",
    "del [cbc, cbc_class_cond, cbc_class_value]"
   ]
  },
  {
   "cell_type": "code",
   "execution_count": null,
   "id": "eb866749-3a55-4c19-bbcb-9d44f0f4a4be",
   "metadata": {},
   "outputs": [],
   "source": [
    "medeteraninanBlocks.geometry = medeteraninanBlocks.geometry.buffer(0.1)\n",
    "\n",
    "BorderPoints = BorderPoints.sjoin(medeteraninanBlocks, how = 'left', predicate = 'intersects')\n",
    "BorderPoints['medeteraninan'] = BorderPoints['medeteraninan'].fillna(False)\n",
    "\n",
    "medeteraninan_class_cond = BorderPoints['medeteraninan'] == True\n",
    "medeteraninan_class_value = 1\n",
    "\n",
    "BorderPoints['Class'] = np.where(medeteraninan_class_cond, medeteraninan_class_value, BorderPoints['Class'])\n",
    "\n",
    "BorderPoints.drop(columns =['index_right', 'medeteraninan'], inplace = True)\n",
    "del [medeteraninanBlocks, medeteraninan_class_cond, medeteraninan_class_value]"
   ]
  },
  {
   "cell_type": "markdown",
   "id": "ed8bf363-9360-4e1e-8474-2c73cecfe92b",
   "metadata": {},
   "source": [
    "<h1 style=\"text-align:right;font-size:100%\">\n",
    "הגדרת שדה שם נקודה לפי ערכים קיימים "
   ]
  },
  {
   "cell_type": "code",
   "execution_count": null,
   "id": "98f1f217-d1b1-4bc4-845f-6793bc7e14cb",
   "metadata": {},
   "outputs": [],
   "source": [
    "BorderPoints['Name'] = BorderPoints['Name'].fillna(BorderPoints['NodeName'])\n",
    "BorderPoints.drop(columns = 'NodeName', inplace = True)"
   ]
  },
  {
   "cell_type": "markdown",
   "id": "b782530f-9c4c-421d-91b7-3a3a3ccf99ab",
   "metadata": {},
   "source": [
    "<h1 style=\"text-align:right;font-size:100%\">\n",
    "הגדרת שדות של נקודות ציון לקואורדינטה"
   ]
  },
  {
   "cell_type": "code",
   "execution_count": null,
   "id": "7a054d73-a469-4a80-85d7-4ae64792df30",
   "metadata": {},
   "outputs": [],
   "source": [
    "BorderPoints['X'] = BorderPoints.geometry.x\n",
    "BorderPoints['Y'] = BorderPoints.geometry.y"
   ]
  },
  {
   "cell_type": "markdown",
   "id": "38def97f-89a9-4e3f-b78b-8efe0cda7b7a",
   "metadata": {},
   "source": [
    "<h1 style=\"text-align:right;font-size:100%\">\n",
    "הסרת נקודות כפולות לפי קואורדינטה ושם נקודה"
   ]
  },
  {
   "cell_type": "code",
   "execution_count": null,
   "id": "6c19adb2-29b2-4d93-8d34-a02c5674700c",
   "metadata": {
    "tags": []
   },
   "outputs": [],
   "source": [
    "BorderPoints = BorderPoints.drop_duplicates(['X', 'Y', 'Name'], keep = 'first')"
   ]
  },
  {
   "cell_type": "markdown",
   "id": "04dff7f1-214f-473d-84b5-6561c8622bb8",
   "metadata": {},
   "source": [
    "<h1 style=\"text-align:right;font-size:100%\">\n",
    "השלמת מספרי זיהוי חסרים של תהליך יוצר"
   ]
  },
  {
   "cell_type": "code",
   "execution_count": null,
   "id": "c0058d3d-42d0-4adf-b0ac-d0ef8783be98",
   "metadata": {},
   "outputs": [],
   "source": [
    "BorderPoints['CPBUniqueID'] = BorderPoints['CPBUniqueID'].fillna(-2)\n",
    "BorderPoints['CPBUniqueID'] = BorderPoints['CPBUniqueID'].astype('Int64')\n",
    "\n",
    "BorderPoints['CreatedByRecord'] = BorderPoints['CreatedByRecord'].fillna(CNFG.FabricatedCreateProcessGUID)"
   ]
  },
  {
   "cell_type": "markdown",
   "id": "b10f64c0-91c0-48d1-b210-1944356d2bd1",
   "metadata": {},
   "source": [
    "<h1 style=\"text-align:right;font-size:100%\">\n",
    "הגדרת שדה מספר מזהה לנקודה מסוג מספר שלם "
   ]
  },
  {
   "cell_type": "code",
   "execution_count": null,
   "id": "faa0ffa8-1486-4410-b572-f99d3f44435b",
   "metadata": {},
   "outputs": [],
   "source": [
    "BorderPoints['PointUniqueID'] = BorderPoints['PointUniqueID'] + 5000000\n",
    "BorderPoints['PointUniqueID'] = BorderPoints['PointUniqueID'].astype(int)"
   ]
  },
  {
   "cell_type": "markdown",
   "id": "95f1dac9-5e2a-4817-9746-7af23149e44b",
   "metadata": {},
   "source": [
    "<h1 style=\"text-align:right;font-size:100%\">\n",
    "הסדרת נקודות נעולות לפי סיווג 1"
   ]
  },
  {
   "cell_type": "code",
   "execution_count": null,
   "id": "ef33de29-6173-4fa3-a3b7-4f3cb6f7caa2",
   "metadata": {},
   "outputs": [],
   "source": [
    "IsFixedCond = BorderPoints['Class'] == 1\n",
    "\n",
    "BorderPoints['IsFixed'] = np.where(IsFixedCond, 1, 0)\n",
    "BorderPoints['IsFixed'] = BorderPoints['IsFixed'].astype(int)\n",
    "\n",
    "del IsFixedCond"
   ]
  },
  {
   "cell_type": "markdown",
   "id": "09ef863f-b46b-44fa-a0e5-f0a531cc4a6f",
   "metadata": {},
   "source": [
    "<h1 style=\"text-align:right; font-size:150%; color:#1c6ce6;\">\n",
    "שמירת תוצאות"
   ]
  },
  {
   "cell_type": "code",
   "execution_count": null,
   "id": "71cf16ea-1a26-48e6-a4ca-ce248ab9b183",
   "metadata": {},
   "outputs": [],
   "source": [
    "print('  13.e Exporting results to product folder')"
   ]
  },
  {
   "cell_type": "markdown",
   "id": "73459804-abd6-4db9-bd92-900419dbf405",
   "metadata": {},
   "source": [
    "<h1 style=\"text-align:right;font-size:100%\">\n",
    "בחירת נתיב\n",
    "<h1 style=\"text-align:right;font-size:100%\">\n",
    "שמירה כטבלה\n",
    "<h1 style=\"text-align:right;font-size:100%\">\n",
    "שמירה כשכבה גיאוגרפית"
   ]
  },
  {
   "cell_type": "code",
   "execution_count": null,
   "id": "d2f4ea0e-1ff4-4bda-b4ad-29073b873c02",
   "metadata": {},
   "outputs": [],
   "source": [
    "json_dir = CNFG.JsonPath + 'BorderPoints.geojson'\n",
    "\n",
    "BorderPoints.to_file(json_dir, driver = 'GeoJSON')"
   ]
  },
  {
   "cell_type": "code",
   "execution_count": null,
   "id": "0c1d301f-277e-4b8e-8d58-0b1dcf03811c",
   "metadata": {},
   "outputs": [],
   "source": [
    "subprocess.call([CNFG.BatchPath + 'BorderPoints-Save as Feature Class.bat']);"
   ]
  }
 ],
 "metadata": {
  "kernelspec": {
   "display_name": "Python 3 (ipykernel)",
   "language": "python",
   "name": "python3"
  },
  "language_info": {
   "codemirror_mode": {
    "name": "ipython",
    "version": 3
   },
   "file_extension": ".py",
   "mimetype": "text/x-python",
   "name": "python",
   "nbconvert_exporter": "python",
   "pygments_lexer": "ipython3",
   "version": "3.11.3"
  }
 },
 "nbformat": 4,
 "nbformat_minor": 5
}
