{
 "cells": [
  {
   "cell_type": "code",
   "execution_count": 1,
   "id": "125c5e55-5dfa-4f6e-8805-ab6078ff0071",
   "metadata": {},
   "outputs": [],
   "source": [
    "import warnings\n",
    "warnings.filterwarnings('ignore')\n",
    "\n",
    "import numpy as np\n",
    "import pandas as pd\n",
    "import geopandas as gpd"
   ]
  },
  {
   "cell_type": "code",
   "execution_count": 2,
   "id": "86991bac-39df-46df-873c-7ef0cabf1fdd",
   "metadata": {},
   "outputs": [],
   "source": [
    "product_path = r\"\\\\mapi_shares\\MNCDB\\צוות מידע\\תוצרים\\2023510_ncdb.gdb\""
   ]
  },
  {
   "cell_type": "code",
   "execution_count": 6,
   "id": "7d2b8740-bb8c-4155-aafc-5619a83864e3",
   "metadata": {},
   "outputs": [],
   "source": [
    "cpb_layer = gpd.read_file(product_path, layer = 'CadasterProcessBorders')"
   ]
  },
  {
   "cell_type": "code",
   "execution_count": 12,
   "id": "d8593d00-ae04-4914-b8c4-4d623ec40949",
   "metadata": {},
   "outputs": [
    {
     "data": {
      "text/plain": [
       "42"
      ]
     },
     "execution_count": 12,
     "metadata": {},
     "output_type": "execute_result"
    }
   ],
   "source": [
    "duplicated_processes = cpb_layer[cpb_layer.duplicated(subset = 'ProcessName', keep = False)].sort_values(['ProcessName', 'ProcessType'])"
   ]
  }
 ],
 "metadata": {
  "kernelspec": {
   "display_name": "Python 3",
   "language": "python",
   "name": "python3"
  },
  "language_info": {
   "codemirror_mode": {
    "name": "ipython",
    "version": 3
   },
   "file_extension": ".py",
   "mimetype": "text/x-python",
   "name": "python",
   "nbconvert_exporter": "python",
   "pygments_lexer": "ipython3",
   "version": "3.9.4"
  }
 },
 "nbformat": 4,
 "nbformat_minor": 5
}
