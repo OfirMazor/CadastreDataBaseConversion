{
 "cells": [
  {
   "cell_type": "markdown",
   "metadata": {
    "id": "DUN09mLPWCyQ"
   },
   "source": [
    "<h1 style=\"background-color:#FF7733;\n",
    "           font-family:segoe ui;\n",
    "                color:#FFF9ED;\n",
    "           font-size:300%;\n",
    "           text-align:center;\n",
    "           border-radius:10px 10px;\"> \n",
    "    🟣 תהליך יצירת נקודות גבול בתהליך לבנק\"ל מודרני 🟣\n",
    "    \n",
    "</h1>\n",
    "\n",
    "\n"
   ]
  },
  {
   "cell_type": "code",
   "execution_count": null,
   "metadata": {
    "id": "H3Hh6_YieoOB"
   },
   "outputs": [],
   "source": [
    "print('12. Parcel Border Points In-Process:')"
   ]
  },
  {
   "cell_type": "markdown",
   "metadata": {
    "id": "czwtSerkV4bm"
   },
   "source": [
    "<h1 style=\"text-align:right;\n",
    "           font-size:150%; color:#1c6ce6;\">\n",
    "ספריות"
   ]
  },
  {
   "cell_type": "code",
   "execution_count": null,
   "metadata": {
    "colab": {
     "base_uri": "https://localhost:8080/"
    },
    "id": "--pniOvVcA3M",
    "outputId": "c894fcf3-69c8-4735-ce27-a1fb3cf156ba"
   },
   "outputs": [],
   "source": [
    "import warnings\n",
    "warnings.filterwarnings('ignore')\n",
    "\n",
    "import numpy as np\n",
    "import pandas as pd\n",
    "import geopandas as gpd\n",
    "import datetime as dt\n",
    "import subprocess"
   ]
  },
  {
   "cell_type": "markdown",
   "metadata": {
    "id": "IsfOEGNjWO3s"
   },
   "source": [
    "<h1 style=\"text-align:right;\n",
    "           font-size:150%; color:#1c6ce6;\">\n",
    "    קריאת נתונים  "
   ]
  },
  {
   "cell_type": "code",
   "execution_count": null,
   "metadata": {
    "id": "zNbkPWjYe_kK"
   },
   "outputs": [],
   "source": [
    "print('  12.a Reading inputs')"
   ]
  },
  {
   "cell_type": "code",
   "execution_count": null,
   "metadata": {
    "id": "mbbDm6huOyl8"
   },
   "outputs": [],
   "source": [
    "RawData_folder = r\"\\\\mapi_shares\\MNCDB\\צוות מידע\\RawData\"\n",
    "\n",
    "today = dt.date.today()\n",
    "date_name = str(today.year) + str(today.month) + str(today.day) + '_ncdb.gdb'\n",
    "product_path = r'\\\\mapi_shares\\MNCDB\\צוות מידע\\תוצרים/' + date_name\n",
    "\n",
    "del [today, date_name]"
   ]
  },
  {
   "cell_type": "markdown",
   "metadata": {
    "id": "z4muO0GFWlmk"
   },
   "source": [
    "<h1 style=\"text-align:right;font-size:125%\">\n",
    "שכבת נקודת גבול בתהליך"
   ]
  },
  {
   "cell_type": "code",
   "execution_count": null,
   "metadata": {
    "id": "AWoz7oromfTJ"
   },
   "outputs": [],
   "source": [
    "points_inprocess_cols = ['POINT_NAME', 'ACCURACY', 'MARK_CODE', 'TALAR_NUM', 'TALAR_YEAR', 'USERNAME', 'ENTITY_STATE', 'geometry']\n",
    "\n",
    "points_inprocess = gpd.read_file(RawData_folder + '/CADSDE/Points_InProcess.gdb',\n",
    "                                 layer = 'Points_InProcess',\n",
    "                                 include_fields = points_inprocess_cols)\n",
    "\n",
    "del points_inprocess_cols\n",
    "\n",
    "print('         input 1/3 read')"
   ]
  },
  {
   "cell_type": "markdown",
   "metadata": {
    "id": "0ZKQQXrJWgzu"
   },
   "source": [
    "<h1 style=\"text-align:right;font-size:125%\">\n",
    "שכבת נקודת בקרה"
   ]
  },
  {
   "cell_type": "code",
   "execution_count": null,
   "metadata": {
    "id": "5-eJdTKPd7uh"
   },
   "outputs": [],
   "source": [
    "control_points = gpd.read_file(RawData_folder + '/CADSDE/CONTROL_POINTS.gdb',\n",
    "                               layer = 'CONTROL_POINTS',\n",
    "                               include_fields=['geometry'])\n",
    "\n",
    "del RawData_folder\n",
    "\n",
    "print('         input 2/3 read')"
   ]
  },
  {
   "cell_type": "markdown",
   "metadata": {},
   "source": [
    "<h1 style=\"text-align:right;font-size:125%\">\n",
    "שכבת גבולות תהליכי קדסטר"
   ]
  },
  {
   "cell_type": "code",
   "execution_count": null,
   "metadata": {
    "tags": []
   },
   "outputs": [],
   "source": [
    "cpb_cols = ['CPBUniqueID', 'ProcessName']\n",
    "\n",
    "cpb = gpd.read_file(product_path,\n",
    "                    layer = 'CadasterProcessBorders',\n",
    "                    include_fields = cpb_cols,\n",
    "                    ignore_geometry = True)\n",
    "\n",
    "del [cpb_cols, product_path]\n",
    "\n",
    "print('         input 3/3 read')"
   ]
  },
  {
   "cell_type": "markdown",
   "metadata": {
    "id": "h60plCVyXMQ5",
    "tags": []
   },
   "source": [
    "<h1 style=\"text-align:right; font-size:150%; color:#1c6ce6;\">\n",
    "    עיבוד נתוני נקודות בתהליך  "
   ]
  },
  {
   "cell_type": "code",
   "execution_count": null,
   "metadata": {
    "id": "CygRRrxHfPVR"
   },
   "outputs": [],
   "source": [
    "print('  12.b Cleaning data')"
   ]
  },
  {
   "cell_type": "markdown",
   "metadata": {},
   "source": [
    "<h1 style=\"text-align:right;font-size:100%\">\n",
    "מילוי ערכים חסרים בספרה 0"
   ]
  },
  {
   "cell_type": "code",
   "execution_count": null,
   "metadata": {},
   "outputs": [],
   "source": [
    "points_inprocess[['MARK_CODE', 'ACCURACY', 'TALAR_NUM', 'TALAR_YEAR']] = points_inprocess[['MARK_CODE', 'ACCURACY', 'TALAR_NUM', 'TALAR_YEAR']].fillna(0)\n",
    "points_inprocess[['MARK_CODE', 'ACCURACY', 'TALAR_NUM', 'TALAR_YEAR']] = points_inprocess[['MARK_CODE', 'ACCURACY', 'TALAR_NUM', 'TALAR_YEAR']].astype(int)"
   ]
  },
  {
   "cell_type": "code",
   "execution_count": null,
   "metadata": {
    "id": "4IpdUtgGfV3r"
   },
   "outputs": [],
   "source": [
    "print('  12.c Data conversion')"
   ]
  },
  {
   "cell_type": "markdown",
   "metadata": {},
   "source": [
    "<h1 style=\"text-align:right;font-size:100%\">\n",
    "מיזוג עם שכבת גבולות תהליכי קדסטר מודרנית לקבלת מספר מזהה של התהליך שיצר/עידכן את הנקודה"
   ]
  },
  {
   "cell_type": "code",
   "execution_count": null,
   "metadata": {},
   "outputs": [],
   "source": [
    "points_inprocess['ProcessName'] = points_inprocess['TALAR_NUM'].astype(str) + '/' + points_inprocess['TALAR_YEAR'].astype(str) \n",
    "\n",
    "points_inprocess = points_inprocess.merge(right = cpb, on = 'ProcessName', how = 'left')\n",
    "points_inprocess['CPBUniqueID'] = points_inprocess['CPBUniqueID'].astype('Int64')\n",
    "\n",
    "points_inprocess.drop(columns = ['TALAR_NUM', 'TALAR_YEAR', 'ProcessName'], inplace = True)\n",
    "del cpb"
   ]
  },
  {
   "cell_type": "markdown",
   "metadata": {
    "id": "h60plCVyXMQ5"
   },
   "source": [
    "<h1 style=\"text-align:right;font-size:100%\">\n",
    "תיקון ערכים של מעמד הנקודה לערכים 1 או 2"
   ]
  },
  {
   "cell_type": "code",
   "execution_count": null,
   "metadata": {},
   "outputs": [],
   "source": [
    "points_inprocess['ENTITY_STATE'] = points_inprocess['ENTITY_STATE'] + 1\n",
    "points_inprocess['ENTITY_STATE'].replace(3, 1, inplace=True)\n",
    "points_inprocess.fillna(1, inplace=True)\n",
    "\n",
    "points_inprocess.rename(columns = {'ENTITY_STATE' : 'PointStatus'}, inplace = True)\n",
    "points_inprocess['PointStatus'] = points_inprocess['PointStatus'].astype(int)"
   ]
  },
  {
   "cell_type": "markdown",
   "metadata": {},
   "source": [
    "<h1 style=\"text-align:right;font-size:100%\">\n",
    ":מיפוי ערכי סימון נקודת גבול\n",
    "<h1 style=\"text-align:right;font-size:100%\">\n",
    "הגדרת מילון מיפוי\n",
    "<h1 style=\"text-align:right;font-size:100%\">\n",
    "יצירת שדה חדש עם ערכים חדשים, אם חסר יאוכלס בספרה 0\n",
    "<h1 style=\"text-align:right;font-size:100%\">\n",
    "הגדרת השדה כמספר שלם"
   ]
  },
  {
   "cell_type": "code",
   "execution_count": null,
   "metadata": {},
   "outputs": [],
   "source": [
    "MARK_classifier = {0  : 0,\n",
    "                   1  : 1,\n",
    "                   2  : 2,\n",
    "                   3  : 3,\n",
    "                   4  : 4,\n",
    "                   5  : 5,\n",
    "                   6  : 6,\n",
    "                   7  : 7,\n",
    "                   8  : 8,\n",
    "                   9  : 9,\n",
    "                   10 : 10,\n",
    "                   11 : 11,\n",
    "                   12 : 12,\n",
    "                   13 : 13,\n",
    "                   14 : 14,\n",
    "                   15 : 0,\n",
    "                   20 : 20,\n",
    "                   None : 0}\n",
    "\n",
    "points_inprocess['MarkCode'] = points_inprocess['MARK_CODE'].map(MARK_classifier)\n",
    "points_inprocess['MarkCode'] = points_inprocess['MarkCode'].fillna(0)\n",
    "points_inprocess['MarkCode'] = points_inprocess['MarkCode'].astype(int)\n",
    "\n",
    "points_inprocess.drop(columns = 'MARK_CODE', inplace = True)\n",
    "del MARK_classifier"
   ]
  },
  {
   "cell_type": "markdown",
   "metadata": {},
   "source": [
    "<h1 style=\"text-align:right;font-size:100%\">\n",
    ":התניית נקודת בקרה כנקודת גבול\n",
    "<h1 style=\"text-align:right;font-size:100%\">\n",
    "איחוד מרחבי עם שכבת נקודות בקרה\n",
    "<h1 style=\"text-align:right;font-size:100%\">\n",
    "קבלת שדה שעונה לנקודות גבול שהן גם נקודות בקרה"
   ]
  },
  {
   "cell_type": "code",
   "execution_count": null,
   "metadata": {},
   "outputs": [],
   "source": [
    "control_points['IsControlBorder'] = 1\n",
    "\n",
    "points_inprocess = gpd.sjoin(left_df = points_inprocess, right_df = control_points,\n",
    "                             how = 'left',\n",
    "                             predicate = 'intersects')\n",
    "\n",
    "points_inprocess['IsControlBorder'] = points_inprocess['IsControlBorder'].fillna(0)\n",
    "points_inprocess['IsControlBorder'] = points_inprocess['IsControlBorder'].astype(int)\n",
    "\n",
    "points_inprocess.drop(columns = 'index_right', inplace = True)\n",
    "del control_points"
   ]
  },
  {
   "cell_type": "markdown",
   "metadata": {},
   "source": [
    "<h1 style=\"text-align:right;font-size:100%\">\n",
    ":התניית מקור נקודת גבול\n",
    "<h1 style=\"text-align:right;font-size:100%\">\n",
    "הגדרת תנאי כאשר כל הנקודת בעלות סיווג קיים גדול מ-0 ותנאי תלוי בשם משתמש\n",
    "<h1 style=\"text-align:right;font-size:100%\">\n",
    "יצירת שדות לשני התנאים שמתארים אם הערכים הרצויים מהתנאי\n",
    "<h1 style=\"text-align:right;font-size:100%\">\n",
    "יצירת שדה אחד למקור הנקודה שעונה לשני התנאים"
   ]
  },
  {
   "cell_type": "code",
   "execution_count": null,
   "metadata": {},
   "outputs": [],
   "source": [
    "points_inprocess['ACCURACY'] = points_inprocess['ACCURACY'].fillna(0)\n",
    "\n",
    "CAD_Sourced_cond = ~points_inprocess['ACCURACY'].isin([0, None, np.nan])\n",
    "SRV_Sourced_cond = points_inprocess['USERNAME'].isin(['shay', 'yaronl'])\n",
    "\n",
    "\n",
    "points_inprocess['isCAD'] = np.where(CAD_Sourced_cond, 5, None)\n",
    "points_inprocess['isSRV'] = np.where(SRV_Sourced_cond, 4, None)\n",
    "\n",
    "points_inprocess['DataSource'] = points_inprocess['isCAD'].fillna(points_inprocess['isSRV'])\n",
    "points_inprocess['DataSource'] = points_inprocess['DataSource'].fillna(3)\n",
    "points_inprocess['DataSource'] = points_inprocess['DataSource'].astype(int)\n",
    "\n",
    "\n",
    "points_inprocess.drop(columns = ['USERNAME', 'isCAD', 'isSRV'], inplace = True)\n",
    "del CAD_Sourced_cond, SRV_Sourced_cond"
   ]
  },
  {
   "cell_type": "markdown",
   "metadata": {},
   "source": [
    "<h1 style=\"text-align:right;font-size:100%\">\n",
    "הגדרת שדה שם נקודה לפי ערכים קיימים "
   ]
  },
  {
   "cell_type": "code",
   "execution_count": null,
   "metadata": {},
   "outputs": [],
   "source": [
    "points_inprocess.rename(columns = {'POINT_NAME' : 'PointName'}, inplace = True)"
   ]
  },
  {
   "cell_type": "markdown",
   "metadata": {},
   "source": [
    "<h1 style=\"text-align:right;font-size:125%\">\n",
    ":התניית ומיפוי ערכי סיווג לנקודת הגבול\n",
    "<h1 style=\"text-align:right;font-size:100%\">\n",
    "ACCURACY מיפוי לפי שדה קיים  "
   ]
  },
  {
   "cell_type": "code",
   "execution_count": null,
   "metadata": {
    "id": "COUlwC1BJzIz"
   },
   "outputs": [],
   "source": [
    "ACCURACY_classifier = {0    : 24,\n",
    "                       1    : 1,\n",
    "                       2    : 13,\n",
    "                       3    : 13,\n",
    "                       4    : 13,\n",
    "                       5    : 13,\n",
    "                       6    : 24,\n",
    "                       7    : 24,\n",
    "                       8    : 24,\n",
    "                       9    : 24,\n",
    "                       12   : 12,\n",
    "                       13   : 13,\n",
    "                       24   : 24,\n",
    "                       None : 24}\n",
    "\n",
    "points_inprocess['Class'] = points_inprocess['ACCURACY'].map(ACCURACY_classifier)\n",
    "points_inprocess['Class'] = points_inprocess['Class'].fillna(24)\n",
    "points_inprocess['Class'] = points_inprocess['Class'].astype(int)\n",
    "\n",
    "\n",
    "points_inprocess.drop(columns = 'ACCURACY', inplace = True)\n",
    "del ACCURACY_classifier"
   ]
  },
  {
   "cell_type": "markdown",
   "metadata": {},
   "source": [
    "<h1 style=\"text-align:right;font-size:100%\">\n",
    "הגדרת כל הנקודות כנקודות דו-ממדיות "
   ]
  },
  {
   "cell_type": "code",
   "execution_count": null,
   "metadata": {},
   "outputs": [],
   "source": [
    "points_inprocess['Is3D'] = 0\n",
    "points_inprocess['Is3D'] = points_inprocess['Is3D'].astype(int)"
   ]
  },
  {
   "cell_type": "markdown",
   "metadata": {},
   "source": [
    "<h1 style=\"text-align:right;font-size:100%\">\n",
    "יצירת שדה של מספר מזהה לנקודת גבול בתהליך"
   ]
  },
  {
   "cell_type": "code",
   "execution_count": null,
   "metadata": {},
   "outputs": [],
   "source": [
    "coefficient = 20000000\n",
    "EndID       = len(points_inprocess)+1\n",
    "\n",
    "points_inprocess['PointUniqueID'] = np.arange(1, EndID) + coefficient\n",
    "points_inprocess['PointUniqueID'] = points_inprocess['PointUniqueID'].astype(int)\n",
    "\n",
    "del [coefficient, EndID]"
   ]
  },
  {
   "cell_type": "code",
   "execution_count": null,
   "metadata": {
    "id": "I8U1H2fBfiSb"
   },
   "outputs": [],
   "source": [
    "print('  12.d Defining new Layer')"
   ]
  },
  {
   "cell_type": "markdown",
   "metadata": {},
   "source": [
    "<h1 style=\"text-align:right;font-size:100%\">\n",
    "וידוא שהשכבה תישמר ברשת קואורדניטות של ישראל"
   ]
  },
  {
   "cell_type": "code",
   "execution_count": null,
   "metadata": {
    "id": "b2nFu5IPiOMk"
   },
   "outputs": [],
   "source": [
    "points_inprocess.set_geometry('geometry', crs = 2039, inplace = True)"
   ]
  },
  {
   "cell_type": "markdown",
   "metadata": {
    "id": "yiS_NEsPeH-j"
   },
   "source": [
    "<h1 style=\"text-align:right; font-size:150%; color:#1c6ce6;\"> \n",
    "שמירת תוצאות\n",
    "<h1 style=\"text-align:right;font-size:100%\">\n",
    "בחירת נתיב \n",
    "<h1 style=\"text-align:right;font-size:100%\">\n",
    "שמירה כשכבה גיאוגרפית"
   ]
  },
  {
   "cell_type": "code",
   "execution_count": null,
   "metadata": {
    "id": "O4E6QE8Dfoxp"
   },
   "outputs": [],
   "source": [
    "print('  12.e Exporting results to product folder')"
   ]
  },
  {
   "cell_type": "code",
   "execution_count": null,
   "metadata": {
    "id": "qyADbmlgiA2R"
   },
   "outputs": [],
   "source": [
    "json_dir = r'\\\\mapi_shares\\MNCDB\\צוות מידע\\תוצרים\\json\\BorderPointsInProcess.geojson'\n",
    "\n",
    "points_inprocess.to_file(json_dir, driver = 'GeoJSON')"
   ]
  },
  {
   "cell_type": "code",
   "execution_count": null,
   "metadata": {},
   "outputs": [],
   "source": [
    "subprocess.call([r\"M:\\ncdbScripts\\scripts\\arcpyPro\\BorderPoints_InProcess-Save as Feature Class.bat\"])"
   ]
  }
 ],
 "metadata": {
  "colab": {
   "collapsed_sections": [],
   "name": "Points In-Process.ipynb",
   "provenance": []
  },
  "kernelspec": {
   "display_name": "Python 3",
   "language": "python",
   "name": "python3"
  },
  "language_info": {
   "codemirror_mode": {
    "name": "ipython",
    "version": 3
   },
   "file_extension": ".py",
   "mimetype": "text/x-python",
   "name": "python",
   "nbconvert_exporter": "python",
   "pygments_lexer": "ipython3",
   "version": "3.9.4"
  }
 },
 "nbformat": 4,
 "nbformat_minor": 4
}
