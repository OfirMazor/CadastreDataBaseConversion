{
 "cells": [
  {
   "cell_type": "markdown",
   "id": "83fd3187-6359-45c3-99d2-c60742168cf1",
   "metadata": {},
   "source": [
    "<h1 style=\"background-color:#1c6ce6;\n",
    "           font-family:segoe ui;\n",
    "                color:#FFF9ED;\n",
    "           font-size:300%;\n",
    "           text-align:center;\n",
    "           border-radius:10px 10px;\"> \n",
    "✍🏽 תהליך הסבת שכבת גבולות תכניות לצרכי רישום לבנק\"ל מודרני ✍🏽 "
   ]
  },
  {
   "cell_type": "code",
   "execution_count": null,
   "id": "e4638bb9-67d4-4864-aa63-c6ae63b18d0f",
   "metadata": {},
   "outputs": [],
   "source": [
    "print('4. Tazar borders:')"
   ]
  },
  {
   "cell_type": "markdown",
   "id": "5926947f-abc6-4089-bd3b-bfbdf77f1f77",
   "metadata": {},
   "source": [
    "<h1 style=\"text-align:right; font-size:150%; color:#1c6ce6;\">\n",
    "ספריות 📚"
   ]
  },
  {
   "cell_type": "code",
   "execution_count": null,
   "id": "5eaec6c1-185f-4bdd-8bc3-b878dc795189",
   "metadata": {},
   "outputs": [],
   "source": [
    "import warnings\n",
    "warnings.filterwarnings('ignore')\n",
    "\n",
    "import numpy as np\n",
    "import pandas as pd\n",
    "import geopandas as gpd\n",
    "import datetime as dt\n",
    "import subprocess"
   ]
  },
  {
   "cell_type": "markdown",
   "id": "e9975592-6b6c-46eb-839d-448e5023bb57",
   "metadata": {},
   "source": [
    "<h1 style=\"text-align:right; font-size:150%; color:#1c6ce6;\">קריאת נתונים 📑 "
   ]
  },
  {
   "cell_type": "code",
   "execution_count": null,
   "id": "3e5b1ea5-425d-4529-81ee-38567479d382",
   "metadata": {},
   "outputs": [],
   "source": [
    "print('  4.a Reading inputs')"
   ]
  },
  {
   "cell_type": "code",
   "execution_count": null,
   "id": "f0f542c6-bcdb-42d3-b630-d05c00644da6",
   "metadata": {},
   "outputs": [],
   "source": [
    "RawData_folder = r'\\\\mapi_shares\\MNCDB\\צוות מידע\\RawData/'\n",
    "\n",
    "today =  dt.date.today()\n",
    "date_name =  str(today.year) + str(today.month) + str(today.day) + '_ncdb.gdb'\n",
    "product_path = r'\\\\mapi_shares\\MNCDB\\צוות מידע\\תוצרים/' + date_name"
   ]
  },
  {
   "cell_type": "markdown",
   "id": "78414c95-c91c-4062-9788-ea79e5709ae7",
   "metadata": {},
   "source": [
    "<h1 style=\"text-align:right;font-size:100%\">\n",
    "טבלת תצ\"ר"
   ]
  },
  {
   "cell_type": "code",
   "execution_count": null,
   "id": "c2343eae-9cf7-439d-a1c5-b45557cac971",
   "metadata": {},
   "outputs": [],
   "source": [
    "tazar_table_cols = ['TALAR_ID', 'TALAR_NUM', 'TALAR_YEAR', 'TALAR_SOURCE', 'STATUS', 'SURVEYOR', 'GUSH_NUM', 'GUSH_SUFFIX']\n",
    "\n",
    "tazar_table_schema = {'TALAR_ID'     : int,\n",
    "                      'TALAR_NUM'    : int,\n",
    "                      'TALAR_YEAR'   : int,\n",
    "                      'TALAR_SOURCE' : int,\n",
    "                      'STATUS'       : int,\n",
    "                      'SURVEYOR'     : int,\n",
    "                      'GUSH_NUM'     : int,\n",
    "                      'GUSH_SUFFIX'  : int}\n",
    "\n",
    "tazar_table = pd.read_excel(RawData_folder + 'CADSDE\\\\talar_export.xlsx',\n",
    "                            usecols = tazar_table_cols,\n",
    "                            converters = tazar_table_schema)\n",
    "\n",
    "\n",
    "\n",
    "del [tazar_table_cols, tazar_table_schema]"
   ]
  },
  {
   "cell_type": "markdown",
   "id": "818de506-5006-4887-ab51-b0d0eee5b506",
   "metadata": {},
   "source": [
    "<h1 style=\"text-align:right;font-size:100%\">\n",
    "CMS טבלת"
   ]
  },
  {
   "cell_type": "code",
   "execution_count": null,
   "id": "f824590a-69eb-481b-8f98-519a9f36b0fb",
   "metadata": {},
   "outputs": [],
   "source": [
    "tazar_cms_cols = ['tazar_num', 'tazar_year']\n",
    "\n",
    "tazar_cms = pd.read_excel(RawData_folder + 'Local\\\\cms.xlsx',\n",
    "                          usecols=tazar_cms_cols)\n",
    "\n",
    "tazar_cms.columns = ['TALAR_NUM', 'TALAR_YEAR']\n",
    "\n",
    "\n",
    "del tazar_cms_cols"
   ]
  },
  {
   "cell_type": "markdown",
   "id": "6fd482ac-c788-4584-8774-0e86471d11fc",
   "metadata": {},
   "source": [
    "<h1 style=\"text-align:right;font-size:100%\">\n",
    "טבלת תצ\"ר עם קידומת"
   ]
  },
  {
   "cell_type": "code",
   "execution_count": null,
   "id": "362b1509-d903-4eb6-925d-75c6cb00f8f8",
   "metadata": {},
   "outputs": [],
   "source": [
    "tazar_kidomet_cols = ['TALAR_NUM', 'TALAR_YEAR', 'KIDOMET_TALAR', 'TALAR_ID_TAL']\n",
    "\n",
    "tazar_kidomet_schema = {'TALAR_NUM'    : int,\n",
    "                        'TALAR_YEAR'   : int,\n",
    "                        'KIDOMET_TALAR': str,\n",
    "                        'TALAR_ID_TAL' : int}\n",
    "\n",
    "tazar_kidomet = pd.read_csv(RawData_folder + 'Local\\\\KIDOMET_TALAR.csv',\n",
    "                            usecols = tazar_kidomet_cols,\n",
    "                            converters = tazar_kidomet_schema,\n",
    "                            encoding = 'cp1255')\n",
    "\n",
    "\n",
    "del [tazar_kidomet_cols, tazar_kidomet_schema]"
   ]
  },
  {
   "cell_type": "markdown",
   "id": "9c529f75-356c-4d53-8850-542b3048b726",
   "metadata": {},
   "source": [
    "<h1 style=\"text-align:right;font-size:100%\">\n",
    "טבלת תצ\"ר בתהליך"
   ]
  },
  {
   "cell_type": "code",
   "execution_count": null,
   "id": "cfffe858-b7a2-4dfa-9dff-5e109b456adf",
   "metadata": {},
   "outputs": [],
   "source": [
    "general_inProcess_cols = ['TALAR_NUM', 'TALAR_YEAR', 'CADASTER_PROCESS', 'GUSHNUM', 'GUSHSUFFIX', 'SURVEYOR', 'TABA_NAMES']\n",
    "\n",
    "general_inProcess_schema = {'TALAR_NUM'       : int,\n",
    "                            'TALAR_YEAR'      : int,\n",
    "                            'CADASTER_PROCESS': int,\n",
    "                            'GUSHNUM'         : int,\n",
    "                            'GUSHSUFFIX'      : int,\n",
    "                            'SURVEYOR'        : int,\n",
    "                            'TABA_NAMES'      : str}\n",
    "\n",
    "general_inProcess = pd.read_excel(RawData_folder + 'Oracle\\\\general_inProcess.xlsx',\n",
    "                                  usecols = general_inProcess_cols,\n",
    "                                  converters = general_inProcess_schema)\n",
    "\n",
    "general_inProcess.rename(columns={'GUSHNUM':'GUSH_NUM', 'GUSHSUFFIX':'GUSH_SUFFIX', 'TABA_NAMES':'PlanName'}, inplace=True)\n",
    "\n",
    "\n",
    "del [general_inProcess_cols, general_inProcess_schema]"
   ]
  },
  {
   "cell_type": "markdown",
   "id": "cd950920-dd81-4f0f-8ac2-ef84cad0a3bd",
   "metadata": {},
   "source": [
    "<h1 style=\"text-align:right;font-size:100%\">\n",
    "שכבת גבולות תצ\"ר"
   ]
  },
  {
   "cell_type": "code",
   "execution_count": null,
   "id": "622d72db-b8ec-4473-ba73-309be662a4a1",
   "metadata": {},
   "outputs": [],
   "source": [
    "tazar_border_cols = ['GUSH_NUM', 'GUSH_SUFFIX', 'SURVEYOR', 'STATUS_TEXT', 'STATUS', 'TALAR_SOURCE', 'TALAR_YEAR', 'TALAR_NUM', 'TALAR_ID', 'geometry']\n",
    "\n",
    "tazar_border_schema = {'GUSH_NUM'    : int,\n",
    "                       'GUSH_SUFFIX' : int,\n",
    "                       'SURVEYOR'    : int,\n",
    "                       'STATUS_TEXT' : str,\n",
    "                       'STATUS'      : int,\n",
    "                       'TALAR_SOURCE': int,\n",
    "                       'TALAR_YEAR'  : int,\n",
    "                       'TALAR_NUM'   : int,\n",
    "                       'TALAR_ID'    : int}\n",
    "\n",
    "tazar_border = gpd.read_file(RawData_folder + 'CADSDE\\\\TALAR.gdb',\n",
    "                             layer = 'TALAR',\n",
    "                             include_fields = tazar_border_cols)\n",
    "\n",
    "tazar_border = tazar_border[~tazar_border['TALAR_NUM'].isna()]\n",
    "\n",
    "\n",
    "tazar_border.fillna({col:0 for col in ['GUSH_NUM','GUSH_SUFFIX','SURVEYOR','STATUS','TALAR_SOURCE','TALAR_YEAR','TALAR_NUM','TALAR_ID']}, inplace=True)\n",
    "\n",
    "tazar_border = tazar_border.astype(tazar_border_schema)\n",
    "\n",
    "\n",
    "del [tazar_border_cols, tazar_border_schema]"
   ]
  },
  {
   "cell_type": "markdown",
   "id": "7b4af52d-6f8b-47ea-bdc3-e035f572f80a",
   "metadata": {},
   "source": [
    "<h1 style=\"text-align:right;font-size:100%\">\n",
    "שכבת גבולות תצ\"ר טבלאיות"
   ]
  },
  {
   "cell_type": "code",
   "execution_count": null,
   "id": "33e592d0-b80f-4b56-be28-9a0274212358",
   "metadata": {},
   "outputs": [],
   "source": [
    "tazar_tabular_border_cols = ['SOURCE', 'STATUS_TEXT', 'STATUS', 'TALAR_YEAR', 'TALAR_NUM', 'TALAR_ID', 'GUSH_SUFFIX', 'GUSH_NUM', 'geometry']\n",
    "\n",
    "tazar_tabular_border = gpd.read_file(RawData_folder + 'CADSDE\\\\TALAR_TABLE.gdb',\n",
    "                                     layer = 'TALAR_TABLE',\n",
    "                                     include_fields = tazar_tabular_border_cols)\n",
    "\n",
    "\n",
    "del [tazar_tabular_border_cols]"
   ]
  },
  {
   "cell_type": "markdown",
   "id": "b5aef270-db6a-4de6-8a10-80fd85f8835c",
   "metadata": {},
   "source": [
    "<h1 style=\"text-align:right;font-size:100%\">\n",
    "שכבת גבולות תצ\"ר בתהליך"
   ]
  },
  {
   "cell_type": "code",
   "execution_count": null,
   "id": "08db7cd7-5059-4af2-acc8-0666df467e1d",
   "metadata": {},
   "outputs": [],
   "source": [
    "tazar_inprocess_cols = ['GUSHSUFFIX', 'GUSHNUM', 'TALAR_YEAR', 'TALAR_NUM', 'CADASTER_PROCESS', 'geometry']\n",
    "\n",
    "tazar_inprocess = gpd.read_file(RawData_folder + 'CADSDE\\\\CadasterProcessBorder.gdb',\n",
    "                                layer = 'CadasterProcessBorder',\n",
    "                                include_fields = tazar_inprocess_cols)\n",
    "\n",
    "tazar_inprocess.rename(columns={'GUSHNUM':'GUSH_NUM', 'GUSHSUFFIX':'GUSH_SUFFIX'}, inplace=True)\n",
    "\n",
    "tazar_inprocess = tazar_inprocess[tazar_inprocess['CADASTER_PROCESS'] == 2]\n",
    "tazar_inprocess.drop(columns=['CADASTER_PROCESS'], inplace=True)\n",
    "\n",
    "\n",
    "del tazar_inprocess_cols"
   ]
  },
  {
   "cell_type": "markdown",
   "id": "bdf2f678-e6e0-4619-8c2b-221d505d11f2",
   "metadata": {},
   "source": [
    "<h1 style=\"text-align:right;font-size:100%\">\n",
    "שכבת גבולות גושי קדסטר מודרניים"
   ]
  },
  {
   "cell_type": "code",
   "execution_count": null,
   "id": "e05606bd-3a50-49ac-a2f1-5674aed2eb80",
   "metadata": {},
   "outputs": [],
   "source": [
    "Blocks_cols = ['BlockNumber', 'SubBlockNumber', 'BlockUniqueID']\n",
    "\n",
    "Blocks = gpd.read_file(product_path,\n",
    "                       layer='Blocks',\n",
    "                       include_fields = Blocks_cols,\n",
    "                       ignore_geometry = True)\n",
    "\n",
    "Blocks = Blocks.astype(int)\n",
    "\n",
    "\n",
    "del[Blocks_cols, RawData_folder, today, date_name, product_path]"
   ]
  },
  {
   "cell_type": "markdown",
   "id": "e35f3d6a-1efc-4a5a-8ee1-786edf05b2d2",
   "metadata": {},
   "source": [
    "<h1 style=\"text-align:right; font-size:150%; color:#1c6ce6;\">\n",
    "עיבוד נתונים 🛠️"
   ]
  },
  {
   "cell_type": "code",
   "execution_count": null,
   "id": "78229294-2525-4379-abc4-9147c37e5584",
   "metadata": {},
   "outputs": [],
   "source": [
    "print('  4.b Cleaning data')"
   ]
  },
  {
   "cell_type": "markdown",
   "id": "9d504a26-ed5d-4b9b-90fc-9d6dba37db8b",
   "metadata": {},
   "source": [
    "<h1 style=\"text-align:right; font-size:100%\">\n",
    "cms הסרת רשומות ללא מספר אליפסה מטבלת"
   ]
  },
  {
   "cell_type": "code",
   "execution_count": null,
   "id": "363c366e-c4bf-49d0-8bd6-541aca9a31b7",
   "metadata": {},
   "outputs": [],
   "source": [
    "tazar_cms.dropna(subset=['TALAR_NUM'], inplace=True)"
   ]
  },
  {
   "cell_type": "markdown",
   "id": "2341729e-65d0-4924-ac59-10fee877d4e2",
   "metadata": {},
   "source": [
    "<h1 style=\"text-align:right; font-size:100%\">\n",
    "סינון תהליכים שאינם תצ\"ר מטבלת תהליכים כללית כאשר סוג תהליך של תצ\"ר הוא 2"
   ]
  },
  {
   "cell_type": "code",
   "execution_count": null,
   "id": "bbebe5ad-7ce5-4f7e-9e96-17bbae9686c4",
   "metadata": {},
   "outputs": [],
   "source": [
    "general_inProcess = general_inProcess[general_inProcess['CADASTER_PROCESS'] == 2]"
   ]
  },
  {
   "cell_type": "markdown",
   "id": "f9dc0e36-6141-45ef-a650-38a2a6dd6a53",
   "metadata": {},
   "source": [
    "<h1 style=\"text-align:right; font-size:100%\">\n",
    "הסרת מספרי אלפיסה שאינם תקינים"
   ]
  },
  {
   "cell_type": "code",
   "execution_count": null,
   "id": "6517fbdf-79d4-416f-a24b-c23f57345d71",
   "metadata": {},
   "outputs": [],
   "source": [
    "elipse_min = 1\n",
    "elipse_max = 4000\n",
    "\n",
    "tazar_table = tazar_table[tazar_table['TALAR_NUM'].between(elipse_min, elipse_max)]\n",
    "tazar_cms = tazar_cms[tazar_cms['TALAR_NUM'].between(elipse_min, elipse_max)]\n",
    "tazar_kidomet = tazar_kidomet[tazar_kidomet['TALAR_NUM'].between(elipse_min, elipse_max)]\n",
    "general_inProcess = general_inProcess[general_inProcess['TALAR_NUM'].between(elipse_min, elipse_max)]\n",
    "tazar_border = tazar_border[tazar_border['TALAR_NUM'].between(elipse_min, elipse_max)]\n",
    "tazar_tabular_border = tazar_tabular_border[tazar_tabular_border['TALAR_NUM'].between(elipse_min, elipse_max)]\n",
    "tazar_inprocess = tazar_inprocess[tazar_inprocess['TALAR_NUM'].between(elipse_min, elipse_max)]\n",
    "\n",
    "\n",
    "del[elipse_min, elipse_max]"
   ]
  },
  {
   "cell_type": "markdown",
   "id": "6637345d-1c59-4ca1-a884-cc92c4a1ae0c",
   "metadata": {},
   "source": [
    "<h1 style=\"text-align:right; font-size:100%\">\n",
    "הסרת רשומות עם כפילויות (לכל מקורות המידע)"
   ]
  },
  {
   "cell_type": "code",
   "execution_count": null,
   "id": "c8326bd9-72c7-4931-9aaf-c787c46ab87a",
   "metadata": {},
   "outputs": [],
   "source": [
    "tazar_table.drop_duplicates(keep = 'last', inplace=True)\n",
    "tazar_cms.drop_duplicates(keep = 'last', inplace=True)\n",
    "tazar_kidomet.drop_duplicates(keep = 'last', inplace=True)\n",
    "general_inProcess.drop_duplicates(keep = 'last', inplace=True)\n",
    "tazar_border.drop_duplicates(keep = 'last', inplace=True)\n",
    "tazar_tabular_border.drop_duplicates(keep = 'last', inplace=True)\n",
    "tazar_inprocess.drop_duplicates(keep = 'last', inplace=True)"
   ]
  },
  {
   "cell_type": "markdown",
   "id": "bde0868b-ee2b-4acb-a35a-c209efd607f1",
   "metadata": {},
   "source": [
    "<h1 style=\"text-align:right; font-size:100%\">\n",
    "טיפול בכפילויות של מספר מזהה (עבור גבולות תצ\"ר בלבד) "
   ]
  },
  {
   "cell_type": "code",
   "execution_count": null,
   "id": "403f284b-601c-48f0-b59e-2d8fd2d9bb20",
   "metadata": {},
   "outputs": [],
   "source": [
    "tazar_border.drop_duplicates(subset=['TALAR_ID'], keep='first', inplace=True) "
   ]
  },
  {
   "cell_type": "markdown",
   "id": "8fc09dfb-8ff7-4213-9e3c-33c999f2b2eb",
   "metadata": {},
   "source": [
    "<h1 style=\"text-align:right; font-size:125%\">\n",
    ":איחוד מקורות טבלאיים"
   ]
  },
  {
   "cell_type": "code",
   "execution_count": null,
   "id": "c5965d39-b323-4221-b417-2f0d9d8f55a8",
   "metadata": {},
   "outputs": [],
   "source": [
    "print('  4.c Data conversion')"
   ]
  },
  {
   "cell_type": "markdown",
   "id": "002f5681-1d7c-40f7-89d6-1bb6d00686f0",
   "metadata": {},
   "source": [
    "<h1 style=\"text-align:right; font-size:100%\">\n",
    "הוספת שדה מקשר של מספר אליפסה מלא לצורך מיזוג"
   ]
  },
  {
   "cell_type": "code",
   "execution_count": null,
   "id": "cce7130c-5ea3-4ab2-9af3-ecd833e69970",
   "metadata": {},
   "outputs": [],
   "source": [
    "tazar_table['ProcessName'] = tazar_table['TALAR_NUM'].astype('str') + '/' + tazar_table['TALAR_YEAR'].astype('str')\n",
    "tazar_cms['ProcessName'] = tazar_cms['TALAR_NUM'].astype('str') + '/' + tazar_cms['TALAR_YEAR'].astype('str')\n",
    "tazar_kidomet['ProcessName'] = tazar_kidomet['TALAR_NUM'].astype('str') + '/' + tazar_kidomet['TALAR_YEAR'].astype('str')\n",
    "general_inProcess['ProcessName'] = general_inProcess['TALAR_NUM'].astype('str') + '/' + general_inProcess['TALAR_YEAR'].astype('str')\n",
    "tazar_border['ProcessName'] = tazar_border['TALAR_NUM'].astype('str') + '/' + tazar_border['TALAR_YEAR'].astype('str')\n",
    "tazar_tabular_border['ProcessName'] = tazar_tabular_border['TALAR_NUM'].astype('str') + '/' + tazar_tabular_border['TALAR_YEAR'].astype('str')\n",
    "tazar_inprocess['ProcessName'] = tazar_inprocess['TALAR_NUM'].astype('str') + '/' + tazar_inprocess['TALAR_YEAR'].astype('str')"
   ]
  },
  {
   "cell_type": "markdown",
   "id": "02146f1c-c060-40dc-b9bb-6d897b22df86",
   "metadata": {},
   "source": [
    "<h1 style=\"text-align:right; font-size:100%\">\n",
    "האיחוד יוצר טבלה אחת גדולה של כל רשומות הטבלאות והשכבות הקיימות"
   ]
  },
  {
   "cell_type": "code",
   "execution_count": null,
   "id": "89e7f50d-c58a-4b15-8432-c19e516cfa10",
   "metadata": {},
   "outputs": [],
   "source": [
    "tablesMerge = tazar_border.append(tazar_table, ignore_index=True)\n",
    "tablesMerge = tablesMerge.append(general_inProcess, ignore_index=True)\n",
    "tablesMerge = tablesMerge.append(tazar_cms, ignore_index=True)\n",
    "tablesMerge = tablesMerge.append(tazar_kidomet, ignore_index=True)\n",
    "tablesMerge = tablesMerge.append(tazar_tabular_border, ignore_index=True)\n",
    "tablesMerge = tablesMerge.append(tazar_inprocess, ignore_index=True)\n",
    "\n",
    "tablesMerge.sort_values(['TALAR_NUM', 'TALAR_YEAR', 'STATUS'], inplace=True)"
   ]
  },
  {
   "cell_type": "markdown",
   "id": "028e0c74-308c-46c2-a735-2b86650e17ad",
   "metadata": {},
   "source": [
    "<h1 style=\"text-align:right; font-size:125%\">\n",
    ":קיבוץ טבלה\n",
    "<h1 style=\"text-align:right; font-size:100%\">\n",
    "הקיבוץ יאחד כל תצ\"ר לפי מספר האליפסה וישמור לכל תצ\"ר את הערך הנכון בשדות"
   ]
  },
  {
   "cell_type": "code",
   "execution_count": null,
   "id": "674604a0-f4d6-4782-a1c0-9e5f6f0fa140",
   "metadata": {},
   "outputs": [],
   "source": [
    "group_agg = {'GUSH_SUFFIX'      : 'max',\n",
    "             'GUSH_NUM'         : 'max',\n",
    "             'SURVEYOR'         : 'max',\n",
    "             'STATUS_TEXT'      : 'last',\n",
    "             'STATUS'           : 'max',\n",
    "             'TALAR_SOURCE'     : 'max',\n",
    "             'TALAR_YEAR'       : 'max',\n",
    "             'TALAR_NUM'        : 'max',\n",
    "             'geometry'         : 'first',\n",
    "             'ProcessName'      : 'first',\n",
    "             'TALAR_ID'         : 'max',\n",
    "             'CADASTER_PROCESS' : 'max',\n",
    "             'PlanName'         : 'first',\n",
    "             'SOURCE'           : 'max'}\n",
    "\n",
    "tables_group = tablesMerge.groupby(by='ProcessName', as_index=False, dropna=False).agg(group_agg).sort_values(['TALAR_NUM', 'TALAR_YEAR'])\n",
    "\n",
    "del group_agg"
   ]
  },
  {
   "cell_type": "markdown",
   "id": "53c2dfce-e225-43d4-86bf-8a53394a6e30",
   "metadata": {},
   "source": [
    "<h1 style=\"text-align:right; font-size:100%\">\n",
    "מילוי ערכי מספר מזהה ריקים עם מספרים המשכיים (לפי מזהה אחרון)"
   ]
  },
  {
   "cell_type": "code",
   "execution_count": null,
   "id": "e27394d8-702f-4473-963b-fd9d17966edb",
   "metadata": {},
   "outputs": [],
   "source": [
    "tables_group['TALAR_ID'] = tables_group.sort_values('TALAR_ID', ascending=True, na_position='last')['TALAR_ID'].fillna(method='ffill')"
   ]
  },
  {
   "cell_type": "markdown",
   "id": "605c1c3b-10b0-44e2-ba93-e5eec342f153",
   "metadata": {},
   "source": [
    "<h1 style=\"text-align:right; font-size:100%\">\n",
    "מילוי ערכי מקור ריקים על ידי שדה מקור משני או 0"
   ]
  },
  {
   "cell_type": "code",
   "execution_count": null,
   "id": "59dc3c40-2b1a-4b3e-875c-e43ffce14d01",
   "metadata": {},
   "outputs": [],
   "source": [
    "tables_group['TALAR_SOURCE'].fillna(tables_group['SOURCE'], inplace=True)\n",
    "tables_group.drop(columns='SOURCE', inplace=True)"
   ]
  },
  {
   "cell_type": "markdown",
   "id": "0bd44aca-342f-45c7-886e-5ca0a8cd6804",
   "metadata": {},
   "source": [
    "<h1 style=\"text-align:right; font-size:100%\">\n",
    "יצירת שדה מקשר לטובת מיזוג עם שכבת גושים והשגת מזהה גוש בהמשך"
   ]
  },
  {
   "cell_type": "code",
   "execution_count": null,
   "id": "a25c1641-3f85-4528-8a5a-e018ad02cf26",
   "metadata": {},
   "outputs": [],
   "source": [
    "tables_group[['GUSH_NUM', 'GUSH_SUFFIX']] = tables_group[['GUSH_NUM', 'GUSH_SUFFIX']].astype('Int64')\n",
    "tables_group['BlockName'] = tables_group['GUSH_NUM'].astype(str) + '_' + tables_group['GUSH_SUFFIX'].astype(str)\n",
    "\n",
    "Blocks['BlockName'] = Blocks['BlockNumber'].astype(str) + '_' + Blocks['SubBlockNumber'].astype(str)"
   ]
  },
  {
   "cell_type": "markdown",
   "id": "d49227cd-61fc-4ff5-87b3-ac0c2d24aee6",
   "metadata": {},
   "source": [
    "<h1 style=\"text-align:right; font-size:150%; color:#1c6ce6;\"> \n",
    "יצירת שכבה חדשה בהתאם לאפיון ✨"
   ]
  },
  {
   "cell_type": "code",
   "execution_count": null,
   "id": "d340f51e-b7b1-46ad-b099-5eecace1b38e",
   "metadata": {},
   "outputs": [],
   "source": [
    "print('  4.d Defining new Layer')"
   ]
  },
  {
   "cell_type": "code",
   "execution_count": null,
   "id": "951a0e9b-57a5-4c87-956d-0a301265816b",
   "metadata": {},
   "outputs": [],
   "source": [
    "new_columns = np.dtype([\n",
    "                        (\"CPBUniqueID\", int),\n",
    "                        #(\"BlockUniqueID\", int), יאוחד בהמשך התהליך\n",
    "                        (\"ProcessType\", int),\n",
    "                        (\"MapYear\", int),\n",
    "                        (\"ProcessName\", str),\n",
    "                        (\"GeodeticNetwork\", int),\n",
    "                        (\"Status\", int),\n",
    "                        (\"PlanName\", str),\n",
    "                        (\"SurveyorLicenseID\", int),\n",
    "                        (\"DataSource\", int),\n",
    "                        (\"geometry\", gpd.array.GeometryDtype)\n",
    "                        ])\n",
    "\n",
    "tazar_new = gpd.GeoDataFrame(np.empty(0, dtype=new_columns),\n",
    "                             geometry = 'geometry',\n",
    "                             crs=2039)"
   ]
  },
  {
   "cell_type": "markdown",
   "id": "20dd0815-ee27-495e-85e8-478754d10ad9",
   "metadata": {},
   "source": [
    "<h1 style=\"text-align:right; font-size:100%\">\n",
    "איכלוס שדות"
   ]
  },
  {
   "cell_type": "code",
   "execution_count": null,
   "id": "d95d92d1-0539-4eb4-992b-e36c38daf2da",
   "metadata": {},
   "outputs": [],
   "source": [
    "tazar_new['geometry'] = tables_group['geometry']\n",
    "\n",
    "tazar_new['CPBUniqueID'] = tables_group['TALAR_ID'].astype(int) + 1000000\n",
    "\n",
    "\n",
    "tazar_new['MapYear'] = tables_group['TALAR_YEAR'].astype(int)\n",
    "\n",
    "\n",
    "tazar_new['ProcessName'] = tables_group['ProcessName'].astype('str')\n",
    "\n",
    "\n",
    "tazar_new['ProcessType'] = 1  # תכנית לצרכי רישום\n",
    "\n",
    "\n",
    "sourceDict = {0 : 3,\n",
    "              1 : 3,\n",
    "              2 : 3,\n",
    "              3 : 3,\n",
    "              4 : 2,\n",
    "              5 : 1,\n",
    "              None : 0}\n",
    "tazar_new['DataSource'] = tables_group['TALAR_SOURCE'].map(sourceDict).astype(int)\n",
    "\n",
    "\n",
    "statusDict = {0 : 1,\n",
    "              1 : 1,\n",
    "              2 : 2,\n",
    "              3 : 4,\n",
    "              4 : 5,\n",
    "              5 : 9,\n",
    "              6 : 3, \n",
    "              7 : 8, \n",
    "              8 : 1, \n",
    "              9 : 1, \n",
    "              None : 1}\n",
    "tazar_new['Status'] = tables_group['STATUS'].map(statusDict)\n",
    "\n",
    "\n",
    "geodeticNetDict = {range(0, 1998): 1,      # רשת ישראל הישנה\n",
    "                   range(1999, 2007): 2,   # רשת ישראל החדשה\n",
    "                   range(2008, 99999): 3}  # רשת ישראל התקפה\n",
    "tazar_new['GeodeticNetwork'] = tazar_new['MapYear'].apply(lambda x: next((v for k, v in geodeticNetDict.items() if x in k), 0))\n",
    "\n",
    "\n",
    "tazar_new['SurveyorLicenseID'] = tables_group['SURVEYOR'].fillna(0)\n",
    "tazar_new['SurveyorLicenseID'] = tazar_new['SurveyorLicenseID'].astype(int)\n",
    "\n",
    "\n",
    "tazar_new['PlanName'] = tables_group['PlanName'].astype(str)\n",
    "\n",
    "\n",
    "tazar_new['BlockName'] = tables_group['BlockName']\n",
    "tazar_new = tazar_new.merge(Blocks, on='BlockName', how='left')\n",
    "tazar_new['BlockUniqueID'] = tazar_new['BlockUniqueID'].astype('Int64')\n",
    "tazar_new.drop(columns=['BlockName', 'BlockNumber', 'SubBlockNumber'], inplace=True)"
   ]
  },
  {
   "cell_type": "code",
   "execution_count": null,
   "id": "beae1c68-7eea-47b1-abc7-83fd1a464755",
   "metadata": {},
   "outputs": [],
   "source": [
    "tazar_new.sort_values('CPBUniqueID', inplace=True)"
   ]
  },
  {
   "cell_type": "markdown",
   "id": "12c28dab-de6b-4cff-a9de-8415e2d2fe36",
   "metadata": {},
   "source": [
    "<h1 style=\"text-align:right; font-size:150%; color:#1c6ce6;\"> \n",
    "שמירת תוצאות 💾\n",
    "<h1 style=\"text-align:right; font-size:100%;\"> \n",
    "<h1 style=\"text-align:right; font-size:100%;\"> \n",
    "בחירת נתיב\n",
    "<h1 style=\"text-align:right; font-size:100%;\"> \n",
    "שמירה כטבלה\n",
    "<h1 style=\"text-align:right; font-size:100%;\"> \n",
    "שמירה כשכבה גיאוגרפית"
   ]
  },
  {
   "cell_type": "code",
   "execution_count": null,
   "id": "3f4c1e77-35b2-4811-a8fa-1e73135c5051",
   "metadata": {},
   "outputs": [],
   "source": [
    "print('  4.e Exporting results to product folder')"
   ]
  },
  {
   "cell_type": "code",
   "execution_count": null,
   "id": "de4571b5-73d3-48da-8ef4-abe22de33241",
   "metadata": {},
   "outputs": [],
   "source": [
    "tazar_new_geom = tazar_new[~tazar_new['geometry'].isna()]\n",
    "tazar_new_no_geom = tazar_new[tazar_new['geometry'].isna()]"
   ]
  },
  {
   "cell_type": "code",
   "execution_count": null,
   "id": "dbe7dc8e-2f0e-4b4f-b041-2ef9e671d8b5",
   "metadata": {},
   "outputs": [],
   "source": [
    "#geom_csv_dir = r'\\\\mapi_shares\\MNCDB\\צוות מידע\\תוצרים\\csv\\tazar_geom.csv'\n",
    "no_geom_csv_dir = r'\\\\mapi_shares\\MNCDB\\צוות מידע\\תוצרים\\csv\\tazar_no_geom.csv'\n",
    "json_dir =  r'\\\\mapi_shares\\MNCDB\\צוות מידע\\תוצרים\\json\\Tazar_geom.geojson'\n",
    "\n",
    "\n",
    "#tazar_new_geom.to_csv(geom_csv_dir, index=False)\n",
    "tazar_new_no_geom.drop(columns=['geometry']).to_csv(no_geom_csv_dir, index=False)\n",
    "\n",
    "tazar_new_geom.to_file(json_dir, driver = 'GeoJSON')"
   ]
  },
  {
   "cell_type": "code",
   "execution_count": null,
   "id": "51b717c3-c208-425d-a334-d0ae29280cb3",
   "metadata": {},
   "outputs": [],
   "source": [
    "subprocess.call([r'M:\\ncdbScripts\\scripts\\arcpyPro\\Tazar-Save as Feature Class.bat']);"
   ]
  }
 ],
 "metadata": {
  "kernelspec": {
   "display_name": "Python 3",
   "language": "python",
   "name": "python3"
  },
  "language_info": {
   "codemirror_mode": {
    "name": "ipython",
    "version": 3
   },
   "file_extension": ".py",
   "mimetype": "text/x-python",
   "name": "python",
   "nbconvert_exporter": "python",
   "pygments_lexer": "ipython3",
   "version": "3.9.4"
  }
 },
 "nbformat": 4,
 "nbformat_minor": 5
}
