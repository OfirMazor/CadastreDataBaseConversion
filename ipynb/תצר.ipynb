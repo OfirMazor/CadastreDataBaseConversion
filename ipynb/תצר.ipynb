{
 "cells": [
  {
   "cell_type": "markdown",
   "id": "83fd3187-6359-45c3-99d2-c60742168cf1",
   "metadata": {},
   "source": [
    "<h1 style=\"background-color:#1c6ce6;\n",
    "           font-family:segoe ui;\n",
    "                color:#FFF9ED;\n",
    "           font-size:300%;\n",
    "           text-align:center;\n",
    "           border-radius:10px 10px;\"> \n",
    "✍🏽 תהליך הסבת שכבת גבולות תכניות לצרכי רישום לבנק\"ל מודרני ✍🏽 "
   ]
  },
  {
   "cell_type": "code",
   "execution_count": null,
   "id": "e4638bb9-67d4-4864-aa63-c6ae63b18d0f",
   "metadata": {},
   "outputs": [],
   "source": [
    "print('4. Tazar borders:')"
   ]
  },
  {
   "cell_type": "markdown",
   "id": "5926947f-abc6-4089-bd3b-bfbdf77f1f77",
   "metadata": {},
   "source": [
    "<h1 style=\"text-align:right; font-size:150%; color:#1c6ce6;\">\n",
    "ספריות 📚"
   ]
  },
  {
   "cell_type": "code",
   "execution_count": null,
   "id": "5eaec6c1-185f-4bdd-8bc3-b878dc795189",
   "metadata": {},
   "outputs": [],
   "source": [
    "import warnings\n",
    "warnings.filterwarnings('ignore')\n",
    "\n",
    "import numpy as np\n",
    "import pandas as pd\n",
    "import geopandas as gpd\n",
    "import datetime as dt\n",
    "import subprocess"
   ]
  },
  {
   "cell_type": "markdown",
   "id": "e9975592-6b6c-46eb-839d-448e5023bb57",
   "metadata": {},
   "source": [
    "<h1 style=\"text-align:right; font-size:150%; color:#1c6ce6;\">קריאת נתונים 📑 "
   ]
  },
  {
   "cell_type": "code",
   "execution_count": null,
   "id": "3e5b1ea5-425d-4529-81ee-38567479d382",
   "metadata": {},
   "outputs": [],
   "source": [
    "print('  4.a Reading inputs')"
   ]
  },
  {
   "cell_type": "code",
   "execution_count": null,
   "id": "f0f542c6-bcdb-42d3-b630-d05c00644da6",
   "metadata": {},
   "outputs": [],
   "source": [
    "RawData_folder = r'\\\\mapi_shares\\MNCDB\\צוות מידע\\RawData/'\n",
    "\n",
    "today =  dt.date.today()\n",
    "date_name =  str(today.year) + str(today.month) + str(today.day) + '_ncdb.gdb'\n",
    "product_path = r'\\\\mapi_shares\\MNCDB\\צוות מידע\\תוצרים/' + date_name"
   ]
  },
  {
   "cell_type": "markdown",
   "id": "6fd482ac-c788-4584-8774-0e86471d11fc",
   "metadata": {},
   "source": [
    "<h1 style=\"text-align:right;font-size:100%\">\n",
    "טבלת תצ\"ר עם קידומת"
   ]
  },
  {
   "cell_type": "code",
   "execution_count": null,
   "id": "362b1509-d903-4eb6-925d-75c6cb00f8f8",
   "metadata": {},
   "outputs": [],
   "source": [
    "tazar_kidomet_cols = ['TALAR_NUM', 'TALAR_YEAR', 'KIDOMET_TALAR']\n",
    "\n",
    "tazar_kidomet_schema = {'TALAR_NUM'    : int,\n",
    "                        'TALAR_YEAR'   : int,\n",
    "                        'KIDOMET_TALAR': str}\n",
    "\n",
    "tazar_kidomet = pd.read_csv(RawData_folder + 'Local\\\\KIDOMET_TALAR.csv',\n",
    "                            usecols    = tazar_kidomet_cols,\n",
    "                            converters = tazar_kidomet_schema,\n",
    "                            encoding   = 'cp1255')\n",
    "\n",
    "\n",
    "del [tazar_kidomet_cols, tazar_kidomet_schema]"
   ]
  },
  {
   "cell_type": "markdown",
   "id": "9c529f75-356c-4d53-8850-542b3048b726",
   "metadata": {},
   "source": [
    "<h1 style=\"text-align:right;font-size:100%\">\n",
    "טבלת תצ\"ר בתהליך"
   ]
  },
  {
   "cell_type": "code",
   "execution_count": null,
   "id": "cfffe858-b7a2-4dfa-9dff-5e109b456adf",
   "metadata": {},
   "outputs": [],
   "source": [
    "general_inProcess_cols = ['TALAR_NUM', 'TALAR_YEAR', 'CADASTER_PROCESS', 'GUSHNUM', 'GUSHSUFFIX', 'SURVEYOR', 'TABA_NAMES']\n",
    "\n",
    "general_inProcess_schema = {'TALAR_NUM'       : int,\n",
    "                            'TALAR_YEAR'      : int,\n",
    "                            'CADASTER_PROCESS': int,\n",
    "                            'GUSHNUM'         : int,\n",
    "                            'GUSHSUFFIX'      : int,\n",
    "                            'SURVEYOR'        : int,\n",
    "                            'TABA_NAMES'      : str}\n",
    "\n",
    "general_inProcess = pd.read_excel(RawData_folder + 'Oracle\\\\general_inProcess.xlsx',\n",
    "                                  usecols    = general_inProcess_cols,\n",
    "                                  converters = general_inProcess_schema)\n",
    "\n",
    "general_inProcess.rename(columns = {'GUSHNUM' : 'GUSH_NUM', 'GUSHSUFFIX' : 'GUSH_SUFFIX', 'TABA_NAMES' : 'PlanName'}, inplace = True)\n",
    "\n",
    "\n",
    "del [general_inProcess_cols, general_inProcess_schema]"
   ]
  },
  {
   "cell_type": "markdown",
   "id": "cd950920-dd81-4f0f-8ac2-ef84cad0a3bd",
   "metadata": {},
   "source": [
    "<h1 style=\"text-align:right;font-size:100%\">\n",
    "שכבת גבולות תצ\"ר"
   ]
  },
  {
   "cell_type": "code",
   "execution_count": null,
   "id": "1d9e2589-e69c-4a3b-9f7b-615e2b718477",
   "metadata": {},
   "outputs": [],
   "source": [
    "tazar_border_cols = ['GUSH_NUM', 'GUSH_SUFFIX', 'SURVEYOR', 'STATUS_TEXT', 'STATUS', 'TALAR_SOURCE', 'TALAR_YEAR', 'TALAR_NUM', 'TALAR_ID', 'geometry']\n",
    "\n",
    "tazar_border_schema = {'GUSH_NUM'    : int, 'GUSH_SUFFIX' : int, 'SURVEYOR'   : int, 'STATUS_TEXT' : str,\n",
    "                       'STATUS'      : int, 'TALAR_SOURCE': int, 'TALAR_YEAR' : int, 'TALAR_NUM'   : int,\n",
    "                       'TALAR_ID'    : int}\n",
    "\n",
    "tazar_border = gpd.read_file(RawData_folder + 'CADSDE\\\\TALAR.gdb',\n",
    "                             layer = 'TALAR',\n",
    "                             include_fields = tazar_border_cols)\n",
    "\n",
    "tazar_border = tazar_border[~tazar_border['TALAR_NUM'].isna()]\n",
    "\n",
    "\n",
    "tazar_border.fillna({col:0 for col in ['GUSH_NUM','GUSH_SUFFIX','SURVEYOR','STATUS','TALAR_SOURCE','TALAR_YEAR','TALAR_NUM','TALAR_ID']},\n",
    "                    inplace = True)\n",
    "\n",
    "tazar_border = tazar_border.astype(tazar_border_schema)\n",
    "\n",
    "\n",
    "del [tazar_border_cols, tazar_border_schema]"
   ]
  },
  {
   "cell_type": "markdown",
   "id": "7b4af52d-6f8b-47ea-bdc3-e035f572f80a",
   "metadata": {},
   "source": [
    "<h1 style=\"text-align:right;font-size:100%\">\n",
    "שכבת גבולות תצ\"ר טבלאיות"
   ]
  },
  {
   "cell_type": "code",
   "execution_count": null,
   "id": "33e592d0-b80f-4b56-be28-9a0274212358",
   "metadata": {},
   "outputs": [],
   "source": [
    "tazar_tabular_border_cols = ['SOURCE', 'STATUS_TEXT', 'STATUS', 'TALAR_YEAR', 'TALAR_NUM', 'TALAR_ID', 'GUSH_SUFFIX', 'GUSH_NUM', 'geometry']\n",
    "\n",
    "tazar_tabular_border = gpd.read_file(RawData_folder + 'CADSDE\\\\TALAR_TABLE.gdb',\n",
    "                                     layer = 'TALAR_TABLE',\n",
    "                                     include_fields = tazar_tabular_border_cols)\n",
    "\n",
    "\n",
    "del [tazar_tabular_border_cols]"
   ]
  },
  {
   "cell_type": "markdown",
   "id": "b5aef270-db6a-4de6-8a10-80fd85f8835c",
   "metadata": {},
   "source": [
    "<h1 style=\"text-align:right;font-size:100%\">\n",
    "שכבת גבולות תצ\"ר בתהליך"
   ]
  },
  {
   "cell_type": "code",
   "execution_count": null,
   "id": "08db7cd7-5059-4af2-acc8-0666df467e1d",
   "metadata": {},
   "outputs": [],
   "source": [
    "tazar_inprocess_cols = ['GUSHSUFFIX', 'GUSHNUM', 'TALAR_YEAR', 'TALAR_NUM', 'CADASTER_PROCESS', 'geometry']\n",
    "\n",
    "tazar_inprocess = gpd.read_file(RawData_folder + 'CADSDE\\\\CadasterProcessBorder.gdb',\n",
    "                                layer = 'CadasterProcessBorder',\n",
    "                                include_fields = tazar_inprocess_cols)\n",
    "\n",
    "tazar_inprocess.rename(columns = {'GUSHNUM':'GUSH_NUM', 'GUSHSUFFIX':'GUSH_SUFFIX'}, inplace=True)\n",
    "\n",
    "tazar_inprocess = tazar_inprocess[tazar_inprocess['CADASTER_PROCESS'] == 2]\n",
    "tazar_inprocess.drop(columns = ['CADASTER_PROCESS'], inplace=True)\n",
    "\n",
    "\n",
    "del tazar_inprocess_cols"
   ]
  },
  {
   "cell_type": "markdown",
   "id": "ae053175-bbf5-4aa9-943a-35cd7c1bd1b0",
   "metadata": {},
   "source": [
    "<h1 style=\"text-align:right;font-size:100%\">\n",
    "טבלת תצ\"ר טבלאי"
   ]
  },
  {
   "cell_type": "code",
   "execution_count": null,
   "id": "48e24682-3514-4c98-96ed-b410674ae91e",
   "metadata": {},
   "outputs": [],
   "source": [
    "tazar_table_cols = ['GUSH_NUM', 'GUSH_SUFFIX', 'TALAR_ID', 'TALAR_NUM', 'TALAR_YEAR', 'STATUS', 'SOURCE']\n",
    "\n",
    "\n",
    "tazar_table = pd.read_csv(RawData_folder + 'Oracle\\TALAR_TABLE.csv',\n",
    "                          usecols = tazar_table_cols,\n",
    "                          encoding='cp1255')\n",
    "\n",
    "\n",
    "del tazar_table_cols"
   ]
  },
  {
   "cell_type": "markdown",
   "id": "636b23df-5372-4904-a7f3-1cf3b8dbe9eb",
   "metadata": {},
   "source": [
    "<h1 style=\"text-align:right;font-size:100%\">\n",
    "גבולות תצ\"ר בשטח לא מוסדר"
   ]
  },
  {
   "cell_type": "code",
   "execution_count": null,
   "id": "8a93edaf-922c-405c-a782-546d22401ecf",
   "metadata": {},
   "outputs": [],
   "source": [
    "unreg_tazar_cols = ['TALAR_NUM', 'TALAR_YEAR']\n",
    "\n",
    "unreg_tazar_layer = gpd.read_file(RawData_folder + 'CADSDE\\\\TAZAR_BORDER_LOMUSDAR.gdb',\n",
    "                                  layer = 'TAZAR_BORDER_LOMUSDAR',\n",
    "                                  include_fields = unreg_tazar_cols,\n",
    "                                  ignore_geometry = True)\n",
    "\n",
    "del unreg_tazar_cols"
   ]
  },
  {
   "cell_type": "markdown",
   "id": "1246b610-c23f-4dcd-be74-205a995da669",
   "metadata": {},
   "source": [
    "<h1 style=\"text-align:right;font-size:100%\">\n",
    "MGR טבלת תצ\"ר"
   ]
  },
  {
   "cell_type": "code",
   "execution_count": null,
   "id": "1a9d3cb1-a1aa-45a5-9069-c66f2ff083cb",
   "metadata": {},
   "outputs": [],
   "source": [
    "talar_MGR_cols = ['TALAR_ID', 'TALAR_NUM', 'TALAR_YEAR', 'GUSH_NUM', 'GUSH_SUFFIX', 'SURVEY_DATE', 'TALAR_SOURCE', 'STATUS', 'SURVEYOR']\n",
    "\n",
    "talar_MGR = pd.read_excel(RawData_folder + 'Oracle\\\\TALAR.xlsx',\n",
    "                          usecols = talar_MGR_cols)\n",
    "\n",
    "del talar_MGR_cols"
   ]
  },
  {
   "cell_type": "markdown",
   "id": "d2070306-8f38-4058-93ec-b2e3a8488df1",
   "metadata": {},
   "source": [
    "<h1 style=\"text-align:right;font-size:100%\">\n",
    "טבלת מערכת ניהול קדסטר"
   ]
  },
  {
   "cell_type": "code",
   "execution_count": null,
   "id": "e1a74df9-2602-43ae-9d3b-e504728eea4a",
   "metadata": {},
   "outputs": [],
   "source": [
    "hagi_table_cols = ['SURVEY_DATE', 'SURVEYOR', 'GUSH_NUM', 'GUSH_SUFFIX', 'STATUS', 'TALAR_NUM', 'TALAR_YEAR']\n",
    "\n",
    "hagi_table = pd.read_csv(RawData_folder + 'Local\\hagi_Tazar.csv',\n",
    "                         usecols = hagi_table_cols,\n",
    "                         parse_dates =['SURVEY_DATE'])\n",
    "\n",
    "\n",
    "del hagi_table_cols"
   ]
  },
  {
   "cell_type": "markdown",
   "id": "0979e10f-4872-4077-98e5-1d961fa0224f",
   "metadata": {},
   "source": [
    "<h1 style=\"text-align:right;font-size:100%\">\n",
    "רשימת תכניות לצרכי רישום (קבועה) שמקורן מקובץ שרטוט לפי שכבת נקודות היסטוריות"
   ]
  },
  {
   "cell_type": "code",
   "execution_count": null,
   "id": "066d7281-10b2-4a62-97f3-e39d394ccbad",
   "metadata": {},
   "outputs": [],
   "source": [
    "SourceIsCAD = pd.read_csv(RawData_folder + 'Local\\SourceIsCAD.csv',\n",
    "                          usecols = ['ProcessName'])"
   ]
  },
  {
   "cell_type": "markdown",
   "id": "bdf2f678-e6e0-4619-8c2b-221d505d11f2",
   "metadata": {},
   "source": [
    "<h1 style=\"text-align:right;font-size:100%\">\n",
    "שכבת גבולות גושי קדסטר מודרניים"
   ]
  },
  {
   "cell_type": "code",
   "execution_count": null,
   "id": "e05606bd-3a50-49ac-a2f1-5674aed2eb80",
   "metadata": {},
   "outputs": [],
   "source": [
    "Blocks_cols = ['BlockNumber', 'SubBlockNumber', 'BlockUniqueID']\n",
    "\n",
    "Blocks = gpd.read_file(product_path,\n",
    "                       layer = 'Blocks',\n",
    "                       include_fields = Blocks_cols,\n",
    "                       ignore_geometry = True)\n",
    "\n",
    "Blocks = Blocks.astype(int)\n",
    "\n",
    "\n",
    "del[Blocks_cols, RawData_folder, today, date_name, product_path]"
   ]
  },
  {
   "cell_type": "markdown",
   "id": "e35f3d6a-1efc-4a5a-8ee1-786edf05b2d2",
   "metadata": {},
   "source": [
    "<h1 style=\"text-align:right; font-size:150%; color:#1c6ce6;\">\n",
    "עיבוד נתונים 🛠️"
   ]
  },
  {
   "cell_type": "code",
   "execution_count": null,
   "id": "78229294-2525-4379-abc4-9147c37e5584",
   "metadata": {},
   "outputs": [],
   "source": [
    "print('  4.b Cleaning data')"
   ]
  },
  {
   "cell_type": "markdown",
   "id": "a736d535-8ce7-420d-a5de-fd0ce5aed31c",
   "metadata": {},
   "source": [
    "<h1 style=\"text-align:right; font-size:100%\">\n",
    "MGR הסרת רשומות ללא מספר גוש מטבלת\n",
    "<h1 style=\"text-align:right; font-size:100%\">\n",
    "הגדרת שדה תאריך מדידה כשדה מסוג תאריך"
   ]
  },
  {
   "cell_type": "code",
   "execution_count": null,
   "id": "1cec1ee5-4025-4574-8e6e-7a0ff01b8b83",
   "metadata": {},
   "outputs": [],
   "source": [
    "talar_MGR = talar_MGR[~talar_MGR['GUSH_NUM'].isna()]\n",
    "\n",
    "talar_MGR['SURVEY_DATE'] = pd.to_datetime(talar_MGR['SURVEY_DATE'], errors = 'coerce')"
   ]
  },
  {
   "cell_type": "markdown",
   "id": "2341729e-65d0-4924-ac59-10fee877d4e2",
   "metadata": {},
   "source": [
    "<h1 style=\"text-align:right; font-size:100%\">\n",
    "סינון תהליכים שאינם תצ\"ר מטבלת תהליכים כללית כאשר סוג תהליך של תצ\"ר הוא 2"
   ]
  },
  {
   "cell_type": "code",
   "execution_count": null,
   "id": "bbebe5ad-7ce5-4f7e-9e96-17bbae9686c4",
   "metadata": {},
   "outputs": [],
   "source": [
    "general_inProcess = general_inProcess[general_inProcess['CADASTER_PROCESS'] == 2]"
   ]
  },
  {
   "cell_type": "markdown",
   "id": "c18c3be4-635f-4bfc-8a19-e4fb8ec6bfb1",
   "metadata": {},
   "source": [
    "<h1 style=\"text-align:right; font-size:100%\">\n",
    "הסרת רשומות משכבת גבולות תצ\"ר אשר הינם תצ\"ר בשטח לא מוסדר (תצ\"ר בשטח לא מוסדר מאופיין בנפרד)"
   ]
  },
  {
   "cell_type": "code",
   "execution_count": null,
   "id": "93a37adf-ec2a-4d2c-a1da-a2bcef59b8ab",
   "metadata": {},
   "outputs": [],
   "source": [
    "unreg_tazar_layer[['TALAR_NUM', 'TALAR_YEAR']] = unreg_tazar_layer[['TALAR_NUM', 'TALAR_YEAR']].astype('Int64')\n",
    "tazar_border[['TALAR_NUM', 'TALAR_YEAR']]      = tazar_border[['TALAR_NUM', 'TALAR_YEAR']].astype('Int64')\n",
    "\n",
    "unreg_tazar_layer['ProcessName'] = unreg_tazar_layer['TALAR_NUM'].astype(str) + '/' + unreg_tazar_layer['TALAR_YEAR'].astype(str)\n",
    "tazar_border['ProcessName']      = tazar_border['TALAR_NUM'].astype(str) + '/' + tazar_border['TALAR_YEAR'].astype(str)\n",
    "\n",
    "\n",
    "tazar_border = tazar_border[~tazar_border['ProcessName'].isin(unreg_tazar_layer['ProcessName'])]\n",
    "\n",
    "del unreg_tazar_layer"
   ]
  },
  {
   "cell_type": "markdown",
   "id": "f9dc0e36-6141-45ef-a650-38a2a6dd6a53",
   "metadata": {},
   "source": [
    "<h1 style=\"text-align:right; font-size:100%\">\n",
    "הסרת מספרי אלפיסה שאינם תקינים בכל מקורות המידע"
   ]
  },
  {
   "cell_type": "code",
   "execution_count": null,
   "id": "4593bc5e-7f13-4d5b-a4c2-25bf990166e3",
   "metadata": {},
   "outputs": [],
   "source": [
    "tazar_kidomet        = tazar_kidomet[(tazar_kidomet['TALAR_NUM']  != 0) | (tazar_kidomet['TALAR_YEAR'] != 0)].sort_values(['TALAR_NUM', 'TALAR_YEAR'])\n",
    "general_inProcess    = general_inProcess[(general_inProcess['TALAR_NUM']  != 0) | (general_inProcess['TALAR_YEAR'] != 0)].sort_values(['TALAR_NUM', 'TALAR_YEAR'])\n",
    "tazar_border         = tazar_border[(tazar_border['TALAR_NUM']  != 0) | (tazar_border['TALAR_YEAR'] != 0)].sort_values(['TALAR_NUM', 'TALAR_YEAR'])\n",
    "tazar_tabular_border = tazar_tabular_border[(tazar_tabular_border['TALAR_NUM']  != 0) | (tazar_tabular_border['TALAR_YEAR'] != 0)].sort_values(['TALAR_NUM', 'TALAR_YEAR'])\n",
    "tazar_inprocess      = tazar_inprocess[(tazar_inprocess['TALAR_NUM']  != 0) | (tazar_inprocess['TALAR_YEAR'] != 0)].sort_values(['TALAR_NUM', 'TALAR_YEAR'])\n",
    "tazar_table          = tazar_table[(tazar_table['TALAR_NUM']  != 0) | (tazar_table['TALAR_YEAR'] != 0)].sort_values(['TALAR_NUM', 'TALAR_YEAR'])\n",
    "talar_MGR            = talar_MGR[(talar_MGR['TALAR_NUM']  != 0) | (talar_MGR['TALAR_YEAR'] != 0)].sort_values(['TALAR_NUM', 'TALAR_YEAR'])\n",
    "hagi_table           = hagi_table[(hagi_table['TALAR_NUM']  != 0) | (hagi_table['TALAR_YEAR'] != 0)].sort_values(['TALAR_NUM', 'TALAR_YEAR'])"
   ]
  },
  {
   "cell_type": "code",
   "execution_count": null,
   "id": "157c7b9c-237a-4683-8111-f313b4b05fe3",
   "metadata": {},
   "outputs": [],
   "source": [
    "tazar_kidomet        = tazar_kidomet[(tazar_kidomet['TALAR_NUM'].notna()) | (tazar_kidomet['TALAR_YEAR'].notna())]\n",
    "general_inProcess    = general_inProcess[(general_inProcess['TALAR_NUM'].notna()) | (general_inProcess['TALAR_YEAR'].notna())]\n",
    "tazar_border         = tazar_border[(tazar_border['TALAR_NUM'].notna()) | (tazar_border['TALAR_YEAR'].notna())]\n",
    "tazar_tabular_border = tazar_tabular_border[(tazar_tabular_border['TALAR_NUM'].notna()) | (tazar_tabular_border['TALAR_YEAR'].notna())]\n",
    "tazar_inprocess      = tazar_inprocess[(tazar_inprocess['TALAR_NUM'].notna()) | (tazar_inprocess['TALAR_YEAR'].notna())]\n",
    "tazar_table          = tazar_table[(tazar_table['TALAR_NUM'].notna()) | (tazar_table['TALAR_YEAR'].notna())]\n",
    "talar_MGR            = talar_MGR[(talar_MGR['TALAR_NUM'].notna()) | (talar_MGR['TALAR_YEAR'].notna())]\n",
    "hagi_table           = hagi_table[(hagi_table['TALAR_NUM'].notna()) | (hagi_table['TALAR_YEAR'].notna())]"
   ]
  },
  {
   "cell_type": "markdown",
   "id": "6637345d-1c59-4ca1-a884-cc92c4a1ae0c",
   "metadata": {},
   "source": [
    "<h1 style=\"text-align:right; font-size:100%\">\n",
    "הסרת רשומות עם כפילויות (לכל מקורות המידע)"
   ]
  },
  {
   "cell_type": "code",
   "execution_count": null,
   "id": "c8326bd9-72c7-4931-9aaf-c787c46ab87a",
   "metadata": {},
   "outputs": [],
   "source": [
    "tazar_kidomet.drop_duplicates(keep = 'last', inplace = True)\n",
    "general_inProcess.drop_duplicates(keep = 'last', inplace = True)\n",
    "tazar_border.drop_duplicates(keep = 'last', inplace = True)\n",
    "tazar_tabular_border.drop_duplicates(keep = 'last', inplace = True)\n",
    "tazar_inprocess.drop_duplicates(keep = 'last', inplace = True)\n",
    "tazar_table.drop_duplicates(keep = 'last', inplace = True)\n",
    "talar_MGR.drop_duplicates(keep = 'last', inplace = True)\n",
    "hagi_table.drop_duplicates(keep = 'last', inplace = True)"
   ]
  },
  {
   "cell_type": "markdown",
   "id": "841f107e-a07f-48cb-be2c-e4fadb352947",
   "metadata": {},
   "source": [
    "<h1 style=\"text-align:right; font-size:100%\">\n",
    "הסרת רשומות ללא מידע של מספר גוש עבור טבלת תצ\"ר"
   ]
  },
  {
   "cell_type": "code",
   "execution_count": null,
   "id": "36d9681c-5dce-439f-8617-ee37f11cfe41",
   "metadata": {},
   "outputs": [],
   "source": [
    "tazar_table = tazar_table[~tazar_table['GUSH_NUM'].isna()]"
   ]
  },
  {
   "cell_type": "markdown",
   "id": "5b80e273-2dd9-4422-9342-361d6c3cb9f9",
   "metadata": {},
   "source": [
    "<h1 style=\"text-align:right; font-size:100%\">\n",
    "הסרת רשומות של תצ\"ר שמגיע מכרטסת בטבלת תצ\"ר"
   ]
  },
  {
   "cell_type": "code",
   "execution_count": null,
   "id": "50aa9c85-c39f-4bca-89ee-2f6265181a88",
   "metadata": {},
   "outputs": [],
   "source": [
    "tazar_table = tazar_table[tazar_table['SOURCE'] != 5]"
   ]
  },
  {
   "cell_type": "markdown",
   "id": "bde0868b-ee2b-4acb-a35a-c209efd607f1",
   "metadata": {},
   "source": [
    "<h1 style=\"text-align:right; font-size:100%\">\n",
    "טיפול בכפילויות של מספר מזהה עבור גבולות תצ\"ר\n",
    "<h1 style=\"text-align:right; font-size:100%\">\n",
    "טיפול בכפילויות של מספרי אליפסה מגבולות תצ\"ר טבלאי (מבין הכפולים ישארו רשומות העונות למקור נתונים = 4)"
   ]
  },
  {
   "cell_type": "code",
   "execution_count": null,
   "id": "403f284b-601c-48f0-b59e-2d8fd2d9bb20",
   "metadata": {},
   "outputs": [],
   "source": [
    "tazar_border.drop_duplicates(subset=['TALAR_ID'], keep='first', inplace=True)"
   ]
  },
  {
   "cell_type": "code",
   "execution_count": null,
   "id": "4fc50b74-c289-4921-9926-80e0a0f4ca73",
   "metadata": {},
   "outputs": [],
   "source": [
    "tazar_tabular_border = tazar_tabular_border.sort_values(['TALAR_NUM', 'TALAR_YEAR', 'SOURCE'])\n",
    "\n",
    "tazar_tabular_border = tazar_tabular_border.drop_duplicates(['TALAR_NUM', 'TALAR_YEAR'], keep='first')"
   ]
  },
  {
   "cell_type": "markdown",
   "id": "8fc09dfb-8ff7-4213-9e3c-33c999f2b2eb",
   "metadata": {},
   "source": [
    "<h1 style=\"text-align:right; font-size:125%\">\n",
    ":איחוד מקורות טבלאיים"
   ]
  },
  {
   "cell_type": "code",
   "execution_count": null,
   "id": "c5965d39-b323-4221-b417-2f0d9d8f55a8",
   "metadata": {},
   "outputs": [],
   "source": [
    "print('  4.c Data conversion')"
   ]
  },
  {
   "cell_type": "markdown",
   "id": "219e78ee-7980-42bf-ab11-ec19cb5e3910",
   "metadata": {},
   "source": [
    "<h1 style=\"text-align:right; font-size:100%\">\n",
    "השלמת ערכי קידמות בטבלת תצ\"ר קידומת"
   ]
  },
  {
   "cell_type": "code",
   "execution_count": null,
   "id": "d737cb94-30ed-41d2-af5b-47d9584e4851",
   "metadata": {},
   "outputs": [],
   "source": [
    "tazar_kidomet['KIDOMET_TALAR'] = tazar_kidomet['KIDOMET_TALAR'].replace('', 'X')"
   ]
  },
  {
   "cell_type": "markdown",
   "id": "002f5681-1d7c-40f7-89d6-1bb6d00686f0",
   "metadata": {},
   "source": [
    "<h1 style=\"text-align:right; font-size:100%\">\n",
    "הוספת שדה מקשר של מספר אליפסה מלא לצורך מיזוג"
   ]
  },
  {
   "cell_type": "code",
   "execution_count": null,
   "id": "098fde4a-7e3e-4c3d-81db-e4c6de6cb3fb",
   "metadata": {},
   "outputs": [],
   "source": [
    "for df in [tazar_kidomet, general_inProcess, tazar_border, tazar_tabular_border, tazar_inprocess, tazar_table, talar_MGR, hagi_table]:\n",
    "    df[['TALAR_NUM', 'TALAR_YEAR']] = df[['TALAR_NUM', 'TALAR_YEAR']].astype('Int64')"
   ]
  },
  {
   "cell_type": "code",
   "execution_count": null,
   "id": "cce7130c-5ea3-4ab2-9af3-ecd833e69970",
   "metadata": {},
   "outputs": [],
   "source": [
    "tazar_kidomet['ProcessName'] = tazar_kidomet['TALAR_NUM'].astype(str) + '/' + tazar_kidomet['TALAR_YEAR'].astype(str) + tazar_kidomet['KIDOMET_TALAR']\n",
    "general_inProcess['ProcessName'] = general_inProcess['TALAR_NUM'].astype(str) + '/' + general_inProcess['TALAR_YEAR'].astype(str)\n",
    "tazar_border['ProcessName'] = tazar_border['TALAR_NUM'].astype(str) + '/' + tazar_border['TALAR_YEAR'].astype(str)\n",
    "tazar_tabular_border['ProcessName'] = tazar_tabular_border['TALAR_NUM'].astype('str') + '/' + tazar_tabular_border['TALAR_YEAR'].astype(str)\n",
    "tazar_inprocess['ProcessName'] = tazar_inprocess['TALAR_NUM'].astype(str) + '/' + tazar_inprocess['TALAR_YEAR'].astype(str)\n",
    "tazar_table['ProcessName'] = tazar_table['TALAR_NUM'].astype(str) + '/' + tazar_table['TALAR_YEAR'].astype(str)\n",
    "talar_MGR['ProcessName'] = talar_MGR['TALAR_NUM'].astype(str) + '/' + talar_MGR['TALAR_YEAR'].astype(str)\n",
    "hagi_table['ProcessName'] = hagi_table['TALAR_NUM'].astype(str) + '/' + hagi_table['TALAR_YEAR'].astype(str)"
   ]
  },
  {
   "cell_type": "markdown",
   "id": "02146f1c-c060-40dc-b9bb-6d897b22df86",
   "metadata": {},
   "source": [
    "<h1 style=\"text-align:right; font-size:100%\">\n",
    "האיחוד יוצר שכבה אחת גדולה של כל רשומות הטבלאות והשכבות הקיימות"
   ]
  },
  {
   "cell_type": "code",
   "execution_count": null,
   "id": "89e7f50d-c58a-4b15-8432-c19e516cfa10",
   "metadata": {},
   "outputs": [],
   "source": [
    "tablesMerge = tazar_border.append(general_inProcess, ignore_index=True)\\\n",
    "                          .append(tazar_kidomet, ignore_index=True)\\\n",
    "                          .append(tazar_tabular_border, ignore_index=True)\\\n",
    "                          .append(tazar_inprocess, ignore_index=True)\\\n",
    "                          .append(tazar_table, ignore_index=True)\\\n",
    "                          .append(talar_MGR, ignore_index=True)\\\n",
    "                          .append(hagi_table, ignore_index=True)\n",
    "\n",
    "tablesMerge.sort_values(['TALAR_NUM', 'TALAR_YEAR', 'STATUS'], inplace=True)\n",
    "\n",
    "tablesMerge = gpd.GeoDataFrame(tablesMerge, crs = 2039, geometry = 'geometry')"
   ]
  },
  {
   "cell_type": "markdown",
   "id": "028e0c74-308c-46c2-a735-2b86650e17ad",
   "metadata": {},
   "source": [
    "<h1 style=\"text-align:right; font-size:125%\">\n",
    ":קיבוץ טבלה\n",
    "<h1 style=\"text-align:right; font-size:100%\">\n",
    "הקיבוץ יאחד כל תצ\"ר לפי מספר האליפסה וישמור לכל תצ\"ר את הערך הנכון בשדות"
   ]
  },
  {
   "cell_type": "code",
   "execution_count": null,
   "id": "8749977b-452d-446a-a49a-c01da42e5419",
   "metadata": {},
   "outputs": [],
   "source": [
    "dissolve_agg = {'GUSH_SUFFIX'      : 'max',\n",
    "                'GUSH_NUM'         : 'max',\n",
    "                'SURVEYOR'         : 'max',\n",
    "                'SURVEY_DATE'      : 'max',\n",
    "                'STATUS_TEXT'      : 'last',\n",
    "                'STATUS'           : 'max',\n",
    "                'TALAR_SOURCE'     : 'max',\n",
    "                'TALAR_YEAR'       : 'max',\n",
    "                'TALAR_NUM'        : 'max',\n",
    "                'TALAR_ID'         : 'max',\n",
    "                'CADASTER_PROCESS' : 'max',\n",
    "                'PlanName'         : 'first',\n",
    "                'SOURCE'           : 'max'}\n",
    "\n",
    "tables_group = tablesMerge.dissolve(by = 'ProcessName',\n",
    "                                    as_index = False,\n",
    "                                    dropna   = False,\n",
    "                                    aggfunc  = dissolve_agg)\n",
    "\n",
    "tables_group = tables_group.sort_values(by = 'TALAR_ID', na_position = 'last', ignore_index= True)\n",
    "tables_group.reset_index(inplace = True, drop = True)\n",
    "tables_group.drop(columns = ['TALAR_NUM', 'CADASTER_PROCESS'], inplace = True)\n",
    "\n",
    "del [dissolve_agg, tablesMerge, tazar_border, general_inProcess, tazar_kidomet, tazar_tabular_border, tazar_inprocess, talar_MGR]"
   ]
  },
  {
   "cell_type": "markdown",
   "id": "f54e2801-f548-4699-9ffe-37997806f241",
   "metadata": {},
   "source": [
    "<h1 style=\"text-align:right; font-size:100%\">\n",
    "מילוי ערכי מספר מזהה למקרים בהם אין מספר מזהה"
   ]
  },
  {
   "cell_type": "code",
   "execution_count": null,
   "id": "b4db0919-0e17-4ad6-b8dd-bcf8c554e3d8",
   "metadata": {},
   "outputs": [],
   "source": [
    "tables_group['TALAR_ID'] = tables_group['TALAR_ID'].astype('Int64')\n",
    "\n",
    "last_id = tables_group['TALAR_ID'].max() + 1\n",
    "length = len(tables_group[tables_group['TALAR_ID'].isna()])\n",
    "\n",
    "na_ids = tables_group[tables_group['TALAR_ID'].isna()][['ProcessName', 'TALAR_ID']]\n",
    "na_ids['TALAR_ID'] = np.arange(last_id, last_id + length).tolist()\n",
    "na_ids['TALAR_ID'] = na_ids['TALAR_ID'].astype('Int64')\n",
    "\n",
    "tables_group = tables_group.merge(na_ids, on = 'ProcessName', how = 'left', validate = 'one_to_one')\n",
    "tables_group['TALAR_ID'] = tables_group['TALAR_ID_x'].fillna(tables_group['TALAR_ID_y'])\n",
    "tables_group.drop(columns = ['TALAR_ID_x', 'TALAR_ID_y'], inplace = True)\n",
    "\n",
    "del [last_id, length, na_ids]"
   ]
  },
  {
   "cell_type": "markdown",
   "id": "605c1c3b-10b0-44e2-ba93-e5eec342f153",
   "metadata": {},
   "source": [
    "<h1 style=\"text-align:right; font-size:100%\">\n",
    "מילוי ערכי מקור ריקים על ידי שדה מקור משני או 0"
   ]
  },
  {
   "cell_type": "code",
   "execution_count": null,
   "id": "59dc3c40-2b1a-4b3e-875c-e43ffce14d01",
   "metadata": {},
   "outputs": [],
   "source": [
    "tables_group['TALAR_SOURCE'].fillna(tables_group['SOURCE'], inplace=True)\n",
    "tables_group.drop(columns = 'SOURCE', inplace=True)"
   ]
  },
  {
   "cell_type": "markdown",
   "id": "2dfd53d9-4615-41c2-bc32-483093be14ef",
   "metadata": {},
   "source": [
    "<h1 style=\"text-align:right; font-size:100%\">\n",
    "ניקוי ערכי שם תב\"ע ארוכים מדי לערך ריק"
   ]
  },
  {
   "cell_type": "code",
   "execution_count": null,
   "id": "f04a6012-89f2-497c-a006-5dbe75cfbeec",
   "metadata": {},
   "outputs": [],
   "source": [
    "tables_group['PlanName_len'] = tables_group['PlanName'].str.len()\n",
    "tables_group.loc[tables_group['PlanName_len'] >= 35, ['PlanName']] = None\n",
    "tables_group.drop(columns = 'PlanName_len', inplace = True)"
   ]
  },
  {
   "cell_type": "markdown",
   "id": "0bd44aca-342f-45c7-886e-5ca0a8cd6804",
   "metadata": {},
   "source": [
    "<h1 style=\"text-align:right; font-size:100%\">\n",
    "יצירת שדה מקשר לטובת מיזוג עם שכבת גושים והשגת מזהה גוש"
   ]
  },
  {
   "cell_type": "code",
   "execution_count": null,
   "id": "a25c1641-3f85-4528-8a5a-e018ad02cf26",
   "metadata": {},
   "outputs": [],
   "source": [
    "tables_group[['GUSH_NUM', 'GUSH_SUFFIX']] = tables_group[['GUSH_NUM', 'GUSH_SUFFIX']].astype('Int64')\n",
    "tables_group['BlockName'] = tables_group['GUSH_NUM'].astype(str) + '_' + tables_group['GUSH_SUFFIX'].astype(str)\n",
    "\n",
    "Blocks['BlockName'] = Blocks['BlockNumber'].astype(str) + '_' + Blocks['SubBlockNumber'].astype(str)\n",
    "\n",
    "tables_group = tables_group.merge(Blocks, on = 'BlockName', how = 'left')"
   ]
  },
  {
   "cell_type": "code",
   "execution_count": null,
   "id": "bd5f72ab-c1cc-40db-a074-24a8d3daebf9",
   "metadata": {},
   "outputs": [],
   "source": [
    "SourceIsCAD['ProcessName'].append(hagi_table['ProcessName'], ignore_index = True).tolist()"
   ]
  },
  {
   "cell_type": "markdown",
   "id": "dbc4c363-23a9-47b1-a773-f9b29ac785f3",
   "metadata": {},
   "source": [
    "<h1 style=\"text-align:right; font-size:100%\">\n",
    "CAD איחוד רשימה של תכניות לצרכי רישום שמקורן הוא קובץ    \n",
    "<h1 style=\"text-align:right; font-size:100%\">\n",
    "תכניות שנמצאות ברשימה זו יקבלו בהמשך את הערך CAD"
   ]
  },
  {
   "cell_type": "code",
   "execution_count": null,
   "id": "ed481ad1-368d-489b-ab8f-eb273c32b680",
   "metadata": {},
   "outputs": [],
   "source": [
    "SourceIsCAD = SourceIsCAD['ProcessName'].append(hagi_table['ProcessName'], ignore_index = True).tolist()\n",
    "\n",
    "tables_group['TALAR_SOURCE'] = np.where(tables_group['ProcessName'].isin(SourceIsCAD),\n",
    "                                        99999, #temp CAD source code\n",
    "                                        tables_group['TALAR_SOURCE'])\n",
    "del hagi_table"
   ]
  },
  {
   "cell_type": "markdown",
   "id": "d49227cd-61fc-4ff5-87b3-ac0c2d24aee6",
   "metadata": {},
   "source": [
    "<h1 style=\"text-align:right; font-size:150%; color:#1c6ce6;\"> \n",
    "יצירת שכבה חדשה בהתאם לאפיון ✨"
   ]
  },
  {
   "cell_type": "code",
   "execution_count": null,
   "id": "d340f51e-b7b1-46ad-b099-5eecace1b38e",
   "metadata": {},
   "outputs": [],
   "source": [
    "print('  4.d Defining new Layer')"
   ]
  },
  {
   "cell_type": "markdown",
   "id": "20dd0815-ee27-495e-85e8-478754d10ad9",
   "metadata": {},
   "source": [
    "<h1 style=\"text-align:right; font-size:100%\">\n",
    "איכלוס שדות"
   ]
  },
  {
   "cell_type": "code",
   "execution_count": null,
   "id": "d3525812-f70f-40b2-a5a4-befeae1419ff",
   "metadata": {},
   "outputs": [],
   "source": [
    "new_columns = np.dtype([\n",
    "                        (\"CPBUniqueID\", int),\n",
    "                        #(\"BlockUniqueID\", int), יאוחד בהמשך התהליך\n",
    "                        (\"ProcessType\", int),\n",
    "                        (\"MapYear\", int),\n",
    "                        (\"ProcessName\", str),\n",
    "                        (\"GeodeticNetwork\", int),\n",
    "                        (\"Status\", int),\n",
    "                        (\"PlanName\", str),\n",
    "                        (\"SurveyorLicenseID\", int),\n",
    "                        (\"DataSource\", int),\n",
    "                        (\"geometry\", gpd.array.GeometryDtype)\n",
    "                        ])\n",
    "\n",
    "tazar_new = gpd.GeoDataFrame(np.empty(0, dtype = new_columns),\n",
    "                             geometry = 'geometry',\n",
    "                             crs = 2039)"
   ]
  },
  {
   "cell_type": "code",
   "execution_count": null,
   "id": "d95d92d1-0539-4eb4-992b-e36c38daf2da",
   "metadata": {},
   "outputs": [],
   "source": [
    "tazar_new['geometry'] = tables_group['geometry']\n",
    "\n",
    "\n",
    "tazar_new['CPBUniqueID'] = tables_group['TALAR_ID'].astype(int) + 1000000\n",
    "tazar_new['CPBUniqueID'] = tazar_new['CPBUniqueID'].astype('Int64')\n",
    "\n",
    "tazar_new['MapYear'] = tables_group['SURVEY_DATE'].dt.year\n",
    "tazar_new['MapYear'] = tazar_new['MapYear'].fillna(tables_group['TALAR_YEAR'])\n",
    "tazar_new['MapYear'] = tazar_new['MapYear'].astype('Int64')\n",
    "\n",
    "\n",
    "tazar_new['ProcessName'] = tables_group['ProcessName'].astype('str')\n",
    "\n",
    "\n",
    "tazar_new['ProcessType'] = 1  # תכנית לצרכי רישום\n",
    "\n",
    "\n",
    "sourceDict = {0 : 3,\n",
    "              1 : 3,\n",
    "              2 : 4,\n",
    "              99999 : 5,\n",
    "              3 : 4,\n",
    "              4 : 2,\n",
    "              5 : 1,\n",
    "              None : 3}\n",
    "tazar_new['DataSource'] = tables_group['TALAR_SOURCE'].map(sourceDict).astype('Int64')\n",
    "tazar_new['DataSource'] = tazar_new['DataSource']\n",
    "\n",
    "\n",
    "statusDict = {0 : 1,\n",
    "              1 : 1,\n",
    "              2 : 2,\n",
    "              3 : 4,\n",
    "              4 : 5,\n",
    "              5 : 9,\n",
    "              None : 1}\n",
    "tazar_new['Status'] = tables_group['STATUS'].map(statusDict)\n",
    "\n",
    "\n",
    "geodeticNetDict = {range(0, 1998)     : 1,      # רשת ישראל הישנה\n",
    "                   range(1999, 2007)  : 2,      # רשת ישראל החדשה\n",
    "                   range(2008, 99999) : 3}      # רשת ישראל התקפה\n",
    "tazar_new['GeodeticNetwork'] = tazar_new['MapYear'].apply(lambda x: next((v for k, v in geodeticNetDict.items() if x in k), 0))\n",
    "\n",
    "\n",
    "tazar_new['SurveyorLicenseID'] = tables_group['SURVEYOR'].fillna(0)\n",
    "tazar_new['SurveyorLicenseID'] = tazar_new['SurveyorLicenseID'].astype('Int64')\n",
    "\n",
    "\n",
    "tazar_new['PlanName'] = tables_group['PlanName'].astype(str)\n",
    "\n",
    "tazar_new['BlockUniqueID'] = tables_group['BlockUniqueID'].fillna(0)\n",
    "tazar_new['BlockUniqueID'] = tazar_new['BlockUniqueID'].astype('Int64')"
   ]
  },
  {
   "cell_type": "markdown",
   "id": "e70c2038-31ad-44c3-915f-8a831b94d96f",
   "metadata": {},
   "source": [
    "<h1 style=\"text-align:right; font-size:100%\">\n",
    "הסרת כפילויות"
   ]
  },
  {
   "cell_type": "code",
   "execution_count": null,
   "id": "9de708a1-183b-4944-892d-2dca259bf1a1",
   "metadata": {},
   "outputs": [],
   "source": [
    "tazar_new.sort_values(['MapYear', 'CPBUniqueID'], ascending = False, inplace = True)\n",
    "tazar_new.drop_duplicates(subset = 'CPBUniqueID', keep = 'first', inplace = True)\n",
    "\n",
    "del tables_group"
   ]
  },
  {
   "cell_type": "markdown",
   "id": "12c28dab-de6b-4cff-a9de-8415e2d2fe36",
   "metadata": {},
   "source": [
    "<h1 style=\"text-align:right; font-size:150%; color:#1c6ce6;\"> \n",
    "שמירת תוצאות 💾\n",
    "<h1 style=\"text-align:right; font-size:100%;\"> \n",
    "<h1 style=\"text-align:right; font-size:100%;\"> \n",
    "בחירת נתיב\n",
    "<h1 style=\"text-align:right; font-size:100%;\"> \n",
    "שמירה כטבלה\n",
    "<h1 style=\"text-align:right; font-size:100%;\"> \n",
    "שמירה כשכבה גיאוגרפית"
   ]
  },
  {
   "cell_type": "code",
   "execution_count": null,
   "id": "3f4c1e77-35b2-4811-a8fa-1e73135c5051",
   "metadata": {},
   "outputs": [],
   "source": [
    "print('  4.e Exporting results to product folder')"
   ]
  },
  {
   "cell_type": "code",
   "execution_count": null,
   "id": "de4571b5-73d3-48da-8ef4-abe22de33241",
   "metadata": {},
   "outputs": [],
   "source": [
    "tazar_new_geom    = tazar_new[~tazar_new['geometry'].isna()]\n",
    "tazar_new_no_geom = tazar_new[tazar_new['geometry'].isna()]"
   ]
  },
  {
   "cell_type": "code",
   "execution_count": null,
   "id": "dbe7dc8e-2f0e-4b4f-b041-2ef9e671d8b5",
   "metadata": {},
   "outputs": [],
   "source": [
    "no_geom_xlsx_dir = r'\\\\mapi_shares\\MNCDB\\צוות מידע\\תוצרים\\csv\\tazar_no_geom.xlsx'\n",
    "json_dir         = r'\\\\mapi_shares\\MNCDB\\צוות מידע\\תוצרים\\json\\Tazar_geom.geojson'\n",
    "\n",
    "\n",
    "tazar_new_no_geom.drop(columns='geometry').to_excel(no_geom_xlsx_dir, index = False)\n",
    "\n",
    "tazar_new_geom.to_file(json_dir, driver = 'GeoJSON')"
   ]
  },
  {
   "cell_type": "code",
   "execution_count": null,
   "id": "51b717c3-c208-425d-a334-d0ae29280cb3",
   "metadata": {},
   "outputs": [],
   "source": [
    "subprocess.call([r'M:\\ncdbScripts\\scripts\\arcpyPro\\Tazar-Save as Feature Class.bat']);"
   ]
  }
 ],
 "metadata": {
  "kernelspec": {
   "display_name": "Python 3",
   "language": "python",
   "name": "python3"
  },
  "language_info": {
   "codemirror_mode": {
    "name": "ipython",
    "version": 3
   },
   "file_extension": ".py",
   "mimetype": "text/x-python",
   "name": "python",
   "nbconvert_exporter": "python",
   "pygments_lexer": "ipython3",
   "version": "3.9.4"
  }
 },
 "nbformat": 4,
 "nbformat_minor": 5
}
