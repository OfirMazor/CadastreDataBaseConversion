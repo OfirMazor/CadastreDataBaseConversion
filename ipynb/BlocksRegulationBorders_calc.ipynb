{
 "cells": [
  {
   "cell_type": "markdown",
   "id": "cc40d20c-00ce-4647-b0be-d91c1d49f698",
   "metadata": {},
   "source": [
    "<h1 style=\"background-color: green;\n",
    "           font-family:segoe ui;\n",
    "                color:#FFF9ED;\n",
    "           font-size:300%;\n",
    "           text-align:center;\n",
    "           border-radius:10px 10px;\"> \n",
    "    🌐תהליך הסבת גבולות מפות הסדר לבנק\"ל מודרני🌐"
   ]
  },
  {
   "cell_type": "code",
   "execution_count": null,
   "id": "f6653ab4-0810-4378-82f8-54245009c6b2",
   "metadata": {},
   "outputs": [],
   "source": [
    "print('10. Blocks regulation borders:')"
   ]
  },
  {
   "cell_type": "markdown",
   "id": "4e6e94c8-fcaa-4f74-9b88-d85191239573",
   "metadata": {},
   "source": [
    "<h1 style=\"text-align:right; font-size:150%; color:#1c6ce6;\">\n",
    "ספריות 📚"
   ]
  },
  {
   "cell_type": "code",
   "execution_count": null,
   "id": "066a39af-19f8-42ea-8fb8-3698695bab6f",
   "metadata": {
    "tags": [
     "Libraries"
    ]
   },
   "outputs": [],
   "source": [
    "import warnings\n",
    "warnings.filterwarnings('ignore')\n",
    "\n",
    "from configs import CNFG\n",
    "import numpy as np\n",
    "import pandas as pd\n",
    "import geopandas as gpd\n",
    "import dask_geopandas as daskgpd\n",
    "import subprocess"
   ]
  },
  {
   "cell_type": "markdown",
   "id": "8c889cf7-8460-4391-ac5d-4fafd88d0c34",
   "metadata": {},
   "source": [
    "<h1 style=\"text-align:right; font-size:150%; color:#1c6ce6;\">קריאת נתונים 📑 "
   ]
  },
  {
   "cell_type": "code",
   "execution_count": null,
   "id": "fbdd1507-4f0b-43e5-8eb8-747019cad668",
   "metadata": {},
   "outputs": [],
   "source": [
    "print('  10.a Reading inputs')"
   ]
  },
  {
   "cell_type": "markdown",
   "id": "8370891a-40f1-4297-8254-c5e8c87c113a",
   "metadata": {},
   "source": [
    "<h1 style=\"text-align:right;font-size:100%\">\n",
    "שכבת גבולות תהליכי קדסטר קיימת"
   ]
  },
  {
   "cell_type": "code",
   "execution_count": null,
   "id": "1ec8a7e3-6a4b-42bb-8946-c761e3646baa",
   "metadata": {},
   "outputs": [],
   "source": [
    "CadasterProcessBorder_cols = ['CADASTER_PROCESS', 'GUSHNUM', 'GUSHSUFFIX', 'GUSH_STATUS', 'geometry']\n",
    "\n",
    "CadasterProcessBorder = daskgpd.read_file(CNFG.CADSDE + 'CadasterProcessBorder.gdb', layer = 'CadasterProcessBorder', columns = CadasterProcessBorder_cols, npartitions = 16).compute()\n",
    "\n",
    "del CadasterProcessBorder_cols"
   ]
  },
  {
   "cell_type": "markdown",
   "id": "2b369613-9170-48a6-b647-52ea16f6dbda",
   "metadata": {},
   "source": [
    "<h1 style=\"text-align:right;font-size:100%\">\n",
    "טבלת מספרי זיהוי של גושים"
   ]
  },
  {
   "cell_type": "code",
   "execution_count": null,
   "id": "e9b45c92-737a-401e-99b8-ffa312779621",
   "metadata": {},
   "outputs": [],
   "source": [
    "Blocks = pd.read_csv(CNFG.CSVPath + 'BlockUniqueIDs.csv', usecols = ['Name', 'BlockUniqueID'])"
   ]
  },
  {
   "cell_type": "markdown",
   "id": "dcb6f2b2-c514-4de5-8d86-6fe1a76d339b",
   "metadata": {},
   "source": [
    "<h1 style=\"text-align:right; font-size:150%; color:#1c6ce6;\">\n",
    "עיבוד נתונים 🛠️"
   ]
  },
  {
   "cell_type": "markdown",
   "id": "5fa9a877-cb0d-4823-9ba6-6235efc5b87a",
   "metadata": {},
   "source": [
    "<h1 style=\"text-align:right;font-size:100%\">\n",
    "סינון גבולות תהליכי קדסטר קיימים לפי גבולות הסדר גוש"
   ]
  },
  {
   "cell_type": "code",
   "execution_count": null,
   "id": "04bf8211-c01b-4934-80ec-9dbc963b8945",
   "metadata": {},
   "outputs": [],
   "source": [
    "print('  10.b Cleaning data')"
   ]
  },
  {
   "cell_type": "code",
   "execution_count": null,
   "id": "2426260f-abac-4829-8c84-3b0087eb21a1",
   "metadata": {},
   "outputs": [],
   "source": [
    "regulation_borders = CadasterProcessBorder[CadasterProcessBorder['CADASTER_PROCESS'] == 1]\n",
    "regulation_borders = regulation_borders.drop(columns = 'CADASTER_PROCESS')\n",
    "\n",
    "del CadasterProcessBorder"
   ]
  },
  {
   "cell_type": "code",
   "execution_count": null,
   "id": "c99a8f47-34ec-4e6f-94f6-fea2c7056fd5",
   "metadata": {},
   "outputs": [],
   "source": [
    "print('  10.c Data conversion')"
   ]
  },
  {
   "cell_type": "markdown",
   "id": "ca0f72ca-f0cd-4764-a1ab-b56212961fea",
   "metadata": {},
   "source": [
    "<h1 style=\"text-align:right;font-size:100%\">\n",
    "מתן שם מפה לתהליך"
   ]
  },
  {
   "cell_type": "code",
   "execution_count": null,
   "id": "7f70ce97-8cd4-4202-9b46-6617eae60362",
   "metadata": {},
   "outputs": [],
   "source": [
    "regulation_borders['GUSHSUFFIX'] = regulation_borders['GUSHSUFFIX'].fillna(0)\n",
    "\n",
    "regulation_borders[['GUSHNUM', 'GUSHSUFFIX']] = regulation_borders[['GUSHNUM', 'GUSHSUFFIX']].astype(int)\n",
    "\n",
    "regulation_borders['ProcessName'] = regulation_borders['GUSHNUM'].astype(str) + '/' + regulation_borders['GUSHSUFFIX'].astype(str) + ' הסדר'"
   ]
  },
  {
   "cell_type": "markdown",
   "id": "b5b10e00-5eec-4b57-9637-182a088d7c68",
   "metadata": {},
   "source": [
    "<h1 style=\"text-align:right;font-size:100%\">\n",
    "יצירת שדה משותף של מספר גוש מלא ואיחוד עם שכבת גושי קדסטר מודרנית לקבלת מזהה גוש"
   ]
  },
  {
   "cell_type": "code",
   "execution_count": null,
   "id": "9e925c56-a9fe-4282-b5e5-efb683ad1190",
   "metadata": {},
   "outputs": [],
   "source": [
    "regulation_borders['BlockName'] = regulation_borders['GUSHNUM'].astype(str) + '/' + regulation_borders['GUSHSUFFIX'].astype(str)\n",
    "\n",
    "regulation_borders = regulation_borders.merge(Blocks, left_on = 'BlockName', right_on = 'Name', how = 'left')\n",
    "\n",
    "del Blocks"
   ]
  },
  {
   "cell_type": "markdown",
   "id": "20092e69-fa82-4aae-9720-1018248361d1",
   "metadata": {},
   "source": [
    "<h1 style=\"text-align:right;font-size:100%\">\n",
    "הסרת כפילויות"
   ]
  },
  {
   "cell_type": "code",
   "execution_count": null,
   "id": "bfb7e8b7-00e9-49ea-b699-4ff95adf027b",
   "metadata": {},
   "outputs": [],
   "source": [
    "regulation_borders = regulation_borders.drop_duplicates(subset = 'BlockName', keep=False)"
   ]
  },
  {
   "cell_type": "code",
   "execution_count": null,
   "id": "c60edb3d-1026-416f-8f08-c8004e7b2c60",
   "metadata": {
    "tags": []
   },
   "outputs": [],
   "source": [
    "regulation_borders['GUSH_STATUS'] = regulation_borders['GUSH_STATUS'].astype(int)\n",
    "\n",
    "status_clf = {0    : 90,\n",
    "              7    : 90,\n",
    "              9    : 90,\n",
    "              10   : 90,\n",
    "              11   : 91,\n",
    "              13   : 95,\n",
    "              15   : 99,\n",
    "              17   : 90,\n",
    "              None : 90}\n",
    "\n",
    "\n",
    "regulation_borders['GUSH_STATUS'] = regulation_borders['GUSH_STATUS'].fillna(0)\n",
    "regulation_borders['GUSH_STATUS'] = regulation_borders['GUSH_STATUS'].map(status_clf)\n",
    "regulation_borders['GUSH_STATUS'] = regulation_borders['GUSH_STATUS'].astype(int)"
   ]
  },
  {
   "cell_type": "markdown",
   "id": "ef56e942-0363-452b-bbaa-6e73252b7df9",
   "metadata": {},
   "source": [
    "<h1 style=\"text-align:right; font-size:150%; color:#1c6ce6;\"> \n",
    "יצירת שכבה חדשה בהתאם לאפיון ✨"
   ]
  },
  {
   "cell_type": "code",
   "execution_count": null,
   "id": "139805d1-7af9-4c76-8901-9350b9b08a1b",
   "metadata": {},
   "outputs": [],
   "source": [
    "print('  10.d Defining new Layer')"
   ]
  },
  {
   "cell_type": "code",
   "execution_count": null,
   "id": "35ed7646-fb1e-4a07-999d-ee2e35a93802",
   "metadata": {},
   "outputs": [],
   "source": [
    "new_columns = np.dtype([\n",
    "                        (\"CPBUniqueID\", int),\n",
    "                        (\"BlockUniqueID\", int),\n",
    "                        (\"ProcessType\", int),\n",
    "                        #(\"MapYear\", int),\n",
    "                        (\"ProcessName\", str),\n",
    "                        (\"GeodeticNetwork\", int),\n",
    "                        (\"Status\", int),\n",
    "                        #(\"PlanName\", str),\n",
    "                        #(\"SurveyorLicenseID\", int),\n",
    "                        (\"DataSource\", int),\n",
    "                        (\"geometry\", str)\n",
    "                        ])\n",
    "\n",
    "\n",
    "BlocksRegulationBorders = gpd.GeoDataFrame(np.empty(0, dtype=new_columns),\n",
    "                                           geometry = 'geometry',\n",
    "                                           crs = 2039)"
   ]
  },
  {
   "cell_type": "markdown",
   "id": "bbb01e6e-18db-46b6-a47a-9ee82c97043e",
   "metadata": {},
   "source": [
    "<h1 style=\"text-align:right;font-size:100%\">\n",
    "איכלוס שדות"
   ]
  },
  {
   "cell_type": "code",
   "execution_count": null,
   "id": "33feea6d-71fe-4aef-8372-a2d652bc5861",
   "metadata": {},
   "outputs": [],
   "source": [
    "BlocksRegulationBorders['geometry'] = regulation_borders['geometry']\n",
    "\n",
    "BlocksRegulationBorders['DataSource'] = 5 #CAD\n",
    "\n",
    "#BlocksRegulationBorders['SurveyorLicenseID'] = 0   # לא קיים מידע\n",
    "\n",
    "#BlocksRegulationBorders['PlanName'] = None   # לא קיים מידע\n",
    "\n",
    "BlocksRegulationBorders['Status'] = regulation_borders['GUSH_STATUS'].astype(int)\n",
    "\n",
    "BlocksRegulationBorders['GeodeticNetwork'] = 3   # רשת ישראל התקפה\n",
    "\n",
    "BlocksRegulationBorders['ProcessName'] = regulation_borders['ProcessName']\n",
    "\n",
    "#BlocksRegulationBorders['MapYear'] = None\n",
    "\n",
    "BlocksRegulationBorders['ProcessType'] = 9   # הסדר מקרקעין\n",
    "\n",
    "BlocksRegulationBorders['BlockUniqueID'] = regulation_borders['BlockUniqueID'].astype('Int64')\n",
    "\n",
    "BlocksRegulationBorders['CPBUniqueID'] = range(1, len(BlocksRegulationBorders)+1)\n",
    "BlocksRegulationBorders['CPBUniqueID'] = BlocksRegulationBorders['CPBUniqueID'] + 9000000\n",
    "BlocksRegulationBorders['CPBUniqueID'] = BlocksRegulationBorders['CPBUniqueID'].astype(int)"
   ]
  },
  {
   "cell_type": "markdown",
   "id": "e5a57c17-b620-4952-9d5e-2ea93a5a5013",
   "metadata": {},
   "source": [
    "<h1 style=\"text-align:right; font-size:150%; color:#1c6ce6;\"> \n",
    "שמירת תוצאות 💾\n",
    "<h1 style=\"text-align:right; font-size:100%;\"> \n",
    "<h1 style=\"text-align:right; font-size:100%;\"> \n",
    "בחירת נתיב\n",
    "<h1 style=\"text-align:right; font-size:100%;\"> \n",
    "שמירה כטבלה\n",
    "<h1 style=\"text-align:right; font-size:100%;\"> \n",
    "שמירה כשכבה גיאוגרפית"
   ]
  },
  {
   "cell_type": "code",
   "execution_count": null,
   "id": "df3eaaab-0235-4526-bde9-34894c382a98",
   "metadata": {},
   "outputs": [],
   "source": [
    "print('  10.e Exporting results to product folder')"
   ]
  },
  {
   "cell_type": "code",
   "execution_count": null,
   "id": "bdadc7ac-7bd6-42fa-9978-73ea64a9fc0d",
   "metadata": {},
   "outputs": [],
   "source": [
    "json_dir =  CNFG.JsonPath + 'BlocksRegulationBorders.geojson'\n",
    "\n",
    "BlocksRegulationBorders.to_file(json_dir, driver = 'GeoJSON')"
   ]
  },
  {
   "cell_type": "code",
   "execution_count": null,
   "id": "dc4beff0-ed12-48d0-9ee5-145bfaffefb7",
   "metadata": {},
   "outputs": [],
   "source": [
    "subprocess.call([CNFG.BatchPath + 'BlocksRegulationBorders-Save as Feature Class.bat']);"
   ]
  }
 ],
 "metadata": {
  "kernelspec": {
   "display_name": "Python 3 (ipykernel)",
   "language": "python",
   "name": "python3"
  },
  "language_info": {
   "codemirror_mode": {
    "name": "ipython",
    "version": 3
   },
   "file_extension": ".py",
   "mimetype": "text/x-python",
   "name": "python",
   "nbconvert_exporter": "python",
   "pygments_lexer": "ipython3",
   "version": "3.11.3"
  }
 },
 "nbformat": 4,
 "nbformat_minor": 5
}
