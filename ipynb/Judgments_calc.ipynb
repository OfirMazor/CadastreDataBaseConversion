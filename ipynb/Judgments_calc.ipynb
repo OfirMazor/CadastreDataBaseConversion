{
 "cells": [
  {
   "cell_type": "markdown",
   "id": "63f4947d-61c3-4b47-b9a4-daba16094cad",
   "metadata": {},
   "source": [
    "<h1 style=\"background-color:#1c6ce6;\n",
    "           font-family:segoe ui;\n",
    "                color:#FFF9ED;\n",
    "           font-size:300%;\n",
    "           text-align:center;\n",
    "           border-radius:10px 10px;\"> \n",
    "🔨👨‍⚖️ תהליך הסבת שכבת גבולות פסקי דין לבנק\"ל מודרני 🔨👨‍⚖️ "
   ]
  },
  {
   "cell_type": "code",
   "execution_count": null,
   "id": "86c300e8-5fbd-447b-b14e-6442eb560201",
   "metadata": {},
   "outputs": [],
   "source": [
    "print('8. Judgments borders:')"
   ]
  },
  {
   "cell_type": "markdown",
   "id": "264dfa2f-66e5-4f22-b2be-2fd2e9479992",
   "metadata": {},
   "source": [
    "<h1 style=\"text-align:right; font-size:150%; color:#1c6ce6;\">\n",
    "ספריות 📚"
   ]
  },
  {
   "cell_type": "code",
   "execution_count": null,
   "id": "c34e26aa-1d95-452e-b3c8-08fee687e161",
   "metadata": {
    "tags": []
   },
   "outputs": [],
   "source": [
    "import warnings\n",
    "warnings.filterwarnings('ignore')\n",
    "\n",
    "from configs import CNFG\n",
    "import numpy as np\n",
    "import pandas as pd\n",
    "import geopandas as gpd\n",
    "import datetime as dt\n",
    "import subprocess"
   ]
  },
  {
   "cell_type": "markdown",
   "id": "59011686-a7fe-4c86-8e54-436aa7f954f5",
   "metadata": {},
   "source": [
    "<h1 style=\"text-align:right; font-size:150%; color:#1c6ce6;\">קריאת נתונים 📑 "
   ]
  },
  {
   "cell_type": "code",
   "execution_count": null,
   "id": "685770da-4810-4d55-9c01-80b0ce676bd2",
   "metadata": {},
   "outputs": [],
   "source": [
    "print('  8.a Reading inputs')"
   ]
  },
  {
   "cell_type": "markdown",
   "id": "caf4fefe-e14f-4015-acdd-953ed2ae201e",
   "metadata": {},
   "source": [
    "<h1 style=\"text-align:right;font-size:100%\">\n",
    "שכבת גבולות פס\"ד קיימת"
   ]
  },
  {
   "cell_type": "code",
   "execution_count": null,
   "id": "4cce2ec9-3073-4cf3-897c-f569f83541ea",
   "metadata": {
    "tags": []
   },
   "outputs": [],
   "source": [
    "GVUL_PSAK_DIN_cols = ['PSAK_DIN_ID', 'PSAK_DIN_NUM', 'PSAK_DIN_YEAR', 'geometry']\n",
    "\n",
    "GVUL_PSAK_DIN = gpd.read_file(CNFG.CADSDE + 'GVUL_PSAK_DIN_NEW1.gdb', layer = 'GVUL_PSAK_DIN_NEW1', include_fields = GVUL_PSAK_DIN_cols)\n",
    "\n",
    "del GVUL_PSAK_DIN_cols"
   ]
  },
  {
   "cell_type": "markdown",
   "id": "bac5aa62-e352-4846-b231-ad5b3a63e033",
   "metadata": {},
   "source": [
    "<h1 style=\"text-align:right;font-size:100%\">\n",
    "טבלת פס\"ד"
   ]
  },
  {
   "cell_type": "code",
   "execution_count": null,
   "id": "ca64ef2f-1e56-46bb-a7e4-fdae66a9623a",
   "metadata": {
    "tags": []
   },
   "outputs": [],
   "source": [
    "orcale_cols = ['PSAK_DIN_ID', 'PSAK_DIN_NUM', 'PSAK_DIN_YEAR', 'NAME', 'SOURCE', 'GUSH_NUM', 'GUSH_SUFFIX', 'STATUS', 'STATUS_DATE', 'START_DATE']\n",
    "\n",
    "oracle_df = pd.read_csv(CNFG.Oracle + 'psak_din.csv', encoding = 'cp1255', usecols = orcale_cols)\n",
    "\n",
    "del orcale_cols"
   ]
  },
  {
   "cell_type": "markdown",
   "id": "946b3643-304e-4585-a96c-036ff8a76be2",
   "metadata": {},
   "source": [
    "<h1 style=\"text-align:right;font-size:100%\">\n",
    "שכבת גושים מודרנית"
   ]
  },
  {
   "cell_type": "code",
   "execution_count": null,
   "id": "6e576205-6804-4f31-8d85-c1df3f63a69a",
   "metadata": {},
   "outputs": [],
   "source": [
    "Blocks = pd.read_csv(CNFG.CSVPath + 'BlockUniqueIDs.csv', usecols = ['Name', 'BlockUniqueID'])"
   ]
  },
  {
   "cell_type": "markdown",
   "id": "7fe1b280-e13f-48c0-a7ef-1cd4f4e34d6d",
   "metadata": {},
   "source": [
    "<h1 style=\"text-align:right; font-size:150%; color:#1c6ce6;\">\n",
    "עיבוד נתונים 🛠️"
   ]
  },
  {
   "cell_type": "code",
   "execution_count": null,
   "id": "7679df32-50c4-487b-918d-60a56bdc9910",
   "metadata": {},
   "outputs": [],
   "source": [
    "print('  8.b Cleaning data')"
   ]
  },
  {
   "cell_type": "code",
   "execution_count": null,
   "id": "99997001-9a70-4829-bfea-8d56f8336b58",
   "metadata": {},
   "outputs": [],
   "source": [
    "print('  8.c Data conversion')"
   ]
  },
  {
   "cell_type": "markdown",
   "id": "1c96e692-d05e-440b-9741-350cb80bf2ea",
   "metadata": {},
   "source": [
    "<h1 style=\"text-align:right;font-size:125%\">\n",
    ":עיבוד שכבת גבולות פס\"ד\n",
    "<h1 style=\"text-align:right;font-size:100%\">\n",
    "הוספת שדה של שם התכנית לפי מספר ושנת פס\"ד"
   ]
  },
  {
   "cell_type": "code",
   "execution_count": null,
   "id": "74bf7331-1320-4c2a-8f87-fa90a452c4a1",
   "metadata": {},
   "outputs": [],
   "source": [
    "GVUL_PSAK_DIN[['PSAK_DIN_ID', 'PSAK_DIN_NUM', 'PSAK_DIN_YEAR']] = GVUL_PSAK_DIN[['PSAK_DIN_ID', 'PSAK_DIN_NUM', 'PSAK_DIN_YEAR']].astype(int)\n",
    "\n",
    "GVUL_PSAK_DIN['ProcessName'] = GVUL_PSAK_DIN['PSAK_DIN_NUM'].astype(str) + '-' + GVUL_PSAK_DIN['PSAK_DIN_YEAR'].astype(str)\n",
    "GVUL_PSAK_DIN.drop(columns = ['PSAK_DIN_NUM', 'PSAK_DIN_YEAR'], inplace=True)"
   ]
  },
  {
   "cell_type": "markdown",
   "id": "2659154b-2655-49fa-a89d-46bff73990a2",
   "metadata": {},
   "source": [
    "<h1 style=\"text-align:right;font-size:125%\">\n",
    ":עיבוד טבלת פס\"ד\n",
    "<h1 style=\"text-align:right;font-size:100%\">\n",
    "הוספת שדה של שם התכנית לפי מספר ושנת פס\"ד\n",
    "<h1 style=\"text-align:right;font-size:100%\">\n",
    "הגדרת שדות של תאריך כשדות מסוג תאריך"
   ]
  },
  {
   "cell_type": "code",
   "execution_count": null,
   "id": "d002694c-e451-481e-b75e-dd29b5d35301",
   "metadata": {},
   "outputs": [],
   "source": [
    "oracle_df['ProcessName'] = oracle_df['PSAK_DIN_NUM'].astype('str') + '-' + oracle_df['PSAK_DIN_YEAR'].astype('str')"
   ]
  },
  {
   "cell_type": "code",
   "execution_count": null,
   "id": "625a9a58-22b7-4528-8b50-59eafda461bd",
   "metadata": {},
   "outputs": [],
   "source": [
    "oracle_df['STATUS_DATE'] = pd.to_datetime(oracle_df['STATUS_DATE'], format = '%d/%m/%Y %H:%M:%S')\n",
    "\n",
    "oracle_df['START_DATE'] = pd.to_datetime(oracle_df['START_DATE'], format = '%d/%m/%Y %H:%M:%S')"
   ]
  },
  {
   "cell_type": "markdown",
   "id": "e347d4b9-3b1e-4d8c-b258-05ee64543078",
   "metadata": {},
   "source": [
    "<h1 style=\"text-align:right;font-size:125%\">\n",
    ":עיבוד שכבת גושים מודרנית\n",
    "<h1 style=\"text-align:right;font-size:100%\">\n",
    "יצירת שדה מקשר לטובת איחוד עם שכבת גושים והשגת מזהה גוש בהמשך   "
   ]
  },
  {
   "cell_type": "code",
   "execution_count": null,
   "id": "e1f68dcf-fb05-49ca-beb9-bb954a6e9ea8",
   "metadata": {},
   "outputs": [],
   "source": [
    "oracle_df['GUSH_SUFFIX'] = oracle_df['GUSH_SUFFIX'].fillna(0)\n",
    "oracle_df[['GUSH_NUM', 'GUSH_SUFFIX']] = oracle_df[['GUSH_NUM', 'GUSH_SUFFIX']].astype(int)\n",
    "oracle_df['BlockName'] = oracle_df['GUSH_NUM'].astype(str) + '/' + oracle_df['GUSH_SUFFIX'].astype(str)"
   ]
  },
  {
   "cell_type": "markdown",
   "id": "e380ab06-a86a-4486-b9a8-98e3735c453e",
   "metadata": {},
   "source": [
    "<h1 style=\"text-align:right;font-size:125%\">\n",
    "מיזוג טבלאות "
   ]
  },
  {
   "cell_type": "code",
   "execution_count": null,
   "id": "f9117e2d-685c-46f2-bc92-234c8a0a387a",
   "metadata": {},
   "outputs": [],
   "source": [
    "merge = GVUL_PSAK_DIN.merge(oracle_df, on = ['PSAK_DIN_ID', 'ProcessName'], how = 'outer').sort_values('ProcessName')"
   ]
  },
  {
   "cell_type": "code",
   "execution_count": null,
   "id": "198080ee-827b-4a26-8ec7-091ca9a00ae4",
   "metadata": {},
   "outputs": [],
   "source": [
    "merge = merge.merge(Blocks, left_on = 'BlockName', right_on = 'Name', how = 'left')\n",
    "merge = merge.drop_duplicates(keep = 'first')\n",
    "\n",
    "del [GVUL_PSAK_DIN, oracle_df, Blocks]"
   ]
  },
  {
   "cell_type": "markdown",
   "id": "9d15154a-5dd5-4277-99ac-7b5aabc35b7f",
   "metadata": {},
   "source": [
    "<h1 style=\"text-align:right; font-size:150%; color:#1c6ce6;\"> \n",
    "יצירת שכבה חדשה בהתאם לאפיון ✨"
   ]
  },
  {
   "cell_type": "code",
   "execution_count": null,
   "id": "4a9ec007-7506-41e3-b2a1-e5e2b83873a0",
   "metadata": {},
   "outputs": [],
   "source": [
    "print('  8.d Defining new Layer')"
   ]
  },
  {
   "cell_type": "code",
   "execution_count": null,
   "id": "e0e38cfe-34af-4679-8786-6d015136f6c6",
   "metadata": {},
   "outputs": [],
   "source": [
    "new_columns = np.dtype([\n",
    "                        (\"CPBUniqueID\", int),\n",
    "                        (\"BlockUniqueID\", int),\n",
    "                        (\"ProcessType\", int),\n",
    "                        (\"MapYear\", int),\n",
    "                        (\"ProcessName\", str),\n",
    "                        (\"GeodeticNetwork\", int),   #לא קיים שדה לייבוא\n",
    "                        (\"Status\", int),\n",
    "                        (\"PlanName\", str),\n",
    "                        #(\"SurveyorLicenseID\", int), #אין מודד בתהליכי פס\"ד\n",
    "                        (\"DataSource\", int),\n",
    "                        (\"geometry\", int)\n",
    "                        ])\n",
    "\n",
    "\n",
    "Judgments = gpd.GeoDataFrame(np.empty(0, dtype = new_columns),\n",
    "                             crs = 2039,\n",
    "                             geometry = 'geometry')\n",
    "\n",
    "del new_columns"
   ]
  },
  {
   "cell_type": "markdown",
   "id": "5c487be4-42b7-47ec-bce3-f18bb836bbc5",
   "metadata": {},
   "source": [
    "<h1 style=\"text-align:right;font-size:100%\">\n",
    "    איכלוס שדות"
   ]
  },
  {
   "cell_type": "code",
   "execution_count": null,
   "id": "9338c72f-af10-4aea-80f3-fe0c2cdab5d9",
   "metadata": {},
   "outputs": [],
   "source": [
    "Judgments['BlockUniqueID'] = merge['BlockUniqueID'].astype('Int64')\n",
    "\n",
    "\n",
    "Judgments['ProcessType'] = 3 # פסק דין\n",
    "\n",
    "\n",
    "Judgments['MapYear'] = merge['START_DATE'].dt.year\n",
    "Judgments['MapYear'] = Judgments['MapYear'].astype('Int64')\n",
    "\n",
    "\n",
    "Judgments['ProcessName'] = merge['ProcessName'].astype(str)\n",
    "\n",
    "\n",
    "statusDict = {1 : 11,    #בטיפול האגף - בטיפול האגף\n",
    "              2 : 12,    #בבדיקת הממונה על המרשם - בבדיקת הממונה על המרשם\n",
    "              3 : 13,    # מאושר - מאושר\n",
    "              4 : 36,    # מבוטל - מבוטל\n",
    "              None : 36} #ללא ערך - מבוטל\n",
    "Judgments['Status'] = merge['STATUS'].map(statusDict)\n",
    "Judgments['Status'] = Judgments['Status'].fillna(36)\n",
    "Judgments['Status'] = Judgments['Status'].astype(int)\n",
    "\n",
    "\n",
    "Judgments['PlanName'] = merge['NAME']\n",
    "\n",
    "\n",
    "Judgments['GeodeticNetwork'] = 0\n",
    "\n",
    "\n",
    "#Judgments['SurveyorLicenseID'] = None\n",
    "\n",
    "\n",
    "Judgments['DataSource'] = 5 #CAD\n",
    "\n",
    "\n",
    "Judgments['geometry'] = merge['geometry']\n",
    "\n",
    "\n",
    "Judgments['CPBUniqueID'] = merge['PSAK_DIN_ID'] + 3000000\n",
    "Judgments.dropna(subset = ['CPBUniqueID'], inplace = True)\n",
    "Judgments['CPBUniqueID'] = Judgments['CPBUniqueID'].astype(int)"
   ]
  },
  {
   "cell_type": "code",
   "execution_count": null,
   "id": "6e6716ed-95d7-47de-b937-f9710b9381b1",
   "metadata": {},
   "outputs": [],
   "source": [
    "Judgments.sort_values('CPBUniqueID', inplace=True)\n",
    "\n",
    "del merge"
   ]
  },
  {
   "cell_type": "markdown",
   "id": "a1b8012b-80d1-4ee8-9273-a8025d2d1e92",
   "metadata": {},
   "source": [
    "<h1 style=\"text-align:right; font-size:150%; color:#1c6ce6;\"> \n",
    "שמירת תוצאות 💾\n",
    "<h1 style=\"text-align:right; font-size:100%;\"> \n",
    "<h1 style=\"text-align:right; font-size:100%;\"> \n",
    "בחירת נתיב\n",
    "<h1 style=\"text-align:right; font-size:100%;\"> \n",
    "שמירה כטבלה\n",
    "<h1 style=\"text-align:right; font-size:100%;\"> \n",
    "שמירה כשכבה גיאוגרפית"
   ]
  },
  {
   "cell_type": "code",
   "execution_count": null,
   "id": "f2dec08b-12fb-4e31-b7f1-4f73c8f1fd3e",
   "metadata": {},
   "outputs": [],
   "source": [
    "Judgments_geom = Judgments[~Judgments['geometry'].isna()]\n",
    "Judgments_no_geom = Judgments[Judgments['geometry'].isna()]"
   ]
  },
  {
   "cell_type": "code",
   "execution_count": null,
   "id": "98a0f736-3739-449a-a11a-904ab8fe1b71",
   "metadata": {},
   "outputs": [],
   "source": [
    "print('  8.e Exporting results to product folder')"
   ]
  },
  {
   "cell_type": "code",
   "execution_count": null,
   "id": "5af94ec1-fab8-403b-8763-041acee99993",
   "metadata": {},
   "outputs": [],
   "source": [
    "no_geom_csv_dir = CNFG.CSVPath + 'Judgments_no_geom.csv'\n",
    "json_dir        = CNFG.JsonPath + 'Judgments_geom.geojson'\n",
    "\n",
    "\n",
    "Judgments_no_geom.drop(columns = ['geometry']).to_csv(no_geom_csv_dir, encoding = 'cp1255', index = False)\n",
    "Judgments_geom.to_file(json_dir, driver = 'GeoJSON')"
   ]
  },
  {
   "cell_type": "code",
   "execution_count": null,
   "id": "71653baf-289c-4589-94ed-f38b744b238a",
   "metadata": {},
   "outputs": [],
   "source": [
    "subprocess.call([CNFG.BatchPath + 'Judgments-Save as Feature Class.bat']);"
   ]
  }
 ],
 "metadata": {
  "kernelspec": {
   "display_name": "Python 3 (ipykernel)",
   "language": "python",
   "name": "python3"
  },
  "language_info": {
   "codemirror_mode": {
    "name": "ipython",
    "version": 3
   },
   "file_extension": ".py",
   "mimetype": "text/x-python",
   "name": "python",
   "nbconvert_exporter": "python",
   "pygments_lexer": "ipython3",
   "version": "3.11.3"
  }
 },
 "nbformat": 4,
 "nbformat_minor": 5
}
