{
 "cells": [
  {
   "cell_type": "markdown",
   "id": "63f4947d-61c3-4b47-b9a4-daba16094cad",
   "metadata": {},
   "source": [
    "<h1 style=\"background-color:#1c6ce6;\n",
    "           font-family:segoe ui;\n",
    "                color:#FFF9ED;\n",
    "           font-size:300%;\n",
    "           text-align:center;\n",
    "           border-radius:10px 10px;\"> \n",
    "🔨👨‍⚖️ תהליך הסבת שכבת גבולות פסקי דין לבנק\"ל מודרני 🔨👨‍⚖️ "
   ]
  },
  {
   "cell_type": "code",
   "execution_count": null,
   "id": "86c300e8-5fbd-447b-b14e-6442eb560201",
   "metadata": {},
   "outputs": [],
   "source": [
    "print(' Judgments borders:')"
   ]
  },
  {
   "cell_type": "markdown",
   "id": "264dfa2f-66e5-4f22-b2be-2fd2e9479992",
   "metadata": {},
   "source": [
    "<h1 style=\"text-align:right; font-size:150%; color:#1c6ce6;\">\n",
    "ספריות 📚"
   ]
  },
  {
   "cell_type": "code",
   "execution_count": null,
   "id": "c34e26aa-1d95-452e-b3c8-08fee687e161",
   "metadata": {
    "tags": []
   },
   "outputs": [],
   "source": [
    "import warnings\n",
    "warnings.filterwarnings('ignore')\n",
    "\n",
    "import numpy as np\n",
    "import pandas as pd\n",
    "import datetime as dt\n",
    "import geopandas as gpd\n",
    "from configs import CNFG\n",
    "from helpers import assign_BlockName"
   ]
  },
  {
   "cell_type": "markdown",
   "id": "59011686-a7fe-4c86-8e54-436aa7f954f5",
   "metadata": {},
   "source": [
    "<h1 style=\"text-align:right; font-size:150%; color:#1c6ce6;\">קריאת נתונים 📑 "
   ]
  },
  {
   "cell_type": "code",
   "execution_count": null,
   "id": "685770da-4810-4d55-9c01-80b0ce676bd2",
   "metadata": {},
   "outputs": [],
   "source": [
    "print('   Reading inputs')"
   ]
  },
  {
   "cell_type": "markdown",
   "id": "caf4fefe-e14f-4015-acdd-953ed2ae201e",
   "metadata": {},
   "source": [
    "<h1 style=\"text-align:right;font-size:100%\">\n",
    "שכבת גבולות פס\"ד קיימת"
   ]
  },
  {
   "cell_type": "code",
   "execution_count": null,
   "id": "4cce2ec9-3073-4cf3-897c-f569f83541ea",
   "metadata": {
    "tags": []
   },
   "outputs": [],
   "source": [
    "GVUL_PSAK_DIN_cols =  ['PSAK_DIN_ID', 'PSAK_DIN_NUM', 'PSAK_DIN_YEAR', 'NAME', 'SOURCE', 'GUSH_NUM', 'GUSH_SUFFIX', 'STATUS', 'STATUS_DATE', 'geometry']\n",
    "\n",
    "GVUL_PSAK_DIN = gpd.read_file(CNFG.CADSDE + 'GVUL_PSAK_DIN_NEW1.gdb', layer = 'GVUL_PSAK_DIN_NEW1', include_fields = GVUL_PSAK_DIN_cols)\n",
    "\n",
    "del GVUL_PSAK_DIN_cols"
   ]
  },
  {
   "cell_type": "markdown",
   "id": "bac5aa62-e352-4846-b231-ad5b3a63e033",
   "metadata": {},
   "source": [
    "<h1 style=\"text-align:right;font-size:100%\">\n",
    "טבלת פס\"ד"
   ]
  },
  {
   "cell_type": "code",
   "execution_count": null,
   "id": "ca64ef2f-1e56-46bb-a7e4-fdae66a9623a",
   "metadata": {
    "tags": []
   },
   "outputs": [],
   "source": [
    "orcale_cols = ['PSAK_DIN_ID', 'PSAK_DIN_NUM', 'PSAK_DIN_YEAR', 'NAME', 'SOURCE', 'GUSH_NUM', 'GUSH_SUFFIX', 'STATUS', 'STATUS_DATE']\n",
    "\n",
    "oracle_df = pd.read_csv(CNFG.Oracle + 'psak_din.csv', encoding = 'cp1255', usecols = orcale_cols)\n",
    "\n",
    "del orcale_cols"
   ]
  },
  {
   "cell_type": "markdown",
   "id": "248fb585-563c-4ed3-8252-9d1a3b3a6c8a",
   "metadata": {},
   "source": [
    "<h1 style=\"text-align:right;font-size:100%\">\n",
    "רשימת פס\"ד שיש להתעלם מהם"
   ]
  },
  {
   "cell_type": "code",
   "execution_count": null,
   "id": "9f7720c1-2ef4-4897-92bd-b1f430a6a79e",
   "metadata": {
    "tags": []
   },
   "outputs": [],
   "source": [
    "JudgmentToIgnore = pd.read_excel(CNFG.Local + 'JudgmentsToIgnore.xlsx', usecols = ['ProcessName']).query('ProcessName.notna()')"
   ]
  },
  {
   "cell_type": "markdown",
   "id": "946b3643-304e-4585-a96c-036ff8a76be2",
   "metadata": {},
   "source": [
    "<h1 style=\"text-align:right;font-size:100%\">\n",
    "שכבת גושים מודרנית"
   ]
  },
  {
   "cell_type": "code",
   "execution_count": null,
   "id": "6e576205-6804-4f31-8d85-c1df3f63a69a",
   "metadata": {},
   "outputs": [],
   "source": [
    "Blocks = pd.read_csv(CNFG.CSVPath + 'BlockUniqueIDs.csv', usecols = ['Name', 'GlobalID', 'IsTax'])\n",
    "Blocks = Blocks[Blocks['IsTax'] == 0].drop(columns = 'IsTax')"
   ]
  },
  {
   "cell_type": "markdown",
   "id": "7fe1b280-e13f-48c0-a7ef-1cd4f4e34d6d",
   "metadata": {},
   "source": [
    "<h1 style=\"text-align:right; font-size:150%; color:#1c6ce6;\">\n",
    "עיבוד נתונים 🛠️"
   ]
  },
  {
   "cell_type": "code",
   "execution_count": null,
   "id": "7679df32-50c4-487b-918d-60a56bdc9910",
   "metadata": {},
   "outputs": [],
   "source": [
    "print('   Cleaning data')"
   ]
  },
  {
   "cell_type": "markdown",
   "id": "1c96e692-d05e-440b-9741-350cb80bf2ea",
   "metadata": {},
   "source": [
    "<h1 style=\"text-align:right;font-size:125%\">\n",
    ":עיבוד שכבת גבולות פס\"ד\n",
    "<h1 style=\"text-align:right;font-size:100%\">\n",
    "הוספת שדה של שם התכנית לפי מספר ושנת פס\"ד"
   ]
  },
  {
   "cell_type": "code",
   "execution_count": null,
   "id": "74bf7331-1320-4c2a-8f87-fa90a452c4a1",
   "metadata": {},
   "outputs": [],
   "source": [
    "GVUL_PSAK_DIN[['PSAK_DIN_ID', 'PSAK_DIN_NUM', 'PSAK_DIN_YEAR']] = GVUL_PSAK_DIN[['PSAK_DIN_ID', 'PSAK_DIN_NUM', 'PSAK_DIN_YEAR']].astype(int)\n",
    "\n",
    "GVUL_PSAK_DIN['ProcessName'] = GVUL_PSAK_DIN['PSAK_DIN_NUM'].astype(str) + '-' + GVUL_PSAK_DIN['PSAK_DIN_YEAR'].astype(str)\n",
    "GVUL_PSAK_DIN.drop(columns = ['PSAK_DIN_NUM', 'PSAK_DIN_YEAR'], inplace=True)\n",
    "\n",
    "GVUL_PSAK_DIN = assign_BlockName(GVUL_PSAK_DIN, 'GUSH_NUM', 'GUSH_SUFFIX')\n",
    "\n",
    "GVUL_PSAK_DIN['STATUS'] = GVUL_PSAK_DIN['STATUS'].astype('Int64')"
   ]
  },
  {
   "cell_type": "markdown",
   "id": "2659154b-2655-49fa-a89d-46bff73990a2",
   "metadata": {},
   "source": [
    "<h1 style=\"text-align:right;font-size:125%\">\n",
    ":עיבוד טבלת פס\"ד\n",
    "<h1 style=\"text-align:right;font-size:100%\">\n",
    "הוספת שדה של שם התכנית לפי מספר ושנת פס\"ד\n",
    "<h1 style=\"text-align:right;font-size:100%\">\n",
    "הגדרת שדות של תאריך כשדות מסוג תאריך\n",
    "<h1 style=\"text-align:right;font-size:100%\">\n",
    "הגדרת שדה למספר מלא לגוש לצורך מיזוג בהמשך\n",
    "<h1 style=\"text-align:right;font-size:100%\">\n",
    "הסרת פסקי דין בהתאם לרשימה של פסקי דין להסרה"
   ]
  },
  {
   "cell_type": "code",
   "execution_count": null,
   "id": "d002694c-e451-481e-b75e-dd29b5d35301",
   "metadata": {},
   "outputs": [],
   "source": [
    "oracle_df[['PSAK_DIN_ID', 'PSAK_DIN_NUM', 'PSAK_DIN_YEAR']] = oracle_df[['PSAK_DIN_ID', 'PSAK_DIN_NUM', 'PSAK_DIN_YEAR']].astype(int)\n",
    "oracle_df['ProcessName'] = oracle_df['PSAK_DIN_NUM'].astype('str') + '-' + oracle_df['PSAK_DIN_YEAR'].astype('str')\n",
    "oracle_df = oracle_df.drop(columns = ['PSAK_DIN_NUM', 'PSAK_DIN_YEAR'])\n",
    "\n",
    "oracle_df = assign_BlockName(oracle_df, 'GUSH_NUM', 'GUSH_SUFFIX')\n",
    "\n",
    "oracle_df['STATUS_DATE'] = pd.to_datetime(oracle_df['STATUS_DATE'], format = '%d/%m/%Y %H:%M:%S')\n",
    "\n",
    "oracle_df['STATUS'] = oracle_df['STATUS'].astype('Int64')"
   ]
  },
  {
   "cell_type": "code",
   "execution_count": null,
   "id": "99997001-9a70-4829-bfea-8d56f8336b58",
   "metadata": {},
   "outputs": [],
   "source": [
    "print('   Data conversion')"
   ]
  },
  {
   "cell_type": "markdown",
   "id": "e380ab06-a86a-4486-b9a8-98e3735c453e",
   "metadata": {},
   "source": [
    "<h1 style=\"text-align:right;font-size:125%\">\n",
    "מיזוג טבלאות "
   ]
  },
  {
   "cell_type": "code",
   "execution_count": null,
   "id": "f9117e2d-685c-46f2-bc92-234c8a0a387a",
   "metadata": {},
   "outputs": [],
   "source": [
    "collection = pd.concat([GVUL_PSAK_DIN, oracle_df], ignore_index = True)\\\n",
    "              .sort_values('ProcessName')\n",
    "\n",
    "aggfunc = {'PSAK_DIN_ID' : 'first', 'STATUS' : 'max', 'BlockName' : 'first', 'NAME': 'first', 'SOURCE' : 'max', 'STATUS_DATE' : 'max'}\n",
    "collection = collection.dissolve(by = 'ProcessName', as_index = False, aggfunc = aggfunc)\n",
    "\n",
    "collection = collection[~collection['ProcessName'].isin(JudgmentToIgnore['ProcessName'])]\n",
    "\n",
    "del [GVUL_PSAK_DIN, oracle_df, aggfunc]"
   ]
  },
  {
   "cell_type": "code",
   "execution_count": null,
   "id": "07ec025e-a200-483c-8574-28d03afebaec",
   "metadata": {
    "tags": []
   },
   "outputs": [],
   "source": [
    "collection = collection.merge(Blocks, left_on = 'BlockName', right_on = 'Name', how = 'left')\\\n",
    "                       .rename(columns = {'GlobalID' : 'BlockUniqueID'})"
   ]
  },
  {
   "cell_type": "markdown",
   "id": "9d15154a-5dd5-4277-99ac-7b5aabc35b7f",
   "metadata": {},
   "source": [
    "<h1 style=\"text-align:right; font-size:150%; color:#1c6ce6;\"> \n",
    "יצירת שכבה חדשה בהתאם לאפיון ✨"
   ]
  },
  {
   "cell_type": "code",
   "execution_count": null,
   "id": "4a9ec007-7506-41e3-b2a1-e5e2b83873a0",
   "metadata": {},
   "outputs": [],
   "source": [
    "print('   Defining new Layer')"
   ]
  },
  {
   "cell_type": "code",
   "execution_count": null,
   "id": "e0e38cfe-34af-4679-8786-6d015136f6c6",
   "metadata": {},
   "outputs": [],
   "source": [
    "new_columns = np.dtype([\n",
    "                        (\"geometry\", gpd.array.GeometryDtype),       \n",
    "                       #(\"GlobalID\", str),\n",
    "                        (\"ProcessName\", str),\n",
    "                        (\"ProcessType\", int),\n",
    "                        (\"Status\", int),\n",
    "                        (\"BlockUniqueID\", str),\n",
    "                        (\"GeodeticNetwork\", int),\n",
    "                        (\"SurveyorLicenseID\", int),\n",
    "                        (\"DataSource\", int),\n",
    "                        (\"PlanName\", str),  \n",
    "                        (\"ORACLE_ID\", int),\n",
    "                       #(\"Shape_Length\", float),\n",
    "                       #(\"Shape_Area\", float),\n",
    "                        ])\n",
    "\n",
    "\n",
    "Judgments = gpd.GeoDataFrame(np.empty(0, dtype = new_columns),\n",
    "                             crs = 2039,\n",
    "                             geometry = 'geometry')\n",
    "\n",
    "del new_columns"
   ]
  },
  {
   "cell_type": "markdown",
   "id": "5c487be4-42b7-47ec-bce3-f18bb836bbc5",
   "metadata": {},
   "source": [
    "<h1 style=\"text-align:right;font-size:100%\">\n",
    "    איכלוס שדות"
   ]
  },
  {
   "cell_type": "code",
   "execution_count": null,
   "id": "9338c72f-af10-4aea-80f3-fe0c2cdab5d9",
   "metadata": {},
   "outputs": [],
   "source": [
    "Judgments['BlockUniqueID'] = collection['BlockUniqueID']\n",
    "\n",
    "\n",
    "Judgments['ProcessType'] = 3 # פסק דין\n",
    "\n",
    "\n",
    "Judgments['ProcessName'] = collection['ProcessName'].astype(str)\n",
    "\n",
    "\n",
    "statusDict = {1 : 11,    #בטיפול האגף - בטיפול האגף\n",
    "              2 : 12,    #בבדיקת הממונה על המרשם - בבדיקת הממונה על המרשם\n",
    "              3 : 13,    # מאושר - מאושר\n",
    "              4 : 9,    # מבוטל - מבוטל\n",
    "              None : 9} #ללא ערך - מבוטל\n",
    "Judgments['Status'] = collection['STATUS'].map(statusDict)\n",
    "Judgments['Status'] = Judgments['Status'].fillna(36)\n",
    "Judgments['Status'] = Judgments['Status'].astype(int)\n",
    "\n",
    "\n",
    "Judgments['PlanName'] = collection['NAME']\n",
    "\n",
    "\n",
    "Judgments['GeodeticNetwork'] = 0  #רשת לא ידועה\n",
    "\n",
    "\n",
    "#Judgments['SurveyorLicenseID'] = None\n",
    "\n",
    "\n",
    "Judgments['DataSource'] = 5 #CAD\n",
    "\n",
    "\n",
    "Judgments['geometry'] = collection['geometry']\n",
    "\n",
    "\n",
    "Judgments['ORACLE_ID'] = collection['PSAK_DIN_ID']"
   ]
  },
  {
   "cell_type": "code",
   "execution_count": null,
   "id": "6e6716ed-95d7-47de-b937-f9710b9381b1",
   "metadata": {},
   "outputs": [],
   "source": [
    "Judgments.sort_values('ORACLE_ID', inplace=True)\n",
    "del collection"
   ]
  },
  {
   "cell_type": "markdown",
   "id": "a1b8012b-80d1-4ee8-9273-a8025d2d1e92",
   "metadata": {},
   "source": [
    "<h1 style=\"text-align:right; font-size:150%; color:#1c6ce6;\"> \n",
    "שמירת תוצאות 💾"
   ]
  },
  {
   "cell_type": "code",
   "execution_count": null,
   "id": "98a0f736-3739-449a-a11a-904ab8fe1b71",
   "metadata": {},
   "outputs": [],
   "source": [
    "print('   Appending results to CadasterProcessBorders')"
   ]
  },
  {
   "cell_type": "code",
   "execution_count": null,
   "id": "8b2b8a55-f31d-4204-b27e-3822fd08471a",
   "metadata": {
    "tags": []
   },
   "outputs": [],
   "source": [
    "Polygons      = Judgments[(~Judgments['geometry'].isna()) & (Judgments['geometry'].geom_type == 'Polygon')]\n",
    "\n",
    "MultiPolygons = Judgments[(~Judgments['geometry'].isna()) & (Judgments['geometry'].geom_type == 'MultiPolygon')]\n",
    "\n",
    "EmptyGeometry = Judgments[Judgments['geometry'].isna()]"
   ]
  },
  {
   "cell_type": "code",
   "execution_count": null,
   "id": "6b6c7b16-40b5-4286-b534-8da6eb287879",
   "metadata": {
    "tags": []
   },
   "outputs": [],
   "source": [
    "Polygons.to_file(CNFG.Results, layer = 'PT3', driver = 'OpenFileGDB', engine = 'pyogrio', mode = 'w')\n",
    "MultiPolygons.to_file(CNFG.Results, layer = 'PT3', driver = 'OpenFileGDB', engine = 'pyogrio', mode = 'a')\n",
    "EmptyGeometry.to_file(CNFG.Results, layer = 'PT3', driver = 'OpenFileGDB', engine = 'pyogrio', mode = 'a')"
   ]
  }
 ],
 "metadata": {
  "kernelspec": {
   "display_name": "Python 3 (ipykernel)",
   "language": "python",
   "name": "python3"
  },
  "language_info": {
   "codemirror_mode": {
    "name": "ipython",
    "version": 3
   },
   "file_extension": ".py",
   "mimetype": "text/x-python",
   "name": "python",
   "nbconvert_exporter": "python",
   "pygments_lexer": "ipython3",
   "version": "3.11.3"
  }
 },
 "nbformat": 4,
 "nbformat_minor": 5
}
