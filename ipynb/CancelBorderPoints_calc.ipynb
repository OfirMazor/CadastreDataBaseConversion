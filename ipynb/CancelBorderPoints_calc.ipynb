{
 "cells": [
  {
   "cell_type": "markdown",
   "id": "e2b0cf44-42f1-491d-8985-57220672d451",
   "metadata": {},
   "source": [
    "<h1 style=\"background-color:red;\n",
    "           font-family:segoe ui;\n",
    "                color:#FFF9ED;\n",
    "           font-size:300%;\n",
    "           text-align:center;\n",
    "           border-radius:10px 10px;\"> \n",
    "    🟢 הסבת נקודות גבול מבוטלות לבנק\"ל מודרני 🟢"
   ]
  },
  {
   "cell_type": "code",
   "execution_count": null,
   "id": "a367ee55-b381-4fd3-9bd4-90849e572512",
   "metadata": {},
   "outputs": [],
   "source": [
    "print('20. Canceled Border Points:')"
   ]
  },
  {
   "cell_type": "markdown",
   "id": "1e706741-e0c7-4118-939f-551ee24e5c78",
   "metadata": {},
   "source": [
    "<h1 style=\"text-align:right; font-size:150%; color:#1c6ce6;\">\n",
    "ספריות 📚"
   ]
  },
  {
   "cell_type": "code",
   "execution_count": null,
   "id": "97785a23-715f-4d21-9e2d-cbc1865286fd",
   "metadata": {
    "tags": [
     "Libraries"
    ]
   },
   "outputs": [],
   "source": [
    "import warnings\n",
    "warnings.filterwarnings('ignore')\n",
    "\n",
    "from configs import CNFG\n",
    "import numpy as np\n",
    "import pandas as pd\n",
    "import geopandas as gpd\n",
    "import dask_geopandas as daskgpd\n",
    "import subprocess"
   ]
  },
  {
   "cell_type": "markdown",
   "id": "62a2c1ca-814c-4579-a637-23a536f46368",
   "metadata": {},
   "source": [
    "<h1 style=\"text-align:right; font-size:150%; color:#1c6ce6;\">קריאת נתונים 📑 "
   ]
  },
  {
   "cell_type": "code",
   "execution_count": null,
   "id": "1e315a3c-a753-4ea8-9c6c-05226242f630",
   "metadata": {},
   "outputs": [],
   "source": [
    "print('  20.a Reading inputs')"
   ]
  },
  {
   "cell_type": "markdown",
   "id": "f093c640-f284-4dd9-a7db-380a3b34699a",
   "metadata": {},
   "source": [
    "<h1 style=\"text-align:right;font-size:100%\">\n",
    "נתוני שכבת נקודות היסטוריות יוצאות"
   ]
  },
  {
   "cell_type": "code",
   "execution_count": null,
   "id": "5e932810-c7f5-40bd-9141-090cc86df8c1",
   "metadata": {
    "tags": []
   },
   "outputs": [],
   "source": [
    "history_cols = ['POINT_NAME', 'ACCURACY', 'MARK_CODE', 'TALAR_NUM', 'TALAR_YEAR', 'GUSHNUM', 'GUSHSUFFIX', 'CADASTER_PROCESS', 'geometry']\n",
    "\n",
    "history_points = daskgpd.read_file(CNFG.Local + 'Points_InProcess_History_out.gdb', layer = 'Points_InProcess_History_out', columns = history_cols, npartitions = 8).compute()\n",
    "\n",
    "del history_cols\n",
    "\n",
    "print('         input 1/3 read')"
   ]
  },
  {
   "cell_type": "markdown",
   "id": "a2488137-5810-4fe9-8cc9-0fe15a61df96",
   "metadata": {},
   "source": [
    "<h1 style=\"text-align:right;font-size:100%\">\n",
    "שכבת נקודות גבול (רצף) של תוצר"
   ]
  },
  {
   "cell_type": "code",
   "execution_count": null,
   "id": "22154f78-b197-40df-b08d-a260c0682662",
   "metadata": {
    "tags": []
   },
   "outputs": [],
   "source": [
    "BorderPoints = daskgpd.read_file(CNFG.ProductPath, layer = 'BorderPoints', columns = ['geometry'], npartitions = 8).compute()\n",
    "\n",
    "print('         input 2/3 read')"
   ]
  },
  {
   "cell_type": "markdown",
   "id": "f6e46c57-fcfe-4242-ba83-bf3612d9e1f7",
   "metadata": {},
   "source": [
    "<h1 style=\"text-align:right;font-size:100%\">\n",
    "נתוני גבולות תהליכי קדסטר של תוצר"
   ]
  },
  {
   "cell_type": "code",
   "execution_count": null,
   "id": "0be91847-0ea2-43ad-bd07-10ee2f92cd05",
   "metadata": {
    "tags": []
   },
   "outputs": [],
   "source": [
    "Records_cols = ['ProcessName', 'RecordGUID']\n",
    "\n",
    "Records = pd.read_csv(CNFG.CSVPath + 'ProcessesAndRecords.csv', usecols = Records_cols)\n",
    "                      \n",
    "del Records_cols\n",
    "\n",
    "print('         input 3/3 read')"
   ]
  },
  {
   "cell_type": "markdown",
   "id": "b2a7025f-2188-41b2-876d-5585903dcc61",
   "metadata": {},
   "source": [
    "<h1 style=\"text-align:right; font-size:150%; color:#1c6ce6;\">\n",
    "עיבוד נתונים 🛠️"
   ]
  },
  {
   "cell_type": "code",
   "execution_count": null,
   "id": "201ba5a8-c762-4dd5-8891-5adb2c1f5ab4",
   "metadata": {},
   "outputs": [],
   "source": [
    "print('  20.b Cleaning data')"
   ]
  },
  {
   "cell_type": "markdown",
   "id": "c4dad4cb-e689-4d3e-a3e7-79bddfa21083",
   "metadata": {},
   "source": [
    "<h1 style=\"text-align:right;font-size:100%\">\n",
    "הרחבת נקודות גבול של תוצר ב-1 סנטימטר והוספת שדה קבוע לאבחנה של איחוד מרחבי בהמשך"
   ]
  },
  {
   "cell_type": "code",
   "execution_count": null,
   "id": "1bd8e817-b7f2-4dfc-8ffa-e511f28efc40",
   "metadata": {
    "tags": []
   },
   "outputs": [],
   "source": [
    "BorderPoints = BorderPoints.buffer(0.1)\n",
    "BorderPoints = BorderPoints.to_frame('geometry')\n",
    "BorderPoints['exist'] = 1"
   ]
  },
  {
   "cell_type": "markdown",
   "id": "7d8b3f33-43b5-4c95-84b8-dcf66c2e8cc4",
   "metadata": {},
   "source": [
    "<h1 style=\"text-align:right;font-size:100%\">\n",
    "איחוד מרחבי בין נקודות גבול היסטוריות יוצאות לנקודות גבול ברצף קדסטרי\n",
    "<h1 style=\"text-align:right;font-size:100%\">\n",
    "שמירת נקודות היסטוריות אשר לא נמצאה להן התאמה מרחבית עם נקודות ברצף."
   ]
  },
  {
   "cell_type": "code",
   "execution_count": null,
   "id": "2fd94d85-208c-41ad-b262-11bcafeff978",
   "metadata": {},
   "outputs": [],
   "source": [
    "history_points = history_points.sjoin(BorderPoints, how = 'left', predicate = 'intersects')\n",
    "history_points = history_points[history_points['exist'] != 1]\n",
    "history_points.drop(columns = ['index_right', 'exist'], inplace = True)\n",
    "\n",
    "del BorderPoints"
   ]
  },
  {
   "cell_type": "markdown",
   "id": "5f2bde24-14c3-49d5-9607-cc1e1a51a55c",
   "metadata": {},
   "source": [
    "<h1 style=\"text-align:right;font-size:100%\">\n",
    "הגדרת שדות של שם תהליך מבטל לכל נקודה ומספר מלא של גוש לכל נקודה"
   ]
  },
  {
   "cell_type": "code",
   "execution_count": null,
   "id": "51052427-777f-436f-afa4-a8926158a1ff",
   "metadata": {},
   "outputs": [],
   "source": [
    "history_points[['TALAR_NUM', 'TALAR_YEAR']] = history_points[['TALAR_NUM', 'TALAR_YEAR']].fillna(0)\n",
    "history_points[['TALAR_NUM', 'TALAR_YEAR']] = history_points[['TALAR_NUM', 'TALAR_YEAR']].astype('Int64')\n",
    "history_points['ProcessName'] = history_points['TALAR_NUM'].astype(str) + '/' + history_points['TALAR_YEAR'].astype(str)\n",
    "history_points['ProcessName'] = np.where(history_points['ProcessName'] == '0/0', None, history_points['ProcessName'])\n",
    "\n",
    "history_points[['GUSHNUM', 'GUSHSUFFIX']] = history_points[['GUSHNUM', 'GUSHSUFFIX']].fillna(0)\n",
    "history_points[['GUSHNUM', 'GUSHSUFFIX']] = history_points[['GUSHNUM', 'GUSHSUFFIX']].astype('Int64')\n",
    "\n",
    "history_points.drop(columns = ['TALAR_NUM', 'TALAR_YEAR'], inplace = True)"
   ]
  },
  {
   "cell_type": "markdown",
   "id": "8192353d-4120-4d04-8283-166d02ba5670",
   "metadata": {},
   "source": [
    "<h1 style=\"text-align:right;font-size:100%\">\n",
    "השלמת שדה של שם התהליך לתהליכי מפות הסדר מקרקעין ומפות קמ\"ק"
   ]
  },
  {
   "cell_type": "code",
   "execution_count": null,
   "id": "95d930fa-4f7f-4822-a61a-15e3d9075daa",
   "metadata": {},
   "outputs": [],
   "source": [
    "block_regulation_mask = (history_points['ProcessName'].isna()) & (history_points['CADASTER_PROCESS'] == 1) #הסדר\n",
    "history_points['ProcessName'] = np.where(block_regulation_mask,\n",
    "                                         history_points['GUSHNUM'].astype(str) + '/' + history_points['GUSHSUFFIX'].astype(str) + ' הסדר',\n",
    "                                         history_points['ProcessName'])\n",
    "\n",
    "\n",
    "\n",
    "cbc_blocks_mask = (history_points['ProcessName'].isna()) & (history_points['CADASTER_PROCESS'] == 9) #קמ\"ק\n",
    "history_points['ProcessName'] = np.where(cbc_blocks_mask,\n",
    "                                         'קמ\"ק ' + history_points['GUSHNUM'].astype(str) + '/' + history_points['GUSHSUFFIX'].astype(str),\n",
    "                                         history_points['ProcessName'])\n",
    "\n",
    "\n",
    "\n",
    "del [block_regulation_mask, cbc_blocks_mask]"
   ]
  },
  {
   "cell_type": "code",
   "execution_count": null,
   "id": "3fae4318-08e7-42e9-8f3f-aa9cd04ca566",
   "metadata": {},
   "outputs": [],
   "source": [
    "print('  20.c Data conversion')"
   ]
  },
  {
   "cell_type": "markdown",
   "id": "ad3362ed-f1a6-401f-b41b-34b7b2bfbc5d",
   "metadata": {},
   "source": [
    "<h1 style=\"text-align:right;font-size:100%\">\n",
    "איחוד נקודות גבול מבוטלות עם נתוני גבולות תהליכי קדסטר"
   ]
  },
  {
   "cell_type": "code",
   "execution_count": null,
   "id": "65ffa204-197f-4cef-853b-4190887dbde8",
   "metadata": {},
   "outputs": [],
   "source": [
    "history_points = history_points.merge(Records, on = 'ProcessName', how = 'left')\n",
    "history_points = history_points.drop(columns = ['ProcessName', 'GUSHNUM', 'GUSHSUFFIX'])\n",
    "history_points.rename(columns = {'RecordGUID' : 'RetiredByRecord'}, inplace = True)\n",
    "del Records"
   ]
  },
  {
   "cell_type": "markdown",
   "id": "b3f3620a-f909-4b1a-a6ed-533a207c72d9",
   "metadata": {},
   "source": [
    "<h1 style=\"text-align:right;font-size:100%\">\n",
    "הגדרת שדות ציון לקואורדינטות"
   ]
  },
  {
   "cell_type": "code",
   "execution_count": null,
   "id": "3c4244d5-4e98-41b0-8fa4-a540106496a8",
   "metadata": {
    "tags": []
   },
   "outputs": [],
   "source": [
    "history_points['X'] = history_points.geometry.x\n",
    "history_points['Y'] = history_points.geometry.y"
   ]
  },
  {
   "cell_type": "markdown",
   "id": "6d1ed242-b215-4bdd-ade2-4c4d1a60b351",
   "metadata": {},
   "source": [
    "<h1 style=\"text-align:right;font-size:100%\">\n",
    "הסרת נקודות גבול מחוץ לגבולות ישראל לפי קואורדינטות קווי רוחב"
   ]
  },
  {
   "cell_type": "code",
   "execution_count": null,
   "id": "9b6b3457-8c66-4c30-bc7f-b8a0195b43e3",
   "metadata": {
    "tags": []
   },
   "outputs": [],
   "source": [
    "southest_coord = 373520.000\n",
    "northest_coord = 805000.000\n",
    "\n",
    "history_points = history_points[history_points['Y'].between(southest_coord,  northest_coord)]"
   ]
  },
  {
   "cell_type": "markdown",
   "id": "a51dc09c-1b14-4c19-a550-4b226b278322",
   "metadata": {},
   "source": [
    "<h1 style=\"text-align:right;font-size:100%\">\n",
    "הגדרת שדה סימון הנקודה לפי מיפוי ערכים"
   ]
  },
  {
   "cell_type": "code",
   "execution_count": null,
   "id": "51c7584f-6c22-4477-aa04-ba2f22ff5d92",
   "metadata": {},
   "outputs": [],
   "source": [
    "MARK_classifier = {0    : 0,\n",
    "                   1    : 1,\n",
    "                   2    : 2,\n",
    "                   3    : 3,\n",
    "                   4    : 4,\n",
    "                   5    : 5,\n",
    "                   6    : 6,\n",
    "                   7    : 7,\n",
    "                   8    : 8,\n",
    "                   9    : 9,\n",
    "                   10   : 10,\n",
    "                   11   : 11,\n",
    "                   12   : 12,\n",
    "                   13   : 13,\n",
    "                   14   : 14,\n",
    "                   15   : 0,\n",
    "                   16   : 0,\n",
    "                   20   : 20,\n",
    "                   50   : 0,\n",
    "                   94   : 0,\n",
    "                   9002 : 0,\n",
    "                   9007 : 0,\n",
    "                   None : 0}\n",
    "\n",
    "history_points['MarkCode'] = history_points['MARK_CODE'].map(MARK_classifier)\n",
    "history_points['MarkCode'] = history_points['MarkCode'].fillna(0)\n",
    "history_points['MarkCode'] = history_points['MarkCode'].astype(int)\n",
    "\n",
    "history_points.drop(columns = 'MARK_CODE', inplace = True)\n",
    "del MARK_classifier"
   ]
  },
  {
   "cell_type": "markdown",
   "id": "38c05a5d-4c07-4b4b-9b5d-fce9322fe08f",
   "metadata": {},
   "source": [
    "<h1 style=\"text-align:right;font-size:100%\">\n",
    "הגדרת שדה מקור הנקודה"
   ]
  },
  {
   "cell_type": "code",
   "execution_count": null,
   "id": "54c2602b-9dbe-4bfa-83f0-91a72bcb670c",
   "metadata": {},
   "outputs": [],
   "source": [
    "history_points['ACCURACY'] = history_points['ACCURACY'].fillna(0)\n",
    "\n",
    "CAD_Sourced_cond = ~history_points['ACCURACY'].isin([0, None, np.nan])\n",
    "digitaized_cond = history_points['CADASTER_PROCESS'] == 10\n",
    "\n",
    "history_points['DataSource'] = np.where(CAD_Sourced_cond, 5, 4)\n",
    "history_points['DataSource'] = np.where(digitaized_cond, 3, 4)\n",
    "history_points['DataSource'] = history_points['DataSource'].fillna(4)\n",
    "history_points['DataSource'] = history_points['DataSource'].astype(int)\n",
    "\n",
    "history_points.drop(columns = 'CADASTER_PROCESS', inplace = True)\n",
    "del CAD_Sourced_cond"
   ]
  },
  {
   "cell_type": "markdown",
   "id": "4b7b6fe8-b923-464e-90d9-99e3e450c01d",
   "metadata": {},
   "source": [
    "<h1 style=\"text-align:right;font-size:100%\">\n",
    "שינוי שמות של שדות"
   ]
  },
  {
   "cell_type": "code",
   "execution_count": null,
   "id": "ca2ca0d9-528e-46f9-a1fd-39fdcd520815",
   "metadata": {},
   "outputs": [],
   "source": [
    "history_points.rename(columns = {'POINT_NAME' : 'Name'}, inplace = True)"
   ]
  },
  {
   "cell_type": "markdown",
   "id": "bfec4092-1465-4fa8-a224-d0aedc146f01",
   "metadata": {},
   "source": [
    "<h1 style=\"text-align:right;font-size:100%\">\n",
    "הגדרת שדה לסיווג הנקודה"
   ]
  },
  {
   "cell_type": "code",
   "execution_count": null,
   "id": "c5abd695-f904-4998-93e3-2d659e65afeb",
   "metadata": {},
   "outputs": [],
   "source": [
    "ACCURACY_classifier = {0    : 24,\n",
    "                       1    : 1,\n",
    "                       2    : 13,\n",
    "                       3    : 13,\n",
    "                       4    : 13,\n",
    "                       5    : 13,\n",
    "                       6    : 24,\n",
    "                       7    : 24,\n",
    "                       8    : 24,\n",
    "                       9    : 24,\n",
    "                       12   : 12,\n",
    "                       13   : 13,\n",
    "                       24   : 24,\n",
    "                       None : 24}\n",
    "\n",
    "history_points['Class'] = history_points['ACCURACY'].map(ACCURACY_classifier)\n",
    "history_points['Class'] = history_points['Class'].fillna(24)\n",
    "history_points['Class'] = history_points['Class'].astype(int)\n",
    "\n",
    "history_points.drop(columns = 'ACCURACY', inplace = True)\n",
    "del ACCURACY_classifier"
   ]
  },
  {
   "cell_type": "markdown",
   "id": "c8e70060-9a1e-4afe-a63e-90cf7c3603a7",
   "metadata": {},
   "source": [
    "<h1 style=\"text-align:right;font-size:100%\">\n",
    "השלמת שדות של תהליך מבטל לנקודה על ידי תהליך מבטל פיקטיבי"
   ]
  },
  {
   "cell_type": "code",
   "execution_count": null,
   "id": "92a35060-992f-42b7-8929-efd6ffec66e1",
   "metadata": {
    "tags": []
   },
   "outputs": [],
   "source": [
    "history_points['RetiredByRecord'] = history_points['RetiredByRecord'].fillna(CNFG.FabricatedCancelProcessGUID)"
   ]
  },
  {
   "cell_type": "markdown",
   "id": "0d61b126-f70f-41dd-a640-048eaebf00d8",
   "metadata": {},
   "source": [
    "<h1 style=\"text-align:right;font-size:100%\">\n",
    "השלמת שדה של תהליך יוצר לנקודה על ידי תהליך יוצר פיקטיבי"
   ]
  },
  {
   "cell_type": "code",
   "execution_count": null,
   "id": "bf9d40f1-77ea-48c7-b47a-8ca656b317fe",
   "metadata": {},
   "outputs": [],
   "source": [
    "history_points['CreatedByRecord'] = CNFG.FabricatedCreateProcessGUID"
   ]
  },
  {
   "cell_type": "code",
   "execution_count": null,
   "id": "0c07c43a-334e-4588-b372-a33e31557995",
   "metadata": {},
   "outputs": [],
   "source": [
    "history_points['IsFixed'] = 0"
   ]
  },
  {
   "cell_type": "markdown",
   "id": "9fd72c31-48b9-48f0-8859-c8eb55a4e3dd",
   "metadata": {},
   "source": [
    "<h1 style=\"text-align:right;font-size:100%\">\n",
    "הגדרת שדות מספריים לשדות מסוג מספר שלם"
   ]
  },
  {
   "cell_type": "code",
   "execution_count": null,
   "id": "fa723af4-cf9d-4d99-badf-2fd062e05fa1",
   "metadata": {},
   "outputs": [],
   "source": [
    "int_cols = ['MarkCode', 'DataSource', 'Class', 'IsFixed']\n",
    "history_points[int_cols] = history_points[int_cols].astype('Int64')\n",
    "\n",
    "del int_cols"
   ]
  },
  {
   "cell_type": "markdown",
   "id": "979d354b-071f-4398-b13e-4b0acf83f863",
   "metadata": {},
   "source": [
    "<h1 style=\"text-align:right; font-size:150%; color:#1c6ce6;\"> \n",
    "שמירת תוצאות 💾"
   ]
  },
  {
   "cell_type": "code",
   "execution_count": null,
   "id": "db3a4e32-7c48-452f-abed-65b009338f6b",
   "metadata": {},
   "outputs": [],
   "source": [
    "print('  20.e Exporting results')"
   ]
  },
  {
   "cell_type": "code",
   "execution_count": null,
   "id": "c9223c72-76c8-4d6e-b88e-036294d5d91a",
   "metadata": {},
   "outputs": [],
   "source": [
    "history_points.to_file(CNFG.Results, layer = 'CancelBorderPoints', driver = 'OpenFileGDB', engine = 'pyogrio', mode = 'w')"
   ]
  },
  {
   "cell_type": "code",
   "execution_count": null,
   "id": "15f8be8d-7273-44f7-8917-a4d8449b4907",
   "metadata": {},
   "outputs": [],
   "source": [
    "print('  20.f Appending results to product')"
   ]
  },
  {
   "cell_type": "code",
   "execution_count": null,
   "id": "21a771fb-f081-4b23-a000-d7c200f272fd",
   "metadata": {},
   "outputs": [],
   "source": [
    "subprocess.call([CNFG.BatchPath + \"CancelBorderPoints-Save as Feature Class.bat\"]);"
   ]
  }
 ],
 "metadata": {
  "kernelspec": {
   "display_name": "Python 3 (ipykernel)",
   "language": "python",
   "name": "python3"
  },
  "language_info": {
   "codemirror_mode": {
    "name": "ipython",
    "version": 3
   },
   "file_extension": ".py",
   "mimetype": "text/x-python",
   "name": "python",
   "nbconvert_exporter": "python",
   "pygments_lexer": "ipython3",
   "version": "3.11.3"
  }
 },
 "nbformat": 4,
 "nbformat_minor": 5
}
