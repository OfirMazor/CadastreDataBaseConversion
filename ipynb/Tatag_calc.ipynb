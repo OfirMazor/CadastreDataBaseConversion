{
 "cells": [
  {
   "cell_type": "markdown",
   "id": "82410389-bb88-4a4a-ad45-7024d7cd7301",
   "metadata": {},
   "source": [
    "<h1 style=\"background-color:#1c6ce6;\n",
    "           font-family:segoe ui;\n",
    "                color:#FFF9ED;\n",
    "           font-size:300%;\n",
    "           text-align:center;\n",
    "           border-radius:10px 10px;\"> \n",
    "🗺️ תהליך הסבת שכבת תשריטי תיעוד גבולות לבנק\"ל מודרני 🗺️ "
   ]
  },
  {
   "cell_type": "code",
   "execution_count": null,
   "id": "20a72b2a-b077-4d19-9ad0-a07651bf0185",
   "metadata": {},
   "outputs": [],
   "source": [
    "print('6. Tatag borders:')"
   ]
  },
  {
   "cell_type": "markdown",
   "id": "5f39a01e-9873-43f6-8089-58ff7d80d3d9",
   "metadata": {},
   "source": [
    "<h1 style=\"text-align:right; font-size:150%; color:#1c6ce6;\">\n",
    "ספריות 📚"
   ]
  },
  {
   "cell_type": "code",
   "execution_count": 1,
   "id": "5eaec6c1-185f-4bdd-8bc3-b878dc795189",
   "metadata": {
    "tags": []
   },
   "outputs": [],
   "source": [
    "import warnings\n",
    "warnings.filterwarnings('ignore')\n",
    "\n",
    "import numpy as np\n",
    "import pandas as pd\n",
    "import geopandas as gpd\n",
    "from configs import CNFG\n",
    "import subprocess"
   ]
  },
  {
   "cell_type": "markdown",
   "id": "6b891509-0a1c-4d11-ba7f-cccc221863a2",
   "metadata": {},
   "source": [
    "<h1 style=\"text-align:right; font-size:150%; color:#1c6ce6;\">קריאת נתונים 📑 "
   ]
  },
  {
   "cell_type": "code",
   "execution_count": null,
   "id": "fe202cc9-5368-4411-8bbe-582916bc6ddd",
   "metadata": {},
   "outputs": [],
   "source": [
    "print('  6.a Reading inputs')"
   ]
  },
  {
   "cell_type": "markdown",
   "id": "2ca8fb3f-78b8-4584-a673-d1687dbf0d93",
   "metadata": {},
   "source": [
    "<h1 style=\"text-align:right;font-size:100%\">\n",
    "שכבת גבולות תת\"ג קיימת"
   ]
  },
  {
   "cell_type": "code",
   "execution_count": 2,
   "id": "076e9eb6-a6fb-4872-8732-4e245779f196",
   "metadata": {
    "tags": []
   },
   "outputs": [],
   "source": [
    "tatag_cols = ['TATAG_NUM', 'TATAG_YEAR', 'TATAG_STATUS', 'SURVEYOR_NO', 'GUSH_NUM', 'GUSH_SUFFIX', 'geometry']\n",
    "\n",
    "tatag_layer = gpd.read_file(CNFG.CADSDE + 'TATAG.gdb', layer = 'TATAG', include_fields = tatag_cols)"
   ]
  },
  {
   "cell_type": "markdown",
   "id": "1c3b7e47-f943-4e40-ad2e-0657c3b200af",
   "metadata": {},
   "source": [
    "<h1 style=\"text-align:right;font-size:100%\">\n",
    "שכבת גושי קדסטר מודרנית"
   ]
  },
  {
   "cell_type": "code",
   "execution_count": null,
   "id": "375c2d83-8ef8-43aa-ab2f-190bb297b029",
   "metadata": {},
   "outputs": [],
   "source": [
    "Blocks = pd.read_csv(CNFG.CSVPath + 'BlockUniqueIDs.csv', usecols = ['Name', 'BlockUniqueID'])"
   ]
  },
  {
   "cell_type": "markdown",
   "id": "dc918b27-959a-49e6-8a59-97e7470eace1",
   "metadata": {},
   "source": [
    "<h1 style=\"text-align:right; font-size:150%; color:#1c6ce6;\">\n",
    "עיבוד נתונים 🛠️"
   ]
  },
  {
   "cell_type": "code",
   "execution_count": null,
   "id": "c6414156-3b9c-41a0-bbfd-8f8e7fa58fe2",
   "metadata": {},
   "outputs": [],
   "source": [
    "print('  6.b Cleaning data')"
   ]
  },
  {
   "cell_type": "code",
   "execution_count": null,
   "id": "22061b75-30c3-4337-9667-eb55e5f00ee2",
   "metadata": {},
   "outputs": [],
   "source": [
    "print('  6.c Data conversion')"
   ]
  },
  {
   "cell_type": "markdown",
   "id": "002f5681-1d7c-40f7-89d6-1bb6d00686f0",
   "metadata": {},
   "source": [
    "<h1 style=\"text-align:right;font-size:125%\">\n",
    ":עיבוד נתוני תת\"ג\n",
    "<h1 style=\"text-align:right;font-size:100%\">\n",
    "הסרת מספרי מלבן שאינם תקינים\n",
    "<h1 style=\"text-align:right;font-size:100%\">\n",
    "הסרת רשומות ללא מידע של גוש    \n",
    "<h1 style=\"text-align:right;font-size:100%\">\n",
    "מילוי ערכי מספרי תת-גוש ב-0    \n",
    "<h1 style=\"text-align:right;font-size:100%\">\n",
    "הוספת שדה מקשר של שם מלא לגוש לטובת איחוד עם שכבת גושים וקבלת מספר מזהה לגוש"
   ]
  },
  {
   "cell_type": "code",
   "execution_count": null,
   "id": "179f6664-5c01-4be2-866e-b95ff38e93e9",
   "metadata": {},
   "outputs": [],
   "source": [
    "legit_rectangle_min = 1\n",
    "legit_rectangle_max = 4000\n",
    "\n",
    "tatag_layer = tatag_layer[tatag_layer['TATAG_NUM'].between(legit_rectangle_min, legit_rectangle_max)]\n",
    "\n",
    "del [legit_rectangle_min, legit_rectangle_max]\n",
    "\n",
    "tatag_layer.dropna(subset = ['GUSH_NUM'], inplace=True)\n",
    "\n",
    "tatag_layer['GUSH_NUM'] = tatag_layer['GUSH_NUM'].astype(int)\n",
    "tatag_layer['GUSH_SUFFIX'] = tatag_layer['GUSH_SUFFIX'].fillna(0)\n",
    "tatag_layer['GUSH_SUFFIX'] = tatag_layer['GUSH_SUFFIX'].astype(int)\n",
    "tatag_layer['BlockName'] = tatag_layer['GUSH_NUM'].astype(str) + '/' + tatag_layer['GUSH_SUFFIX'].astype(str)"
   ]
  },
  {
   "cell_type": "code",
   "execution_count": null,
   "id": "fb13e2e8-b71f-446d-8592-b59047e9aa87",
   "metadata": {},
   "outputs": [],
   "source": [
    "tatag_layer.dropna(subset = ['GUSH_NUM'], inplace=True)\n",
    "\n",
    "tatag_layer['GUSH_NUM'] = tatag_layer['GUSH_NUM'].astype(int)\n",
    "tatag_layer['GUSH_SUFFIX'] = tatag_layer['GUSH_SUFFIX'].fillna(0)\n",
    "tatag_layer['GUSH_SUFFIX'] = tatag_layer['GUSH_SUFFIX'].astype(int)\n",
    "tatag_layer['BlockName'] = tatag_layer['GUSH_NUM'].astype(str) + '_' + tatag_layer['GUSH_SUFFIX'].astype(str)\n",
    "\n",
    "tatag_layer = tatag_layer.merge(Blocks, left_on = 'BlockName', right_on='Name', how='left')"
   ]
  },
  {
   "cell_type": "code",
   "execution_count": null,
   "id": "f573b110-32a5-4a8e-8f56-6c1b7fc69137",
   "metadata": {},
   "outputs": [],
   "source": [
    "tatag_layer['ProcessName'] = tatag_layer['TATAG_NUM'].astype('str') +'/'+ tatag_layer['TATAG_YEAR'].astype('str')\n",
    "\n",
    "duplicated_names = ['10/2014', '1335/2018', '1784/2015', '182/2014', '2/2013', '21/2014', '22/2014', '221/2020', '2232/2019',\n",
    "                    '23/2014', '2383/2022', '24/2014', '25/2014', '2585/2020', '3/2013', '4/2013', '455/2020', '5/2013',\n",
    "                    '500/2017', '692/2014', '933/2019']\n",
    "\n",
    "tatag_layer['ProcessName'] = np.where(tatag_layer['ProcessName'].isin(duplicated_names),\n",
    "                                      '0' + tatag_layer['ProcessName'],\n",
    "                                      tatag_layer['ProcessName'])\n",
    "\n",
    "del duplicated_names"
   ]
  },
  {
   "cell_type": "markdown",
   "id": "e0a62e59-2e9a-4945-bde2-bac253967dce",
   "metadata": {},
   "source": [
    "<h1 style=\"text-align:right; font-size:150%; color:#1c6ce6;\"> \n",
    "יצירת שכבה חדשה בהתאם לאפיון ✨"
   ]
  },
  {
   "cell_type": "code",
   "execution_count": null,
   "id": "c081ce67-94f4-48d6-ad18-f8b9cbcea111",
   "metadata": {},
   "outputs": [],
   "source": [
    "print('  6.d Defining new Layer')"
   ]
  },
  {
   "cell_type": "code",
   "execution_count": null,
   "id": "951a0e9b-57a5-4c87-956d-0a301265816b",
   "metadata": {},
   "outputs": [],
   "source": [
    "new_columns = np.dtype([\n",
    "                        (\"CPBUniqueID\", int),\n",
    "                       (\"BlockUniqueID\", int),\n",
    "                        (\"ProcessType\", int),\n",
    "                        (\"MapYear\", int),\n",
    "                        (\"ProcessName\", str),\n",
    "                        (\"GeodeticNetwork\", int),\n",
    "                        (\"Status\", int),\n",
    "                        #(\"PlanName\", str)\n",
    "                        (\"SurveyorLicenseID\", int),\n",
    "                        (\"DataSource\", int),\n",
    "                        (\"geometry\", str)\n",
    "                        ])\n",
    "\n",
    "\n",
    "tatag_new = gpd.GeoDataFrame(np.empty(0, dtype=new_columns),\n",
    "                             geometry = 'geometry',\n",
    "                             crs = 2039)"
   ]
  },
  {
   "cell_type": "markdown",
   "id": "20dd0815-ee27-495e-85e8-478754d10ad9",
   "metadata": {},
   "source": [
    "<h1 style=\"text-align:right;font-size:100%\">\n",
    "איכלוס שדות"
   ]
  },
  {
   "cell_type": "code",
   "execution_count": null,
   "id": "d95d92d1-0539-4eb4-992b-e36c38daf2da",
   "metadata": {},
   "outputs": [],
   "source": [
    "tatag_new['MapYear'] = tatag_layer['TATAG_YEAR']\n",
    "\n",
    "#tatag_new['PlanName'] = None\n",
    "\n",
    "tatag_new['ProcessName'] = tatag_layer['ProcessName']\n",
    "\n",
    "tatag_new['geometry'] = tatag_layer['geometry']\n",
    "\n",
    "tatag_new['ProcessType'] = 4\n",
    "\n",
    "tatag_new['DataSource'] = 5\n",
    "\n",
    "statusDict = {0 : 2,     #לא ידוע = בביקורת\n",
    "              1 : 2,     #בביקורת = בביקורת\n",
    "              2 : 13,    #מאושר = מאושר\n",
    "              3 : 9,     #מחיקת תת\"ג = מבוטל\n",
    "              None : 2}  #לא ידוע = בביקרות\n",
    "\n",
    "tatag_new['Status'] = tatag_layer['TATAG_STATUS'].map(statusDict)\n",
    "\n",
    "\n",
    "geodeticNetDict = {range(0,    1998)  : 1,     # רשת ישראל הישנה\n",
    "                   range(1999, 2007)  : 2,     # רשת ישראל החדשה\n",
    "                   range(2008, 99999) : 3}     # רשת ישראל התקפה\n",
    "tatag_new['GeodeticNetwork'] = tatag_new['MapYear'].apply(lambda x: next((v for k, v in geodeticNetDict.items() if x in k), 0))\n",
    "\n",
    "\n",
    "tatag_new['SurveyorLicenseID'] = tatag_layer['SURVEYOR_NO']\n",
    "tatag_new['SurveyorLicenseID'] = tatag_new['SurveyorLicenseID'].astype(int)\n",
    "\n",
    "\n",
    "tatag_new['BlockUniqueID'] = tatag_layer['BlockUniqueID']\n",
    "tatag_new['BlockUniqueID'] = tatag_new['BlockUniqueID'].fillna(0)\n",
    "tatag_new['BlockUniqueID'] = tatag_new['BlockUniqueID'].astype(int)\n",
    "\n",
    "\n",
    "tatag_new = tatag_new.drop_duplicates(subset='ProcessName', ignore_index=True, keep='last')\n",
    "\n",
    "\n",
    "#הסרת תכניות בעלי סטאטוס לא ידוע\n",
    "tatag_new.dropna(inplace=True, subset=['Status'])\n",
    "\n",
    "\n",
    "tatag_new['CPBUniqueID'] = range(1, 1 + len(tatag_new))\n",
    "tatag_new['CPBUniqueID'] = tatag_new['CPBUniqueID'] + 4000000"
   ]
  },
  {
   "cell_type": "code",
   "execution_count": null,
   "id": "e957e858-a4b5-4f8b-ac62-10c4b83f29e9",
   "metadata": {},
   "outputs": [],
   "source": [
    "tatag_new.sort_values(['CPBUniqueID', 'MapYear'],inplace = True)"
   ]
  },
  {
   "cell_type": "markdown",
   "id": "83de9b45-0e4c-46d6-80db-07cbe62a2569",
   "metadata": {},
   "source": [
    "<h1 style=\"text-align:right; font-size:150%; color:#1c6ce6;\"> \n",
    "שמירת תוצאות 💾\n",
    "<h1 style=\"text-align:right; font-size:100%;\"> \n",
    "<h1 style=\"text-align:right; font-size:100%;\"> \n",
    "בחירת נתיב\n",
    "<h1 style=\"text-align:right; font-size:100%;\"> \n",
    "שמירה כטבלה\n",
    "<h1 style=\"text-align:right; font-size:100%;\"> \n",
    "שמירה כשכבה גיאוגרפית"
   ]
  },
  {
   "cell_type": "code",
   "execution_count": null,
   "id": "e954228f-76db-40e7-b8d0-c82252dd7ea5",
   "metadata": {},
   "outputs": [],
   "source": [
    "print('  6.e Exporting results to product folder')"
   ]
  },
  {
   "cell_type": "code",
   "execution_count": null,
   "id": "7cc1dce3-0de7-4bc6-8b3b-77e8870eeeb2",
   "metadata": {},
   "outputs": [],
   "source": [
    "json_dir =  CNFG.JsonPath + 'Tatag.geojson'\n",
    "\n",
    "tatag_new.to_file(json_dir, driver = 'GeoJSON')"
   ]
  },
  {
   "cell_type": "code",
   "execution_count": null,
   "id": "f82571a3-1d33-4d7d-9988-aa388b1b897c",
   "metadata": {},
   "outputs": [],
   "source": [
    "subprocess.call([CNFG.BatchPath + 'Tatag-Save as Feature Class.bat']);"
   ]
  }
 ],
 "metadata": {
  "kernelspec": {
   "display_name": "Python 3 (ipykernel)",
   "language": "python",
   "name": "python3"
  },
  "language_info": {
   "codemirror_mode": {
    "name": "ipython",
    "version": 3
   },
   "file_extension": ".py",
   "mimetype": "text/x-python",
   "name": "python",
   "nbconvert_exporter": "python",
   "pygments_lexer": "ipython3",
   "version": "3.11.3"
  }
 },
 "nbformat": 4,
 "nbformat_minor": 5
}
