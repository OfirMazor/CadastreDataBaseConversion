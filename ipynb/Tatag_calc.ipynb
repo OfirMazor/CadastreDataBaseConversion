{
 "cells": [
  {
   "cell_type": "markdown",
   "id": "82410389-bb88-4a4a-ad45-7024d7cd7301",
   "metadata": {},
   "source": [
    "<h1 style=\"background-color:#1c6ce6;\n",
    "           font-family:segoe ui;\n",
    "                color:#FFF9ED;\n",
    "           font-size:300%;\n",
    "           text-align:center;\n",
    "           border-radius:10px 10px;\"> \n",
    "🗺️ תהליך הסבת שכבת תשריטי תיעוד גבולות לבנק\"ל מודרני 🗺️ "
   ]
  },
  {
   "cell_type": "code",
   "execution_count": null,
   "id": "20a72b2a-b077-4d19-9ad0-a07651bf0185",
   "metadata": {},
   "outputs": [],
   "source": [
    "print(' Tatag borders:')"
   ]
  },
  {
   "cell_type": "markdown",
   "id": "5f39a01e-9873-43f6-8089-58ff7d80d3d9",
   "metadata": {},
   "source": [
    "<h1 style=\"text-align:right; font-size:150%; color:#1c6ce6;\">\n",
    "ספריות 📚"
   ]
  },
  {
   "cell_type": "code",
   "execution_count": null,
   "id": "5eaec6c1-185f-4bdd-8bc3-b878dc795189",
   "metadata": {
    "tags": []
   },
   "outputs": [],
   "source": [
    "import warnings\n",
    "warnings.filterwarnings('ignore')\n",
    "\n",
    "import numpy as np\n",
    "import pandas as pd\n",
    "import geopandas as gpd\n",
    "from configs import CNFG\n",
    "from helpers import assign_BlockName, assign_ProcessName"
   ]
  },
  {
   "cell_type": "markdown",
   "id": "6b891509-0a1c-4d11-ba7f-cccc221863a2",
   "metadata": {},
   "source": [
    "<h1 style=\"text-align:right; font-size:150%; color:#1c6ce6;\">קריאת נתונים 📑 "
   ]
  },
  {
   "cell_type": "code",
   "execution_count": null,
   "id": "fe202cc9-5368-4411-8bbe-582916bc6ddd",
   "metadata": {},
   "outputs": [],
   "source": [
    "print('   Reading inputs')"
   ]
  },
  {
   "cell_type": "markdown",
   "id": "2ca8fb3f-78b8-4584-a673-d1687dbf0d93",
   "metadata": {},
   "source": [
    "<h1 style=\"text-align:right;font-size:100%\">\n",
    "שכבת גבולות תת\"ג קיימת"
   ]
  },
  {
   "cell_type": "code",
   "execution_count": null,
   "id": "076e9eb6-a6fb-4872-8732-4e245779f196",
   "metadata": {
    "tags": []
   },
   "outputs": [],
   "source": [
    "tatag_cols = ['TATAG_NUM', 'TATAG_YEAR', 'TATAG_STATUS', 'SURVEYOR_NO', 'GUSH_NUM', 'GUSH_SUFFIX', 'geometry']\n",
    "\n",
    "tatag_layer = gpd.read_file(CNFG.CADSDE + 'TATAG.gdb', layer = 'TATAG', include_fields = tatag_cols)\n",
    "\n",
    "del tatag_cols"
   ]
  },
  {
   "cell_type": "markdown",
   "id": "f9e96f57-5203-4080-9642-d12784d733fc",
   "metadata": {},
   "source": [
    "<h1 style=\"text-align:right;font-size:100%\">\n",
    "שמות תת\"גים כפולים"
   ]
  },
  {
   "cell_type": "code",
   "execution_count": null,
   "id": "9261a430-aa13-4a33-90c7-a6f2cc15b43c",
   "metadata": {
    "tags": []
   },
   "outputs": [],
   "source": [
    "duplicated_names = pd.read_excel(CNFG.Local + 'tatag_duplicated_names.xlsx')['TatagName']"
   ]
  },
  {
   "cell_type": "markdown",
   "id": "1c3b7e47-f943-4e40-ad2e-0657c3b200af",
   "metadata": {},
   "source": [
    "<h1 style=\"text-align:right;font-size:100%\">\n",
    "שכבת גבולות גושי קדסטר מודרנית"
   ]
  },
  {
   "cell_type": "code",
   "execution_count": null,
   "id": "375c2d83-8ef8-43aa-ab2f-190bb297b029",
   "metadata": {},
   "outputs": [],
   "source": [
    "Blocks = pd.read_csv(CNFG.CSVPath + 'BlockUniqueIDs.csv', usecols = ['Name', 'GlobalID', 'IsTax'])\n",
    "Blocks = Blocks[Blocks['IsTax'] == 0].drop(columns = 'IsTax')"
   ]
  },
  {
   "cell_type": "markdown",
   "id": "dc918b27-959a-49e6-8a59-97e7470eace1",
   "metadata": {},
   "source": [
    "<h1 style=\"text-align:right; font-size:150%; color:#1c6ce6;\">\n",
    "עיבוד נתונים 🛠️"
   ]
  },
  {
   "cell_type": "code",
   "execution_count": null,
   "id": "c6414156-3b9c-41a0-bbfd-8f8e7fa58fe2",
   "metadata": {},
   "outputs": [],
   "source": [
    "print('   Cleaning data')"
   ]
  },
  {
   "cell_type": "markdown",
   "id": "002f5681-1d7c-40f7-89d6-1bb6d00686f0",
   "metadata": {},
   "source": [
    "<h1 style=\"text-align:right;font-size:125%\">\n",
    ":עיבוד נתוני תת\"ג\n",
    "<h1 style=\"text-align:right;font-size:100%\">\n",
    "הסרת רשומות ללא מידע של גוש    \n",
    "<h1 style=\"text-align:right;font-size:100%\">\n",
    "הוספת שדה מקשר של שם מלא לגוש לטובת איחוד עם שכבת גושים וקבלת מספר מזהה לגוש"
   ]
  },
  {
   "cell_type": "code",
   "execution_count": null,
   "id": "179f6664-5c01-4be2-866e-b95ff38e93e9",
   "metadata": {},
   "outputs": [],
   "source": [
    "tatag_layer.dropna(subset = ['GUSH_NUM'], inplace=True)\n",
    "\n",
    "tatag_layer = assign_BlockName(tatag_layer, 'GUSH_NUM', 'GUSH_SUFFIX')\n",
    "\n",
    "tatag_layer = tatag_layer.merge(Blocks, left_on = 'BlockName', right_on='Name', how='left')\\\n",
    "                         .rename(columns = {'GlobalID' : 'BlockUniqueID'})"
   ]
  },
  {
   "cell_type": "code",
   "execution_count": null,
   "id": "22061b75-30c3-4337-9667-eb55e5f00ee2",
   "metadata": {},
   "outputs": [],
   "source": [
    "print('   Data conversion')"
   ]
  },
  {
   "cell_type": "markdown",
   "id": "ece1bf21-ade1-40fb-8c2b-5c69bcd814e4",
   "metadata": {},
   "source": [
    "<h1 style=\"text-align:right;font-size:100%\">\n",
    "הגדרת שדה של שם תכנית\n",
    "<h1 style=\"text-align:right;font-size:100%\">\n",
    "מספרי תכנית שכבר קיימים בתור תכניוןתת מסוג אחר יקבלו קידומת 0 לשם על מנת לשמר ייחודיות"
   ]
  },
  {
   "cell_type": "code",
   "execution_count": null,
   "id": "f573b110-32a5-4a8e-8f56-6c1b7fc69137",
   "metadata": {},
   "outputs": [],
   "source": [
    "tatag_layer = assign_ProcessName(tatag_layer, 'TATAG_NUM', 'TATAG_YEAR', drop=False)\n",
    "\n",
    "tatag_layer['ProcessName'] = np.where(tatag_layer['ProcessName'].isin(duplicated_names),\n",
    "                                      '0' + tatag_layer['ProcessName'],\n",
    "                                      tatag_layer['ProcessName'])\n",
    "\n",
    "del duplicated_names"
   ]
  },
  {
   "cell_type": "markdown",
   "id": "7372ab36-a371-42fd-8215-063ae17a85a6",
   "metadata": {},
   "source": [
    "<h1 style=\"text-align:right;font-size:100%\">\n",
    "מיפוי ערכי סטאטוס"
   ]
  },
  {
   "cell_type": "code",
   "execution_count": null,
   "id": "56879861-8f1d-4191-b271-22ca36bb899a",
   "metadata": {
    "tags": []
   },
   "outputs": [],
   "source": [
    "statusDict = {0 : 2,     #לא ידוע = בביקורת\n",
    "              1 : 2,     #בביקורת = בביקורת\n",
    "              2 : 13,    #מאושר = מאושר\n",
    "              3 : 9,     #מחיקת תת\"ג = מבוטל\n",
    "              None : 2}  #לא ידוע = בביקרות\n",
    "\n",
    "tatag_layer['Status'] = tatag_layer['TATAG_STATUS'].map(statusDict)\n",
    "\n",
    "del statusDict"
   ]
  },
  {
   "cell_type": "markdown",
   "id": "4d9b54c5-17cf-4e78-a666-9e636599e755",
   "metadata": {},
   "source": [
    "<h1 style=\"text-align:right;font-size:100%\">\n",
    "חישוב שדה רשת בקרה"
   ]
  },
  {
   "cell_type": "code",
   "execution_count": null,
   "id": "a62db2bf-55fe-4f84-a11e-6f322f697fda",
   "metadata": {
    "tags": []
   },
   "outputs": [],
   "source": [
    "geodeticNetDict = {range(0,    1998)  : 1,     # רשת ישראל הישנה\n",
    "                   range(1999, 2007)  : 2,     # רשת ישראל החדשה\n",
    "                   range(2008, 99999) : 3}     # רשת ישראל התקפה\n",
    "\n",
    "tatag_layer['GeodeticNetwork'] = tatag_layer['TATAG_YEAR'].apply(lambda x: next((v for k, v in geodeticNetDict.items() if x in k), 0))\n",
    "\n",
    "del geodeticNetDict"
   ]
  },
  {
   "cell_type": "markdown",
   "id": "e0a62e59-2e9a-4945-bde2-bac253967dce",
   "metadata": {},
   "source": [
    "<h1 style=\"text-align:right; font-size:150%; color:#1c6ce6;\"> \n",
    "יצירת שכבה חדשה בהתאם לאפיון ✨"
   ]
  },
  {
   "cell_type": "code",
   "execution_count": null,
   "id": "c081ce67-94f4-48d6-ad18-f8b9cbcea111",
   "metadata": {},
   "outputs": [],
   "source": [
    "print('   Defining new Layer')"
   ]
  },
  {
   "cell_type": "code",
   "execution_count": null,
   "id": "951a0e9b-57a5-4c87-956d-0a301265816b",
   "metadata": {},
   "outputs": [],
   "source": [
    "new_columns = np.dtype([\n",
    "                        (\"geometry\", gpd.array.GeometryDtype),       \n",
    "                       #(\"GlobalID\", str),\n",
    "                        (\"ProcessName\", str),\n",
    "                        (\"ProcessType\", int),\n",
    "                        (\"Status\", int),\n",
    "                        (\"BlockUniqueID\", str),\n",
    "                        (\"GeodeticNetwork\", int),\n",
    "                        (\"SurveyorLicenseID\", int),\n",
    "                        (\"DataSource\", int),\n",
    "                       #(\"PlanName\", str),  \n",
    "                       #(\"ORACLE_ID\", int),\n",
    "                       #(\"Shape_Length\", float),\n",
    "                       #(\"Shape_Area\", float)\n",
    "                        ])   \n",
    "\n",
    "tatag_new = gpd.GeoDataFrame(np.empty(0, dtype=new_columns),\n",
    "                             geometry = 'geometry',\n",
    "                             crs = 2039)"
   ]
  },
  {
   "cell_type": "markdown",
   "id": "20dd0815-ee27-495e-85e8-478754d10ad9",
   "metadata": {},
   "source": [
    "<h1 style=\"text-align:right;font-size:100%\">\n",
    "איכלוס שדות"
   ]
  },
  {
   "cell_type": "code",
   "execution_count": null,
   "id": "d95d92d1-0539-4eb4-992b-e36c38daf2da",
   "metadata": {},
   "outputs": [],
   "source": [
    "#tatag_new['PlanName'] = None\n",
    "\n",
    "tatag_new['ProcessName'] = tatag_layer['ProcessName']\n",
    "\n",
    "tatag_new['geometry'] = tatag_layer['geometry']\n",
    "\n",
    "tatag_new['ProcessType'] = 4 #תת\"ג\n",
    "\n",
    "tatag_new['DataSource'] = 5 # CAD\n",
    "\n",
    "tatag_new['Status'] = tatag_layer['Status'].astype(int)\n",
    "\n",
    "tatag_new['GeodeticNetwork'] = tatag_layer['GeodeticNetwork'].astype(int)\n",
    "\n",
    "tatag_new['SurveyorLicenseID'] = tatag_layer['SURVEYOR_NO'].astype(int)\n",
    "\n",
    "tatag_new['BlockUniqueID'] = tatag_layer['BlockUniqueID']\n",
    "\n",
    "tatag_new = tatag_new.drop_duplicates(subset = 'ProcessName', keep='last')\n",
    "\n",
    "\n",
    "#הסרת תכניות בעלי סטאטוס לא ידוע\n",
    "tatag_new = tatag_new.dropna(subset=['Status'])"
   ]
  },
  {
   "cell_type": "code",
   "execution_count": null,
   "id": "e957e858-a4b5-4f8b-ac62-10c4b83f29e9",
   "metadata": {},
   "outputs": [],
   "source": [
    "tatag_new.sort_values('ProcessName', inplace = True)"
   ]
  },
  {
   "cell_type": "markdown",
   "id": "90ab9077-4ae9-4744-a6ca-77554f178a13",
   "metadata": {},
   "source": [
    "<h1 style=\"text-align:right; font-size:150%; color:#1c6ce6;\"> \n",
    "שמירת תוצאות 💾\n",
    "<h1 style=\"text-align:right; font-size:100%;\">\n",
    "\n",
    "<h1 style=\"text-align:right; font-size:100%;\">     \n",
    "פיצול התוצאות לפי סוגי גיאומטריה שונים (פעולה טכנית כי לא ניתן לכתוב קובץ סוגי גיאומטריה שונים באותה שכבה)    \n",
    "<h1 style=\"text-align:right; font-size:100%;\"> \n",
    "שמירת שכבה גיאוגרפית "
   ]
  },
  {
   "cell_type": "code",
   "execution_count": null,
   "id": "4376930b-1168-4dff-b8b9-9456f5ffb2a1",
   "metadata": {},
   "outputs": [],
   "source": [
    "print('   Exporting results')"
   ]
  },
  {
   "cell_type": "code",
   "execution_count": null,
   "id": "89b7a31b-71e1-4360-8169-7f45f1bda9d1",
   "metadata": {
    "tags": []
   },
   "outputs": [],
   "source": [
    "tatag_new.to_file(CNFG.Results, layer = 'PT4', driver = 'OpenFileGDB', engine = 'pyogrio', mode = 'w')"
   ]
  }
 ],
 "metadata": {
  "kernelspec": {
   "display_name": "Python 3 (ipykernel)",
   "language": "python",
   "name": "python3"
  },
  "language_info": {
   "codemirror_mode": {
    "name": "ipython",
    "version": 3
   },
   "file_extension": ".py",
   "mimetype": "text/x-python",
   "name": "python",
   "nbconvert_exporter": "python",
   "pygments_lexer": "ipython3",
   "version": "3.11.3"
  }
 },
 "nbformat": 4,
 "nbformat_minor": 5
}
