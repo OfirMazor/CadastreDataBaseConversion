{
 "cells": [
  {
   "cell_type": "markdown",
   "id": "8e75b312-7b0d-449c-bebb-037f0e646bc2",
   "metadata": {},
   "source": [
    "<h1 style=\"background-color:#FF7733;\n",
    "           font-family:segoe ui;\n",
    "                color:#FFF9ED;\n",
    "           font-size:300%;\n",
    "           text-align:center;\n",
    "           border-radius:10px 10px;\"> \n",
    "    🌐 תהליך הסבת חלקות (דו-ממדיות) בתהליך לבנק\"ל מודרני 🌐"
   ]
  },
  {
   "cell_type": "code",
   "execution_count": null,
   "id": "9a966ebe-33c4-45ec-93be-805af3f7141d",
   "metadata": {},
   "outputs": [],
   "source": [
    "print('14. Parcels Borders In-Process:')"
   ]
  },
  {
   "cell_type": "markdown",
   "id": "32c3b687-e99e-4d22-b392-9eebba5829f9",
   "metadata": {},
   "source": [
    "<h1 style=\"text-align:right; font-size:150%; color:#1c6ce6;\">\n",
    "ספריות 📚"
   ]
  },
  {
   "cell_type": "code",
   "execution_count": null,
   "id": "ae57e106-8bec-448a-a448-a01640a9f244",
   "metadata": {
    "tags": [
     "Libraries"
    ]
   },
   "outputs": [],
   "source": [
    "import warnings\n",
    "warnings.filterwarnings('ignore')\n",
    "\n",
    "import numpy as np\n",
    "import datetime as dt\n",
    "import pandas as pd\n",
    "import geopandas as gpd\n",
    "import subprocess"
   ]
  },
  {
   "cell_type": "markdown",
   "id": "cd727dec-f9e9-474f-bab7-cb1f23029456",
   "metadata": {},
   "source": [
    "<h1 style=\"text-align:right;font-size:100%\">\n",
    "העתקת שכבת מקור והוספת שזה זיהוי זמני לצורך איחוד בסוף הסבה"
   ]
  },
  {
   "cell_type": "code",
   "execution_count": null,
   "id": "f3307757-c755-4022-aae3-de48bd542df8",
   "metadata": {},
   "outputs": [],
   "source": [
    "subprocess.call([r\"M:\\ncdbScripts\\scripts\\arcpyPro\\Parcels2D_InProcessp-pre_calc.bat\"]);"
   ]
  },
  {
   "cell_type": "markdown",
   "id": "41b7f28c-b1e8-4922-952c-42b7a3f4765c",
   "metadata": {},
   "source": [
    "<h1 style=\"text-align:right; font-size:150%; color:#1c6ce6;\">קריאת נתונים 📑 "
   ]
  },
  {
   "cell_type": "code",
   "execution_count": null,
   "id": "99459f96-669a-4958-b713-9d9f364d0c50",
   "metadata": {},
   "outputs": [],
   "source": [
    "print('  14.a Reading inputs')"
   ]
  },
  {
   "cell_type": "code",
   "execution_count": null,
   "id": "4d8f9b47-7a64-45de-9e45-1281eb7f13de",
   "metadata": {},
   "outputs": [],
   "source": [
    "Results_gdb = r'\\\\mapi_shares\\MNCDB\\צוות מידע\\תוצרים\\Results.gdb'\n",
    "\n",
    "today =  dt.date.today()\n",
    "product_name =  str(today.year) + str(today.month) + str(today.day)  + '_ncdb.gdb'\n",
    "product_path = r'\\\\mapi_shares\\MNCDB\\צוות מידע\\תוצרים/' + product_name\n",
    "del [today, product_name]"
   ]
  },
  {
   "cell_type": "markdown",
   "id": "b33bf4ca-a720-4cbd-9608-0f98344ea63f",
   "metadata": {},
   "source": [
    "<h1 style=\"text-align:right;font-size:100%\">\n",
    "שכבת חלקות בתהליך קיימת"
   ]
  },
  {
   "cell_type": "code",
   "execution_count": null,
   "id": "a0a72451-6a81-497a-bb10-3388e8f9cbb4",
   "metadata": {},
   "outputs": [],
   "source": [
    "Parcels_InProcess_cols = ['TEMP_ID', 'PARCELNAME', 'GUSHNUM', 'GUSHSUFFIX', 'TALAR_NUM', 'TALAR_YEAR', 'CADASTER_PROCESS', 'ENTITY_STATE', 'TABAPLAN', 'LEGALAREA']\n",
    "\n",
    "Parcels_InProcess = gpd.read_file(filename        = Results_gdb,\n",
    "                                  layer           = 'CADSDE_Parcels_InProcess',\n",
    "                                  include_fields  = Parcels_InProcess_cols,\n",
    "                                  ignore_geometry = True)\n",
    "\n",
    "\n",
    "del [Results_gdb, Parcels_InProcess_cols]"
   ]
  },
  {
   "cell_type": "markdown",
   "id": "9339b28b-a8d8-4b19-bf82-2903a3f370e8",
   "metadata": {},
   "source": [
    "<h1 style=\"text-align:right;font-size:100%\">\n",
    "שכבת גושי קדסטר מודרנית"
   ]
  },
  {
   "cell_type": "code",
   "execution_count": null,
   "id": "64e67d0d-3af7-42ab-814f-1c833c21938e",
   "metadata": {},
   "outputs": [],
   "source": [
    "Blocks_cols = ['BlockUniqueID', 'BlockNumber', 'SubBlockNumber']\n",
    "\n",
    "Blocks = gpd.read_file(product_path,\n",
    "                       layer = 'Blocks',\n",
    "                       include_fields = Blocks_cols,\n",
    "                       ignore_geometry = True)\n",
    "\n",
    "\n",
    "del Blocks_cols"
   ]
  },
  {
   "cell_type": "markdown",
   "id": "e0f1753c-47ef-48f9-ae9e-0a340059250d",
   "metadata": {},
   "source": [
    "<h1 style=\"text-align:right;font-size:100%\">\n",
    "שכבת גבולות תהליכי קדסטר מודרנית"
   ]
  },
  {
   "cell_type": "code",
   "execution_count": null,
   "id": "b8bb72bc-9c0a-453d-83b5-a6abd72da185",
   "metadata": {},
   "outputs": [],
   "source": [
    "cpb_cols = ['CPBUniqueID', 'ProcessName', 'ProcessType']\n",
    "\n",
    "cpb_layer = gpd.read_file(product_path,\n",
    "                          layer = 'CadasterProcessBorders',\n",
    "                          include_fields = cpb_cols,\n",
    "                          ignore_geometry = True)\n",
    "\n",
    "\n",
    "del cpb_cols"
   ]
  },
  {
   "cell_type": "markdown",
   "id": "13c7c196-b6f5-4a40-96e8-a3086f282fc2",
   "metadata": {},
   "source": [
    "<h1 style=\"text-align:right; font-size:150%; color:#1c6ce6;\">\n",
    "עיבוד נתונים 🛠️"
   ]
  },
  {
   "cell_type": "code",
   "execution_count": null,
   "id": "b5c26930-bb0d-41bd-b73f-33f32a6f3682",
   "metadata": {},
   "outputs": [],
   "source": [
    "print('  14.b Cleaning data')"
   ]
  },
  {
   "cell_type": "markdown",
   "id": "04c700d6-1f1d-4d2d-88d6-ec169288ac7f",
   "metadata": {},
   "source": [
    "<h1 style=\"text-align:right;font-size:125%;\">\n",
    ":עיבוד נתוני חלקות בתהליך"
   ]
  },
  {
   "cell_type": "markdown",
   "id": "82fb9509-4896-4830-bc23-3580a356e28f",
   "metadata": {},
   "source": [
    "<h1 style=\"text-align:right;font-size:100%\">\n",
    "הסרת רשומות כפולות"
   ]
  },
  {
   "cell_type": "code",
   "execution_count": null,
   "id": "92564d46-4b5d-4352-a8c0-fedd8ae2d312",
   "metadata": {},
   "outputs": [],
   "source": [
    "Parcels_InProcess.drop_duplicates(subset  = Parcels_InProcess.columns,\n",
    "                                  keep    = 'first',\n",
    "                                  inplace = True)"
   ]
  },
  {
   "cell_type": "markdown",
   "id": "bd8bb115-c563-4a7b-88c7-97324a0c7983",
   "metadata": {},
   "source": [
    "<h1 style=\"text-align:right;font-size:100%\">\n",
    ":הסרת חלקות רקע או חלקות לא ידועות\n",
    "<h1 style=\"text-align:right;font-size:100%\">\n",
    "שמירת חלקות ביסוס (0) חדשות (1) \n",
    "<h1 style=\"text-align:right;font-size:100%\">\n",
    "(NaN) והשמטת חלקות רקע (2) ולא ידועות\n",
    "<h1 style=\"text-align:right;font-size:100%\">\n",
    "הוספת 1 לערכים על מנת שערכים יהיו חלקות ביסוס: 1, חלקות חדשות: 2"
   ]
  },
  {
   "cell_type": "code",
   "execution_count": null,
   "id": "c5e4c5ee-2c62-45aa-8354-22fcde785a6d",
   "metadata": {},
   "outputs": [],
   "source": [
    "Parcels_InProcess = Parcels_InProcess[Parcels_InProcess['ENTITY_STATE'].isin([0, 1])]\n",
    "Parcels_InProcess.dropna(subset = ['ENTITY_STATE'], inplace = True)\n",
    "Parcels_InProcess['ENTITY_STATE'] = Parcels_InProcess['ENTITY_STATE'] + 1\n",
    "Parcels_InProcess['ENTITY_STATE'] = Parcels_InProcess['ENTITY_STATE'].astype(int)"
   ]
  },
  {
   "cell_type": "markdown",
   "id": "923c3307-0cf1-42a0-a8c4-a7351a0169c9",
   "metadata": {},
   "source": [
    "<h1 style=\"text-align:right;font-size:100%\">\n",
    ":פיצול שדה של שם חלקה לשתי שדות\n",
    "<h1 style=\"text-align:right;font-size:100%\">\n",
    "סוג חלקה - \n",
    "<h1 style=\"text-align:right;font-size:100%\">\n",
    "<pre class=\"tab\">     ארעית = 1 = T   </pre> \n",
    "<h1 style=\"text-align:right;font-size:100%\">\n",
    "<pre class=\"tab\">      סופית = 2 = F   </pre>\n",
    "<h1 style=\"text-align:right;font-size:100%\">\n",
    "<pre class=\"tab\">  חלקות ללא קידומת מקורן מתת\"ג או קמ\"ק ולכן יקבלו את הקידומת כחלקות סופיות (2)</pre>  \n",
    "<h1 style=\"text-align:right;font-size:100%\">\n",
    "מספר חלקה - "
   ]
  },
  {
   "cell_type": "code",
   "execution_count": null,
   "id": "7d5c159b-3bc7-4d96-812e-d1bb837069fc",
   "metadata": {},
   "outputs": [],
   "source": [
    "Parcels_InProcess['ParcelType'] = Parcels_InProcess['PARCELNAME'].str.get(0)\n",
    "Parcels_InProcess['ParcelType'] = Parcels_InProcess['ParcelType'].astype(str)\n",
    "\n",
    "\n",
    "unknown_condition = ~Parcels_InProcess['ParcelType'].isin(['T', 'F'])\n",
    "Parcels_InProcess['ParcelType'] = np.where(unknown_condition,\n",
    "                                           'F',\n",
    "                                           Parcels_InProcess['ParcelType'])\n",
    "\n",
    "del unknown_condition\n",
    "\n",
    "\n",
    "ParcelType_clf = {'T' : 1, 'F' : 2}\n",
    "Parcels_InProcess['ParcelType'] = Parcels_InProcess['ParcelType'].map(ParcelType_clf)"
   ]
  },
  {
   "cell_type": "code",
   "execution_count": null,
   "id": "d34e5e4c-1950-4a2e-8a3a-396b40768294",
   "metadata": {},
   "outputs": [],
   "source": [
    "Parcels_InProcess['ParcelNumber'] = Parcels_InProcess['PARCELNAME'].map(lambda x: x.lstrip('FT'))\n",
    "Parcels_InProcess['ParcelNumber'] = Parcels_InProcess['ParcelNumber'].str.partition(\":\")[0]\n",
    "Parcels_InProcess['ParcelNumber'] = Parcels_InProcess['ParcelNumber'].astype(int)"
   ]
  },
  {
   "cell_type": "markdown",
   "id": "daeb92f7-ebc9-4418-8e51-eb9414c2e18b",
   "metadata": {},
   "source": [
    "<h1 style=\"text-align:right;font-size:100%\">\n",
    "המרת יחידת שטח רשום מדונם אל מטר רבוע"
   ]
  },
  {
   "cell_type": "code",
   "execution_count": null,
   "id": "7df4f68c-7667-48cb-ade5-1a0cf0271382",
   "metadata": {},
   "outputs": [],
   "source": [
    "Parcels_InProcess['LEGALAREA'] = Parcels_InProcess['LEGALAREA'] * 1000"
   ]
  },
  {
   "cell_type": "markdown",
   "id": "396ad417-b5d7-49f3-8599-b6ceb9d19d8b",
   "metadata": {},
   "source": [
    "<h1 style=\"text-align:right;font-size:100%\">\n",
    "הסרת שדה לא רלוונטי"
   ]
  },
  {
   "cell_type": "code",
   "execution_count": null,
   "id": "75d45892-f1e6-460e-a474-bd0478aa273b",
   "metadata": {},
   "outputs": [],
   "source": [
    "Parcels_InProcess.drop(columns='PARCELNAME', inplace=True)"
   ]
  },
  {
   "cell_type": "markdown",
   "id": "5395a426-b139-492f-90ba-0104aa7d8f90",
   "metadata": {},
   "source": [
    "<h1 style=\"text-align:right;font-size:100%\">\n",
    "שינוי שמות של שדות"
   ]
  },
  {
   "cell_type": "code",
   "execution_count": null,
   "id": "4209cdc5-77a7-4e1b-ac9d-af6782e568a0",
   "metadata": {},
   "outputs": [],
   "source": [
    "Parcels_InProcess.rename(columns = {'CADASTER_PROCESS' : 'ProcessType',\n",
    "                                    'TABAPLAN'         : 'LandDesignationPlan',\n",
    "                                    'ENTITY_STATE'     : 'ParcelRole',\n",
    "                                    'LEGALAREA'        : 'LegalArea'},\n",
    "                         inplace = True)"
   ]
  },
  {
   "cell_type": "markdown",
   "id": "3abd2080-40f1-41ef-8307-6d8c34a67ed1",
   "metadata": {},
   "source": [
    "<h1 style=\"text-align:right;font-size:100%\">\n",
    "מיפוי ערכי סוג תהליך יוצר/מעדכן"
   ]
  },
  {
   "cell_type": "code",
   "execution_count": null,
   "id": "b094a92e-1c48-45d4-bd09-a168bde5e442",
   "metadata": {},
   "outputs": [],
   "source": [
    "ProcessType_clf = {1  : 9,  #הסדר מקרקעין \n",
    "                   2  : 1,  #תכנית לצרכי רישום\n",
    "                   8  : 11, #תצ\"ר בשטח לא מוסדר\n",
    "                   9  : 5, #קדסטר מבוסס קואורדינטות\n",
    "                   12 : 4} #תשריט לתיעוד גבולות\n",
    "\n",
    "Parcels_InProcess['ProcessType'] = Parcels_InProcess['ProcessType'].map(ProcessType_clf)\n",
    "Parcels_InProcess['ProcessType'] = Parcels_InProcess['ProcessType'].astype('Int64')"
   ]
  },
  {
   "cell_type": "markdown",
   "id": "96e9d19d-0712-4be2-a164-cd18bea7a83b",
   "metadata": {},
   "source": [
    "<h1 style=\"text-align:right;font-size:100%\">\n",
    "יצירת שדה מקשר למספר גוש מלא ומיזוג עם שכבת גושי קדסטר מודרנית לקבלת מספר מזהה של גוש"
   ]
  },
  {
   "cell_type": "code",
   "execution_count": null,
   "id": "a7a708bf-c471-45e0-b777-ffe6893c7540",
   "metadata": {},
   "outputs": [],
   "source": [
    "Blocks['BlockName'] = Blocks['BlockNumber'].astype(str) + '_' + Blocks['SubBlockNumber'].astype(str)\n",
    "\n",
    "Parcels_InProcess['BlockName'] = Parcels_InProcess['GUSHNUM'].astype(str) + '_' + Parcels_InProcess['GUSHSUFFIX'].astype(str)\n",
    "\n",
    "\n",
    "Parcels_InProcess = Parcels_InProcess.merge(Blocks[['BlockUniqueID', 'BlockName']], on='BlockName', how='left')\n",
    "Parcels_InProcess.drop(columns = ['GUSHNUM', 'GUSHSUFFIX', 'BlockName'], inplace = True)\n",
    "\n",
    "del Blocks"
   ]
  },
  {
   "cell_type": "markdown",
   "id": "4a6d411c-275a-4bf1-b49a-af9fff6801b6",
   "metadata": {},
   "source": [
    "<h1 style=\"text-align:right;font-size:100%\">\n",
    "יצירת שדה מקשר למספר תהליך מלא (אליפסה/מלבן) ומיזוג עם שכבת גבולות תהליכי קדסטר מודרנית"
   ]
  },
  {
   "cell_type": "code",
   "execution_count": null,
   "id": "8df863e0-7043-4be2-bffc-969334b546dc",
   "metadata": {},
   "outputs": [],
   "source": [
    "Parcels_InProcess['TALAR_NUM'] = Parcels_InProcess['TALAR_NUM'].fillna(0)\n",
    "Parcels_InProcess['TALAR_NUM'] = Parcels_InProcess['TALAR_NUM'].astype(int)\n",
    "\n",
    "Parcels_InProcess['TALAR_YEAR'] = Parcels_InProcess['TALAR_YEAR'].fillna(0)\n",
    "Parcels_InProcess['TALAR_YEAR'] = Parcels_InProcess['TALAR_YEAR'].astype(int)\n",
    "\n",
    "Parcels_InProcess['ProcessName'] = Parcels_InProcess['TALAR_NUM'].astype(str) + '/' + Parcels_InProcess['TALAR_YEAR'].astype(str)"
   ]
  },
  {
   "cell_type": "markdown",
   "id": "15dab9d6-90b8-4943-be91-df5e1e955ec8",
   "metadata": {},
   "source": [
    "<h1 style=\"text-align:right;font-size:100%\">\n",
    "סינון שכבת גבולות תהליכי קדסטר לסוגי תהליך של תצ\"ר בלבד"
   ]
  },
  {
   "cell_type": "code",
   "execution_count": null,
   "id": "b31dfd36-094d-4787-a848-640bf8aa402a",
   "metadata": {},
   "outputs": [],
   "source": [
    "cpb_layer = cpb_layer[cpb_layer['ProcessType'] == 1]\n",
    "cpb_layer.drop(columns='ProcessType', inplace=True)"
   ]
  },
  {
   "cell_type": "markdown",
   "id": "62552f4a-434f-4306-8f33-2d6eb92c3ba0",
   "metadata": {},
   "source": [
    "<h1 style=\"text-align:right;font-size:100%\">\n",
    "איחוד חלקות בתהליך עם גבולות תצ\"ר לפי שם המפה, לצורך קבלת שדה מספר מזהה של התהליך"
   ]
  },
  {
   "cell_type": "code",
   "execution_count": null,
   "id": "2b65c6d6-6809-4a12-9b9e-84710fcf7f7a",
   "metadata": {},
   "outputs": [],
   "source": [
    "Parcels_InProcess = Parcels_InProcess.merge(cpb_layer, on='ProcessName', how='left')\n",
    "\n",
    "Parcels_InProcess.drop(columns=['TALAR_NUM', 'TALAR_YEAR'], inplace=True)\n",
    "\n",
    "\n",
    "del cpb_layer"
   ]
  },
  {
   "cell_type": "markdown",
   "id": "340adc70-6dc7-43e7-9b43-361a8a6a07be",
   "metadata": {},
   "source": [
    "<h1 style=\"text-align:right;font-size:100%\">\n",
    "הגדרת שדות זיהוי של תהליך יוצר, תהליך מעדכן ותהליך מבטל"
   ]
  },
  {
   "cell_type": "code",
   "execution_count": null,
   "id": "73eb81b8-7692-4553-904b-8a6afb0edd08",
   "metadata": {},
   "outputs": [],
   "source": [
    "CreateProcess_condition = Parcels_InProcess['ProcessType'].isin([1, 9, 11])\n",
    "Parcels_InProcess['CPBUniqueCreateProcessID'] = np.where(CreateProcess_condition,\n",
    "                                                         Parcels_InProcess['CPBUniqueID'], 0)\n",
    "Parcels_InProcess['CPBUniqueCreateProcessID'] = Parcels_InProcess['CPBUniqueCreateProcessID'].fillna(0)\n",
    "\n",
    "\n",
    "UpdateProcess_condition = Parcels_InProcess['ProcessType'].isin([4, 5])\n",
    "Parcels_InProcess['CPBUniqueUpdateProcessID'] = np.where(UpdateProcess_condition,\n",
    "                                                         Parcels_InProcess['CPBUniqueID'], 0)\n",
    "Parcels_InProcess['CPBUniqueUpdateProcessID'] = Parcels_InProcess['CPBUniqueUpdateProcessID'].fillna(0)\n",
    "\n",
    "Parcels_InProcess['CPBUniqueCancelProcessID'] = 0\n",
    "\n",
    "\n",
    "del [CreateProcess_condition, UpdateProcess_condition]\n",
    "Parcels_InProcess.drop(columns = 'CPBUniqueID', inplace=True)"
   ]
  },
  {
   "cell_type": "markdown",
   "id": "18e1126b-22b2-45ea-a152-6a6707c6b644",
   "metadata": {},
   "source": [
    "<h1 style=\"text-align:right;font-size:100%\">\n",
    "הסרת כפילויות"
   ]
  },
  {
   "cell_type": "code",
   "execution_count": null,
   "id": "249a78d3-69c6-4cda-b194-935d7c4627c3",
   "metadata": {},
   "outputs": [],
   "source": [
    "Parcels_InProcess = Parcels_InProcess.sort_values(['ParcelNumber', 'BlockUniqueID', 'ProcessType', 'ParcelType','ParcelRole'])\n",
    "\n",
    "Parcels_InProcess.drop_duplicates(subset=['ParcelNumber', 'BlockUniqueID', 'CPBUniqueCreateProcessID', 'ParcelType','ParcelRole', 'ProcessType'], keep = 'last', inplace = True)"
   ]
  },
  {
   "cell_type": "markdown",
   "id": "2935d556-87ad-4201-ab63-b2a4f9f9eba4",
   "metadata": {},
   "source": [
    "<h1 style=\"text-align:right; font-size:150%; color:#1c6ce6;\"> \n",
    "יצירת שכבה חדשה בהתאם לאפיון ✨"
   ]
  },
  {
   "cell_type": "code",
   "execution_count": null,
   "id": "a6023544-621a-4e8f-b982-18d6480ae716",
   "metadata": {},
   "outputs": [],
   "source": [
    "print('  14.c Data conversion')"
   ]
  },
  {
   "cell_type": "code",
   "execution_count": null,
   "id": "d0f1a0e8-a45a-4c26-905a-ef4b5a985dc9",
   "metadata": {},
   "outputs": [],
   "source": [
    "new_columns = np.dtype([\n",
    "                        (\"ParcelUniqueID\", int),\n",
    "                        (\"ParcelNumber\", int),\n",
    "                        (\"ParcelType\", int),\n",
    "                        (\"ParcelRole\", int),\n",
    "                        (\"CreateProcessType\", int),\n",
    "                        (\"LegalArea\", float),\n",
    "                        (\"LandDesignationPlan\", str),\n",
    "                        (\"BlockUniqueID\", int),\n",
    "                        (\"CPBUniqueCreateProcessID\", int),\n",
    "                        (\"CPBUniqueUpdateProcessID\", int),\n",
    "                        (\"CPBUniqueCancelProcessID\", int),\n",
    "                        ])\n",
    "\n",
    "\n",
    "InProcessParcels2D = pd.DataFrame(np.empty(0, dtype=new_columns))\n",
    "\n",
    "del new_columns"
   ]
  },
  {
   "cell_type": "markdown",
   "id": "7e003750-eecd-4942-a3e3-e005c66abac6",
   "metadata": {},
   "source": [
    "<h1 style=\"text-align:right;font-size:100%\">\n",
    "איכלוס שדות"
   ]
  },
  {
   "cell_type": "code",
   "execution_count": null,
   "id": "7928c08f-1b63-48f8-8e01-70b534e60643",
   "metadata": {},
   "outputs": [],
   "source": [
    "InProcessParcels2D['TEMP_ID'] = Parcels_InProcess['TEMP_ID'].astype('Int64')\n",
    "\n",
    "\n",
    "InProcessParcels2D['ParcelNumber'] = Parcels_InProcess['ParcelNumber'].astype('Int64')\n",
    "\n",
    "\n",
    "InProcessParcels2D['ParcelType'] = Parcels_InProcess['ParcelType'].astype('Int64')\n",
    "\n",
    "\n",
    "InProcessParcels2D['ParcelRole'] = Parcels_InProcess['ParcelRole'].astype('Int64')\n",
    "\n",
    "\n",
    "InProcessParcels2D['CreateProcessType'] = Parcels_InProcess['ProcessType'].astype('Int64')\n",
    "\n",
    "\n",
    "InProcessParcels2D['LegalArea'] = Parcels_InProcess['LegalArea'].astype(float)\n",
    "\n",
    "\n",
    "InProcessParcels2D['LandDesignationPlan'] = Parcels_InProcess['LandDesignationPlan'].astype(str)\n",
    "\n",
    "\n",
    "InProcessParcels2D['BlockUniqueID'] = Parcels_InProcess['BlockUniqueID'].astype('Int64')\n",
    "\n",
    "\n",
    "InProcessParcels2D['CPBUniqueCreateProcessID'] = Parcels_InProcess['CPBUniqueCreateProcessID'].astype('Int64')\n",
    "\n",
    "\n",
    "InProcessParcels2D['CPBUniqueUpdateProcessID'] = Parcels_InProcess['CPBUniqueUpdateProcessID'].astype('Int64')\n",
    "\n",
    "\n",
    "InProcessParcels2D['CPBUniqueCancelProcessID'] = Parcels_InProcess['CPBUniqueCancelProcessID'].astype('Int64')\n",
    "\n",
    "\n",
    "InProcessParcels2D['ParcelUniqueID'] = np.arange(1, len(Parcels_InProcess) + 1)\n",
    "\n",
    "\n",
    "del Parcels_InProcess"
   ]
  },
  {
   "cell_type": "markdown",
   "id": "1e8a293e-1fbf-486b-85f7-6b46b03f62e6",
   "metadata": {},
   "source": [
    "<h1 style=\"text-align:right; font-size:150%; color:#1c6ce6;\"> \n",
    "שמירת תוצאות 💾\n",
    "<h1 style=\"text-align:right; font-size:100%;\"> \n",
    "<h1 style=\"text-align:right; font-size:100%;\"> \n",
    "בחירת נתיב\n",
    "<h1 style=\"text-align:right; font-size:100%;\"> \n",
    "שמירה כטבלה\n",
    "<h1 style=\"text-align:right; font-size:100%;\"> \n",
    "שמירה כשכבה גיאוגרפית"
   ]
  },
  {
   "cell_type": "code",
   "execution_count": null,
   "id": "c78a49e3-7658-41bf-bf30-2a92e1cadbf3",
   "metadata": {},
   "outputs": [],
   "source": [
    "print('  14.e Exporting results to product folder')"
   ]
  },
  {
   "cell_type": "code",
   "execution_count": null,
   "id": "8fb475c9-9d87-4f30-ad8e-4fdc4e16bc9c",
   "metadata": {},
   "outputs": [],
   "source": [
    "xlsx_dir  = r'\\\\mapi_shares\\MNCDB\\צוות מידע\\תוצרים\\csv\\InProcessParcels2D_data.xlsx'\n",
    "\n",
    "InProcessParcels2D.to_excel(xlsx_dir, encoding='cp1255', index=False)"
   ]
  },
  {
   "cell_type": "code",
   "execution_count": null,
   "id": "abd3f8cc-f008-45ac-aba2-7ffaf9f8356c",
   "metadata": {},
   "outputs": [],
   "source": [
    "subprocess.call([r\"M:\\ncdbScripts\\scripts\\arcpyPro\\Parcels2D In-Process-Save as Feature Class.bat\"]);"
   ]
  }
 ],
 "metadata": {
  "kernelspec": {
   "display_name": "Python 3",
   "language": "python",
   "name": "python3"
  },
  "language_info": {
   "codemirror_mode": {
    "name": "ipython",
    "version": 3
   },
   "file_extension": ".py",
   "mimetype": "text/x-python",
   "name": "python",
   "nbconvert_exporter": "python",
   "pygments_lexer": "ipython3",
   "version": "3.9.4"
  },
  "toc-autonumbering": false,
  "toc-showcode": false,
  "toc-showmarkdowntxt": true,
  "toc-showtags": true
 },
 "nbformat": 4,
 "nbformat_minor": 5
}
