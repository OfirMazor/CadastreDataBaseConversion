{
 "cells": [
  {
   "cell_type": "markdown",
   "id": "4444f6ee-9fc4-4e7d-9f3f-cd98a91e43d8",
   "metadata": {},
   "source": [
    "<h1 style=\"background-color:#1c6ce6;\n",
    "           font-family:segoe ui;\n",
    "                color:#FFF9ED;\n",
    "           font-size:300%;\n",
    "           text-align:center;\n",
    "           border-radius:10px 10px;\"> \n",
    "🗺️ תהליך הסבת שכבת תיקוני 97 ב' לבנק\"ל מודרני 🗺️ "
   ]
  },
  {
   "cell_type": "code",
   "execution_count": null,
   "id": "e592d373-5301-47dc-8ebb-ec031f486dca",
   "metadata": {},
   "outputs": [],
   "source": [
    "print('7. Amendment 97B borders:')"
   ]
  },
  {
   "cell_type": "markdown",
   "id": "f35071c4-6500-4919-8de8-c0aff454f568",
   "metadata": {},
   "source": [
    "<h1 style=\"text-align:right; font-size:150%; color:#1c6ce6;\">\n",
    "ספריות 📚"
   ]
  },
  {
   "cell_type": "code",
   "execution_count": null,
   "id": "0219bca7-d40a-42f7-a497-de5afddf47f5",
   "metadata": {
    "tags": []
   },
   "outputs": [],
   "source": [
    "import warnings\n",
    "warnings.filterwarnings('ignore')\n",
    "\n",
    "from configs import CNFG\n",
    "import numpy as np\n",
    "import pandas as pd\n",
    "import geopandas as gpd\n",
    "import datetime as dt\n",
    "import subprocess"
   ]
  },
  {
   "cell_type": "markdown",
   "id": "59f33c5e-33f6-4cb8-ae58-05a00cb13bfc",
   "metadata": {},
   "source": [
    "<h1 style=\"text-align:right; font-size:150%; color:#1c6ce6;\">קריאת נתונים 📑 "
   ]
  },
  {
   "cell_type": "code",
   "execution_count": null,
   "id": "a86ea854-071b-4545-a878-327d91cf4c1c",
   "metadata": {},
   "outputs": [],
   "source": [
    "print('  7.a Reading inputs')"
   ]
  },
  {
   "cell_type": "markdown",
   "id": "a84c9329-d18e-4610-bc8b-e1565b400f61",
   "metadata": {},
   "source": [
    "<h1 style=\"text-align:right;font-size:100%\">\n",
    "טבלת ניהול תהליכים של הסדר קרקעות"
   ]
  },
  {
   "cell_type": "code",
   "execution_count": null,
   "id": "a5c8a97b-7cf4-4412-8c5a-94d78a0967d6",
   "metadata": {
    "tags": []
   },
   "outputs": [],
   "source": [
    "hek_df_cols = ['מספר פניה','תאריך בקשה','גוש','תת גוש','חלקה','תאריך שליחה לפקיד הסדר','תאריך אישור הממונה על המרשם','תאריך אישור הרשם',' שלב עבודה נוכחי','תאריך התחלה','תאריך סיום בפועל']\n",
    "date_cols = ['תאריך בקשה', 'תאריך שליחה לפקיד הסדר', 'תאריך אישור הממונה על המרשם', 'תאריך אישור הרשם']\n",
    "\n",
    "hek_df = pd.read_csv(CNFG.Local + '97b_nuhil_tahalichim.csv',\n",
    "                     usecols = hek_df_cols,\n",
    "                     encoding = 'cp1255',\n",
    "                     parse_dates = date_cols)\n",
    "\n",
    "hek_df.sort_values('מספר פניה', inplace=True)\n",
    "\n",
    "\n",
    "del hek_df_cols\n",
    "print('    input 1/5 Read')"
   ]
  },
  {
   "cell_type": "markdown",
   "id": "1128e62a-1547-4de8-b2f0-d33dba6bc9ec",
   "metadata": {},
   "source": [
    "<h1 style=\"text-align:right;font-size:100%\">\n",
    "'שכבת תיקוני 97ב"
   ]
  },
  {
   "cell_type": "code",
   "execution_count": null,
   "id": "81098542-5e3f-4ccd-bc3a-fe908d05569a",
   "metadata": {},
   "outputs": [],
   "source": [
    "amendment97B_cols = ['MISPAR_PNIA', 'GUSH_NUM', 'GUSH_SUFFIX', 'PARCELS', 'geometry']\n",
    "\n",
    "amendment97B_df = gpd.read_file(CNFG.CADSDE + 'Tikun_Hesder_97B.gdb',\n",
    "                                layer = 'Tikun_Hesder_97B',\n",
    "                                include_fields = amendment97B_cols)\n",
    "\n",
    "\n",
    "del amendment97B_cols\n",
    "print('    input 2/5 Read')"
   ]
  },
  {
   "cell_type": "markdown",
   "id": "113b0238-33cc-4580-a0c2-90180e6f03db",
   "metadata": {},
   "source": [
    "<h1 style=\"text-align:right;font-size:100%\">\n",
    "שכבת חלקות קיימות"
   ]
  },
  {
   "cell_type": "code",
   "execution_count": null,
   "id": "21440273-c1ef-4244-8f00-fa23baeb0531",
   "metadata": {},
   "outputs": [],
   "source": [
    "parcels_cols = ['PARCEL', 'GUSH_NUM', 'GUSH_SUFFIX', 'geometry']\n",
    "\n",
    "parcels_df = gpd.read_file(CNFG.Arcstorm + 'PARCEL_ALL.gdb', layer = 'PARCEL_ALL', include_fields = parcels_cols)\n",
    "\n",
    "parcels_df = parcels_df.to_crs(2039)\n",
    "\n",
    "del parcels_cols\n",
    "print('    input 3/5 Read')"
   ]
  },
  {
   "cell_type": "markdown",
   "id": "dc8b3951-9b82-41de-bbbb-94b8c067ad1c",
   "metadata": {},
   "source": [
    "<h1 style=\"text-align:right;font-size:100%\">\n",
    "שכבת חלקות היסטוריות"
   ]
  },
  {
   "cell_type": "code",
   "execution_count": null,
   "id": "52ab1cdb-4162-4714-a0bc-934686b1c8ce",
   "metadata": {},
   "outputs": [],
   "source": [
    "parcels_history_cols = ['PARCEL', 'GUSH_NUM', 'GUSH_SUFFIX', 'geometry']\n",
    "\n",
    "parcels_history_df = gpd.read_file(CNFG.CADSDE + 'PARCEL_HISTORY_HASAVA.gdb',\n",
    "                                   layer = 'PARCEL_HISTORY_HASAVA',\n",
    "                                   include_fields = parcels_history_cols)\n",
    "\n",
    "del parcels_history_cols\n",
    "print('    input 4/5 Read')"
   ]
  },
  {
   "cell_type": "markdown",
   "id": "dcdab7a1-743b-4342-ab4e-6d74b7638641",
   "metadata": {},
   "source": [
    "<h1 style=\"text-align:right;font-size:100%\">\n",
    "טבלת מספרי זיהוי של גושים"
   ]
  },
  {
   "cell_type": "code",
   "execution_count": null,
   "id": "f9f41d93-a52b-468a-aa21-5d4a6929f389",
   "metadata": {},
   "outputs": [],
   "source": [
    "Blocks = pd.read_csv(CNFG.CSVPath + 'BlockUniqueIDs.csv', usecols = ['Name', 'BlockUniqueID'])\n",
    "print('    input 5/5 Read')"
   ]
  },
  {
   "cell_type": "markdown",
   "id": "b736158b-4b74-400d-b752-767cfdd14b66",
   "metadata": {},
   "source": [
    "<h1 style=\"text-align:right; font-size:150%; color:#1c6ce6;\">\n",
    "עיבוד נתונים 🛠️"
   ]
  },
  {
   "cell_type": "code",
   "execution_count": null,
   "id": "a90e8c46-9fe5-41ae-91cf-669d84a3d94a",
   "metadata": {},
   "outputs": [],
   "source": [
    "print('  7.b Cleaning data')"
   ]
  },
  {
   "cell_type": "markdown",
   "id": "6835275e-faf4-48a1-ac82-a7bbe9cb6bce",
   "metadata": {},
   "source": [
    "<h1 style=\"text-align:right;font-size:125%\">\n",
    ":יצירת שכבת חלקות כללית\n",
    "<h1 style=\"text-align:right;font-size:100%\">\n",
    "יצירת שדה חדש לזיהוי חלקה לפי מספרה, מספר הגוש, ומסתר התת גוש כשדה טקסט\n",
    "<h1 style=\"text-align:right;font-size:100%\">\n",
    "יצירת שכבה חדשה\n",
    "<h1 style=\"text-align:right;font-size:100%\">\n",
    "הסרת כפילויות"
   ]
  },
  {
   "cell_type": "code",
   "execution_count": null,
   "id": "eddea9f7-7f94-4d0d-bf88-8623e021c7e4",
   "metadata": {},
   "outputs": [],
   "source": [
    "parcels_df['parcel_name'] = parcels_df['GUSH_NUM'].astype(str) + '-' + parcels_df['GUSH_SUFFIX'].astype(str) + '-' + parcels_df['PARCEL'].astype(str)\n",
    "parcels_history_df['parcel_name'] = parcels_history_df['GUSH_NUM'].astype(str) + '-' + parcels_history_df['GUSH_SUFFIX'].astype(str) + '-' + parcels_history_df['PARCEL'].astype(str)\n",
    "\n",
    "parcels_deep = pd.concat([parcels_df, parcels_history_df], ignore_index = False)\n",
    "parcels_deep = parcels_deep.sort_values(['GUSH_NUM', 'GUSH_SUFFIX', 'PARCEL'], ignore_index = True)\n",
    "parcels_deep.drop_duplicates(keep = 'first', inplace = True)\n",
    "\n",
    "del [parcels_df, parcels_history_df]"
   ]
  },
  {
   "cell_type": "markdown",
   "id": "648c7d25-93e0-4c47-b12f-4c1672a02796",
   "metadata": {},
   "source": [
    "<h1 style=\"text-align:right;font-size:125%\">\n",
    ":עיבוד טבלת ניהול תהליכים של הסדר קרקעות\n",
    "<h1 style=\"text-align:right;font-size:100%\">\n",
    "הסרת רשומות עם ערכי חלקה לא חוקיים (אלו מקרים של בדיקה טבנית במערכת ניהול תהליכים)\n",
    "<h1 style=\"text-align:right;font-size:100%\">\n",
    "יצירת שדה לסטטוס נוכחי ולתאריך שלו\n",
    "<h1 style=\"text-align:right;font-size:100%\">\n",
    "יצירת שדה של כלל חלקות לפי מספר פניה\n",
    "<h1 style=\"text-align:right;font-size:100%\">\n",
    "השלמת ערכים חסרים לשדה תת-גוש\n",
    "<h1 style=\"text-align:right;font-size:100%\">\n",
    "יצירת שדה חדש לזיהוי חלקה לפי מספרה, מספר הגוש, ומסתר התת גוש כשדה טקסט"
   ]
  },
  {
   "cell_type": "code",
   "execution_count": null,
   "id": "211ec0d5-1dd4-4e49-8d13-55bdc70670e7",
   "metadata": {},
   "outputs": [],
   "source": [
    "print('  7.c Data conversion')"
   ]
  },
  {
   "cell_type": "code",
   "execution_count": null,
   "id": "e0c6841d-fca1-4958-81f5-de65c25395f9",
   "metadata": {},
   "outputs": [],
   "source": [
    "hek_df = hek_df[~hek_df['חלקה'].isin([9999.0, 999.0])]\n",
    "\n",
    "hek_df['תאריך בקשה'] = pd.to_datetime(hek_df['תאריך בקשה'], format='%d/%m/%Y')\n",
    "hek_df['recent_date'] = hek_df[date_cols].max(axis = 1)\n",
    "s4 = hek_df['recent_date'].eq(hek_df['תאריך אישור הרשם'])\n",
    "s3 = hek_df['recent_date'].eq(hek_df['תאריך אישור הממונה על המרשם'])\n",
    "s2 = hek_df['recent_date'].eq(hek_df['תאריך שליחה לפקיד הסדר'])\n",
    "s1 = hek_df['recent_date'].eq(hek_df['תאריך בקשה'])\n",
    "\n",
    "hek_df['status_name'] = np.select(condlist = (s4, s3, s2, s1),\n",
    "                                  choicelist = ('אישור הרשם', 'אישור הממונה על הרשם', 'שליחה לפקיד הסדר', 'בקשה'),\n",
    "                                  default = 'בקשה')\n",
    "\n",
    "\n",
    "hek_status_clf = {'בקשה':14,\n",
    "                  'שליחה לפקיד הסדר':13,\n",
    "                  'אישור הממונה על הרשם':13,\n",
    "                  'אישור הרשם':13}\n",
    "\n",
    "hek_df['status'] = hek_df['status_name'].map(hek_status_clf)\n",
    "hek_df['status'] = hek_df['status'].astype('Int32')\n",
    "\n",
    "\n",
    "\n",
    "hek_df['חלקות'] = hek_df.astype(str).groupby(['מספר פניה'])['חלקה'].transform(','.join)\n",
    "\n",
    "\n",
    "hek_df['תת גוש'] = hek_df['תת גוש'].fillna(0).astype(int)\n",
    "\n",
    "\n",
    "hek_df['parcel_name'] = hek_df['גוש'].astype(str) + '-' + hek_df['תת גוש'].astype(str) + '-' + hek_df['חלקה'].astype(str)"
   ]
  },
  {
   "cell_type": "markdown",
   "id": "90c4fd56-ebba-4257-816c-3a775062a089",
   "metadata": {},
   "source": [
    "<h1 style=\"text-align:right;font-size:125%\">\n",
    ":יצירת שכבה של טבלת ניהול תהליכים\n",
    "<h1 style=\"text-align:right;font-size:100%\">\n",
    "מיזוג הטבלה עם שכבת החלקות הכוללת שנוצרה בסעיף קודם\n",
    "<h1 style=\"text-align:right;font-size:100%\">\n",
    "קיבוץ מרחבי לפי מספר פניה"
   ]
  },
  {
   "cell_type": "code",
   "execution_count": null,
   "id": "9ad2f8d9-c2cc-4b9f-90ca-5207bf9ab553",
   "metadata": {},
   "outputs": [],
   "source": [
    "hek_df = hek_df.merge(parcels_deep[['geometry', 'parcel_name']], on = 'parcel_name', how = 'left')\n",
    "\n",
    "hek_gdf = gpd.GeoDataFrame(hek_df, geometry = 'geometry', crs = 2039)\n",
    "\n",
    "hek_gdf_dissolve = hek_gdf.dissolve(by='מספר פניה', aggfunc='max', as_index=False, dropna=False)\n",
    "\n",
    "del [hek_df, hek_gdf, parcels_deep]"
   ]
  },
  {
   "cell_type": "markdown",
   "id": "a142476a-d53c-4cfb-9401-1934e8ffa6e8",
   "metadata": {},
   "source": [
    "<h1 style=\"text-align:right;font-size:125%\">\n",
    ":איחוד עם שכבת תיקוני 97ב\n",
    "<h1 style=\"text-align:right;font-size:100%\">\n",
    "הוספת רשומות שכבת 97ב אל שכבת ניהול תהליכים שנוצרה בסעיף קודם\n",
    "<h1 style=\"text-align:right;font-size:100%\">\n",
    "סידור שמות של שדות\n",
    "<h1 style=\"text-align:right;font-size:100%\">\n",
    "מילוי ערכים חסרים והגדרת סוג השדות (במידת הצורך)    \n",
    "<h1 style=\"text-align:right;font-size:100%\">\n",
    "מחיקת שדות שאינם רלוונטיים יותר       \n",
    "<h1 style=\"text-align:right;font-size:100%\">\n",
    "מיון לפי מספר פניה ותאריך בקשה            \n",
    "<h1 style=\"text-align:right;font-size:100%\">\n",
    "הסרת כפילויות                "
   ]
  },
  {
   "cell_type": "code",
   "execution_count": null,
   "id": "c61947b0-6c5a-419a-bf19-f5337ae8a032",
   "metadata": {},
   "outputs": [],
   "source": [
    "appended = pd.concat([hek_gdf_dissolve, amendment97B_df], ignore_index=True)\n",
    "\n",
    "\n",
    "appended.rename(columns={'תאריך בקשה'                  : 'requestDate',\n",
    "                         'תאריך אישור הממונה על המרשם' : 'appovalDate',\n",
    "                         'תאריך אישור הרשם'            : 'registrationDate'},\n",
    "                inplace=True)\n",
    "\n",
    "\n",
    "appended['MISPAR_PNIA'].fillna(hek_gdf_dissolve['מספר פניה'], inplace=True)\n",
    "appended['MISPAR_PNIA'] = appended['MISPAR_PNIA'].astype(int)\n",
    "\n",
    "\n",
    "appended['PARCELS'].fillna(hek_gdf_dissolve['חלקות'], inplace=True)\n",
    "\n",
    "\n",
    "appended['GUSH_NUM'].fillna(hek_gdf_dissolve['גוש'], inplace=True)\n",
    "appended['GUSH_NUM'] = appended['GUSH_NUM'].astype(int)\n",
    "\n",
    "\n",
    "appended['GUSH_SUFFIX'].fillna(hek_gdf_dissolve['תת גוש'], inplace=True)\n",
    "appended['GUSH_SUFFIX'].fillna(0, inplace = True)\n",
    "appended['GUSH_SUFFIX'] = appended['GUSH_SUFFIX'].astype(int)\n",
    "\n",
    "\n",
    "appended['BlockName'] = appended['GUSH_NUM'].astype(str) + '/' + appended['GUSH_SUFFIX'].astype(str)\n",
    "\n",
    "\n",
    "appended.drop(columns=['מספר פניה','חלקות', 'חלקה', 'גוש', 'תת גוש'], inplace=True)\n",
    "appended.sort_values(['MISPAR_PNIA', 'requestDate'], inplace=True)\n",
    "appended.drop_duplicates(subset='MISPAR_PNIA', keep='first', inplace=True)\n",
    "\n",
    "\n",
    "del hek_gdf_dissolve"
   ]
  },
  {
   "cell_type": "markdown",
   "id": "6ae6aa8a-63fe-4e91-aed2-896d95513aac",
   "metadata": {},
   "source": [
    "<h1 style=\"text-align:right;font-size:125%\">\n",
    "איחוד עם טבלת זיהןי גושים לקבלת מזהה גוש"
   ]
  },
  {
   "cell_type": "code",
   "execution_count": null,
   "id": "1c7e750e-bffe-4c53-aef6-0102363e589c",
   "metadata": {},
   "outputs": [],
   "source": [
    "appended = appended.merge(Blocks, left_on = 'BlockName', right_on = 'Name', how = 'left')\n",
    "\n",
    "del Blocks"
   ]
  },
  {
   "cell_type": "markdown",
   "id": "2a979021-538b-4d5f-9d19-f80c1935e4dd",
   "metadata": {},
   "source": [
    "<h1 style=\"text-align:right; font-size:150%; color:#1c6ce6;\"> \n",
    "יצירת שכבה חדשה בהתאם לאפיון ✨"
   ]
  },
  {
   "cell_type": "code",
   "execution_count": null,
   "id": "547913e5-028c-4d11-b8d2-eca0ac74638e",
   "metadata": {},
   "outputs": [],
   "source": [
    "print('  7.d Defining new Layer')"
   ]
  },
  {
   "cell_type": "code",
   "execution_count": null,
   "id": "45e550f7-0d21-4454-b41e-3ce0bb563fef",
   "metadata": {},
   "outputs": [],
   "source": [
    "new_columns = np.dtype([\n",
    "                        (\"CPBUniqueID\", int),\n",
    "                        (\"BlockUniqueID\", int),\n",
    "                        (\"ProcessType\", int),\n",
    "                        (\"MapYear\", int),\n",
    "                        (\"ProcessName\", str),\n",
    "                        (\"GeodeticNetwork\", int),    #לא קיים שדה לייבוא\n",
    "                        (\"Status\", int),\n",
    "                        #(\"PlanName\", str),          #לא קיים שדה לייבוא\n",
    "                        #(\"SurveyorLicenseID\", int), #לא קיים שדה לייבוא\n",
    "                        (\"DataSource\", int),\n",
    "                        (\"geometry\", gpd.array.GeometryDtype)\n",
    "                        ])\n",
    "\n",
    "\n",
    "b97_new = gpd.GeoDataFrame(data = np.empty(0, dtype = new_columns),\n",
    "                           geometry = 'geometry',\n",
    "                           crs = 2039)\n",
    "\n",
    "del new_columns"
   ]
  },
  {
   "cell_type": "markdown",
   "id": "299933fa-d3ba-45c7-9053-02083cdad9e5",
   "metadata": {},
   "source": [
    "<h1 style=\"text-align:right;font-size:100%\">\n",
    "איכלוס שדות"
   ]
  },
  {
   "cell_type": "code",
   "execution_count": null,
   "id": "c9192f84-c646-4c93-9af7-50dc292db12f",
   "metadata": {},
   "outputs": [],
   "source": [
    "b97_new['geometry'] = appended['geometry']\n",
    "\n",
    "\n",
    "b97_new['CPBUniqueID'] = appended['MISPAR_PNIA'] + 6000000\n",
    "\n",
    "\n",
    "b97_new['ProcessName'] = appended['MISPAR_PNIA'].astype('str') + '/' + appended['BlockName'].astype('str')\n",
    "\n",
    "\n",
    "b97_new['BlockUniqueID'] = appended['BlockUniqueID'].fillna(0)\n",
    "b97_new['BlockUniqueID'] = b97_new['BlockUniqueID'].astype('Int64')\n",
    "\n",
    "\n",
    "b97_new['ProcessType'] = 6\n",
    "\n",
    "\n",
    "b97_new['MapYear'] = appended['appovalDate'].astype('datetime64[ns]').dt.year.astype('Int64')\n",
    "\n",
    "\n",
    "b97_new['GeodeticNetwork'] = 0\n",
    "\n",
    "\n",
    "b97_new['Status'] = appended['status'].fillna(14)\n",
    "b97_new['Status'] = b97_new['Status'].astype('Int64')\n",
    "\n",
    "\n",
    "#b97_new['PlanName'] = None\n",
    "\n",
    "\n",
    "#b97_new['SurveyorLicenseID'] = None\n",
    "\n",
    "\n",
    "b97_new['DataSource'] = np.where(~b97_new['geometry'].isna(), 5, 3)  #תהליך עם גיאומטריה מגיע מקובץ שרטוט, אחרת מגיע מדיגיטציה\n",
    "b97_new['DataSource'] = b97_new['DataSource'].fillna(3)\n",
    "b97_new['DataSource'] = b97_new['DataSource'].astype(int)"
   ]
  },
  {
   "cell_type": "code",
   "execution_count": null,
   "id": "063adc3e-0aba-4ae1-9bf9-ccda0a0205a5",
   "metadata": {},
   "outputs": [],
   "source": [
    "b97_new.sort_values('CPBUniqueID', inplace=True)\n",
    "\n",
    "b97_new = b97_new.to_crs(2039)\n",
    "\n",
    "del appended"
   ]
  },
  {
   "cell_type": "markdown",
   "id": "1240342c-6a0f-4698-8c98-8dc93ee1b759",
   "metadata": {
    "tags": []
   },
   "source": [
    "<h1 style=\"text-align:right; font-size:150%; color:#1c6ce6;\"> \n",
    "שמירת תוצאות 💾\n",
    "<h1 style=\"text-align:right; font-size:100%;\"> \n",
    "<h1 style=\"text-align:right; font-size:100%;\"> \n",
    "בחירת נתיב\n",
    "<h1 style=\"text-align:right; font-size:100%;\"> \n",
    "שמירה כטבלה\n",
    "<h1 style=\"text-align:right; font-size:100%;\"> \n",
    "שמירה כשכבה גיאוגרפית"
   ]
  },
  {
   "cell_type": "code",
   "execution_count": null,
   "id": "60f549a9-37ff-4442-9c21-4e3e92e743ef",
   "metadata": {},
   "outputs": [],
   "source": [
    "print('  7.e Exporting results to product folder')"
   ]
  },
  {
   "cell_type": "code",
   "execution_count": null,
   "id": "d906a756-3d84-4576-adfc-3dccca2c577c",
   "metadata": {},
   "outputs": [],
   "source": [
    "b97_new_geom = b97_new[~b97_new['geometry'].isna()]\n",
    "b97_new_no_geom = b97_new[b97_new['geometry'].isna()]"
   ]
  },
  {
   "cell_type": "code",
   "execution_count": null,
   "id": "834fde93-2937-41cd-b605-5a05aeb1ef1a",
   "metadata": {},
   "outputs": [],
   "source": [
    "no_geom_csv_dir = CNFG.CSVPath + 'Amendment97B_no_geom.csv'\n",
    "json_dir        = CNFG.JsonPath + 'Amendment97B_geom.geojson'\n",
    "\n",
    "\n",
    "b97_new_no_geom.drop(columns=['geometry']).to_csv(no_geom_csv_dir ,encoding = 'cp1255', index = False)\n",
    "\n",
    "\n",
    "b97_new_geom.to_file(json_dir, driver = 'GeoJSON')"
   ]
  },
  {
   "cell_type": "code",
   "execution_count": null,
   "id": "48bc7f33-746d-4950-9539-feb0d5993fb0",
   "metadata": {},
   "outputs": [],
   "source": [
    "subprocess.call([CNFG.BatchPath + 'Amendments97B-Save as Feature Class.bat']);"
   ]
  }
 ],
 "metadata": {
  "kernelspec": {
   "display_name": "Python 3 (ipykernel)",
   "language": "python",
   "name": "python3"
  },
  "language_info": {
   "codemirror_mode": {
    "name": "ipython",
    "version": 3
   },
   "file_extension": ".py",
   "mimetype": "text/x-python",
   "name": "python",
   "nbconvert_exporter": "python",
   "pygments_lexer": "ipython3",
   "version": "3.11.3"
  }
 },
 "nbformat": 4,
 "nbformat_minor": 5
}
