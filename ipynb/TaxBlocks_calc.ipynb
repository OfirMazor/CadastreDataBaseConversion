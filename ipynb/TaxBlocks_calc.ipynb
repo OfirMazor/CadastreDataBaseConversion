{
 "cells": [
  {
   "cell_type": "markdown",
   "id": "55078d53-435a-40f9-b906-0ab6a41f306b",
   "metadata": {},
   "source": [
    "<h1 style=\"background-color:#1c6ce6;\n",
    "           font-family:segoe ui;\n",
    "                color:#FFF9ED;\n",
    "           font-size:300%;\n",
    "           text-align:center;\n",
    "           border-radius:10px 10px;\"> \n",
    "💰 תהליך הסבת שכבת גושי שומה לבנק\"ל מודרני 💰 "
   ]
  },
  {
   "cell_type": "code",
   "execution_count": null,
   "id": "4ca99dd7-f377-4bc9-be07-5fb5c47b0f1f",
   "metadata": {},
   "outputs": [],
   "source": [
    "print('1. Tax Blocks Borders:')"
   ]
  },
  {
   "cell_type": "markdown",
   "id": "bcbc53d2-154a-420b-ab80-1847126b5c64",
   "metadata": {},
   "source": [
    "<h1 style=\"text-align:right; font-size:150%; color:#1c6ce6;\">\n",
    "ספריות 📚"
   ]
  },
  {
   "cell_type": "code",
   "execution_count": null,
   "id": "9a819565-90e1-4f39-ab4c-eed1b1b85cfb",
   "metadata": {
    "tags": []
   },
   "outputs": [],
   "source": [
    "import warnings\n",
    "warnings.filterwarnings('ignore')\n",
    "\n",
    "from configs import CNFG\n",
    "import numpy as np\n",
    "import pandas as pd\n",
    "import geopandas as gpd\n",
    "import subprocess"
   ]
  },
  {
   "cell_type": "markdown",
   "id": "5fcaa7c6-4337-459c-8915-86151d8f5ad7",
   "metadata": {},
   "source": [
    "<h1 style=\"text-align:right; font-size:150%; color:#1c6ce6;\">קריאת נתונים 📑 "
   ]
  },
  {
   "cell_type": "code",
   "execution_count": null,
   "id": "c24d8650-4ae4-4814-b3cd-5d15e4614244",
   "metadata": {},
   "outputs": [],
   "source": [
    "print('  1.a Reading inputs')"
   ]
  },
  {
   "cell_type": "markdown",
   "id": "b912a203-2db3-47e0-a97e-da61048bbe10",
   "metadata": {},
   "source": [
    "<h1 style=\"text-align:right;font-size:100%\">\n",
    "מספרי גושי שומא מתוך טבלת גושי שומא"
   ]
  },
  {
   "cell_type": "code",
   "execution_count": null,
   "id": "84a95bc5-ad28-4626-90d1-6a59252a118f",
   "metadata": {
    "tags": []
   },
   "outputs": [],
   "source": [
    "table_cols = ['GUSH_NUM']\n",
    "\n",
    "Tax_Table = pd.read_csv(CNFG.Oracle +'gush_shuma.csv', usecols = table_cols, encoding = 'cp1255')"
   ]
  },
  {
   "cell_type": "markdown",
   "id": "3796d64b-4f00-4c09-b094-f72fd4417ee8",
   "metadata": {},
   "source": [
    "<h1 style=\"text-align:right;font-size:100%\">\n",
    "שכבת גושי שומא מבוטלים (לפי חיתוך מול גושי קדסטר)"
   ]
  },
  {
   "cell_type": "code",
   "execution_count": null,
   "id": "cf9e0c42-2318-4583-94fc-1a1d90665cec",
   "metadata": {
    "tags": []
   },
   "outputs": [],
   "source": [
    "layer_cols = ['GUSH_NUM', 'geometry']\n",
    "\n",
    "Tax_Cancel = gpd.read_file(CNFG.CADSDE + 'SUB_GUSH_ALL_SHUMA.gdb', layer = 'SUB_GUSH_ALL_SHUMA_cancel', include_fields = layer_cols)"
   ]
  },
  {
   "cell_type": "markdown",
   "id": "363422a7-1f74-4b7d-b8a7-5179677e836f",
   "metadata": {},
   "source": [
    "<h1 style=\"text-align:right;font-size:100%\">\n",
    "שכבת גושי שומא ברצף (לפי חיתוך מול גושי קדסטר)"
   ]
  },
  {
   "cell_type": "code",
   "execution_count": null,
   "id": "2260a2d3-8e2f-4529-a50e-5ceaae25ba57",
   "metadata": {},
   "outputs": [],
   "source": [
    "Tax_remains = gpd.read_file(CNFG.CADSDE + 'SUB_GUSH_ALL_SHUMA.gdb', layer = 'SUB_GUSH_ALL_SHUMA_remains', include_fields = layer_cols)"
   ]
  },
  {
   "cell_type": "code",
   "execution_count": null,
   "id": "2dfceb28-018f-40cb-9730-f62e968f958a",
   "metadata": {
    "tags": []
   },
   "outputs": [],
   "source": [
    "del[table_cols, layer_cols]"
   ]
  },
  {
   "cell_type": "markdown",
   "id": "5d4db972-4c86-457b-ab20-272d569d2050",
   "metadata": {},
   "source": [
    "<h1 style=\"text-align:right; font-size:150%; color:#1c6ce6;\">\n",
    "עיבוד נתונים 🛠️\n",
    "<h1 style=\"text-align:right; font-size:125%\">\n",
    "<h1 style=\"text-align:right; font-size:100%\">\n",
    "הגדרת שדה שמתאר האם הגוש מבוטל או לא\n",
    "<h1 style=\"text-align:right; font-size:100%\">\n",
    "איחוד גושי שומא מבוטלים עם רציפים\n",
    "<h1 style=\"text-align:right; font-size:100%\">\n",
    "סינון טבלת גושי שומא לגושי שומא שלא נמצאים בשכבה המאוחדת\n",
    "<h1 style=\"text-align:right; font-size:100%\">\n",
    "איחוד של הרשימה עם האיחוד הקודם"
   ]
  },
  {
   "cell_type": "code",
   "execution_count": null,
   "id": "7462283d-91fd-4b3e-9516-2c67ee5767e7",
   "metadata": {},
   "outputs": [],
   "source": [
    "print('  1.b Cleaning data')"
   ]
  },
  {
   "cell_type": "code",
   "execution_count": null,
   "id": "ea50d2bf-0b4c-42c1-88d8-77a716e64074",
   "metadata": {},
   "outputs": [],
   "source": [
    "Tax_remains['IsCancel'] = False\n",
    "Tax_Cancel['IsCancel'] = True"
   ]
  },
  {
   "cell_type": "code",
   "execution_count": null,
   "id": "fa304611-cb2d-4e2b-b4d4-5163f4b18a88",
   "metadata": {},
   "outputs": [],
   "source": [
    "Tax_Layer = pd.concat([Tax_remains, Tax_Cancel], ignore_index = True)"
   ]
  },
  {
   "cell_type": "code",
   "execution_count": null,
   "id": "d837f4a4-05a8-4cae-aeaa-4f9df8b7f3d4",
   "metadata": {
    "tags": []
   },
   "outputs": [],
   "source": [
    "Tax_Table = Tax_Table[~Tax_Table['GUSH_NUM'].isin(Tax_Layer['GUSH_NUM'])]\n",
    "Tax_Layer = pd.concat([Tax_Layer, Tax_Table], ignore_index = True)\n",
    "\n",
    "del Tax_Table"
   ]
  },
  {
   "cell_type": "code",
   "execution_count": null,
   "id": "d6be6baa-7b02-4fc1-81eb-5fe58c7dafa8",
   "metadata": {},
   "outputs": [],
   "source": [
    "print('  1.c Data conversion')"
   ]
  },
  {
   "cell_type": "markdown",
   "id": "6c933007-7a84-4726-839d-99d80d81ae4e",
   "metadata": {},
   "source": [
    "<h1 style=\"text-align:right; font-size:100%\">\n",
    "שינוי שמות שדות"
   ]
  },
  {
   "cell_type": "code",
   "execution_count": null,
   "id": "e7495e97-6f4c-42cd-a4b5-c76965135461",
   "metadata": {
    "tags": []
   },
   "outputs": [],
   "source": [
    "Tax_Layer.rename(columns={'GUSH_NUM':'BlockNumber', 'GUSH_SUFFIX':'SubBlockNumber'}, inplace = True)"
   ]
  },
  {
   "cell_type": "markdown",
   "id": "25effb44-be15-4b05-82ce-d24717152a4e",
   "metadata": {},
   "source": [
    "<h1 style=\"text-align:right; font-size:100%\">\n",
    "הגדרת שדה שם מלא לגוש (כל תתי הגוש הם 0)"
   ]
  },
  {
   "cell_type": "code",
   "execution_count": null,
   "id": "73153ede-b2b7-4070-a475-89b429f89240",
   "metadata": {
    "tags": []
   },
   "outputs": [],
   "source": [
    "Tax_Layer['Name'] = Tax_Layer['BlockNumber'].astype(str) + '/0'"
   ]
  },
  {
   "cell_type": "markdown",
   "id": "fb31fbee-484b-421a-92ae-0ac1b6bdc5d6",
   "metadata": {},
   "source": [
    "<h1 style=\"text-align:right; font-size:100%\">\n",
    "הגדרת שדות של סוגי ומזהי תהליכים יוצרים ומבטלים"
   ]
  },
  {
   "cell_type": "code",
   "execution_count": null,
   "id": "33591844-d19b-40ae-ae96-ae2e39ed8050",
   "metadata": {
    "tags": []
   },
   "outputs": [],
   "source": [
    "Tax_Layer['CreatedByRecord'] = CNFG.FabricatedCreateProcessGUID\n",
    "\n",
    "\n",
    "retired_cond = (Tax_Layer['IsCancel'] == True) | (Tax_Layer['geometry'].isna())\n",
    "Tax_Layer['RetiredByRecord'] = np.where(retired_cond, CNFG.FabricatedCancelProcessGUID, None)\n",
    "Tax_Layer.drop(columns = 'IsCancel', inplace = True)"
   ]
  },
  {
   "cell_type": "markdown",
   "id": "a9efae27-bc8d-4a3e-8ecb-74eee4bc9ecd",
   "metadata": {},
   "source": [
    "<h1 style=\"text-align:right; font-size:100%\">\n",
    "הגדרת שדות נוספים להשלמת הטבלה"
   ]
  },
  {
   "cell_type": "code",
   "execution_count": null,
   "id": "6900ba13-b5f6-4d9a-b2f0-88e01c05a9d8",
   "metadata": {
    "tags": []
   },
   "outputs": [],
   "source": [
    "Tax_Layer['SubBlockNumber'] = 0"
   ]
  },
  {
   "cell_type": "code",
   "execution_count": null,
   "id": "a0a1bbd6-d8e6-4b9a-a9fe-912f8fb5673d",
   "metadata": {
    "tags": []
   },
   "outputs": [],
   "source": [
    "Tax_Layer['BlockStatus'] = 21 # סטאטוס לא מוסדר"
   ]
  },
  {
   "cell_type": "code",
   "execution_count": null,
   "id": "0e9cfd25-b3b8-4c38-a172-d7e3755f888f",
   "metadata": {},
   "outputs": [],
   "source": [
    "Tax_Layer['IsTax'] = 1 # כן"
   ]
  },
  {
   "cell_type": "code",
   "execution_count": null,
   "id": "526a783c-be79-49b7-b460-feaa64887948",
   "metadata": {},
   "outputs": [],
   "source": [
    "Tax_Layer['LandType'] = 2 #לא מוסדר"
   ]
  },
  {
   "cell_type": "code",
   "execution_count": null,
   "id": "41f6d28e-f414-4e6a-a773-12162da69b14",
   "metadata": {},
   "outputs": [],
   "source": [
    "Tax_Layer['IsJordanian'] = 0 # לא ירדני"
   ]
  },
  {
   "cell_type": "code",
   "execution_count": null,
   "id": "8e80bfc2-f94f-43ec-9a6e-88e6088cd820",
   "metadata": {},
   "outputs": [],
   "source": [
    "Tax_Layer['StatedAreaUnit'] = 109404 #Square Meter"
   ]
  },
  {
   "cell_type": "code",
   "execution_count": null,
   "id": "15503b17-4eab-480d-85f3-c215ea33be78",
   "metadata": {},
   "outputs": [],
   "source": [
    "Tax_Layer[['SetteledDate', 'UpdateDate', 'LastRegisterdParcel', 'LastParcel', 'LastSetteledParcel', 'LastCourtParcel']] = None"
   ]
  },
  {
   "cell_type": "code",
   "execution_count": null,
   "id": "81b65f49-556a-4a7c-97b8-1ad813768f7f",
   "metadata": {},
   "outputs": [],
   "source": [
    "columns_order = ['geometry', 'BlockNumber', 'SubBlockNumber',\n",
    "                 'Name', 'BlockStatus', 'StatedAreaUnit', 'IsJordanian', 'LandType',\n",
    "                 'SetteledDate', 'UpdateDate',\n",
    "                 'LastRegisterdParcel', 'LastParcel', 'LastSetteledParcel', 'LastCourtParcel',\n",
    "                 'CreatedByRecord', 'RetiredByRecord', 'IsTax']\n",
    "\n",
    "\n",
    "\n",
    "Tax_Layer = Tax_Layer[columns_order]"
   ]
  },
  {
   "cell_type": "markdown",
   "id": "f4871b7c-2479-44f6-99ff-6ab72fd90373",
   "metadata": {},
   "source": [
    "<h1 style=\"text-align:right; font-size:150%; color:#1c6ce6;\"> \n",
    "שמירת תוצאות 💾\n",
    "<h1 style=\"text-align:right; font-size:100%;\"> \n",
    "הוספת גושי השומא לתוצאות כל הגושים\n",
    "<h1 style=\"text-align:right; font-size:100%;\"> \n",
    "הפעלת יישום להכנסת כל הגושים לטבלת גושים בבנק\"ל"
   ]
  },
  {
   "cell_type": "code",
   "execution_count": null,
   "id": "1763aff6-4fb5-4692-bdf2-d1fac654c1e9",
   "metadata": {},
   "outputs": [],
   "source": [
    "print('  1.e Exporting results')"
   ]
  },
  {
   "cell_type": "code",
   "execution_count": null,
   "id": "0a5e75c3-2461-4dd5-91cd-bf3abc0f793d",
   "metadata": {
    "tags": []
   },
   "outputs": [],
   "source": [
    "Tax_Layer.to_file(CNFG.Results, layer = 'Blocks', driver = 'OpenFileGDB', engine = 'pyogrio', mode = 'a')"
   ]
  },
  {
   "cell_type": "code",
   "execution_count": null,
   "id": "d7c9c25a-aa86-43c5-bc3d-0d2636d1cc91",
   "metadata": {},
   "outputs": [],
   "source": [
    "print('  1.f  Appending results to Blocks')"
   ]
  },
  {
   "cell_type": "code",
   "execution_count": null,
   "id": "58ae789a-6a4e-4d05-8ad1-2872006f93ec",
   "metadata": {},
   "outputs": [],
   "source": [
    "subprocess.call([CNFG.BatchPath + 'Blocks-Save as Feature Class.bat']);"
   ]
  }
 ],
 "metadata": {
  "kernelspec": {
   "display_name": "Python 3 (ipykernel)",
   "language": "python",
   "name": "python3"
  },
  "language_info": {
   "codemirror_mode": {
    "name": "ipython",
    "version": 3
   },
   "file_extension": ".py",
   "mimetype": "text/x-python",
   "name": "python",
   "nbconvert_exporter": "python",
   "pygments_lexer": "ipython3",
   "version": "3.11.3"
  }
 },
 "nbformat": 4,
 "nbformat_minor": 5
}
