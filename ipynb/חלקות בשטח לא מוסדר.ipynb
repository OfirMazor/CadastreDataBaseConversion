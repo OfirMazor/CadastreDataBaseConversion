{
 "cells": [
  {
   "cell_type": "markdown",
   "id": "e5e1745e-9666-4332-9677-09726ce0a4d2",
   "metadata": {},
   "source": [
    "<h1 style=\"background-color: green;\n",
    "           font-family:segoe ui;\n",
    "                color:#FFF9ED;\n",
    "           font-size:300%;\n",
    "           text-align:center;\n",
    "           border-radius:10px 10px;\"> \n",
    "    🌐תהליך הסבת חלקות (דו-ממדיות) בשטח לא-מוסדר לבנק\"ל מודרני🌐"
   ]
  },
  {
   "cell_type": "code",
   "execution_count": null,
   "id": "199dd4c1-00a7-4312-9483-a5321e2b3d2b",
   "metadata": {},
   "outputs": [],
   "source": [
    "print('14. Unregistered Parcels Borders:')"
   ]
  },
  {
   "cell_type": "markdown",
   "id": "d4d3ddb0-c888-4aba-904c-916e53ae926b",
   "metadata": {},
   "source": [
    "<h1 style=\"text-align:right; font-size:150%; color:#1c6ce6;\">\n",
    "ספריות 📚"
   ]
  },
  {
   "cell_type": "code",
   "execution_count": null,
   "id": "5382a86d-8202-4337-aad3-2559c48211fa",
   "metadata": {
    "tags": [
     "Libraries"
    ]
   },
   "outputs": [],
   "source": [
    "import warnings\n",
    "warnings.filterwarnings('ignore')\n",
    "\n",
    "import numpy as np\n",
    "import datetime as dt\n",
    "import pandas as pd\n",
    "import geopandas as gpd\n",
    "import subprocess"
   ]
  },
  {
   "cell_type": "markdown",
   "id": "63df4355-bc19-4e5a-b8d7-4324cead6999",
   "metadata": {},
   "source": [
    "<h1 style=\"text-align:right; font-size:150%; color:#1c6ce6;\">קריאת נתונים 📑 "
   ]
  },
  {
   "cell_type": "code",
   "execution_count": null,
   "id": "7e5be94a-f963-405f-8976-0853936323fd",
   "metadata": {},
   "outputs": [],
   "source": [
    "RawData_Folder = r'\\\\mapi_shares\\MNCDB\\צוות מידע\\RawData/'\n",
    "\n",
    "today = dt.date.today()\n",
    "product_name = str(today.year) + str(today.month) + str(today.day) + '_ncdb.gdb'\n",
    "product_path = r'\\\\mapi_shares\\MNCDB\\צוות מידע\\תוצרים/' + product_name\n",
    "del [today, product_name]"
   ]
  },
  {
   "cell_type": "code",
   "execution_count": null,
   "id": "1975eefb-9ab8-47a4-8f33-c387d418fae6",
   "metadata": {},
   "outputs": [],
   "source": [
    "parcel_all_cols = ['PARCEL_ID', 'GUSH_NUM', 'GUSH_SUFFIX', 'PARCEL', 'STATUS', 'LEGAL_AREA', 'TALAR_NUMBER', 'TALAR_YEAR', 'geometry']\n",
    "\n",
    "parcel_all = gpd.read_file(RawData_Folder + 'ArcStorm\\PARCEL_ALL.gdb',\n",
    "                           layer          = 'PARCEL_ALL',\n",
    "                           include_fields = parcel_all_cols)\n",
    "\n",
    "\n",
    "parcel_all = parcel_all.to_crs(2039)\n",
    "\n",
    "del [parcel_all_cols]\n",
    "\n",
    "print('         input 1/3 read')"
   ]
  },
  {
   "cell_type": "code",
   "execution_count": null,
   "id": "99678c70-2378-49d2-90b1-638f70bff448",
   "metadata": {},
   "outputs": [],
   "source": [
    "cpb_cols = ['CPBUniqueID', 'ProcessName', 'ProcessType']\n",
    "\n",
    "cpb_layer = gpd.read_file(product_path,\n",
    "                          layer = 'CadasterProcessBorders',\n",
    "                          include_fields = cpb_cols,\n",
    "                          ignore_geometry = True)\n",
    "\n",
    "unreg_tazars = cpb_layer[cpb_layer['ProcessType'] == 11]\n",
    "\n",
    "\n",
    "del [cpb_cols, cpb_layer]\n",
    "\n",
    "print('         input 2/3 read')"
   ]
  },
  {
   "cell_type": "code",
   "execution_count": null,
   "id": "d71a0751-1b96-48d8-aed8-22c4e2af2d41",
   "metadata": {},
   "outputs": [],
   "source": [
    "Blocks_cols = ['BlockNumber', 'SubBlockNumber', 'BlockUniqueID']\n",
    "\n",
    "Blocks = gpd.read_file(product_path,\n",
    "                       layer = 'Blocks',\n",
    "                       include_fields = Blocks_cols,\n",
    "                       ignore_geometry = True)\n",
    "\n",
    "Blocks = Blocks.astype(int)\n",
    "\n",
    "\n",
    "del[Blocks_cols, RawData_Folder, product_path]\n",
    "\n",
    "print('         input 3/3 read')"
   ]
  },
  {
   "cell_type": "markdown",
   "id": "09473db5-584c-491d-b45d-757f61d15bb9",
   "metadata": {},
   "source": [
    "<h1 style=\"text-align:right; font-size:150%; color:#1c6ce6;\">\n",
    "עיבוד נתונים 🛠️"
   ]
  },
  {
   "cell_type": "code",
   "execution_count": null,
   "id": "ee60e617-7340-425d-857a-7fa4ca0b6715",
   "metadata": {},
   "outputs": [],
   "source": [
    "registered_status = [1, 3, 6, 16]\n",
    "\n",
    "unreg_parcels = parcel_all[~parcel_all['STATUS'].isin(registered_status)]\n",
    "unreg_parcels.drop(columns='STATUS', inplace=True)\n",
    "\n",
    "del registered_status, parcel_all"
   ]
  },
  {
   "cell_type": "code",
   "execution_count": null,
   "id": "de410080-d781-475b-b8ce-a60626820d54",
   "metadata": {},
   "outputs": [],
   "source": [
    "unreg_parcels[['TALAR_NUMBER', 'TALAR_YEAR']] = unreg_parcels[['TALAR_NUMBER', 'TALAR_YEAR']].fillna(0)\n",
    "\n",
    "unreg_parcels['ProcessName'] = unreg_parcels['TALAR_NUMBER'].astype(str) + '/' + unreg_parcels['TALAR_YEAR'].astype(str)\n",
    "unreg_parcels['ProcessName'] = unreg_parcels['ProcessName'].replace('0/0', np.nan)\n",
    "\n",
    "unreg_parcels.drop(columns=['TALAR_NUMBER', 'TALAR_YEAR'], inplace = True)\n",
    "\n",
    "unreg_parcels = unreg_parcels.merge(unreg_tazars, on = 'ProcessName', how = 'left')"
   ]
  },
  {
   "cell_type": "code",
   "execution_count": null,
   "id": "02cc06f8-19c4-4fc9-ad75-bd90079eed49",
   "metadata": {},
   "outputs": [],
   "source": [
    "unreg_parcels['GUSH_SUFFIX'] = unreg_parcels['GUSH_SUFFIX'].fillna(0)\n",
    "unreg_parcels['GUSH_NUM'] = unreg_parcels['GUSH_NUM'].astype(int)\n",
    "unreg_parcels['GUSH_SUFFIX'] = unreg_parcels['GUSH_SUFFIX'].astype(int)\n",
    "unreg_parcels['BlockName'] = unreg_parcels['GUSH_NUM'].astype(str) + '_' + unreg_parcels['GUSH_SUFFIX'].astype(str)\n",
    "\n",
    "Blocks['BlockName'] = Blocks['BlockNumber'].astype(str) + '_' + Blocks['SubBlockNumber'].astype(str)\n",
    "\n",
    "unreg_parcels = unreg_parcels.merge(Blocks, on = 'BlockName', how = 'left')\n",
    "unreg_parcels['BlockUniqueID'] = unreg_parcels['BlockUniqueID'].astype('Int64')\n",
    "unreg_parcels.drop(columns=['GUSH_NUM', 'GUSH_SUFFIX', 'BlockName', 'BlockNumber', 'SubBlockNumber'], inplace = True)"
   ]
  },
  {
   "cell_type": "markdown",
   "id": "aaefd30e-3fdc-4880-93ae-fcf62753ebcf",
   "metadata": {},
   "source": [
    "<h1 style=\"text-align:right; font-size:150%; color:#1c6ce6;\"> \n",
    "יצירת שכבה חדשה בהתאם לאפיון ✨"
   ]
  },
  {
   "cell_type": "code",
   "execution_count": null,
   "id": "f9781d86-d4ea-4179-8fa4-a3b18976c00a",
   "metadata": {},
   "outputs": [],
   "source": []
  },
  {
   "cell_type": "markdown",
   "id": "5613d9bc-eb7c-4ab4-90e1-ebb9e4421590",
   "metadata": {},
   "source": [
    "<h1 style=\"text-align:right; font-size:150%; color:#1c6ce6;\"> \n",
    "שמירת תוצאות 💾\n",
    "<h1 style=\"text-align:right; font-size:100%;\"> \n",
    "<h1 style=\"text-align:right; font-size:100%;\"> \n",
    "בחירת נתיב\n",
    "<h1 style=\"text-align:right; font-size:100%;\"> \n",
    "שמירה כטבלה\n",
    "<h1 style=\"text-align:right; font-size:100%;\"> \n",
    "שמירה כשכבה גיאוגרפית"
   ]
  },
  {
   "cell_type": "code",
   "execution_count": null,
   "id": "652fa929-17c3-4401-ba0c-ee3f66f79989",
   "metadata": {},
   "outputs": [],
   "source": []
  }
 ],
 "metadata": {
  "kernelspec": {
   "display_name": "Python 3",
   "language": "python",
   "name": "python3"
  },
  "language_info": {
   "codemirror_mode": {
    "name": "ipython",
    "version": 3
   },
   "file_extension": ".py",
   "mimetype": "text/x-python",
   "name": "python",
   "nbconvert_exporter": "python",
   "pygments_lexer": "ipython3",
   "version": "3.9.4"
  }
 },
 "nbformat": 4,
 "nbformat_minor": 5
}
